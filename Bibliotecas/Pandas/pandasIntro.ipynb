{
 "cells": [
  {
   "cell_type": "code",
   "execution_count": null,
   "metadata": {},
   "outputs": [],
   "source": [
    "import pandas as pd\n",
    "## os principais comandos no pandas em Python"
   ]
  },
  {
   "cell_type": "code",
   "execution_count": 15,
   "metadata": {},
   "outputs": [
    {
     "name": "stdout",
     "output_type": "stream",
     "text": [
      "{'data': ['15/10/2022', '16/10/2022', '17/10/2022', '17/10/2022'], 'valor': [500, 300, 200, 100], 'produto': ['rivotril solução', 'sertralina 50mg', 'pristiq 50mg', 'zoloft 50mg'], 'quantidade': [10, 15, 5, 250]}\n"
     ]
    }
   ],
   "source": [
    "# uma variável (objeto) dicionário em Python\n",
    "vendas = {\n",
    "    'data': ['15/10/2022', '16/10/2022', '17/10/2022', '17/10/2022'],\n",
    "    'valor': [500, 300, 200, 100 ],\n",
    "    'produto': ['rivotril solução', 'sertralina 50mg', 'pristiq 50mg', 'zoloft 50mg'],\n",
    "    'quantidade': [10, 15, 5, 250], \n",
    "}\n",
    "\n",
    "print(vendas)"
   ]
  },
  {
   "cell_type": "code",
   "execution_count": 16,
   "metadata": {},
   "outputs": [],
   "source": [
    "# transformando o dicionário vendas em um DataFrame\n",
    "vendas_df = pd.DataFrame(vendas)"
   ]
  },
  {
   "cell_type": "code",
   "execution_count": 17,
   "metadata": {},
   "outputs": [
    {
     "data": {
      "text/html": [
       "<div>\n",
       "<style scoped>\n",
       "    .dataframe tbody tr th:only-of-type {\n",
       "        vertical-align: middle;\n",
       "    }\n",
       "\n",
       "    .dataframe tbody tr th {\n",
       "        vertical-align: top;\n",
       "    }\n",
       "\n",
       "    .dataframe thead th {\n",
       "        text-align: right;\n",
       "    }\n",
       "</style>\n",
       "<table border=\"1\" class=\"dataframe\">\n",
       "  <thead>\n",
       "    <tr style=\"text-align: right;\">\n",
       "      <th></th>\n",
       "      <th>data</th>\n",
       "      <th>valor</th>\n",
       "      <th>produto</th>\n",
       "      <th>quantidade</th>\n",
       "    </tr>\n",
       "  </thead>\n",
       "  <tbody>\n",
       "    <tr>\n",
       "      <th>0</th>\n",
       "      <td>15/10/2022</td>\n",
       "      <td>500</td>\n",
       "      <td>rivotril solução</td>\n",
       "      <td>10</td>\n",
       "    </tr>\n",
       "    <tr>\n",
       "      <th>1</th>\n",
       "      <td>16/10/2022</td>\n",
       "      <td>300</td>\n",
       "      <td>sertralina 50mg</td>\n",
       "      <td>15</td>\n",
       "    </tr>\n",
       "    <tr>\n",
       "      <th>2</th>\n",
       "      <td>17/10/2022</td>\n",
       "      <td>200</td>\n",
       "      <td>pristiq 50mg</td>\n",
       "      <td>5</td>\n",
       "    </tr>\n",
       "    <tr>\n",
       "      <th>3</th>\n",
       "      <td>17/10/2022</td>\n",
       "      <td>100</td>\n",
       "      <td>zoloft 50mg</td>\n",
       "      <td>250</td>\n",
       "    </tr>\n",
       "  </tbody>\n",
       "</table>\n",
       "</div>"
      ],
      "text/plain": [
       "         data  valor           produto  quantidade\n",
       "0  15/10/2022    500  rivotril solução          10\n",
       "1  16/10/2022    300   sertralina 50mg          15\n",
       "2  17/10/2022    200      pristiq 50mg           5\n",
       "3  17/10/2022    100       zoloft 50mg         250"
      ]
     },
     "metadata": {},
     "output_type": "display_data"
    }
   ],
   "source": [
    "display(vendas_df)"
   ]
  },
  {
   "cell_type": "code",
   "execution_count": null,
   "metadata": {},
   "outputs": [],
   "source": [
    "# selecionando um único valor do data frame\n",
    "vendas_df['valor'][1] # seleciona o valor 300 da coluna valor indice 1\n",
    "vendas_df['valor'][0] # seleciona o valor 500 da coluna valor indice 0"
   ]
  },
  {
   "cell_type": "code",
   "execution_count": 20,
   "metadata": {},
   "outputs": [
    {
     "data": {
      "text/plain": [
       "'sertralina 50mg'"
      ]
     },
     "execution_count": 20,
     "metadata": {},
     "output_type": "execute_result"
    }
   ],
   "source": [
    "# podemos usar tbm o .at['indice','coluna']\n",
    "vendas_df.at[0, 'produto'] # retorna rivotril solução\n",
    "vendas_df.at[1, 'produto'] # retorna sertralina solução"
   ]
  },
  {
   "cell_type": "code",
   "execution_count": null,
   "metadata": {},
   "outputs": [],
   "source": []
  },
  {
   "cell_type": "code",
   "execution_count": null,
   "metadata": {},
   "outputs": [],
   "source": []
  },
  {
   "cell_type": "code",
   "execution_count": null,
   "metadata": {},
   "outputs": [],
   "source": []
  }
 ],
 "metadata": {
  "kernelspec": {
   "display_name": "Python 3.10.5 64-bit",
   "language": "python",
   "name": "python3"
  },
  "language_info": {
   "codemirror_mode": {
    "name": "ipython",
    "version": 3
   },
   "file_extension": ".py",
   "mimetype": "text/x-python",
   "name": "python",
   "nbconvert_exporter": "python",
   "pygments_lexer": "ipython3",
   "version": "3.10.5"
  },
  "orig_nbformat": 4,
  "vscode": {
   "interpreter": {
    "hash": "369f2c481f4da34e4445cda3fffd2e751bd1c4d706f27375911949ba6bb62e1c"
   }
  }
 },
 "nbformat": 4,
 "nbformat_minor": 2
}
