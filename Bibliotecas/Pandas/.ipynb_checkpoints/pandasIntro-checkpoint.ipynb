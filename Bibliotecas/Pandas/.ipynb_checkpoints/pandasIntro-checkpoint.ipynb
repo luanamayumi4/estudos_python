{
 "cells": [
  {
   "cell_type": "code",
   "execution_count": 1,
   "metadata": {},
   "outputs": [],
   "source": [
    "import pandas as pd\n",
    "## os principais comandos no pandas em Python"
   ]
  },
  {
   "cell_type": "code",
   "execution_count": null,
   "metadata": {},
   "outputs": [],
   "source": [
    "# uma variável (objeto) dicionário em Python\n",
    "vendas = {\n",
    "    'data': ['15/10/2022', '16/10/2022', '17/10/2022', '17/10/2022'],\n",
    "    'valor': [500, 300, 200, 100 ],\n",
    "    'produto': ['rivotril solução', 'sertralina 50mg', 'pristiq 50mg', 'zoloft 50mg'],\n",
    "    'quantidade': [10, 15, 5, 250], \n",
    "}\n",
    "\n",
    "print(vendas)"
   ]
  },
  {
   "cell_type": "code",
   "execution_count": null,
   "metadata": {},
   "outputs": [],
   "source": [
    "# transformando o dicionário vendas em um DataFrame\n",
    "vendas_df = pd.DataFrame(vendas)"
   ]
  },
  {
   "cell_type": "code",
   "execution_count": null,
   "metadata": {},
   "outputs": [],
   "source": [
    "display(vendas_df)"
   ]
  },
  {
   "cell_type": "code",
   "execution_count": null,
   "metadata": {},
   "outputs": [],
   "source": [
    "# selecionando um único valor do data frame\n",
    "vendas_df['valor'][1] # seleciona o valor 300 da coluna valor indice 1\n",
    "vendas_df['valor'][0] # seleciona o valor 500 da coluna valor indice 0"
   ]
  },
  {
   "cell_type": "code",
   "execution_count": null,
   "metadata": {},
   "outputs": [],
   "source": [
    "# podemos usar tbm o .at['indice','coluna']\n",
    "vendas_df.at[0, 'produto'] # retorna rivotril solução\n",
    "vendas_df.at[1, 'produto'] # retorna sertralina solução\n",
    "vendas_df.at[2, 'produto'] # retorna pristiq 50mg\n",
    "vendas_df.at[3, 'produto'] # retorna zoloft 50mg "
   ]
  },
  {
   "cell_type": "code",
   "execution_count": null,
   "metadata": {},
   "outputs": [],
   "source": [
    " # Funções loc e iloc do Python\n",
    " \n",
    " vendas_df.loc[2]"
   ]
  },
  {
   "cell_type": "code",
   "execution_count": null,
   "metadata": {},
   "outputs": [],
   "source": [
    "vendas_df.iloc[0:2] # podemos usar o slice no iloc para selecionar linhas"
   ]
  },
  {
   "cell_type": "code",
   "execution_count": null,
   "metadata": {},
   "outputs": [],
   "source": [
    "dados = [[1, 3, 6], [6, 7, 10], [12, 15, 16], [20, 21, 25]]\n",
    "dados = pd.DataFrame(dados)\n",
    "display(dados)"
   ]
  },
  {
   "cell_type": "code",
   "execution_count": null,
   "metadata": {},
   "outputs": [],
   "source": [
    "dados[dados[0].between(4, 5)]"
   ]
  },
  {
   "cell_type": "code",
   "execution_count": null,
   "metadata": {},
   "outputs": [],
   "source": [
    "dados[~dados[0].between(4, 5)]"
   ]
  },
  {
   "cell_type": "code",
   "execution_count": null,
   "metadata": {},
   "outputs": [],
   "source": [
    "dados[dados.sum(axis=1) == 10] # podemos selecionar a linha cuja a soma seja igual a 10"
   ]
  },
  {
   "cell_type": "code",
   "execution_count": null,
   "metadata": {},
   "outputs": [],
   "source": [
    "# Filtrando strings no python"
   ]
  },
  {
   "cell_type": "code",
   "execution_count": null,
   "metadata": {},
   "outputs": [],
   "source": [
    "linguagens = { 'linguagem': ['C++', 'C#', 'JAVA', 'JavaScript', 'Python'],\n",
    "              'Conhecimento': ['Básico', 'Básico', 'Naive', 'Iniciante', 'Intermediário'],\n",
    "              'Estuda': ['Já estudei', 'Já estudei', 'Nunca estudei', 'Já estudei', 'Estudo']}"
   ]
  },
  {
   "cell_type": "code",
   "execution_count": null,
   "metadata": {},
   "outputs": [],
   "source": [
    "linguagens = pd.DataFrame(linguagens)\n",
    "display(linguagens)"
   ]
  },
  {
   "cell_type": "code",
   "execution_count": null,
   "metadata": {},
   "outputs": [],
   "source": [
    "linguagens[linguagens['linguagem'] == 'Python'] # seleciona de acordo com o valor "
   ]
  },
  {
   "cell_type": "code",
   "execution_count": null,
   "metadata": {},
   "outputs": [],
   "source": [
    "linguagens[linguagens['Estuda'].isin(['Já estudei', 'Estudo'])]"
   ]
  },
  {
   "cell_type": "code",
   "execution_count": 2,
   "metadata": {},
   "outputs": [
    {
     "data": {
      "text/plain": [
       "{'Categoria': ['Música/Filme/Games',\n",
       "  'Música/Filme/Games',\n",
       "  'Automotivo',\n",
       "  'Automotivo',\n",
       "  'Automotivo',\n",
       "  'Automotivo',\n",
       "  'Automotivo',\n",
       "  'Automotivo'],\n",
       " 'Moeda': ['US', 'US', 'US', 'US', 'US', 'US', 'US', 'US'],\n",
       " 'ClassVend': [3249, 3249, 3115, 3115, 3115, 3115, 3115, 3115],\n",
       " 'Duração': [5, 5, 7, 7, 7, 7, 7, 7],\n",
       " 'DiaFinal': ['Seg', 'Seg', 'Ter', 'Ter', 'Ter', 'Ter', 'Ter', 'Ter'],\n",
       " 'PreçoFim': [0.01, 0.01, 0.01, 0.01, 0.01, 0.01, 0.01, 0.01],\n",
       " 'PreçoInicio': [0.01, 0.01, 0.01, 0.01, 0.01, 0.01, 0.01, 0.01],\n",
       " 'Competitivo?': [0, 0, 0, 0, 0, 0, 1, 1]}"
      ]
     },
     "execution_count": 2,
     "metadata": {},
     "output_type": "execute_result"
    }
   ],
   "source": [
    "# Transformando uma tabela em um DataFrame\n",
    "exemplo = {'Categoria':['Música/Filme/Games', 'Música/Filme/Games', 'Automotivo', 'Automotivo', 'Automotivo', 'Automotivo', 'Automotivo', 'Automotivo'],\n",
    "          'Moeda':['US', 'US', 'US', 'US', 'US', 'US','US', 'US'],\n",
    "          'ClassVend':[3249, 3249, 3115, 3115, 3115, 3115, 3115, 3115],\n",
    "          'Duração':[5, 5, 7, 7, 7, 7, 7, 7],\n",
    "          'DiaFinal':['Seg', 'Seg', 'Ter', 'Ter', 'Ter', 'Ter', 'Ter', 'Ter'],\n",
    "          'PreçoFim':[0.01, 0.01, 0.01, 0.01, 0.01, 0.01, 0.01, 0.01],\n",
    "          'PreçoInicio':[0.01, 0.01, 0.01, 0.01, 0.01, 0.01, 0.01, 0.01],\n",
    "          'Competitivo?':[0, 0, 0, 0, 0, 0, 1, 1]}\n",
    "exemplo"
   ]
  },
  {
   "cell_type": "code",
   "execution_count": 3,
   "metadata": {},
   "outputs": [
    {
     "data": {
      "text/html": [
       "<div>\n",
       "<style scoped>\n",
       "    .dataframe tbody tr th:only-of-type {\n",
       "        vertical-align: middle;\n",
       "    }\n",
       "\n",
       "    .dataframe tbody tr th {\n",
       "        vertical-align: top;\n",
       "    }\n",
       "\n",
       "    .dataframe thead th {\n",
       "        text-align: right;\n",
       "    }\n",
       "</style>\n",
       "<table border=\"1\" class=\"dataframe\">\n",
       "  <thead>\n",
       "    <tr style=\"text-align: right;\">\n",
       "      <th></th>\n",
       "      <th>Categoria</th>\n",
       "      <th>Moeda</th>\n",
       "      <th>ClassVend</th>\n",
       "      <th>Duração</th>\n",
       "      <th>DiaFinal</th>\n",
       "      <th>PreçoFim</th>\n",
       "      <th>PreçoInicio</th>\n",
       "      <th>Competitivo?</th>\n",
       "    </tr>\n",
       "  </thead>\n",
       "  <tbody>\n",
       "    <tr>\n",
       "      <th>0</th>\n",
       "      <td>Música/Filme/Games</td>\n",
       "      <td>US</td>\n",
       "      <td>3249</td>\n",
       "      <td>5</td>\n",
       "      <td>Seg</td>\n",
       "      <td>0.01</td>\n",
       "      <td>0.01</td>\n",
       "      <td>0</td>\n",
       "    </tr>\n",
       "    <tr>\n",
       "      <th>1</th>\n",
       "      <td>Música/Filme/Games</td>\n",
       "      <td>US</td>\n",
       "      <td>3249</td>\n",
       "      <td>5</td>\n",
       "      <td>Seg</td>\n",
       "      <td>0.01</td>\n",
       "      <td>0.01</td>\n",
       "      <td>0</td>\n",
       "    </tr>\n",
       "    <tr>\n",
       "      <th>2</th>\n",
       "      <td>Automotivo</td>\n",
       "      <td>US</td>\n",
       "      <td>3115</td>\n",
       "      <td>7</td>\n",
       "      <td>Ter</td>\n",
       "      <td>0.01</td>\n",
       "      <td>0.01</td>\n",
       "      <td>0</td>\n",
       "    </tr>\n",
       "    <tr>\n",
       "      <th>3</th>\n",
       "      <td>Automotivo</td>\n",
       "      <td>US</td>\n",
       "      <td>3115</td>\n",
       "      <td>7</td>\n",
       "      <td>Ter</td>\n",
       "      <td>0.01</td>\n",
       "      <td>0.01</td>\n",
       "      <td>0</td>\n",
       "    </tr>\n",
       "    <tr>\n",
       "      <th>4</th>\n",
       "      <td>Automotivo</td>\n",
       "      <td>US</td>\n",
       "      <td>3115</td>\n",
       "      <td>7</td>\n",
       "      <td>Ter</td>\n",
       "      <td>0.01</td>\n",
       "      <td>0.01</td>\n",
       "      <td>0</td>\n",
       "    </tr>\n",
       "    <tr>\n",
       "      <th>5</th>\n",
       "      <td>Automotivo</td>\n",
       "      <td>US</td>\n",
       "      <td>3115</td>\n",
       "      <td>7</td>\n",
       "      <td>Ter</td>\n",
       "      <td>0.01</td>\n",
       "      <td>0.01</td>\n",
       "      <td>0</td>\n",
       "    </tr>\n",
       "    <tr>\n",
       "      <th>6</th>\n",
       "      <td>Automotivo</td>\n",
       "      <td>US</td>\n",
       "      <td>3115</td>\n",
       "      <td>7</td>\n",
       "      <td>Ter</td>\n",
       "      <td>0.01</td>\n",
       "      <td>0.01</td>\n",
       "      <td>1</td>\n",
       "    </tr>\n",
       "    <tr>\n",
       "      <th>7</th>\n",
       "      <td>Automotivo</td>\n",
       "      <td>US</td>\n",
       "      <td>3115</td>\n",
       "      <td>7</td>\n",
       "      <td>Ter</td>\n",
       "      <td>0.01</td>\n",
       "      <td>0.01</td>\n",
       "      <td>1</td>\n",
       "    </tr>\n",
       "  </tbody>\n",
       "</table>\n",
       "</div>"
      ],
      "text/plain": [
       "            Categoria Moeda  ClassVend  Duração DiaFinal  PreçoFim  \\\n",
       "0  Música/Filme/Games    US       3249        5      Seg      0.01   \n",
       "1  Música/Filme/Games    US       3249        5      Seg      0.01   \n",
       "2          Automotivo    US       3115        7      Ter      0.01   \n",
       "3          Automotivo    US       3115        7      Ter      0.01   \n",
       "4          Automotivo    US       3115        7      Ter      0.01   \n",
       "5          Automotivo    US       3115        7      Ter      0.01   \n",
       "6          Automotivo    US       3115        7      Ter      0.01   \n",
       "7          Automotivo    US       3115        7      Ter      0.01   \n",
       "\n",
       "   PreçoInicio  Competitivo?  \n",
       "0         0.01             0  \n",
       "1         0.01             0  \n",
       "2         0.01             0  \n",
       "3         0.01             0  \n",
       "4         0.01             0  \n",
       "5         0.01             0  \n",
       "6         0.01             1  \n",
       "7         0.01             1  "
      ]
     },
     "metadata": {},
     "output_type": "display_data"
    }
   ],
   "source": [
    "exemplo = pd.DataFrame(exemplo)\n",
    "display(exemplo)"
   ]
  },
  {
   "cell_type": "code",
   "execution_count": null,
   "metadata": {},
   "outputs": [],
   "source": []
  }
 ],
 "metadata": {
  "kernelspec": {
   "display_name": "Python 3 (ipykernel)",
   "language": "python",
   "name": "python3"
  },
  "language_info": {
   "codemirror_mode": {
    "name": "ipython",
    "version": 3
   },
   "file_extension": ".py",
   "mimetype": "text/x-python",
   "name": "python",
   "nbconvert_exporter": "python",
   "pygments_lexer": "ipython3",
   "version": "3.9.12"
  },
  "vscode": {
   "interpreter": {
    "hash": "369f2c481f4da34e4445cda3fffd2e751bd1c4d706f27375911949ba6bb62e1c"
   }
  }
 },
 "nbformat": 4,
 "nbformat_minor": 2
}
