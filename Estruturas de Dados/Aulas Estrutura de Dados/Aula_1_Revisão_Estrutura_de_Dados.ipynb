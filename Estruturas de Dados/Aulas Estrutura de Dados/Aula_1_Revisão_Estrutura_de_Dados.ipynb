{
  "cells": [
    {
      "cell_type": "markdown",
      "source": [
        "# Estrutura de Dados\n",
        "## Como apresentar da melhor maneira os dados em memória RAM"
      ],
      "metadata": {
        "id": "4p1ZZ2Rgim0K"
      }
    },
    {
      "cell_type": "code",
      "source": [
        "lista = [123, 15.8, \"Python\",'Uma linguagem dinâmica'] #aceita mais de um tipo de dado (lista built in)\n",
        "lista\n",
        "\n",
        "dicionario = {\n",
        "          \"Linguagem\":['Python', 'Java', 'JavaScript', 'C++'],\n",
        "          \"Dinâmica\":['Sim', 'Não', 'Não', 'Não']\n",
        "}\n",
        "dicionario"
      ],
      "metadata": {
        "id": "bgGOK6N_iTWX",
        "outputId": "6a56af2b-aad8-4e9c-8c41-5c945c7b9abd",
        "colab": {
          "base_uri": "https://localhost:8080/"
        }
      },
      "execution_count": null,
      "outputs": [
        {
          "output_type": "execute_result",
          "data": {
            "text/plain": [
              "{'Linguagem': ['Python', 'Java', 'JavaScript', 'C++'],\n",
              " 'Dinâmica': ['Sim', 'Não', 'Não', 'Não']}"
            ]
          },
          "metadata": {},
          "execution_count": 7
        }
      ]
    },
    {
      "cell_type": "code",
      "source": [
        "import pandas as pd\n",
        "\n",
        "dicionario = pd.DataFrame(dicionario)"
      ],
      "metadata": {
        "id": "0zUSvQfbl2TK"
      },
      "execution_count": null,
      "outputs": []
    },
    {
      "cell_type": "code",
      "source": [
        "display(dicionario)"
      ],
      "metadata": {
        "id": "SSLTLMSDl9Om",
        "outputId": "660a16cd-61a7-4214-ae40-16cd5c22c44b",
        "colab": {
          "base_uri": "https://localhost:8080/",
          "height": 175
        }
      },
      "execution_count": null,
      "outputs": [
        {
          "output_type": "display_data",
          "data": {
            "text/plain": [
              "    Linguagem Dinâmica\n",
              "0      Python      Sim\n",
              "1        Java      Não\n",
              "2  JavaScript      Não\n",
              "3         C++      Não"
            ],
            "text/html": [
              "\n",
              "  <div id=\"df-8946ba7f-d941-4dd8-bfac-a378990b0bf1\">\n",
              "    <div class=\"colab-df-container\">\n",
              "      <div>\n",
              "<style scoped>\n",
              "    .dataframe tbody tr th:only-of-type {\n",
              "        vertical-align: middle;\n",
              "    }\n",
              "\n",
              "    .dataframe tbody tr th {\n",
              "        vertical-align: top;\n",
              "    }\n",
              "\n",
              "    .dataframe thead th {\n",
              "        text-align: right;\n",
              "    }\n",
              "</style>\n",
              "<table border=\"1\" class=\"dataframe\">\n",
              "  <thead>\n",
              "    <tr style=\"text-align: right;\">\n",
              "      <th></th>\n",
              "      <th>Linguagem</th>\n",
              "      <th>Dinâmica</th>\n",
              "    </tr>\n",
              "  </thead>\n",
              "  <tbody>\n",
              "    <tr>\n",
              "      <th>0</th>\n",
              "      <td>Python</td>\n",
              "      <td>Sim</td>\n",
              "    </tr>\n",
              "    <tr>\n",
              "      <th>1</th>\n",
              "      <td>Java</td>\n",
              "      <td>Não</td>\n",
              "    </tr>\n",
              "    <tr>\n",
              "      <th>2</th>\n",
              "      <td>JavaScript</td>\n",
              "      <td>Não</td>\n",
              "    </tr>\n",
              "    <tr>\n",
              "      <th>3</th>\n",
              "      <td>C++</td>\n",
              "      <td>Não</td>\n",
              "    </tr>\n",
              "  </tbody>\n",
              "</table>\n",
              "</div>\n",
              "      <button class=\"colab-df-convert\" onclick=\"convertToInteractive('df-8946ba7f-d941-4dd8-bfac-a378990b0bf1')\"\n",
              "              title=\"Convert this dataframe to an interactive table.\"\n",
              "              style=\"display:none;\">\n",
              "        \n",
              "  <svg xmlns=\"http://www.w3.org/2000/svg\" height=\"24px\"viewBox=\"0 0 24 24\"\n",
              "       width=\"24px\">\n",
              "    <path d=\"M0 0h24v24H0V0z\" fill=\"none\"/>\n",
              "    <path d=\"M18.56 5.44l.94 2.06.94-2.06 2.06-.94-2.06-.94-.94-2.06-.94 2.06-2.06.94zm-11 1L8.5 8.5l.94-2.06 2.06-.94-2.06-.94L8.5 2.5l-.94 2.06-2.06.94zm10 10l.94 2.06.94-2.06 2.06-.94-2.06-.94-.94-2.06-.94 2.06-2.06.94z\"/><path d=\"M17.41 7.96l-1.37-1.37c-.4-.4-.92-.59-1.43-.59-.52 0-1.04.2-1.43.59L10.3 9.45l-7.72 7.72c-.78.78-.78 2.05 0 2.83L4 21.41c.39.39.9.59 1.41.59.51 0 1.02-.2 1.41-.59l7.78-7.78 2.81-2.81c.8-.78.8-2.07 0-2.86zM5.41 20L4 18.59l7.72-7.72 1.47 1.35L5.41 20z\"/>\n",
              "  </svg>\n",
              "      </button>\n",
              "      \n",
              "  <style>\n",
              "    .colab-df-container {\n",
              "      display:flex;\n",
              "      flex-wrap:wrap;\n",
              "      gap: 12px;\n",
              "    }\n",
              "\n",
              "    .colab-df-convert {\n",
              "      background-color: #E8F0FE;\n",
              "      border: none;\n",
              "      border-radius: 50%;\n",
              "      cursor: pointer;\n",
              "      display: none;\n",
              "      fill: #1967D2;\n",
              "      height: 32px;\n",
              "      padding: 0 0 0 0;\n",
              "      width: 32px;\n",
              "    }\n",
              "\n",
              "    .colab-df-convert:hover {\n",
              "      background-color: #E2EBFA;\n",
              "      box-shadow: 0px 1px 2px rgba(60, 64, 67, 0.3), 0px 1px 3px 1px rgba(60, 64, 67, 0.15);\n",
              "      fill: #174EA6;\n",
              "    }\n",
              "\n",
              "    [theme=dark] .colab-df-convert {\n",
              "      background-color: #3B4455;\n",
              "      fill: #D2E3FC;\n",
              "    }\n",
              "\n",
              "    [theme=dark] .colab-df-convert:hover {\n",
              "      background-color: #434B5C;\n",
              "      box-shadow: 0px 1px 3px 1px rgba(0, 0, 0, 0.15);\n",
              "      filter: drop-shadow(0px 1px 2px rgba(0, 0, 0, 0.3));\n",
              "      fill: #FFFFFF;\n",
              "    }\n",
              "  </style>\n",
              "\n",
              "      <script>\n",
              "        const buttonEl =\n",
              "          document.querySelector('#df-8946ba7f-d941-4dd8-bfac-a378990b0bf1 button.colab-df-convert');\n",
              "        buttonEl.style.display =\n",
              "          google.colab.kernel.accessAllowed ? 'block' : 'none';\n",
              "\n",
              "        async function convertToInteractive(key) {\n",
              "          const element = document.querySelector('#df-8946ba7f-d941-4dd8-bfac-a378990b0bf1');\n",
              "          const dataTable =\n",
              "            await google.colab.kernel.invokeFunction('convertToInteractive',\n",
              "                                                     [key], {});\n",
              "          if (!dataTable) return;\n",
              "\n",
              "          const docLinkHtml = 'Like what you see? Visit the ' +\n",
              "            '<a target=\"_blank\" href=https://colab.research.google.com/notebooks/data_table.ipynb>data table notebook</a>'\n",
              "            + ' to learn more about interactive tables.';\n",
              "          element.innerHTML = '';\n",
              "          dataTable['output_type'] = 'display_data';\n",
              "          await google.colab.output.renderOutput(dataTable, element);\n",
              "          const docLink = document.createElement('div');\n",
              "          docLink.innerHTML = docLinkHtml;\n",
              "          element.appendChild(docLink);\n",
              "        }\n",
              "      </script>\n",
              "    </div>\n",
              "  </div>\n",
              "  "
            ]
          },
          "metadata": {}
        }
      ]
    },
    {
      "cell_type": "code",
      "source": [
        "# Foco em estruturas heterogêneas para utilizá-los ao mesmo tempo\n"
      ],
      "metadata": {
        "id": "s2YBmeWnkeYz"
      },
      "execution_count": null,
      "outputs": []
    },
    {
      "cell_type": "markdown",
      "source": [
        "# Análise de Complexibilidade de Algoritmos"
      ],
      "metadata": {
        "id": "dLEtU6ahlRDn"
      }
    },
    {
      "cell_type": "markdown",
      "source": [
        "### Alguns algoritmos são bons até um tamanho de dados. Porem com grandes quantidades, ele pode não ter um desempenho bom.\n",
        "\n",
        "#### Teremos uma função que mostrará o quão complexo aquele agoritmo é"
      ],
      "metadata": {
        "id": "2z50yaRNmHmH"
      }
    },
    {
      "cell_type": "markdown",
      "source": [
        "#### ***Revisão***"
      ],
      "metadata": {
        "id": "y3mylaW4mudv"
      }
    },
    {
      "cell_type": "code",
      "source": [
        "# Variáveis\n",
        "\n",
        "# tipo int c = 2\n",
        "# tiplo float d = 1.5\n",
        "# tipo booleano; True/False\n",
        "# tipo string; y = 'Python'\n",
        "\n",
        "\n",
        "# Operadores > < >= <=\n",
        "# retorna verdadeiro ou falso\n",
        "\n",
        "# Lógicos\n",
        "# not and or\n",
        "\n",
        "# Entrada de dados\n",
        "# var = int(input('Digite o numero aqui: ')) # caso precise trabalhar com o dado em sim, precisamos fazer o casting\n",
        "# var = float(input('Digite o numero aqui: ')) # caso precise trabalhar com o dado em sim, precisamos fazer o casting\n",
        "\n",
        "# Condicional (if/elif/else)\n",
        "# Repetição (while/for)"
      ],
      "metadata": {
        "id": "RajBiAf6lcvg",
        "outputId": "4f561b16-84ae-4690-aeb0-88e013e645a0",
        "colab": {
          "base_uri": "https://localhost:8080/"
        }
      },
      "execution_count": null,
      "outputs": [
        {
          "name": "stdout",
          "output_type": "stream",
          "text": [
            "Digite o numero aqui: 1\n"
          ]
        }
      ]
    },
    {
      "cell_type": "code",
      "source": [
        "for l in lista:\n",
        "  print(l)"
      ],
      "metadata": {
        "id": "eUQaC5Lrn6Gf",
        "outputId": "6fb959df-15f0-4672-eabc-73fddd2da63e",
        "colab": {
          "base_uri": "https://localhost:8080/"
        }
      },
      "execution_count": null,
      "outputs": [
        {
          "output_type": "stream",
          "name": "stdout",
          "text": [
            "123\n",
            "15.8\n",
            "Python\n",
            "Uma linguagem dinâmica\n"
          ]
        }
      ]
    },
    {
      "cell_type": "code",
      "source": [
        "# Linguagem interpretada: Existe comandos que interpretam linha a linha (Ex: navegador)\n",
        "# Linguagem compilada: Cria um arq diferente do que foi programado. "
      ],
      "metadata": {
        "id": "gRXfNAjWn6J-"
      },
      "execution_count": null,
      "outputs": []
    },
    {
      "cell_type": "code",
      "source": [
        "lista[0]"
      ],
      "metadata": {
        "id": "a5ZoyZn8n6NF",
        "outputId": "c65e716a-2227-4cbf-d71b-9c9fa7dce6a9",
        "colab": {
          "base_uri": "https://localhost:8080/"
        }
      },
      "execution_count": null,
      "outputs": [
        {
          "output_type": "execute_result",
          "data": {
            "text/plain": [
              "123"
            ]
          },
          "metadata": {},
          "execution_count": 12
        }
      ]
    },
    {
      "cell_type": "code",
      "source": [
        "lista[1]"
      ],
      "metadata": {
        "id": "W7xK5GbFttIS",
        "outputId": "ef534d07-0fd1-4c31-cecd-2703c9c03407",
        "colab": {
          "base_uri": "https://localhost:8080/"
        }
      },
      "execution_count": null,
      "outputs": [
        {
          "output_type": "execute_result",
          "data": {
            "text/plain": [
              "15.8"
            ]
          },
          "metadata": {},
          "execution_count": 15
        }
      ]
    },
    {
      "cell_type": "code",
      "source": [
        "lista[2]"
      ],
      "metadata": {
        "id": "Dr4vT839sjsU",
        "outputId": "28e04136-3097-4d59-8aa0-c4daf10097bb",
        "colab": {
          "base_uri": "https://localhost:8080/",
          "height": 35
        }
      },
      "execution_count": null,
      "outputs": [
        {
          "output_type": "execute_result",
          "data": {
            "text/plain": [
              "'Python'"
            ],
            "application/vnd.google.colaboratory.intrinsic+json": {
              "type": "string"
            }
          },
          "metadata": {},
          "execution_count": 13
        }
      ]
    },
    {
      "cell_type": "code",
      "source": [
        "lista[3]"
      ],
      "metadata": {
        "id": "Tk7zAOMAsjyG",
        "outputId": "032c5a27-d34c-4380-aa7c-50163bdea455",
        "colab": {
          "base_uri": "https://localhost:8080/",
          "height": 35
        }
      },
      "execution_count": null,
      "outputs": [
        {
          "output_type": "execute_result",
          "data": {
            "text/plain": [
              "'Uma linguagem dinâmica'"
            ],
            "application/vnd.google.colaboratory.intrinsic+json": {
              "type": "string"
            }
          },
          "metadata": {},
          "execution_count": 14
        }
      ]
    },
    {
      "cell_type": "code",
      "source": [
        "lista[1:3]"
      ],
      "metadata": {
        "id": "2LoL7FD1sj20",
        "outputId": "ae431532-796e-4f95-d36f-3a11f9dd7aff",
        "colab": {
          "base_uri": "https://localhost:8080/"
        }
      },
      "execution_count": null,
      "outputs": [
        {
          "output_type": "execute_result",
          "data": {
            "text/plain": [
              "[15.8, 'Python']"
            ]
          },
          "metadata": {},
          "execution_count": 17
        }
      ]
    },
    {
      "cell_type": "code",
      "source": [
        "lista[-1]"
      ],
      "metadata": {
        "id": "1YErV2Agsj-6",
        "outputId": "fad2ba3e-7dbd-4386-82ac-91bb3b362fb8",
        "colab": {
          "base_uri": "https://localhost:8080/",
          "height": 35
        }
      },
      "execution_count": null,
      "outputs": [
        {
          "output_type": "execute_result",
          "data": {
            "text/plain": [
              "'Uma linguagem dinâmica'"
            ],
            "application/vnd.google.colaboratory.intrinsic+json": {
              "type": "string"
            }
          },
          "metadata": {},
          "execution_count": 18
        }
      ]
    },
    {
      "cell_type": "code",
      "source": [
        "z = [7, 8, 9, 1, 2, 3]\n",
        "z"
      ],
      "metadata": {
        "id": "nTR-JMvQv8s2",
        "outputId": "089aafa4-f95b-4fe1-b03e-da286047c935",
        "colab": {
          "base_uri": "https://localhost:8080/"
        }
      },
      "execution_count": null,
      "outputs": [
        {
          "output_type": "execute_result",
          "data": {
            "text/plain": [
              "[7, 8, 9, 1, 2, 3]"
            ]
          },
          "metadata": {},
          "execution_count": 19
        }
      ]
    },
    {
      "cell_type": "code",
      "source": [
        "z.append(15)\n",
        "z "
      ],
      "metadata": {
        "id": "DDmEElQPv8wB",
        "outputId": "34afea3d-925a-4bbe-b65a-b606261e87c4",
        "colab": {
          "base_uri": "https://localhost:8080/"
        }
      },
      "execution_count": null,
      "outputs": [
        {
          "output_type": "execute_result",
          "data": {
            "text/plain": [
              "[7, 8, 9, 1, 2, 3, 15, 15]"
            ]
          },
          "metadata": {},
          "execution_count": 21
        }
      ]
    },
    {
      "cell_type": "code",
      "source": [
        "# EXERCICIO 1: Criar um programa que realize a soma dos valores de 1 até 100. Mostrar o resultado final\n",
        "\n",
        "soma = 0\n",
        "for i in range(1, 101, 1):\n",
        "  soma += i\n",
        "\n",
        "print(soma)"
      ],
      "metadata": {
        "id": "2ebRhrNZv80U",
        "outputId": "292226b0-10b1-46e9-afcf-21ea652e8d62",
        "colab": {
          "base_uri": "https://localhost:8080/"
        }
      },
      "execution_count": null,
      "outputs": [
        {
          "output_type": "stream",
          "name": "stdout",
          "text": [
            "5050\n"
          ]
        }
      ]
    },
    {
      "cell_type": "code",
      "source": [
        "soma = 0\n",
        "for i in range(0, 101, 1):\n",
        "  if i < 101:\n",
        "    soma += i\n",
        "    print(soma)"
      ],
      "metadata": {
        "id": "eM0VBYu0v8_v",
        "outputId": "8662f246-d34c-4a1f-c8e4-bcc26251802b",
        "colab": {
          "base_uri": "https://localhost:8080/"
        }
      },
      "execution_count": null,
      "outputs": [
        {
          "output_type": "stream",
          "name": "stdout",
          "text": [
            "0\n",
            "1\n",
            "3\n",
            "6\n",
            "10\n",
            "15\n",
            "21\n",
            "28\n",
            "36\n",
            "45\n",
            "55\n",
            "66\n",
            "78\n",
            "91\n",
            "105\n",
            "120\n",
            "136\n",
            "153\n",
            "171\n",
            "190\n",
            "210\n",
            "231\n",
            "253\n",
            "276\n",
            "300\n",
            "325\n",
            "351\n",
            "378\n",
            "406\n",
            "435\n",
            "465\n",
            "496\n",
            "528\n",
            "561\n",
            "595\n",
            "630\n",
            "666\n",
            "703\n",
            "741\n",
            "780\n",
            "820\n",
            "861\n",
            "903\n",
            "946\n",
            "990\n",
            "1035\n",
            "1081\n",
            "1128\n",
            "1176\n",
            "1225\n",
            "1275\n",
            "1326\n",
            "1378\n",
            "1431\n",
            "1485\n",
            "1540\n",
            "1596\n",
            "1653\n",
            "1711\n",
            "1770\n",
            "1830\n",
            "1891\n",
            "1953\n",
            "2016\n",
            "2080\n",
            "2145\n",
            "2211\n",
            "2278\n",
            "2346\n",
            "2415\n",
            "2485\n",
            "2556\n",
            "2628\n",
            "2701\n",
            "2775\n",
            "2850\n",
            "2926\n",
            "3003\n",
            "3081\n",
            "3160\n",
            "3240\n",
            "3321\n",
            "3403\n",
            "3486\n",
            "3570\n",
            "3655\n",
            "3741\n",
            "3828\n",
            "3916\n",
            "4005\n",
            "4095\n",
            "4186\n",
            "4278\n",
            "4371\n",
            "4465\n",
            "4560\n",
            "4656\n",
            "4753\n",
            "4851\n",
            "4950\n",
            "5050\n"
          ]
        }
      ]
    },
    {
      "cell_type": "code",
      "source": [
        "soma = 0\n",
        "for i in range(0, 101, 1):\n",
        "  while i < 101:\n",
        "    soma += i\n",
        "    break\n",
        "\n",
        "print(soma)"
      ],
      "metadata": {
        "id": "3dwGY0o7v88F",
        "outputId": "49b549a6-4c86-4496-a4e7-b948c762179d",
        "colab": {
          "base_uri": "https://localhost:8080/"
        }
      },
      "execution_count": null,
      "outputs": [
        {
          "output_type": "stream",
          "name": "stdout",
          "text": [
            "5050\n"
          ]
        }
      ]
    },
    {
      "cell_type": "code",
      "source": [
        "# Usando a Fórmula de Gauss: Podemos deixar o código mais otimizado\n",
        "n = 100\n",
        "soma = (n * (n + 1) ) / 2\n",
        "print(soma)"
      ],
      "metadata": {
        "id": "-1lw0Z04AVCn",
        "outputId": "8c2af677-7130-4e6f-8d37-b5b2df4482be",
        "colab": {
          "base_uri": "https://localhost:8080/"
        }
      },
      "execution_count": null,
      "outputs": [
        {
          "output_type": "stream",
          "name": "stdout",
          "text": [
            "5050.0\n"
          ]
        }
      ]
    },
    {
      "cell_type": "code",
      "source": [
        "print(soma)"
      ],
      "metadata": {
        "id": "kRn6U1Div9Ep",
        "outputId": "89432e19-6fb3-4556-aae2-fd0f9b25d415",
        "colab": {
          "base_uri": "https://localhost:8080/"
        }
      },
      "execution_count": null,
      "outputs": [
        {
          "output_type": "stream",
          "name": "stdout",
          "text": [
            "5050\n"
          ]
        }
      ]
    },
    {
      "cell_type": "code",
      "source": [
        "# EXERCÍCIO 2: Criar um programa que realize a conversão de um número inteiro para um número binário. Mostrar o resultado final\n",
        "\n",
        "bin(10)\n"
      ],
      "metadata": {
        "id": "dR7swe0xv9HJ",
        "outputId": "4c967d1f-b56b-45c3-f961-d647866f7d61",
        "colab": {
          "base_uri": "https://localhost:8080/",
          "height": 35
        }
      },
      "execution_count": null,
      "outputs": [
        {
          "output_type": "execute_result",
          "data": {
            "text/plain": [
              "'0b1010'"
            ],
            "application/vnd.google.colaboratory.intrinsic+json": {
              "type": "string"
            }
          },
          "metadata": {},
          "execution_count": 58
        }
      ]
    },
    {
      "cell_type": "code",
      "source": [
        "valor = 24\n",
        "L = []\n",
        "\n",
        "while valor >= 1:\n",
        "  resultado = valor % 2\n",
        "  print(resultado)\n",
        "  L.append(resultado)\n",
        "  valor = valor // 2\n",
        "  print(valor)\n",
        "\n",
        "L.reverse()\n",
        "print(L)"
      ],
      "metadata": {
        "id": "VYaXaDnwJEbY",
        "outputId": "ccaf8e5e-65ba-4368-afdf-2f5e7334af5e",
        "colab": {
          "base_uri": "https://localhost:8080/"
        }
      },
      "execution_count": null,
      "outputs": [
        {
          "output_type": "stream",
          "name": "stdout",
          "text": [
            "0\n",
            "12\n",
            "0\n",
            "6\n",
            "0\n",
            "3\n",
            "1\n",
            "1\n",
            "1\n",
            "0\n",
            "[1, 1, 0, 0, 0]\n"
          ]
        }
      ]
    },
    {
      "cell_type": "code",
      "source": [
        "def binario(n):\n",
        "  if n >= 1:\n",
        "    binario(n // 2)\n",
        "  print(n % 2, end='')\n",
        "\n",
        "valor = 10\n",
        "binario(valor)"
      ],
      "metadata": {
        "id": "Nk2sSKk1KgU6",
        "outputId": "4e0b9f08-2256-47ec-f6aa-3c1dda08b0fc",
        "colab": {
          "base_uri": "https://localhost:8080/"
        }
      },
      "execution_count": null,
      "outputs": [
        {
          "output_type": "stream",
          "name": "stdout",
          "text": [
            "01010"
          ]
        }
      ]
    },
    {
      "cell_type": "code",
      "source": [
        "# \"converte\" n para uma outra base\n",
        "def converter(n, base):\n",
        "    if base == 10: # se for base 10, retorna o próprio número\n",
        "        return n\n",
        "\n",
        "    result = expoente = 0\n",
        "    while n > 0:\n",
        "        n, digito = divmod(n, base)\n",
        "        result += (10 ** expoente) * digito\n",
        "        expoente += 1\n",
        "\n",
        "    return result\n",
        "\n",
        "print(converter(45, 2))"
      ],
      "metadata": {
        "id": "dUbo00NlFk4X",
        "outputId": "175ce55d-c75f-46e2-ff25-c2e49ebf9e41",
        "colab": {
          "base_uri": "https://localhost:8080/"
        }
      },
      "execution_count": null,
      "outputs": [
        {
          "output_type": "stream",
          "name": "stdout",
          "text": [
            "101101\n"
          ]
        }
      ]
    }
  ],
  "metadata": {
    "colab": {
      "collapsed_sections": [],
      "provenance": []
    },
    "kernelspec": {
      "display_name": "Python 3",
      "name": "python3"
    }
  },
  "nbformat": 4,
  "nbformat_minor": 0
}