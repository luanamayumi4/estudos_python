{
 "cells": [
  {
   "cell_type": "markdown",
   "metadata": {
    "id": "4p1ZZ2Rgim0K"
   },
   "source": [
    "# Estrutura de Dados\n",
    "## Como apresentar da melhor maneira os dados em memória RAM"
   ]
  },
  {
   "cell_type": "code",
   "execution_count": 39,
   "metadata": {
    "colab": {
     "base_uri": "https://localhost:8080/"
    },
    "id": "bgGOK6N_iTWX",
    "outputId": "6a56af2b-aad8-4e9c-8c41-5c945c7b9abd"
   },
   "outputs": [
    {
     "data": {
      "text/plain": [
       "{'Linguagem': ['Python', 'Java', 'JavaScript', 'C++'],\n",
       " 'Dinâmica': ['Sim', 'Não', 'Não', 'Não']}"
      ]
     },
     "execution_count": 39,
     "metadata": {},
     "output_type": "execute_result"
    }
   ],
   "source": [
    "lista = [123, 15.8, \"Python\",'Uma linguagem dinâmica'] #aceita mais de um tipo de dado (lista built in)\n",
    "lista\n",
    "dicionario = {\n",
    "          \"Linguagem\":['Python', 'Java', 'JavaScript', 'C++'],\n",
    "          \"Dinâmica\":['Sim', 'Não', 'Não', 'Não'],\n",
    "}\n",
    "dicionario"
   ]
  },
  {
   "cell_type": "code",
   "execution_count": 40,
   "metadata": {
    "id": "0zUSvQfbl2TK"
   },
   "outputs": [],
   "source": [
    "import pandas as pd\n",
    "\n",
    "dicionario = pd.DataFrame(dicionario)"
   ]
  },
  {
   "cell_type": "code",
   "execution_count": 54,
   "metadata": {},
   "outputs": [],
   "source": [
    "import numpy as np\n",
    "import random\n",
    "\n",
    "dates = pd.date_range('1/1/2022', periods=30)\n",
    "\n",
    "df = pd.DataFrame(np.random.randn(30, 10),\n",
    "                  index=dates, columns=['A', 'B', 'C', 'D', 'E', 'F', 'G', 'H', 'I', 'J' ])"
   ]
  },
  {
   "cell_type": "code",
   "execution_count": 55,
   "metadata": {},
   "outputs": [
    {
     "data": {
      "text/html": [
       "<div>\n",
       "<style scoped>\n",
       "    .dataframe tbody tr th:only-of-type {\n",
       "        vertical-align: middle;\n",
       "    }\n",
       "\n",
       "    .dataframe tbody tr th {\n",
       "        vertical-align: top;\n",
       "    }\n",
       "\n",
       "    .dataframe thead th {\n",
       "        text-align: right;\n",
       "    }\n",
       "</style>\n",
       "<table border=\"1\" class=\"dataframe\">\n",
       "  <thead>\n",
       "    <tr style=\"text-align: right;\">\n",
       "      <th></th>\n",
       "      <th>A</th>\n",
       "      <th>B</th>\n",
       "      <th>C</th>\n",
       "      <th>D</th>\n",
       "      <th>E</th>\n",
       "      <th>F</th>\n",
       "      <th>G</th>\n",
       "      <th>H</th>\n",
       "      <th>I</th>\n",
       "      <th>J</th>\n",
       "    </tr>\n",
       "  </thead>\n",
       "  <tbody>\n",
       "    <tr>\n",
       "      <th>2022-01-01</th>\n",
       "      <td>-0.537482</td>\n",
       "      <td>0.577329</td>\n",
       "      <td>-0.735956</td>\n",
       "      <td>-1.502456</td>\n",
       "      <td>0.339337</td>\n",
       "      <td>-1.312228</td>\n",
       "      <td>0.641132</td>\n",
       "      <td>2.295719</td>\n",
       "      <td>-0.164569</td>\n",
       "      <td>-0.003600</td>\n",
       "    </tr>\n",
       "    <tr>\n",
       "      <th>2022-01-02</th>\n",
       "      <td>0.197874</td>\n",
       "      <td>-1.893084</td>\n",
       "      <td>-0.150117</td>\n",
       "      <td>0.365656</td>\n",
       "      <td>-0.476872</td>\n",
       "      <td>-2.197857</td>\n",
       "      <td>0.262298</td>\n",
       "      <td>0.826734</td>\n",
       "      <td>-0.409484</td>\n",
       "      <td>-0.187006</td>\n",
       "    </tr>\n",
       "    <tr>\n",
       "      <th>2022-01-03</th>\n",
       "      <td>-0.416983</td>\n",
       "      <td>0.830575</td>\n",
       "      <td>1.599679</td>\n",
       "      <td>-0.468632</td>\n",
       "      <td>-0.167852</td>\n",
       "      <td>-0.155915</td>\n",
       "      <td>0.626454</td>\n",
       "      <td>1.505045</td>\n",
       "      <td>-0.710797</td>\n",
       "      <td>0.739397</td>\n",
       "    </tr>\n",
       "    <tr>\n",
       "      <th>2022-01-04</th>\n",
       "      <td>1.658113</td>\n",
       "      <td>-1.486664</td>\n",
       "      <td>1.370776</td>\n",
       "      <td>1.309389</td>\n",
       "      <td>-0.327861</td>\n",
       "      <td>0.847932</td>\n",
       "      <td>-1.160431</td>\n",
       "      <td>0.492989</td>\n",
       "      <td>-0.240169</td>\n",
       "      <td>0.068817</td>\n",
       "    </tr>\n",
       "    <tr>\n",
       "      <th>2022-01-05</th>\n",
       "      <td>-0.259755</td>\n",
       "      <td>0.988931</td>\n",
       "      <td>-1.009642</td>\n",
       "      <td>-1.400042</td>\n",
       "      <td>0.572716</td>\n",
       "      <td>-1.242259</td>\n",
       "      <td>-0.947614</td>\n",
       "      <td>0.784410</td>\n",
       "      <td>0.332876</td>\n",
       "      <td>-0.821514</td>\n",
       "    </tr>\n",
       "    <tr>\n",
       "      <th>2022-01-06</th>\n",
       "      <td>-0.734140</td>\n",
       "      <td>0.070871</td>\n",
       "      <td>-1.364448</td>\n",
       "      <td>0.471836</td>\n",
       "      <td>-0.656414</td>\n",
       "      <td>-0.356579</td>\n",
       "      <td>-1.299871</td>\n",
       "      <td>0.116344</td>\n",
       "      <td>0.348183</td>\n",
       "      <td>-0.616533</td>\n",
       "    </tr>\n",
       "    <tr>\n",
       "      <th>2022-01-07</th>\n",
       "      <td>0.649863</td>\n",
       "      <td>-0.448843</td>\n",
       "      <td>-0.740140</td>\n",
       "      <td>-0.450471</td>\n",
       "      <td>0.996570</td>\n",
       "      <td>0.655276</td>\n",
       "      <td>-0.639864</td>\n",
       "      <td>0.320156</td>\n",
       "      <td>0.680787</td>\n",
       "      <td>-0.943240</td>\n",
       "    </tr>\n",
       "    <tr>\n",
       "      <th>2022-01-08</th>\n",
       "      <td>0.331615</td>\n",
       "      <td>-1.002275</td>\n",
       "      <td>-0.014504</td>\n",
       "      <td>1.483638</td>\n",
       "      <td>1.264000</td>\n",
       "      <td>0.466802</td>\n",
       "      <td>2.746787</td>\n",
       "      <td>-0.074585</td>\n",
       "      <td>0.520581</td>\n",
       "      <td>-0.445325</td>\n",
       "    </tr>\n",
       "    <tr>\n",
       "      <th>2022-01-09</th>\n",
       "      <td>-0.757981</td>\n",
       "      <td>-1.819464</td>\n",
       "      <td>-0.171906</td>\n",
       "      <td>0.195986</td>\n",
       "      <td>-0.686039</td>\n",
       "      <td>-0.013232</td>\n",
       "      <td>-1.552581</td>\n",
       "      <td>-0.434408</td>\n",
       "      <td>0.068170</td>\n",
       "      <td>-1.324091</td>\n",
       "    </tr>\n",
       "    <tr>\n",
       "      <th>2022-01-10</th>\n",
       "      <td>0.913892</td>\n",
       "      <td>-0.360430</td>\n",
       "      <td>1.989165</td>\n",
       "      <td>-1.122514</td>\n",
       "      <td>0.233642</td>\n",
       "      <td>0.332135</td>\n",
       "      <td>-0.066608</td>\n",
       "      <td>-1.265839</td>\n",
       "      <td>-0.291674</td>\n",
       "      <td>-0.118930</td>\n",
       "    </tr>\n",
       "    <tr>\n",
       "      <th>2022-01-11</th>\n",
       "      <td>1.444754</td>\n",
       "      <td>0.352579</td>\n",
       "      <td>0.249290</td>\n",
       "      <td>0.476639</td>\n",
       "      <td>0.671232</td>\n",
       "      <td>1.899053</td>\n",
       "      <td>-1.235311</td>\n",
       "      <td>-0.847729</td>\n",
       "      <td>-0.206629</td>\n",
       "      <td>-0.367229</td>\n",
       "    </tr>\n",
       "    <tr>\n",
       "      <th>2022-01-12</th>\n",
       "      <td>-0.056476</td>\n",
       "      <td>0.046755</td>\n",
       "      <td>-0.268535</td>\n",
       "      <td>0.801216</td>\n",
       "      <td>0.840221</td>\n",
       "      <td>-0.801038</td>\n",
       "      <td>-2.515982</td>\n",
       "      <td>-0.021828</td>\n",
       "      <td>-0.307847</td>\n",
       "      <td>0.125152</td>\n",
       "    </tr>\n",
       "    <tr>\n",
       "      <th>2022-01-13</th>\n",
       "      <td>-0.859048</td>\n",
       "      <td>1.266259</td>\n",
       "      <td>-0.352906</td>\n",
       "      <td>-0.731125</td>\n",
       "      <td>1.156598</td>\n",
       "      <td>2.291418</td>\n",
       "      <td>0.216900</td>\n",
       "      <td>-0.875575</td>\n",
       "      <td>-0.938788</td>\n",
       "      <td>0.514566</td>\n",
       "    </tr>\n",
       "    <tr>\n",
       "      <th>2022-01-14</th>\n",
       "      <td>-0.117350</td>\n",
       "      <td>-0.457449</td>\n",
       "      <td>-0.020765</td>\n",
       "      <td>-1.203068</td>\n",
       "      <td>0.392079</td>\n",
       "      <td>-0.531496</td>\n",
       "      <td>-0.133743</td>\n",
       "      <td>-0.520784</td>\n",
       "      <td>0.103775</td>\n",
       "      <td>-0.321907</td>\n",
       "    </tr>\n",
       "    <tr>\n",
       "      <th>2022-01-15</th>\n",
       "      <td>-1.399047</td>\n",
       "      <td>-0.272406</td>\n",
       "      <td>-2.126101</td>\n",
       "      <td>0.032495</td>\n",
       "      <td>-0.121085</td>\n",
       "      <td>-0.135477</td>\n",
       "      <td>-0.104105</td>\n",
       "      <td>0.070383</td>\n",
       "      <td>-1.140572</td>\n",
       "      <td>-0.956265</td>\n",
       "    </tr>\n",
       "    <tr>\n",
       "      <th>2022-01-16</th>\n",
       "      <td>-0.783011</td>\n",
       "      <td>0.798074</td>\n",
       "      <td>-1.354149</td>\n",
       "      <td>1.889084</td>\n",
       "      <td>-0.443539</td>\n",
       "      <td>-0.496549</td>\n",
       "      <td>-1.242843</td>\n",
       "      <td>0.680719</td>\n",
       "      <td>1.207083</td>\n",
       "      <td>1.240069</td>\n",
       "    </tr>\n",
       "    <tr>\n",
       "      <th>2022-01-17</th>\n",
       "      <td>1.056290</td>\n",
       "      <td>-1.214320</td>\n",
       "      <td>-1.976355</td>\n",
       "      <td>-1.920075</td>\n",
       "      <td>-0.630049</td>\n",
       "      <td>-0.641810</td>\n",
       "      <td>0.534273</td>\n",
       "      <td>-0.352852</td>\n",
       "      <td>0.671984</td>\n",
       "      <td>1.761650</td>\n",
       "    </tr>\n",
       "    <tr>\n",
       "      <th>2022-01-18</th>\n",
       "      <td>-0.202517</td>\n",
       "      <td>0.704371</td>\n",
       "      <td>1.152346</td>\n",
       "      <td>-1.106747</td>\n",
       "      <td>-0.835373</td>\n",
       "      <td>-0.393517</td>\n",
       "      <td>-0.078723</td>\n",
       "      <td>-1.194720</td>\n",
       "      <td>1.274918</td>\n",
       "      <td>0.393363</td>\n",
       "    </tr>\n",
       "    <tr>\n",
       "      <th>2022-01-19</th>\n",
       "      <td>1.067084</td>\n",
       "      <td>-0.305221</td>\n",
       "      <td>-0.747959</td>\n",
       "      <td>-0.014101</td>\n",
       "      <td>1.447091</td>\n",
       "      <td>1.941125</td>\n",
       "      <td>1.055869</td>\n",
       "      <td>0.692731</td>\n",
       "      <td>0.167651</td>\n",
       "      <td>1.377985</td>\n",
       "    </tr>\n",
       "    <tr>\n",
       "      <th>2022-01-20</th>\n",
       "      <td>-1.082599</td>\n",
       "      <td>-0.509318</td>\n",
       "      <td>-1.357692</td>\n",
       "      <td>-0.696377</td>\n",
       "      <td>0.857407</td>\n",
       "      <td>0.519700</td>\n",
       "      <td>-1.613312</td>\n",
       "      <td>0.173774</td>\n",
       "      <td>-0.412853</td>\n",
       "      <td>-1.005348</td>\n",
       "    </tr>\n",
       "    <tr>\n",
       "      <th>2022-01-21</th>\n",
       "      <td>0.061592</td>\n",
       "      <td>-0.989837</td>\n",
       "      <td>0.277895</td>\n",
       "      <td>0.346916</td>\n",
       "      <td>0.785992</td>\n",
       "      <td>0.611552</td>\n",
       "      <td>2.314980</td>\n",
       "      <td>0.398016</td>\n",
       "      <td>-1.277072</td>\n",
       "      <td>-0.402264</td>\n",
       "    </tr>\n",
       "    <tr>\n",
       "      <th>2022-01-22</th>\n",
       "      <td>-0.506389</td>\n",
       "      <td>-0.958178</td>\n",
       "      <td>-1.578886</td>\n",
       "      <td>-0.697938</td>\n",
       "      <td>0.899384</td>\n",
       "      <td>1.751464</td>\n",
       "      <td>-1.153262</td>\n",
       "      <td>-1.825970</td>\n",
       "      <td>1.160622</td>\n",
       "      <td>-1.467012</td>\n",
       "    </tr>\n",
       "    <tr>\n",
       "      <th>2022-01-23</th>\n",
       "      <td>1.417904</td>\n",
       "      <td>-0.156112</td>\n",
       "      <td>-0.868738</td>\n",
       "      <td>-0.442487</td>\n",
       "      <td>-1.284336</td>\n",
       "      <td>-1.474336</td>\n",
       "      <td>-0.881757</td>\n",
       "      <td>-0.328446</td>\n",
       "      <td>-0.595529</td>\n",
       "      <td>-1.583207</td>\n",
       "    </tr>\n",
       "    <tr>\n",
       "      <th>2022-01-24</th>\n",
       "      <td>1.395944</td>\n",
       "      <td>-0.626695</td>\n",
       "      <td>-1.646414</td>\n",
       "      <td>-1.572462</td>\n",
       "      <td>0.325124</td>\n",
       "      <td>1.792039</td>\n",
       "      <td>-0.384039</td>\n",
       "      <td>0.259432</td>\n",
       "      <td>-0.646970</td>\n",
       "      <td>1.256072</td>\n",
       "    </tr>\n",
       "    <tr>\n",
       "      <th>2022-01-25</th>\n",
       "      <td>-0.328876</td>\n",
       "      <td>1.335882</td>\n",
       "      <td>0.719388</td>\n",
       "      <td>-0.899882</td>\n",
       "      <td>0.763293</td>\n",
       "      <td>-0.727435</td>\n",
       "      <td>-0.355017</td>\n",
       "      <td>-0.555317</td>\n",
       "      <td>1.805955</td>\n",
       "      <td>-1.280755</td>\n",
       "    </tr>\n",
       "    <tr>\n",
       "      <th>2022-01-26</th>\n",
       "      <td>-0.238987</td>\n",
       "      <td>-0.757977</td>\n",
       "      <td>0.389522</td>\n",
       "      <td>1.253076</td>\n",
       "      <td>1.037421</td>\n",
       "      <td>0.470213</td>\n",
       "      <td>-1.603597</td>\n",
       "      <td>0.592395</td>\n",
       "      <td>1.155556</td>\n",
       "      <td>-2.497350</td>\n",
       "    </tr>\n",
       "    <tr>\n",
       "      <th>2022-01-27</th>\n",
       "      <td>2.350410</td>\n",
       "      <td>-2.697955</td>\n",
       "      <td>-1.200424</td>\n",
       "      <td>-0.812904</td>\n",
       "      <td>0.284641</td>\n",
       "      <td>-1.052683</td>\n",
       "      <td>-0.194736</td>\n",
       "      <td>-0.376306</td>\n",
       "      <td>-0.390410</td>\n",
       "      <td>-0.964715</td>\n",
       "    </tr>\n",
       "    <tr>\n",
       "      <th>2022-01-28</th>\n",
       "      <td>-0.131216</td>\n",
       "      <td>0.259492</td>\n",
       "      <td>-1.408806</td>\n",
       "      <td>-1.926079</td>\n",
       "      <td>0.901204</td>\n",
       "      <td>1.851336</td>\n",
       "      <td>-2.753542</td>\n",
       "      <td>0.997508</td>\n",
       "      <td>0.305410</td>\n",
       "      <td>0.819264</td>\n",
       "    </tr>\n",
       "    <tr>\n",
       "      <th>2022-01-29</th>\n",
       "      <td>0.008791</td>\n",
       "      <td>0.340034</td>\n",
       "      <td>0.411683</td>\n",
       "      <td>-0.763086</td>\n",
       "      <td>1.534772</td>\n",
       "      <td>1.078421</td>\n",
       "      <td>-0.429734</td>\n",
       "      <td>-0.542831</td>\n",
       "      <td>-0.337852</td>\n",
       "      <td>-0.440896</td>\n",
       "    </tr>\n",
       "    <tr>\n",
       "      <th>2022-01-30</th>\n",
       "      <td>0.472413</td>\n",
       "      <td>-0.918373</td>\n",
       "      <td>0.449356</td>\n",
       "      <td>1.049956</td>\n",
       "      <td>-1.591981</td>\n",
       "      <td>-0.333242</td>\n",
       "      <td>-0.852773</td>\n",
       "      <td>1.791700</td>\n",
       "      <td>1.259283</td>\n",
       "      <td>0.628725</td>\n",
       "    </tr>\n",
       "  </tbody>\n",
       "</table>\n",
       "</div>"
      ],
      "text/plain": [
       "                   A         B         C         D         E         F  \\\n",
       "2022-01-01 -0.537482  0.577329 -0.735956 -1.502456  0.339337 -1.312228   \n",
       "2022-01-02  0.197874 -1.893084 -0.150117  0.365656 -0.476872 -2.197857   \n",
       "2022-01-03 -0.416983  0.830575  1.599679 -0.468632 -0.167852 -0.155915   \n",
       "2022-01-04  1.658113 -1.486664  1.370776  1.309389 -0.327861  0.847932   \n",
       "2022-01-05 -0.259755  0.988931 -1.009642 -1.400042  0.572716 -1.242259   \n",
       "2022-01-06 -0.734140  0.070871 -1.364448  0.471836 -0.656414 -0.356579   \n",
       "2022-01-07  0.649863 -0.448843 -0.740140 -0.450471  0.996570  0.655276   \n",
       "2022-01-08  0.331615 -1.002275 -0.014504  1.483638  1.264000  0.466802   \n",
       "2022-01-09 -0.757981 -1.819464 -0.171906  0.195986 -0.686039 -0.013232   \n",
       "2022-01-10  0.913892 -0.360430  1.989165 -1.122514  0.233642  0.332135   \n",
       "2022-01-11  1.444754  0.352579  0.249290  0.476639  0.671232  1.899053   \n",
       "2022-01-12 -0.056476  0.046755 -0.268535  0.801216  0.840221 -0.801038   \n",
       "2022-01-13 -0.859048  1.266259 -0.352906 -0.731125  1.156598  2.291418   \n",
       "2022-01-14 -0.117350 -0.457449 -0.020765 -1.203068  0.392079 -0.531496   \n",
       "2022-01-15 -1.399047 -0.272406 -2.126101  0.032495 -0.121085 -0.135477   \n",
       "2022-01-16 -0.783011  0.798074 -1.354149  1.889084 -0.443539 -0.496549   \n",
       "2022-01-17  1.056290 -1.214320 -1.976355 -1.920075 -0.630049 -0.641810   \n",
       "2022-01-18 -0.202517  0.704371  1.152346 -1.106747 -0.835373 -0.393517   \n",
       "2022-01-19  1.067084 -0.305221 -0.747959 -0.014101  1.447091  1.941125   \n",
       "2022-01-20 -1.082599 -0.509318 -1.357692 -0.696377  0.857407  0.519700   \n",
       "2022-01-21  0.061592 -0.989837  0.277895  0.346916  0.785992  0.611552   \n",
       "2022-01-22 -0.506389 -0.958178 -1.578886 -0.697938  0.899384  1.751464   \n",
       "2022-01-23  1.417904 -0.156112 -0.868738 -0.442487 -1.284336 -1.474336   \n",
       "2022-01-24  1.395944 -0.626695 -1.646414 -1.572462  0.325124  1.792039   \n",
       "2022-01-25 -0.328876  1.335882  0.719388 -0.899882  0.763293 -0.727435   \n",
       "2022-01-26 -0.238987 -0.757977  0.389522  1.253076  1.037421  0.470213   \n",
       "2022-01-27  2.350410 -2.697955 -1.200424 -0.812904  0.284641 -1.052683   \n",
       "2022-01-28 -0.131216  0.259492 -1.408806 -1.926079  0.901204  1.851336   \n",
       "2022-01-29  0.008791  0.340034  0.411683 -0.763086  1.534772  1.078421   \n",
       "2022-01-30  0.472413 -0.918373  0.449356  1.049956 -1.591981 -0.333242   \n",
       "\n",
       "                   G         H         I         J  \n",
       "2022-01-01  0.641132  2.295719 -0.164569 -0.003600  \n",
       "2022-01-02  0.262298  0.826734 -0.409484 -0.187006  \n",
       "2022-01-03  0.626454  1.505045 -0.710797  0.739397  \n",
       "2022-01-04 -1.160431  0.492989 -0.240169  0.068817  \n",
       "2022-01-05 -0.947614  0.784410  0.332876 -0.821514  \n",
       "2022-01-06 -1.299871  0.116344  0.348183 -0.616533  \n",
       "2022-01-07 -0.639864  0.320156  0.680787 -0.943240  \n",
       "2022-01-08  2.746787 -0.074585  0.520581 -0.445325  \n",
       "2022-01-09 -1.552581 -0.434408  0.068170 -1.324091  \n",
       "2022-01-10 -0.066608 -1.265839 -0.291674 -0.118930  \n",
       "2022-01-11 -1.235311 -0.847729 -0.206629 -0.367229  \n",
       "2022-01-12 -2.515982 -0.021828 -0.307847  0.125152  \n",
       "2022-01-13  0.216900 -0.875575 -0.938788  0.514566  \n",
       "2022-01-14 -0.133743 -0.520784  0.103775 -0.321907  \n",
       "2022-01-15 -0.104105  0.070383 -1.140572 -0.956265  \n",
       "2022-01-16 -1.242843  0.680719  1.207083  1.240069  \n",
       "2022-01-17  0.534273 -0.352852  0.671984  1.761650  \n",
       "2022-01-18 -0.078723 -1.194720  1.274918  0.393363  \n",
       "2022-01-19  1.055869  0.692731  0.167651  1.377985  \n",
       "2022-01-20 -1.613312  0.173774 -0.412853 -1.005348  \n",
       "2022-01-21  2.314980  0.398016 -1.277072 -0.402264  \n",
       "2022-01-22 -1.153262 -1.825970  1.160622 -1.467012  \n",
       "2022-01-23 -0.881757 -0.328446 -0.595529 -1.583207  \n",
       "2022-01-24 -0.384039  0.259432 -0.646970  1.256072  \n",
       "2022-01-25 -0.355017 -0.555317  1.805955 -1.280755  \n",
       "2022-01-26 -1.603597  0.592395  1.155556 -2.497350  \n",
       "2022-01-27 -0.194736 -0.376306 -0.390410 -0.964715  \n",
       "2022-01-28 -2.753542  0.997508  0.305410  0.819264  \n",
       "2022-01-29 -0.429734 -0.542831 -0.337852 -0.440896  \n",
       "2022-01-30 -0.852773  1.791700  1.259283  0.628725  "
      ]
     },
     "metadata": {},
     "output_type": "display_data"
    }
   ],
   "source": [
    "display(df)"
   ]
  },
  {
   "cell_type": "code",
   "execution_count": 41,
   "metadata": {
    "colab": {
     "base_uri": "https://localhost:8080/",
     "height": 175
    },
    "id": "SSLTLMSDl9Om",
    "outputId": "660a16cd-61a7-4214-ae40-16cd5c22c44b"
   },
   "outputs": [
    {
     "data": {
      "text/html": [
       "<div>\n",
       "<style scoped>\n",
       "    .dataframe tbody tr th:only-of-type {\n",
       "        vertical-align: middle;\n",
       "    }\n",
       "\n",
       "    .dataframe tbody tr th {\n",
       "        vertical-align: top;\n",
       "    }\n",
       "\n",
       "    .dataframe thead th {\n",
       "        text-align: right;\n",
       "    }\n",
       "</style>\n",
       "<table border=\"1\" class=\"dataframe\">\n",
       "  <thead>\n",
       "    <tr style=\"text-align: right;\">\n",
       "      <th></th>\n",
       "      <th>Linguagem</th>\n",
       "      <th>Dinâmica</th>\n",
       "    </tr>\n",
       "  </thead>\n",
       "  <tbody>\n",
       "    <tr>\n",
       "      <th>0</th>\n",
       "      <td>Python</td>\n",
       "      <td>Sim</td>\n",
       "    </tr>\n",
       "    <tr>\n",
       "      <th>1</th>\n",
       "      <td>Java</td>\n",
       "      <td>Não</td>\n",
       "    </tr>\n",
       "    <tr>\n",
       "      <th>2</th>\n",
       "      <td>JavaScript</td>\n",
       "      <td>Não</td>\n",
       "    </tr>\n",
       "    <tr>\n",
       "      <th>3</th>\n",
       "      <td>C++</td>\n",
       "      <td>Não</td>\n",
       "    </tr>\n",
       "  </tbody>\n",
       "</table>\n",
       "</div>"
      ],
      "text/plain": [
       "    Linguagem Dinâmica\n",
       "0      Python      Sim\n",
       "1        Java      Não\n",
       "2  JavaScript      Não\n",
       "3         C++      Não"
      ]
     },
     "metadata": {},
     "output_type": "display_data"
    }
   ],
   "source": [
    "display(dicionario)"
   ]
  },
  {
   "cell_type": "code",
   "execution_count": 4,
   "metadata": {
    "id": "s2YBmeWnkeYz"
   },
   "outputs": [],
   "source": [
    "# Foco em estruturas heterogêneas para utilizá-los ao mesmo tempo\n"
   ]
  },
  {
   "cell_type": "markdown",
   "metadata": {
    "id": "dLEtU6ahlRDn"
   },
   "source": [
    "# Análise de Complexibilidade de Algoritmos"
   ]
  },
  {
   "cell_type": "markdown",
   "metadata": {
    "id": "2z50yaRNmHmH"
   },
   "source": [
    "### Alguns algoritmos são bons até um tamanho de dados. Porem com grandes quantidades, ele pode não ter um desempenho bom.\n",
    "\n",
    "#### Teremos uma função que mostrará o quão complexo aquele agoritmo é"
   ]
  },
  {
   "cell_type": "markdown",
   "metadata": {
    "id": "y3mylaW4mudv"
   },
   "source": [
    "#### ***Revisão***"
   ]
  },
  {
   "cell_type": "code",
   "execution_count": 5,
   "metadata": {
    "colab": {
     "base_uri": "https://localhost:8080/"
    },
    "id": "RajBiAf6lcvg",
    "outputId": "4f561b16-84ae-4690-aeb0-88e013e645a0"
   },
   "outputs": [],
   "source": [
    "# Variáveis\n",
    "\n",
    "# tipo int c = 2\n",
    "# tiplo float d = 1.5\n",
    "# tipo booleano; True/False\n",
    "# tipo string; y = 'Python'\n",
    "\n",
    "\n",
    "# Operadores > < >= <=\n",
    "# retorna verdadeiro ou falso\n",
    "\n",
    "# Lógicos\n",
    "# not and or\n",
    "\n",
    "# Entrada de dados\n",
    "# var = int(input('Digite o numero aqui: ')) # caso precise trabalhar com o dado em sim, precisamos fazer o casting\n",
    "# var = float(input('Digite o numero aqui: ')) # caso precise trabalhar com o dado em sim, precisamos fazer o casting\n",
    "\n",
    "# Condicional (if/elif/else)\n",
    "# Repetição (while/for)"
   ]
  },
  {
   "cell_type": "code",
   "execution_count": 6,
   "metadata": {
    "colab": {
     "base_uri": "https://localhost:8080/"
    },
    "id": "eUQaC5Lrn6Gf",
    "outputId": "6fb959df-15f0-4672-eabc-73fddd2da63e"
   },
   "outputs": [
    {
     "name": "stdout",
     "output_type": "stream",
     "text": [
      "123\n",
      "15.8\n",
      "Python\n",
      "Uma linguagem dinâmica\n"
     ]
    }
   ],
   "source": [
    "for l in lista:\n",
    "  print(l)"
   ]
  },
  {
   "cell_type": "code",
   "execution_count": 7,
   "metadata": {
    "id": "gRXfNAjWn6J-"
   },
   "outputs": [],
   "source": [
    "# Linguagem interpretada: Existe comandos que interpretam linha a linha (Ex: navegador)\n",
    "# Linguagem compilada: Cria um arq diferente do que foi programado. "
   ]
  },
  {
   "cell_type": "code",
   "execution_count": 8,
   "metadata": {
    "colab": {
     "base_uri": "https://localhost:8080/"
    },
    "id": "a5ZoyZn8n6NF",
    "outputId": "c65e716a-2227-4cbf-d71b-9c9fa7dce6a9"
   },
   "outputs": [
    {
     "data": {
      "text/plain": [
       "123"
      ]
     },
     "execution_count": 8,
     "metadata": {},
     "output_type": "execute_result"
    }
   ],
   "source": [
    "lista[0]"
   ]
  },
  {
   "cell_type": "code",
   "execution_count": 9,
   "metadata": {
    "colab": {
     "base_uri": "https://localhost:8080/"
    },
    "id": "W7xK5GbFttIS",
    "outputId": "ef534d07-0fd1-4c31-cecd-2703c9c03407"
   },
   "outputs": [
    {
     "data": {
      "text/plain": [
       "15.8"
      ]
     },
     "execution_count": 9,
     "metadata": {},
     "output_type": "execute_result"
    }
   ],
   "source": [
    "lista[1]"
   ]
  },
  {
   "cell_type": "code",
   "execution_count": 10,
   "metadata": {
    "colab": {
     "base_uri": "https://localhost:8080/",
     "height": 35
    },
    "id": "Dr4vT839sjsU",
    "outputId": "28e04136-3097-4d59-8aa0-c4daf10097bb"
   },
   "outputs": [
    {
     "data": {
      "text/plain": [
       "'Python'"
      ]
     },
     "execution_count": 10,
     "metadata": {},
     "output_type": "execute_result"
    }
   ],
   "source": [
    "lista[2]"
   ]
  },
  {
   "cell_type": "code",
   "execution_count": 11,
   "metadata": {
    "colab": {
     "base_uri": "https://localhost:8080/",
     "height": 35
    },
    "id": "Tk7zAOMAsjyG",
    "outputId": "032c5a27-d34c-4380-aa7c-50163bdea455"
   },
   "outputs": [
    {
     "data": {
      "text/plain": [
       "'Uma linguagem dinâmica'"
      ]
     },
     "execution_count": 11,
     "metadata": {},
     "output_type": "execute_result"
    }
   ],
   "source": [
    "lista[3]"
   ]
  },
  {
   "cell_type": "code",
   "execution_count": 12,
   "metadata": {
    "colab": {
     "base_uri": "https://localhost:8080/"
    },
    "id": "2LoL7FD1sj20",
    "outputId": "ae431532-796e-4f95-d36f-3a11f9dd7aff"
   },
   "outputs": [
    {
     "data": {
      "text/plain": [
       "[15.8, 'Python']"
      ]
     },
     "execution_count": 12,
     "metadata": {},
     "output_type": "execute_result"
    }
   ],
   "source": [
    "lista[1:3]"
   ]
  },
  {
   "cell_type": "code",
   "execution_count": 13,
   "metadata": {
    "colab": {
     "base_uri": "https://localhost:8080/",
     "height": 35
    },
    "id": "1YErV2Agsj-6",
    "outputId": "fad2ba3e-7dbd-4386-82ac-91bb3b362fb8"
   },
   "outputs": [
    {
     "data": {
      "text/plain": [
       "'Uma linguagem dinâmica'"
      ]
     },
     "execution_count": 13,
     "metadata": {},
     "output_type": "execute_result"
    }
   ],
   "source": [
    "lista[-1]"
   ]
  },
  {
   "cell_type": "code",
   "execution_count": 14,
   "metadata": {
    "colab": {
     "base_uri": "https://localhost:8080/"
    },
    "id": "nTR-JMvQv8s2",
    "outputId": "089aafa4-f95b-4fe1-b03e-da286047c935"
   },
   "outputs": [
    {
     "data": {
      "text/plain": [
       "[7, 8, 9, 1, 2, 3]"
      ]
     },
     "execution_count": 14,
     "metadata": {},
     "output_type": "execute_result"
    }
   ],
   "source": [
    "z = [7, 8, 9, 1, 2, 3]\n",
    "z"
   ]
  },
  {
   "cell_type": "code",
   "execution_count": 15,
   "metadata": {
    "colab": {
     "base_uri": "https://localhost:8080/"
    },
    "id": "DDmEElQPv8wB",
    "outputId": "34afea3d-925a-4bbe-b65a-b606261e87c4"
   },
   "outputs": [
    {
     "data": {
      "text/plain": [
       "[7, 8, 9, 1, 2, 3, 15]"
      ]
     },
     "execution_count": 15,
     "metadata": {},
     "output_type": "execute_result"
    }
   ],
   "source": [
    "z.append(15)\n",
    "z "
   ]
  },
  {
   "cell_type": "code",
   "execution_count": 16,
   "metadata": {
    "colab": {
     "base_uri": "https://localhost:8080/"
    },
    "id": "2ebRhrNZv80U",
    "outputId": "292226b0-10b1-46e9-afcf-21ea652e8d62"
   },
   "outputs": [
    {
     "name": "stdout",
     "output_type": "stream",
     "text": [
      "5050\n"
     ]
    }
   ],
   "source": [
    "# EXERCICIO 1: Criar um programa que realize a soma dos valores de 1 até 100. Mostrar o resultado final\n",
    "\n",
    "soma = 0\n",
    "for i in range(1, 101, 1):\n",
    "  soma += i\n",
    "\n",
    "print(soma)"
   ]
  },
  {
   "cell_type": "code",
   "execution_count": 17,
   "metadata": {
    "colab": {
     "base_uri": "https://localhost:8080/"
    },
    "id": "eM0VBYu0v8_v",
    "outputId": "8662f246-d34c-4a1f-c8e4-bcc26251802b"
   },
   "outputs": [
    {
     "name": "stdout",
     "output_type": "stream",
     "text": [
      "0\n",
      "1\n",
      "3\n",
      "6\n",
      "10\n",
      "15\n",
      "21\n",
      "28\n",
      "36\n",
      "45\n",
      "55\n",
      "66\n",
      "78\n",
      "91\n",
      "105\n",
      "120\n",
      "136\n",
      "153\n",
      "171\n",
      "190\n",
      "210\n",
      "231\n",
      "253\n",
      "276\n",
      "300\n",
      "325\n",
      "351\n",
      "378\n",
      "406\n",
      "435\n",
      "465\n",
      "496\n",
      "528\n",
      "561\n",
      "595\n",
      "630\n",
      "666\n",
      "703\n",
      "741\n",
      "780\n",
      "820\n",
      "861\n",
      "903\n",
      "946\n",
      "990\n",
      "1035\n",
      "1081\n",
      "1128\n",
      "1176\n",
      "1225\n",
      "1275\n",
      "1326\n",
      "1378\n",
      "1431\n",
      "1485\n",
      "1540\n",
      "1596\n",
      "1653\n",
      "1711\n",
      "1770\n",
      "1830\n",
      "1891\n",
      "1953\n",
      "2016\n",
      "2080\n",
      "2145\n",
      "2211\n",
      "2278\n",
      "2346\n",
      "2415\n",
      "2485\n",
      "2556\n",
      "2628\n",
      "2701\n",
      "2775\n",
      "2850\n",
      "2926\n",
      "3003\n",
      "3081\n",
      "3160\n",
      "3240\n",
      "3321\n",
      "3403\n",
      "3486\n",
      "3570\n",
      "3655\n",
      "3741\n",
      "3828\n",
      "3916\n",
      "4005\n",
      "4095\n",
      "4186\n",
      "4278\n",
      "4371\n",
      "4465\n",
      "4560\n",
      "4656\n",
      "4753\n",
      "4851\n",
      "4950\n",
      "5050\n"
     ]
    }
   ],
   "source": [
    "soma = 0\n",
    "for i in range(0, 101, 1):\n",
    "  if i < 101:\n",
    "    soma += i\n",
    "    print(soma)"
   ]
  },
  {
   "cell_type": "code",
   "execution_count": 18,
   "metadata": {
    "colab": {
     "base_uri": "https://localhost:8080/"
    },
    "id": "3dwGY0o7v88F",
    "outputId": "49b549a6-4c86-4496-a4e7-b948c762179d"
   },
   "outputs": [
    {
     "name": "stdout",
     "output_type": "stream",
     "text": [
      "5050\n"
     ]
    }
   ],
   "source": [
    "soma = 0\n",
    "for i in range(0, 101, 1):\n",
    "  while i < 101:\n",
    "    soma += i\n",
    "    break\n",
    "\n",
    "print(soma)"
   ]
  },
  {
   "cell_type": "code",
   "execution_count": 19,
   "metadata": {
    "colab": {
     "base_uri": "https://localhost:8080/"
    },
    "id": "-1lw0Z04AVCn",
    "outputId": "8c2af677-7130-4e6f-8d37-b5b2df4482be"
   },
   "outputs": [
    {
     "name": "stdout",
     "output_type": "stream",
     "text": [
      "5050.0\n"
     ]
    }
   ],
   "source": [
    "# Usando a Fórmula de Gauss: Podemos deixar o código mais otimizado\n",
    "n = 100\n",
    "soma = (n * (n + 1) ) / 2\n",
    "print(soma)"
   ]
  },
  {
   "cell_type": "code",
   "execution_count": 20,
   "metadata": {
    "colab": {
     "base_uri": "https://localhost:8080/"
    },
    "id": "kRn6U1Div9Ep",
    "outputId": "89432e19-6fb3-4556-aae2-fd0f9b25d415"
   },
   "outputs": [
    {
     "name": "stdout",
     "output_type": "stream",
     "text": [
      "5050.0\n"
     ]
    }
   ],
   "source": [
    "print(soma)"
   ]
  },
  {
   "cell_type": "code",
   "execution_count": 21,
   "metadata": {
    "colab": {
     "base_uri": "https://localhost:8080/",
     "height": 35
    },
    "id": "dR7swe0xv9HJ",
    "outputId": "4c967d1f-b56b-45c3-f961-d647866f7d61"
   },
   "outputs": [
    {
     "data": {
      "text/plain": [
       "'0b1010'"
      ]
     },
     "execution_count": 21,
     "metadata": {},
     "output_type": "execute_result"
    }
   ],
   "source": [
    "# EXERCÍCIO 2: Criar um programa que realize a conversão de um número inteiro para um número binário. Mostrar o resultado final\n",
    "\n",
    "bin(10)\n"
   ]
  },
  {
   "cell_type": "code",
   "execution_count": 22,
   "metadata": {
    "colab": {
     "base_uri": "https://localhost:8080/"
    },
    "id": "VYaXaDnwJEbY",
    "outputId": "ccaf8e5e-65ba-4368-afdf-2f5e7334af5e"
   },
   "outputs": [
    {
     "name": "stdout",
     "output_type": "stream",
     "text": [
      "0\n",
      "12\n",
      "0\n",
      "6\n",
      "0\n",
      "3\n",
      "1\n",
      "1\n",
      "1\n",
      "0\n",
      "[1, 1, 0, 0, 0]\n"
     ]
    }
   ],
   "source": [
    "valor = 24\n",
    "L = []\n",
    "\n",
    "while valor >= 1:\n",
    "  resultado = valor % 2\n",
    "  print(resultado)\n",
    "  L.append(resultado)\n",
    "  valor = valor // 2\n",
    "  print(valor)\n",
    "\n",
    "L.reverse()\n",
    "print(L)"
   ]
  },
  {
   "cell_type": "code",
   "execution_count": 23,
   "metadata": {
    "colab": {
     "base_uri": "https://localhost:8080/"
    },
    "id": "Nk2sSKk1KgU6",
    "outputId": "4e0b9f08-2256-47ec-f6aa-3c1dda08b0fc"
   },
   "outputs": [
    {
     "name": "stdout",
     "output_type": "stream",
     "text": [
      "01010"
     ]
    }
   ],
   "source": [
    "def binario(n):\n",
    "  if n >= 1:\n",
    "    binario(n // 2)\n",
    "  print(n % 2, end='')\n",
    "\n",
    "valor = 10\n",
    "binario(valor)"
   ]
  },
  {
   "cell_type": "code",
   "execution_count": 24,
   "metadata": {
    "colab": {
     "base_uri": "https://localhost:8080/"
    },
    "id": "dUbo00NlFk4X",
    "outputId": "175ce55d-c75f-46e2-ff25-c2e49ebf9e41"
   },
   "outputs": [
    {
     "name": "stdout",
     "output_type": "stream",
     "text": [
      "101101\n"
     ]
    }
   ],
   "source": [
    "# \"converte\" n para uma outra base\n",
    "def converter(n, base):\n",
    "    if base == 10: # se for base 10, retorna o próprio número\n",
    "        return n\n",
    "\n",
    "    result = expoente = 0\n",
    "    while n > 0:\n",
    "        n, digito = divmod(n, base)\n",
    "        result += (10 ** expoente) * digito\n",
    "        expoente += 1\n",
    "\n",
    "    return result\n",
    "\n",
    "print(converter(45, 2))"
   ]
  }
 ],
 "metadata": {
  "colab": {
   "collapsed_sections": [],
   "provenance": []
  },
  "kernelspec": {
   "display_name": "Python 3 (ipykernel)",
   "language": "python",
   "name": "python3"
  },
  "language_info": {
   "codemirror_mode": {
    "name": "ipython",
    "version": 3
   },
   "file_extension": ".py",
   "mimetype": "text/x-python",
   "name": "python",
   "nbconvert_exporter": "python",
   "pygments_lexer": "ipython3",
   "version": "3.9.12"
  }
 },
 "nbformat": 4,
 "nbformat_minor": 1
}
