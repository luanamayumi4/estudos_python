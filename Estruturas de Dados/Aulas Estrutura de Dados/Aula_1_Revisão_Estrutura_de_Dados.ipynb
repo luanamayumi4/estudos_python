{
 "cells": [
  {
   "cell_type": "markdown",
   "metadata": {
    "id": "4p1ZZ2Rgim0K"
   },
   "source": [
    "# Estrutura de Dados\n",
    "## Como apresentar da melhor maneira os dados em memória RAM"
   ]
  },
  {
   "cell_type": "code",
   "execution_count": null,
   "metadata": {
    "colab": {
     "base_uri": "https://localhost:8080/"
    },
    "id": "bgGOK6N_iTWX",
    "outputId": "6a56af2b-aad8-4e9c-8c41-5c945c7b9abd"
   },
   "outputs": [],
   "source": [
    "lista = [123, 15.8, \"Python\",'Uma linguagem dinâmica'] #aceita mais de um tipo de dado (lista built in)\n",
    "lista\n",
    "dicionario = {\n",
    "          \"Linguagem\":['Python', 'Java', 'JavaScript', 'C++'],\n",
    "          \"Dinâmica\":['Sim', 'Não', 'Não', 'Não'],\n",
    "}\n",
    "dicionario"
   ]
  },
  {
   "cell_type": "code",
   "execution_count": null,
   "metadata": {
    "id": "0zUSvQfbl2TK"
   },
   "outputs": [],
   "source": [
    "import pandas as pd\n",
    "\n",
    "dicionario = pd.DataFrame(dicionario)"
   ]
  },
  {
   "cell_type": "code",
   "execution_count": null,
   "metadata": {},
   "outputs": [],
   "source": [
    "import numpy as np\n",
    "import random\n",
    "\n",
    "dates = pd.date_range('1/1/2022', periods=30)\n",
    "\n",
    "df = pd.DataFrame(np.random.randn(30, 10),\n",
    "                  index=dates, columns=['A', 'B', 'C', 'D', 'E', 'F', 'G', 'H', 'I', 'J' ])"
   ]
  },
  {
   "cell_type": "code",
   "execution_count": null,
   "metadata": {},
   "outputs": [],
   "source": [
    "display(df)"
   ]
  },
  {
   "cell_type": "code",
   "execution_count": null,
   "metadata": {
    "colab": {
     "base_uri": "https://localhost:8080/",
     "height": 175
    },
    "id": "SSLTLMSDl9Om",
    "outputId": "660a16cd-61a7-4214-ae40-16cd5c22c44b"
   },
   "outputs": [],
   "source": [
    "display(dicionario)"
   ]
  },
  {
   "cell_type": "code",
   "execution_count": null,
   "metadata": {
    "id": "s2YBmeWnkeYz"
   },
   "outputs": [],
   "source": [
    "# Foco em estruturas heterogêneas para utilizá-los ao mesmo tempo\n"
   ]
  },
  {
   "cell_type": "markdown",
   "metadata": {
    "id": "dLEtU6ahlRDn"
   },
   "source": [
    "# Análise de Complexibilidade de Algoritmos"
   ]
  },
  {
   "cell_type": "markdown",
   "metadata": {
    "id": "2z50yaRNmHmH"
   },
   "source": [
    "### Alguns algoritmos são bons até um tamanho de dados. Porem com grandes quantidades, ele pode não ter um desempenho bom.\n",
    "\n",
    "#### Teremos uma função que mostrará o quão complexo aquele agoritmo é"
   ]
  },
  {
   "cell_type": "markdown",
   "metadata": {
    "id": "y3mylaW4mudv"
   },
   "source": [
    "#### ***Revisão***"
   ]
  },
  {
   "cell_type": "code",
   "execution_count": null,
   "metadata": {
    "colab": {
     "base_uri": "https://localhost:8080/"
    },
    "id": "RajBiAf6lcvg",
    "outputId": "4f561b16-84ae-4690-aeb0-88e013e645a0"
   },
   "outputs": [],
   "source": [
    "# Variáveis\n",
    "\n",
    "# tipo int c = 2\n",
    "# tiplo float d = 1.5\n",
    "# tipo booleano; True/False\n",
    "# tipo string; y = 'Python'\n",
    "\n",
    "\n",
    "# Operadores > < >= <=\n",
    "# retorna verdadeiro ou falso\n",
    "\n",
    "# Lógicos\n",
    "# not and or\n",
    "\n",
    "# Entrada de dados\n",
    "# var = int(input('Digite o numero aqui: ')) # caso precise trabalhar com o dado em sim, precisamos fazer o casting\n",
    "# var = float(input('Digite o numero aqui: ')) # caso precise trabalhar com o dado em sim, precisamos fazer o casting\n",
    "\n",
    "# Condicional (if/elif/else)\n",
    "# Repetição (while/for)"
   ]
  },
  {
   "cell_type": "code",
   "execution_count": null,
   "metadata": {
    "colab": {
     "base_uri": "https://localhost:8080/"
    },
    "id": "eUQaC5Lrn6Gf",
    "outputId": "6fb959df-15f0-4672-eabc-73fddd2da63e"
   },
   "outputs": [],
   "source": [
    "for l in lista:\n",
    "  print(l)"
   ]
  },
  {
   "cell_type": "code",
   "execution_count": null,
   "metadata": {
    "id": "gRXfNAjWn6J-"
   },
   "outputs": [],
   "source": [
    "# Linguagem interpretada: Existe comandos que interpretam linha a linha (Ex: navegador)\n",
    "# Linguagem compilada: Cria um arq diferente do que foi programado. "
   ]
  },
  {
   "cell_type": "code",
   "execution_count": null,
   "metadata": {
    "colab": {
     "base_uri": "https://localhost:8080/"
    },
    "id": "a5ZoyZn8n6NF",
    "outputId": "c65e716a-2227-4cbf-d71b-9c9fa7dce6a9"
   },
   "outputs": [],
   "source": [
    "lista[0]"
   ]
  },
  {
   "cell_type": "code",
   "execution_count": null,
   "metadata": {
    "colab": {
     "base_uri": "https://localhost:8080/"
    },
    "id": "W7xK5GbFttIS",
    "outputId": "ef534d07-0fd1-4c31-cecd-2703c9c03407"
   },
   "outputs": [],
   "source": [
    "lista[1]"
   ]
  },
  {
   "cell_type": "code",
   "execution_count": null,
   "metadata": {
    "colab": {
     "base_uri": "https://localhost:8080/",
     "height": 35
    },
    "id": "Dr4vT839sjsU",
    "outputId": "28e04136-3097-4d59-8aa0-c4daf10097bb"
   },
   "outputs": [],
   "source": [
    "lista[2]"
   ]
  },
  {
   "cell_type": "code",
   "execution_count": null,
   "metadata": {
    "colab": {
     "base_uri": "https://localhost:8080/",
     "height": 35
    },
    "id": "Tk7zAOMAsjyG",
    "outputId": "032c5a27-d34c-4380-aa7c-50163bdea455"
   },
   "outputs": [],
   "source": [
    "lista[3]"
   ]
  },
  {
   "cell_type": "code",
   "execution_count": null,
   "metadata": {
    "colab": {
     "base_uri": "https://localhost:8080/"
    },
    "id": "2LoL7FD1sj20",
    "outputId": "ae431532-796e-4f95-d36f-3a11f9dd7aff"
   },
   "outputs": [],
   "source": [
    "lista[1:3]"
   ]
  },
  {
   "cell_type": "code",
   "execution_count": null,
   "metadata": {
    "colab": {
     "base_uri": "https://localhost:8080/",
     "height": 35
    },
    "id": "1YErV2Agsj-6",
    "outputId": "fad2ba3e-7dbd-4386-82ac-91bb3b362fb8"
   },
   "outputs": [],
   "source": [
    "lista[-1]"
   ]
  },
  {
   "cell_type": "code",
   "execution_count": null,
   "metadata": {
    "colab": {
     "base_uri": "https://localhost:8080/"
    },
    "id": "nTR-JMvQv8s2",
    "outputId": "089aafa4-f95b-4fe1-b03e-da286047c935"
   },
   "outputs": [],
   "source": [
    "z = [7, 8, 9, 1, 2, 3]\n",
    "z"
   ]
  },
  {
   "cell_type": "code",
   "execution_count": null,
   "metadata": {
    "colab": {
     "base_uri": "https://localhost:8080/"
    },
    "id": "DDmEElQPv8wB",
    "outputId": "34afea3d-925a-4bbe-b65a-b606261e87c4"
   },
   "outputs": [],
   "source": [
    "z.append(15)\n",
    "z "
   ]
  },
  {
   "cell_type": "code",
   "execution_count": null,
   "metadata": {
    "colab": {
     "base_uri": "https://localhost:8080/"
    },
    "id": "2ebRhrNZv80U",
    "outputId": "292226b0-10b1-46e9-afcf-21ea652e8d62"
   },
   "outputs": [],
   "source": [
    "# EXERCICIO 1: Criar um programa que realize a soma dos valores de 1 até 100. Mostrar o resultado final\n",
    "\n",
    "soma = 0\n",
    "for i in range(1, 101, 1):\n",
    "  soma += i\n",
    "\n",
    "print(soma)"
   ]
  },
  {
   "cell_type": "code",
   "execution_count": null,
   "metadata": {
    "colab": {
     "base_uri": "https://localhost:8080/"
    },
    "id": "eM0VBYu0v8_v",
    "outputId": "8662f246-d34c-4a1f-c8e4-bcc26251802b"
   },
   "outputs": [],
   "source": [
    "soma = 0\n",
    "for i in range(0, 101, 1):\n",
    "  if i < 101:\n",
    "    soma += i\n",
    "    print(soma)"
   ]
  },
  {
   "cell_type": "code",
   "execution_count": null,
   "metadata": {
    "colab": {
     "base_uri": "https://localhost:8080/"
    },
    "id": "3dwGY0o7v88F",
    "outputId": "49b549a6-4c86-4496-a4e7-b948c762179d"
   },
   "outputs": [],
   "source": [
    "soma = 0\n",
    "for i in range(0, 101, 1):\n",
    "  while i < 101:\n",
    "    soma += i\n",
    "    break\n",
    "\n",
    "print(soma)"
   ]
  },
  {
   "cell_type": "code",
   "execution_count": null,
   "metadata": {
    "colab": {
     "base_uri": "https://localhost:8080/"
    },
    "id": "-1lw0Z04AVCn",
    "outputId": "8c2af677-7130-4e6f-8d37-b5b2df4482be"
   },
   "outputs": [],
   "source": [
    "# Usando a Fórmula de Gauss: Podemos deixar o código mais otimizado\n",
    "n = 100\n",
    "soma = (n * (n + 1) ) / 2\n",
    "print(soma)"
   ]
  },
  {
   "cell_type": "code",
   "execution_count": null,
   "metadata": {
    "colab": {
     "base_uri": "https://localhost:8080/"
    },
    "id": "kRn6U1Div9Ep",
    "outputId": "89432e19-6fb3-4556-aae2-fd0f9b25d415"
   },
   "outputs": [],
   "source": [
    "print(soma)"
   ]
  },
  {
   "cell_type": "code",
   "execution_count": null,
   "metadata": {
    "colab": {
     "base_uri": "https://localhost:8080/",
     "height": 35
    },
    "id": "dR7swe0xv9HJ",
    "outputId": "4c967d1f-b56b-45c3-f961-d647866f7d61"
   },
   "outputs": [],
   "source": [
    "# EXERCÍCIO 2: Criar um programa que realize a conversão de um número inteiro para um número binário. Mostrar o resultado final\n",
    "\n",
    "bin(10)\n"
   ]
  },
  {
   "cell_type": "code",
   "execution_count": null,
   "metadata": {
    "colab": {
     "base_uri": "https://localhost:8080/"
    },
    "id": "VYaXaDnwJEbY",
    "outputId": "ccaf8e5e-65ba-4368-afdf-2f5e7334af5e"
   },
   "outputs": [],
   "source": [
    "valor = 24\n",
    "L = []\n",
    "\n",
    "while valor >= 1:\n",
    "  resultado = valor % 2\n",
    "  print(resultado)\n",
    "  L.append(resultado)\n",
    "  valor = valor // 2\n",
    "  print(valor)\n",
    "\n",
    "L.reverse()\n",
    "print(L)"
   ]
  },
  {
   "cell_type": "code",
   "execution_count": null,
   "metadata": {
    "colab": {
     "base_uri": "https://localhost:8080/"
    },
    "id": "Nk2sSKk1KgU6",
    "outputId": "4e0b9f08-2256-47ec-f6aa-3c1dda08b0fc"
   },
   "outputs": [],
   "source": [
    "def binario(n):\n",
    "  if n >= 1:\n",
    "    binario(n // 2)\n",
    "  print(n % 2, end='')\n",
    "\n",
    "valor = 10\n",
    "binario(valor)"
   ]
  },
  {
   "cell_type": "code",
   "execution_count": null,
   "metadata": {
    "colab": {
     "base_uri": "https://localhost:8080/"
    },
    "id": "dUbo00NlFk4X",
    "outputId": "175ce55d-c75f-46e2-ff25-c2e49ebf9e41"
   },
   "outputs": [],
   "source": [
    "# \"converte\" n para uma outra base\n",
    "def converter(n, base):\n",
    "    if base == 10: # se for base 10, retorna o próprio número\n",
    "        return n\n",
    "\n",
    "    result = expoente = 0\n",
    "    while n > 0:\n",
    "        n, digito = divmod(n, base)\n",
    "        result += (10 ** expoente) * digito\n",
    "        expoente += 1\n",
    "\n",
    "    return result\n",
    "\n",
    "print(converter(45, 2))"
   ]
  }
 ],
 "metadata": {
  "colab": {
   "collapsed_sections": [],
   "provenance": []
  },
  "kernelspec": {
   "display_name": "Python 3 (ipykernel)",
   "language": "python",
   "name": "python3"
  },
  "language_info": {
   "codemirror_mode": {
    "name": "ipython",
    "version": 3
   },
   "file_extension": ".py",
   "mimetype": "text/x-python",
   "name": "python",
   "nbconvert_exporter": "python",
   "pygments_lexer": "ipython3",
   "version": "3.9.12"
  }
 },
 "nbformat": 4,
 "nbformat_minor": 1
}
