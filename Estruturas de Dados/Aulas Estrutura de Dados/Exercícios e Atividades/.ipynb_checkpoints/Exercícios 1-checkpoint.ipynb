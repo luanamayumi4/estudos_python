{
 "cells": [
  {
   "cell_type": "markdown",
   "id": "a58d52d8",
   "metadata": {},
   "source": [
    "### Exercícios - Atividade avaliativa"
   ]
  },
  {
   "cell_type": "code",
   "execution_count": 20,
   "id": "832b005e",
   "metadata": {},
   "outputs": [],
   "source": [
    "import pandas as pd\n",
    "import numpy as np"
   ]
  },
  {
   "cell_type": "code",
   "execution_count": 12,
   "id": "52f91475",
   "metadata": {},
   "outputs": [],
   "source": [
    "class Stack:\n",
    "    def __init__(self): # método construtor\n",
    "        self.itens = [] # criamos como referência para a classe uma lista vazia.\n",
    "        \n",
    "    def is_empty(self):\n",
    "        return self.itens == []\n",
    "    \n",
    "    def pop(self):\n",
    "        return self.itens.pop()\n",
    "    \n",
    "    def push(self, item):\n",
    "        self.itens.append(item)\n",
    "        \n",
    "    def peek(self):\n",
    "        return self.itens[len(self.itens) - 1]\n",
    "    \n",
    "    def size(self):\n",
    "        return len(self.itens)"
   ]
  },
  {
   "cell_type": "markdown",
   "id": "9a505f31",
   "metadata": {},
   "source": [
    "1. Faça um programa que leia duas listas de inteiros com entrada do usuário e que gere uma terceira com os elementos das duas primeiras."
   ]
  },
  {
   "cell_type": "code",
   "execution_count": 2,
   "id": "6d5efab5",
   "metadata": {},
   "outputs": [
    {
     "name": "stdout",
     "output_type": "stream",
     "text": [
      "Digite um número: 10\n",
      "Digite um número: 10\n",
      "Digite um número: 5\n",
      "Digite um número: 15\n",
      "['10', '10', '5', '15']\n",
      "Digite outros valores: 10\n",
      "Digite outros valores: 11\n",
      "Digite outros valores: 12\n",
      "Digite outros valores: 13\n",
      "['10', '11', '12', '13']\n",
      "['10', '10', '5', '15', '10', '11', '12', '13']\n"
     ]
    }
   ],
   "source": [
    "lista_um = [ ]\n",
    "lista_dois = [ ]\n",
    "\n",
    "for i in range(4):\n",
    "    valor = input(\"Digite um número: \")\n",
    "    lista_um.append(valor)\n",
    "print(lista_um)\n",
    "\n",
    "for i in range(4):\n",
    "    valor = input(\"Digite outros valores: \")\n",
    "    lista_dois.append(valor)\n",
    "print(lista_dois)\n",
    "\n",
    "lista_tres = lista_um + lista_dois\n",
    "print(lista_tres)"
   ]
  },
  {
   "cell_type": "markdown",
   "id": "d10c8472",
   "metadata": {},
   "source": [
    "2. Faça um programa que percorra duas listas de inteiros com entrada do usuário e que e gere uma terceira sem elementos repetidos"
   ]
  },
  {
   "cell_type": "code",
   "execution_count": 11,
   "id": "f8d25db0",
   "metadata": {},
   "outputs": [
    {
     "name": "stdout",
     "output_type": "stream",
     "text": [
      "Digite um número: 10\n",
      "Digite um número: 5\n",
      "Digite um número: 10\n",
      "['10', '5', '10']\n",
      "Digite outros valores: 2\n",
      "Digite outros valores: 10\n",
      "Digite outros valores: 5\n",
      "['2', '10', '5']\n",
      "[2]\n"
     ]
    }
   ],
   "source": [
    "lista1 = [ ]\n",
    "lista2 = []\n",
    "lista3 = []\n",
    "\n",
    "\n",
    "# adicionando os valores de uma lista em uma terceira lista\n",
    "for i in range(2):\n",
    "    valores_lista1 = int(input(\"Digite um número: \"))\n",
    "    lista1.append(valores_lista1)\n",
    "# print(lista1)\n",
    "\n",
    "for i in range(2):\n",
    "    valores_lista2 = int(input(\"Digite outros valores: \"))\n",
    "    lista2.append(valores_lista2)\n",
    "# print(lista2)\n",
    "\n",
    "\n",
    "for _ in lista1:\n",
    "    \n",
    "    if ((lista1[0] != lista2[0]) or (lista1[1] != lista2[1])):\n",
    "        lista3.append(lista1[0])\n",
    "        lista3.append(lista1[1])\n",
    "        lista3.append(lista2[0])\n",
    "        lista3.append(lista2[1])\n",
    "    elif (((lista1[0] and lista2[0]) == lista1[0]) or (lista1[1] and lista2[1]) == lista1[1]):\n",
    "        lista3.append(lista1[0])\n",
    "        lista3.append(lista2[1])\n",
    "    else:\n",
    "        break\n",
    "        # lista3.append(lista2[1])\n",
    "        \n",
    "\n",
    "print(set(lista3))"
   ]
  },
  {
   "cell_type": "markdown",
   "id": "eb8438e6",
   "metadata": {},
   "source": [
    "3. Faça um programa que imprima o menor elemento da lista contendo n elementos do tipo inteiro com \"for\"."
   ]
  },
  {
   "cell_type": "code",
   "execution_count": 4,
   "id": "b03fdd95",
   "metadata": {},
   "outputs": [
    {
     "name": "stdout",
     "output_type": "stream",
     "text": [
      "-10\n"
     ]
    }
   ],
   "source": [
    "T = [-10, -8, 0, 1, 2, 5, -2, -4]\n",
    "menor_valor = []\n",
    "\n",
    "for i in T:\n",
    "    if i < 0: # só analisa os números menores que zero\n",
    "        menor_valor.append(i) # adicionando o menor valor do indice\n",
    "        min(menor_valor)\n",
    "        \n",
    "print(menor_valor[0])"
   ]
  },
  {
   "cell_type": "markdown",
   "id": "1ae71d5f",
   "metadata": {},
   "source": [
    "4. A lista de temperaturas de Mons, na Bélgica, foi armazenada na lista T = [ -10, -8, 0, 1, 2, 5, -2, -4]. Faça um programa que imprima a **menor** e a **maior** temperatura, assim como a temperatura **média**."
   ]
  },
  {
   "cell_type": "code",
   "execution_count": 50,
   "id": "e5da4136",
   "metadata": {},
   "outputs": [
    {
     "name": "stdout",
     "output_type": "stream",
     "text": [
      "A temperatura mínima é -10. Já a temperatura máxima tem o valor de 5. Já a média das temperaturas é -2.0 .\n"
     ]
    }
   ],
   "source": [
    "temp = [-10, -8, 0, 1, 2, 5, -2, -4]\n",
    "\n",
    "t_min = min(temp)\n",
    "t_max = max(temp)\n",
    "t_media = sum(temp) / len(temp)\n",
    "\n",
    "print(\"A temperatura mínima é {0}. Já a temperatura máxima tem o valor de {1}. Já a média das temperaturas é {2} .\" .format(t_min, t_max, t_media))"
   ]
  },
  {
   "cell_type": "code",
   "execution_count": 44,
   "id": "89588e7a",
   "metadata": {},
   "outputs": [
    {
     "name": "stdout",
     "output_type": "stream",
     "text": [
      "['-4']\n",
      "['-4', '-2,']\n",
      "['-4', '-2,', '5,']\n",
      "['-4', '-2,', '5,', '2,']\n",
      "['-4', '-2,', '5,', '2,', '1,']\n",
      "['-4', '-2,', '5,', '2,', '1,', '0,']\n",
      "['-4', '-2,', '5,', '2,', '1,', '0,', '-8,']\n",
      "['-4', '-2,', '5,', '2,', '1,', '0,', '-8,', '-10,']\n",
      "('-10,', '8')\n"
     ]
    }
   ],
   "source": [
    "def menor_maior_media(temp):\n",
    "    \n",
    "    op_temp = Stack()\n",
    "    \n",
    "    valores = [] # vai receber o restante dos valores\n",
    "    t_max = [] # vai armazenar os valores maiores ou igual a zero\n",
    "    t_min = [] # vai armazenar os valores menores que zero\n",
    "    \n",
    "    token_list = temp.split()\n",
    "    \n",
    "    for token in token_list:\n",
    "        \n",
    "        if token >= '0':\n",
    "            t_max.append(token)\n",
    "            op_temp.push(token)\n",
    "            # print(t_max)\n",
    "        elif token < '0':\n",
    "            t_min.append(token)\n",
    "            op_temp.push(token)\n",
    "        else: # agora imprimi os valores de acordo com os valores menores ou maiores que 0\n",
    "            while (not op_temp.is_empty() and (op_temp[op_temp.peek()] >= (t_max[token] or t_min[token]))):\n",
    "                valores.append(op_temp.pop())\n",
    "            op_temp.push(token)\n",
    "            \n",
    "    while not op_temp.is_empty():\n",
    "        valores.append(op_temp.pop()) # falta calcular a média não está imprimindo o valor\n",
    "        print(valores)\n",
    "    \n",
    "    # para calcular a média precisamos transforma a lista para um inteiro\n",
    "\n",
    "        \n",
    "    return min(t_min), max(temp)\n",
    "\n",
    "print(menor_maior_media(\"-10, -8, 0, 1, 2, 5, -2, -4\"))"
   ]
  }
 ],
 "metadata": {
  "kernelspec": {
   "display_name": "Python 3 (ipykernel)",
   "language": "python",
   "name": "python3"
  },
  "language_info": {
   "codemirror_mode": {
    "name": "ipython",
    "version": 3
   },
   "file_extension": ".py",
   "mimetype": "text/x-python",
   "name": "python",
   "nbconvert_exporter": "python",
   "pygments_lexer": "ipython3",
   "version": "3.9.12"
  }
 },
 "nbformat": 4,
 "nbformat_minor": 5
}
