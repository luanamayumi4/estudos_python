{
 "cells": [
  {
   "cell_type": "markdown",
   "id": "a58d52d8",
   "metadata": {},
   "source": [
    "### Exercícios - Atividade avaliativa"
   ]
  },
  {
   "cell_type": "code",
   "execution_count": 12,
   "id": "5fc28be3",
   "metadata": {},
   "outputs": [],
   "source": [
    "class Stack:\n",
    "    def __init__(self): # método construtor\n",
    "        self.itens = [] # criamos como referência para a classe uma lista vazia.\n",
    "        \n",
    "    def is_empty(self):\n",
    "        return self.itens == []\n",
    "    \n",
    "    def pop(self):\n",
    "        return self.itens.pop()\n",
    "    \n",
    "    def push(self, item):\n",
    "        self.itens.append(item)\n",
    "        \n",
    "    def peek(self):\n",
    "        return self.itens[len(self.itens) - 1]\n",
    "    \n",
    "    def size(self):\n",
    "        return len(self.itens)"
   ]
  },
  {
   "cell_type": "markdown",
   "id": "9a505f31",
   "metadata": {},
   "source": [
    "1. Faça um programa que leia duas listas de inteiros com entrada do usuário e que gere uma terceira com os elementos das duas primeiras."
   ]
  },
  {
   "cell_type": "code",
   "execution_count": 2,
   "id": "6d5efab5",
   "metadata": {},
   "outputs": [
    {
     "name": "stdout",
     "output_type": "stream",
     "text": [
      "Digite um número: 10\n",
      "Digite um número: 10\n",
      "Digite um número: 5\n",
      "Digite um número: 15\n",
      "['10', '10', '5', '15']\n",
      "Digite outros valores: 10\n",
      "Digite outros valores: 11\n",
      "Digite outros valores: 12\n",
      "Digite outros valores: 13\n",
      "['10', '11', '12', '13']\n",
      "['10', '10', '5', '15', '10', '11', '12', '13']\n"
     ]
    }
   ],
   "source": [
    "lista_um = [ ]\n",
    "lista_dois = [ ]\n",
    "\n",
    "for i in range(4):\n",
    "    valor = input(\"Digite um número: \")\n",
    "    lista_um.append(valor)\n",
    "print(lista_um)\n",
    "\n",
    "for i in range(4):\n",
    "    valor = input(\"Digite outros valores: \")\n",
    "    lista_dois.append(valor)\n",
    "print(lista_dois)\n",
    "\n",
    "lista_tres = lista_um + lista_dois\n",
    "print(lista_tres)"
   ]
  },
  {
   "cell_type": "markdown",
   "id": "d10c8472",
   "metadata": {},
   "source": [
    "2. Faça um programa que percorra duas listas de inteiros com entrada do usuário e que e gere uma terceira sem elementos repetidos"
   ]
  },
  {
   "cell_type": "code",
   "execution_count": 11,
   "id": "2a2c80c5",
   "metadata": {},
   "outputs": [
    {
     "name": "stdout",
     "output_type": "stream",
     "text": [
      "Digite um número: 10\n",
      "Digite um número: 5\n",
      "Digite um número: 10\n",
      "['10', '5', '10']\n",
      "Digite outros valores: 2\n",
      "Digite outros valores: 10\n",
      "Digite outros valores: 5\n",
      "['2', '10', '5']\n",
      "[2]\n"
     ]
    }
   ],
   "source": [
    "lista1 = [ ]\n",
    "lista2 = [ ]\n",
    "\n",
    "\n",
    "# adicionando os valores de uma lista em uma terceira lista\n",
    "for i in range(3):\n",
    "    valor = input(\"Digite um número: \")\n",
    "    lista1.append(valor)\n",
    "print(lista1)\n",
    "\n",
    "for i in range(3):\n",
    "    valor = input(\"Digite outros valores: \")\n",
    "    lista2.append(valor)\n",
    "print(lista2)\n",
    "\n",
    "lista3 = []\n",
    "\n",
    "# comparamos os valores existentes nas duas listas e depois somente se for diferente (!=)\n",
    "# adicionamos na lista3\n",
    "\n",
    "if ((lista1[i] and lista2[i]) != lista3):\n",
    "    lista3.append(i)\n",
    "print(lista3)"
   ]
  },
  {
   "cell_type": "markdown",
   "id": "eb8438e6",
   "metadata": {},
   "source": [
    "3. Faça um programa que imprima o menor elemento da lista contendo n elementos do tipo inteiro com \"for\"."
   ]
  },
  {
   "cell_type": "code",
   "execution_count": 4,
   "id": "b03fdd95",
   "metadata": {},
   "outputs": [
    {
     "name": "stdout",
     "output_type": "stream",
     "text": [
      "-10\n"
     ]
    }
   ],
   "source": [
    "T = [-10, -8, 0, 1, 2, 5, -2, -4]\n",
    "menor_valor = []\n",
    "\n",
    "for i in T:\n",
    "    if i < 0: # só analisa os números menores que zero\n",
    "        menor_valor.append(i) # adicionando o menor valor do indice\n",
    "        min(menor_valor)\n",
    "        \n",
    "print(menor_valor[0])"
   ]
  },
  {
   "cell_type": "markdown",
   "id": "1ae71d5f",
   "metadata": {},
   "source": [
    "4. A lista de temperaturas de Mons, na Bélgica, foi armazenada na lista T = [ -10, -8, 0, 1, 2, 5, -2, -4]. Faça um programa que imprima a **menor** e a **maior** temperatura, assim como a temperatura **média**."
   ]
  },
  {
   "cell_type": "code",
   "execution_count": 13,
   "id": "e5da4136",
   "metadata": {},
   "outputs": [],
   "source": [
    "def menor_maior_media(temp):\n",
    "    \n",
    "    op_temp = Stack()\n",
    "    \n",
    "    valores = [] # vai receber o restante dos valores\n",
    "    t_max = [] # vai armazenar os valores maiores ou igual a zero\n",
    "    t_min = [] # vai armazenar os valores menores que zero\n",
    "    \n",
    "    token_list = temp.split()\n",
    "    \n",
    "    for token in token_list:\n",
    "        \n",
    "        if token >= '0':\n",
    "            t_max.append(token)\n",
    "            op_temp.push(token)\n",
    "            # print(t_max)\n",
    "        elif token < '0':\n",
    "            t_min.append(token)\n",
    "            op_temp.push(token)\n",
    "        else: # agora imprimi os valores de acordo com os valores menores ou maiores que 0\n",
    "            while (not op_temp.is_empty() and (op_temp[op_temp.peek()] >= (t_max[token] or t_min[token]))):\n",
    "                valores.append(op_temp.pop())\n",
    "            op_temp.push(token)\n",
    "            \n",
    "    while not op_temp.is_empty():\n",
    "        valores.append(op_temp.pop()) # falta calcular a média não está imprimindo o valor\n",
    "        # print(valores)\n",
    "    return min(t_min), max(temp)"
   ]
  },
  {
   "cell_type": "code",
   "execution_count": 14,
   "id": "89588e7a",
   "metadata": {},
   "outputs": [
    {
     "name": "stdout",
     "output_type": "stream",
     "text": [
      "('-10,', '8')\n"
     ]
    }
   ],
   "source": [
    "print(menor_maior_media(\"-10, -8, 0, 1, 2, 5, -2, -4\"))"
   ]
  }
 ],
 "metadata": {
  "kernelspec": {
   "display_name": "Python 3 (ipykernel)",
   "language": "python",
   "name": "python3"
  },
  "language_info": {
   "codemirror_mode": {
    "name": "ipython",
    "version": 3
   },
   "file_extension": ".py",
   "mimetype": "text/x-python",
   "name": "python",
   "nbconvert_exporter": "python",
   "pygments_lexer": "ipython3",
   "version": "3.9.12"
  }
 },
 "nbformat": 4,
 "nbformat_minor": 5
}
