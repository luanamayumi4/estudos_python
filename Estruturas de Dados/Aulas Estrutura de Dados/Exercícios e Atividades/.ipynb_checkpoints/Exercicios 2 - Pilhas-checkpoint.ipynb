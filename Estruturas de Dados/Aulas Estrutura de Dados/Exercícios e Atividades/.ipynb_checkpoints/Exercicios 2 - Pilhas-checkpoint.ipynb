{
 "cells": [
  {
   "cell_type": "code",
   "execution_count": 1,
   "id": "afadb104",
   "metadata": {},
   "outputs": [],
   "source": [
    "class Stack:\n",
    "    def __init__(self):\n",
    "        self.itens = []\n",
    "        \n",
    "    def is_empty(self):\n",
    "        return self.itens == []\n",
    "    \n",
    "    def pop(self):\n",
    "        return self.itens.pop()\n",
    "    \n",
    "    def push(self, item):\n",
    "        self.itens.append(item)\n",
    "        \n",
    "    def peek(self):\n",
    "        return self.itens[len(self.itens) - 1]\n",
    "    \n",
    "    def size(self):\n",
    "        return len(self.itens)"
   ]
  },
  {
   "cell_type": "code",
   "execution_count": null,
   "id": "db1a8a58",
   "metadata": {},
   "outputs": [],
   "source": [
    "(0,5) Escreva um programa para ler uma frase e imprimi-la com as letras das \n",
    "palavras invertidas. Exemplo: a frase “a pilha do gato” deve sair “a ahlip od \n",
    "otag”."
   ]
  },
  {
   "cell_type": "markdown",
   "id": "70fe4372",
   "metadata": {},
   "source": [
    "(0,25) Mostre a situação da Pilha P, inicialmente vazia, após a execução de cadauma das operações a seguir:"
   ]
  },
  {
   "cell_type": "code",
   "execution_count": 17,
   "id": "9b981f8b",
   "metadata": {},
   "outputs": [],
   "source": [
    "p.push('a') # adiciona 'a' na pilha\n",
    "p.push('b') # adiciona 'b' na pilha\n",
    "p.push('c') # adiciona 'c' na pilha\n",
    "p.push(p.peek()) # adiciona 'c' na pilha\n",
    "p.push('d') # adiciona 'd' na pilha\n",
    "p.pop() # remove 'd' da pilha\n",
    "p.pop() # remove 'c' da pilha\n",
    "\n",
    "# Portanto p = [a, b, c]"
   ]
  },
  {
   "cell_type": "code",
   "execution_count": null,
   "id": "96868f47",
   "metadata": {},
   "outputs": [],
   "source": []
  }
 ],
 "metadata": {
  "kernelspec": {
   "display_name": "Python 3 (ipykernel)",
   "language": "python",
   "name": "python3"
  },
  "language_info": {
   "codemirror_mode": {
    "name": "ipython",
    "version": 3
   },
   "file_extension": ".py",
   "mimetype": "text/x-python",
   "name": "python",
   "nbconvert_exporter": "python",
   "pygments_lexer": "ipython3",
   "version": "3.9.12"
  }
 },
 "nbformat": 4,
 "nbformat_minor": 5
}
