{
 "cells": [
  {
   "cell_type": "markdown",
   "id": "a58d52d8",
   "metadata": {},
   "source": [
    "### Exercícios - Atividade avaliativa"
   ]
  },
  {
   "cell_type": "code",
   "execution_count": 1,
   "id": "6fcd5481",
   "metadata": {},
   "outputs": [],
   "source": [
    "import pandas as pd\n",
    "import numpy as np\n",
    "from statistics import median "
   ]
  },
  {
   "cell_type": "code",
   "execution_count": 2,
   "id": "00e3490f",
   "metadata": {},
   "outputs": [],
   "source": [
    "class Stack:\n",
    "    def __init__(self): # método construtor\n",
    "        self.itens = [] # criamos como referência para a classe uma lista vazia.\n",
    "        \n",
    "    def is_empty(self):\n",
    "        return self.itens == []\n",
    "    \n",
    "    def pop(self):\n",
    "        return self.itens.pop()\n",
    "    \n",
    "    def push(self, item):\n",
    "        self.itens.append(item)\n",
    "        \n",
    "    def peek(self):\n",
    "        return self.itens[len(self.itens) - 1]\n",
    "    \n",
    "    def size(self):\n",
    "        return len(self.itens)"
   ]
  },
  {
   "cell_type": "markdown",
   "id": "9a505f31",
   "metadata": {},
   "source": [
    "1. Faça um programa que leia duas listas de inteiros com entrada do usuário e que gere uma terceira com os elementos das duas primeiras."
   ]
  },
  {
   "cell_type": "code",
   "execution_count": null,
   "id": "d8acd5ab",
   "metadata": {},
   "outputs": [],
   "source": []
  },
  {
   "cell_type": "code",
   "execution_count": null,
   "id": "b7f18ce3",
   "metadata": {},
   "outputs": [],
   "source": []
  },
  {
   "cell_type": "markdown",
   "id": "d10c8472",
   "metadata": {},
   "source": [
    "2. Faça um programa que percorra duas listas de inteiros com entrada do usuário e que e gere uma terceira sem elementos repetidos"
   ]
  },
  {
   "cell_type": "code",
   "execution_count": 27,
   "id": "f4eaa9b3",
   "metadata": {},
   "outputs": [],
   "source": [
    "def repetidos(num):\n",
    "    op_num = Stack()\n",
    "    \n",
    "    lista_repetida = []\n",
    "    \n",
    "    token_list = num.split()\n",
    "    \n",
    "    for token in token_list:\n",
    "        \n",
    "        if token == \"[-10, -8, 0, 1, 2, 5, -2, -4]\":\n",
    "            lista_repetida.append(token)\n",
    "            # print(lista_repetida)\n",
    "        else:\n",
    "            op_num.push(token)\n",
    "            # print(op_num)\n",
    "    while (not op_num.is_empty() and (op_num.peek() != lista_repetida[token])):\n",
    "        op_num.pop()\n",
    "    op_num.push(token)\n",
    "    \n",
    "    while not op_num.is_empty():\n",
    "        lista_repetida.append(op_temp.pop())\n",
    "        # print(valores)\n",
    "    return lista_repetida\n",
    "    "
   ]
  },
  {
   "cell_type": "code",
   "execution_count": 28,
   "id": "70bba978",
   "metadata": {},
   "outputs": [
    {
     "ename": "TypeError",
     "evalue": "list indices must be integers or slices, not str",
     "output_type": "error",
     "traceback": [
      "\u001b[1;31m---------------------------------------------------------------------------\u001b[0m",
      "\u001b[1;31mTypeError\u001b[0m                                 Traceback (most recent call last)",
      "Input \u001b[1;32mIn [28]\u001b[0m, in \u001b[0;36m<cell line: 1>\u001b[1;34m()\u001b[0m\n\u001b[1;32m----> 1\u001b[0m \u001b[38;5;28mprint\u001b[39m(\u001b[43mrepetidos\u001b[49m\u001b[43m(\u001b[49m\u001b[38;5;124;43m\"\u001b[39;49m\u001b[38;5;124;43m-10, -3, 0, 6, 2, 5, -2, -4\u001b[39;49m\u001b[38;5;124;43m\"\u001b[39;49m\u001b[43m)\u001b[49m)\n",
      "Input \u001b[1;32mIn [27]\u001b[0m, in \u001b[0;36mrepetidos\u001b[1;34m(num)\u001b[0m\n\u001b[0;32m     14\u001b[0m         op_num\u001b[38;5;241m.\u001b[39mpush(token)\n\u001b[0;32m     15\u001b[0m         \u001b[38;5;66;03m# print(op_num)\u001b[39;00m\n\u001b[1;32m---> 16\u001b[0m \u001b[38;5;28;01mwhile\u001b[39;00m (\u001b[38;5;129;01mnot\u001b[39;00m op_num\u001b[38;5;241m.\u001b[39mis_empty() \u001b[38;5;129;01mand\u001b[39;00m (op_num\u001b[38;5;241m.\u001b[39mpeek() \u001b[38;5;241m!=\u001b[39m \u001b[43mlista_repetida\u001b[49m\u001b[43m[\u001b[49m\u001b[43mtoken\u001b[49m\u001b[43m]\u001b[49m)):\n\u001b[0;32m     17\u001b[0m     op_num\u001b[38;5;241m.\u001b[39mpop()\n\u001b[0;32m     18\u001b[0m op_num\u001b[38;5;241m.\u001b[39mpush(token)\n",
      "\u001b[1;31mTypeError\u001b[0m: list indices must be integers or slices, not str"
     ]
    }
   ],
   "source": [
    "print(repetidos(\"-10, -3, 0, 6, 2, 5, -2, -4\"))"
   ]
  },
  {
   "cell_type": "markdown",
   "id": "eb8438e6",
   "metadata": {},
   "source": [
    "3. Faça um programa que imprima o menor elemento da lista contendo n elementos do tipo inteiro com \"for\"."
   ]
  },
  {
   "cell_type": "code",
   "execution_count": 3,
   "id": "b03fdd95",
   "metadata": {},
   "outputs": [
    {
     "name": "stdout",
     "output_type": "stream",
     "text": [
      "-10\n"
     ]
    }
   ],
   "source": [
    "T = [-10, -8, 0, 1, 2, 5, -2, -4]\n",
    "menor_valor = []\n",
    "\n",
    "for i in T:\n",
    "    if i < 0: # só analisa os números menores que zero\n",
    "        menor_valor.append(i) # adicionando o menor valor do indice\n",
    "        min(menor_valor)\n",
    "        \n",
    "print(menor_valor[0])"
   ]
  },
  {
   "cell_type": "markdown",
   "id": "1ae71d5f",
   "metadata": {},
   "source": [
    "4. A lista de temperaturas de Mons, na Bélgica, foi armazenada na lista T = [ -10, -8, 0, 1, 2, 5, -2, -4]. Faça um programa que imprima a **menor** e a **maior** temperatura, assim como a temperatura **média**."
   ]
  },
  {
   "cell_type": "code",
   "execution_count": 4,
   "id": "e5da4136",
   "metadata": {},
   "outputs": [],
   "source": [
    "def menor_maior_media(temp):\n",
    "    \n",
    "    op_temp = Stack()\n",
    "    \n",
    "    valores = [] # vai receber o restante dos valores\n",
    "    t_max = [] # vai armazenar os valores maiores ou igual a zero\n",
    "    t_min = [] # vai armazenar os valores menores que zero\n",
    "    \n",
    "    token_list = temp.split()\n",
    "    \n",
    "    for token in token_list:\n",
    "        \n",
    "        if token >= '0':\n",
    "            t_max.append(token)\n",
    "            op_temp.push(token)\n",
    "            # print(t_max)\n",
    "        elif token < '0':\n",
    "            t_min.append(token)\n",
    "            op_temp.push(token)\n",
    "        else: # agora imprimi os valores de acordo com os valores menores ou maiores que 0\n",
    "            while (not op_temp.is_empty() and (op_temp[op_temp.peek()] >= (t_max[token] or t_min[token]))):\n",
    "                valores.append(op_temp.pop())\n",
    "            op_temp.push(token)\n",
    "            \n",
    "    while not op_temp.is_empty():\n",
    "        valores.append(op_temp.pop()) # falta calcular a média não está imprimindo o valor\n",
    "        # print(valores)\n",
    "    return min(t_min), max(temp)"
   ]
  },
  {
   "cell_type": "code",
   "execution_count": 5,
   "id": "89588e7a",
   "metadata": {},
   "outputs": [
    {
     "name": "stdout",
     "output_type": "stream",
     "text": [
      "('-10,', '8')\n"
     ]
    }
   ],
   "source": [
    "print(menor_maior_media(\"-10, -8, 0, 1, 2, 5, -2, -4\"))"
   ]
  }
 ],
 "metadata": {
  "kernelspec": {
   "display_name": "Python 3 (ipykernel)",
   "language": "python",
   "name": "python3"
  },
  "language_info": {
   "codemirror_mode": {
    "name": "ipython",
    "version": 3
   },
   "file_extension": ".py",
   "mimetype": "text/x-python",
   "name": "python",
   "nbconvert_exporter": "python",
   "pygments_lexer": "ipython3",
   "version": "3.9.12"
  }
 },
 "nbformat": 4,
 "nbformat_minor": 5
}
