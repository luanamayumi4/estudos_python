{
 "cells": [
  {
   "cell_type": "markdown",
   "id": "0caadfdc",
   "metadata": {},
   "source": [
    "### Exercícios - Atividade avaliativa"
   ]
  },
  {
   "cell_type": "code",
   "execution_count": 8,
   "id": "3fb2c047",
   "metadata": {},
   "outputs": [],
   "source": [
    "import pandas as pd"
   ]
  },
  {
   "cell_type": "markdown",
   "id": "59c782fb",
   "metadata": {},
   "source": []
  },
  {
   "cell_type": "code",
   "execution_count": null,
   "id": "91171c82",
   "metadata": {},
   "outputs": [],
   "source": []
  },
  {
   "cell_type": "code",
   "execution_count": null,
   "id": "441111c6",
   "metadata": {},
   "outputs": [],
   "source": []
  },
  {
   "cell_type": "code",
   "execution_count": null,
   "id": "a3a691d3",
   "metadata": {},
   "outputs": [],
   "source": []
  },
  {
   "cell_type": "markdown",
   "id": "1318c33a",
   "metadata": {},
   "source": [
    "4. A lista de temperaturas de Mons, na Bélgica, foi armazenada na lista T = [ -10, -8, 0, 1, 2, 5, -2, -4]. Faça um programa que imprima a menor e a maior temperatura, assim como a temperatura média."
   ]
  },
  {
   "cell_type": "code",
   "execution_count": 27,
   "id": "62a9242f",
   "metadata": {},
   "outputs": [
    {
     "data": {
      "text/plain": [
       "(0   -10\n",
       " dtype: int64,\n",
       " 0    5\n",
       " dtype: int64,\n",
       " 0   -1.0\n",
       " dtype: float64)"
      ]
     },
     "execution_count": 27,
     "metadata": {},
     "output_type": "execute_result"
    }
   ],
   "source": [
    "T = [-10, -8, 0, 1, 2, 5, -2, 4]\n",
    "T = pd.DataFrame(T)\n",
    "\n",
    "T.min(), T.max(), T.mean()"
   ]
  }
 ],
 "metadata": {
  "kernelspec": {
   "display_name": "Python 3 (ipykernel)",
   "language": "python",
   "name": "python3"
  },
  "language_info": {
   "codemirror_mode": {
    "name": "ipython",
    "version": 3
   },
   "file_extension": ".py",
   "mimetype": "text/x-python",
   "name": "python",
   "nbconvert_exporter": "python",
   "pygments_lexer": "ipython3",
   "version": "3.9.12"
  }
 },
 "nbformat": 4,
 "nbformat_minor": 5
}
