{
 "cells": [
  {
   "cell_type": "code",
   "execution_count": 1,
   "id": "afadb104",
   "metadata": {},
   "outputs": [],
   "source": [
    "class Stack:\n",
    "    def __init__(self):\n",
    "        self.itens = []\n",
    "        \n",
    "    def is_empty(self):\n",
    "        return self.itens == []\n",
    "    \n",
    "    def pop(self):\n",
    "        return self.itens.pop()\n",
    "    \n",
    "    def push(self, item):\n",
    "        self.itens.append(item)\n",
    "        \n",
    "    def peek(self):\n",
    "        return self.itens[len(self.itens) - 1]\n",
    "    \n",
    "    def size(self):\n",
    "        return len(self.itens)"
   ]
  },
  {
   "cell_type": "code",
   "execution_count": null,
   "id": "db1a8a58",
   "metadata": {},
   "outputs": [],
   "source": [
    "Exercícios (PILHAS) (0,5) Escreva um programa para ler uma frase e imprimi-la com as letras das \n",
    "palavras invertidas. Exemplo: a frase “a pilha do gato” deve sair “a ahlip od \n",
    "otag”."
   ]
  },
  {
   "cell_type": "code",
   "execution_count": 2,
   "id": "9bda4201",
   "metadata": {},
   "outputs": [],
   "source": [
    "def palavra_invertida(palavra):\n",
    "    \n",
    "    op_palavra = Stack()\n",
    "    \n",
    "    valores = [] # vai receber as letras retiradas da pilha\n",
    "   \n",
    "    token_list = palavra.split()\n",
    "    \n",
    "    for token in token_list:\n",
    "        \n",
    "        if token >= 'ABCDEFGHIJKLMNOPQRSTUVXYW':\n",
    "            op_palavra.push(token)\n",
    "            # print(op_palavra)\n",
    "        else:\n",
    "            valores.append(op_palavra.pop())\n",
    "            break\n",
    "        \n",
    "            \n",
    "    while not op_palavra.is_empty():\n",
    "        valores.append(op_palavra.pop())\n",
    "        # print(valores)\n",
    "        \n",
    "    return \" \".join(valores)"
   ]
  },
  {
   "cell_type": "code",
   "execution_count": 3,
   "id": "78609982",
   "metadata": {},
   "outputs": [
    {
     "name": "stdout",
     "output_type": "stream",
     "text": [
      "cedo come gato o\n"
     ]
    }
   ],
   "source": [
    "print(palavra_invertida(\"o gato come cedo\" ))"
   ]
  },
  {
   "cell_type": "code",
   "execution_count": null,
   "id": "45e1dd5e",
   "metadata": {},
   "outputs": [],
   "source": []
  }
 ],
 "metadata": {
  "kernelspec": {
   "display_name": "Python 3 (ipykernel)",
   "language": "python",
   "name": "python3"
  },
  "language_info": {
   "codemirror_mode": {
    "name": "ipython",
    "version": 3
   },
   "file_extension": ".py",
   "mimetype": "text/x-python",
   "name": "python",
   "nbconvert_exporter": "python",
   "pygments_lexer": "ipython3",
   "version": "3.9.12"
  }
 },
 "nbformat": 4,
 "nbformat_minor": 5
}
