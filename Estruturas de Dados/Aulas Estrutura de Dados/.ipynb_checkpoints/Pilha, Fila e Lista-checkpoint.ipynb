{
 "cells": [
  {
   "cell_type": "markdown",
   "id": "7a7d211e",
   "metadata": {},
   "source": [
    "### Pilha, Fila e Lista"
   ]
  },
  {
   "cell_type": "markdown",
   "id": "4d0c6a36",
   "metadata": {},
   "source": [
    "Pilhas e Filas apresentam regras que são importantes.\n",
    "- [ ] Pilha FIFO\n",
    "- [ ] Fila FIFO (Teoria de Filas)"
   ]
  },
  {
   "cell_type": "code",
   "execution_count": null,
   "id": "5b2efb1c",
   "metadata": {},
   "outputs": [],
   "source": []
  },
  {
   "cell_type": "code",
   "execution_count": null,
   "id": "bc40a900",
   "metadata": {},
   "outputs": [],
   "source": []
  },
  {
   "cell_type": "code",
   "execution_count": null,
   "id": "d0ee776f",
   "metadata": {},
   "outputs": [],
   "source": []
  },
  {
   "cell_type": "code",
   "execution_count": null,
   "id": "c30c1ced",
   "metadata": {},
   "outputs": [],
   "source": []
  },
  {
   "cell_type": "code",
   "execution_count": null,
   "id": "5f586a76",
   "metadata": {},
   "outputs": [],
   "source": []
  },
  {
   "cell_type": "code",
   "execution_count": null,
   "id": "8f72a563",
   "metadata": {},
   "outputs": [],
   "source": []
  },
  {
   "cell_type": "code",
   "execution_count": null,
   "id": "8fda2863",
   "metadata": {},
   "outputs": [],
   "source": []
  }
 ],
 "metadata": {
  "kernelspec": {
   "display_name": "Python 3 (ipykernel)",
   "language": "python",
   "name": "python3"
  },
  "language_info": {
   "codemirror_mode": {
    "name": "ipython",
    "version": 3
   },
   "file_extension": ".py",
   "mimetype": "text/x-python",
   "name": "python",
   "nbconvert_exporter": "python",
   "pygments_lexer": "ipython3",
   "version": "3.9.12"
  }
 },
 "nbformat": 4,
 "nbformat_minor": 5
}
