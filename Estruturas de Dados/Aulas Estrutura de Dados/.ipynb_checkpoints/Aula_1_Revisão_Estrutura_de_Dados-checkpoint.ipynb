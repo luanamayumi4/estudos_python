{
 "cells": [
  {
   "cell_type": "markdown",
   "metadata": {
    "id": "4p1ZZ2Rgim0K"
   },
   "source": [
    "# Estrutura de Dados\n",
    "## Como apresentar da melhor maneira os dados em memória RAM"
   ]
  },
  {
   "cell_type": "code",
   "execution_count": 1,
   "metadata": {
    "colab": {
     "base_uri": "https://localhost:8080/"
    },
    "id": "bgGOK6N_iTWX",
    "outputId": "6a56af2b-aad8-4e9c-8c41-5c945c7b9abd"
   },
   "outputs": [
    {
     "data": {
      "text/plain": [
       "{'Linguagem': ['Python', 'Java', 'JavaScript', 'C++'],\n",
       " 'Dinâmica': ['Sim', 'Não', 'Não', 'Não']}"
      ]
     },
     "execution_count": 1,
     "metadata": {},
     "output_type": "execute_result"
    }
   ],
   "source": [
    "lista = [123, 15.8, \"Python\",'Uma linguagem dinâmica'] #aceita mais de um tipo de dado (lista built in)\n",
    "lista\n",
    "\n",
    "dicionario = {\n",
    "          \"Linguagem\":['Python', 'Java', 'JavaScript', 'C++'],\n",
    "          \"Dinâmica\":['Sim', 'Não', 'Não', 'Não']\n",
    "}\n",
    "dicionario"
   ]
  },
  {
   "cell_type": "code",
   "execution_count": 2,
   "metadata": {
    "id": "0zUSvQfbl2TK"
   },
   "outputs": [],
   "source": [
    "import pandas as pd\n",
    "\n",
    "dicionario = pd.DataFrame(dicionario)"
   ]
  },
  {
   "cell_type": "code",
   "execution_count": 3,
   "metadata": {
    "colab": {
     "base_uri": "https://localhost:8080/",
     "height": 175
    },
    "id": "SSLTLMSDl9Om",
    "outputId": "660a16cd-61a7-4214-ae40-16cd5c22c44b"
   },
   "outputs": [
    {
     "data": {
      "text/html": [
       "<div>\n",
       "<style scoped>\n",
       "    .dataframe tbody tr th:only-of-type {\n",
       "        vertical-align: middle;\n",
       "    }\n",
       "\n",
       "    .dataframe tbody tr th {\n",
       "        vertical-align: top;\n",
       "    }\n",
       "\n",
       "    .dataframe thead th {\n",
       "        text-align: right;\n",
       "    }\n",
       "</style>\n",
       "<table border=\"1\" class=\"dataframe\">\n",
       "  <thead>\n",
       "    <tr style=\"text-align: right;\">\n",
       "      <th></th>\n",
       "      <th>Linguagem</th>\n",
       "      <th>Dinâmica</th>\n",
       "    </tr>\n",
       "  </thead>\n",
       "  <tbody>\n",
       "    <tr>\n",
       "      <th>0</th>\n",
       "      <td>Python</td>\n",
       "      <td>Sim</td>\n",
       "    </tr>\n",
       "    <tr>\n",
       "      <th>1</th>\n",
       "      <td>Java</td>\n",
       "      <td>Não</td>\n",
       "    </tr>\n",
       "    <tr>\n",
       "      <th>2</th>\n",
       "      <td>JavaScript</td>\n",
       "      <td>Não</td>\n",
       "    </tr>\n",
       "    <tr>\n",
       "      <th>3</th>\n",
       "      <td>C++</td>\n",
       "      <td>Não</td>\n",
       "    </tr>\n",
       "  </tbody>\n",
       "</table>\n",
       "</div>"
      ],
      "text/plain": [
       "    Linguagem Dinâmica\n",
       "0      Python      Sim\n",
       "1        Java      Não\n",
       "2  JavaScript      Não\n",
       "3         C++      Não"
      ]
     },
     "metadata": {},
     "output_type": "display_data"
    }
   ],
   "source": [
    "display(dicionario)"
   ]
  },
  {
   "cell_type": "code",
   "execution_count": 4,
   "metadata": {
    "id": "s2YBmeWnkeYz"
   },
   "outputs": [],
   "source": [
    "# Foco em estruturas heterogêneas para utilizá-los ao mesmo tempo\n"
   ]
  },
  {
   "cell_type": "markdown",
   "metadata": {
    "id": "dLEtU6ahlRDn"
   },
   "source": [
    "# Análise de Complexibilidade de Algoritmos"
   ]
  },
  {
   "cell_type": "markdown",
   "metadata": {
    "id": "2z50yaRNmHmH"
   },
   "source": [
    "### Alguns algoritmos são bons até um tamanho de dados. Porem com grandes quantidades, ele pode não ter um desempenho bom.\n",
    "\n",
    "#### Teremos uma função que mostrará o quão complexo aquele agoritmo é"
   ]
  },
  {
   "cell_type": "markdown",
   "metadata": {
    "id": "y3mylaW4mudv"
   },
   "source": [
    "#### ***Revisão***"
   ]
  },
  {
   "cell_type": "code",
   "execution_count": 5,
   "metadata": {
    "colab": {
     "base_uri": "https://localhost:8080/"
    },
    "id": "RajBiAf6lcvg",
    "outputId": "4f561b16-84ae-4690-aeb0-88e013e645a0"
   },
   "outputs": [],
   "source": [
    "# Variáveis\n",
    "\n",
    "# tipo int c = 2\n",
    "# tiplo float d = 1.5\n",
    "# tipo booleano; True/False\n",
    "# tipo string; y = 'Python'\n",
    "\n",
    "\n",
    "# Operadores > < >= <=\n",
    "# retorna verdadeiro ou falso\n",
    "\n",
    "# Lógicos\n",
    "# not and or\n",
    "\n",
    "# Entrada de dados\n",
    "# var = int(input('Digite o numero aqui: ')) # caso precise trabalhar com o dado em sim, precisamos fazer o casting\n",
    "# var = float(input('Digite o numero aqui: ')) # caso precise trabalhar com o dado em sim, precisamos fazer o casting\n",
    "\n",
    "# Condicional (if/elif/else)\n",
    "# Repetição (while/for)"
   ]
  },
  {
   "cell_type": "code",
   "execution_count": 6,
   "metadata": {
    "colab": {
     "base_uri": "https://localhost:8080/"
    },
    "id": "eUQaC5Lrn6Gf",
    "outputId": "6fb959df-15f0-4672-eabc-73fddd2da63e"
   },
   "outputs": [
    {
     "name": "stdout",
     "output_type": "stream",
     "text": [
      "123\n",
      "15.8\n",
      "Python\n",
      "Uma linguagem dinâmica\n"
     ]
    }
   ],
   "source": [
    "for l in lista:\n",
    "  print(l)"
   ]
  },
  {
   "cell_type": "code",
   "execution_count": 7,
   "metadata": {
    "id": "gRXfNAjWn6J-"
   },
   "outputs": [],
   "source": [
    "# Linguagem interpretada: Existe comandos que interpretam linha a linha (Ex: navegador)\n",
    "# Linguagem compilada: Cria um arq diferente do que foi programado. "
   ]
  },
  {
   "cell_type": "code",
   "execution_count": 8,
   "metadata": {
    "colab": {
     "base_uri": "https://localhost:8080/"
    },
    "id": "a5ZoyZn8n6NF",
    "outputId": "c65e716a-2227-4cbf-d71b-9c9fa7dce6a9"
   },
   "outputs": [
    {
     "data": {
      "text/plain": [
       "123"
      ]
     },
     "execution_count": 8,
     "metadata": {},
     "output_type": "execute_result"
    }
   ],
   "source": [
    "lista[0]"
   ]
  },
  {
   "cell_type": "code",
   "execution_count": 9,
   "metadata": {
    "colab": {
     "base_uri": "https://localhost:8080/"
    },
    "id": "W7xK5GbFttIS",
    "outputId": "ef534d07-0fd1-4c31-cecd-2703c9c03407"
   },
   "outputs": [
    {
     "data": {
      "text/plain": [
       "15.8"
      ]
     },
     "execution_count": 9,
     "metadata": {},
     "output_type": "execute_result"
    }
   ],
   "source": [
    "lista[1]"
   ]
  },
  {
   "cell_type": "code",
   "execution_count": 10,
   "metadata": {
    "colab": {
     "base_uri": "https://localhost:8080/",
     "height": 35
    },
    "id": "Dr4vT839sjsU",
    "outputId": "28e04136-3097-4d59-8aa0-c4daf10097bb"
   },
   "outputs": [
    {
     "data": {
      "text/plain": [
       "'Python'"
      ]
     },
     "execution_count": 10,
     "metadata": {},
     "output_type": "execute_result"
    }
   ],
   "source": [
    "lista[2]"
   ]
  },
  {
   "cell_type": "code",
   "execution_count": 11,
   "metadata": {
    "colab": {
     "base_uri": "https://localhost:8080/",
     "height": 35
    },
    "id": "Tk7zAOMAsjyG",
    "outputId": "032c5a27-d34c-4380-aa7c-50163bdea455"
   },
   "outputs": [
    {
     "data": {
      "text/plain": [
       "'Uma linguagem dinâmica'"
      ]
     },
     "execution_count": 11,
     "metadata": {},
     "output_type": "execute_result"
    }
   ],
   "source": [
    "lista[3]"
   ]
  },
  {
   "cell_type": "code",
   "execution_count": 12,
   "metadata": {
    "colab": {
     "base_uri": "https://localhost:8080/"
    },
    "id": "2LoL7FD1sj20",
    "outputId": "ae431532-796e-4f95-d36f-3a11f9dd7aff"
   },
   "outputs": [
    {
     "data": {
      "text/plain": [
       "[15.8, 'Python']"
      ]
     },
     "execution_count": 12,
     "metadata": {},
     "output_type": "execute_result"
    }
   ],
   "source": [
    "lista[1:3]"
   ]
  },
  {
   "cell_type": "code",
   "execution_count": 13,
   "metadata": {
    "colab": {
     "base_uri": "https://localhost:8080/",
     "height": 35
    },
    "id": "1YErV2Agsj-6",
    "outputId": "fad2ba3e-7dbd-4386-82ac-91bb3b362fb8"
   },
   "outputs": [
    {
     "data": {
      "text/plain": [
       "'Uma linguagem dinâmica'"
      ]
     },
     "execution_count": 13,
     "metadata": {},
     "output_type": "execute_result"
    }
   ],
   "source": [
    "lista[-1]"
   ]
  },
  {
   "cell_type": "code",
   "execution_count": 14,
   "metadata": {
    "colab": {
     "base_uri": "https://localhost:8080/"
    },
    "id": "nTR-JMvQv8s2",
    "outputId": "089aafa4-f95b-4fe1-b03e-da286047c935"
   },
   "outputs": [
    {
     "data": {
      "text/plain": [
       "[7, 8, 9, 1, 2, 3]"
      ]
     },
     "execution_count": 14,
     "metadata": {},
     "output_type": "execute_result"
    }
   ],
   "source": [
    "z = [7, 8, 9, 1, 2, 3]\n",
    "z"
   ]
  },
  {
   "cell_type": "code",
   "execution_count": 15,
   "metadata": {
    "colab": {
     "base_uri": "https://localhost:8080/"
    },
    "id": "DDmEElQPv8wB",
    "outputId": "34afea3d-925a-4bbe-b65a-b606261e87c4"
   },
   "outputs": [
    {
     "data": {
      "text/plain": [
       "[7, 8, 9, 1, 2, 3, 15]"
      ]
     },
     "execution_count": 15,
     "metadata": {},
     "output_type": "execute_result"
    }
   ],
   "source": [
    "z.append(15)\n",
    "z "
   ]
  },
  {
   "cell_type": "code",
   "execution_count": 16,
   "metadata": {
    "colab": {
     "base_uri": "https://localhost:8080/"
    },
    "id": "2ebRhrNZv80U",
    "outputId": "292226b0-10b1-46e9-afcf-21ea652e8d62"
   },
   "outputs": [
    {
     "name": "stdout",
     "output_type": "stream",
     "text": [
      "5050\n"
     ]
    }
   ],
   "source": [
    "# EXERCICIO 1: Criar um programa que realize a soma dos valores de 1 até 100. Mostrar o resultado final\n",
    "\n",
    "soma = 0\n",
    "for i in range(1, 101, 1):\n",
    "  soma += i\n",
    "\n",
    "print(soma)"
   ]
  },
  {
   "cell_type": "code",
   "execution_count": 17,
   "metadata": {
    "colab": {
     "base_uri": "https://localhost:8080/"
    },
    "id": "eM0VBYu0v8_v",
    "outputId": "8662f246-d34c-4a1f-c8e4-bcc26251802b"
   },
   "outputs": [
    {
     "name": "stdout",
     "output_type": "stream",
     "text": [
      "0\n",
      "1\n",
      "3\n",
      "6\n",
      "10\n",
      "15\n",
      "21\n",
      "28\n",
      "36\n",
      "45\n",
      "55\n",
      "66\n",
      "78\n",
      "91\n",
      "105\n",
      "120\n",
      "136\n",
      "153\n",
      "171\n",
      "190\n",
      "210\n",
      "231\n",
      "253\n",
      "276\n",
      "300\n",
      "325\n",
      "351\n",
      "378\n",
      "406\n",
      "435\n",
      "465\n",
      "496\n",
      "528\n",
      "561\n",
      "595\n",
      "630\n",
      "666\n",
      "703\n",
      "741\n",
      "780\n",
      "820\n",
      "861\n",
      "903\n",
      "946\n",
      "990\n",
      "1035\n",
      "1081\n",
      "1128\n",
      "1176\n",
      "1225\n",
      "1275\n",
      "1326\n",
      "1378\n",
      "1431\n",
      "1485\n",
      "1540\n",
      "1596\n",
      "1653\n",
      "1711\n",
      "1770\n",
      "1830\n",
      "1891\n",
      "1953\n",
      "2016\n",
      "2080\n",
      "2145\n",
      "2211\n",
      "2278\n",
      "2346\n",
      "2415\n",
      "2485\n",
      "2556\n",
      "2628\n",
      "2701\n",
      "2775\n",
      "2850\n",
      "2926\n",
      "3003\n",
      "3081\n",
      "3160\n",
      "3240\n",
      "3321\n",
      "3403\n",
      "3486\n",
      "3570\n",
      "3655\n",
      "3741\n",
      "3828\n",
      "3916\n",
      "4005\n",
      "4095\n",
      "4186\n",
      "4278\n",
      "4371\n",
      "4465\n",
      "4560\n",
      "4656\n",
      "4753\n",
      "4851\n",
      "4950\n",
      "5050\n"
     ]
    }
   ],
   "source": [
    "soma = 0\n",
    "for i in range(0, 101, 1):\n",
    "  if i < 101:\n",
    "    soma += i\n",
    "    print(soma)"
   ]
  },
  {
   "cell_type": "code",
   "execution_count": 18,
   "metadata": {
    "colab": {
     "base_uri": "https://localhost:8080/"
    },
    "id": "3dwGY0o7v88F",
    "outputId": "49b549a6-4c86-4496-a4e7-b948c762179d"
   },
   "outputs": [
    {
     "name": "stdout",
     "output_type": "stream",
     "text": [
      "5050\n"
     ]
    }
   ],
   "source": [
    "soma = 0\n",
    "for i in range(0, 101, 1):\n",
    "  while i < 101:\n",
    "    soma += i\n",
    "    break\n",
    "\n",
    "print(soma)"
   ]
  },
  {
   "cell_type": "code",
   "execution_count": 19,
   "metadata": {
    "colab": {
     "base_uri": "https://localhost:8080/"
    },
    "id": "-1lw0Z04AVCn",
    "outputId": "8c2af677-7130-4e6f-8d37-b5b2df4482be"
   },
   "outputs": [
    {
     "name": "stdout",
     "output_type": "stream",
     "text": [
      "5050.0\n"
     ]
    }
   ],
   "source": [
    "# Usando a Fórmula de Gauss: Podemos deixar o código mais otimizado\n",
    "n = 100\n",
    "soma = (n * (n + 1) ) / 2\n",
    "print(soma)"
   ]
  },
  {
   "cell_type": "code",
   "execution_count": 20,
   "metadata": {
    "colab": {
     "base_uri": "https://localhost:8080/"
    },
    "id": "kRn6U1Div9Ep",
    "outputId": "89432e19-6fb3-4556-aae2-fd0f9b25d415"
   },
   "outputs": [
    {
     "name": "stdout",
     "output_type": "stream",
     "text": [
      "5050.0\n"
     ]
    }
   ],
   "source": [
    "print(soma)"
   ]
  },
  {
   "cell_type": "code",
   "execution_count": 21,
   "metadata": {
    "colab": {
     "base_uri": "https://localhost:8080/",
     "height": 35
    },
    "id": "dR7swe0xv9HJ",
    "outputId": "4c967d1f-b56b-45c3-f961-d647866f7d61"
   },
   "outputs": [
    {
     "data": {
      "text/plain": [
       "'0b1010'"
      ]
     },
     "execution_count": 21,
     "metadata": {},
     "output_type": "execute_result"
    }
   ],
   "source": [
    "# EXERCÍCIO 2: Criar um programa que realize a conversão de um número inteiro para um número binário. Mostrar o resultado final\n",
    "\n",
    "bin(10)\n"
   ]
  },
  {
   "cell_type": "code",
   "execution_count": 22,
   "metadata": {
    "colab": {
     "base_uri": "https://localhost:8080/"
    },
    "id": "VYaXaDnwJEbY",
    "outputId": "ccaf8e5e-65ba-4368-afdf-2f5e7334af5e"
   },
   "outputs": [
    {
     "name": "stdout",
     "output_type": "stream",
     "text": [
      "0\n",
      "12\n",
      "0\n",
      "6\n",
      "0\n",
      "3\n",
      "1\n",
      "1\n",
      "1\n",
      "0\n",
      "[1, 1, 0, 0, 0]\n"
     ]
    }
   ],
   "source": [
    "valor = 24\n",
    "L = []\n",
    "\n",
    "while valor >= 1:\n",
    "  resultado = valor % 2\n",
    "  print(resultado)\n",
    "  L.append(resultado)\n",
    "  valor = valor // 2\n",
    "  print(valor)\n",
    "\n",
    "L.reverse()\n",
    "print(L)"
   ]
  },
  {
   "cell_type": "code",
   "execution_count": 23,
   "metadata": {
    "colab": {
     "base_uri": "https://localhost:8080/"
    },
    "id": "Nk2sSKk1KgU6",
    "outputId": "4e0b9f08-2256-47ec-f6aa-3c1dda08b0fc"
   },
   "outputs": [
    {
     "name": "stdout",
     "output_type": "stream",
     "text": [
      "01010"
     ]
    }
   ],
   "source": [
    "def binario(n):\n",
    "  if n >= 1:\n",
    "    binario(n // 2)\n",
    "  print(n % 2, end='')\n",
    "\n",
    "valor = 10\n",
    "binario(valor)"
   ]
  },
  {
   "cell_type": "code",
   "execution_count": 24,
   "metadata": {
    "colab": {
     "base_uri": "https://localhost:8080/"
    },
    "id": "dUbo00NlFk4X",
    "outputId": "175ce55d-c75f-46e2-ff25-c2e49ebf9e41"
   },
   "outputs": [
    {
     "name": "stdout",
     "output_type": "stream",
     "text": [
      "101101\n"
     ]
    }
   ],
   "source": [
    "# \"converte\" n para uma outra base\n",
    "def converter(n, base):\n",
    "    if base == 10: # se for base 10, retorna o próprio número\n",
    "        return n\n",
    "\n",
    "    result = expoente = 0\n",
    "    while n > 0:\n",
    "        n, digito = divmod(n, base)\n",
    "        result += (10 ** expoente) * digito\n",
    "        expoente += 1\n",
    "\n",
    "    return result\n",
    "\n",
    "print(converter(45, 2))"
   ]
  }
 ],
 "metadata": {
  "colab": {
   "collapsed_sections": [],
   "provenance": []
  },
  "kernelspec": {
   "display_name": "Python 3 (ipykernel)",
   "language": "python",
   "name": "python3"
  },
  "language_info": {
   "codemirror_mode": {
    "name": "ipython",
    "version": 3
   },
   "file_extension": ".py",
   "mimetype": "text/x-python",
   "name": "python",
   "nbconvert_exporter": "python",
   "pygments_lexer": "ipython3",
   "version": "3.9.12"
  }
 },
 "nbformat": 4,
 "nbformat_minor": 1
}
