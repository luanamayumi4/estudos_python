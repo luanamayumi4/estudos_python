{
 "cells": [
  {
   "cell_type": "markdown",
   "id": "a2e18196",
   "metadata": {},
   "source": [
    "### Pilha, Fila e Lista"
   ]
  },
  {
   "cell_type": "markdown",
   "id": "bc7786b6",
   "metadata": {},
   "source": [
    "Pilhas e Filas apresentam regras que são importantes.\n",
    "- [ ] Pilha LIFO (*Last In, First Out*)\n",
    "- [ ] Fila FIFO *First In, First Out* (*Teoria de Filas*)"
   ]
  },
  {
   "cell_type": "code",
   "execution_count": 1,
   "id": "56f7491c",
   "metadata": {},
   "outputs": [
    {
     "data": {
      "image/png": "[encoded data removed]",
      "text/plain": [
       "<PIL.PngImagePlugin.PngImageFile image mode=RGB size=658x258 at 0x2AD5B807220>"
      ]
     },
     "metadata": {},
     "output_type": "display_data"
    }
   ],
   "source": [
    "# São estruturas lineares\n",
    "\n",
    "import IPython.display as display\n",
    "from PIL import Image\n",
    "\n",
    "# creating a object\n",
    "display.display(Image.open('./arquivos/append_insert.png'))"
   ]
  },
  {
   "cell_type": "markdown",
   "id": "c409d460",
   "metadata": {},
   "source": [
    "### O que são estruturas lineares"
   ]
  },
  {
   "cell_type": "code",
   "execution_count": 2,
   "id": "bc8d86f5",
   "metadata": {},
   "outputs": [
    {
     "data": {
      "text/plain": [
       "['d1', 'd2', 'd3', 'd4', 'd5', 'd6', 'd7', 'd8']"
      ]
     },
     "execution_count": 2,
     "metadata": {},
     "output_type": "execute_result"
    }
   ],
   "source": [
    "lista = ['d1', 'd2', 'd3', 'd4', 'd5', 'd6', 'd7', 'd8']\n",
    "lista"
   ]
  },
  {
   "cell_type": "code",
   "execution_count": 4,
   "id": "83da9d76",
   "metadata": {},
   "outputs": [
    {
     "name": "stdout",
     "output_type": "stream",
     "text": [
      "0\n",
      "1\n",
      "2\n",
      "3\n",
      "4\n",
      "5\n",
      "6\n",
      "7\n"
     ]
    }
   ],
   "source": [
    "for i in range(len(lista)):\n",
    "    print(i)"
   ]
  },
  {
   "cell_type": "code",
   "execution_count": 7,
   "id": "8c3a6f9f",
   "metadata": {},
   "outputs": [
    {
     "name": "stdout",
     "output_type": "stream",
     "text": [
      "d5\n"
     ]
    }
   ],
   "source": [
    "print(lista[4]) # o valor 'd5' mantem essa posição sem a alterar em relação aos outros valores. \n",
    "# Esses valores são armazenados em Memória *RAM*!!!"
   ]
  },
  {
   "cell_type": "code",
   "execution_count": 11,
   "id": "509fc669",
   "metadata": {},
   "outputs": [
    {
     "data": {
      "text/plain": [
       "['valor novo', 'd2', 'd3', 'd4', 'd5', 'd6', 'd7', 'd8']"
      ]
     },
     "execution_count": 11,
     "metadata": {},
     "output_type": "execute_result"
    }
   ],
   "source": [
    "lista[0] = 'valor novo' # não temos regra na listas, podemos add por exemplo um novo valor em qualquer posição\n",
    "lista"
   ]
  },
  {
   "cell_type": "code",
   "execution_count": 15,
   "id": "2ada8395",
   "metadata": {},
   "outputs": [
    {
     "data": {
      "text/plain": [
       "['valor novo', 'd2', 'd3', 'd4', 'valor novo 2', 'd6', 'd7', 'd8']"
      ]
     },
     "execution_count": 15,
     "metadata": {},
     "output_type": "execute_result"
    }
   ],
   "source": [
    "lista[4] = 'valor novo 2'\n",
    "lista"
   ]
  },
  {
   "cell_type": "markdown",
   "id": "32293342",
   "metadata": {},
   "source": [
    "### Pilhas"
   ]
  },
  {
   "cell_type": "code",
   "execution_count": null,
   "id": "b9175bb0",
   "metadata": {},
   "outputs": [],
   "source": []
  },
  {
   "cell_type": "code",
   "execution_count": null,
   "id": "f60c554b",
   "metadata": {},
   "outputs": [],
   "source": []
  },
  {
   "cell_type": "code",
   "execution_count": null,
   "id": "adff327b",
   "metadata": {},
   "outputs": [],
   "source": []
  }
 ],
 "metadata": {
  "kernelspec": {
   "display_name": "Python 3 (ipykernel)",
   "language": "python",
   "name": "python3"
  },
  "language_info": {
   "codemirror_mode": {
    "name": "ipython",
    "version": 3
   },
   "file_extension": ".py",
   "mimetype": "text/x-python",
   "name": "python",
   "nbconvert_exporter": "python",
   "pygments_lexer": "ipython3",
   "version": "3.9.12"
  }
 },
 "nbformat": 4,
 "nbformat_minor": 5
}
