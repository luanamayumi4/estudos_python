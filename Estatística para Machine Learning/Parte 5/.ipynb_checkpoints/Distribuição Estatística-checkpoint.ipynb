{
 "cells": [
  {
   "cell_type": "markdown",
   "id": "6906f266",
   "metadata": {},
   "source": [
    "### Distribuições Estatísticas\n",
    "1. Vamos focar nas distribuições sem considerar a parte de probabilidade. \n",
    "2. Podemos fazer inferências e observar como os dados estão dispostos.\n",
    "   2.1. Normal\n",
    "   2.2. Gama\n",
    "   2.3. Exponencial\n",
    "   2.4. Uniforme\n",
    "   2.5. Bernoulli\n",
    "   2.6. Binomial\n",
    "   2.7. Poisson"
   ]
  },
  {
   "cell_type": "code",
   "execution_count": 1,
   "id": "adbd7961",
   "metadata": {},
   "outputs": [],
   "source": [
    "### TIPOS DE VARIÁVEIS\n",
    "\n",
    "# Númericas = Números >> Contínuas (números com vírgulas, nº Reais) ou Discretas (nº finitos, inteiro)\n",
    "# Categóricas = \"textos\" >>> Nominal (dados sem ordenação), Ordinais (existe uma ordenação)."
   ]
  },
  {
   "cell_type": "code",
   "execution_count": 2,
   "id": "db8e5801",
   "metadata": {},
   "outputs": [],
   "source": [
    "import numpy as np\n",
    "import seaborn as sns\n",
    "import pandas as pd\n",
    "from scipy import stats"
   ]
  },
  {
   "cell_type": "code",
   "execution_count": 3,
   "id": "099cc777",
   "metadata": {},
   "outputs": [],
   "source": [
    "### Distribuição Normal - Gaussian distribution (bell)\n",
    "dados_normal = stats.norm.rvs(size = 1000, random_state = 1)"
   ]
  },
  {
   "cell_type": "code",
   "execution_count": 4,
   "id": "3d922a7f",
   "metadata": {},
   "outputs": [
    {
     "data": {
      "text/plain": [
       "(-3.053764380426305, 3.9586027040379634)"
      ]
     },
     "execution_count": 4,
     "metadata": {},
     "output_type": "execute_result"
    }
   ],
   "source": [
    "min(dados_normal), max(dados_normal)"
   ]
  },
  {
   "cell_type": "code",
   "execution_count": 5,
   "id": "6ea56042",
   "metadata": {},
   "outputs": [
    {
     "name": "stderr",
     "output_type": "stream",
     "text": [
      "C:\\Users\\Matheus\\anaconda3\\lib\\site-packages\\seaborn\\distributions.py:2619: FutureWarning: `distplot` is a deprecated function and will be removed in a future version. Please adapt your code to use either `displot` (a figure-level function with similar flexibility) or `histplot` (an axes-level function for histograms).\n",
      "  warnings.warn(msg, FutureWarning)\n"
     ]
    },
    {
     "data": {
      "image/png": "[encoded data removed]",
      "text/plain": [
       "<Figure size 432x288 with 1 Axes>"
      ]
     },
     "metadata": {
      "needs_background": "light"
     },
     "output_type": "display_data"
    }
   ],
   "source": [
    "sns.distplot(dados_normal, hist = True, kde = True);"
   ]
  },
  {
   "cell_type": "code",
   "execution_count": 6,
   "id": "c35e07cd",
   "metadata": {},
   "outputs": [
    {
     "data": {
      "text/plain": [
       "(0.03881247615960185,\n",
       " 0.04129258886921605,\n",
       " ModeResult(mode=array([-3.05376438]), count=array([1])),\n",
       " 0.9623691107920885,\n",
       " 0.9810041339322116)"
      ]
     },
     "execution_count": 6,
     "metadata": {},
     "output_type": "execute_result"
    }
   ],
   "source": [
    "dados_normal.mean(), np.median(dados_normal), stats.mode(dados_normal), np.var(dados_normal), np.std(dados_normal)"
   ]
  },
  {
   "cell_type": "code",
   "execution_count": 7,
   "id": "858e642f",
   "metadata": {},
   "outputs": [
    {
     "data": {
      "text/plain": [
       "148"
      ]
     },
     "execution_count": 7,
     "metadata": {},
     "output_type": "execute_result"
    }
   ],
   "source": [
    "np.sum(((dados_normal >= 0.9810041339322116) & (dados_normal <= 0.9810041339322116 + 1)))"
   ]
  },
  {
   "cell_type": "code",
   "execution_count": 8,
   "id": "e362a85d",
   "metadata": {},
   "outputs": [
    {
     "data": {
      "text/plain": [
       "480"
      ]
     },
     "execution_count": 8,
     "metadata": {},
     "output_type": "execute_result"
    }
   ],
   "source": [
    "np.sum(((dados_normal <= 0.9810041339322116) & (dados_normal <= 0.9810041339322116 - 1)))"
   ]
  },
  {
   "cell_type": "code",
   "execution_count": 9,
   "id": "1d151e7b",
   "metadata": {},
   "outputs": [
    {
     "data": {
      "text/plain": [
       "0.628"
      ]
     },
     "execution_count": 9,
     "metadata": {},
     "output_type": "execute_result"
    }
   ],
   "source": [
    "(148 + 480) / 1000"
   ]
  },
  {
   "cell_type": "code",
   "execution_count": 10,
   "id": "c0f101bf",
   "metadata": {},
   "outputs": [],
   "source": [
    "## Utilizando alturas como exemplo\n",
    "\n",
    "dados = np.array([126. , 129.5, 133. , 133. , 136.5, 136.5, 140. , 140. , 140. ,\n",
    "                  140. , 143.5, 143.5, 143.5, 143.5, 143.5, 143.5, 147. , 147. ,\n",
    "                  147. , 147. , 147. , 147. , 147. , 150.5, 150.5, 150.5, 150.5,\n",
    "                  150.5, 150.5, 150.5, 150.5, 154. , 154. , 154. , 154. , 154. ,\n",
    "                  154. , 154. , 154. , 154. , 157.5, 157.5, 157.5, 157.5, 157.5,\n",
    "                  157.5, 157.5, 157.5, 157.5, 157.5, 161. , 161. , 161. , 161. ,\n",
    "                  161. , 161. , 161. , 161. , 161. , 161. , 164.5, 164.5, 164.5,\n",
    "                  164.5, 164.5, 164.5, 164.5, 164.5, 164.5, 168. , 168. , 168. ,\n",
    "                  168. , 168. , 168. , 168. , 168. , 171.5, 171.5, 171.5, 171.5,\n",
    "                  171.5, 171.5, 171.5, 175. , 175. , 175. , 175. , 175. , 175. ,\n",
    "                  178.5, 178.5, 178.5, 178.5, 182. , 182. , 185.5, 185.5, 189., 192.5])"
   ]
  },
  {
   "cell_type": "code",
   "execution_count": 11,
   "id": "e78c4b67",
   "metadata": {},
   "outputs": [
    {
     "data": {
      "text/plain": [
       "100"
      ]
     },
     "execution_count": 11,
     "metadata": {},
     "output_type": "execute_result"
    }
   ],
   "source": [
    "len(dados) # temos dados de 100 pessoas (amostra)"
   ]
  },
  {
   "cell_type": "code",
   "execution_count": 12,
   "id": "67993ea2",
   "metadata": {},
   "outputs": [
    {
     "data": {
      "text/plain": [
       "(126.0, 192.5)"
      ]
     },
     "execution_count": 12,
     "metadata": {},
     "output_type": "execute_result"
    }
   ],
   "source": [
    "min(dados), max(dados)"
   ]
  },
  {
   "cell_type": "code",
   "execution_count": 13,
   "id": "f23543f2",
   "metadata": {},
   "outputs": [
    {
     "data": {
      "text/plain": [
       "66.5"
      ]
     },
     "execution_count": 13,
     "metadata": {},
     "output_type": "execute_result"
    }
   ],
   "source": [
    "# Amplitude dos dados\n",
    "R = max(dados) - min(dados)\n",
    "R"
   ]
  },
  {
   "cell_type": "code",
   "execution_count": 14,
   "id": "af4fae62",
   "metadata": {},
   "outputs": [
    {
     "data": {
      "text/plain": [
       "(159.25,\n",
       " 159.25,\n",
       " ModeResult(mode=array([157.5]), count=array([10])),\n",
       " 186.3225,\n",
       " 13.65)"
      ]
     },
     "execution_count": 14,
     "metadata": {},
     "output_type": "execute_result"
    }
   ],
   "source": [
    "dados.mean(), np.median(dados), stats.mode(dados), np.var(dados), np.std(dados)"
   ]
  },
  {
   "cell_type": "code",
   "execution_count": 15,
   "id": "1a74bedc",
   "metadata": {},
   "outputs": [
    {
     "data": {
      "text/plain": [
       "8.571428571428571"
      ]
     },
     "execution_count": 15,
     "metadata": {},
     "output_type": "execute_result"
    }
   ],
   "source": [
    "CV = (np.std(dados) / dados.mean()) * 100\n",
    "CV"
   ]
  },
  {
   "cell_type": "code",
   "execution_count": 16,
   "id": "a8efcde1",
   "metadata": {},
   "outputs": [
    {
     "data": {
      "text/plain": [
       "8.571428571428571"
      ]
     },
     "execution_count": 16,
     "metadata": {},
     "output_type": "execute_result"
    }
   ],
   "source": [
    "# OU \n",
    "\n",
    "CV2 = stats.variation(dados) * 100\n",
    "CV2"
   ]
  },
  {
   "cell_type": "code",
   "execution_count": 17,
   "id": "59548c9a",
   "metadata": {},
   "outputs": [
    {
     "name": "stderr",
     "output_type": "stream",
     "text": [
      "C:\\Users\\Matheus\\anaconda3\\lib\\site-packages\\seaborn\\distributions.py:2619: FutureWarning: `distplot` is a deprecated function and will be removed in a future version. Please adapt your code to use either `displot` (a figure-level function with similar flexibility) or `histplot` (an axes-level function for histograms).\n",
      "  warnings.warn(msg, FutureWarning)\n"
     ]
    },
    {
     "data": {
      "image/png": "[encoded data removed]",
      "text/plain": [
       "<Figure size 432x288 with 1 Axes>"
      ]
     },
     "metadata": {
      "needs_background": "light"
     },
     "output_type": "display_data"
    }
   ],
   "source": [
    "sns.distplot(dados, hist = True, kde = True);"
   ]
  },
  {
   "cell_type": "markdown",
   "id": "2561f720",
   "metadata": {},
   "source": [
    "### Enviesamento"
   ]
  },
  {
   "cell_type": "code",
   "execution_count": 18,
   "id": "fe70f7eb",
   "metadata": {},
   "outputs": [],
   "source": [
    "from scipy.stats import skewnorm\n",
    "dados_normal = skewnorm.rvs(a = 0, size = 1000)"
   ]
  },
  {
   "cell_type": "code",
   "execution_count": 19,
   "id": "4163f8cb",
   "metadata": {},
   "outputs": [
    {
     "name": "stderr",
     "output_type": "stream",
     "text": [
      "C:\\Users\\Matheus\\anaconda3\\lib\\site-packages\\seaborn\\distributions.py:2619: FutureWarning: `distplot` is a deprecated function and will be removed in a future version. Please adapt your code to use either `displot` (a figure-level function with similar flexibility) or `histplot` (an axes-level function for histograms).\n",
      "  warnings.warn(msg, FutureWarning)\n"
     ]
    },
    {
     "data": {
      "image/png": "[encoded data removed]",
      "text/plain": [
       "<Figure size 432x288 with 1 Axes>"
      ]
     },
     "metadata": {
      "needs_background": "light"
     },
     "output_type": "display_data"
    }
   ],
   "source": [
    "sns.distplot(dados_normal);"
   ]
  },
  {
   "cell_type": "code",
   "execution_count": 20,
   "id": "49075e96",
   "metadata": {},
   "outputs": [
    {
     "data": {
      "text/plain": [
       "(0.0285210353708855,\n",
       " 0.06431435168302176,\n",
       " ModeResult(mode=array([-3.0103754]), count=array([1])))"
      ]
     },
     "execution_count": 20,
     "metadata": {},
     "output_type": "execute_result"
    }
   ],
   "source": [
    "dados_normal.mean(), np.median(dados_normal), stats.mode(dados_normal)"
   ]
  },
  {
   "cell_type": "markdown",
   "id": "1c47008d",
   "metadata": {},
   "source": [
    "#### Não são dados normais apesar da variável conter o nome 'normal'"
   ]
  },
  {
   "cell_type": "code",
   "execution_count": 21,
   "id": "526b2f47",
   "metadata": {},
   "outputs": [
    {
     "name": "stderr",
     "output_type": "stream",
     "text": [
      "C:\\Users\\Matheus\\anaconda3\\lib\\site-packages\\seaborn\\distributions.py:2619: FutureWarning: `distplot` is a deprecated function and will be removed in a future version. Please adapt your code to use either `displot` (a figure-level function with similar flexibility) or `histplot` (an axes-level function for histograms).\n",
      "  warnings.warn(msg, FutureWarning)\n"
     ]
    },
    {
     "data": {
      "image/png": "[encoded data removed]",
      "text/plain": [
       "<Figure size 432x288 with 1 Axes>"
      ]
     },
     "metadata": {
      "needs_background": "light"
     },
     "output_type": "display_data"
    }
   ],
   "source": [
    "dados_normal_positivo = skewnorm.rvs(a = 10, size = 1000)\n",
    "sns.distplot(dados_normal_positivo);"
   ]
  },
  {
   "cell_type": "code",
   "execution_count": 22,
   "id": "439b5e33",
   "metadata": {},
   "outputs": [
    {
     "data": {
      "text/plain": [
       "(0.7998250338914327,\n",
       " 0.6758449961434206,\n",
       " ModeResult(mode=array([-0.17165123]), count=array([1])))"
      ]
     },
     "execution_count": 22,
     "metadata": {},
     "output_type": "execute_result"
    }
   ],
   "source": [
    "dados_normal_positivo.mean(), np.median(dados_normal_positivo), stats.mode(dados_normal_positivo)"
   ]
  },
  {
   "cell_type": "code",
   "execution_count": 23,
   "id": "5b6f5257",
   "metadata": {},
   "outputs": [
    {
     "name": "stderr",
     "output_type": "stream",
     "text": [
      "C:\\Users\\Matheus\\anaconda3\\lib\\site-packages\\seaborn\\distributions.py:2619: FutureWarning: `distplot` is a deprecated function and will be removed in a future version. Please adapt your code to use either `displot` (a figure-level function with similar flexibility) or `histplot` (an axes-level function for histograms).\n",
      "  warnings.warn(msg, FutureWarning)\n"
     ]
    },
    {
     "data": {
      "image/png": "[encoded data removed]",
      "text/plain": [
       "<Figure size 432x288 with 1 Axes>"
      ]
     },
     "metadata": {
      "needs_background": "light"
     },
     "output_type": "display_data"
    }
   ],
   "source": [
    "dados_normal_negativo = skewnorm.rvs(-10, size = 1000)\n",
    "sns.distplot(dados_normal_negativo);"
   ]
  },
  {
   "cell_type": "code",
   "execution_count": 24,
   "id": "e48aa5f3",
   "metadata": {},
   "outputs": [
    {
     "data": {
      "text/plain": [
       "(-0.7710365089511788,\n",
       " -0.6556744822815169,\n",
       " ModeResult(mode=array([-3.17040215]), count=array([1])))"
      ]
     },
     "execution_count": 24,
     "metadata": {},
     "output_type": "execute_result"
    }
   ],
   "source": [
    "dados_normal_negativo.mean(), np.median(dados_normal_negativo), stats.mode(dados_normal_negativo)"
   ]
  },
  {
   "cell_type": "markdown",
   "id": "0fcaee76",
   "metadata": {},
   "source": [
    "1. Distribuição normal padronizada\n",
    "2. Distribuição padronizada --> Média = 0 e DP = 1\n",
    "\n",
    "$Zscore = \\frac {x - média}{DP}$"
   ]
  },
  {
   "cell_type": "code",
   "execution_count": 25,
   "id": "7d89ab69",
   "metadata": {},
   "outputs": [],
   "source": [
    "dados_normal_padronizado = np.random.standard_normal(size = 1000)"
   ]
  },
  {
   "cell_type": "code",
   "execution_count": 26,
   "id": "c3c027f2",
   "metadata": {},
   "outputs": [
    {
     "data": {
      "text/plain": [
       "(-3.5100675356465803, 3.202417740788828)"
      ]
     },
     "execution_count": 26,
     "metadata": {},
     "output_type": "execute_result"
    }
   ],
   "source": [
    "min(dados_normal_padronizado), max(dados_normal_padronizado)"
   ]
  },
  {
   "cell_type": "code",
   "execution_count": 27,
   "id": "5443ead6",
   "metadata": {},
   "outputs": [
    {
     "data": {
      "image/png": "[encoded data removed]",
      "text/plain": [
       "<Figure size 360x360 with 1 Axes>"
      ]
     },
     "metadata": {
      "needs_background": "light"
     },
     "output_type": "display_data"
    }
   ],
   "source": [
    "sns.displot(dados_normal_padronizado);"
   ]
  },
  {
   "cell_type": "code",
   "execution_count": 28,
   "id": "d716d758",
   "metadata": {},
   "outputs": [
    {
     "data": {
      "text/plain": [
       "(-0.03333295308744621, 0.9663700641735814)"
      ]
     },
     "execution_count": 28,
     "metadata": {},
     "output_type": "execute_result"
    }
   ],
   "source": [
    "dados_normal_padronizado.mean(), np.std(dados_normal_padronizado)"
   ]
  },
  {
   "cell_type": "code",
   "execution_count": 29,
   "id": "fb023b78",
   "metadata": {},
   "outputs": [
    {
     "data": {
      "text/plain": [
       "array([126. , 129.5, 133. , 133. , 136.5, 136.5, 140. , 140. , 140. ,\n",
       "       140. , 143.5, 143.5, 143.5, 143.5, 143.5, 143.5, 147. , 147. ,\n",
       "       147. , 147. , 147. , 147. , 147. , 150.5, 150.5, 150.5, 150.5,\n",
       "       150.5, 150.5, 150.5, 150.5, 154. , 154. , 154. , 154. , 154. ,\n",
       "       154. , 154. , 154. , 154. , 157.5, 157.5, 157.5, 157.5, 157.5,\n",
       "       157.5, 157.5, 157.5, 157.5, 157.5, 161. , 161. , 161. , 161. ,\n",
       "       161. , 161. , 161. , 161. , 161. , 161. , 164.5, 164.5, 164.5,\n",
       "       164.5, 164.5, 164.5, 164.5, 164.5, 164.5, 168. , 168. , 168. ,\n",
       "       168. , 168. , 168. , 168. , 168. , 171.5, 171.5, 171.5, 171.5,\n",
       "       171.5, 171.5, 171.5, 175. , 175. , 175. , 175. , 175. , 175. ,\n",
       "       178.5, 178.5, 178.5, 178.5, 182. , 182. , 185.5, 185.5, 189. ,\n",
       "       192.5])"
      ]
     },
     "execution_count": 29,
     "metadata": {},
     "output_type": "execute_result"
    }
   ],
   "source": [
    "### Aplicando a técnica para padronização de dados não padronizados.\n",
    "dados"
   ]
  },
  {
   "cell_type": "code",
   "execution_count": 30,
   "id": "0a23d243",
   "metadata": {},
   "outputs": [
    {
     "data": {
      "text/plain": [
       "159.25"
      ]
     },
     "execution_count": 30,
     "metadata": {},
     "output_type": "execute_result"
    }
   ],
   "source": [
    "media = dados.mean()\n",
    "media"
   ]
  },
  {
   "cell_type": "code",
   "execution_count": 31,
   "id": "b82141d8",
   "metadata": {},
   "outputs": [
    {
     "data": {
      "text/plain": [
       "13.65"
      ]
     },
     "execution_count": 31,
     "metadata": {},
     "output_type": "execute_result"
    }
   ],
   "source": [
    "desvio_padrao = np.std(dados)\n",
    "desvio_padrao"
   ]
  },
  {
   "cell_type": "code",
   "execution_count": 32,
   "id": "bcad0e7c",
   "metadata": {},
   "outputs": [
    {
     "data": {
      "text/plain": [
       "array([-2.43589744, -2.17948718, -1.92307692, -1.92307692, -1.66666667,\n",
       "       -1.66666667, -1.41025641, -1.41025641, -1.41025641, -1.41025641,\n",
       "       -1.15384615, -1.15384615, -1.15384615, -1.15384615, -1.15384615,\n",
       "       -1.15384615, -0.8974359 , -0.8974359 , -0.8974359 , -0.8974359 ,\n",
       "       -0.8974359 , -0.8974359 , -0.8974359 , -0.64102564, -0.64102564,\n",
       "       -0.64102564, -0.64102564, -0.64102564, -0.64102564, -0.64102564,\n",
       "       -0.64102564, -0.38461538, -0.38461538, -0.38461538, -0.38461538,\n",
       "       -0.38461538, -0.38461538, -0.38461538, -0.38461538, -0.38461538,\n",
       "       -0.12820513, -0.12820513, -0.12820513, -0.12820513, -0.12820513,\n",
       "       -0.12820513, -0.12820513, -0.12820513, -0.12820513, -0.12820513,\n",
       "        0.12820513,  0.12820513,  0.12820513,  0.12820513,  0.12820513,\n",
       "        0.12820513,  0.12820513,  0.12820513,  0.12820513,  0.12820513,\n",
       "        0.38461538,  0.38461538,  0.38461538,  0.38461538,  0.38461538,\n",
       "        0.38461538,  0.38461538,  0.38461538,  0.38461538,  0.64102564,\n",
       "        0.64102564,  0.64102564,  0.64102564,  0.64102564,  0.64102564,\n",
       "        0.64102564,  0.64102564,  0.8974359 ,  0.8974359 ,  0.8974359 ,\n",
       "        0.8974359 ,  0.8974359 ,  0.8974359 ,  0.8974359 ,  1.15384615,\n",
       "        1.15384615,  1.15384615,  1.15384615,  1.15384615,  1.15384615,\n",
       "        1.41025641,  1.41025641,  1.41025641,  1.41025641,  1.66666667,\n",
       "        1.66666667,  1.92307692,  1.92307692,  2.17948718,  2.43589744])"
      ]
     },
     "execution_count": 32,
     "metadata": {},
     "output_type": "execute_result"
    }
   ],
   "source": [
    "dados_padronizados = ( dados - media ) / desvio_padrao\n",
    "dados_padronizados"
   ]
  },
  {
   "cell_type": "code",
   "execution_count": 33,
   "id": "01e330f5",
   "metadata": {},
   "outputs": [
    {
     "data": {
      "text/plain": [
       "(0.0, 0.9999999999999999)"
      ]
     },
     "execution_count": 33,
     "metadata": {},
     "output_type": "execute_result"
    }
   ],
   "source": [
    "dados_padronizados.mean(), np.std(dados_padronizados)"
   ]
  },
  {
   "cell_type": "code",
   "execution_count": 34,
   "id": "bcfdd2bb",
   "metadata": {},
   "outputs": [
    {
     "data": {
      "image/png": "[encoded data removed]",
      "text/plain": [
       "<Figure size 360x360 with 1 Axes>"
      ]
     },
     "metadata": {
      "needs_background": "light"
     },
     "output_type": "display_data"
    }
   ],
   "source": [
    "sns.displot(dados_padronizados);"
   ]
  },
  {
   "cell_type": "markdown",
   "id": "683925f3",
   "metadata": {},
   "source": [
    "### Teorema central do limite\n",
    "1. Quando o tamanho da amostra aumenta a distribuição amostral da sua média aproxima-se cada vez mais de uma distribuição normal"
   ]
  },
  {
   "cell_type": "code",
   "execution_count": 35,
   "id": "7f1e163a",
   "metadata": {},
   "outputs": [
    {
     "data": {
      "text/plain": [
       "(159.738,)"
      ]
     },
     "execution_count": 35,
     "metadata": {},
     "output_type": "execute_result"
    }
   ],
   "source": [
    "alturas = np.random.randint(126, 192, 500)\n",
    "alturas.mean(), "
   ]
  },
  {
   "cell_type": "code",
   "execution_count": 37,
   "id": "5762be98",
   "metadata": {},
   "outputs": [
    {
     "name": "stderr",
     "output_type": "stream",
     "text": [
      "C:\\Users\\Matheus\\anaconda3\\lib\\site-packages\\seaborn\\distributions.py:2619: FutureWarning: `distplot` is a deprecated function and will be removed in a future version. Please adapt your code to use either `displot` (a figure-level function with similar flexibility) or `histplot` (an axes-level function for histograms).\n",
      "  warnings.warn(msg, FutureWarning)\n"
     ]
    },
    {
     "data": {
      "text/plain": [
       "<AxesSubplot:ylabel='Density'>"
      ]
     },
     "execution_count": 37,
     "metadata": {},
     "output_type": "execute_result"
    },
    {
     "data": {
      "image/png": "[encoded data removed]",
      "text/plain": [
       "<Figure size 432x288 with 1 Axes>"
      ]
     },
     "metadata": {
      "needs_background": "light"
     },
     "output_type": "display_data"
    }
   ],
   "source": [
    "sns.distplot(alturas)"
   ]
  },
  {
   "cell_type": "code",
   "execution_count": 41,
   "id": "06153c12",
   "metadata": {},
   "outputs": [
    {
     "name": "stdout",
     "output_type": "stream",
     "text": [
      "[159.324, 158.384, 159.378, 158.368, 159.606, 158.908, 159.398, 159.844, 159.242, 158.952, 159.354, 158.51, 157.338, 158.864, 158.458, 158.296, 158.714, 158.878, 157.874, 158.336, 157.658, 157.362, 159.212, 158.848, 159.594, 160.072, 158.13, 158.402, 158.528, 158.97, 158.326, 157.822, 160.9, 158.674, 158.058, 160.126, 158.718, 158.348, 159.366, 158.656, 158.492, 157.872, 159.296, 158.47, 159.65, 156.686, 158.586, 157.442, 158.912, 158.082, 157.888, 158.354, 159.646, 156.906, 158.396, 158.564, 158.414, 156.598, 157.76, 158.562, 158.27, 159.256, 158.058, 158.634, 157.182, 157.846, 156.66, 157.872, 158.33, 158.644, 158.76, 158.716, 158.74, 158.988, 159.342, 158.586, 158.496, 158.256, 159.512, 157.294, 159.19, 158.668, 158.12, 157.76, 158.67, 160.192, 156.864, 157.834, 159.032, 158.412, 157.028, 158.25, 156.828, 158.45, 158.508, 159.79, 157.36, 157.8, 158.932, 158.366, 158.18, 158.988, 158.096, 157.116, 157.852, 159.108, 159.868, 159.808, 158.514, 157.912, 158.154, 157.868, 158.606, 157.922, 159.2, 157.566, 158.016, 159.326, 159.102, 157.61, 158.408, 158.688, 158.624, 158.152, 158.224, 159.152, 158.602, 159.722, 157.828, 157.552, 158.182, 157.268, 158.588, 158.98, 157.932, 157.794, 159.334, 160.148, 157.258, 158.474, 157.004, 159.308, 158.45, 158.738, 157.746, 158.47, 158.912, 158.096, 157.486, 158.172, 157.514, 158.008, 158.338, 157.732, 157.444, 158.526, 157.894, 158.454, 159.116, 158.448, 156.864, 159.722, 159.39, 159.158, 159.368, 156.742, 159.388, 160.39, 157.746, 159.122, 157.718, 159.256, 158.574, 156.77, 157.738, 158.362, 159.12, 158.406, 157.832, 159.068, 156.308, 158.912, 159.124, 158.944, 158.624, 158.042, 159.122, 158.49, 159.5, 157.216, 157.87, 158.928, 159.652, 159.528, 159.682, 157.226, 158.56, 158.926, 160.606, 160.174, 160.188, 156.962, 159.678, 158.006, 156.766, 159.162, 157.316, 158.484, 159.68, 158.91, 158.612, 158.756, 158.182, 156.992, 157.876, 158.716, 158.146, 158.772, 156.984, 158.232, 157.84, 158.396, 158.466, 159.1, 159.188, 158.376, 157.776, 158.914, 158.154, 157.352, 159.638, 157.686, 157.93, 158.336, 157.862, 158.718, 158.3, 158.778, 158.66, 158.476, 157.646, 158.856, 159.828, 157.626, 158.802, 158.096, 158.506, 156.748, 159.442, 158.566, 159.072, 158.844, 158.948, 158.412, 158.064, 158.176, 158.226, 157.064, 158.604, 158.768, 159.106, 158.056, 157.89, 159.194, 159.568, 158.532, 160.22, 157.43, 158.974, 158.052, 158.18, 158.91, 158.078, 158.638, 158.694, 158.708, 159.504, 159.254, 159.324, 160.124, 159.152, 158.918, 159.218, 157.664, 158.58, 157.228, 158.724, 158.284, 158.582, 158.48, 159.328, 159.078, 157.646, 159.214, 157.65, 159.402, 158.812, 157.174, 157.888, 159.206, 158.226, 156.712, 158.322, 157.762, 158.27, 159.338, 158.11, 158.656, 158.25, 158.238, 158.68, 158.13, 157.694, 157.958, 158.58, 157.982, 158.382, 157.942, 158.686, 158.556, 160.04, 158.024, 158.028, 157.496, 158.412, 158.532, 158.848, 158.396, 159.292, 159.968, 159.644, 158.872, 159.232, 158.282, 159.124, 158.812, 158.166, 159.494, 156.702, 157.82, 158.276, 158.918, 157.562, 157.928, 157.922, 158.886, 158.976, 159.718, 158.218, 157.324, 159.888, 158.898, 159.52, 156.164, 158.826, 157.896, 158.454, 159.14, 158.212, 159.152, 158.362, 158.194, 158.246, 158.192, 158.32, 158.532, 158.662, 157.062, 158.106, 159.938, 158.458, 159.128, 159.34, 159.102, 159.164, 158.288, 157.482, 159.362, 158.588, 157.58, 160.384, 158.846, 159.62, 157.944, 157.082, 159.128, 158.64, 158.13, 158.204, 158.406, 159.662, 158.526, 159.678, 158.814, 157.952, 156.822, 159.208, 159.008, 159.078, 157.326, 158.616, 159.002, 157.486, 157.876, 159.77, 157.246, 158.482, 158.354, 160.106, 159.282, 159.262, 158.908, 157.896, 156.678, 158.9, 160.36, 159.414, 158.808, 159.076, 157.918, 158.264, 158.286, 157.792, 158.74, 158.224, 158.088, 159.128, 158.652, 158.458, 158.932, 159.432, 158.976, 157.254, 157.604, 159.242, 157.54, 159.786, 159.502, 158.084, 160.142, 158.054, 158.414, 157.978, 159.4, 158.212, 160.106, 157.702, 158.396, 158.72, 157.172, 158.178, 158.846, 159.152, 157.032, 157.01, 157.996, 159.578, 158.042, 157.674, 158.84, 158.632, 157.886, 157.694, 157.762, 160.36, 159.088, 158.122, 157.302, 159.13, 158.934, 157.728, 158.09, 158.252, 158.448, 157.244, 159.602, 159.232, 158.01, 158.618, 158.37, 157.058, 158.528, 158.216, 156.188, 158.952, 156.484, 157.35, 159.994, 159.492, 160.11, 157.602, 159.322, 158.126, 159.778, 157.166, 157.69, 158.548, 158.752, 159.164, 157.954, 158.7, 159.05, 157.916, 159.14, 159.25, 157.858, 159.65, 159.186, 157.308, 159.28, 159.5, 157.532, 159.616, 159.008, 158.586, 157.016, 158.27, 158.56, 159.7, 159.266, 158.468, 159.192, 157.984, 160.064, 159.484, 158.762, 158.984, 158.802, 157.928, 158.93, 158.596, 158.996, 158.478, 158.762, 158.504, 158.998, 158.358, 158.164, 158.224, 159.634, 158.376, 158.894, 157.914, 158.47, 159.322, 157.634, 157.662, 160.39, 158.824, 158.394, 157.894, 158.774, 159.384, 159.092, 158.718, 158.646, 159.32, 158.538, 159.492, 159.356, 159.754, 158.754, 158.412, 158.478, 157.608, 159.052, 158.598, 159.382, 157.2, 157.954, 159.686, 158.14, 158.38, 158.598, 158.36, 157.672, 157.964, 157.686, 157.496, 159.606, 157.012, 158.138, 158.888, 159.43, 157.05, 158.41, 158.476, 159.03, 157.768, 158.712, 158.026, 159.942, 158.364, 158.606, 158.196, 158.398, 157.65, 159.386, 158.03, 158.052, 159.482, 157.476, 157.87, 160.06, 158.728, 159.734, 157.816, 158.354, 158.356, 160.018, 159.55, 158.644, 158.6, 159.062, 157.926, 158.496, 159.608, 157.056, 159.534, 158.752, 159.526, 157.52, 157.84, 158.622, 159.462, 158.214, 160.116, 158.646, 159.808, 159.244, 157.988, 158.5, 157.824, 157.028, 159.274, 158.424, 158.41, 157.556, 159.108, 160.046, 159.138, 157.112, 159.114, 158.332, 157.842, 158.05, 156.888, 159.58, 158.448, 158.226, 158.634, 156.956, 159.4, 159.526, 157.108, 156.408, 158.052, 158.198, 159.47, 158.486, 158.722, 158.056, 158.748, 160.46, 158.384, 159.756, 158.122, 157.92, 158.132, 158.85, 159.904, 159.066, 157.808, 158.812, 160.512, 159.236, 158.678, 157.316, 158.648, 158.538, 157.5, 158.61, 158.526, 159.54, 158.816, 161.272, 160.622, 158.638, 159.466, 157.6, 157.976, 158.68, 159.634, 159.198, 159.786, 159.268, 158.118, 157.824, 159.306, 157.426, 159.188, 158.732, 159.356, 159.27, 157.298, 157.796, 157.654, 157.99, 159.176, 159.312, 159.08, 157.954, 159.868, 159.764, 158.124, 157.344, 157.784, 158.042, 159.294, 157.676, 158.826, 157.796, 157.132, 158.556, 157.646, 158.494, 160.012, 159.538, 157.484, 158.316, 158.14, 159.984, 157.656, 158.844, 158.012, 158.47, 159.342, 159.514, 158.782, 159.006, 158.732, 157.998, 158.146, 157.18, 159.286, 158.254, 158.662, 158.72, 157.902, 158.058, 157.272, 158.336, 157.434, 157.96, 159.01, 159.156, 159.292, 159.872, 158.266, 159.024, 157.472, 158.64, 156.924, 158.624, 157.18, 157.888, 158.504, 157.626, 158.854, 157.462, 157.048, 158.55, 158.542, 158.97, 158.314, 159.244, 158.096, 158.35, 158.266, 157.29, 160.358, 157.936, 156.96, 158.804, 157.606, 158.706, 158.598, 159.15, 159.536, 159.292, 158.522, 157.51, 157.688, 159.228, 159.286, 159.482, 160.196, 158.19, 159.736, 157.714, 159.64, 158.526, 158.236, 156.926, 159.358, 158.158, 158.562, 157.84, 158.512, 158.3, 158.698, 158.064, 159.974, 157.83, 158.838, 159.404, 159.322, 158.224, 158.45, 160.872, 158.428, 158.98, 158.906, 159.54, 159.234, 159.868, 158.758, 159.092, 158.92, 158.006, 160.262, 157.398, 157.694, 159.19, 157.094, 157.454, 157.598, 157.888, 158.494, 158.6, 158.62, 158.962, 157.156, 158.168, 159.226, 157.344, 159.234, 158.304, 158.274, 159.728, 158.576, 159.032, 159.194, 159.72, 157.736, 158.874, 158.508, 159.274, 157.622, 158.49, 157.982, 157.746, 157.776, 158.686, 158.46, 156.98, 158.398, 158.788, 160.27, 158.806, 158.988, 157.476, 158.468, 159.382, 159.572, 159.018, 157.674, 158.254, 160.694, 159.524, 157.132, 159.098, 158.348, 158.84, 158.32, 157.994, 158.23, 158.848, 158.562, 156.738, 159.394, 157.766, 157.564, 159.148, 159.442, 158.752, 158.5, 159.086, 157.32, 159.27, 157.968, 158.57, 158.18, 159.418, 159.016, 157.596, 157.906, 157.84, 158.274, 158.638, 159.376, 158.006, 157.542, 159.014, 158.136, 158.702, 158.5, 159.974, 159.188, 158.31, 159.116, 158.594, 157.636, 156.722, 157.898, 157.93, 159.692, 158.002, 159.75, 158.106, 159.62, 159.378, 159.43, 159.098, 158.488, 157.852, 157.138, 159.094, 158.776, 155.9, 158.182, 158.89, 158.188, 160.0, 158.046, 159.284, 157.684, 159.544, 158.956, 157.968, 157.64, 158.298, 159.63, 157.95, 157.082, 158.846, 156.812, 158.478, 160.48, 158.674, 157.428, 157.884, 157.242, 159.338, 158.066, 158.214, 156.892, 158.976, 156.82, 159.076, 156.736, 157.65, 158.072, 159.628, 158.826, 158.928, 156.984, 158.898, 157.748, 158.8, 159.694, 156.95, 158.472, 158.838, 158.104, 158.032, 159.684, 158.482, 157.53, 158.098, 158.698, 160.342, 158.58, 157.94, 158.686, 157.952, 159.274, 158.49, 158.496, 159.944, 158.29, 158.914, 159.094, 158.796, 159.54, 158.466, 158.12, 159.596, 159.188, 159.284, 160.066, 157.844, 157.486, 158.06, 158.416, 158.936, 159.36, 158.328, 158.992, 160.574, 157.938, 159.158, 158.452, 158.026, 159.326, 159.174, 158.398, 158.708, 158.324, 158.218, 157.216, 156.862, 158.978, 159.042, 160.482, 158.06, 158.498, 157.374, 158.072, 158.194, 158.128, 158.522, 158.616, 158.602, 159.076, 157.726, 159.112, 158.56, 158.508, 157.464, 159.306, 157.822, 157.324, 158.336, 157.794, 157.97, 157.246, 158.498, 158.236, 158.638, 157.816, 157.94, 159.966, 157.324, 159.076, 158.604, 157.834, 159.07, 157.49, 159.306, 158.73, 159.242, 159.612, 158.56, 158.426, 159.588, 158.24, 158.252, 158.556, 157.272, 158.536, 158.996, 158.144, 157.976, 159.998, 159.288, 157.834, 158.498, 159.802, 157.904, 158.098, 158.246, 157.652, 158.77, 158.516, 157.398, 158.788, 159.962, 159.892, 158.556, 158.908, 158.71, 158.562, 157.248, 157.724, 158.406, 156.608, 157.53, 159.706, 157.822, 159.852, 158.196, 159.122, 158.01, 156.788, 159.174, 158.074, 159.626, 157.748, 157.24, 158.746, 158.134, 159.52, 158.25, 159.178, 159.428, 158.67, 157.554, 159.286, 159.056, 159.05, 158.016, 158.34, 159.626, 158.356, 157.518, 158.49, 159.488, 157.676, 158.132, 158.068, 158.018, 158.782, 159.832, 159.726, 159.51, 158.39, 158.71, 158.622, 157.808, 157.664, 157.966, 158.614, 159.202, 158.43, 158.438, 159.582, 157.698, 158.166, 157.76, 157.518, 157.186, 159.398, 159.698, 158.636, 158.456, 159.022, 158.14, 157.956, 158.48, 157.18, 160.064, 156.492, 157.874, 157.846, 160.232, 158.596, 159.396, 158.288, 160.008, 157.968, 158.648, 158.264, 160.036, 158.636, 160.144, 158.738, 157.654, 157.314, 159.158, 159.374, 161.202, 158.702, 158.124, 159.368, 156.654, 159.05, 159.336, 158.484, 159.764, 159.698, 158.372, 158.748, 157.984, 157.464, 158.304, 158.35, 158.012, 157.644, 159.446, 157.3, 158.718, 160.51, 158.668, 158.586, 159.174, 158.696, 158.356, 158.942, 159.192, 157.496, 157.416, 159.18, 158.996, 158.29, 158.546, 158.266, 159.024, 159.436, 158.218, 157.382, 157.56, 157.594, 157.658, 157.596, 158.362, 159.052, 158.642, 158.216, 158.554, 159.104, 158.226, 158.558, 159.348, 157.862, 157.87, 160.13, 158.45, 160.418, 157.826, 159.086, 158.92, 159.322, 159.848, 158.916, 158.584, 159.274, 157.526, 157.442, 159.088, 160.764, 157.342, 157.334, 158.982, 158.226, 158.504, 158.766, 158.646, 158.842, 159.212, 158.244, 158.474, 159.144, 157.992, 159.682, 158.114, 158.59, 158.764, 158.986, 157.088, 158.308, 158.298, 159.278, 158.882, 158.928, 157.668, 159.224, 157.734, 159.904, 158.998, 159.224, 158.962, 158.838, 159.82, 158.668, 158.228, 158.776, 158.062, 158.424, 159.934, 159.296, 158.886, 156.784, 158.848, 159.476, 159.164, 159.87, 157.812, 159.808, 160.078, 158.402, 159.71, 159.804, 159.046, 158.756, 159.098, 157.514, 158.226, 158.796, 157.21, 159.006, 159.328, 157.828, 157.978, 157.068, 158.622, 158.178, 159.682, 158.706, 159.758, 159.244, 159.34, 159.61, 157.38, 157.378, 159.254, 157.776, 158.352, 158.268, 158.008, 156.564, 159.114, 158.022, 159.062, 157.714, 158.218, 158.572, 159.206, 158.068, 158.812, 158.884, 160.418, 158.342, 158.462, 159.324, 159.292, 157.93, 158.32, 158.23, 157.524, 158.764, 157.946, 160.362, 158.55, 159.36, 158.422, 158.706, 157.764, 157.874, 157.8, 159.728, 159.006, 160.908, 159.466, 158.69, 156.908, 158.364, 159.682, 157.518, 159.476, 157.212, 156.846, 159.386, 157.166, 158.992, 158.396, 159.46, 157.666, 157.562, 158.066, 159.346, 158.026, 159.152, 157.426, 159.804, 159.128, 159.194, 158.04, 158.072, 159.266, 158.938, 156.348, 159.014, 160.388, 158.018, 160.298, 159.78, 159.568, 158.482, 160.074, 158.668, 157.57, 158.37, 158.98, 158.456, 158.558, 158.014, 158.058, 157.714, 158.31, 157.416, 157.066, 158.614, 159.004, 158.258, 158.046, 158.5, 158.652, 158.902, 158.628, 158.24, 158.574, 158.082, 158.022, 159.864, 158.172, 158.49, 160.842, 158.902, 158.06, 157.592, 159.656, 157.62, 157.49, 158.99, 159.51, 159.448, 159.622, 158.872, 159.264, 158.628, 157.998, 159.316, 158.878, 156.902, 158.574, 158.164, 158.638, 157.792, 158.542, 159.02, 158.116, 158.01, 156.734, 158.68, 157.862, 158.828, 158.06, 157.236, 157.554, 156.726, 156.648, 159.788, 156.87, 157.604, 158.066, 157.076, 157.35, 156.824, 158.306, 160.536, 157.974, 159.838, 158.928, 158.532, 156.71, 158.802, 157.628, 158.644, 158.242, 158.79, 158.428, 158.168, 157.438, 157.116, 158.23, 160.418, 158.896, 158.042, 158.542, 158.1, 157.94, 158.532, 158.87, 157.792, 157.264, 158.768, 159.394, 158.158, 159.212, 158.402, 158.382, 157.568, 158.238, 159.092, 158.618, 158.002, 160.354, 158.746, 157.678, 157.568, 158.534, 159.12, 157.136, 157.962, 158.332, 159.042, 158.146, 159.328, 158.966, 158.972, 158.668, 157.176, 158.942, 159.152, 158.644, 160.084, 158.372, 158.52, 159.738, 158.912, 156.566, 159.364, 159.696, 159.444, 158.076, 159.6, 157.454, 157.678, 156.978, 157.344, 158.25, 156.892, 157.192, 156.824, 158.152, 160.192, 157.86, 157.67, 159.936, 158.736, 158.234, 158.372, 157.336, 159.784, 158.11, 159.874, 159.868, 159.45, 160.45, 158.028, 158.516, 158.55, 157.39, 158.412, 156.992, 158.434, 157.884, 160.026, 159.102, 158.202, 160.22, 157.706, 159.578, 158.126, 158.23, 158.826, 159.49, 158.95, 157.394, 158.048, 159.782, 158.058, 157.478, 157.168, 160.06, 157.838, 157.902, 159.808, 156.876, 158.802, 158.308, 158.85, 159.218, 158.326, 158.122, 159.988, 158.828, 157.658, 159.058, 158.77, 158.866, 157.804, 157.6, 158.192, 157.72, 159.826, 157.218, 158.632, 159.146, 159.174, 158.334, 158.748, 159.038, 159.482, 156.462, 158.714, 160.38, 160.77, 159.954, 157.712, 157.784, 159.018, 158.014, 159.202, 159.438, 159.574, 158.896, 158.382, 158.42, 157.806, 157.944, 157.332, 158.826, 158.388, 159.334, 157.976, 158.376, 159.282, 157.872, 158.78, 156.684, 157.724, 158.152, 159.512, 158.16, 159.484, 158.936, 159.308, 157.722, 158.346, 159.47, 158.128, 158.118, 157.344, 158.706, 158.21, 158.446, 158.358, 158.518, 160.366, 159.438, 157.286, 158.892, 158.71, 159.162, 159.956, 157.604, 159.098, 160.312, 158.068, 157.678, 161.772, 158.46, 159.632, 157.38, 159.812, 160.59, 158.62, 157.532, 157.53, 159.738, 160.256, 159.798, 158.496, 159.032, 160.134, 159.012, 156.864, 158.31, 158.54, 158.366, 158.544, 159.812, 157.944, 157.168, 157.814, 159.056, 156.576, 159.908, 159.66, 158.938, 158.918, 156.214, 158.092, 158.822, 157.912, 160.17, 159.71, 157.946, 159.336, 158.646, 157.166, 159.05, 158.346, 158.954, 158.95, 158.556, 157.378, 159.618, 159.736, 157.556, 157.978, 158.618, 158.556, 156.96, 157.898, 158.638, 158.684, 157.7, 157.184, 158.82, 158.474, 158.334, 157.688, 160.094, 157.828, 157.208, 157.486, 157.454, 159.014, 159.146, 158.432, 157.502, 158.192, 159.002, 158.504, 158.348, 158.892, 158.444, 159.34, 160.194, 159.0, 158.086, 159.24, 158.382, 158.81, 157.86, 157.82, 159.868, 160.686, 160.02, 158.714, 159.422, 159.034, 157.316, 160.394, 158.958, 157.812, 157.35, 159.116, 158.11, 158.498, 158.544, 157.878, 157.456, 159.374, 159.69, 160.094, 158.73, 158.096, 156.74, 158.306, 158.728, 157.71, 156.836, 159.128, 158.898, 157.786, 158.098, 158.46, 158.856, 158.572, 158.472, 158.17, 157.902, 157.98, 160.07, 159.112, 157.75, 157.36, 158.602, 158.27, 158.864, 157.492, 158.406, 158.62, 158.504, 158.522, 156.83, 159.618, 158.904, 158.028, 157.842, 157.478, 157.866, 159.668, 158.57, 158.408, 158.22, 158.318, 158.16, 158.808, 158.072, 159.178, 158.848, 158.446, 158.708, 157.732, 158.586, 158.52, 158.19, 158.996, 158.588, 157.914, 157.656, 157.502, 157.516, 156.66, 158.284, 160.804, 157.006, 158.326, 158.466, 159.316, 158.604, 157.55, 157.96, 158.358, 159.87, 157.394, 157.626, 158.572, 158.656, 156.874, 157.904, 159.008, 158.722, 158.972, 158.526, 157.224, 158.388, 158.524, 158.312, 157.326, 158.424, 158.22, 160.0, 160.334, 158.26, 158.162, 157.978, 157.984, 160.3, 159.454, 158.22, 157.472, 158.608, 157.888, 157.734, 158.788, 159.246, 159.14, 158.884, 157.9, 160.044, 157.622, 160.074, 159.144, 158.692, 158.138, 158.704, 158.692, 158.916, 160.232, 158.96, 159.178, 157.456, 159.188, 158.91, 160.502, 157.202, 159.354, 158.802, 158.714, 158.76, 157.388, 158.728, 158.19, 159.506, 158.892, 158.026, 158.348, 157.848, 158.104, 158.042, 157.022, 158.724, 158.178, 159.454, 158.512, 158.56, 157.966, 159.112, 156.914, 157.984, 157.678, 159.946, 158.962, 159.282, 157.226, 158.796, 157.648, 158.78, 159.042, 157.57, 157.55, 159.29, 158.612, 159.216, 157.86, 157.958, 157.994, 157.958, 158.698, 158.49, 159.108, 158.324, 158.638, 158.98, 158.05, 158.032, 157.372, 157.8, 158.02, 157.306, 157.544, 157.57, 158.43, 158.158, 157.258, 158.816, 157.94, 157.716, 157.294, 161.006, 158.198, 157.502, 159.568, 158.37, 157.714, 158.986, 158.308, 157.25, 158.994, 159.092, 158.414, 159.232, 157.632, 158.668, 158.506, 158.382, 158.614, 159.16, 158.1, 157.078, 159.694, 158.332, 158.804, 159.98, 158.478, 158.034, 158.98, 158.46, 160.05, 159.338, 157.88, 157.938, 158.386, 157.872, 158.65, 157.932, 156.454, 158.14, 157.626, 159.044, 158.098, 158.238, 158.094, 158.748, 158.392, 158.76, 158.848, 158.956, 158.712, 157.76, 159.84, 159.096, 158.848, 158.13, 159.18, 158.984, 157.422, 158.788, 158.574, 159.106, 159.382, 159.252, 159.19, 158.91, 159.568, 158.004, 158.614, 159.858, 157.924, 158.42, 157.424, 158.578, 155.644, 157.976, 158.36, 158.268, 157.972, 158.356, 158.61, 158.364, 156.998, 156.916, 158.654, 158.642, 158.588, 158.976, 158.684, 158.23, 157.518, 159.016, 159.092, 157.644, 158.33, 158.416, 158.57, 157.76, 158.976, 158.83, 159.13, 158.59, 156.866, 158.496, 158.6, 156.75, 158.008, 158.118, 158.034, 158.22, 158.504, 158.322, 159.69, 158.904, 159.042, 158.816, 158.108, 157.762, 157.678, 157.646, 158.456, 157.434, 157.672, 157.91, 158.356, 158.61, 159.348, 157.878, 159.478, 158.206, 158.422, 158.014, 159.252, 159.03, 158.964, 158.456, 158.002, 159.826, 157.288, 158.276, 159.054, 160.42, 159.088, 158.078, 158.442, 157.36, 158.422, 157.732, 158.322, 159.084, 159.162, 158.164, 157.874, 158.95, 157.522, 158.086, 159.682, 157.958, 158.944, 158.984, 159.046, 159.694, 159.216, 159.048, 157.912, 158.606, 158.254, 159.04, 158.516, 157.482, 159.146, 158.112, 158.0, 157.484, 158.564, 158.942, 157.806, 158.422, 159.106, 157.498, 157.744, 157.614, 159.292, 158.154, 157.96, 158.614, 158.114, 156.644, 158.186, 158.666, 158.988, 157.89, 159.13, 158.224, 160.626, 158.798, 158.506, 157.828, 158.966, 157.736, 159.482, 157.24, 158.514, 157.794, 157.216, 157.338, 158.068, 158.264, 157.774, 156.966, 157.748, 157.602, 159.458, 158.972, 157.464, 159.788, 158.488, 158.374, 159.138, 159.188, 159.668, 159.098, 158.484, 159.16, 158.874, 159.192, 158.504, 158.786, 159.646, 158.356, 158.252, 158.568, 157.806, 159.27, 158.082, 158.79, 157.524, 156.582, 157.824, 158.864, 158.912, 158.42, 158.4, 157.668, 158.002, 158.96, 158.536, 158.182, 158.75, 158.884, 158.446, 158.574, 158.272, 159.09, 159.03, 159.032, 158.41, 157.206, 158.69, 159.254, 158.516, 159.048, 157.844, 158.122, 158.83, 158.986, 158.174, 158.436, 158.29, 159.038, 158.408, 157.908, 159.666, 158.526, 158.24, 158.03, 158.836, 156.656, 158.264, 159.214, 159.474, 158.516, 158.528, 159.43, 157.504, 157.276, 158.26, 157.838, 157.576, 159.142, 158.488, 159.006, 158.208, 158.53, 158.634, 158.864, 158.46, 158.644, 159.016, 157.962, 158.502, 158.058, 158.584, 157.626, 159.936, 158.91, 158.142, 158.214, 158.722, 159.368, 159.144, 159.73, 158.82, 158.066, 159.948, 159.352, 158.798, 157.756, 158.332, 158.972, 157.39, 158.278, 158.494, 158.534, 159.462, 157.874, 156.18, 158.528, 158.468, 159.136, 159.012, 158.748, 157.788, 157.204, 160.092, 158.572, 159.796, 157.594, 157.704, 160.114, 156.786, 157.94, 159.882, 156.878, 156.792, 159.274, 157.774, 159.232, 159.202, 159.64, 157.562, 158.578, 157.278, 158.126, 155.792, 157.488, 157.84, 160.368, 157.472, 157.392, 157.816, 158.354, 159.412, 158.61, 159.432, 155.062, 159.018, 156.782, 157.684, 159.132, 158.808, 159.01, 157.594, 156.536, 158.77, 158.81, 157.384, 159.572, 158.03, 157.68, 158.178, 157.944, 159.73, 159.126, 159.918, 157.348, 157.758, 159.422, 159.294, 158.466, 157.552, 159.814, 158.666, 157.508, 158.692, 159.102, 158.532, 158.162, 158.152, 157.72, 159.658, 159.368, 159.516, 158.19, 157.934, 158.858, 158.966, 157.268, 159.248, 158.794, 158.294, 157.636, 160.49, 158.47, 158.044, 158.388, 157.062, 157.538, 158.72, 159.366, 157.808, 159.366, 158.92, 157.882, 159.09, 159.08, 158.774, 158.68, 159.708, 158.088, 158.072, 158.324, 159.122, 158.356, 157.02, 158.594, 158.538, 158.358, 159.41, 158.538, 158.244, 157.426, 158.782, 160.538, 158.12, 158.79, 159.098, 159.27, 158.512, 158.152, 159.178, 159.57, 157.248, 156.338, 158.054, 159.806, 158.09, 159.326, 158.156, 159.63, 159.118, 158.304, 158.85, 156.724, 157.748, 158.006, 157.42, 158.656, 157.524, 158.578, 159.332, 159.108, 158.334, 157.532, 159.346, 158.736, 158.04, 159.304, 157.466, 158.778, 155.962, 156.722, 157.888, 157.25, 158.426, 158.36, 160.72, 157.242, 158.572, 159.282, 157.124, 159.468, 158.842, 157.636, 159.908, 159.018, 157.544, 159.758, 158.858, 159.346, 158.644, 157.698, 158.86, 159.57, 158.926, 159.196, 158.314, 158.272, 159.664, 158.464, 159.706, 159.23, 158.986, 157.906, 158.192, 157.932, 158.156, 158.272, 158.584, 158.684, 159.162, 159.248, 158.204, 156.946, 158.996, 158.23, 160.53, 158.798, 158.45, 159.834, 159.166, 157.874, 158.974, 158.672, 158.56, 158.144, 158.042, 158.77, 157.446, 159.908, 158.54, 157.688, 156.948, 159.134, 157.956, 157.282, 158.43, 158.688, 158.74, 158.148, 159.76, 158.638, 158.176, 158.26, 158.25, 158.906, 157.518, 156.844, 160.108, 159.464, 157.114, 157.912, 157.126, 157.578, 158.778, 158.29, 157.612, 159.4, 159.418, 158.416, 159.44, 160.22, 158.816, 158.992, 158.848, 158.478, 158.492, 157.688, 157.018, 157.682, 157.754, 158.068, 157.894, 158.568, 159.11, 157.884, 159.4, 157.776, 158.308, 157.944, 158.894, 158.624, 158.056, 156.818, 158.412, 158.286, 158.096, 158.38, 158.048, 159.076, 158.062, 158.444, 157.706, 158.474, 158.822, 157.902, 158.118, 155.72, 159.868, 157.42, 158.028, 158.5, 159.552, 157.688, 157.724, 158.244, 157.03, 159.68, 159.35, 159.076, 157.086, 156.994, 159.02, 158.082, 158.652, 157.616, 158.97, 157.498, 160.03, 160.792, 157.618, 157.74, 158.564, 157.52, 159.236, 156.248, 159.19, 158.61, 158.382, 157.638, 158.648, 159.322, 158.634, 159.486, 159.532, 159.328, 157.908, 159.744, 158.602, 158.806, 158.252, 157.684, 158.742, 156.87, 156.946, 157.23, 159.188, 157.632, 157.946, 158.802, 159.46, 160.584, 159.8, 158.204, 158.868, 157.758, 157.538, 160.154, 157.072, 159.162, 157.852, 157.83, 158.482, 157.682, 157.816, 158.364, 158.1, 159.792, 159.5, 158.032, 158.598, 157.076, 158.502, 159.55, 157.984, 157.674, 158.652, 158.638, 158.312, 158.786, 159.076, 158.072, 158.286, 159.99, 159.224, 158.366, 159.192, 159.656, 158.528, 159.614, 157.562, 158.208, 157.864, 157.296, 157.958, 158.476, 159.186, 158.284, 158.246, 159.012, 158.08, 159.762, 158.696, 156.844, 158.32, 157.78, 159.758, 158.364, 158.582, 159.516, 157.466, 158.584, 158.196, 157.616, 159.476, 158.336, 158.174, 158.798, 158.682, 158.324, 159.058, 158.48, 158.216, 157.736, 159.784, 156.738, 157.33, 159.06, 158.688, 158.786, 159.192, 157.072, 156.826, 157.982, 159.228, 158.816, 156.906, 157.734, 158.19, 158.03, 157.484, 157.6, 158.874, 159.37, 158.618, 159.794, 158.64, 156.396, 158.418, 158.422, 157.29, 158.084, 158.76, 158.39, 157.894, 159.766, 158.23, 159.482, 158.036, 158.742, 157.99, 157.242, 158.298, 158.886, 157.372, 158.134, 157.558, 159.786, 159.368, 158.042, 159.258, 157.686, 158.412, 160.678, 160.108, 157.61, 157.518, 159.234, 158.762, 159.054, 159.728, 157.848, 158.134, 159.96, 157.424, 157.96, 157.73, 159.47, 158.86, 158.298, 158.56, 160.196, 158.752, 159.298, 159.328, 158.132, 158.542, 158.796, 159.196, 157.82, 158.07, 158.102, 157.906, 159.082, 159.68, 157.96, 158.218, 157.928, 158.498, 158.94, 158.516, 157.882, 158.824, 157.656, 158.152, 160.534, 158.282, 158.864, 158.404, 157.074, 159.872, 158.418, 157.71, 158.984, 158.86, 157.776, 158.12, 159.574, 159.844, 159.004, 158.416, 157.99, 156.418, 159.202, 159.654, 158.934, 159.65, 158.766, 159.314, 157.546, 157.992, 158.436, 158.004, 157.942, 159.382, 158.104, 158.908, 158.778, 158.814, 159.024, 158.256, 158.902, 157.12, 157.86, 159.096, 157.658, 157.9, 158.28, 157.74, 157.184, 158.926, 157.764, 159.112, 158.836, 159.27, 158.378, 158.1, 158.74, 157.438, 157.966, 159.01, 158.788, 158.56, 157.37, 160.126, 157.994, 157.584, 158.926, 157.586, 158.412, 159.056, 158.432, 158.146, 159.95, 158.888, 158.306, 158.636, 158.88, 159.598, 159.056, 159.89, 158.69, 157.636, 157.692, 159.436, 157.32, 157.706, 158.242, 156.476, 157.792, 157.274, 158.992, 158.276, 157.76, 156.866, 157.938, 158.098, 158.124, 159.426, 159.01, 157.208, 158.362, 158.212, 158.94, 160.356, 158.68, 159.168, 158.482, 158.298, 159.834, 157.862, 157.398, 159.272, 157.324, 157.376, 159.256, 159.462, 159.284, 160.908, 156.648, 158.624, 158.716, 158.296, 157.43, 157.29, 158.772, 158.148, 158.838, 158.594, 158.416, 158.9, 159.734, 159.41, 160.216, 158.318, 156.902, 159.442, 159.734, 157.286, 158.642, 159.484, 158.898, 159.568, 159.0, 159.814, 160.636, 157.744, 157.674, 159.114, 158.296, 157.348, 158.436, 158.732, 159.088, 160.016, 157.748, 158.664, 159.208, 158.728, 158.646, 159.098, 159.904, 156.8, 158.202, 158.498, 157.376, 157.498, 159.222, 158.37, 158.416, 158.692, 158.578, 159.842, 159.17, 157.384, 156.884, 158.422, 158.56, 157.87, 158.222, 157.844, 159.58, 159.994, 157.95, 159.198, 158.698, 159.168, 158.482, 158.246, 157.846, 160.21, 158.912, 158.822, 157.784, 159.71, 158.868, 158.502, 159.918, 157.444, 158.506, 158.536, 157.918, 156.874, 158.92, 158.028, 156.92, 158.34, 158.766, 158.774, 158.352, 157.05, 158.994, 158.686, 159.304, 158.54, 158.278, 159.584, 159.586, 157.542, 157.946, 159.778, 158.278, 159.178, 158.82, 158.02, 157.662, 159.342, 156.182, 158.45, 157.966, 158.792, 158.958, 157.912, 158.788, 158.762, 158.718, 157.942, 158.23, 158.542, 159.768, 157.908, 157.57, 157.876, 158.332, 158.28, 157.864, 159.818, 159.368, 158.31, 158.718, 159.414, 157.91, 159.26, 158.148, 157.584, 159.27, 159.532, 157.744, 158.264, 158.126, 159.846, 159.842, 158.79, 157.864, 157.3, 159.228, 159.148, 158.568, 159.026, 158.696, 158.572, 157.238, 158.56, 160.032, 158.688, 156.908, 158.566, 158.244, 157.912, 159.042, 157.61, 158.176, 158.084, 158.752, 157.968, 158.292, 158.732, 159.356, 159.498, 157.2, 159.738, 158.568, 158.63, 159.074, 159.042, 160.022, 158.388, 159.736, 159.922, 160.21, 157.656, 160.022, 158.684, 158.41, 158.926, 158.782, 159.2, 158.752, 158.738, 157.576, 158.62, 158.406, 158.278, 158.854, 158.716, 158.436, 158.788, 158.78, 156.976, 157.882, 159.646, 158.436, 158.562, 157.77, 160.226, 159.074, 158.574, 157.828, 159.112, 157.778, 158.72, 158.54, 159.778, 158.38, 158.862, 159.41, 157.774, 159.102, 159.016, 158.664, 159.376, 159.018, 158.982, 158.14, 158.234, 158.77, 157.988, 160.274, 157.82, 158.988, 157.908, 158.854, 158.286, 157.196, 157.626, 157.732, 158.462, 159.254, 157.242, 158.636, 159.662, 159.612, 158.77, 159.398, 159.496, 157.022, 156.91, 158.646, 160.426, 158.81, 159.474, 158.162, 159.096, 159.166, 158.21, 158.724, 158.546, 160.098, 157.746, 155.138, 158.69, 156.99, 157.012, 158.568, 158.488, 159.568, 158.734, 157.958, 157.586, 158.626, 158.622, 159.362, 158.984, 159.274, 159.204, 158.39, 159.218, 158.178, 157.812, 159.512, 158.106, 159.582, 158.832, 160.452, 159.656, 157.94, 158.448, 159.946, 158.294, 157.758, 158.894, 159.034, 157.378, 158.69, 157.09, 158.762, 157.706, 160.61, 158.42, 158.316, 158.33, 158.93, 158.07, 156.252, 159.85, 158.64, 159.602, 157.762, 159.328, 157.758, 158.972, 159.756, 159.96, 158.592, 157.67, 157.776, 158.546, 159.346, 159.616, 157.26, 158.996, 158.21, 158.814, 160.038, 158.016, 160.496, 158.39, 158.634, 158.534, 158.768, 157.65, 157.928, 157.458, 158.016, 157.446, 159.468, 158.828, 159.038, 157.51, 159.268, 158.794, 156.31, 157.594, 158.308, 158.754, 156.148, 158.888, 157.69, 156.564, 156.506, 157.768, 158.914, 159.506, 159.23, 158.27, 158.908, 157.552, 157.672, 158.918, 159.018, 158.368, 158.234, 158.562, 157.266, 159.818, 157.858, 159.19, 157.104, 158.598, 155.708, 159.674, 158.278, 159.48, 158.482, 158.566, 156.674, 158.39, 159.164, 157.506, 159.44, 158.66, 157.762, 157.904, 158.088, 158.612, 158.596, 157.412, 158.928, 158.538, 158.194, 158.784, 157.976, 158.302, 159.512, 158.732, 158.558, 158.006, 159.134, 158.274, 157.78, 157.654, 157.12, 158.816, 158.05, 158.444, 158.072, 160.28, 159.738, 158.732, 159.024, 159.312, 157.95, 159.024, 158.712, 159.642, 156.988, 157.996, 159.426, 156.756, 158.188, 157.646, 157.848, 159.272, 157.538, 156.904, 158.958, 158.052, 157.918, 159.192, 158.888, 158.458, 158.868, 158.998, 157.804, 159.092, 158.632, 157.778, 158.836, 159.372, 159.304, 159.238, 158.756, 158.52, 157.532, 158.228, 156.7, 160.366, 157.54, 158.744, 158.426, 158.746, 159.166, 158.174, 157.942, 158.726, 158.648, 159.438, 158.044, 158.746, 158.698, 156.042, 158.174, 158.626, 159.62, 159.916, 158.658, 158.202, 157.396, 158.252, 159.108, 159.39, 159.38, 159.726, 159.05, 157.694, 159.016, 158.978, 159.596, 157.52, 158.066, 158.506, 157.56, 158.676, 158.38, 158.164, 158.868, 157.732, 156.776, 158.142, 158.42, 158.388, 157.292, 158.826, 158.522, 158.682, 158.692, 158.358, 160.004, 158.954, 159.554, 158.56, 158.11, 157.078, 158.35, 156.958, 158.688, 158.608, 159.196, 158.05, 156.418, 158.712, 157.442, 158.114, 158.134, 160.758, 158.626, 158.46, 157.378, 157.738, 158.544, 157.564, 157.948, 158.222, 159.388, 158.648, 159.926, 158.118, 157.826, 158.854, 157.932, 157.426, 160.552, 158.522, 158.842, 156.876, 158.426, 158.044, 159.732, 157.842, 158.358, 159.18, 157.99, 158.632, 157.292, 158.36, 158.296, 158.562, 156.816, 158.58, 157.932, 158.136, 160.088, 157.744, 159.41, 158.15, 157.372, 158.746, 158.56, 159.466, 159.686, 158.874, 158.424, 158.28, 158.698, 158.3, 158.096, 160.254, 157.154, 160.002, 158.124, 158.058, 157.0, 158.436, 158.294, 158.196, 159.938, 157.672, 158.728, 158.286, 159.304, 157.968, 158.464, 159.174, 157.2, 157.946, 158.696, 158.374, 159.458, 159.714, 158.232, 158.926, 159.162, 158.998, 158.942, 158.524, 158.416, 159.822, 158.686, 158.146, 158.902, 158.48, 158.862, 158.006, 159.316, 157.972, 158.482, 158.746, 159.836, 158.462, 157.71, 158.268, 159.048, 158.818, 158.884, 158.912, 159.086, 157.572, 158.702, 157.504, 158.952, 158.076, 159.684, 158.93, 159.406, 158.132, 158.56, 158.554, 159.724, 159.034, 157.55, 158.21, 158.048, 161.184, 157.682, 158.46, 160.242, 157.456, 159.608, 159.428, 156.76, 160.102, 158.632, 158.554, 159.242, 159.086, 159.0, 157.542, 159.504, 157.442, 159.888, 158.316, 158.56, 156.6, 158.778, 158.794, 156.31, 159.426, 158.576, 158.634, 157.616, 158.528, 159.108, 159.594, 158.904, 160.34, 158.696, 157.248, 157.914, 160.094, 158.826, 158.11, 157.008, 157.946, 158.308, 158.774, 160.004, 158.45, 157.212, 156.988, 158.182, 159.16, 159.558, 157.604, 159.724, 157.312, 158.576, 158.472, 159.94, 157.426, 158.172, 157.056, 159.106, 159.248, 158.054, 158.22, 157.852, 158.842, 159.62, 159.032, 158.192, 158.396, 156.45, 158.82, 158.318, 158.712, 159.524, 156.934, 158.69, 158.18, 159.53, 158.958, 157.43, 158.784, 158.84, 158.378, 157.724, 158.486, 159.168, 158.8, 159.176, 157.736, 158.338, 157.89, 158.944, 159.724, 158.048, 159.74, 157.754, 158.92, 160.308, 158.608, 157.394, 156.33, 160.614, 158.652, 157.514, 158.364, 159.124, 158.084, 158.908, 159.694, 157.908, 157.558, 158.154, 159.02, 159.764, 158.698, 158.848, 157.144, 159.236, 159.214, 158.272, 158.51, 158.326, 159.33, 158.288, 159.014, 158.04, 157.61, 158.584, 157.706, 157.6, 157.676, 158.032, 159.822, 157.488, 159.66, 158.862, 159.574, 158.216, 158.726, 157.09, 158.46, 159.89, 158.888, 158.694, 157.99, 160.174, 159.456, 158.916, 157.598, 159.784, 159.582, 158.468, 157.902, 158.46, 159.176, 158.124, 158.406, 157.78, 159.186, 158.278, 159.216, 157.962, 159.034, 158.458, 159.89, 159.428, 157.568, 158.282, 157.862, 158.468, 158.09, 157.426, 157.488, 157.794, 159.77, 160.026, 158.474, 157.942, 157.196, 157.76, 157.868, 159.31, 159.264, 157.884, 157.304, 158.802, 158.344, 159.392, 157.834, 159.766, 158.332, 158.284, 159.27, 158.734, 160.278, 159.13, 158.906, 157.812, 158.124, 159.562, 159.304, 157.138, 157.238, 159.716, 157.808, 159.44, 157.954, 157.556, 158.804, 159.432, 160.12, 158.998, 159.114, 158.732, 157.948, 159.112, 158.198, 157.524, 158.31, 157.804, 158.418, 158.516, 159.624, 158.096, 158.206, 156.942, 158.354, 159.556, 157.75, 158.834, 158.994, 159.39, 157.194, 158.498, 159.856, 158.914, 157.532, 158.664, 158.262, 158.792, 159.002, 158.912, 158.504, 160.052, 157.56, 159.39, 157.746, 158.492, 158.114, 157.544, 159.416, 158.65, 159.052, 157.33, 158.752, 159.26, 157.694, 156.764, 158.524, 156.442, 158.164, 159.174, 157.994, 157.22, 159.2, 157.99, 158.564, 158.54, 158.776, 160.008, 158.092, 158.994, 158.756, 158.838, 157.854, 158.596, 158.988, 157.224, 158.452, 157.9, 157.008, 158.352, 158.31, 159.186, 159.258, 159.35, 158.054, 158.494, 159.348, 158.088, 157.856, 159.482, 158.166, 157.988, 159.064, 158.512, 159.3, 159.59, 158.292, 158.276, 157.99, 156.624, 160.238, 158.026, 158.1, 160.11, 159.088, 157.716, 160.028, 158.94, 158.628, 158.676, 158.61, 158.926, 157.198, 159.314, 158.884, 157.496, 159.31, 157.486, 157.952, 157.83, 158.058, 158.924, 157.724, 158.282, 157.666, 157.488, 158.356, 159.902, 159.01, 159.346, 158.744, 159.592, 158.254, 160.372, 156.966, 160.766, 159.214, 159.274, 158.468, 158.522, 158.442, 158.374, 159.234, 157.246, 158.804, 159.188, 157.706, 158.128, 158.93, 158.446, 157.47, 158.036, 158.526, 158.986, 157.418, 156.774, 159.278, 158.996, 157.844, 157.218, 158.992, 156.772, 159.194, 159.094, 159.402, 157.332, 158.296, 157.6, 157.618, 158.554, 156.628, 158.948, 159.116, 157.526, 158.39, 156.17, 159.098, 159.822, 158.13, 157.976, 160.282, 157.666, 158.376, 157.758, 158.114, 159.102, 158.438, 157.72, 158.54, 158.704, 156.994, 159.138, 158.054, 158.378, 158.238, 159.064, 157.952, 157.5, 156.868, 158.918, 158.094, 157.148, 157.668, 159.772, 159.628, 158.794, 157.916, 159.516, 158.858, 159.716, 156.926, 159.202, 158.216, 158.032, 158.37, 156.896, 158.758, 157.554, 158.78, 159.534, 158.606, 159.726, 157.864, 158.072, 157.392, 159.148, 159.59, 159.412, 157.982, 159.786, 156.966, 158.04, 158.266, 158.784, 158.898, 157.748, 158.382, 159.016, 158.786, 158.808, 157.65, 157.196, 159.586, 158.016, 158.898, 158.648, 158.85, 158.696, 158.732, 158.874, 159.22, 157.748, 157.994, 158.872, 158.598, 159.17, 159.606, 159.634, 158.108, 157.4, 159.118, 158.016, 157.74, 159.726, 157.326, 160.162, 159.312, 159.4, 158.572, 158.412, 158.582, 158.21, 157.778, 158.4, 158.37, 157.462, 158.382, 159.34, 157.47, 158.446, 158.322, 157.702, 159.938, 159.126, 158.584, 157.756, 158.624, 158.638, 159.864, 159.076, 159.566, 158.45, 158.938, 159.81, 157.896, 158.028, 158.582, 158.344, 156.83, 159.438, 157.088, 157.048, 157.934, 157.442, 158.768, 156.984, 157.334, 158.75, 157.794, 157.826, 158.444, 157.236, 158.94, 158.054, 156.864, 157.596, 158.478, 158.876, 158.254, 158.872, 157.92, 159.034, 157.682, 158.486, 157.858, 158.638, 157.83, 158.388, 158.794, 158.296, 158.508, 159.108, 157.706, 158.44, 158.774, 156.828, 157.678, 158.064, 156.91, 159.8, 158.618, 159.408, 157.45, 156.37, 159.038, 157.996, 157.706, 158.876, 157.106, 159.118, 157.856, 159.506, 158.338, 157.064, 159.614, 158.864, 157.478, 159.392, 157.756, 158.108, 159.714, 159.368, 158.296, 160.088, 158.236, 158.452, 158.742, 160.024, 158.9, 157.796, 158.508, 158.112, 159.828, 156.354, 158.022, 158.68, 158.834, 159.388, 158.13, 157.856, 158.83, 158.998, 158.94, 159.442, 159.532, 159.242, 158.18, 160.138, 160.22, 158.954, 158.936, 159.056, 159.342, 156.154, 158.86, 158.602, 158.482, 159.132, 156.614, 157.484, 158.95, 157.562, 158.588, 157.602, 158.688, 157.138, 158.342, 157.176, 158.168, 158.308, 156.768, 157.45, 158.366, 158.256, 158.426, 156.788, 157.982, 158.668, 158.396, 158.082, 157.098, 158.062, 159.348, 157.92, 157.994, 157.186, 157.874, 157.538, 157.67, 159.394, 158.098, 157.526, 158.784, 159.102, 157.798, 157.756, 158.348, 157.938, 159.9, 158.566, 157.226, 158.634, 158.544, 160.0, 158.256, 157.292, 158.962, 158.848, 157.706, 158.204, 156.726, 157.994, 157.968, 157.72, 159.444, 160.116, 157.772, 158.976, 158.11, 158.684, 158.86, 158.834, 158.624, 157.874, 158.146, 157.702, 159.176, 160.138, 159.29, 159.228, 159.8, 158.114, 158.988, 158.132, 157.868, 159.484, 158.172, 158.314, 158.514, 157.744, 159.968, 157.574, 159.284, 158.006, 158.574, 159.374, 158.556, 156.728, 157.788, 157.46, 158.258, 157.602, 159.6, 158.106, 158.99, 158.022, 159.342, 158.734, 156.826, 158.838, 158.762, 157.148, 158.898, 158.576, 159.414, 159.322, 159.384, 158.562, 157.21, 159.624, 159.788, 157.924, 159.258, 160.248, 157.54, 158.664, 158.37, 156.78, 159.326, 158.592, 157.498, 158.286, 159.22, 158.44, 159.046, 157.966, 159.202, 157.644, 159.064, 157.882, 159.142, 159.266, 158.676, 157.39, 157.138, 158.786, 158.196, 157.266, 158.536, 159.872, 158.428, 157.496, 158.166, 157.782, 159.136, 159.022, 158.42, 159.066, 158.736, 157.774, 158.13, 158.068, 158.852, 159.312, 159.14, 159.288, 157.522, 158.114, 159.738, 158.332, 157.102, 156.996, 158.72, 160.468, 158.29, 158.078, 158.676, 158.258, 158.092, 158.042, 158.734, 159.624, 159.172, 158.046, 158.49, 157.522, 157.528, 158.438, 158.264, 159.968, 159.148, 158.422, 158.344, 157.76, 158.422, 156.074, 157.712, 158.196, 158.498, 157.914, 157.856, 159.462, 159.266, 159.494, 158.214, 158.182, 157.842, 157.804, 158.858, 158.906, 159.288, 159.952, 159.224, 158.022, 158.738, 158.03, 156.734, 159.092, 158.784, 158.21, 156.854, 159.178, 159.578, 159.108, 157.544, 158.614, 158.362, 159.4, 158.58, 159.568, 157.492, 159.536, 159.764, 158.562, 157.786, 158.274, 158.276, 158.622, 158.256, 158.462, 158.036, 160.0, 159.208, 158.572, 158.83, 158.958, 157.056, 159.89, 158.906, 159.684, 157.394, 159.878, 157.5, 159.608, 158.794, 158.966, 159.668, 159.002, 157.666, 158.676, 158.698, 157.844, 160.404, 158.81, 157.348, 157.16, 159.796, 156.542, 158.282, 158.396, 159.802, 158.09, 157.35, 158.278, 158.39, 158.84, 158.436, 158.726, 158.556, 159.512, 157.046, 158.274, 157.234, 159.82, 159.336, 158.144, 157.098, 157.66, 159.06, 158.112, 157.278, 158.684, 157.984, 158.752, 159.186, 157.598, 157.992, 157.304, 159.416, 158.644, 159.006, 157.77, 159.23, 159.484, 157.514, 159.64, 157.832, 159.088, 159.27, 157.884, 157.326, 159.14, 157.364, 157.484, 159.008, 157.424, 159.08, 157.23, 157.208, 159.44, 158.96, 158.222, 157.688, 159.068, 158.848, 158.412, 158.654, 159.852, 158.69, 158.15, 158.614, 157.876, 158.058, 157.364, 156.812, 157.592, 157.916, 158.238, 158.054, 157.402, 158.338, 158.844, 157.364, 159.596, 157.708, 157.316, 157.238, 157.736, 157.748, 157.912, 159.776, 156.684, 159.464, 157.12, 157.944, 157.54, 158.574, 157.376, 159.31, 156.65, 157.912, 159.35, 159.166, 159.224, 159.548, 158.754, 159.086, 158.266, 159.802, 158.418, 159.566, 158.056, 158.246, 159.836, 159.388, 158.312, 158.758, 158.516, 159.378, 159.244, 158.554, 159.044, 157.788, 158.512, 157.826, 159.53, 158.526, 158.208, 159.736, 158.584, 157.846, 159.388, 158.894, 157.864, 159.364, 158.216, 158.918, 158.878, 159.922, 159.436, 159.484, 158.672, 158.466, 157.8, 158.188, 158.582, 157.34, 158.408, 158.67, 158.382, 157.62, 157.91, 158.436, 160.518, 158.658, 158.212, 158.458, 158.634, 159.24, 159.552, 158.998, 158.788, 155.906, 156.402, 158.546, 157.116, 159.02, 158.0, 157.36, 160.452, 157.832, 158.824, 157.254, 157.866, 157.992, 158.988, 158.598, 158.556, 159.036, 157.844, 158.75, 158.646, 158.584, 158.914, 159.598, 158.048, 158.256, 158.77, 159.332, 158.496, 157.482, 158.164, 158.168, 158.018, 160.242, 158.096, 158.688, 158.25, 158.398, 159.056, 156.708, 156.466, 158.364, 160.596, 159.2, 158.516, 160.302, 157.306, 159.83, 157.442, 158.542, 157.558, 160.32, 156.89, 159.43, 159.388, 157.718, 157.616, 158.982, 158.016, 158.714, 157.912, 158.892, 159.242, 160.302, 158.068, 159.91, 157.466, 157.43, 157.208, 159.938, 158.698, 158.336, 158.892, 157.544, 158.816, 157.752, 159.178, 157.786, 158.114, 159.304, 158.062, 159.136, 159.006, 158.796, 159.272, 158.704, 159.772, 157.542, 157.856, 156.854, 159.124, 159.15, 158.06, 158.192, 157.51, 158.714, 159.276, 159.058, 158.166, 159.478, 159.49, 157.892, 158.118, 159.198, 157.854, 158.054, 158.214, 160.588, 158.416, 159.514, 158.708, 158.34, 159.064, 157.942, 158.578, 157.314, 158.082, 156.594, 157.946, 158.488, 157.776, 158.994, 158.262, 158.658, 159.536, 158.038, 160.928, 158.192, 157.916, 159.344, 159.76, 157.408, 159.466, 158.942, 158.43, 159.32, 159.516, 159.116, 159.024, 159.362, 158.6, 159.584, 159.578, 158.54, 159.37, 159.2, 158.852, 158.86, 157.994, 158.65, 159.95, 157.328, 158.44, 157.766, 157.278, 158.27, 159.38, 160.314, 158.454, 159.03, 157.392, 159.404, 159.414, 157.052, 157.998, 159.256, 158.774, 158.116, 157.62, 157.6, 158.098, 159.964, 159.836, 158.82, 157.378, 160.1, 158.858, 158.196, 157.814, 159.45, 158.336, 159.548, 158.474, 159.068, 157.984, 158.55, 157.864, 157.032, 159.152, 158.116, 158.948, 158.128, 157.258, 158.33, 158.454, 158.546, 159.99, 157.28, 158.404, 158.988, 159.36, 159.836, 158.054, 157.652, 160.218, 158.276, 158.26, 158.842, 158.414, 159.488, 156.906, 159.24, 158.584, 159.096, 158.924, 158.42, 159.258, 158.314, 157.3, 156.592, 157.802, 159.608, 157.084, 159.568, 157.634, 158.19, 160.442, 157.55, 158.696, 157.93, 158.814, 157.686, 159.322, 158.434, 159.034, 157.644, 157.364, 160.14, 158.92, 157.85, 159.46, 157.962, 160.3, 157.838, 158.782, 157.178, 159.126, 157.756, 159.186, 158.576, 157.746, 159.336, 157.606, 159.042, 158.522, 157.766, 159.712, 159.85, 158.254, 158.942, 157.24, 160.296, 158.292, 157.814, 158.608, 158.522, 158.34, 159.25, 158.532, 160.422, 159.292, 159.986, 159.36, 157.56, 158.678, 158.08, 157.92, 158.964, 157.812, 159.24, 158.97, 159.19, 156.71, 159.518, 156.736, 157.166, 157.992, 158.09, 159.168, 159.002, 159.4, 159.962, 159.12, 159.084, 158.464, 159.764, 158.07, 157.082, 158.874, 158.116, 157.432, 157.79, 158.662, 160.294, 158.184, 157.074, 158.116, 157.408, 158.92, 156.582, 159.444, 158.328, 157.02, 160.48, 157.924, 158.21, 159.146, 158.582, 159.006, 157.2, 159.744, 158.93, 158.48, 159.706, 158.696, 158.486, 157.346, 157.636, 158.3, 160.414, 158.136, 159.512, 158.806, 157.974, 158.2, 157.39, 157.182, 158.724, 157.434, 158.482, 158.046, 159.074, 159.276, 158.472, 158.946, 158.288, 158.8, 159.32, 158.122, 156.628, 160.482, 157.97, 158.516, 157.138, 157.09, 158.314, 157.324, 158.008, 158.296, 159.18, 158.924, 158.66, 157.924, 156.814, 158.074, 158.666, 157.308, 158.924, 158.41, 159.034, 158.272, 158.564, 157.92, 159.59, 157.01, 159.754, 160.57, 159.164, 158.368, 157.514, 157.962, 157.96, 158.778, 159.124, 159.276, 158.184, 156.538, 158.966, 160.232, 158.702, 156.04, 157.52, 159.4, 158.098, 158.048, 158.434, 157.862, 158.302, 158.876, 158.822, 157.85, 157.866, 158.62, 158.51, 158.408, 157.878, 159.136, 157.114, 156.926, 156.464, 157.876, 156.648, 159.718, 158.95, 159.698, 158.924, 158.184, 157.55, 158.574, 158.128, 158.886, 157.686, 158.972, 158.856, 159.414, 158.442, 158.338, 159.394, 158.506, 159.372, 158.416, 157.304, 157.77, 158.538, 158.744, 158.554, 159.62, 157.998, 159.028, 157.334, 159.222, 158.728, 158.99, 157.194, 158.468, 158.57, 158.636, 158.584, 157.994, 158.556, 158.048, 158.628, 159.312, 158.116, 158.448, 159.002, 158.752, 159.2, 158.466, 158.764, 159.126, 158.464, 158.598, 160.186, 157.872, 157.732, 159.264, 158.908, 157.962, 159.586, 157.84, 158.536, 156.91, 157.816, 156.638, 158.23, 159.214, 158.172, 158.362, 157.91, 158.572, 159.104, 159.466, 158.9, 157.878, 157.15, 156.4, 159.124, 158.586, 158.564, 158.48, 158.22, 158.53, 159.5, 159.194, 158.218, 159.116, 155.042, 159.322, 157.998, 158.414, 159.174, 159.394, 158.368, 158.306, 159.718, 158.356, 159.41, 159.082, 160.084, 157.376, 158.754, 159.16, 156.258, 159.26, 158.556, 158.626, 159.552, 158.244, 159.9, 158.394, 159.704, 158.168, 158.616, 158.072, 158.646, 159.154, 158.752, 157.442, 158.308, 158.626, 159.414, 158.33, 158.248, 157.382, 159.194, 157.73, 157.972, 158.12, 157.138, 158.168, 159.512, 158.086, 158.834, 158.924, 158.46, 159.782, 159.216, 157.878, 157.76, 158.612, 159.162, 158.534, 159.05, 158.978, 158.842, 158.648, 157.606, 158.332, 159.516, 158.19, 156.512, 158.61, 158.292, 159.728, 158.696, 157.71, 159.338, 157.914, 159.89, 159.288, 157.414, 159.0, 158.302, 156.978, 159.184, 157.91, 158.552, 158.72, 159.236, 158.422, 158.06, 158.734, 157.216, 157.456, 158.53, 158.95, 158.346, 157.864, 159.946, 157.234, 158.086, 159.208, 158.234, 159.87, 159.838, 159.052, 158.198, 159.278, 158.158, 157.552, 160.244, 158.642, 157.75, 158.64, 158.164, 158.128, 159.078, 160.378, 158.756, 158.616, 159.198, 159.348, 158.898, 159.0, 158.672, 158.748, 158.502, 160.136, 158.916, 158.256, 158.75, 157.656, 158.458, 158.956, 157.28, 157.412, 158.702, 157.284, 158.516, 158.698, 158.06, 158.356, 158.362, 159.14, 159.65, 157.406, 157.61, 158.602, 157.954, 159.27, 159.378, 158.836, 157.894, 159.074, 158.756, 157.5, 158.426, 158.934, 160.606, 157.43, 158.166, 158.746, 159.502, 157.43, 158.098, 159.416, 157.532, 158.162, 157.844, 158.048, 157.554, 159.362, 158.552, 158.56, 159.724, 159.536, 156.604, 158.368, 158.626, 158.186, 158.316, 158.146, 157.868, 158.646, 157.674, 157.526, 157.256, 158.186, 160.372, 159.644, 160.322, 158.698, 158.39, 157.864, 159.08, 157.936, 158.17, 159.664, 158.004, 158.626, 158.638, 159.7, 158.964, 157.55, 158.748, 159.46, 157.09, 157.302, 157.588, 158.644, 159.126, 158.236, 159.244, 158.352, 158.366, 157.908, 158.654, 158.678, 158.986, 160.15, 158.77, 158.882, 158.93, 158.624, 158.586, 158.796, 158.032, 157.718, 158.54, 159.144, 158.56, 158.13, 157.706, 158.83, 158.686, 157.5, 161.312, 158.106, 157.886, 156.438, 158.538, 156.776, 158.012, 158.55, 157.938, 158.89, 157.88, 157.316, 158.976, 157.694, 157.932, 158.45, 158.576, 157.436, 158.654, 158.22, 157.462, 157.82, 158.696, 159.0, 157.842, 157.958, 157.97, 158.424, 159.164, 157.666, 159.888, 158.748, 157.84, 159.136, 158.754, 158.142, 157.36, 159.064, 159.632, 158.424, 157.178, 159.024, 158.78, 158.232, 159.478, 157.538, 159.136, 158.794, 158.306, 158.27, 158.478, 156.948, 158.778, 159.014, 158.006, 159.612, 159.816, 157.352, 159.29, 158.854, 158.656, 158.518, 159.648, 159.88, 160.004, 159.82, 159.616, 159.212, 158.316, 159.1, 158.446, 157.402, 159.298, 160.436, 157.862, 159.38, 158.04, 158.626, 158.636, 157.9, 158.74, 158.366, 159.916, 157.19, 156.84, 157.69, 158.78, 159.308, 160.056, 157.488, 158.294, 157.86, 158.924, 158.838, 157.966, 158.106, 158.48, 157.756, 158.858, 158.61, 157.564, 158.986, 157.404, 159.682, 158.656, 158.854, 156.796, 157.244, 158.104, 158.752, 158.18, 157.83, 159.562, 159.474, 159.132, 159.19, 159.984, 158.474, 158.368, 160.108, 159.112, 157.072, 157.096, 158.072, 158.276, 157.392, 157.714, 159.182, 158.116, 159.758, 158.646, 157.202, 157.324, 157.324, 160.056, 157.168, 158.264, 159.356, 158.564, 156.892, 159.276, 158.374, 158.844, 158.414, 158.76, 158.31, 158.066, 158.516, 159.864, 157.762, 159.936, 158.086, 159.682, 157.748, 159.698, 157.59, 157.496, 157.992, 158.126, 157.872, 159.168, 158.074, 157.992, 158.56, 158.752, 158.804, 157.794, 157.856, 158.454, 158.49, 157.128, 159.012, 158.974, 158.628, 159.282, 158.388, 158.326, 158.754, 158.152, 157.894, 157.882, 157.904, 157.134, 158.66, 158.688, 157.996, 157.946, 159.63, 158.572, 159.576, 157.602, 158.75, 158.864, 158.424, 158.562, 158.842, 158.382, 158.036, 157.4, 159.304, 159.134, 158.388, 158.466, 159.12, 157.638, 157.982, 156.706, 158.994, 158.772, 157.982, 158.264, 159.27, 157.648, 158.082, 157.536, 158.72, 158.812, 158.562, 157.7, 158.296, 159.142, 158.494, 158.776, 158.434, 159.866, 158.892, 159.294, 159.176, 158.694, 157.176, 158.196, 158.358, 158.606, 158.446, 158.79, 158.898, 159.046, 159.036, 159.156, 157.472, 158.272, 159.27, 158.29, 157.684, 157.076, 158.444, 158.456, 159.204, 158.366, 158.764, 160.27, 157.71, 158.782, 158.634, 157.924, 158.428, 156.624, 157.766, 157.354, 157.978, 158.142, 157.536, 158.112, 158.854, 158.846, 157.818, 158.838, 156.672, 159.884, 157.228, 159.27, 158.686, 158.162, 158.694, 158.184, 157.934, 160.294, 158.624, 159.934, 157.094, 160.174, 158.916, 157.922, 158.732, 157.778, 157.928, 158.728, 157.13, 158.144, 158.902, 158.472, 159.078, 156.96, 158.254, 157.598, 159.042, 158.798, 158.574, 160.22, 157.226, 159.412, 158.598, 158.686, 159.006, 158.716, 158.806, 158.264, 159.16, 159.008, 157.926, 158.182, 156.212, 157.0, 157.98, 157.75, 156.51, 159.222, 157.304, 158.106, 158.718, 159.05, 156.612, 159.224, 159.03, 158.126, 158.528, 160.164, 157.804, 158.138, 158.58, 158.826, 157.422, 158.276, 159.402, 159.464, 158.982, 158.936, 156.984, 158.974, 159.552, 158.636, 159.73, 158.386, 158.316, 159.21, 159.022, 158.14, 159.534, 159.3, 160.452, 158.638, 159.502, 160.064, 158.0, 158.018, 157.708, 159.506, 158.604, 158.072, 157.274, 158.938, 157.818, 158.236, 159.672, 158.824, 157.622, 159.046, 157.444, 157.526, 158.664, 159.122, 159.014, 158.906, 158.89, 159.794, 157.742, 158.99, 156.926, 157.842, 157.074, 160.222, 157.85, 160.358, 158.756, 158.938, 159.38, 158.26, 158.1, 157.238, 157.974, 158.35, 158.73, 158.534, 158.052, 157.96, 159.27, 159.108, 158.442, 158.556, 159.256, 158.73, 159.246, 158.648, 158.922, 158.604, 158.41, 159.004, 158.776, 159.206, 158.502, 159.016, 157.522, 159.118, 158.886, 157.968, 158.254, 158.422, 157.142, 159.442, 159.214, 157.988, 159.158, 156.47, 157.76, 159.956, 158.162, 156.854, 157.64, 157.504, 158.332, 158.42, 158.38, 158.428, 158.1, 157.948, 159.37, 157.824, 158.74, 158.624, 157.264, 159.536, 157.908, 159.226, 158.064, 158.93, 158.472, 159.19, 158.006, 157.276, 159.258, 159.05, 159.218, 158.14, 158.098, 158.962, 159.408, 159.01, 158.006, 157.862, 159.388, 158.384, 158.782, 155.666, 158.18, 159.322, 158.828, 160.044, 158.33, 158.256, 158.56, 158.486, 158.97, 159.518, 159.06, 159.608, 157.976, 158.802, 158.448, 158.366, 159.36, 157.988, 156.038, 158.366, 157.134, 158.824, 158.986, 159.87, 160.824, 158.088, 158.678, 158.978, 158.926, 156.1, 160.114, 159.112, 158.906, 156.922, 158.422, 157.392, 157.794, 158.278, 156.62, 159.582, 159.64, 158.928, 158.492, 157.784, 158.82, 158.452, 157.194, 158.25, 159.234, 158.692, 159.018, 157.178, 158.46, 158.264, 158.992, 158.76, 159.238, 157.316, 159.112, 159.584, 159.118, 158.502, 158.026, 158.234, 158.656, 158.872, 158.196, 159.25, 157.212, 157.89, 156.788, 158.626, 159.014, 158.124, 158.606, 157.056, 158.446, 159.892, 158.428, 158.842, 157.686, 159.738, 158.984, 159.916, 159.368, 159.222, 158.562, 157.068, 157.782, 157.664, 159.224, 159.196, 158.948, 156.728, 157.55, 158.782, 157.384, 158.862, 158.316, 158.272, 157.598, 158.248, 158.292, 158.022, 158.316, 156.946, 158.296, 159.332, 157.85, 158.036, 157.74, 159.374, 158.03, 158.954, 158.008, 158.67, 159.566, 159.108, 158.71, 157.812, 159.136, 159.614, 157.674, 158.076, 158.278, 159.178, 160.06, 158.252, 159.324, 157.78, 156.928, 159.1, 160.286, 159.46, 158.988, 157.924, 157.802, 158.646, 158.83, 158.928, 158.834, 158.258, 159.058, 159.012, 157.984, 158.87, 158.98, 158.73, 157.242, 156.258, 157.282, 158.254, 158.63, 158.22, 158.486, 159.504, 157.742, 159.026, 159.2, 158.19, 157.636, 156.838, 158.172, 159.728, 159.484, 158.92, 156.782, 157.348, 158.428, 158.998, 159.972, 159.872, 158.738, 158.528, 158.316, 158.84, 158.61, 157.694, 157.666, 159.872, 157.548, 158.5, 158.076, 157.426, 158.65, 157.044, 158.242, 159.768, 159.082, 157.924, 158.418, 158.802, 159.144, 157.282, 157.898, 158.948, 158.384, 160.328, 158.456, 158.928, 158.982, 157.98, 156.654, 158.622, 158.738, 159.866, 160.662, 157.994, 159.622, 158.25, 158.328, 157.342, 157.554, 159.436, 158.348, 159.316, 158.612, 158.46, 157.852, 158.326, 158.39, 159.92, 158.204, 159.144, 159.368, 157.596, 157.54, 158.284, 157.824, 159.452, 159.312, 158.34, 156.364, 158.198, 159.306, 159.49, 158.574, 158.068, 159.434, 157.966, 156.424, 158.6, 157.762, 160.03, 159.138, 156.656, 158.798, 158.474, 158.69, 158.698, 158.586, 159.148, 158.06, 157.418, 159.626, 158.332, 158.058, 158.708, 159.188, 157.622, 157.812, 159.046, 157.694, 159.246, 158.982, 158.83, 158.624, 159.478, 157.996, 159.642, 157.156, 158.012, 157.582, 158.376, 157.124, 158.082, 158.93, 158.854, 157.436, 157.296, 157.894, 157.044, 156.496, 158.46, 158.216, 157.248, 157.746, 157.556, 157.59, 158.788, 158.114, 159.988, 157.7, 159.602, 159.468, 157.814, 158.954, 158.9, 158.574, 158.408, 158.246, 159.74, 159.022, 158.016, 160.532, 157.56, 160.516, 157.358, 158.78, 159.926, 159.29, 158.054, 157.648, 159.326, 159.768, 158.44, 157.768, 157.79, 158.268, 157.716, 158.658, 158.456, 158.038, 158.162, 159.978, 158.488, 159.752, 159.854, 160.244, 159.174, 160.006, 159.146, 158.896, 159.914, 159.224, 158.248, 158.598, 158.304, 157.612, 158.77, 160.024, 159.094, 158.932, 158.402, 159.212, 158.114, 158.576, 159.49, 158.594, 159.304, 159.134, 159.554, 158.208, 156.858, 158.016, 158.542, 159.806, 156.792, 157.554, 158.038, 158.95, 159.086, 159.356, 157.96, 157.51, 158.58, 158.79, 156.932, 159.514, 159.57, 158.21, 159.222, 159.162, 159.032, 159.406, 157.458, 158.708, 158.62, 157.616, 159.772, 157.768, 158.474, 157.926, 158.544, 159.716, 158.19, 159.018, 159.374, 156.67, 158.67, 159.742, 159.202, 159.602, 157.662, 158.58, 157.978, 158.52, 158.784, 158.35, 158.232, 156.93, 157.496, 158.548, 157.662, 160.062, 160.104, 158.108, 157.724, 159.292, 159.526, 156.796, 158.256, 158.626, 157.446, 157.83, 159.132, 159.65, 157.868, 159.882, 156.772, 158.906, 157.406, 158.778, 158.384, 159.182, 158.356, 157.698, 158.79, 158.374, 158.18, 157.958, 157.27, 158.384, 159.43, 157.724, 158.098, 157.058, 157.482, 157.958, 158.35, 157.734, 158.85, 159.36, 158.08, 158.61, 158.178, 158.482, 159.676, 159.408, 158.304, 158.486, 159.236, 157.502, 158.526, 158.216, 157.868, 159.48, 158.722, 157.5, 158.36, 158.612, 158.806, 159.714, 157.96, 157.792, 159.178, 159.006, 158.728, 158.546, 157.956, 157.852, 157.162, 158.734, 159.25, 158.058, 158.548, 157.966, 159.752, 159.078, 159.008, 158.43, 157.84, 158.09, 158.77, 157.488, 158.59, 158.73, 158.97, 156.638, 158.984, 158.388, 158.262, 159.116, 159.436, 158.398, 158.752, 158.61, 157.134, 157.184, 157.226, 158.936, 157.578, 160.018, 158.726, 157.912, 158.444, 159.49, 158.322, 159.022, 156.744, 158.892, 158.28, 158.646, 158.872, 158.664, 158.104, 159.494, 160.926, 158.428, 157.622, 157.292, 158.148, 159.56, 161.182, 158.442, 160.946, 158.732, 158.724, 157.518, 158.788, 157.484, 158.99, 160.46, 157.066, 157.978, 157.61, 158.912, 158.58, 159.442, 157.282, 158.88, 157.98, 158.032, 158.466, 159.592, 158.386, 159.976, 159.416, 158.384, 159.142, 158.012, 157.288, 159.86, 159.514, 158.384, 159.544, 159.02, 156.914, 158.542, 159.35, 160.578, 159.218, 158.328, 159.324, 157.974, 159.1, 157.87, 156.722, 160.368, 157.902, 158.432, 157.758, 159.87, 158.77, 158.694, 156.876, 157.222, 159.392, 158.206, 158.436, 160.14, 157.644, 159.13, 158.754, 159.508, 158.878, 159.776, 158.752, 158.126, 159.686, 159.51, 157.964, 158.698, 156.71, 155.782, 158.726, 158.954, 157.968, 157.452, 157.6, 158.424, 159.878, 159.368, 159.644, 158.87, 158.838, 158.362, 158.598, 157.002, 159.268, 157.688, 159.01, 158.48, 157.62, 157.876, 158.904, 158.07, 156.918, 159.206, 158.068, 157.568, 158.4, 158.7, 157.178, 157.37, 160.182, 158.228, 158.326, 158.354, 158.356, 160.102, 159.31, 156.92, 159.342, 158.312, 158.926, 160.376, 158.79, 158.872, 159.846, 157.24, 158.386, 157.584, 158.778, 159.188, 158.092, 157.024, 160.006, 158.22, 157.802, 158.608, 159.534, 158.022, 157.364, 158.218, 159.352, 159.108, 158.118, 158.076, 159.188, 159.396, 157.338, 158.01, 158.396, 157.89, 159.584, 156.964, 158.878, 158.014, 158.08, 157.486, 158.134, 157.91, 157.88, 159.482, 158.322, 157.798, 156.752, 158.722, 158.952, 158.786, 157.364, 156.62, 158.238, 158.486, 158.348, 159.804, 158.816, 158.29, 159.426, 159.514, 156.548, 159.27, 158.604, 158.994, 160.368, 159.034, 158.874, 158.05, 158.868, 156.662, 158.122, 157.836, 157.93, 158.28, 158.37, 159.028, 158.552, 158.032, 159.13, 158.34, 158.942, 158.404, 159.536, 158.938, 159.338, 158.016, 158.858, 158.448, 158.632, 157.146, 157.004, 158.284, 156.716, 159.224, 159.188, 159.198, 158.692, 158.806, 160.584, 159.714, 158.848, 157.596, 156.532, 158.552, 159.31, 159.132, 157.34, 159.69, 159.23, 158.596, 158.306, 159.81, 157.842, 159.256, 159.812, 157.408, 158.224, 158.796, 159.038, 158.618, 158.464, 159.078, 159.098, 157.948, 158.762, 158.106, 157.094, 158.328, 157.9, 158.516, 159.402, 157.302, 156.978, 160.058, 159.452, 158.344, 158.614, 158.218, 157.786, 159.43, 159.634, 158.772, 158.628, 158.854, 157.784, 157.96, 158.03, 158.724, 157.818, 159.174, 159.386, 158.694, 158.254, 159.138, 159.732, 157.13, 157.536, 158.722, 158.5, 157.772, 159.012, 158.304, 158.662, 157.426, 157.694, 158.564, 158.542, 158.276, 159.09, 157.386, 158.328, 158.388, 157.658, 158.578, 157.48, 158.646, 158.92, 158.718, 157.6, 159.292, 158.106, 158.362, 158.016, 158.308, 158.928, 159.528, 159.13, 158.668, 157.844, 155.976, 159.784, 157.992, 158.322, 159.076, 157.994, 159.184, 159.104, 157.2, 158.832, 158.318, 158.214, 157.358, 159.458, 158.782, 157.918, 157.094, 158.268, 158.226, 158.454, 158.706, 158.734, 158.356, 158.774, 158.102, 156.926, 158.844, 158.256, 158.58, 159.032, 157.664, 160.078, 159.314, 158.976, 156.468, 157.038, 158.908, 159.478, 158.186, 157.674, 159.73, 159.01, 157.834, 159.032, 157.326, 158.474, 158.924, 158.796, 159.79, 158.646, 157.18, 158.564, 158.42, 159.21, 159.634, 157.942, 159.346, 160.48, 156.79, 158.846, 158.732, 158.03, 159.34, 157.922, 158.832, 159.196, 159.992, 156.942, 158.234, 158.242, 157.736, 159.328, 157.68, 158.742, 159.998, 157.774, 160.114, 159.226, 158.748, 158.89, 158.79, 157.584, 159.01, 156.994, 159.276, 159.03, 157.942, 158.334, 158.646, 157.612, 158.936, 157.59, 158.438, 157.448, 159.728, 157.388, 159.608, 159.182, 158.35, 158.932, 159.004, 159.168, 159.56, 157.418, 158.084, 158.082, 160.206, 159.266, 158.13, 158.29, 158.39, 157.748, 158.062, 157.698, 159.946, 157.078, 159.924, 157.598, 158.192, 159.282, 159.566, 156.898, 158.826, 157.724, 158.296, 158.926, 158.17, 158.512, 158.058, 159.632, 157.22, 158.8, 158.966, 158.364, 158.612, 159.95, 157.354, 157.568, 158.67, 158.008, 158.846, 157.482, 159.58, 158.488, 158.566, 158.71, 158.658, 157.79, 159.694, 157.68, 157.672, 158.218, 156.744, 157.964, 159.382, 157.942, 159.166, 158.746, 158.0, 157.366, 157.794, 158.426, 159.544, 157.478, 158.832, 158.43, 160.786, 158.356, 158.484, 158.602, 159.94, 156.954, 157.946, 159.114, 158.312, 158.388, 158.42, 158.496, 158.152, 158.13, 160.04, 158.32, 157.554, 158.556, 158.034, 158.794, 158.798, 160.008, 158.926, 157.796, 156.112, 158.682, 158.38, 158.362, 157.656, 157.68, 158.548, 158.348, 158.588, 158.814, 157.876, 159.396, 157.72, 157.976, 158.96, 159.264, 159.312, 156.868, 157.48, 159.78, 158.958, 159.072, 160.062, 157.408, 158.86, 157.604, 159.796, 156.07, 159.042, 158.016, 157.594, 160.088, 158.646, 159.246, 158.676, 159.16, 158.518, 158.934, 158.03, 158.524, 157.848, 160.214, 158.418, 158.936, 158.234, 158.2, 158.732, 158.41, 159.448, 158.672, 158.614, 157.724, 158.426, 158.218, 159.862, 159.996, 157.126, 156.2, 158.456, 158.832, 159.964, 159.102, 158.23, 158.3, 157.812, 158.418, 158.952, 157.696, 158.734, 158.112, 158.64, 158.402, 158.27, 159.406, 157.498, 158.362, 157.5, 159.754, 159.73, 159.854, 159.68, 158.078, 158.064, 157.112, 159.164, 160.01, 158.95, 158.058, 158.41, 157.242, 159.294, 158.916, 157.816, 158.946, 158.236, 158.002, 159.13, 157.354, 158.176, 158.546, 158.986, 157.87, 157.672, 158.134, 159.282, 158.252, 157.658, 159.114, 156.886, 158.454, 158.494, 157.624, 158.11, 158.7, 157.69, 157.278, 158.31, 158.652, 156.888, 158.998, 157.446, 157.858, 159.412, 158.674, 155.928, 159.066, 157.872, 157.014, 156.666, 157.978, 157.352, 157.576, 158.388, 157.978, 158.096, 159.77, 159.376, 157.212, 158.112, 159.296, 157.87, 157.53, 159.52, 159.962, 157.652, 157.496, 159.992, 159.408, 158.136, 159.524, 156.484, 158.98, 157.322, 158.494, 156.656, 158.74, 158.524, 158.492, 158.29, 158.254, 158.302, 158.658, 157.136, 159.056, 158.224, 158.886, 157.23, 158.086, 157.82, 159.154, 158.01, 156.364, 157.408, 157.996, 159.066, 157.144, 159.624, 157.974, 158.962, 158.132, 158.828, 158.992, 157.802, 156.06, 157.996, 158.068, 159.338, 160.154, 157.934, 158.266, 159.17, 159.078, 157.976, 158.036, 159.682, 156.766, 158.808, 157.982, 158.124, 158.268, 159.048, 155.658, 159.436, 158.122, 159.172, 158.418, 158.86, 159.436, 158.09, 157.134, 159.414, 159.22, 158.204, 158.074, 158.952, 158.682, 158.26, 158.426, 157.02, 156.884, 157.662, 158.536, 157.674, 158.498, 159.412, 158.956, 158.648, 158.646, 157.898, 159.498, 158.598, 158.398, 160.014, 158.36, 158.176, 158.172, 159.004, 158.402, 159.32, 160.3, 159.144, 158.012, 158.876, 159.87, 158.362, 158.582, 157.056, 157.516, 159.686, 157.22, 157.07, 157.914, 159.498, 158.604, 158.908, 157.472, 158.052, 159.778, 158.778, 159.73, 158.788, 157.01, 156.57, 159.342, 160.996, 159.466, 158.582, 158.834, 158.046, 158.388, 159.89, 158.014, 157.854, 158.754, 159.306, 160.508, 159.166, 159.316, 156.298, 159.64, 157.912, 157.616, 159.528, 158.346, 158.934, 159.26, 158.686, 158.964, 156.954, 157.926, 158.69, 159.944, 157.284, 158.31, 157.444, 158.808, 158.83, 157.91, 157.486, 158.248, 158.864, 158.402, 157.532, 157.86, 159.68, 159.37, 157.854, 158.58, 157.41, 159.446, 156.836, 158.134, 159.362, 158.334, 159.822, 158.262, 157.252, 159.272, 157.628, 160.142, 158.432, 158.47, 158.17, 159.0, 158.542, 159.15, 157.726, 158.896, 158.374, 157.768, 158.284, 158.982, 158.088, 159.084, 159.392, 157.104, 159.51, 158.672, 158.894, 157.796, 158.718, 157.88, 157.888, 158.9, 159.448, 158.454, 158.148, 158.31, 159.086, 158.044, 159.534, 160.022, 158.618, 159.338, 158.766, 160.042, 159.642, 159.092, 158.184, 158.106, 158.782, 157.58, 158.804, 158.01, 158.664, 158.27, 158.804, 159.144, 158.186, 158.488, 158.944, 157.056, 158.05, 157.746, 158.818, 158.57, 158.232, 159.876, 160.03, 159.26, 158.364, 159.508, 157.078, 158.788, 158.584, 157.584, 158.91, 158.93, 157.558, 157.664, 159.898, 159.728, 158.264, 159.644, 159.474, 159.606, 159.378, 157.046, 157.634, 157.228, 158.76, 158.894, 159.2, 157.762, 158.95, 157.714, 157.488, 159.16, 159.798, 158.968, 158.362, 160.134, 157.902, 158.516, 158.344, 159.666, 160.002, 158.868, 158.874, 157.566, 157.778, 157.672, 158.498, 159.534, 158.938, 159.026, 157.704, 157.876, 159.36, 159.118, 157.768, 157.442, 158.9, 158.518, 159.124, 156.558, 159.622, 159.292, 160.326, 157.66, 160.51, 159.278, 158.882, 158.212, 158.338, 158.476, 157.772, 157.09, 159.896, 158.28, 159.27, 158.946, 156.23, 157.766, 157.524, 158.686, 157.644, 157.424, 158.646, 158.246, 160.134, 158.02, 156.978, 157.764, 158.292, 157.78, 157.046, 159.25, 157.914, 160.196, 158.912, 159.898, 158.56, 159.056, 158.012, 158.372, 157.118, 158.3, 158.174, 157.15, 159.912, 159.046, 159.006, 158.67, 159.22, 158.852, 158.814, 158.986, 157.284, 158.64, 158.794, 159.374, 159.034, 159.116, 157.902, 157.806, 159.566, 160.062, 159.26, 156.86, 158.686, 159.388, 156.592, 159.28, 157.63, 158.648, 159.268, 158.57, 159.018, 158.582, 157.146, 158.904, 158.998, 158.254, 158.158, 157.402, 158.842, 156.99, 159.634, 156.532, 158.114, 158.446, 157.412, 157.78, 160.108, 159.31, 159.566, 158.086, 159.324, 158.77, 159.538, 158.354, 157.238, 159.188, 157.76, 158.336, 157.798, 157.326, 159.392, 158.682, 158.908, 158.662, 158.682, 158.162, 160.142, 158.51, 158.014, 159.006, 157.32, 159.356, 158.732, 159.73, 157.622, 157.754, 157.616, 159.026, 159.486, 158.208, 160.292, 158.544, 157.732, 159.37, 159.768, 159.53, 159.13, 158.788, 158.32, 159.334, 159.148, 158.628, 159.054, 158.112, 158.748, 158.994, 156.948, 156.6, 159.624, 156.45, 159.704, 158.598, 158.216, 159.022, 159.29, 157.266, 158.044, 158.524, 159.71, 158.612, 160.632, 159.196, 156.678, 159.606, 157.298, 158.138, 158.502, 159.558, 158.01, 158.416, 158.744, 158.02, 159.66, 158.012, 158.204, 156.444, 158.846, 159.966, 158.486, 159.8, 158.79, 158.168, 157.848, 157.78, 155.498, 158.47, 157.486, 158.988, 159.312, 158.69, 157.186, 158.906, 157.512, 159.16, 159.52, 157.92, 158.372, 158.422, 158.982, 159.038, 158.482, 159.148, 157.174, 157.416, 158.336, 157.822, 158.648, 159.256, 158.758, 157.994, 157.468, 159.12, 157.168, 157.646, 158.768, 157.648, 158.05, 158.886, 157.586, 160.328, 158.384, 158.94, 159.066, 158.368, 158.84, 158.836, 158.06, 159.612, 158.81, 158.468, 157.804, 159.08, 158.512, 160.17, 158.97, 155.554, 159.314, 157.772, 157.096, 157.034, 158.694, 160.646, 156.892, 159.316, 158.312, 159.338, 158.734, 159.324, 158.066, 157.808, 157.49, 157.312, 159.142, 159.298, 158.64, 158.608, 158.206, 158.698, 157.638, 158.84, 160.848, 157.632, 158.712, 157.902, 157.52, 158.654, 157.912, 159.584, 158.798, 159.03, 159.268, 158.224, 158.604, 158.878, 157.486, 159.552, 158.182, 158.168, 158.21, 157.542, 158.826, 157.352, 158.752, 157.966, 157.734, 157.818, 157.842, 158.386, 157.95, 158.88, 156.87, 157.984, 159.606, 157.764, 157.944, 159.284, 160.014, 157.822, 159.432, 157.418, 159.212, 158.24, 158.75, 160.358, 158.214, 157.694, 159.704, 159.458, 158.842, 159.418, 158.672, 158.078, 159.994, 157.908, 158.128, 158.244, 159.438, 158.51, 157.462, 157.77, 158.994, 158.082, 159.528, 158.948, 159.27, 159.538, 158.086, 160.008, 159.626, 157.86, 159.33, 158.998, 159.596, 158.006, 157.932, 159.452, 159.076, 159.648, 158.586, 157.368, 159.58, 159.688, 159.676, 158.292, 158.23, 159.162, 159.75, 160.116, 157.49, 158.14, 158.178, 157.406, 157.896, 157.616, 156.888, 158.188, 158.86, 157.652, 159.742, 159.592, 159.822, 157.762, 157.882, 156.36, 158.296, 159.908, 159.296, 158.648, 159.84, 158.414, 158.956, 157.318, 157.576, 158.556, 158.188, 159.018, 159.42, 158.462, 158.818, 157.976, 157.436, 158.014, 160.008, 159.122, 158.164, 158.192, 158.132, 159.344, 157.826, 156.838, 159.244, 159.358, 157.554, 158.208, 158.838, 157.346, 156.786, 159.088, 157.516, 158.742, 159.424, 159.356, 157.98, 157.506, 158.73, 159.052, 158.826, 158.844, 158.398, 158.74, 158.794, 157.764, 159.344, 159.194, 158.564, 158.198, 158.584, 158.088, 157.58, 159.626, 159.358, 158.87, 159.794, 159.008, 158.028, 159.374, 159.772, 158.72, 158.2, 157.33, 158.208, 157.34, 159.096, 157.5, 159.64, 158.628, 159.92, 157.866, 158.976, 159.172, 158.316, 158.108, 160.214, 158.398, 157.978, 157.612, 157.252, 158.488, 157.968, 158.702, 158.564, 158.854, 157.57, 159.164, 159.354, 158.202, 157.836, 158.588, 157.762, 156.966, 159.704, 158.058, 156.95, 158.656, 158.792, 156.674, 156.734, 158.906, 157.092, 158.792, 159.036, 160.092, 159.11, 157.944, 159.7, 157.65, 158.742, 158.112, 159.44, 158.352, 158.384, 157.38, 158.876, 158.682, 159.374, 158.504, 157.984, 158.784, 159.362, 159.188, 158.22, 158.804, 157.93, 159.174, 158.518, 159.336, 157.642, 158.296, 158.344, 158.294, 158.008, 157.278, 156.926, 160.324, 158.766, 159.334, 157.64, 158.746, 158.114, 159.066, 158.838, 158.18, 158.102, 157.91, 158.312, 158.18, 159.648, 158.268, 157.928, 159.374, 157.796, 157.03, 158.726, 158.304, 159.388, 158.438, 157.572, 158.176, 158.92, 158.428, 159.072, 159.884, 157.466, 157.756, 158.654, 158.448, 160.768, 156.922, 158.678, 159.53, 159.14, 159.03, 157.406, 158.184, 159.312, 158.11, 159.23, 158.532, 158.078, 159.052, 158.444, 159.092, 159.934, 158.52, 160.05, 158.08, 159.826, 159.478, 158.936, 158.122, 157.824, 158.688, 157.544, 157.156, 159.352, 159.202, 159.822, 159.896, 158.144, 158.812, 159.062, 158.402, 159.044, 158.404, 159.646, 158.11, 157.87, 158.182, 160.084, 157.526, 158.384, 155.95, 160.056, 158.56, 156.734, 159.48, 157.26, 158.47, 158.06, 158.84, 156.45, 158.946, 158.598, 158.646, 157.344, 158.914, 158.56, 158.31, 159.552, 157.672, 157.87, 159.77, 159.056, 158.048, 160.498, 157.818, 159.304, 158.07, 158.08, 159.72, 157.95, 159.332, 157.628, 159.084, 158.74, 158.586, 158.938, 157.686, 157.778, 158.41, 158.352, 157.706, 158.624, 159.212, 159.674, 159.18, 158.008, 159.53, 158.556, 157.036, 158.714, 159.766, 157.852, 159.816, 158.364, 158.7, 157.994, 159.726, 158.738, 157.548, 158.95, 158.49, 157.606, 157.414, 157.52, 159.426, 155.886, 159.25, 159.656, 156.686, 158.198, 158.486, 158.624, 158.628, 160.104, 157.368, 158.564, 159.348, 157.914, 159.326, 158.266, 157.332, 159.292, 158.556, 159.182, 159.298, 159.182, 159.676, 158.248, 157.524, 158.922, 158.81, 159.904, 158.79, 157.892, 158.378, 158.058, 157.886, 158.178, 157.818, 157.42, 158.784, 158.214, 160.316, 157.578, 157.918, 158.348, 158.288, 157.352, 158.278, 156.444, 158.426, 158.602, 157.234, 158.61, 160.652, 159.248, 157.032, 157.502, 158.486, 158.148, 158.598, 158.068, 158.028, 159.598, 158.152, 156.838, 160.284, 158.918, 159.432, 157.964, 157.926, 157.332, 156.786, 158.512, 158.796, 157.502, 158.994, 159.76, 158.822, 158.978, 158.032, 158.192, 159.47, 157.66, 159.578, 159.17, 158.468, 159.002, 158.902, 158.63, 158.008, 157.428, 157.404, 158.152, 157.232, 156.772, 159.666, 158.354, 158.208, 158.278, 157.256, 158.346, 159.46, 156.816, 159.324, 159.842, 157.524, 158.32, 157.378, 158.326, 157.958, 158.168, 157.892, 158.602, 158.146, 158.484, 159.156, 156.654, 158.042, 158.564, 159.14, 157.84, 159.304, 158.358, 160.114, 157.46, 159.274, 159.784, 159.51, 159.482, 160.082, 157.934, 159.036, 158.012, 158.782, 157.798, 157.898, 158.2, 158.7, 160.26, 156.984, 159.018, 158.158, 158.934, 158.688, 159.074, 159.356, 159.888, 157.44, 159.192, 158.16, 158.608, 157.914, 159.956, 158.73, 158.256, 157.444, 158.628, 157.33, 158.518, 158.352, 157.904, 157.58, 161.24, 158.114, 158.47, 159.23, 156.548, 158.584, 159.65, 158.442, 156.158, 158.68, 158.302, 158.456, 158.502, 158.98, 158.142, 158.06, 158.56, 157.826, 158.668, 158.844, 157.97, 158.588, 158.732, 158.094, 158.496, 158.192, 158.37, 159.758, 158.928, 158.816, 159.834, 160.068, 159.922, 158.904, 158.644, 157.848, 158.042, 157.756, 158.144, 159.298, 158.494, 157.31, 158.502, 158.932, 159.584, 158.386, 158.448, 158.678, 158.354, 158.678, 156.576, 158.482, 158.408, 160.908, 160.21, 159.994, 158.388, 158.22, 157.718, 158.914, 158.928, 158.758, 158.338, 157.97, 158.712, 158.312, 157.918, 158.946, 157.834, 158.314, 158.586, 159.31, 159.194, 158.456, 158.624, 159.126, 157.04, 158.566, 157.47, 157.412, 158.674, 158.026, 159.784, 158.594, 158.954, 159.2, 158.902, 156.714, 159.078, 158.544, 159.13, 159.142, 157.49, 158.856, 157.69, 157.556, 159.302, 157.972, 157.588, 158.14, 157.442, 160.152, 158.936, 158.026, 158.258, 158.708, 157.976, 158.05, 157.858, 157.67, 157.642, 157.654, 158.452, 156.672, 157.7, 158.7, 160.524, 158.726, 159.114, 157.782, 159.892, 159.09, 157.242, 158.496, 158.996, 157.814, 157.936, 158.37, 159.144, 159.176, 158.992, 158.364, 157.39, 157.378, 158.076, 158.748, 158.298, 158.368, 159.456, 158.462, 157.282, 158.066, 158.372, 158.194, 157.312, 157.876, 157.316, 157.764, 158.888, 159.598, 158.902, 159.29, 158.612, 158.446, 158.396, 159.956, 159.844, 157.702, 157.36, 159.118, 158.182, 157.316, 157.624, 156.8, 157.874, 159.358, 159.398, 157.236, 157.528, 159.12, 158.748, 158.3, 157.244, 157.56, 158.884, 158.908, 157.4, 159.146, 157.97, 158.008, 160.074, 158.288, 158.32, 157.996, 158.204, 159.362, 159.6, 156.448, 157.696, 158.512, 160.694, 157.5, 159.964, 158.052, 157.648, 158.498, 156.936, 158.9, 158.484, 158.68, 157.082, 158.002, 157.978, 158.202, 159.204, 159.722, 159.946, 158.65, 158.772, 159.238, 159.088, 157.674, 158.344, 158.098, 157.726, 157.61, 159.37, 160.03, 158.338, 159.416, 157.948, 157.75, 158.576, 158.482, 158.308, 159.69, 158.124, 157.872, 159.29, 159.42, 157.82, 157.362, 158.586, 158.758, 156.298, 158.966, 158.216, 159.524, 158.928, 157.816, 157.68, 159.716, 158.234, 159.51, 158.846, 156.328, 158.562, 159.288, 156.246, 158.708, 157.764, 159.018, 159.282, 158.756, 159.506, 157.922, 157.604, 159.016, 157.994, 160.34, 159.766, 157.768, 156.948, 158.262, 158.186, 157.972, 159.21, 157.502, 158.338, 156.962, 159.1, 158.134, 157.628, 159.306, 159.028, 159.236, 159.836, 157.268, 158.646, 158.706, 158.526, 159.556, 158.438, 158.836, 158.59, 158.606, 158.804, 158.786, 160.726, 158.004, 159.82, 158.056, 157.106, 161.28, 158.196, 159.234, 157.038, 157.244, 157.672, 157.402, 157.652, 158.546, 158.52, 158.39, 156.984, 159.126, 159.2, 158.078, 158.494, 159.472, 157.134, 158.342, 156.968, 159.452, 157.554, 157.238, 158.516, 159.298, 158.576, 158.016, 160.272, 158.922, 158.712, 157.94, 157.782, 158.566, 158.606, 160.0, 158.858, 158.424, 157.816, 158.706, 157.962, 158.078, 157.024, 158.708, 160.992, 157.734, 158.776, 158.096, 159.202, 157.174, 160.172, 158.458, 159.532, 158.21, 159.124, 158.174, 160.154, 158.806, 157.786, 158.146, 157.65, 157.064, 158.628, 157.216, 157.956, 158.48, 157.588, 158.414, 158.282, 158.858, 156.778, 156.026, 159.058, 156.904, 157.926, 158.564, 157.94, 157.748, 159.872, 158.862, 157.642, 158.274, 159.898, 159.448, 159.492, 158.978, 157.428, 157.412, 157.914, 158.292, 158.836, 157.884, 156.808, 156.674, 158.906, 159.298, 158.198, 158.884, 157.92, 158.836, 160.038, 157.636, 159.342, 157.774, 159.314, 159.06, 158.368, 159.442, 158.382, 158.93, 156.716, 159.416, 159.094, 158.224, 158.816, 159.01, 157.422, 157.228, 157.852, 159.104, 158.682, 157.822, 158.454, 158.086, 156.856, 157.9, 157.46, 159.008, 158.492, 156.684, 158.076, 157.458, 158.802, 158.492, 158.382, 158.488, 157.696, 157.838, 159.91, 158.234, 158.856, 158.566, 159.21, 157.904, 155.412, 159.474, 158.042, 158.482, 157.088, 158.342, 157.068, 158.672, 158.82, 158.118, 160.032, 159.64, 158.35, 158.988, 158.22, 157.58, 156.7, 159.164, 157.906, 157.706, 158.908, 158.428, 159.234, 158.83, 157.17, 159.148, 158.714, 161.266, 158.796, 157.618, 159.332, 158.418, 157.944, 158.528, 158.44, 158.396, 158.33, 158.61, 159.748, 157.278, 158.308, 157.638, 158.006, 159.394, 158.652, 157.844, 158.444, 158.438, 158.064, 158.68, 157.934, 158.324, 157.988, 157.772, 158.352, 157.978, 158.06, 158.96, 159.164, 160.156, 158.862, 157.792, 159.204, 158.246, 158.074, 158.022, 157.958, 160.738, 159.602, 158.77, 157.928, 159.046, 158.896, 157.706, 158.242, 158.11, 156.662, 158.47, 158.548, 159.986, 160.026, 157.31, 159.48, 159.266, 158.492, 158.808, 158.33, 157.95, 159.054, 158.054, 158.182, 158.802, 159.218, 157.914, 157.036, 156.824, 157.712, 157.076, 157.914, 157.876, 157.87, 158.856, 157.582, 157.678, 159.142, 158.994, 156.692, 158.984, 158.288, 159.138, 158.378, 158.856, 158.588, 159.494, 158.652, 157.056, 157.902, 157.512, 158.596, 158.926, 157.966, 157.03, 157.95, 158.236, 158.542, 159.446, 159.17, 159.374, 157.57, 158.206, 158.234, 157.98, 159.546, 159.042, 157.996, 157.996, 158.384, 158.028, 158.322, 158.614, 158.324, 158.928, 158.794, 158.35, 157.956, 158.76, 157.33, 157.756, 159.284, 158.888, 158.828, 158.076, 158.604, 158.01, 157.844, 156.854, 157.426, 158.596, 158.526, 157.846, 159.704, 159.976, 157.42, 158.586, 159.124, 158.04, 157.284, 158.386, 157.718, 159.72, 158.44, 158.86, 158.342, 160.174, 158.896, 158.896, 157.402, 158.768, 158.186, 158.404, 158.662, 157.376, 156.704, 157.956, 159.584, 158.37, 158.092, 159.832, 158.364, 156.954, 159.536, 157.88, 159.65, 158.43, 159.416, 157.418, 157.31, 159.29, 158.988, 157.692, 159.404, 158.736, 159.282, 159.432, 158.372, 157.8, 159.246, 159.178, 157.936, 160.734, 156.246, 158.598, 157.456, 157.892, 158.532, 158.668, 158.612, 160.362, 159.084, 157.128, 159.124, 158.042, 158.88, 158.204, 158.36, 157.792, 158.076, 156.944, 158.458, 158.678, 158.408, 158.246, 157.81, 158.324, 159.546, 158.904, 158.004, 158.0, 159.346, 157.542, 158.77, 159.314, 159.868, 158.412, 157.426, 159.326, 157.106, 158.334, 158.69, 158.184, 158.69, 158.602, 159.232, 158.714, 157.718, 159.12, 159.27, 158.592, 158.158, 157.39, 158.762, 157.764, 160.654, 159.956, 159.044, 158.662, 160.328, 157.772, 157.438, 159.238, 159.104, 158.822, 159.702, 159.186, 159.376, 158.824, 159.118, 157.928, 158.348, 158.022, 157.56, 156.648, 158.086, 157.38, 159.694, 158.346, 158.826, 158.534, 158.494, 158.312, 157.172, 156.848, 159.266, 158.884, 160.082, 158.368, 158.148, 157.016, 157.22, 158.16, 156.562, 159.566, 159.662, 160.128, 157.762, 157.528, 157.386, 159.05, 157.262, 158.166, 158.986, 158.192, 158.518, 157.69, 158.56, 159.2, 159.17, 158.026, 158.402, 159.852, 159.874, 159.094, 159.738, 158.878, 161.314, 158.248, 156.886, 158.288, 158.124, 159.394, 157.902, 156.908, 158.544, 158.054, 158.088, 158.25, 158.576, 159.502, 156.774, 157.956, 156.458, 158.178, 158.736, 157.766, 158.484, 159.512, 157.998, 158.802, 159.856, 159.158, 157.242, 159.31, 159.164, 158.942, 157.27, 159.278, 157.752, 158.756, 158.442, 159.098, 156.896, 158.006, 158.584, 158.586, 158.976, 157.838, 158.654, 159.85, 157.704, 157.646, 158.718, 160.412, 157.702, 158.032, 158.286, 158.31, 158.192, 158.83, 158.794, 157.384, 158.554, 159.55, 157.93, 158.304, 158.922, 160.356, 158.63, 158.29, 159.978, 157.314, 160.006, 159.75, 158.804, 158.352, 160.268, 157.88, 159.022, 160.072, 158.858, 158.628, 160.318, 159.494, 157.872, 158.696, 159.004, 159.234, 157.956, 157.858, 159.852, 159.634, 157.714, 157.802, 158.404, 159.356, 159.95, 158.69, 159.014, 157.464, 159.448, 158.422, 158.41, 158.55, 158.776, 157.172, 158.614, 157.866, 158.548, 158.344, 157.838, 158.622, 158.656, 160.148, 158.806, 160.2, 158.818, 158.476, 158.362, 160.442, 159.396, 158.988, 158.186, 158.876, 158.338, 157.838, 159.664, 156.132, 159.268, 157.698, 157.086, 159.932, 158.184, 158.5, 159.376, 159.59, 159.098, 157.768, 159.968, 158.644, 158.286, 158.286, 158.468, 157.45, 158.144, 159.484, 157.948, 157.69, 158.212, 158.57, 160.08, 158.042, 159.296, 158.45, 158.714, 158.738, 159.294, 158.818, 158.794, 157.91, 158.078, 157.608, 157.972, 159.538, 160.23, 159.39, 158.256, 158.314, 159.186, 157.378, 158.71, 157.228, 159.064, 159.036, 159.3, 157.828, 159.074, 160.084, 158.954, 158.478, 159.366, 158.756, 158.706, 159.606, 159.614, 158.272, 159.154, 158.666, 158.55, 157.868, 157.844, 159.5, 157.768, 157.572, 158.754, 157.216, 158.9, 157.616, 160.392, 158.244, 159.686, 159.212, 158.754, 159.634, 157.93, 159.156, 157.392, 159.27, 158.798, 158.886, 158.354, 159.436, 157.384, 157.508, 159.018, 157.438, 158.858, 157.914, 160.23, 158.598, 158.406, 157.056, 159.286, 158.834, 158.206, 156.712, 157.826, 158.866, 158.354, 159.75, 158.456, 157.654, 157.48, 158.932, 158.77, 158.514, 156.182, 158.206, 157.694, 158.574, 158.642, 159.312, 158.77, 159.486, 158.39, 157.894, 158.616, 157.842, 158.61, 158.288, 157.338, 158.16, 159.608, 157.5, 159.058, 159.22, 159.464, 158.896, 159.048, 157.996, 158.976, 160.188, 160.534, 156.708, 158.268, 158.482, 158.112, 159.53, 160.034, 158.078, 156.842, 159.042, 159.338, 156.962, 158.698, 158.564, 158.436, 156.616, 159.098, 159.666, 159.692, 157.936, 158.982, 158.314, 159.496, 159.328, 157.804, 158.532, 159.062, 159.82, 158.544, 157.936, 157.046, 158.656, 158.712, 156.082, 159.698, 156.064, 157.6, 158.258, 158.728, 159.106, 157.716, 158.102, 157.956, 159.652, 157.676, 156.496, 160.062, 159.174, 157.644, 158.862, 159.226, 160.34, 158.38, 157.742, 158.556, 158.064, 158.584, 157.75, 157.222, 158.85, 157.964, 159.868, 157.65, 159.37, 157.6, 157.458, 158.944, 159.334, 158.408, 157.962, 159.504, 158.604, 159.654, 158.146, 159.976, 157.812, 157.872, 157.824, 159.542, 158.804, 159.08, 158.95, 159.612, 158.59, 159.108, 158.858, 157.222, 158.556, 157.466, 157.834, 158.11, 159.61, 158.556, 157.738, 158.36, 159.374, 159.388, 158.016, 158.298, 157.266, 159.19, 158.124, 157.988, 157.83, 159.804, 158.726, 158.778, 159.72, 159.138, 158.526, 157.216, 158.62, 158.522, 157.774, 158.934, 157.316, 157.732, 159.402, 158.638, 160.178, 159.458, 158.324, 159.074, 159.106, 159.062, 159.302, 157.88, 157.75, 159.136, 158.588, 158.202, 157.67, 158.63, 158.244, 158.596, 158.394, 159.01, 158.27, 158.848, 157.73, 159.226, 159.664, 158.836, 157.802, 158.998, 158.612, 158.466, 158.532, 156.564, 159.076, 158.686, 157.888, 160.026, 158.714, 157.91, 157.302, 159.732, 157.398, 157.898, 159.206, 158.086, 159.482, 158.07, 158.406, 159.35, 159.108, 159.704, 159.33, 157.572, 158.528, 158.892, 158.784, 158.206, 157.434, 158.85, 159.492, 158.824, 157.282, 159.172, 159.334, 157.516, 159.224, 158.836, 158.866, 157.794, 157.88, 157.622, 158.418, 158.702, 158.016, 159.928, 158.938, 158.584, 157.448, 159.528, 158.228, 159.504, 157.648, 158.432, 159.116, 158.212, 159.536, 158.562, 158.59, 159.65, 158.674, 159.108, 158.99, 159.242, 156.786, 158.708, 157.228, 157.738, 158.6, 159.144, 158.616, 160.424, 157.088, 159.244, 159.568, 158.184, 158.804, 158.958, 158.73, 158.132, 158.524, 158.758, 157.846, 157.92, 157.822, 158.85, 158.45, 158.166, 159.014, 157.554, 157.592, 158.94, 158.96, 158.044, 157.322, 158.758, 159.73, 158.358, 159.212, 157.94, 159.184, 159.664, 159.688, 157.316, 157.642, 160.29, 157.66, 158.736, 157.258, 158.45, 158.048, 159.772, 158.916, 158.388, 156.83, 157.99, 159.57, 157.548, 158.164, 156.95, 157.64, 160.166, 158.616, 158.33, 157.924, 158.572, 158.528, 157.864, 158.148, 159.536, 157.662, 157.24, 157.916, 158.178, 157.758, 158.978, 158.738, 160.02, 158.658, 158.868, 158.51, 157.828, 158.43, 158.234, 156.642, 159.526, 159.052, 159.426, 157.842, 157.954, 158.712, 158.142, 159.998, 158.248, 157.896, 159.35, 157.372, 156.722, 159.22, 158.18, 157.888, 157.324, 156.77, 160.048, 157.594, 158.242, 158.332, 157.846, 158.406, 158.5, 159.622, 157.73, 158.158, 158.564, 157.91, 159.176, 158.784, 158.842, 157.496, 159.506, 157.988, 160.526, 157.614, 158.504, 157.982, 158.61, 158.814, 159.25, 158.948, 158.342, 159.25, 158.76, 158.752, 157.836, 157.812, 158.346, 157.386, 160.022, 158.99, 158.572, 158.404, 158.35, 157.556, 159.114, 158.916, 158.162, 158.318, 157.144, 158.646, 157.37, 157.28, 157.808, 159.342, 158.34, 159.816, 160.382, 156.84, 158.502, 157.834, 159.052, 158.2, 158.422, 159.964, 157.622, 156.804, 157.518, 158.4, 157.696, 156.748, 159.296, 158.55, 158.902, 161.098, 158.256, 157.502, 159.588, 159.044, 157.798, 158.254, 158.436, 158.56, 159.066, 159.316, 159.384, 158.094, 158.45, 157.51, 157.822, 158.264, 158.316, 157.924, 158.674, 158.398, 156.68, 158.438, 158.712, 158.956, 158.106, 158.44, 158.548, 158.852, 158.584, 158.54, 158.232, 157.356, 158.192, 157.36, 158.694, 157.35, 157.72, 159.788, 160.428, 157.946, 158.88, 157.484, 158.564, 158.904, 157.762, 157.95, 158.5, 157.196, 158.702, 157.294, 159.338, 159.046, 157.648, 159.192, 157.312, 159.838, 158.642, 158.762, 157.384, 159.78, 159.392, 157.02, 157.934, 158.988, 157.73, 159.188, 160.73, 156.958, 158.968, 157.596, 157.36, 158.69, 158.89, 159.01, 160.16, 159.938, 158.51, 159.02, 157.574, 159.634, 157.968, 159.64, 159.886, 159.512, 158.554, 158.154, 158.92, 157.162, 158.802, 157.756, 157.442, 158.19, 158.25, 158.9, 158.89, 159.164, 158.37, 157.824, 158.148, 159.296, 158.37, 159.03, 159.744, 158.106, 158.004, 157.762, 159.738, 158.956, 157.918, 158.888, 159.516, 157.83, 156.36, 157.454, 157.658, 157.77, 158.276, 159.052, 157.738, 156.474, 157.866, 157.62, 157.762, 158.902, 160.754, 157.786, 158.98, 157.024, 158.97, 157.616, 157.742, 158.608, 157.022, 158.736, 158.25, 158.73, 159.846, 158.23, 158.616, 158.988, 157.946, 158.998, 157.266, 158.97, 159.286, 157.88, 158.06, 158.16, 158.942, 157.794, 158.528, 158.242, 160.352, 159.734, 158.45, 158.598, 157.972, 158.472, 159.434, 158.358, 159.654, 158.668, 158.404, 158.262, 159.548, 157.512, 157.036, 158.676, 160.164, 158.518, 158.692, 156.236, 158.988, 158.166, 158.414, 160.12, 158.282, 157.854, 158.224, 158.708, 157.628, 159.036, 158.686, 159.218, 159.516, 159.022, 157.958, 158.714, 159.642, 159.034, 158.522, 160.454, 156.886, 156.904, 158.4, 158.668, 159.138, 157.988, 158.232, 157.792, 157.66, 157.276, 158.582, 158.028, 160.448, 159.956, 158.812, 158.648, 157.83, 159.036, 159.248, 158.09, 159.434, 158.69, 158.392, 157.76, 157.52, 158.894, 159.97, 158.51, 160.146, 158.814, 158.792, 158.16, 158.004, 157.638, 158.7, 157.634, 157.986, 158.346, 158.896, 158.72, 157.688, 160.006, 158.376, 158.108, 159.29, 158.814, 159.526, 157.334, 158.222, 160.076, 158.944, 158.686, 160.254, 158.71, 157.818, 158.174, 158.508, 160.468, 158.884, 160.394, 156.894, 158.898, 157.312, 158.73, 158.37, 156.902, 157.696, 158.036, 156.182, 157.884, 158.6, 158.206, 159.306, 155.9, 156.274, 160.466, 157.012, 159.296, 160.152, 157.86, 156.87, 157.768, 157.214, 157.986, 157.832, 159.342, 159.13, 157.976, 159.086, 158.38, 157.512, 158.978, 158.73, 159.31, 159.34, 157.902, 156.978, 158.978, 159.378, 159.448, 158.49, 157.698, 158.078, 156.906, 158.546, 159.232, 158.646, 158.416, 158.416, 159.78, 159.028, 158.232, 158.988, 158.67, 157.118, 158.89, 158.712, 157.916, 157.31, 157.812, 157.722, 158.43, 159.878, 158.238, 157.764, 159.452, 158.358, 158.42, 160.074, 158.946, 158.306, 159.252, 159.09, 159.906, 157.474, 157.516, 156.98, 158.506, 157.71, 159.138, 157.992, 157.396, 159.202, 159.396, 157.916, 156.93, 159.828, 159.072, 158.388, 159.69, 157.468, 159.558, 158.7, 157.852, 158.92, 158.608, 158.204, 157.208, 157.796, 159.36, 159.032, 160.032, 157.264, 158.266, 157.64, 159.65, 156.596, 159.49, 159.268, 157.32, 157.326, 158.498, 157.116, 158.116, 158.594, 159.028, 158.356, 158.428, 158.102, 158.174, 157.438, 157.282, 158.04, 158.758, 157.84, 158.87, 158.974, 158.758, 158.142, 159.446, 158.206, 159.324, 158.142, 158.138, 157.592, 158.08, 157.654, 159.892, 158.36, 160.252, 157.644, 158.602, 157.832, 158.472, 158.916, 158.388, 156.774, 157.696, 158.92, 159.524, 158.89, 159.784, 161.074, 158.148, 157.876, 158.876, 159.14, 159.432, 157.348, 159.664, 159.592, 158.208, 159.416, 159.482, 158.17, 157.758, 158.026, 158.014, 157.312, 158.194, 157.324, 159.512, 157.578, 159.274, 159.272, 158.282, 158.196, 158.154, 158.074, 157.57, 158.182, 157.86, 156.684, 159.868, 159.34, 157.912, 158.424, 159.644, 160.104, 158.194, 159.37, 157.944, 159.39, 158.566, 159.04, 159.384, 159.144, 158.714, 159.864, 157.47, 158.202, 158.614, 159.568, 158.872, 157.928, 159.138, 158.236, 157.338, 158.644, 157.776, 158.426, 157.342, 158.516, 158.274, 160.616, 159.318, 158.902, 158.676, 158.422, 159.22, 158.214, 157.844, 157.566, 157.748, 157.496, 159.328, 158.518, 157.982, 157.962, 157.988, 160.056, 159.456, 159.428, 157.596, 158.522, 159.284, 158.074, 158.192, 158.926, 158.376, 158.112, 158.772, 158.432, 158.858, 159.382, 159.894, 157.46, 157.556, 158.054, 159.552, 159.038, 156.84, 158.526, 157.976, 157.626, 158.064, 158.226, 157.918, 159.978, 158.466, 158.358, 157.02, 157.258, 159.396, 159.318, 158.782, 158.19, 158.718, 157.446, 156.498, 159.258, 157.892, 159.208, 159.086, 158.236, 158.416, 159.608, 157.908, 158.462, 157.502, 158.156, 158.286, 159.066, 158.028, 157.478, 158.818, 157.89, 159.954, 159.738, 157.398, 158.536, 159.182, 158.498, 156.82, 158.634, 159.094, 157.098, 158.758, 159.318, 158.258, 157.986, 159.318, 158.104, 158.436, 160.388, 158.314, 159.926, 158.75, 157.718, 157.918, 157.532, 158.434, 158.854, 159.99, 157.824, 158.876, 158.518, 159.042, 158.284, 157.602, 158.8, 157.948, 156.61, 159.396, 157.828, 157.964, 158.558, 159.612, 158.474, 158.302, 160.762, 157.732, 158.104, 157.688, 157.06, 159.384, 159.29, 158.666, 158.674, 160.65, 158.42, 158.934, 158.606, 158.91, 158.714, 157.806, 159.726, 158.406, 157.934, 160.012, 158.886, 160.032, 158.176, 158.396, 158.152, 158.376, 157.694, 159.298, 158.83, 158.71, 158.41, 158.106, 159.016]\n"
     ]
    }
   ],
   "source": [
    "medias = [np.mean(np.random.randint(126,192,500)) for _ in range(10000)] # o for será executado 10000 vezes com 500 posições em cada vetor\n",
    "# gerando a média dos 10mil vetores\n",
    "print(medias)"
   ]
  },
  {
   "cell_type": "code",
   "execution_count": 42,
   "id": "52d86301",
   "metadata": {},
   "outputs": [
    {
     "name": "stderr",
     "output_type": "stream",
     "text": [
      "C:\\Users\\Matheus\\anaconda3\\lib\\site-packages\\seaborn\\distributions.py:2619: FutureWarning: `distplot` is a deprecated function and will be removed in a future version. Please adapt your code to use either `displot` (a figure-level function with similar flexibility) or `histplot` (an axes-level function for histograms).\n",
      "  warnings.warn(msg, FutureWarning)\n"
     ]
    },
    {
     "data": {
      "text/plain": [
       "<AxesSubplot:ylabel='Density'>"
      ]
     },
     "execution_count": 42,
     "metadata": {},
     "output_type": "execute_result"
    },
    {
     "data": {
      "image/png": "[encoded data removed]",
      "text/plain": [
       "<Figure size 432x288 with 1 Axes>"
      ]
     },
     "metadata": {
      "needs_background": "light"
     },
     "output_type": "display_data"
    }
   ],
   "source": [
    "# gerando uma distribuição das médias\n",
    "# porem juntando as medias de todas as distribuições, teremos uma distribuição muito próximo da distribuição normal\n",
    "sns.distplot(medias)"
   ]
  },
  {
   "cell_type": "markdown",
   "id": "8defe277",
   "metadata": {},
   "source": [
    "### Distribuição Gama\n",
    "1. Valores assimétricos à direita\n",
    "2. Análise tempo de meia vida de produtos\n",
    "3. Modelagem de inadiplência \n",
    "4. Quantidade de chuva em reservatório\n",
    "5. Tempo de reação de motoristas ao passar da idade"
   ]
  },
  {
   "cell_type": "code",
   "execution_count": 43,
   "id": "663d20d8",
   "metadata": {},
   "outputs": [],
   "source": [
    "from scipy.stats import gamma"
   ]
  },
  {
   "cell_type": "code",
   "execution_count": 44,
   "id": "acf68b47",
   "metadata": {},
   "outputs": [],
   "source": [
    "dados_gama = gamma.rvs(a = 1, size = 1000)"
   ]
  },
  {
   "cell_type": "code",
   "execution_count": 46,
   "id": "54cd45f9",
   "metadata": {},
   "outputs": [
    {
     "name": "stderr",
     "output_type": "stream",
     "text": [
      "C:\\Users\\Matheus\\anaconda3\\lib\\site-packages\\seaborn\\distributions.py:2619: FutureWarning: `distplot` is a deprecated function and will be removed in a future version. Please adapt your code to use either `displot` (a figure-level function with similar flexibility) or `histplot` (an axes-level function for histograms).\n",
      "  warnings.warn(msg, FutureWarning)\n"
     ]
    },
    {
     "data": {
      "text/plain": [
       "<AxesSubplot:ylabel='Density'>"
      ]
     },
     "execution_count": 46,
     "metadata": {},
     "output_type": "execute_result"
    },
    {
     "data": {
      "image/png": "[encoded data removed]",
      "text/plain": [
       "<Figure size 432x288 with 1 Axes>"
      ]
     },
     "metadata": {
      "needs_background": "light"
     },
     "output_type": "display_data"
    }
   ],
   "source": [
    "sns.distplot(dados_gama) # concentração dos maiores valores para a esquerda\n",
    "# o valor de a especifica o ponto de decaimento"
   ]
  },
  {
   "cell_type": "code",
   "execution_count": 47,
   "id": "0547c4f3",
   "metadata": {},
   "outputs": [
    {
     "data": {
      "text/plain": [
       "(0.0022326409627214956, 8.43879407256679)"
      ]
     },
     "execution_count": 47,
     "metadata": {},
     "output_type": "execute_result"
    }
   ],
   "source": [
    "min(dados_gama), max(dados_gama)"
   ]
  },
  {
   "cell_type": "markdown",
   "id": "8aac6d53",
   "metadata": {},
   "source": [
    "### Distribuição Exponencial (um tipo de Gama)"
   ]
  },
  {
   "cell_type": "code",
   "execution_count": 48,
   "id": "392856d1",
   "metadata": {},
   "outputs": [],
   "source": [
    "from scipy.stats import expon"
   ]
  },
  {
   "cell_type": "code",
   "execution_count": 49,
   "id": "f8f1384b",
   "metadata": {},
   "outputs": [
    {
     "data": {
      "text/plain": [
       "array([6.24188974e-01, 1.27803506e+00, 8.74307105e-01, 5.36986813e-02,\n",
       "       1.11542913e+00, 1.22837130e+00, 1.23907999e+00, 4.82120635e-01,\n",
       "       2.48262435e-01, 1.27987099e+00, 1.88413096e+00, 1.79441514e-01,\n",
       "       8.60535233e-01, 2.27822778e+00, 2.80781468e+00, 1.10502211e-01,\n",
       "       8.33715846e-01, 8.82745105e-01, 5.07585751e-02, 1.99751941e-01,\n",
       "       2.81268878e+00, 1.14777245e-01, 2.16136819e+00, 2.56035768e-01,\n",
       "       2.60684870e+00, 9.28013973e-01, 1.89272182e+00, 3.21327894e-01,\n",
       "       5.32747179e-02, 3.88309508e-01, 1.64667957e-01, 2.46377110e+00,\n",
       "       1.38655507e+00, 6.97843715e-01, 2.75574351e+00, 8.75850194e-01,\n",
       "       5.41079429e-01, 1.29830464e-01, 1.10981029e+00, 3.90359742e-02,\n",
       "       7.80508368e-01, 7.35130494e-01, 2.80182817e-01, 2.41601143e+00,\n",
       "       4.00157761e-01, 1.00772897e+00, 2.01237188e+00, 1.94559275e+00,\n",
       "       1.58941480e+00, 4.41130476e-01, 2.04216328e-01, 2.32912899e-01,\n",
       "       6.67116428e-01, 7.41607023e-01, 4.23275868e+00, 9.62291638e-02,\n",
       "       2.48638430e-01, 9.76037930e-01, 8.76928231e-01, 1.45541867e+00,\n",
       "       8.45420457e-01, 5.55704085e-02, 2.87768650e-01, 2.38664178e-01,\n",
       "       3.51439697e-02, 8.02526882e-01, 6.63608055e-02, 4.70971106e-02,\n",
       "       1.70586291e-01, 6.40618386e-01, 2.16108841e+00, 5.37694504e-01,\n",
       "       6.54694728e-01, 3.38273233e-01, 2.29472791e-01, 1.71998309e-01,\n",
       "       4.38162972e-01, 9.12474639e-01, 1.26410436e+00, 1.33218233e+00,\n",
       "       4.71962265e-01, 2.43177647e-01, 6.08700144e-01, 1.35875763e+00,\n",
       "       2.51894307e+00, 7.45146681e-01, 8.40595735e-01, 2.44208245e-02,\n",
       "       1.33643298e+00, 5.09989717e-01, 1.17261369e+00, 2.04015632e-01,\n",
       "       1.92937961e+00, 5.80577026e-01, 1.45130312e+00, 3.40750028e-01,\n",
       "       3.77478897e-01, 3.16593719e+00, 6.81413946e-01, 2.78565594e-01,\n",
       "       9.50805463e-03, 9.78893997e-01, 4.71561292e-01, 3.85508067e-01,\n",
       "       2.13418384e-01, 1.94441258e-01, 2.31814923e-01, 2.30200310e-01,\n",
       "       1.78802328e+00, 9.18043395e-01, 2.06391020e+00, 1.42274532e+00,\n",
       "       4.87581528e-01, 3.73031417e-01, 5.06077427e-01, 5.02291109e+00,\n",
       "       4.91770661e+00, 6.36793787e-01, 1.47939985e+00, 2.77150148e-01,\n",
       "       1.17663349e+00, 8.62357868e-01, 3.30760339e-01, 2.45557615e-01,\n",
       "       5.09941980e-02, 8.83669842e-01, 4.86750619e-01, 4.05391896e-01,\n",
       "       1.65398694e+00, 1.75768838e-01, 1.85681998e-01, 1.09061729e+00,\n",
       "       9.19562448e-01, 1.55828085e+00, 2.63136376e+00, 2.12987660e+00,\n",
       "       1.83327974e-01, 9.61893751e-02, 2.03527174e-01, 7.30188238e-01,\n",
       "       1.35762668e+00, 5.37322963e-01, 1.17086482e+00, 4.86741373e-01,\n",
       "       1.30086670e+00, 4.24211921e-02, 2.00645862e-02, 7.10162198e-01,\n",
       "       1.25628381e+00, 1.87638734e+00, 3.43113817e-01, 3.91689706e-02,\n",
       "       6.16149352e-02, 7.67793150e-01, 2.62965076e-01, 1.27820857e-01,\n",
       "       1.11637961e-01, 7.07709409e-01, 7.89008757e-01, 3.93268754e-02,\n",
       "       5.13218519e-01, 8.05575102e-01, 5.17878856e-01, 1.12702308e+00,\n",
       "       1.79739152e-01, 3.38173913e-01, 7.10355083e-04, 5.59713124e-01,\n",
       "       1.68795776e+00, 2.02034952e+00, 8.53457008e-03, 1.26306321e-01,\n",
       "       1.91866414e+00, 1.23129571e+00, 4.47299970e-01, 6.21238894e-02,\n",
       "       2.71206390e-01, 6.41418558e-01, 1.91990129e+00, 9.38286440e-01,\n",
       "       3.91772364e-02, 5.80048699e-01, 1.70517385e+00, 4.99430849e-01,\n",
       "       1.06164529e+00, 9.99687290e-01, 4.87984465e-01, 1.99317213e+00,\n",
       "       2.81721285e+00, 6.01790234e-02, 1.20761686e+00, 2.26170572e-01,\n",
       "       6.87496447e-02, 4.16775313e+00, 1.48164129e+00, 9.04747721e-02,\n",
       "       1.36617666e+00, 6.92431941e-01, 5.69935289e-01, 9.72135296e-01,\n",
       "       1.12895371e+00, 4.96822484e-01, 4.71340905e-02, 1.77804069e+00,\n",
       "       4.26824554e-01, 7.82717471e-02, 8.67159479e-03, 8.90406646e-01,\n",
       "       2.50968464e+00, 5.82962781e-02, 2.21859302e+00, 2.56642009e+00,\n",
       "       6.60317666e-01, 1.64190607e+00, 1.20035015e+00, 1.10083407e-02,\n",
       "       9.00971241e-01, 4.60655755e-01, 3.31478243e-02, 7.89326157e-01,\n",
       "       1.66857612e+00, 1.08715688e-01, 4.82412338e-01, 9.26227300e-02,\n",
       "       9.50097245e-02, 3.15610834e+00, 4.47241826e-02, 3.72748765e+00,\n",
       "       2.11965678e-01, 1.91549048e+00, 7.91422257e-01, 1.50495854e+00,\n",
       "       1.49905378e+00, 1.26513269e+00, 4.61376135e-01, 2.58406443e+00,\n",
       "       6.01871184e-01, 1.01361788e-01, 6.99975179e-01, 7.86061051e-01,\n",
       "       1.99520143e+00, 4.15844533e+00, 4.40002220e+00, 1.56533807e+00,\n",
       "       1.28059709e+00, 6.66474624e-01, 8.30346533e-01, 1.87559435e-03,\n",
       "       4.38549463e-01, 3.67423708e-01, 2.16224710e-01, 2.66345136e-01,\n",
       "       2.88541085e-01, 1.41777340e-01, 1.77228486e-01, 8.47777437e-01,\n",
       "       2.11692193e+00, 3.03353843e-01, 2.47148110e+00, 7.19613930e-01,\n",
       "       6.08793648e-01, 3.10884195e-01, 1.63949164e-01, 1.04902845e-01,\n",
       "       9.96457772e-01, 1.39471411e-01, 4.05848045e-01, 1.38809280e+00,\n",
       "       9.02401786e-01, 1.41870367e+00, 1.61173742e+00, 2.21756523e-01,\n",
       "       2.50654083e+00, 3.60992400e-01, 5.03593707e-02, 3.90693473e-01,\n",
       "       3.52190932e-01, 4.52354044e-01, 4.00906035e-01, 9.76549227e-02,\n",
       "       5.05667234e-01, 2.37345165e-01, 5.19360188e-01, 1.17846225e+00,\n",
       "       7.33009920e-01, 9.73603377e-02, 3.38863443e+00, 1.89438611e+00,\n",
       "       1.40935150e-01, 5.37531078e-01, 2.69315908e+00, 4.01104224e-01,\n",
       "       3.18120174e+00, 1.39695795e+00, 1.50602328e+00, 7.03299721e-01,\n",
       "       1.68161904e-01, 1.61210846e-01, 1.96814874e+00, 9.47771082e-01,\n",
       "       1.70898361e+00, 9.62653058e-01, 5.27246989e-01, 2.78645586e-01,\n",
       "       1.88945966e+00, 4.52186480e-01, 9.33701088e-01, 1.23492092e+00,\n",
       "       5.57087930e-01, 3.48020138e-01, 2.08933526e-01, 2.45509632e+00,\n",
       "       7.88776141e-01, 1.71350799e-01, 4.10116675e-01, 8.67289735e-01,\n",
       "       5.96081605e+00, 2.46719854e-01, 3.16632877e+00, 2.78970945e+00,\n",
       "       9.98457386e-01, 1.58114819e-01, 2.87264133e+00, 1.36339043e+00,\n",
       "       7.52742575e-01, 1.82618998e+00, 4.79398199e-01, 3.93717795e-01,\n",
       "       5.68476938e+00, 3.34108254e-01, 2.87461256e-01, 8.83855583e-01,\n",
       "       8.24679943e-01, 3.49880792e-01, 4.19781069e-01, 8.51354185e-01,\n",
       "       2.27090490e+00, 1.79948856e+00, 2.23762376e-01, 7.56284100e-01,\n",
       "       9.73714587e-01, 2.05956853e+00, 1.46681118e+00, 1.08985719e+00,\n",
       "       9.55403027e-01, 5.82327409e-01, 7.44876772e-01, 4.74638533e-02,\n",
       "       2.44574069e+00, 1.74579575e+00, 8.02984949e-01, 3.72123617e-01,\n",
       "       4.54130322e+00, 5.62130297e-01, 3.84758777e-01, 4.61887611e-01,\n",
       "       1.94090027e+00, 2.39007566e+00, 4.94754588e-01, 2.43554347e-01,\n",
       "       2.52349316e-02, 4.13463489e-01, 2.17127675e+00, 6.13305349e-01,\n",
       "       1.37429946e+00, 1.71586431e+00, 1.90092688e-01, 1.61978138e+00,\n",
       "       4.59123729e-01, 1.78984663e+00, 3.36112657e+00, 2.45336742e+00,\n",
       "       5.46903635e-01, 3.30830747e+00, 2.23256532e-01, 8.23424998e-02,\n",
       "       1.66878025e-01, 6.82428688e-01, 1.70610515e+00, 2.38471833e-02,\n",
       "       5.06244684e-01, 2.10533383e-01, 1.31385028e-01, 1.70887404e-01,\n",
       "       1.13202131e+00, 5.09917687e-01, 1.01083087e-01, 1.07469594e+00,\n",
       "       7.37705508e-02, 4.02222296e-01, 1.66622239e+00, 1.50266455e+00,\n",
       "       9.80771985e-01, 1.12640104e-01, 3.87447165e-01, 4.02609303e+00,\n",
       "       7.77667493e-01, 1.67000504e+00, 2.71294530e-01, 2.88718808e+00,\n",
       "       4.04995841e-01, 1.32996039e+00, 1.44519513e+00, 9.74414498e-02,\n",
       "       1.53536611e+00, 3.22104601e-01, 8.06659010e-01, 1.47669088e-01,\n",
       "       3.24885125e-01, 1.47984834e-02, 5.28967560e-01, 2.19077006e+00,\n",
       "       2.57814865e+00, 4.48029592e-02, 1.88227083e-01, 2.15521355e+00,\n",
       "       1.78355421e+00, 3.19890776e-01, 3.09520236e+00, 3.28117289e-01,\n",
       "       6.93169548e-01, 5.68578562e-01, 2.76403175e+00, 1.97734148e-01,\n",
       "       3.67881180e-01, 2.77732622e-02, 5.51959189e-01, 3.50877489e-01,\n",
       "       4.52716742e-02, 9.65840386e-01, 9.44899118e-01, 9.30240159e-01,\n",
       "       4.28064191e+00, 1.70996597e+00, 1.12893461e+00, 2.23890440e+00,\n",
       "       6.98537200e-01, 7.88618775e-02, 2.05130554e+00, 1.43642773e+00,\n",
       "       1.67764398e+00, 1.51693327e+00, 3.77168182e-01, 3.72378614e-01,\n",
       "       1.24606900e+00, 1.97398223e+00, 1.14804901e+00, 3.21474824e-01,\n",
       "       1.87366085e+00, 7.33591208e-01, 1.04588074e-01, 2.70575775e+00,\n",
       "       4.14161380e+00, 6.75680227e-02, 1.92281648e+00, 6.88407661e-01,\n",
       "       1.26069652e+00, 1.33083315e-01, 3.99888890e-01, 2.16979040e+00,\n",
       "       2.43099564e-01, 4.01995606e-01, 7.34102611e-01, 1.01149531e+00,\n",
       "       2.35279807e-01, 8.79625807e-01, 1.42267906e-01, 1.00943838e+00,\n",
       "       1.20374518e-01, 1.28920676e-02, 1.53371272e-01, 2.77645628e-01,\n",
       "       5.87256824e-01, 2.30359834e+00, 1.15782176e-01, 3.93283912e-01,\n",
       "       1.13330867e+00, 1.24928068e+00, 4.21243113e-02, 8.66964773e-01,\n",
       "       4.82071285e-01, 3.31734322e+00, 1.51868536e+00, 1.21948630e+00,\n",
       "       2.80735808e-02, 3.17174464e-01, 8.66684262e-01, 1.81337029e+00,\n",
       "       8.65241116e-03, 1.44369169e+00, 2.19122407e+00, 3.91608673e-01,\n",
       "       4.98259672e-01, 6.38180020e-01, 1.18744519e-01, 1.07271370e+00,\n",
       "       1.35116091e+00, 9.33363935e-01, 2.43058591e-01, 8.01877224e-01,\n",
       "       6.38653541e-01, 1.01125103e+00, 6.26207126e-01, 5.56155464e-01,\n",
       "       1.37117119e+00, 3.45573818e-01, 5.91336800e-01, 1.58094441e+00,\n",
       "       8.74176143e-01, 8.14704121e-01, 5.17068541e-02, 4.71015686e-01,\n",
       "       4.72454449e-01, 2.62259919e-01, 2.24083643e-01, 3.16892285e-01,\n",
       "       1.52226143e-01, 5.47231469e+00, 2.62658295e+00, 1.29055484e+00,\n",
       "       3.15573167e-01, 4.04382346e+00, 7.67047593e-01, 2.79200839e+00,\n",
       "       1.42412770e+00, 4.14550272e+00, 6.12717714e-01, 4.39053394e-01,\n",
       "       4.70764875e-01, 6.75598397e-01, 6.34535076e-01, 1.53819779e+00,\n",
       "       3.15515340e-02, 5.41328348e-01, 4.91463395e-01, 5.58395512e-01,\n",
       "       3.47067203e-02, 8.27470571e-01, 2.91536238e-01, 7.11625392e-02,\n",
       "       9.12525977e-01, 3.80298960e-02, 1.57873540e+00, 1.72340136e+00,\n",
       "       5.20435928e-02, 1.47574988e+00, 1.58715040e+00, 8.41469100e-01,\n",
       "       1.11535244e+00, 1.73658281e-01, 2.72315360e-01, 4.33905964e-01,\n",
       "       1.05694315e-01, 1.96805793e-01, 4.00644277e-02, 1.90754303e+00,\n",
       "       5.16919095e-02, 1.48209411e+00, 1.49517769e-03, 7.32375513e-01,\n",
       "       1.98360814e+00, 1.00733212e+00, 6.96813504e-02, 7.86269696e-01,\n",
       "       2.11344024e-01, 8.81566239e-01, 5.23235803e-01, 1.07442268e+00,\n",
       "       3.84636505e-01, 2.00493234e-01, 7.45996216e-01, 4.51503868e-01,\n",
       "       1.58320293e+00, 9.34680216e-01, 7.47325897e-01, 9.02571288e-01,\n",
       "       8.00644944e-01, 5.81558969e-01, 9.45327447e-01, 5.66311820e-01,\n",
       "       4.99659511e-01, 3.11796529e+00, 2.61665455e+00, 5.60317397e-01,\n",
       "       1.36967247e-01, 6.44159211e-01, 1.64367183e-02, 4.37168634e+00,\n",
       "       5.95374506e-01, 1.88156892e+00, 4.51654053e-02, 4.99443790e-01,\n",
       "       1.09103550e-01, 2.07589472e-01, 2.90302387e-01, 7.31954715e-01,\n",
       "       6.31203237e-01, 3.36650839e-01, 1.73185082e+00, 1.33034631e+00,\n",
       "       5.18924569e-02, 1.96697339e+00, 1.87121234e-01, 9.54581089e-01,\n",
       "       8.28453808e-01, 1.71934228e+00, 6.13202461e-01, 2.60676156e-01,\n",
       "       4.95170984e-01, 4.01882901e-01, 2.22453825e+00, 9.71093854e-01,\n",
       "       7.40814461e-01, 2.61024480e-01, 1.02957025e-01, 1.35429924e-01,\n",
       "       1.52602612e+00, 1.11058574e+00, 1.12261904e-01, 8.62811420e-01,\n",
       "       6.92467433e-01, 3.87760438e-01, 4.02370258e-01, 5.74039774e-01,\n",
       "       5.84194026e-01, 1.37458092e+00, 1.01096419e+00, 8.63844172e-01,\n",
       "       8.82992654e-01, 1.46357317e-01, 1.61178484e-01, 2.26637565e+00,\n",
       "       8.08828940e-01, 1.43280879e+00, 2.64915500e+00, 1.19043077e+00,\n",
       "       3.94567648e+00, 1.67335254e+00, 9.94596108e-01, 8.70171442e-01,\n",
       "       6.04851110e-01, 1.64410020e+00, 1.28594311e+00, 5.10914169e-01,\n",
       "       1.17545782e+00, 7.16666889e-01, 1.37997398e+00, 1.07665978e+00,\n",
       "       9.25224161e-01, 6.71492236e-01, 1.47562233e+00, 4.04161640e-01,\n",
       "       2.79792406e+00, 5.63632257e-01, 2.23468917e-01, 5.37718127e-01,\n",
       "       1.60404988e+00, 7.04857825e-01, 6.56898957e-01, 3.86040068e-01,\n",
       "       1.04535325e+00, 9.02347446e-01, 9.26576964e-01, 4.48944231e+00,\n",
       "       4.71581028e-01, 5.35633050e-01, 5.89304123e-01, 1.77572556e+00,\n",
       "       8.95251021e-01, 2.46406070e-01, 5.27888510e-01, 1.17342432e+00,\n",
       "       2.11314755e-01, 3.59900814e+00, 1.40730407e+00, 3.88710898e+00,\n",
       "       5.09448148e-01, 1.21807715e+00, 1.65788444e-01, 1.22397532e-01,\n",
       "       4.64140867e-01, 1.35309130e-01, 4.82453337e-01, 2.47689354e+00,\n",
       "       8.47918189e-01, 8.24289346e-01, 9.02073884e-01, 6.29518920e-01,\n",
       "       3.31614717e-01, 2.05175510e+00, 1.76502735e+00, 7.35663548e-01,\n",
       "       6.87593519e-01, 1.41495555e+00, 1.23827091e+00, 1.25720442e+00,\n",
       "       2.43793685e-01, 3.69995969e-01, 2.44125948e-01, 6.93990580e-01,\n",
       "       2.25457561e-01, 4.57898163e-01, 1.56722527e+00, 1.47999706e-01,\n",
       "       1.29610154e+00, 4.01313746e+00, 1.12511454e+00, 1.40401225e+00,\n",
       "       9.68475005e-01, 5.81181492e+00, 1.67125883e-01, 1.89713626e+00,\n",
       "       3.22412446e-01, 1.00719861e+00, 1.22448501e+00, 2.62336573e+00,\n",
       "       1.55773730e+00, 1.17623577e+00, 8.31812721e-01, 1.29151164e+00,\n",
       "       8.79870778e-02, 2.48087072e-02, 1.56223193e+00, 2.08471870e-01,\n",
       "       1.71996224e+00, 1.69841464e+00, 1.47701236e+00, 2.41822150e-01,\n",
       "       1.76952701e-01, 4.08455584e-01, 8.80478954e-01, 3.39244773e-01,\n",
       "       2.48353232e+00, 1.61405039e-01, 3.27763454e-01, 2.31260323e+00,\n",
       "       5.39711608e-01, 5.48427331e-01, 1.96890528e-02, 8.31857827e-01,\n",
       "       2.14908224e-01, 7.45455883e-01, 5.03115523e-01, 8.84742258e-01,\n",
       "       2.03168251e+00, 5.40102018e-01, 5.77792422e-01, 4.93057806e-02,\n",
       "       1.75986222e-01, 2.22526022e+00, 4.66643263e-01, 2.66929386e-01,\n",
       "       9.40914808e-02, 8.68716496e-01, 1.15550573e+00, 1.27935754e+00,\n",
       "       8.03832650e-02, 1.23500419e+00, 6.74521778e-01, 1.12597048e+00,\n",
       "       1.06824280e+00, 3.41262136e-01, 8.35355478e-01, 1.27619314e+00,\n",
       "       2.94357834e+00, 2.07229362e-02, 3.49204697e-01, 4.68892205e+00,\n",
       "       5.87294050e-01, 6.38672963e-01, 6.72049094e-01, 8.27264530e-01,\n",
       "       1.98091979e+00, 2.85908565e+00, 2.22868392e+00, 8.04356907e-01,\n",
       "       4.22180683e-03, 9.81047464e-01, 9.53106108e-02, 1.55717348e+00,\n",
       "       6.90193017e-01, 4.44925592e-01, 6.60052415e-01, 5.03608800e-01,\n",
       "       1.34500936e+00, 5.91864031e-01, 4.16524034e-01, 9.16433450e-02,\n",
       "       1.17014556e+00, 1.44864858e+00, 3.45885342e-01, 7.91298457e-01,\n",
       "       1.12047124e-01, 1.37936645e+00, 5.87698015e-01, 5.60871078e-01,\n",
       "       3.17694828e-01, 1.20132659e+00, 1.47136233e+00, 2.25393838e+00,\n",
       "       1.20568554e+00, 1.40500299e-01, 3.21516961e+00, 1.56428049e-01,\n",
       "       4.79968487e-01, 1.29096640e-01, 3.42684567e-01, 8.87108368e-01,\n",
       "       1.81321210e+00, 8.89888027e-02, 1.17428543e+00, 2.69911861e+00,\n",
       "       1.34356625e+00, 3.74762232e-02, 1.16266106e+00, 5.71103537e-01,\n",
       "       4.20113657e-03, 1.18645447e+00, 3.39784189e-01, 1.00574599e+00,\n",
       "       2.71076005e-01, 1.05624982e+00, 1.42877005e-01, 1.41875798e+00,\n",
       "       2.82250534e-01, 1.43215940e+00, 6.76548396e-01, 7.28409634e-01,\n",
       "       6.14734968e-01, 1.70141950e+00, 1.18579114e+00, 3.66732667e-01,\n",
       "       1.22317509e+00, 1.39704812e+00, 3.19909041e-01, 1.92332265e+00,\n",
       "       1.02419583e-01, 5.40394196e-03, 1.78616414e+00, 1.29885007e-01,\n",
       "       1.97188747e-01, 2.00815078e+00, 7.23057915e-01, 1.21488301e+00,\n",
       "       7.76048287e-01, 2.53014061e+00, 5.37997952e-01, 6.15907797e-02,\n",
       "       1.95623632e+00, 1.19377095e+00, 3.79495067e+00, 1.44409275e+00,\n",
       "       2.19667964e+00, 1.10010933e+00, 1.07684846e+00, 1.79689224e+00,\n",
       "       1.26704832e+00, 1.77454756e-01, 1.33432376e+00, 9.52628134e-01,\n",
       "       8.97633218e-01, 1.36844183e-02, 4.97039737e-01, 1.69230974e+00,\n",
       "       2.95707765e-02, 4.66687985e+00, 3.56037681e+00, 1.20717609e+00,\n",
       "       3.32685813e-01, 6.34358033e-01, 5.04151237e+00, 7.16507715e-01,\n",
       "       3.62847523e-01, 8.91668658e-02, 1.29842065e+00, 2.03619385e-01,\n",
       "       5.36406931e-01, 6.94314155e-01, 7.52483209e-01, 1.86627597e+00,\n",
       "       1.05934611e+00, 4.61451575e-01, 1.70966211e+00, 1.62452534e+00,\n",
       "       3.21144956e-01, 9.97022464e-01, 3.28819632e-01, 1.41024449e-01,\n",
       "       6.59479768e-01, 4.60803791e-02, 3.82253254e-01, 6.31051435e-01,\n",
       "       1.01099344e+00, 2.19354134e+00, 3.69165050e-01, 2.04870324e+00,\n",
       "       1.37560991e+00, 5.63767368e-01, 4.34141911e-01, 4.93517703e-03,\n",
       "       1.60038865e+00, 7.55147369e-02, 2.03465265e+00, 7.41423607e-01,\n",
       "       1.93480673e+00, 1.12418510e+00, 9.35286881e-01, 1.35416060e+00,\n",
       "       2.81090640e-01, 2.06170252e-01, 1.62465203e-01, 4.97270485e-01,\n",
       "       2.48138380e-01, 4.26065940e-01, 5.43784902e-01, 4.04034627e+00,\n",
       "       2.32348121e+00, 8.95253121e-01, 1.10550950e+00, 3.00389915e+00,\n",
       "       4.15250831e-01, 7.62841879e-01, 2.00345153e-01, 2.10735615e+00,\n",
       "       4.50566435e-02, 2.47698857e+00, 9.62681270e-01, 1.21613357e+00,\n",
       "       4.34126363e-01, 1.32883098e-01, 1.02078451e+00, 1.44239008e+00,\n",
       "       1.24869522e+00, 1.36939097e-01, 1.89961977e+00, 3.81665196e-01,\n",
       "       2.34498718e+00, 4.73971556e-01, 9.34596586e-01, 7.69478813e-01,\n",
       "       9.85283313e-01, 7.63125368e-01, 6.76945545e-02, 2.79337909e-01,\n",
       "       2.98741441e+00, 9.16515293e-01, 5.63733523e-01, 9.95544338e-01,\n",
       "       1.47281700e-01, 4.04888803e-01, 1.08790358e+00, 8.33533346e-02,\n",
       "       2.84642800e+00, 1.28685034e+00, 3.56711691e-01, 1.70001940e+00,\n",
       "       2.33591097e+00, 2.47034356e-01, 3.32803198e+00, 1.99340390e+00,\n",
       "       1.73901266e+00, 2.32004410e+00, 3.56845671e-01, 4.54463860e+00,\n",
       "       2.98250082e-01, 1.49681852e+00, 1.79509282e-01, 9.90359270e-01,\n",
       "       6.50311876e-01, 5.46379583e-01, 2.92157665e-01, 5.42755547e-01,\n",
       "       1.88584236e-01, 3.39917065e-01, 1.15170996e-01, 4.08542178e+00,\n",
       "       1.12453357e+00, 6.61221468e-01, 1.76786714e-01, 1.18505260e+00,\n",
       "       5.68416591e-01, 6.27343048e-01, 5.60728389e-02, 2.01447443e-01,\n",
       "       1.27307827e+00, 1.16012908e-01, 2.20189453e+00, 4.12910583e-02,\n",
       "       3.89266757e+00, 4.71563624e+00, 2.43983808e+00, 4.68882116e-01,\n",
       "       6.87352849e-02, 4.52238013e-01, 1.59118478e-02, 2.93726978e+00,\n",
       "       1.96589276e+00, 1.05673371e+00, 1.96614584e+00, 1.41610489e+00])"
      ]
     },
     "execution_count": 49,
     "metadata": {},
     "output_type": "execute_result"
    }
   ],
   "source": [
    "dados_expo = expon.rvs(size = 1000)\n",
    "dados_expo"
   ]
  },
  {
   "cell_type": "code",
   "execution_count": 50,
   "id": "acbdd028",
   "metadata": {},
   "outputs": [
    {
     "name": "stderr",
     "output_type": "stream",
     "text": [
      "C:\\Users\\Matheus\\anaconda3\\lib\\site-packages\\seaborn\\distributions.py:2619: FutureWarning: `distplot` is a deprecated function and will be removed in a future version. Please adapt your code to use either `displot` (a figure-level function with similar flexibility) or `histplot` (an axes-level function for histograms).\n",
      "  warnings.warn(msg, FutureWarning)\n"
     ]
    },
    {
     "data": {
      "image/png": "[encoded data removed]",
      "text/plain": [
       "<Figure size 432x288 with 1 Axes>"
      ]
     },
     "metadata": {
      "needs_background": "light"
     },
     "output_type": "display_data"
    }
   ],
   "source": [
    "sns.distplot(dados_expo);"
   ]
  },
  {
   "cell_type": "code",
   "execution_count": 51,
   "id": "045549e1",
   "metadata": {},
   "outputs": [
    {
     "data": {
      "text/plain": [
       "(0.0007103550825688544, 5.960816045059867)"
      ]
     },
     "execution_count": 51,
     "metadata": {},
     "output_type": "execute_result"
    }
   ],
   "source": [
    "min(dados_expo), max(dados_expo)"
   ]
  },
  {
   "cell_type": "markdown",
   "id": "07bcb7c2",
   "metadata": {},
   "source": [
    "### Distribuição Uniforme\n",
    "1. Os números da distribuiçaõ possuem a **mesma probabilidade**\n",
    "2. Geração de números aleatórios em linguagem de programação"
   ]
  },
  {
   "cell_type": "code",
   "execution_count": 52,
   "id": "1f3dd88d",
   "metadata": {},
   "outputs": [],
   "source": [
    "from scipy.stats import uniform"
   ]
  },
  {
   "cell_type": "code",
   "execution_count": 53,
   "id": "6d9a87a3",
   "metadata": {},
   "outputs": [],
   "source": [
    "dados_uniforme = uniform.rvs(size = 1000)"
   ]
  },
  {
   "cell_type": "code",
   "execution_count": 59,
   "id": "ab098f77",
   "metadata": {},
   "outputs": [
    {
     "name": "stderr",
     "output_type": "stream",
     "text": [
      "C:\\Users\\Matheus\\anaconda3\\lib\\site-packages\\seaborn\\distributions.py:2619: FutureWarning: `distplot` is a deprecated function and will be removed in a future version. Please adapt your code to use either `displot` (a figure-level function with similar flexibility) or `histplot` (an axes-level function for histograms).\n",
      "  warnings.warn(msg, FutureWarning)\n"
     ]
    },
    {
     "data": {
      "image/png": "[encoded data removed]",
      "text/plain": [
       "<Figure size 432x288 with 1 Axes>"
      ]
     },
     "metadata": {
      "needs_background": "light"
     },
     "output_type": "display_data"
    }
   ],
   "source": [
    "sns.distplot(dados_uniforme);"
   ]
  },
  {
   "cell_type": "code",
   "execution_count": 55,
   "id": "e43bd506",
   "metadata": {},
   "outputs": [
    {
     "data": {
      "text/plain": [
       "(0.001032189821829732, 0.9982045508704726)"
      ]
     },
     "execution_count": 55,
     "metadata": {},
     "output_type": "execute_result"
    }
   ],
   "source": [
    "min(dados_uniforme), max(dados_uniforme)"
   ]
  },
  {
   "cell_type": "code",
   "execution_count": 56,
   "id": "8e24b6b7",
   "metadata": {},
   "outputs": [
    {
     "data": {
      "text/plain": [
       "(array([0.00103219, 0.00103431, 0.00332081, 0.00334474, 0.00584131,\n",
       "        0.00803159, 0.0084186 , 0.00928281, 0.00939078, 0.0095546 ,\n",
       "        0.01006478, 0.01067406, 0.01233295, 0.0141442 , 0.01425688,\n",
       "        0.01471553, 0.0150842 , 0.01735876, 0.01786605, 0.01791173,\n",
       "        0.01943442, 0.01974203, 0.02133038, 0.02171171, 0.02203852,\n",
       "        0.02213442, 0.02320289, 0.02650123, 0.02733359, 0.02776383,\n",
       "        0.02893624, 0.03035752, 0.03049388, 0.03334874, 0.03340207,\n",
       "        0.03350301, 0.03516655, 0.03540539, 0.03701325, 0.03765278,\n",
       "        0.03815204, 0.03816578, 0.03958033, 0.03990585, 0.04016848,\n",
       "        0.04046466, 0.04060785, 0.04062695, 0.04168729, 0.04414208,\n",
       "        0.04463186, 0.04515442, 0.04615687, 0.04673898, 0.04904098,\n",
       "        0.05171953, 0.05191455, 0.05296001, 0.05588705, 0.05645351,\n",
       "        0.05681212, 0.058596  , 0.05894987, 0.05918718, 0.05925964,\n",
       "        0.06088506, 0.0627055 , 0.06318586, 0.06521571, 0.06657012,\n",
       "        0.06898305, 0.06970389, 0.07139305, 0.07150177, 0.07240826,\n",
       "        0.07291395, 0.07302236, 0.07318723, 0.07423731, 0.07493541,\n",
       "        0.0753024 , 0.07694753, 0.07896269, 0.07908256, 0.08021941,\n",
       "        0.0804647 , 0.08115831, 0.08179023, 0.08451273, 0.08647222,\n",
       "        0.08876774, 0.08922412, 0.09172954, 0.09204872, 0.09259559,\n",
       "        0.09312284, 0.0941398 , 0.09645654, 0.09697131, 0.09705574,\n",
       "        0.09739914, 0.09880095, 0.09971302, 0.09997624, 0.10001996,\n",
       "        0.10105461, 0.10205964, 0.10419275, 0.10591037, 0.10694168,\n",
       "        0.10707425, 0.10928484, 0.11103438, 0.11239144, 0.11307696,\n",
       "        0.11373601, 0.11428877, 0.11454335, 0.11488735, 0.11524507,\n",
       "        0.11620952, 0.11628139, 0.11901254, 0.11953773, 0.12002591,\n",
       "        0.12076362, 0.12077371, 0.12284788, 0.12309769, 0.12390111,\n",
       "        0.1247219 , 0.12493502, 0.12569108, 0.12665633, 0.12748044,\n",
       "        0.12752095, 0.12843299, 0.12923503, 0.12978033, 0.1320419 ,\n",
       "        0.13293573, 0.13399088, 0.13571632, 0.1369819 , 0.13852091,\n",
       "        0.13862458, 0.1387197 , 0.14014309, 0.14280299, 0.14381644,\n",
       "        0.14406376, 0.14424733, 0.14786317, 0.1479107 , 0.14961252,\n",
       "        0.1506363 , 0.15141974, 0.15197298, 0.15398037, 0.15500165,\n",
       "        0.15541348, 0.15588837, 0.15597861, 0.1569514 , 0.15817143,\n",
       "        0.15827897, 0.1602942 , 0.16066141, 0.16090134, 0.16102675,\n",
       "        0.16102809, 0.16105161, 0.16122677, 0.16272965, 0.163078  ,\n",
       "        0.16361807, 0.16492132, 0.1649724 , 0.16841163, 0.16872037,\n",
       "        0.16968625, 0.17107974, 0.17179215, 0.171946  , 0.17211032,\n",
       "        0.17234818, 0.17285855, 0.17547118, 0.17580156, 0.17686191,\n",
       "        0.18012403, 0.18061035, 0.1806533 , 0.1810211 , 0.18164684,\n",
       "        0.18197903, 0.18214837, 0.1822624 , 0.18267748, 0.18276128,\n",
       "        0.18326835, 0.18342006, 0.18359265, 0.18422718, 0.18582452,\n",
       "        0.1868275 , 0.18824706, 0.18872169, 0.19053877, 0.19170648,\n",
       "        0.19230804, 0.19250486, 0.19317386, 0.19391998, 0.19393201,\n",
       "        0.19684703, 0.19695247, 0.19806944, 0.19917996, 0.20037701,\n",
       "        0.20062591, 0.20286536, 0.20419357, 0.20419953, 0.20459859,\n",
       "        0.2049144 , 0.20491627, 0.20496141, 0.20507188, 0.20623605,\n",
       "        0.20635823, 0.20772573, 0.20966678, 0.20980196, 0.21009389,\n",
       "        0.21060194, 0.21128249, 0.21182792, 0.21249557, 0.21282383,\n",
       "        0.21343315, 0.21349107, 0.21574268, 0.21653903, 0.21763176,\n",
       "        0.22074444, 0.22278857, 0.22321564, 0.22396985, 0.22610543,\n",
       "        0.22645705, 0.22676891, 0.22691679, 0.22728443, 0.22729305,\n",
       "        0.22807844, 0.22827255, 0.22911766, 0.22947653, 0.22957644,\n",
       "        0.22975145, 0.23126322, 0.23158729, 0.23350615, 0.23500888,\n",
       "        0.23511438, 0.23572363, 0.23810363, 0.23865706, 0.24034962,\n",
       "        0.24062304, 0.24079127, 0.24119432, 0.24204711, 0.24611298,\n",
       "        0.24633435, 0.24831459, 0.25010353, 0.25016479, 0.25126571,\n",
       "        0.25145491, 0.25252805, 0.25407298, 0.25435853, 0.25642602,\n",
       "        0.25737409, 0.25817956, 0.25855382, 0.25970736, 0.26044194,\n",
       "        0.26098628, 0.26163562, 0.26282058, 0.26289667, 0.26312546,\n",
       "        0.26322256, 0.26381552, 0.26456736, 0.2646327 , 0.26817593,\n",
       "        0.27039686, 0.27054072, 0.27444577, 0.27521282, 0.27575632,\n",
       "        0.27596642, 0.27622696, 0.27792308, 0.28095565, 0.28109405,\n",
       "        0.28164329, 0.28223504, 0.2834506 , 0.28668335, 0.28752413,\n",
       "        0.28807741, 0.28812775, 0.288318  , 0.28869875, 0.29007714,\n",
       "        0.29019774, 0.29145847, 0.29278924, 0.29389068, 0.29457902,\n",
       "        0.29494968, 0.29588286, 0.29670778, 0.29755433, 0.29769719,\n",
       "        0.29803247, 0.30350366, 0.30440938, 0.30536861, 0.30754878,\n",
       "        0.30909092, 0.31080354, 0.31100426, 0.31220883, 0.31342314,\n",
       "        0.31342741, 0.31450017, 0.31461466, 0.31574672, 0.31576657,\n",
       "        0.31606141, 0.31630273, 0.31667916, 0.31686568, 0.31869172,\n",
       "        0.31926075, 0.31967915, 0.32114411, 0.32229982, 0.32481958,\n",
       "        0.32545835, 0.32691033, 0.32756326, 0.32917353, 0.33050701,\n",
       "        0.3310534 , 0.332139  , 0.33249065, 0.33535529, 0.33644737,\n",
       "        0.33658406, 0.33866122, 0.33957474, 0.34190228, 0.3448839 ,\n",
       "        0.34547375, 0.34580532, 0.34607137, 0.34703662, 0.3494475 ,\n",
       "        0.35373884, 0.35458473, 0.35543882, 0.35558479, 0.35574291,\n",
       "        0.35762765, 0.35788257, 0.35791598, 0.3590612 , 0.36075873,\n",
       "        0.36119209, 0.36346089, 0.3647916 , 0.36596854, 0.36683615,\n",
       "        0.36729514, 0.3673775 , 0.36762006, 0.36770614, 0.36803763,\n",
       "        0.36861228, 0.37125521, 0.37135704, 0.37139212, 0.37176681,\n",
       "        0.37319662, 0.37355207, 0.37412674, 0.37492795, 0.37591861,\n",
       "        0.37613894, 0.37624001, 0.37812668, 0.37864797, 0.37903262,\n",
       "        0.37997646, 0.38017875, 0.38110997, 0.38150746, 0.38237499,\n",
       "        0.38369302, 0.39023879, 0.39163813, 0.39426635, 0.39449183,\n",
       "        0.39496385, 0.39518859, 0.39541555, 0.39662517, 0.39670134,\n",
       "        0.39771467, 0.39821871, 0.39873462, 0.39922888, 0.39974651,\n",
       "        0.40023847, 0.40206578, 0.40256901, 0.40279023, 0.40305225,\n",
       "        0.40424082, 0.4079158 , 0.40855714, 0.41098565, 0.41135869,\n",
       "        0.41209364, 0.41386783, 0.41506492, 0.41581833, 0.41612546,\n",
       "        0.4168995 , 0.4186676 , 0.41977399, 0.42246467, 0.42331333,\n",
       "        0.42600404, 0.42608668, 0.4269484 , 0.42795407, 0.42813676,\n",
       "        0.42953051, 0.433617  , 0.43382113, 0.43651864, 0.43854088,\n",
       "        0.44005595, 0.44183516, 0.44190975, 0.44250059, 0.44524147,\n",
       "        0.44580176, 0.44590416, 0.44597965, 0.44621956, 0.44636329,\n",
       "        0.44703464, 0.44768857, 0.44786793, 0.44886715, 0.45335261,\n",
       "        0.453371  , 0.45542734, 0.45585038, 0.45904843, 0.45972148,\n",
       "        0.46114412, 0.46164465, 0.46219143, 0.46355698, 0.46496672,\n",
       "        0.46511232, 0.46525054, 0.46629892, 0.46852601, 0.46881055,\n",
       "        0.46919965, 0.47040344, 0.47434333, 0.4769969 , 0.47732134,\n",
       "        0.47741872, 0.47839687, 0.47962898, 0.48042786, 0.48111172,\n",
       "        0.48171591, 0.48258003, 0.48301499, 0.4852152 , 0.48544718,\n",
       "        0.48712713, 0.4873206 , 0.48842849, 0.48935598, 0.49387087,\n",
       "        0.49503298, 0.49576099, 0.49723128, 0.49760523, 0.49781732,\n",
       "        0.49872211, 0.4989965 , 0.49974522, 0.49990595, 0.50219606,\n",
       "        0.50291949, 0.50369621, 0.50423111, 0.50568158, 0.50670912,\n",
       "        0.5068818 , 0.509869  , 0.51046712, 0.51173537, 0.5118886 ,\n",
       "        0.5129503 , 0.51341144, 0.51572954, 0.5158765 , 0.51765444,\n",
       "        0.51918891, 0.51951532, 0.51963932, 0.52004989, 0.52101884,\n",
       "        0.52226519, 0.52252869, 0.52783904, 0.53223124, 0.53246987,\n",
       "        0.53421267, 0.53683637, 0.5370288 , 0.54014045, 0.54014979,\n",
       "        0.54093224, 0.54142689, 0.54363323, 0.54491322, 0.54504181,\n",
       "        0.54563371, 0.54687863, 0.54824185, 0.54873065, 0.54893372,\n",
       "        0.55032255, 0.55139208, 0.5514123 , 0.55158778, 0.55177408,\n",
       "        0.55190496, 0.55200605, 0.55323493, 0.55372653, 0.55442807,\n",
       "        0.55510176, 0.55547108, 0.5555017 , 0.55611185, 0.55676923,\n",
       "        0.55850114, 0.56202244, 0.56237807, 0.56421729, 0.56459418,\n",
       "        0.56628677, 0.56751254, 0.56822618, 0.56892194, 0.56916266,\n",
       "        0.56941794, 0.5698475 , 0.57037726, 0.57097358, 0.5719438 ,\n",
       "        0.57220942, 0.57554542, 0.57661894, 0.57746425, 0.57968623,\n",
       "        0.57969002, 0.58076057, 0.58159739, 0.582142  , 0.58331812,\n",
       "        0.58442853, 0.58443801, 0.58561475, 0.58674839, 0.58682162,\n",
       "        0.58704022, 0.58997175, 0.59000965, 0.59265416, 0.59295519,\n",
       "        0.59522366, 0.59554035, 0.59595945, 0.59740241, 0.59846903,\n",
       "        0.59907602, 0.59959114, 0.59966835, 0.60122963, 0.6013428 ,\n",
       "        0.60190392, 0.60236744, 0.60275348, 0.60322279, 0.60323959,\n",
       "        0.60363398, 0.60423348, 0.60597616, 0.60708453, 0.60748165,\n",
       "        0.60794747, 0.60904877, 0.60955869, 0.60971935, 0.61130923,\n",
       "        0.61182193, 0.61238353, 0.61310591, 0.61416259, 0.61544169,\n",
       "        0.61638693, 0.61655   , 0.61766088, 0.61843043, 0.61919794,\n",
       "        0.6292927 , 0.63133742, 0.63163826, 0.63174646, 0.63184078,\n",
       "        0.63238448, 0.63291032, 0.63294968, 0.63355344, 0.63376932,\n",
       "        0.63635486, 0.6368472 , 0.63696047, 0.63734576, 0.63819399,\n",
       "        0.63844275, 0.63944223, 0.6398947 , 0.64124676, 0.64166477,\n",
       "        0.64555821, 0.64697462, 0.64731119, 0.64789639, 0.6481533 ,\n",
       "        0.64855051, 0.64905423, 0.64925669, 0.64984504, 0.65032552,\n",
       "        0.65436098, 0.65572072, 0.6565557 , 0.65812911, 0.65892356,\n",
       "        0.6589632 , 0.65905011, 0.66032553, 0.66067089, 0.66087496,\n",
       "        0.66115213, 0.66144034, 0.66187325, 0.66746552, 0.66750087,\n",
       "        0.66767509, 0.67068129, 0.67081653, 0.67289475, 0.67313554,\n",
       "        0.67333051, 0.67509541, 0.67682979, 0.67785002, 0.68252349,\n",
       "        0.68253527, 0.68258098, 0.68267618, 0.68597491, 0.68682222,\n",
       "        0.68919792, 0.6893473 , 0.68956179, 0.68959595, 0.69092015,\n",
       "        0.69187908, 0.69309716, 0.6931216 , 0.6936161 , 0.6956802 ,\n",
       "        0.69645593, 0.69730841, 0.69734009, 0.70014026, 0.70198445,\n",
       "        0.7021424 , 0.70268471, 0.70432819, 0.70434329, 0.70536954,\n",
       "        0.70560626, 0.70673459, 0.7068007 , 0.70695216, 0.7103024 ,\n",
       "        0.71106344, 0.71382923, 0.71383075, 0.71395556, 0.71552678,\n",
       "        0.71586635, 0.71679339, 0.71703945, 0.71813636, 0.71842938,\n",
       "        0.71892746, 0.72045563, 0.72047839, 0.72097526, 0.72234106,\n",
       "        0.7223419 , 0.72327231, 0.72412195, 0.72415154, 0.72653488,\n",
       "        0.72726419, 0.72732547, 0.72967962, 0.73054841, 0.73059524,\n",
       "        0.73107104, 0.7311311 , 0.73115381, 0.73147821, 0.73180083,\n",
       "        0.73194302, 0.73294927, 0.73328103, 0.73475959, 0.73976409,\n",
       "        0.74276438, 0.74318064, 0.74344024, 0.74415504, 0.74450982,\n",
       "        0.74599666, 0.74725939, 0.74737172, 0.7500316 , 0.75059745,\n",
       "        0.75100206, 0.7511043 , 0.75113919, 0.75386325, 0.75499596,\n",
       "        0.75511064, 0.75640097, 0.75684958, 0.75889468, 0.75898128,\n",
       "        0.7607471 , 0.76086065, 0.76094237, 0.76166708, 0.76344564,\n",
       "        0.76615082, 0.76879695, 0.769391  , 0.76944552, 0.77006055,\n",
       "        0.77015353, 0.77048834, 0.77067791, 0.77259662, 0.77391119,\n",
       "        0.77417836, 0.77556989, 0.77603636, 0.7785963 , 0.77956141,\n",
       "        0.78155737, 0.78214705, 0.78467035, 0.78469752, 0.78470607,\n",
       "        0.788245  , 0.78841981, 0.79219752, 0.79523009, 0.79593168,\n",
       "        0.79930733, 0.80118544, 0.80283117, 0.80341578, 0.80349946,\n",
       "        0.80388801, 0.80451325, 0.80509195, 0.80608478, 0.80705104,\n",
       "        0.80825368, 0.80884023, 0.80916422, 0.81006418, 0.81090401,\n",
       "        0.81264884, 0.81347162, 0.8145896 , 0.81571888, 0.81674293,\n",
       "        0.81690896, 0.81728811, 0.81832384, 0.81935487, 0.81968953,\n",
       "        0.82166452, 0.82344822, 0.8238141 , 0.8245984 , 0.82470667,\n",
       "        0.82486807, 0.82519307, 0.82691397, 0.8283609 , 0.82869473,\n",
       "        0.83009119, 0.83118291, 0.83214174, 0.83433731, 0.83504653,\n",
       "        0.83555133, 0.83736851, 0.83756082, 0.83778695, 0.83852068,\n",
       "        0.84087332, 0.84387827, 0.8466473 , 0.84805818, 0.84843725,\n",
       "        0.84849757, 0.84983307, 0.8505516 , 0.8505789 , 0.85116322,\n",
       "        0.851208  , 0.8513963 , 0.85192288, 0.85378205, 0.85699243,\n",
       "        0.85790441, 0.8584939 , 0.85909322, 0.85964601, 0.86235582,\n",
       "        0.86403152, 0.86500059, 0.86847236, 0.87061151, 0.87078421,\n",
       "        0.87347483, 0.87630546, 0.87632331, 0.87650128, 0.87787867,\n",
       "        0.87917233, 0.87986431, 0.88004364, 0.88109626, 0.88120729,\n",
       "        0.88151935, 0.88173058, 0.88197424, 0.88256492, 0.88443443,\n",
       "        0.88611177, 0.88639143, 0.88815102, 0.88848102, 0.88913487,\n",
       "        0.88990054, 0.89131997, 0.89191044, 0.89388174, 0.8957558 ,\n",
       "        0.89731786, 0.89740769, 0.89863153, 0.89901267, 0.89996605,\n",
       "        0.90100799, 0.90220617, 0.90304588, 0.90338129, 0.90456412,\n",
       "        0.90533917, 0.90779966, 0.90811341, 0.90876719, 0.91012169,\n",
       "        0.91195982, 0.91231378, 0.91327499, 0.91352212, 0.91624015,\n",
       "        0.91977596, 0.92021473, 0.92083354, 0.92088153, 0.92288944,\n",
       "        0.92434859, 0.92488665, 0.9268173 , 0.93067066, 0.93287546,\n",
       "        0.93504197, 0.93533495, 0.93819585, 0.94080171, 0.94168964,\n",
       "        0.94339897, 0.9434588 , 0.94376453, 0.94811107, 0.95149782,\n",
       "        0.95206343, 0.95214501, 0.95284512, 0.95287878, 0.95288005,\n",
       "        0.95324349, 0.95348099, 0.95689165, 0.95776078, 0.95858969,\n",
       "        0.96014263, 0.96077224, 0.9609674 , 0.96161142, 0.96218246,\n",
       "        0.96275624, 0.96340981, 0.96471568, 0.96709047, 0.96757438,\n",
       "        0.96868468, 0.96940086, 0.96989818, 0.97195433, 0.97457744,\n",
       "        0.97649366, 0.97659453, 0.97662473, 0.97693137, 0.97698863,\n",
       "        0.97770321, 0.9794135 , 0.97952057, 0.98306842, 0.98328085,\n",
       "        0.98336101, 0.98515116, 0.98649117, 0.98685658, 0.98813899,\n",
       "        0.99046038, 0.99071326, 0.99073292, 0.99366984, 0.99447914,\n",
       "        0.99557103, 0.99608038, 0.9964057 , 0.99661786, 0.99820455]),\n",
       " array([1, 1, 1, 1, 1, 1, 1, 1, 1, 1, 1, 1, 1, 1, 1, 1, 1, 1, 1, 1, 1, 1,\n",
       "        1, 1, 1, 1, 1, 1, 1, 1, 1, 1, 1, 1, 1, 1, 1, 1, 1, 1, 1, 1, 1, 1,\n",
       "        1, 1, 1, 1, 1, 1, 1, 1, 1, 1, 1, 1, 1, 1, 1, 1, 1, 1, 1, 1, 1, 1,\n",
       "        1, 1, 1, 1, 1, 1, 1, 1, 1, 1, 1, 1, 1, 1, 1, 1, 1, 1, 1, 1, 1, 1,\n",
       "        1, 1, 1, 1, 1, 1, 1, 1, 1, 1, 1, 1, 1, 1, 1, 1, 1, 1, 1, 1, 1, 1,\n",
       "        1, 1, 1, 1, 1, 1, 1, 1, 1, 1, 1, 1, 1, 1, 1, 1, 1, 1, 1, 1, 1, 1,\n",
       "        1, 1, 1, 1, 1, 1, 1, 1, 1, 1, 1, 1, 1, 1, 1, 1, 1, 1, 1, 1, 1, 1,\n",
       "        1, 1, 1, 1, 1, 1, 1, 1, 1, 1, 1, 1, 1, 1, 1, 1, 1, 1, 1, 1, 1, 1,\n",
       "        1, 1, 1, 1, 1, 1, 1, 1, 1, 1, 1, 1, 1, 1, 1, 1, 1, 1, 1, 1, 1, 1,\n",
       "        1, 1, 1, 1, 1, 1, 1, 1, 1, 1, 1, 1, 1, 1, 1, 1, 1, 1, 1, 1, 1, 1,\n",
       "        1, 1, 1, 1, 1, 1, 1, 1, 1, 1, 1, 1, 1, 1, 1, 1, 1, 1, 1, 1, 1, 1,\n",
       "        1, 1, 1, 1, 1, 1, 1, 1, 1, 1, 1, 1, 1, 1, 1, 1, 1, 1, 1, 1, 1, 1,\n",
       "        1, 1, 1, 1, 1, 1, 1, 1, 1, 1, 1, 1, 1, 1, 1, 1, 1, 1, 1, 1, 1, 1,\n",
       "        1, 1, 1, 1, 1, 1, 1, 1, 1, 1, 1, 1, 1, 1, 1, 1, 1, 1, 1, 1, 1, 1,\n",
       "        1, 1, 1, 1, 1, 1, 1, 1, 1, 1, 1, 1, 1, 1, 1, 1, 1, 1, 1, 1, 1, 1,\n",
       "        1, 1, 1, 1, 1, 1, 1, 1, 1, 1, 1, 1, 1, 1, 1, 1, 1, 1, 1, 1, 1, 1,\n",
       "        1, 1, 1, 1, 1, 1, 1, 1, 1, 1, 1, 1, 1, 1, 1, 1, 1, 1, 1, 1, 1, 1,\n",
       "        1, 1, 1, 1, 1, 1, 1, 1, 1, 1, 1, 1, 1, 1, 1, 1, 1, 1, 1, 1, 1, 1,\n",
       "        1, 1, 1, 1, 1, 1, 1, 1, 1, 1, 1, 1, 1, 1, 1, 1, 1, 1, 1, 1, 1, 1,\n",
       "        1, 1, 1, 1, 1, 1, 1, 1, 1, 1, 1, 1, 1, 1, 1, 1, 1, 1, 1, 1, 1, 1,\n",
       "        1, 1, 1, 1, 1, 1, 1, 1, 1, 1, 1, 1, 1, 1, 1, 1, 1, 1, 1, 1, 1, 1,\n",
       "        1, 1, 1, 1, 1, 1, 1, 1, 1, 1, 1, 1, 1, 1, 1, 1, 1, 1, 1, 1, 1, 1,\n",
       "        1, 1, 1, 1, 1, 1, 1, 1, 1, 1, 1, 1, 1, 1, 1, 1, 1, 1, 1, 1, 1, 1,\n",
       "        1, 1, 1, 1, 1, 1, 1, 1, 1, 1, 1, 1, 1, 1, 1, 1, 1, 1, 1, 1, 1, 1,\n",
       "        1, 1, 1, 1, 1, 1, 1, 1, 1, 1, 1, 1, 1, 1, 1, 1, 1, 1, 1, 1, 1, 1,\n",
       "        1, 1, 1, 1, 1, 1, 1, 1, 1, 1, 1, 1, 1, 1, 1, 1, 1, 1, 1, 1, 1, 1,\n",
       "        1, 1, 1, 1, 1, 1, 1, 1, 1, 1, 1, 1, 1, 1, 1, 1, 1, 1, 1, 1, 1, 1,\n",
       "        1, 1, 1, 1, 1, 1, 1, 1, 1, 1, 1, 1, 1, 1, 1, 1, 1, 1, 1, 1, 1, 1,\n",
       "        1, 1, 1, 1, 1, 1, 1, 1, 1, 1, 1, 1, 1, 1, 1, 1, 1, 1, 1, 1, 1, 1,\n",
       "        1, 1, 1, 1, 1, 1, 1, 1, 1, 1, 1, 1, 1, 1, 1, 1, 1, 1, 1, 1, 1, 1,\n",
       "        1, 1, 1, 1, 1, 1, 1, 1, 1, 1, 1, 1, 1, 1, 1, 1, 1, 1, 1, 1, 1, 1,\n",
       "        1, 1, 1, 1, 1, 1, 1, 1, 1, 1, 1, 1, 1, 1, 1, 1, 1, 1, 1, 1, 1, 1,\n",
       "        1, 1, 1, 1, 1, 1, 1, 1, 1, 1, 1, 1, 1, 1, 1, 1, 1, 1, 1, 1, 1, 1,\n",
       "        1, 1, 1, 1, 1, 1, 1, 1, 1, 1, 1, 1, 1, 1, 1, 1, 1, 1, 1, 1, 1, 1,\n",
       "        1, 1, 1, 1, 1, 1, 1, 1, 1, 1, 1, 1, 1, 1, 1, 1, 1, 1, 1, 1, 1, 1,\n",
       "        1, 1, 1, 1, 1, 1, 1, 1, 1, 1, 1, 1, 1, 1, 1, 1, 1, 1, 1, 1, 1, 1,\n",
       "        1, 1, 1, 1, 1, 1, 1, 1, 1, 1, 1, 1, 1, 1, 1, 1, 1, 1, 1, 1, 1, 1,\n",
       "        1, 1, 1, 1, 1, 1, 1, 1, 1, 1, 1, 1, 1, 1, 1, 1, 1, 1, 1, 1, 1, 1,\n",
       "        1, 1, 1, 1, 1, 1, 1, 1, 1, 1, 1, 1, 1, 1, 1, 1, 1, 1, 1, 1, 1, 1,\n",
       "        1, 1, 1, 1, 1, 1, 1, 1, 1, 1, 1, 1, 1, 1, 1, 1, 1, 1, 1, 1, 1, 1,\n",
       "        1, 1, 1, 1, 1, 1, 1, 1, 1, 1, 1, 1, 1, 1, 1, 1, 1, 1, 1, 1, 1, 1,\n",
       "        1, 1, 1, 1, 1, 1, 1, 1, 1, 1, 1, 1, 1, 1, 1, 1, 1, 1, 1, 1, 1, 1,\n",
       "        1, 1, 1, 1, 1, 1, 1, 1, 1, 1, 1, 1, 1, 1, 1, 1, 1, 1, 1, 1, 1, 1,\n",
       "        1, 1, 1, 1, 1, 1, 1, 1, 1, 1, 1, 1, 1, 1, 1, 1, 1, 1, 1, 1, 1, 1,\n",
       "        1, 1, 1, 1, 1, 1, 1, 1, 1, 1, 1, 1, 1, 1, 1, 1, 1, 1, 1, 1, 1, 1,\n",
       "        1, 1, 1, 1, 1, 1, 1, 1, 1, 1], dtype=int64))"
      ]
     },
     "execution_count": 56,
     "metadata": {},
     "output_type": "execute_result"
    }
   ],
   "source": [
    "# devido a uma unica ocorrência dos dados, temos a formação de um gráfico \"em forma de quadrado\"\n",
    "np.unique(dados_uniforme, return_counts=True)"
   ]
  },
  {
   "cell_type": "code",
   "execution_count": 60,
   "id": "5d89e766",
   "metadata": {},
   "outputs": [
    {
     "data": {
      "text/plain": [
       "(1997, 5)"
      ]
     },
     "execution_count": 60,
     "metadata": {},
     "output_type": "execute_result"
    }
   ],
   "source": [
    "# Exemplo prático\n",
    "\n",
    "dataset = pd.read_csv('../Bases de dados/credit_data.csv')\n",
    "dataset.dropna(inplace=True)\n",
    "dataset.shape"
   ]
  },
  {
   "cell_type": "code",
   "execution_count": 61,
   "id": "48e8cc7d",
   "metadata": {},
   "outputs": [
    {
     "data": {
      "text/html": [
       "<div>\n",
       "<style scoped>\n",
       "    .dataframe tbody tr th:only-of-type {\n",
       "        vertical-align: middle;\n",
       "    }\n",
       "\n",
       "    .dataframe tbody tr th {\n",
       "        vertical-align: top;\n",
       "    }\n",
       "\n",
       "    .dataframe thead th {\n",
       "        text-align: right;\n",
       "    }\n",
       "</style>\n",
       "<table border=\"1\" class=\"dataframe\">\n",
       "  <thead>\n",
       "    <tr style=\"text-align: right;\">\n",
       "      <th></th>\n",
       "      <th>i#clientid</th>\n",
       "      <th>income</th>\n",
       "      <th>age</th>\n",
       "      <th>loan</th>\n",
       "      <th>c#default</th>\n",
       "    </tr>\n",
       "  </thead>\n",
       "  <tbody>\n",
       "    <tr>\n",
       "      <th>0</th>\n",
       "      <td>1</td>\n",
       "      <td>66155.925095</td>\n",
       "      <td>59.017015</td>\n",
       "      <td>8106.532131</td>\n",
       "      <td>0</td>\n",
       "    </tr>\n",
       "    <tr>\n",
       "      <th>1</th>\n",
       "      <td>2</td>\n",
       "      <td>34415.153966</td>\n",
       "      <td>48.117153</td>\n",
       "      <td>6564.745018</td>\n",
       "      <td>0</td>\n",
       "    </tr>\n",
       "    <tr>\n",
       "      <th>2</th>\n",
       "      <td>3</td>\n",
       "      <td>57317.170063</td>\n",
       "      <td>63.108049</td>\n",
       "      <td>8020.953296</td>\n",
       "      <td>0</td>\n",
       "    </tr>\n",
       "    <tr>\n",
       "      <th>3</th>\n",
       "      <td>4</td>\n",
       "      <td>42709.534201</td>\n",
       "      <td>45.751972</td>\n",
       "      <td>6103.642260</td>\n",
       "      <td>0</td>\n",
       "    </tr>\n",
       "    <tr>\n",
       "      <th>4</th>\n",
       "      <td>5</td>\n",
       "      <td>66952.688845</td>\n",
       "      <td>18.584336</td>\n",
       "      <td>8770.099235</td>\n",
       "      <td>1</td>\n",
       "    </tr>\n",
       "  </tbody>\n",
       "</table>\n",
       "</div>"
      ],
      "text/plain": [
       "   i#clientid        income        age         loan  c#default\n",
       "0           1  66155.925095  59.017015  8106.532131          0\n",
       "1           2  34415.153966  48.117153  6564.745018          0\n",
       "2           3  57317.170063  63.108049  8020.953296          0\n",
       "3           4  42709.534201  45.751972  6103.642260          0\n",
       "4           5  66952.688845  18.584336  8770.099235          1"
      ]
     },
     "execution_count": 61,
     "metadata": {},
     "output_type": "execute_result"
    }
   ],
   "source": [
    "dataset.head()"
   ]
  },
  {
   "cell_type": "code",
   "execution_count": 62,
   "id": "1daf5add",
   "metadata": {},
   "outputs": [
    {
     "data": {
      "text/plain": [
       "array([[6.61559251e+04, 5.90170151e+01, 8.10653213e+03],\n",
       "       [3.44151540e+04, 4.81171531e+01, 6.56474502e+03],\n",
       "       [5.73171701e+04, 6.31080495e+01, 8.02095330e+03],\n",
       "       ...,\n",
       "       [4.43114493e+04, 2.80171669e+01, 5.52278669e+03],\n",
       "       [4.37560566e+04, 6.39717958e+01, 1.62272260e+03],\n",
       "       [6.94365796e+04, 5.61526170e+01, 7.37883360e+03]])"
      ]
     },
     "execution_count": 62,
     "metadata": {},
     "output_type": "execute_result"
    }
   ],
   "source": [
    "X = dataset.iloc[:, 1:4].values\n",
    "X"
   ]
  },
  {
   "cell_type": "code",
   "execution_count": 63,
   "id": "51cbb2d8",
   "metadata": {},
   "outputs": [
    {
     "data": {
      "text/plain": [
       "array([0, 0, 0, ..., 1, 0, 0], dtype=int64)"
      ]
     },
     "execution_count": 63,
     "metadata": {},
     "output_type": "execute_result"
    }
   ],
   "source": [
    "y =  dataset.iloc[:, 4].values\n",
    "y"
   ]
  },
  {
   "cell_type": "code",
   "execution_count": 64,
   "id": "7a250f7d",
   "metadata": {},
   "outputs": [],
   "source": [
    "from sklearn.naive_bayes import GaussianNB # distribuição normal\n",
    "from sklearn.metrics import accuracy_score\n",
    "from sklearn.model_selection import train_test_split"
   ]
  },
  {
   "cell_type": "code",
   "execution_count": 73,
   "id": "1b499c85",
   "metadata": {},
   "outputs": [],
   "source": [
    "resultados_naive_bayes = []\n",
    "for i in range(30):\n",
    "    X_treinamento, X_teste, y_treinamento, y_teste = train_test_split(X, y, test_size=0.2,\n",
    "                                                                     stratify=y, random_state=i)\n",
    "    naive_bayes = GaussianNB()\n",
    "    naive_bayes.fit(X_treinamento, y_treinamento)\n",
    "    resultados_naive_bayes.append(accuracy_score(y_teste, naive_bayes.predict(X_teste)))"
   ]
  },
  {
   "cell_type": "code",
   "execution_count": 74,
   "id": "158c7f30",
   "metadata": {},
   "outputs": [
    {
     "name": "stdout",
     "output_type": "stream",
     "text": [
      "[0.925, 0.925, 0.9325, 0.925, 0.92, 0.905, 0.9175, 0.9175, 0.9125, 0.9325, 0.9225, 0.9125, 0.935, 0.9175, 0.925, 0.9175, 0.9275, 0.92, 0.9325, 0.92, 0.93, 0.905, 0.9175, 0.9325, 0.9425, 0.9375, 0.94, 0.92, 0.935, 0.925]\n"
     ]
    }
   ],
   "source": [
    "print(resultados_naive_bayes)"
   ]
  },
  {
   "cell_type": "code",
   "execution_count": 75,
   "id": "b31b7f6f",
   "metadata": {},
   "outputs": [
    {
     "name": "stderr",
     "output_type": "stream",
     "text": [
      "C:\\Users\\Matheus\\anaconda3\\lib\\site-packages\\seaborn\\distributions.py:2619: FutureWarning: `distplot` is a deprecated function and will be removed in a future version. Please adapt your code to use either `displot` (a figure-level function with similar flexibility) or `histplot` (an axes-level function for histograms).\n",
      "  warnings.warn(msg, FutureWarning)\n"
     ]
    },
    {
     "data": {
      "text/plain": [
       "<AxesSubplot:ylabel='Density'>"
      ]
     },
     "execution_count": 75,
     "metadata": {},
     "output_type": "execute_result"
    },
    {
     "data": {
      "image/png": "[encoded data removed]",
      "text/plain": [
       "<Figure size 432x288 with 1 Axes>"
      ]
     },
     "metadata": {
      "needs_background": "light"
     },
     "output_type": "display_data"
    }
   ],
   "source": [
    "sns.distplot(resultados_naive_bayes, bins=2)"
   ]
  },
  {
   "cell_type": "code",
   "execution_count": null,
   "id": "e9382f7e",
   "metadata": {},
   "outputs": [],
   "source": []
  }
 ],
 "metadata": {
  "kernelspec": {
   "display_name": "Python 3 (ipykernel)",
   "language": "python",
   "name": "python3"
  },
  "language_info": {
   "codemirror_mode": {
    "name": "ipython",
    "version": 3
   },
   "file_extension": ".py",
   "mimetype": "text/x-python",
   "name": "python",
   "nbconvert_exporter": "python",
   "pygments_lexer": "ipython3",
   "version": "3.9.12"
  }
 },
 "nbformat": 4,
 "nbformat_minor": 5
}
