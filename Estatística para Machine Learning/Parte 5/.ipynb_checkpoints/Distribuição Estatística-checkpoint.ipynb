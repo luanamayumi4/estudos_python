{
 "cells": [
  {
   "cell_type": "markdown",
   "id": "6906f266",
   "metadata": {},
   "source": [
    "### Distribuições Estatísticas\n",
    "1. Vamos focar nas distribuições sem considerar a parte de probabilidade. \n",
    "2. Podemos fazer inferências e observar como os dados estão dispostos.\n",
    "   2.1. Normal\n",
    "   2.2. Gama\n",
    "   2.3. Exponencial\n",
    "   2.4. Uniforme\n",
    "   2.5. Bernoulli\n",
    "   2.6. Binomial\n",
    "   2.7. Poisson"
   ]
  },
  {
   "cell_type": "code",
   "execution_count": 1,
   "id": "adbd7961",
   "metadata": {},
   "outputs": [],
   "source": [
    "### TIPOS DE VARIÁVEIS\n",
    "\n",
    "# Númericas = Números >> Contínuas (números com vírgulas, nº Reais) ou Discretas (nº finitos, inteiro)\n",
    "# Categóricas = \"textos\" >>> Nominal (dados sem ordenação), Ordinais (existe uma ordenação)."
   ]
  },
  {
   "cell_type": "code",
   "execution_count": 2,
   "id": "db8e5801",
   "metadata": {},
   "outputs": [],
   "source": [
    "import numpy as np\n",
    "import seaborn as sns\n",
    "import pandas as pd\n",
    "from scipy import stats"
   ]
  },
  {
   "cell_type": "code",
   "execution_count": 3,
   "id": "099cc777",
   "metadata": {},
   "outputs": [],
   "source": [
    "### Distribuição Normal - Gaussian distribution (bell)\n",
    "dados_normal = stats.norm.rvs(size = 1000, random_state = 1)"
   ]
  },
  {
   "cell_type": "code",
   "execution_count": 4,
   "id": "3d922a7f",
   "metadata": {},
   "outputs": [
    {
     "data": {
      "text/plain": [
       "(-3.053764380426305, 3.9586027040379634)"
      ]
     },
     "execution_count": 4,
     "metadata": {},
     "output_type": "execute_result"
    }
   ],
   "source": [
    "min(dados_normal), max(dados_normal)"
   ]
  },
  {
   "cell_type": "code",
   "execution_count": 5,
   "id": "6ea56042",
   "metadata": {},
   "outputs": [
    {
     "name": "stderr",
     "output_type": "stream",
     "text": [
      "C:\\Users\\Matheus\\anaconda3\\lib\\site-packages\\seaborn\\distributions.py:2619: FutureWarning: `distplot` is a deprecated function and will be removed in a future version. Please adapt your code to use either `displot` (a figure-level function with similar flexibility) or `histplot` (an axes-level function for histograms).\n",
      "  warnings.warn(msg, FutureWarning)\n"
     ]
    },
    {
     "data": {
      "image/png": "[encoded data removed]",
      "text/plain": [
       "<Figure size 432x288 with 1 Axes>"
      ]
     },
     "metadata": {
      "needs_background": "light"
     },
     "output_type": "display_data"
    }
   ],
   "source": [
    "sns.distplot(dados_normal, hist = True, kde = True);"
   ]
  },
  {
   "cell_type": "code",
   "execution_count": 6,
   "id": "c35e07cd",
   "metadata": {},
   "outputs": [
    {
     "data": {
      "text/plain": [
       "(0.03881247615960185,\n",
       " 0.04129258886921605,\n",
       " ModeResult(mode=array([-3.05376438]), count=array([1])),\n",
       " 0.9623691107920885,\n",
       " 0.9810041339322116)"
      ]
     },
     "execution_count": 6,
     "metadata": {},
     "output_type": "execute_result"
    }
   ],
   "source": [
    "dados_normal.mean(), np.median(dados_normal), stats.mode(dados_normal), np.var(dados_normal), np.std(dados_normal)"
   ]
  },
  {
   "cell_type": "code",
   "execution_count": 7,
   "id": "858e642f",
   "metadata": {},
   "outputs": [
    {
     "data": {
      "text/plain": [
       "148"
      ]
     },
     "execution_count": 7,
     "metadata": {},
     "output_type": "execute_result"
    }
   ],
   "source": [
    "np.sum(((dados_normal >= 0.9810041339322116) & (dados_normal <= 0.9810041339322116 + 1)))"
   ]
  },
  {
   "cell_type": "code",
   "execution_count": 8,
   "id": "e362a85d",
   "metadata": {},
   "outputs": [
    {
     "data": {
      "text/plain": [
       "480"
      ]
     },
     "execution_count": 8,
     "metadata": {},
     "output_type": "execute_result"
    }
   ],
   "source": [
    "np.sum(((dados_normal <= 0.9810041339322116) & (dados_normal <= 0.9810041339322116 - 1)))"
   ]
  },
  {
   "cell_type": "code",
   "execution_count": 9,
   "id": "1d151e7b",
   "metadata": {},
   "outputs": [
    {
     "data": {
      "text/plain": [
       "0.628"
      ]
     },
     "execution_count": 9,
     "metadata": {},
     "output_type": "execute_result"
    }
   ],
   "source": [
    "(148 + 480) / 1000"
   ]
  },
  {
   "cell_type": "code",
   "execution_count": 10,
   "id": "c0f101bf",
   "metadata": {},
   "outputs": [],
   "source": [
    "## Utilizando alturas como exemplo\n",
    "\n",
    "dados = np.array([126. , 129.5, 133. , 133. , 136.5, 136.5, 140. , 140. , 140. ,\n",
    "                  140. , 143.5, 143.5, 143.5, 143.5, 143.5, 143.5, 147. , 147. ,\n",
    "                  147. , 147. , 147. , 147. , 147. , 150.5, 150.5, 150.5, 150.5,\n",
    "                  150.5, 150.5, 150.5, 150.5, 154. , 154. , 154. , 154. , 154. ,\n",
    "                  154. , 154. , 154. , 154. , 157.5, 157.5, 157.5, 157.5, 157.5,\n",
    "                  157.5, 157.5, 157.5, 157.5, 157.5, 161. , 161. , 161. , 161. ,\n",
    "                  161. , 161. , 161. , 161. , 161. , 161. , 164.5, 164.5, 164.5,\n",
    "                  164.5, 164.5, 164.5, 164.5, 164.5, 164.5, 168. , 168. , 168. ,\n",
    "                  168. , 168. , 168. , 168. , 168. , 171.5, 171.5, 171.5, 171.5,\n",
    "                  171.5, 171.5, 171.5, 175. , 175. , 175. , 175. , 175. , 175. ,\n",
    "                  178.5, 178.5, 178.5, 178.5, 182. , 182. , 185.5, 185.5, 189., 192.5])"
   ]
  },
  {
   "cell_type": "code",
   "execution_count": 11,
   "id": "e78c4b67",
   "metadata": {},
   "outputs": [
    {
     "data": {
      "text/plain": [
       "100"
      ]
     },
     "execution_count": 11,
     "metadata": {},
     "output_type": "execute_result"
    }
   ],
   "source": [
    "len(dados) # temos dados de 100 pessoas (amostra)"
   ]
  },
  {
   "cell_type": "code",
   "execution_count": 12,
   "id": "67993ea2",
   "metadata": {},
   "outputs": [
    {
     "data": {
      "text/plain": [
       "(126.0, 192.5)"
      ]
     },
     "execution_count": 12,
     "metadata": {},
     "output_type": "execute_result"
    }
   ],
   "source": [
    "min(dados), max(dados)"
   ]
  },
  {
   "cell_type": "code",
   "execution_count": 13,
   "id": "f23543f2",
   "metadata": {},
   "outputs": [
    {
     "data": {
      "text/plain": [
       "66.5"
      ]
     },
     "execution_count": 13,
     "metadata": {},
     "output_type": "execute_result"
    }
   ],
   "source": [
    "# Amplitude dos dados\n",
    "R = max(dados) - min(dados)\n",
    "R"
   ]
  },
  {
   "cell_type": "code",
   "execution_count": 14,
   "id": "af4fae62",
   "metadata": {},
   "outputs": [
    {
     "data": {
      "text/plain": [
       "(159.25,\n",
       " 159.25,\n",
       " ModeResult(mode=array([157.5]), count=array([10])),\n",
       " 186.3225,\n",
       " 13.65)"
      ]
     },
     "execution_count": 14,
     "metadata": {},
     "output_type": "execute_result"
    }
   ],
   "source": [
    "dados.mean(), np.median(dados), stats.mode(dados), np.var(dados), np.std(dados)"
   ]
  },
  {
   "cell_type": "code",
   "execution_count": 15,
   "id": "1a74bedc",
   "metadata": {},
   "outputs": [
    {
     "data": {
      "text/plain": [
       "8.571428571428571"
      ]
     },
     "execution_count": 15,
     "metadata": {},
     "output_type": "execute_result"
    }
   ],
   "source": [
    "CV = (np.std(dados) / dados.mean()) * 100\n",
    "CV"
   ]
  },
  {
   "cell_type": "code",
   "execution_count": 16,
   "id": "a8efcde1",
   "metadata": {},
   "outputs": [
    {
     "data": {
      "text/plain": [
       "8.571428571428571"
      ]
     },
     "execution_count": 16,
     "metadata": {},
     "output_type": "execute_result"
    }
   ],
   "source": [
    "# OU \n",
    "\n",
    "CV2 = stats.variation(dados) * 100\n",
    "CV2"
   ]
  },
  {
   "cell_type": "code",
   "execution_count": 17,
   "id": "59548c9a",
   "metadata": {},
   "outputs": [
    {
     "name": "stderr",
     "output_type": "stream",
     "text": [
      "C:\\Users\\Matheus\\anaconda3\\lib\\site-packages\\seaborn\\distributions.py:2619: FutureWarning: `distplot` is a deprecated function and will be removed in a future version. Please adapt your code to use either `displot` (a figure-level function with similar flexibility) or `histplot` (an axes-level function for histograms).\n",
      "  warnings.warn(msg, FutureWarning)\n"
     ]
    },
    {
     "data": {
      "image/png": "[encoded data removed]",
      "text/plain": [
       "<Figure size 432x288 with 1 Axes>"
      ]
     },
     "metadata": {
      "needs_background": "light"
     },
     "output_type": "display_data"
    }
   ],
   "source": [
    "sns.distplot(dados, hist = True, kde = True);"
   ]
  },
  {
   "cell_type": "markdown",
   "id": "2561f720",
   "metadata": {},
   "source": [
    "### Enviesamento"
   ]
  },
  {
   "cell_type": "code",
   "execution_count": 18,
   "id": "fe70f7eb",
   "metadata": {},
   "outputs": [],
   "source": [
    "from scipy.stats import skewnorm\n",
    "dados_normal = skewnorm.rvs(a = 0, size = 1000)"
   ]
  },
  {
   "cell_type": "code",
   "execution_count": 19,
   "id": "4163f8cb",
   "metadata": {},
   "outputs": [
    {
     "name": "stderr",
     "output_type": "stream",
     "text": [
      "C:\\Users\\Matheus\\anaconda3\\lib\\site-packages\\seaborn\\distributions.py:2619: FutureWarning: `distplot` is a deprecated function and will be removed in a future version. Please adapt your code to use either `displot` (a figure-level function with similar flexibility) or `histplot` (an axes-level function for histograms).\n",
      "  warnings.warn(msg, FutureWarning)\n"
     ]
    },
    {
     "data": {
      "image/png": "[encoded data removed]",
      "text/plain": [
       "<Figure size 432x288 with 1 Axes>"
      ]
     },
     "metadata": {
      "needs_background": "light"
     },
     "output_type": "display_data"
    }
   ],
   "source": [
    "sns.distplot(dados_normal);"
   ]
  },
  {
   "cell_type": "code",
   "execution_count": 20,
   "id": "49075e96",
   "metadata": {},
   "outputs": [
    {
     "data": {
      "text/plain": [
       "(-0.006406560612513677,\n",
       " 0.02157140412922676,\n",
       " ModeResult(mode=array([-3.23330617]), count=array([1])))"
      ]
     },
     "execution_count": 20,
     "metadata": {},
     "output_type": "execute_result"
    }
   ],
   "source": [
    "dados_normal.mean(), np.median(dados_normal), stats.mode(dados_normal)"
   ]
  },
  {
   "cell_type": "markdown",
   "id": "1c47008d",
   "metadata": {},
   "source": [
    "#### Não são dados normais apesar da variável conter o nome 'normal'"
   ]
  },
  {
   "cell_type": "code",
   "execution_count": 21,
   "id": "526b2f47",
   "metadata": {},
   "outputs": [
    {
     "name": "stderr",
     "output_type": "stream",
     "text": [
      "C:\\Users\\Matheus\\anaconda3\\lib\\site-packages\\seaborn\\distributions.py:2619: FutureWarning: `distplot` is a deprecated function and will be removed in a future version. Please adapt your code to use either `displot` (a figure-level function with similar flexibility) or `histplot` (an axes-level function for histograms).\n",
      "  warnings.warn(msg, FutureWarning)\n"
     ]
    },
    {
     "data": {
      "image/png": "[encoded data removed]",
      "text/plain": [
       "<Figure size 432x288 with 1 Axes>"
      ]
     },
     "metadata": {
      "needs_background": "light"
     },
     "output_type": "display_data"
    }
   ],
   "source": [
    "dados_normal_positivo = skewnorm.rvs(a = 10, size = 1000)\n",
    "sns.distplot(dados_normal_positivo);"
   ]
  },
  {
   "cell_type": "code",
   "execution_count": 22,
   "id": "439b5e33",
   "metadata": {},
   "outputs": [
    {
     "data": {
      "text/plain": [
       "(0.813139235956048,\n",
       " 0.6958709791043873,\n",
       " ModeResult(mode=array([-0.2008502]), count=array([1])))"
      ]
     },
     "execution_count": 22,
     "metadata": {},
     "output_type": "execute_result"
    }
   ],
   "source": [
    "dados_normal_positivo.mean(), np.median(dados_normal_positivo), stats.mode(dados_normal_positivo)"
   ]
  },
  {
   "cell_type": "code",
   "execution_count": 23,
   "id": "5b6f5257",
   "metadata": {},
   "outputs": [
    {
     "name": "stderr",
     "output_type": "stream",
     "text": [
      "C:\\Users\\Matheus\\anaconda3\\lib\\site-packages\\seaborn\\distributions.py:2619: FutureWarning: `distplot` is a deprecated function and will be removed in a future version. Please adapt your code to use either `displot` (a figure-level function with similar flexibility) or `histplot` (an axes-level function for histograms).\n",
      "  warnings.warn(msg, FutureWarning)\n"
     ]
    },
    {
     "data": {
      "image/png": "[encoded data removed]",
      "text/plain": [
       "<Figure size 432x288 with 1 Axes>"
      ]
     },
     "metadata": {
      "needs_background": "light"
     },
     "output_type": "display_data"
    }
   ],
   "source": [
    "dados_normal_negativo = skewnorm.rvs(-10, size = 1000)\n",
    "sns.distplot(dados_normal_negativo);"
   ]
  },
  {
   "cell_type": "code",
   "execution_count": 24,
   "id": "e48aa5f3",
   "metadata": {},
   "outputs": [
    {
     "data": {
      "text/plain": [
       "(-0.7743595687402458,\n",
       " -0.6742293279899272,\n",
       " ModeResult(mode=array([-3.65112035]), count=array([1])))"
      ]
     },
     "execution_count": 24,
     "metadata": {},
     "output_type": "execute_result"
    }
   ],
   "source": [
    "dados_normal_negativo.mean(), np.median(dados_normal_negativo), stats.mode(dados_normal_negativo)"
   ]
  },
  {
   "cell_type": "markdown",
   "id": "0fcaee76",
   "metadata": {},
   "source": [
    "1. Distribuição normal padronizada\n",
    "2. Distribuição padronizada --> Média = 0 e DP = 1\n",
    "\n",
    "$Zscore = \\frac {x - média}{DP}$"
   ]
  },
  {
   "cell_type": "code",
   "execution_count": 25,
   "id": "7d89ab69",
   "metadata": {},
   "outputs": [],
   "source": [
    "dados_normal_padronizado = np.random.standard_normal(size = 1000)"
   ]
  },
  {
   "cell_type": "code",
   "execution_count": 26,
   "id": "c3c027f2",
   "metadata": {},
   "outputs": [
    {
     "data": {
      "text/plain": [
       "(-3.283234755378777, 3.1742608261523046)"
      ]
     },
     "execution_count": 26,
     "metadata": {},
     "output_type": "execute_result"
    }
   ],
   "source": [
    "min(dados_normal_padronizado), max(dados_normal_padronizado)"
   ]
  },
  {
   "cell_type": "code",
   "execution_count": 27,
   "id": "5443ead6",
   "metadata": {},
   "outputs": [
    {
     "data": {
      "image/png": "[encoded data removed]",
      "text/plain": [
       "<Figure size 360x360 with 1 Axes>"
      ]
     },
     "metadata": {
      "needs_background": "light"
     },
     "output_type": "display_data"
    }
   ],
   "source": [
    "sns.displot(dados_normal_padronizado);"
   ]
  },
  {
   "cell_type": "code",
   "execution_count": 28,
   "id": "d716d758",
   "metadata": {},
   "outputs": [
    {
     "data": {
      "text/plain": [
       "(-0.008570152282605568, 0.9893455740511383)"
      ]
     },
     "execution_count": 28,
     "metadata": {},
     "output_type": "execute_result"
    }
   ],
   "source": [
    "dados_normal_padronizado.mean(), np.std(dados_normal_padronizado)"
   ]
  },
  {
   "cell_type": "code",
   "execution_count": 29,
   "id": "fb023b78",
   "metadata": {},
   "outputs": [
    {
     "data": {
      "text/plain": [
       "array([126. , 129.5, 133. , 133. , 136.5, 136.5, 140. , 140. , 140. ,\n",
       "       140. , 143.5, 143.5, 143.5, 143.5, 143.5, 143.5, 147. , 147. ,\n",
       "       147. , 147. , 147. , 147. , 147. , 150.5, 150.5, 150.5, 150.5,\n",
       "       150.5, 150.5, 150.5, 150.5, 154. , 154. , 154. , 154. , 154. ,\n",
       "       154. , 154. , 154. , 154. , 157.5, 157.5, 157.5, 157.5, 157.5,\n",
       "       157.5, 157.5, 157.5, 157.5, 157.5, 161. , 161. , 161. , 161. ,\n",
       "       161. , 161. , 161. , 161. , 161. , 161. , 164.5, 164.5, 164.5,\n",
       "       164.5, 164.5, 164.5, 164.5, 164.5, 164.5, 168. , 168. , 168. ,\n",
       "       168. , 168. , 168. , 168. , 168. , 171.5, 171.5, 171.5, 171.5,\n",
       "       171.5, 171.5, 171.5, 175. , 175. , 175. , 175. , 175. , 175. ,\n",
       "       178.5, 178.5, 178.5, 178.5, 182. , 182. , 185.5, 185.5, 189. ,\n",
       "       192.5])"
      ]
     },
     "execution_count": 29,
     "metadata": {},
     "output_type": "execute_result"
    }
   ],
   "source": [
    "### Aplicando a técnica para padronização de dados não padronizados.\n",
    "dados"
   ]
  },
  {
   "cell_type": "code",
   "execution_count": 30,
   "id": "0a23d243",
   "metadata": {},
   "outputs": [
    {
     "data": {
      "text/plain": [
       "159.25"
      ]
     },
     "execution_count": 30,
     "metadata": {},
     "output_type": "execute_result"
    }
   ],
   "source": [
    "media = dados.mean()\n",
    "media"
   ]
  },
  {
   "cell_type": "code",
   "execution_count": 31,
   "id": "b82141d8",
   "metadata": {},
   "outputs": [
    {
     "data": {
      "text/plain": [
       "13.65"
      ]
     },
     "execution_count": 31,
     "metadata": {},
     "output_type": "execute_result"
    }
   ],
   "source": [
    "desvio_padrao = np.std(dados)\n",
    "desvio_padrao"
   ]
  },
  {
   "cell_type": "code",
   "execution_count": 32,
   "id": "bcad0e7c",
   "metadata": {},
   "outputs": [
    {
     "data": {
      "text/plain": [
       "array([-2.43589744, -2.17948718, -1.92307692, -1.92307692, -1.66666667,\n",
       "       -1.66666667, -1.41025641, -1.41025641, -1.41025641, -1.41025641,\n",
       "       -1.15384615, -1.15384615, -1.15384615, -1.15384615, -1.15384615,\n",
       "       -1.15384615, -0.8974359 , -0.8974359 , -0.8974359 , -0.8974359 ,\n",
       "       -0.8974359 , -0.8974359 , -0.8974359 , -0.64102564, -0.64102564,\n",
       "       -0.64102564, -0.64102564, -0.64102564, -0.64102564, -0.64102564,\n",
       "       -0.64102564, -0.38461538, -0.38461538, -0.38461538, -0.38461538,\n",
       "       -0.38461538, -0.38461538, -0.38461538, -0.38461538, -0.38461538,\n",
       "       -0.12820513, -0.12820513, -0.12820513, -0.12820513, -0.12820513,\n",
       "       -0.12820513, -0.12820513, -0.12820513, -0.12820513, -0.12820513,\n",
       "        0.12820513,  0.12820513,  0.12820513,  0.12820513,  0.12820513,\n",
       "        0.12820513,  0.12820513,  0.12820513,  0.12820513,  0.12820513,\n",
       "        0.38461538,  0.38461538,  0.38461538,  0.38461538,  0.38461538,\n",
       "        0.38461538,  0.38461538,  0.38461538,  0.38461538,  0.64102564,\n",
       "        0.64102564,  0.64102564,  0.64102564,  0.64102564,  0.64102564,\n",
       "        0.64102564,  0.64102564,  0.8974359 ,  0.8974359 ,  0.8974359 ,\n",
       "        0.8974359 ,  0.8974359 ,  0.8974359 ,  0.8974359 ,  1.15384615,\n",
       "        1.15384615,  1.15384615,  1.15384615,  1.15384615,  1.15384615,\n",
       "        1.41025641,  1.41025641,  1.41025641,  1.41025641,  1.66666667,\n",
       "        1.66666667,  1.92307692,  1.92307692,  2.17948718,  2.43589744])"
      ]
     },
     "execution_count": 32,
     "metadata": {},
     "output_type": "execute_result"
    }
   ],
   "source": [
    "dados_padronizados = ( dados - media ) / desvio_padrao\n",
    "dados_padronizados"
   ]
  },
  {
   "cell_type": "code",
   "execution_count": 33,
   "id": "01e330f5",
   "metadata": {},
   "outputs": [
    {
     "data": {
      "text/plain": [
       "(0.0, 0.9999999999999999)"
      ]
     },
     "execution_count": 33,
     "metadata": {},
     "output_type": "execute_result"
    }
   ],
   "source": [
    "dados_padronizados.mean(), np.std(dados_padronizados)"
   ]
  },
  {
   "cell_type": "code",
   "execution_count": 34,
   "id": "bcfdd2bb",
   "metadata": {},
   "outputs": [
    {
     "data": {
      "image/png": "[encoded data removed]",
      "text/plain": [
       "<Figure size 360x360 with 1 Axes>"
      ]
     },
     "metadata": {
      "needs_background": "light"
     },
     "output_type": "display_data"
    }
   ],
   "source": [
    "sns.displot(dados_padronizados);"
   ]
  },
  {
   "cell_type": "markdown",
   "id": "da2c88ea",
   "metadata": {},
   "source": [
    "### Teorema central do limite\n",
    "1. Quando o tamanho da amostra aumenta a distribuição amostral da sua média aproxima-se cada vez mais de uma distribuição normal"
   ]
  },
  {
   "cell_type": "code",
   "execution_count": 35,
   "id": "7f1e163a",
   "metadata": {},
   "outputs": [
    {
     "data": {
      "text/plain": [
       "(158.022,)"
      ]
     },
     "execution_count": 35,
     "metadata": {},
     "output_type": "execute_result"
    }
   ],
   "source": [
    "alturas = np.random.randint(126, 192, 500)\n",
    "alturas.mean(), "
   ]
  },
  {
   "cell_type": "code",
   "execution_count": 36,
   "id": "5762be98",
   "metadata": {},
   "outputs": [
    {
     "name": "stderr",
     "output_type": "stream",
     "text": [
      "C:\\Users\\Matheus\\anaconda3\\lib\\site-packages\\seaborn\\distributions.py:2619: FutureWarning: `distplot` is a deprecated function and will be removed in a future version. Please adapt your code to use either `displot` (a figure-level function with similar flexibility) or `histplot` (an axes-level function for histograms).\n",
      "  warnings.warn(msg, FutureWarning)\n"
     ]
    },
    {
     "data": {
      "text/plain": [
       "<AxesSubplot:ylabel='Density'>"
      ]
     },
     "execution_count": 36,
     "metadata": {},
     "output_type": "execute_result"
    },
    {
     "data": {
      "image/png": "[encoded data removed]",
      "text/plain": [
       "<Figure size 432x288 with 1 Axes>"
      ]
     },
     "metadata": {
      "needs_background": "light"
     },
     "output_type": "display_data"
    }
   ],
   "source": [
    "sns.distplot(alturas)"
   ]
  },
  {
   "cell_type": "code",
   "execution_count": 37,
   "id": "14c4d61e",
   "metadata": {},
   "outputs": [
    {
     "name": "stdout",
     "output_type": "stream",
     "text": [
      "[159.694, 158.47, 159.96, 158.956, 158.378, 157.272, 158.86, 158.744, 158.918, 158.354, 159.966, 158.63, 158.896, 158.726, 157.574, 157.652, 158.65, 158.444, 158.652, 158.836, 157.838, 157.43, 159.45, 157.716, 158.646, 159.29, 159.63, 160.016, 157.982, 159.12, 159.184, 159.514, 158.936, 157.716, 159.782, 158.02, 158.044, 158.592, 160.722, 158.326, 158.906, 160.138, 159.198, 158.772, 158.332, 158.644, 155.974, 158.942, 157.488, 157.936, 158.37, 159.818, 159.37, 157.458, 157.938, 158.57, 157.498, 159.118, 159.076, 157.86, 159.01, 158.796, 156.862, 157.396, 159.026, 159.448, 159.408, 158.1, 158.268, 160.052, 157.84, 159.326, 159.358, 157.586, 158.398, 158.952, 159.25, 157.526, 159.81, 158.076, 157.858, 158.104, 159.4, 157.972, 157.452, 159.132, 157.804, 159.304, 156.11, 157.16, 159.858, 158.386, 158.988, 160.176, 158.846, 158.16, 158.128, 158.438, 159.464, 158.912, 158.776, 159.392, 158.534, 157.514, 158.226, 159.586, 158.872, 157.738, 159.944, 159.904, 156.246, 158.832, 158.55, 159.804, 156.554, 157.444, 158.638, 157.114, 159.538, 158.092, 158.18, 158.864, 159.874, 158.562, 158.702, 158.252, 159.31, 159.728, 157.698, 159.852, 158.29, 159.172, 158.318, 157.516, 157.924, 159.186, 157.79, 159.656, 157.798, 157.894, 157.718, 158.85, 157.998, 157.252, 159.634, 159.574, 159.62, 158.218, 157.864, 156.46, 157.474, 159.574, 158.022, 157.694, 157.044, 158.392, 156.938, 158.83, 158.348, 159.024, 157.484, 156.394, 159.38, 158.78, 158.452, 159.21, 158.014, 158.416, 158.268, 158.732, 158.698, 158.21, 159.32, 157.246, 155.548, 158.744, 157.914, 157.326, 158.3, 157.966, 158.524, 159.336, 159.34, 158.542, 157.076, 157.812, 158.898, 158.23, 159.56, 158.338, 159.114, 158.222, 160.714, 159.186, 158.948, 159.63, 158.274, 158.046, 158.224, 157.78, 158.098, 158.586, 157.704, 160.316, 157.866, 158.072, 158.37, 158.244, 158.506, 158.838, 160.008, 159.292, 158.484, 158.02, 158.656, 159.346, 159.018, 159.514, 158.696, 158.752, 157.702, 157.962, 159.282, 159.48, 158.128, 157.754, 157.78, 159.34, 158.794, 158.084, 157.828, 158.234, 158.09, 157.196, 159.638, 157.732, 158.52, 158.882, 157.7, 158.098, 157.912, 156.898, 156.332, 158.486, 159.914, 160.198, 158.7, 157.454, 159.702, 158.504, 158.974, 158.042, 157.68, 159.994, 157.432, 157.92, 158.268, 157.01, 157.568, 157.974, 158.54, 158.474, 157.862, 158.864, 158.396, 158.426, 158.432, 158.112, 158.532, 159.366, 159.454, 159.252, 158.662, 158.476, 158.592, 158.306, 156.698, 158.148, 157.888, 158.666, 158.968, 158.89, 158.976, 159.214, 158.992, 158.252, 158.798, 157.092, 156.538, 158.87, 159.538, 158.566, 158.852, 159.514, 156.948, 158.616, 158.392, 157.488, 158.04, 158.204, 158.478, 157.014, 159.668, 158.748, 158.164, 157.474, 159.05, 157.176, 158.096, 158.906, 159.36, 158.822, 159.392, 159.562, 157.57, 157.918, 158.438, 159.832, 158.21, 157.69, 158.238, 156.87, 159.366, 159.532, 158.08, 157.014, 157.868, 157.874, 157.29, 158.544, 157.174, 157.574, 158.504, 158.55, 159.026, 157.84, 158.866, 157.178, 159.234, 159.48, 158.742, 158.046, 157.156, 158.912, 156.6, 158.548, 158.012, 158.52, 159.026, 158.944, 159.23, 159.368, 159.018, 157.37, 156.886, 157.758, 156.736, 158.904, 157.114, 157.686, 157.636, 159.63, 159.628, 158.014, 157.822, 159.06, 158.726, 159.202, 157.352, 157.982, 158.07, 158.388, 158.592, 158.608, 159.824, 158.898, 158.16, 157.102, 157.974, 158.784, 159.592, 159.392, 158.67, 158.048, 157.196, 158.722, 158.01, 158.636, 157.912, 158.21, 158.174, 159.796, 159.19, 157.698, 158.074, 158.236, 158.356, 158.514, 157.244, 158.682, 156.638, 157.97, 158.986, 158.306, 157.998, 158.942, 158.338, 158.152, 157.218, 159.98, 158.13, 156.712, 158.842, 158.374, 158.92, 158.28, 158.37, 159.024, 156.756, 157.834, 158.788, 158.496, 159.416, 159.162, 157.922, 158.812, 159.772, 158.44, 158.306, 157.56, 158.146, 159.484, 157.012, 159.546, 159.564, 157.632, 157.716, 159.494, 158.724, 158.294, 158.71, 158.878, 157.196, 159.148, 157.818, 159.69, 159.75, 156.706, 157.414, 157.588, 157.278, 158.392, 159.344, 157.156, 157.768, 159.25, 159.03, 159.524, 158.662, 158.598, 160.112, 159.654, 157.568, 158.406, 159.316, 158.178, 159.3, 156.936, 157.964, 157.948, 158.434, 159.206, 157.992, 158.96, 157.54, 157.482, 157.32, 158.856, 158.468, 159.264, 158.4, 159.772, 157.102, 157.776, 158.234, 158.824, 157.81, 157.148, 156.886, 159.374, 158.01, 157.9, 158.258, 158.472, 158.32, 158.048, 158.712, 159.304, 157.784, 160.03, 157.488, 157.37, 158.774, 156.858, 158.404, 158.898, 159.778, 158.498, 158.978, 158.83, 158.34, 158.742, 159.288, 160.364, 158.606, 157.56, 157.782, 158.948, 158.28, 158.072, 158.102, 158.444, 159.112, 157.26, 157.088, 159.834, 158.012, 158.332, 157.478, 159.912, 157.424, 158.984, 157.286, 159.004, 159.266, 159.83, 159.466, 160.006, 157.422, 158.63, 158.054, 158.838, 158.702, 158.35, 158.012, 156.51, 158.9, 159.396, 158.918, 158.564, 159.194, 158.166, 160.314, 158.672, 158.626, 156.7, 157.466, 159.462, 158.236, 158.716, 159.392, 158.378, 158.466, 158.904, 158.766, 159.55, 157.676, 158.894, 158.582, 157.228, 157.882, 159.01, 159.724, 158.482, 156.626, 159.164, 159.264, 157.878, 159.548, 158.52, 158.836, 158.936, 158.142, 157.634, 158.262, 157.176, 157.74, 157.954, 160.534, 159.568, 156.206, 158.848, 159.14, 159.352, 157.748, 157.762, 157.36, 158.268, 159.188, 158.498, 159.232, 158.468, 158.706, 158.35, 159.03, 158.042, 158.366, 160.054, 158.104, 159.024, 157.76, 158.244, 159.468, 158.568, 158.42, 158.702, 157.986, 158.308, 157.874, 158.692, 158.466, 158.142, 158.824, 159.252, 158.688, 158.474, 158.092, 158.712, 158.9, 156.764, 159.538, 160.458, 157.098, 158.592, 157.942, 159.086, 159.714, 158.15, 157.516, 158.018, 157.16, 158.744, 158.024, 158.194, 156.594, 157.216, 158.838, 158.896, 156.986, 158.168, 159.826, 156.904, 157.904, 157.474, 157.186, 157.644, 158.808, 159.816, 159.432, 158.06, 159.036, 159.048, 159.118, 158.028, 158.204, 159.082, 158.786, 159.3, 157.586, 158.534, 159.582, 159.64, 158.144, 157.84, 157.676, 158.16, 159.722, 157.566, 158.074, 157.62, 158.586, 159.396, 158.478, 157.468, 158.93, 157.706, 157.986, 158.788, 158.798, 158.44, 158.464, 157.91, 159.668, 157.608, 157.902, 159.18, 158.75, 158.578, 159.192, 157.91, 158.708, 158.542, 159.382, 159.89, 158.808, 158.076, 157.59, 159.424, 158.502, 159.532, 157.608, 158.414, 157.38, 158.256, 159.216, 160.258, 158.104, 156.24, 160.59, 158.192, 157.61, 158.884, 158.574, 158.132, 159.594, 159.986, 159.192, 157.984, 159.484, 159.852, 158.692, 157.032, 156.878, 157.8, 159.174, 157.41, 159.152, 157.124, 158.056, 158.782, 156.682, 159.344, 158.6, 158.61, 159.09, 158.43, 158.8, 158.542, 159.418, 159.468, 157.956, 159.332, 157.878, 158.566, 157.88, 158.56, 158.028, 157.818, 157.64, 158.814, 158.868, 158.928, 158.494, 156.938, 158.524, 158.662, 157.922, 159.208, 158.91, 158.136, 158.1, 156.5, 158.966, 158.31, 159.088, 158.798, 158.344, 157.788, 158.362, 159.656, 158.954, 157.488, 157.44, 158.6, 157.822, 157.19, 158.476, 159.288, 158.17, 157.78, 160.168, 158.082, 158.614, 157.62, 157.358, 158.798, 157.956, 159.302, 157.576, 158.564, 159.622, 157.742, 158.458, 160.51, 158.272, 159.002, 157.844, 158.898, 158.834, 158.814, 158.014, 158.144, 158.722, 158.828, 158.068, 156.988, 158.034, 158.04, 158.756, 157.832, 159.238, 157.93, 159.286, 158.914, 158.154, 158.436, 158.568, 159.428, 158.988, 159.696, 158.758, 157.482, 157.974, 158.896, 159.77, 157.142, 157.748, 157.59, 158.246, 158.462, 158.394, 158.778, 156.038, 158.666, 156.502, 157.972, 158.074, 160.516, 158.33, 160.336, 156.614, 156.91, 157.816, 157.71, 159.464, 158.92, 157.734, 157.414, 159.244, 158.402, 159.116, 157.604, 158.638, 159.11, 157.688, 156.918, 157.518, 157.82, 158.932, 157.772, 159.772, 156.74, 157.554, 157.784, 156.6, 158.064, 158.2, 157.416, 159.422, 158.29, 157.346, 159.71, 159.538, 157.844, 157.774, 157.334, 158.436, 159.358, 159.414, 158.984, 158.088, 159.082, 158.214, 157.108, 157.228, 157.836, 158.894, 158.254, 157.452, 159.096, 157.806, 158.734, 158.704, 158.898, 157.712, 160.284, 158.928, 159.356, 157.404, 158.172, 159.834, 157.186, 158.262, 158.218, 159.608, 158.32, 157.086, 158.08, 158.432, 158.876, 157.676, 159.292, 160.566, 158.068, 158.97, 156.968, 159.522, 158.344, 159.046, 159.582, 158.268, 159.14, 158.802, 158.38, 159.26, 158.53, 157.238, 158.136, 157.382, 158.25, 158.868, 157.964, 159.606, 156.968, 157.746, 159.276, 157.19, 159.116, 157.184, 158.72, 158.156, 159.364, 156.956, 158.344, 159.068, 158.268, 157.854, 157.802, 159.132, 157.982, 158.316, 158.43, 159.094, 159.284, 158.706, 157.802, 158.488, 158.742, 158.844, 158.526, 159.526, 159.074, 159.104, 159.734, 158.842, 157.872, 159.384, 159.732, 158.454, 158.4, 158.412, 158.716, 158.082, 156.884, 159.632, 159.594, 158.942, 158.338, 158.898, 159.826, 158.668, 158.79, 159.52, 157.802, 158.974, 159.41, 159.136, 157.362, 158.424, 159.228, 158.552, 159.768, 158.084, 157.246, 158.332, 157.61, 157.66, 157.83, 158.292, 159.112, 159.238, 157.794, 158.834, 158.01, 158.444, 157.936, 158.854, 158.798, 158.064, 157.66, 158.854, 156.306, 158.238, 157.244, 159.01, 157.886, 158.134, 158.344, 158.266, 158.564, 157.202, 157.608, 157.68, 158.46, 159.182, 158.862, 158.46, 159.422, 157.624, 158.858, 159.958, 159.19, 159.394, 159.726, 159.75, 158.232, 159.188, 159.91, 157.504, 159.17, 159.11, 159.538, 158.322, 158.014, 159.072, 158.008, 159.206, 158.49, 158.632, 157.698, 159.028, 157.57, 158.786, 159.896, 158.134, 158.5, 159.004, 159.186, 159.394, 157.808, 158.648, 158.99, 157.678, 157.156, 158.528, 158.426, 158.994, 158.872, 157.338, 158.952, 157.79, 159.64, 159.42, 159.328, 158.156, 157.962, 157.288, 158.342, 159.534, 159.396, 159.836, 159.732, 157.76, 159.536, 158.464, 157.204, 160.294, 158.606, 157.542, 156.99, 158.142, 159.014, 158.466, 158.952, 157.988, 157.904, 159.278, 158.786, 158.54, 159.138, 159.926, 158.988, 158.712, 159.672, 159.234, 157.014, 157.764, 158.862, 157.538, 158.17, 158.368, 157.81, 158.622, 159.498, 158.708, 158.978, 159.774, 157.182, 158.342, 158.334, 158.454, 157.538, 157.984, 158.944, 158.414, 159.014, 158.066, 157.364, 159.48, 160.812, 159.632, 160.226, 157.568, 158.842, 158.338, 158.326, 157.576, 156.882, 157.638, 158.298, 157.724, 158.138, 160.72, 156.686, 158.27, 157.252, 158.018, 159.18, 159.736, 157.77, 158.978, 159.15, 159.502, 158.806, 158.522, 158.674, 157.764, 158.392, 157.214, 158.368, 157.906, 158.372, 159.09, 158.952, 157.676, 159.382, 158.864, 157.352, 158.874, 158.654, 158.286, 159.33, 158.776, 157.426, 159.668, 158.31, 158.88, 157.874, 158.568, 159.296, 157.008, 158.25, 158.97, 159.608, 158.958, 156.81, 157.114, 156.864, 158.736, 158.422, 156.704, 159.586, 159.27, 158.676, 159.474, 160.116, 159.094, 157.518, 159.626, 157.87, 157.542, 158.906, 158.93, 157.51, 157.776, 158.782, 157.982, 157.742, 157.878, 157.332, 158.26, 158.97, 158.982, 159.316, 158.884, 160.052, 157.314, 159.178, 157.34, 158.714, 159.25, 158.334, 158.782, 157.512, 158.69, 158.144, 157.674, 160.028, 160.038, 158.792, 158.63, 157.846, 157.244, 159.098, 159.17, 160.092, 159.854, 159.336, 158.318, 159.398, 159.74, 158.428, 158.656, 157.922, 159.516, 157.31, 158.92, 158.97, 158.914, 159.632, 159.796, 158.692, 157.722, 158.542, 157.382, 157.682, 158.046, 159.364, 158.072, 158.494, 158.57, 158.504, 158.482, 159.344, 158.796, 158.47, 158.112, 158.122, 157.308, 157.764, 157.968, 159.004, 158.8, 158.044, 159.27, 158.954, 157.566, 159.41, 158.63, 157.176, 158.052, 158.144, 158.862, 157.86, 158.15, 158.886, 159.264, 158.766, 157.802, 157.298, 157.178, 158.126, 158.154, 157.31, 158.252, 158.21, 158.886, 158.51, 158.742, 160.354, 158.016, 157.52, 157.182, 157.348, 158.424, 159.11, 158.386, 158.582, 159.594, 157.796, 158.99, 158.224, 157.944, 158.766, 159.218, 158.952, 160.296, 157.524, 158.564, 158.994, 159.222, 158.306, 158.656, 160.81, 156.914, 159.85, 157.34, 159.496, 159.076, 157.892, 158.078, 158.292, 159.178, 157.79, 158.676, 159.4, 157.788, 157.934, 159.764, 159.326, 159.108, 158.464, 157.606, 157.424, 158.316, 158.464, 158.278, 157.844, 158.734, 158.804, 158.984, 158.496, 159.206, 158.336, 159.014, 160.602, 156.628, 158.784, 158.42, 159.67, 158.548, 158.668, 158.558, 158.218, 158.242, 159.448, 157.228, 159.312, 159.246, 158.574, 157.932, 159.936, 158.934, 157.412, 159.73, 158.628, 158.226, 160.46, 159.678, 158.912, 158.366, 158.224, 158.58, 158.542, 158.096, 159.16, 158.042, 158.098, 158.526, 158.82, 158.95, 158.242, 158.746, 159.176, 157.302, 157.56, 160.254, 160.22, 158.386, 157.23, 158.342, 159.118, 158.2, 158.002, 158.43, 159.68, 158.6, 158.968, 158.11, 159.572, 157.93, 158.202, 158.628, 158.432, 158.554, 158.588, 159.33, 157.882, 158.672, 159.426, 158.54, 159.894, 157.282, 159.992, 159.308, 158.558, 158.524, 156.942, 159.258, 158.484, 158.128, 159.456, 159.06, 157.056, 159.41, 157.934, 158.376, 159.908, 159.116, 159.838, 158.938, 158.224, 158.982, 157.79, 158.762, 157.75, 160.878, 158.168, 159.616, 158.132, 158.444, 158.336, 157.806, 160.242, 158.778, 157.494, 159.62, 158.056, 158.63, 158.868, 158.582, 158.54, 157.684, 158.012, 158.23, 159.216, 159.802, 157.968, 158.878, 157.634, 158.236, 156.438, 157.748, 157.77, 157.352, 158.546, 158.814, 158.254, 157.762, 158.134, 159.12, 158.464, 158.366, 158.176, 157.708, 157.274, 159.026, 159.724, 159.276, 156.932, 158.728, 157.858, 158.958, 158.196, 158.292, 159.274, 157.936, 158.264, 157.592, 157.138, 158.052, 157.644, 158.488, 158.624, 158.31, 159.322, 158.304, 157.076, 158.916, 159.59, 159.72, 158.43, 158.766, 158.188, 157.68, 157.858, 157.964, 156.292, 158.958, 157.93, 160.178, 159.558, 158.068, 158.588, 159.684, 157.616, 158.934, 157.228, 158.148, 160.228, 158.678, 158.136, 157.3, 158.176, 158.51, 159.204, 157.334, 157.604, 159.032, 158.146, 159.24, 159.576, 158.63, 158.37, 157.67, 158.574, 157.828, 158.456, 159.256, 158.286, 159.68, 160.042, 157.906, 159.118, 158.05, 158.986, 159.216, 158.498, 158.192, 160.312, 157.676, 159.452, 159.524, 158.308, 157.746, 158.07, 158.894, 159.726, 158.24, 158.014, 157.824, 157.668, 158.498, 158.202, 157.058, 159.186, 158.066, 158.448, 159.076, 158.662, 159.356, 159.1, 158.33, 157.706, 158.39, 157.91, 158.384, 158.644, 159.082, 159.152, 160.45, 158.432, 158.588, 158.588, 157.514, 157.376, 159.444, 157.174, 158.138, 157.344, 158.536, 158.798, 157.972, 157.402, 158.504, 159.63, 159.014, 158.454, 158.342, 157.87, 158.202, 158.052, 156.52, 157.982, 158.11, 157.19, 158.562, 159.948, 157.936, 158.614, 157.296, 157.554, 158.316, 157.984, 159.368, 158.144, 157.94, 159.846, 157.47, 158.598, 158.132, 158.79, 159.818, 159.008, 158.578, 157.516, 157.7, 160.1, 158.84, 157.802, 158.526, 157.602, 159.574, 159.622, 158.608, 158.928, 157.598, 157.74, 159.972, 159.37, 157.754, 158.558, 158.232, 158.146, 158.134, 158.326, 157.514, 158.372, 157.312, 157.384, 158.688, 157.786, 159.262, 159.496, 158.022, 160.032, 157.224, 159.766, 159.294, 159.218, 157.812, 159.754, 159.12, 159.472, 156.686, 158.31, 159.17, 159.908, 157.136, 158.202, 157.876, 158.58, 157.352, 157.58, 158.206, 157.532, 157.966, 160.216, 158.074, 158.38, 158.71, 157.542, 157.892, 159.812, 158.994, 157.078, 157.516, 156.894, 159.772, 158.72, 157.916, 158.9, 159.308, 158.574, 159.312, 159.01, 157.944, 158.676, 158.736, 157.896, 158.742, 158.228, 158.82, 157.962, 159.066, 159.826, 159.478, 159.614, 159.042, 158.57, 159.342, 159.014, 158.926, 159.296, 158.538, 159.654, 159.41, 158.06, 157.266, 157.336, 159.298, 157.504, 159.098, 157.718, 157.286, 159.074, 159.618, 157.914, 158.214, 157.99, 156.996, 158.27, 158.572, 157.706, 157.554, 157.6, 157.75, 157.12, 159.084, 156.46, 158.17, 157.042, 158.086, 159.82, 157.822, 159.804, 157.59, 157.532, 158.4, 158.274, 158.71, 158.692, 157.894, 158.482, 158.758, 157.6, 158.98, 157.636, 158.842, 157.942, 157.112, 161.538, 159.328, 158.622, 157.786, 158.146, 158.554, 158.326, 158.632, 159.502, 159.716, 157.958, 159.974, 158.534, 161.22, 157.73, 158.332, 158.334, 160.312, 158.088, 158.706, 158.02, 158.946, 158.86, 159.5, 158.412, 158.572, 158.586, 158.346, 160.086, 158.89, 158.578, 158.63, 158.838, 159.292, 158.868, 157.83, 158.552, 158.964, 157.662, 159.72, 158.012, 159.106, 157.724, 159.766, 158.602, 159.172, 157.654, 158.55, 158.892, 158.972, 156.71, 157.918, 159.096, 157.198, 158.43, 157.914, 158.728, 160.162, 159.426, 159.216, 158.036, 158.268, 158.308, 160.31, 157.786, 157.002, 157.518, 157.928, 158.398, 159.068, 157.488, 158.828, 158.522, 158.27, 158.582, 158.974, 158.084, 159.616, 158.698, 158.538, 159.582, 157.666, 158.438, 158.434, 159.856, 160.002, 159.43, 158.382, 158.65, 156.704, 157.676, 158.864, 159.226, 159.87, 159.528, 159.208, 158.35, 158.876, 157.774, 159.768, 158.768, 159.372, 158.472, 159.438, 158.738, 157.984, 158.306, 158.22, 159.274, 157.302, 157.646, 158.684, 158.14, 158.728, 158.582, 158.354, 156.75, 159.812, 158.632, 158.568, 158.844, 158.224, 157.348, 158.822, 160.346, 156.81, 158.286, 158.888, 158.838, 158.586, 159.806, 157.856, 159.448, 157.97, 157.952, 159.274, 158.256, 159.056, 159.15, 159.172, 158.394, 157.626, 157.77, 157.404, 157.866, 158.348, 157.674, 158.658, 159.122, 157.936, 157.678, 158.266, 159.38, 158.258, 158.234, 158.91, 157.836, 159.034, 160.152, 158.04, 160.03, 158.682, 158.344, 157.29, 159.45, 158.57, 157.632, 159.78, 160.538, 157.178, 158.67, 158.588, 159.854, 158.626, 158.454, 158.296, 158.814, 158.792, 158.094, 157.412, 158.348, 157.002, 157.408, 159.154, 160.524, 160.438, 158.36, 159.272, 160.01, 158.102, 157.114, 159.166, 157.608, 158.466, 159.264, 158.398, 158.482, 158.47, 157.944, 157.554, 159.582, 158.566, 157.802, 158.432, 158.018, 158.078, 157.642, 157.164, 158.738, 158.274, 157.578, 159.892, 159.112, 158.682, 159.698, 157.624, 158.784, 159.792, 158.836, 158.892, 158.262, 158.574, 158.92, 156.514, 159.228, 159.236, 158.638, 159.752, 157.036, 157.258, 158.674, 160.726, 157.576, 159.672, 157.986, 158.898, 159.066, 158.026, 158.662, 158.038, 157.034, 158.008, 160.064, 159.43, 159.016, 158.392, 156.08, 158.666, 159.466, 158.092, 158.702, 159.128, 159.018, 158.102, 158.75, 159.14, 158.08, 156.994, 157.94, 159.738, 156.546, 158.186, 158.494, 159.472, 159.236, 158.414, 157.456, 158.752, 157.874, 160.334, 157.074, 156.708, 158.79, 158.514, 160.11, 157.27, 156.734, 158.882, 158.456, 158.392, 159.624, 157.246, 159.37, 157.608, 159.506, 158.144, 159.1, 158.99, 158.094, 160.05, 157.888, 158.52, 157.936, 158.152, 159.166, 158.282, 157.218, 159.616, 157.982, 159.928, 158.332, 157.886, 157.836, 158.054, 157.69, 157.804, 158.67, 158.666, 158.498, 157.302, 158.822, 159.202, 158.008, 157.448, 158.466, 159.752, 159.812, 158.482, 158.866, 157.89, 156.936, 158.866, 157.176, 158.786, 158.646, 158.642, 158.87, 158.962, 156.526, 159.376, 158.592, 158.674, 159.79, 158.248, 158.098, 158.546, 158.018, 159.646, 158.07, 159.6, 158.0, 158.276, 159.776, 158.124, 159.196, 158.602, 158.116, 158.272, 158.494, 157.178, 158.616, 159.538, 159.156, 157.318, 157.232, 157.404, 159.95, 157.53, 159.28, 156.532, 157.46, 158.664, 160.246, 158.046, 157.542, 159.01, 158.244, 159.93, 157.724, 158.644, 158.288, 156.546, 158.01, 158.068, 159.714, 156.55, 158.096, 159.038, 158.562, 157.348, 157.156, 157.734, 158.11, 157.696, 157.304, 157.958, 157.616, 158.912, 157.05, 158.028, 158.606, 159.674, 158.796, 159.736, 158.544, 159.8, 159.338, 159.248, 158.608, 158.806, 159.616, 157.186, 160.022, 160.026, 158.434, 158.012, 158.048, 159.32, 157.98, 158.592, 158.514, 157.682, 157.208, 158.884, 157.98, 157.008, 158.24, 159.772, 157.744, 159.548, 158.106, 158.71, 156.166, 159.2, 157.162, 157.65, 158.43, 158.868, 158.098, 159.654, 158.906, 158.774, 159.502, 157.748, 158.6, 159.76, 157.338, 159.272, 158.06, 158.882, 159.308, 158.792, 158.156, 158.906, 157.55, 160.158, 158.184, 160.068, 158.112, 157.93, 159.56, 157.02, 159.406, 158.9, 160.47, 158.776, 157.494, 158.096, 159.53, 158.342, 158.664, 158.558, 160.146, 157.016, 158.508, 159.652, 158.686, 157.298, 159.368, 157.94, 157.558, 158.574, 157.634, 158.992, 159.436, 158.768, 157.57, 158.916, 158.654, 158.348, 158.8, 158.972, 158.438, 158.69, 159.436, 157.838, 157.936, 158.38, 159.02, 158.026, 157.14, 159.592, 158.214, 157.766, 158.094, 157.742, 159.298, 158.014, 158.012, 155.442, 158.086, 158.644, 159.886, 157.758, 157.696, 157.41, 157.136, 159.604, 157.194, 158.446, 156.652, 158.994, 158.708, 160.184, 159.148, 158.272, 159.154, 157.964, 156.682, 157.754, 159.394, 158.398, 158.724, 159.05, 158.948, 158.504, 158.93, 157.632, 160.272, 158.44, 160.192, 157.46, 159.376, 158.706, 158.918, 158.636, 157.744, 159.134, 158.968, 157.478, 157.998, 159.09, 158.576, 159.088, 159.208, 159.144, 158.882, 158.648, 158.482, 158.74, 158.834, 158.728, 158.402, 156.284, 157.576, 159.778, 156.99, 157.934, 159.224, 158.486, 160.658, 159.118, 158.24, 157.378, 158.38, 157.33, 159.468, 157.48, 157.358, 159.162, 158.01, 157.434, 159.534, 157.91, 158.032, 157.472, 160.346, 158.038, 159.422, 157.488, 159.658, 159.82, 158.546, 157.636, 159.484, 158.79, 156.776, 158.16, 157.504, 158.354, 156.388, 156.438, 157.222, 159.656, 157.164, 158.498, 157.686, 159.05, 158.546, 160.66, 158.412, 159.514, 156.574, 157.452, 157.888, 158.272, 158.88, 158.996, 158.24, 157.708, 159.814, 157.028, 158.222, 159.5, 158.48, 158.89, 157.732, 157.788, 158.412, 159.364, 157.854, 157.17, 158.618, 157.9, 157.746, 158.176, 159.678, 157.364, 160.31, 158.708, 157.756, 158.026, 157.966, 157.04, 159.388, 158.57, 158.12, 158.24, 159.382, 159.918, 158.578, 157.314, 157.99, 158.994, 158.154, 159.29, 160.19, 159.34, 161.256, 159.796, 158.702, 159.592, 157.868, 158.424, 160.454, 159.05, 159.086, 158.376, 156.64, 158.802, 158.122, 158.352, 159.824, 158.366, 160.03, 158.274, 159.074, 158.448, 159.482, 158.57, 159.458, 158.602, 159.588, 158.39, 158.792, 159.18, 158.872, 157.714, 159.746, 157.754, 158.28, 159.184, 158.878, 156.716, 158.846, 158.072, 158.796, 156.184, 158.28, 157.47, 156.476, 159.67, 160.33, 158.808, 159.414, 158.878, 157.58, 158.982, 160.192, 157.818, 156.926, 158.71, 158.148, 157.822, 157.514, 159.178, 156.476, 159.982, 157.574, 159.618, 157.844, 159.068, 159.288, 158.234, 160.926, 159.08, 158.64, 158.856, 157.64, 158.746, 159.158, 157.34, 160.254, 159.298, 158.052, 158.692, 157.454, 159.318, 157.268, 159.644, 158.782, 158.598, 158.928, 158.876, 158.806, 158.06, 158.066, 159.074, 158.91, 156.348, 158.74, 158.922, 160.07, 157.388, 158.694, 158.478, 157.1, 158.27, 159.426, 158.734, 157.838, 158.792, 158.994, 157.146, 156.758, 158.646, 158.88, 157.322, 159.022, 157.772, 156.526, 159.088, 159.2, 158.308, 159.17, 158.228, 157.234, 160.56, 157.35, 158.886, 158.624, 158.2, 159.61, 157.84, 159.696, 157.502, 158.012, 159.32, 158.904, 158.278, 159.56, 158.664, 158.782, 157.96, 158.23, 157.152, 159.49, 159.59, 157.894, 158.782, 156.782, 157.39, 158.944, 159.656, 158.112, 157.992, 157.616, 159.286, 156.904, 160.28, 158.216, 159.664, 157.468, 158.368, 159.026, 160.37, 160.334, 158.734, 157.244, 157.356, 157.934, 158.964, 157.744, 158.71, 158.24, 158.552, 159.084, 158.226, 158.462, 158.646, 158.92, 157.55, 158.192, 158.082, 158.772, 158.95, 158.314, 158.278, 159.122, 156.598, 158.58, 158.364, 159.146, 157.504, 158.508, 156.946, 158.51, 157.866, 157.824, 158.73, 158.358, 159.718, 158.572, 159.524, 159.424, 158.128, 158.474, 158.06, 157.376, 159.374, 159.818, 159.268, 157.55, 157.904, 158.476, 159.038, 158.564, 157.872, 158.438, 157.38, 157.474, 159.9, 156.706, 159.51, 157.704, 157.158, 157.23, 157.53, 158.5, 158.226, 158.558, 157.71, 156.908, 158.61, 159.494, 157.304, 159.09, 158.186, 158.876, 157.506, 159.186, 159.098, 159.464, 158.972, 158.322, 158.278, 157.914, 157.398, 156.932, 157.976, 158.158, 157.14, 157.76, 158.376, 158.188, 159.278, 158.702, 159.338, 157.036, 159.64, 157.504, 158.144, 158.944, 160.404, 159.642, 157.72, 159.872, 157.234, 158.884, 159.31, 158.908, 159.452, 158.336, 156.772, 159.702, 156.844, 159.132, 159.264, 158.64, 159.294, 158.87, 157.868, 157.312, 159.062, 158.844, 158.844, 158.368, 159.906, 160.31, 158.472, 158.718, 159.124, 157.244, 158.232, 158.15, 157.002, 159.722, 157.89, 159.15, 157.926, 158.49, 158.41, 158.734, 158.72, 158.192, 158.74, 158.178, 157.868, 157.968, 159.008, 158.314, 157.716, 158.562, 157.378, 157.762, 159.29, 157.678, 157.404, 158.768, 157.838, 159.324, 159.498, 158.61, 160.66, 159.344, 158.024, 160.326, 159.174, 159.106, 158.672, 158.302, 158.43, 157.24, 158.868, 159.99, 157.036, 156.48, 158.694, 158.326, 157.168, 157.998, 159.118, 157.972, 159.322, 158.568, 158.052, 158.402, 157.734, 158.91, 157.046, 158.574, 159.774, 158.892, 159.826, 158.014, 158.678, 158.162, 157.956, 157.498, 159.544, 157.246, 157.388, 159.118, 158.914, 158.916, 159.468, 157.856, 156.838, 157.446, 159.45, 159.052, 159.872, 158.682, 159.022, 158.568, 157.666, 160.964, 157.45, 159.48, 157.164, 159.252, 158.36, 157.916, 158.466, 158.156, 157.528, 158.044, 158.164, 160.744, 158.204, 159.086, 159.498, 159.282, 159.104, 159.72, 158.546, 158.898, 158.094, 158.424, 158.2, 158.54, 158.62, 159.094, 160.18, 158.994, 158.586, 159.002, 159.308, 160.126, 160.232, 158.008, 158.022, 158.13, 159.09, 158.042, 159.282, 159.184, 159.302, 158.078, 160.138, 157.488, 157.872, 158.094, 159.358, 157.728, 158.992, 157.73, 158.338, 158.512, 158.996, 157.818, 156.694, 157.296, 156.928, 158.154, 158.498, 159.28, 158.93, 159.144, 158.486, 159.146, 158.314, 158.248, 157.236, 158.162, 157.638, 158.676, 158.618, 158.58, 157.994, 159.016, 160.046, 160.586, 156.682, 158.304, 159.02, 158.47, 157.606, 159.174, 159.058, 157.286, 159.34, 158.388, 157.98, 157.972, 158.564, 158.966, 157.838, 159.08, 158.546, 158.13, 158.342, 159.106, 158.276, 157.462, 158.384, 159.51, 158.142, 159.422, 159.482, 159.314, 158.968, 159.014, 158.504, 158.054, 158.592, 157.568, 158.278, 159.122, 157.028, 157.45, 158.654, 158.996, 159.524, 157.552, 157.776, 157.196, 158.87, 158.814, 159.2, 157.772, 160.172, 156.272, 159.168, 158.134, 159.604, 157.212, 158.16, 157.772, 158.192, 158.286, 157.97, 159.426, 156.51, 160.352, 155.712, 159.798, 158.77, 158.2, 159.054, 158.586, 158.71, 158.026, 158.636, 158.032, 157.666, 160.13, 159.206, 157.54, 158.238, 159.07, 159.718, 157.75, 157.388, 158.104, 158.094, 159.622, 158.518, 157.716, 159.386, 159.496, 158.138, 157.854, 158.584, 157.582, 159.392, 158.274, 158.68, 159.532, 159.814, 158.268, 158.906, 158.868, 160.316, 158.446, 157.318, 158.392, 158.966, 157.366, 158.478, 157.784, 158.652, 158.632, 159.956, 159.13, 159.648, 157.114, 158.634, 159.064, 159.038, 159.32, 157.906, 159.664, 158.42, 159.404, 158.268, 159.252, 157.256, 158.56, 160.548, 158.646, 159.098, 158.996, 157.91, 157.82, 158.342, 158.372, 157.032, 159.594, 158.212, 158.456, 158.414, 158.888, 159.316, 159.104, 158.39, 158.104, 158.86, 159.418, 157.868, 160.336, 158.978, 158.23, 158.952, 157.936, 159.088, 158.954, 159.642, 160.424, 158.704, 157.832, 158.892, 160.0, 159.38, 158.572, 159.296, 159.584, 158.144, 159.156, 155.956, 159.18, 159.49, 159.072, 158.438, 158.698, 158.05, 159.532, 158.068, 157.792, 158.502, 160.332, 159.238, 158.742, 157.842, 156.782, 159.642, 157.782, 158.952, 158.594, 159.286, 158.174, 158.372, 157.912, 157.95, 157.326, 159.072, 158.984, 157.842, 157.806, 157.152, 159.74, 158.16, 159.012, 158.74, 159.102, 159.548, 158.744, 158.892, 158.468, 157.94, 157.42, 158.73, 159.148, 158.392, 158.864, 158.682, 158.588, 159.21, 157.976, 158.908, 159.402, 158.17, 159.054, 158.726, 158.488, 158.754, 158.562, 158.576, 158.9, 158.228, 159.0, 158.308, 158.126, 158.234, 159.184, 158.298, 158.428, 158.008, 159.278, 157.046, 159.018, 160.908, 158.548, 158.26, 158.602, 157.696, 157.382, 158.358, 158.43, 158.402, 159.496, 158.206, 156.874, 158.974, 159.066, 159.556, 158.666, 157.858, 158.572, 159.422, 156.768, 158.746, 158.614, 159.098, 157.402, 158.866, 157.75, 160.12, 158.33, 158.156, 157.418, 158.976, 157.816, 159.14, 158.764, 158.586, 157.762, 158.346, 159.238, 158.66, 158.45, 158.446, 158.392, 159.084, 159.714, 158.89, 158.268, 158.842, 160.12, 159.962, 157.972, 158.952, 159.666, 157.73, 158.246, 158.644, 158.096, 157.92, 158.416, 159.618, 160.08, 158.928, 159.65, 156.876, 158.366, 159.286, 157.778, 159.304, 160.754, 158.872, 160.114, 157.852, 159.792, 158.714, 158.982, 157.838, 157.546, 159.0, 159.682, 159.322, 157.162, 159.548, 158.866, 157.578, 159.096, 159.012, 158.42, 158.498, 158.41, 157.346, 158.836, 158.62, 158.356, 158.648, 158.846, 158.492, 157.974, 157.252, 159.884, 159.122, 158.666, 158.194, 159.484, 158.142, 159.206, 157.966, 158.462, 159.022, 159.156, 159.198, 159.208, 158.914, 158.544, 157.018, 158.642, 157.96, 158.398, 158.456, 157.52, 159.216, 158.978, 157.4, 159.374, 157.606, 157.43, 158.734, 158.646, 157.358, 159.502, 158.476, 157.218, 157.776, 159.246, 157.856, 159.22, 160.44, 158.392, 157.192, 157.968, 158.248, 157.902, 157.988, 158.454, 158.06, 158.838, 158.734, 159.094, 158.414, 158.032, 159.318, 158.148, 158.326, 157.748, 159.786, 159.68, 159.368, 157.532, 157.104, 157.714, 159.458, 157.862, 159.302, 159.576, 157.738, 158.57, 157.666, 158.282, 157.726, 157.704, 159.85, 158.438, 158.312, 159.9, 158.044, 157.606, 158.054, 157.846, 157.734, 157.086, 158.358, 158.488, 157.198, 157.788, 158.166, 158.844, 158.114, 160.136, 159.46, 158.442, 159.276, 159.694, 158.578, 157.816, 159.852, 160.448, 157.624, 157.482, 158.556, 160.206, 159.798, 158.978, 157.974, 158.716, 157.504, 158.528, 159.864, 157.882, 158.7, 157.672, 156.668, 158.234, 159.118, 158.128, 157.694, 158.268, 158.614, 159.214, 159.36, 159.688, 158.484, 159.786, 157.772, 156.626, 159.988, 157.896, 158.53, 159.084, 160.608, 159.314, 157.596, 157.534, 157.36, 158.432, 157.588, 157.888, 158.75, 158.22, 158.7, 157.744, 157.136, 158.926, 158.568, 157.858, 159.786, 157.248, 160.116, 158.298, 157.726, 158.362, 158.908, 158.776, 159.026, 160.542, 159.156, 158.402, 157.564, 159.24, 159.816, 159.198, 159.15, 158.656, 157.616, 157.17, 159.756, 157.324, 159.31, 158.464, 158.268, 158.45, 159.512, 158.696, 159.304, 157.42, 159.046, 156.904, 159.758, 157.018, 157.768, 159.542, 159.522, 157.092, 157.544, 158.822, 159.174, 157.694, 158.904, 157.634, 158.822, 160.204, 158.36, 159.186, 158.756, 158.49, 157.868, 159.308, 158.024, 159.254, 157.702, 158.974, 157.63, 160.092, 158.944, 156.946, 158.582, 159.244, 160.312, 157.516, 157.644, 158.18, 159.41, 158.254, 158.25, 157.792, 158.564, 160.446, 156.978, 158.298, 157.748, 158.128, 156.89, 158.536, 158.99, 158.016, 159.344, 159.39, 157.488, 159.568, 157.524, 159.262, 158.926, 157.658, 157.744, 157.76, 157.938, 158.78, 158.208, 157.74, 159.266, 159.708, 156.904, 157.426, 158.91, 157.858, 157.822, 158.336, 159.392, 157.782, 157.744, 159.178, 158.2, 157.756, 157.844, 158.354, 158.328, 158.156, 157.478, 158.46, 160.204, 158.2, 158.876, 156.99, 157.728, 159.9, 158.708, 159.346, 159.476, 159.012, 158.562, 156.268, 158.508, 156.954, 157.096, 159.578, 157.36, 159.292, 157.226, 159.17, 158.94, 159.154, 159.356, 157.482, 157.754, 158.218, 158.556, 159.376, 157.206, 158.786, 158.718, 158.928, 159.376, 158.938, 157.72, 158.666, 159.296, 157.83, 157.998, 160.076, 158.962, 159.748, 158.86, 158.446, 158.246, 160.576, 158.694, 157.978, 158.568, 158.046, 159.904, 158.55, 159.654, 159.52, 158.674, 158.026, 158.778, 159.224, 157.748, 158.02, 157.978, 158.64, 160.45, 158.358, 159.444, 158.276, 160.156, 158.208, 157.952, 158.128, 158.98, 158.586, 158.114, 158.758, 158.42, 159.026, 158.922, 157.396, 159.13, 157.868, 161.124, 158.624, 158.156, 158.676, 158.758, 159.088, 160.322, 158.07, 156.906, 159.396, 160.432, 159.466, 158.996, 159.522, 156.95, 158.32, 156.948, 158.03, 159.22, 159.252, 156.59, 157.826, 156.982, 158.056, 158.03, 156.406, 158.826, 159.746, 157.904, 158.57, 157.8, 157.77, 156.812, 158.114, 159.182, 159.212, 159.644, 158.156, 158.832, 158.034, 157.9, 158.488, 158.962, 158.718, 158.694, 158.366, 158.496, 159.154, 158.836, 158.482, 157.192, 158.032, 159.802, 158.66, 158.834, 157.238, 157.022, 157.982, 158.76, 157.364, 158.392, 159.108, 158.888, 159.626, 159.138, 157.432, 158.242, 158.148, 157.03, 159.508, 157.994, 157.674, 157.936, 158.194, 157.722, 160.328, 160.166, 158.01, 158.408, 158.552, 157.444, 159.082, 158.46, 157.34, 157.5, 159.46, 158.262, 158.032, 158.72, 159.626, 159.17, 158.054, 157.308, 157.974, 158.9, 158.158, 159.988, 157.804, 157.884, 157.566, 158.94, 159.048, 158.67, 159.124, 159.992, 159.328, 158.778, 157.738, 159.456, 158.252, 158.306, 158.87, 157.756, 157.238, 158.472, 157.868, 158.946, 159.22, 160.934, 157.776, 157.844, 158.914, 159.304, 159.362, 159.996, 158.294, 159.192, 158.954, 160.246, 158.326, 159.9, 160.034, 157.282, 156.424, 157.616, 158.256, 157.444, 159.072, 157.2, 158.982, 158.128, 158.86, 160.026, 158.364, 158.378, 159.33, 158.402, 160.42, 158.48, 159.81, 158.796, 157.964, 157.518, 158.658, 158.77, 157.264, 158.31, 158.744, 159.148, 157.982, 159.244, 157.702, 158.882, 156.968, 158.736, 157.99, 159.288, 159.09, 159.032, 157.056, 157.34, 159.51, 157.69, 159.192, 159.364, 158.7, 157.214, 158.226, 157.506, 159.136, 158.98, 158.046, 158.348, 158.402, 157.872, 159.244, 157.46, 158.874, 157.852, 159.112, 159.136, 157.788, 158.728, 156.86, 157.862, 156.334, 158.114, 160.06, 159.642, 158.734, 157.074, 158.37, 157.366, 157.642, 158.03, 158.502, 159.926, 157.548, 158.418, 157.59, 158.168, 158.384, 159.61, 159.072, 158.664, 157.404, 159.082, 159.676, 156.458, 157.78, 157.832, 159.58, 158.776, 159.576, 158.186, 156.144, 157.61, 158.84, 158.4, 157.302, 158.108, 157.054, 157.546, 158.506, 160.556, 158.252, 158.736, 157.91, 158.96, 157.994, 158.228, 158.676, 158.596, 158.326, 157.272, 160.26, 158.276, 159.54, 159.024, 157.326, 159.122, 159.47, 158.37, 158.526, 159.62, 159.116, 157.56, 158.656, 159.31, 158.452, 157.34, 159.33, 159.012, 158.178, 156.742, 158.036, 157.342, 159.308, 156.42, 158.87, 157.976, 159.006, 158.558, 158.484, 158.164, 158.464, 156.7, 158.728, 159.584, 158.786, 159.804, 158.982, 159.042, 159.476, 159.938, 158.018, 157.784, 160.754, 159.844, 159.734, 157.894, 160.186, 158.088, 158.022, 158.216, 157.136, 159.554, 158.492, 158.524, 158.578, 157.808, 158.374, 158.684, 158.466, 157.858, 158.422, 159.552, 159.106, 157.936, 158.084, 157.758, 158.178, 158.264, 158.288, 158.608, 158.768, 156.276, 159.234, 159.014, 159.264, 159.11, 156.45, 159.16, 157.818, 157.702, 158.346, 159.566, 159.536, 158.698, 157.456, 160.924, 157.14, 158.45, 158.466, 160.608, 159.962, 158.7, 157.326, 157.71, 157.514, 160.34, 157.29, 157.682, 158.652, 159.078, 157.034, 159.148, 157.922, 158.18, 158.764, 159.292, 158.728, 159.55, 158.308, 159.012, 158.18, 157.406, 159.202, 158.7, 159.47, 158.348, 159.512, 158.838, 157.536, 158.586, 158.862, 158.18, 159.382, 158.194, 157.706, 159.188, 159.182, 157.254, 158.126, 158.944, 158.37, 159.156, 158.258, 158.724, 158.612, 157.018, 159.886, 157.034, 160.218, 158.704, 158.844, 158.35, 159.034, 158.4, 157.952, 158.014, 157.9, 158.36, 157.964, 158.202, 157.572, 159.058, 159.848, 159.122, 156.828, 157.218, 158.96, 158.498, 158.522, 158.746, 158.358, 160.064, 160.104, 157.928, 158.378, 156.95, 159.196, 158.198, 157.794, 157.826, 158.87, 159.282, 159.03, 158.596, 158.094, 159.15, 157.762, 158.856, 158.868, 156.988, 158.17, 158.648, 159.384, 159.518, 157.408, 159.154, 158.308, 158.764, 157.008, 158.424, 158.06, 157.534, 160.008, 157.752, 158.166, 157.364, 158.554, 158.964, 158.036, 157.724, 159.458, 158.058, 159.324, 158.55, 158.284, 159.888, 159.46, 157.812, 158.672, 158.286, 158.264, 158.764, 158.564, 158.284, 157.884, 157.952, 158.364, 159.09, 158.774, 157.704, 159.738, 158.672, 158.394, 158.952, 159.716, 158.944, 160.252, 158.22, 158.79, 157.494, 157.494, 157.256, 157.96, 159.676, 157.634, 158.392, 159.544, 159.468, 159.264, 159.704, 156.466, 159.104, 159.024, 159.628, 158.724, 158.554, 157.33, 158.218, 158.042, 160.97, 158.074, 158.354, 157.95, 158.452, 158.11, 159.116, 159.042, 159.22, 158.976, 158.046, 159.782, 159.09, 157.142, 159.33, 157.936, 158.022, 159.132, 159.834, 157.782, 159.17, 158.076, 158.844, 158.454, 159.122, 158.674, 159.418, 158.56, 157.598, 159.426, 157.966, 158.736, 158.682, 158.43, 158.406, 159.706, 158.026, 159.464, 160.522, 159.306, 158.056, 158.822, 159.014, 157.026, 158.918, 158.24, 159.486, 158.492, 160.418, 157.592, 159.92, 158.848, 158.58, 158.864, 158.824, 158.576, 159.446, 158.888, 159.412, 158.216, 159.122, 158.806, 158.48, 159.344, 159.482, 159.046, 157.656, 158.284, 158.278, 158.916, 159.046, 157.432, 157.596, 159.788, 158.422, 156.99, 159.464, 158.27, 159.2, 158.924, 158.538, 158.888, 158.746, 157.006, 158.716, 159.414, 160.012, 157.696, 158.464, 156.706, 158.412, 159.256, 157.9, 158.594, 158.048, 158.914, 160.242, 157.76, 157.684, 158.53, 159.084, 157.086, 158.302, 158.788, 156.9, 158.4, 158.802, 158.664, 157.894, 158.764, 157.422, 157.814, 158.728, 157.842, 158.928, 158.522, 158.888, 159.144, 159.02, 157.964, 157.862, 158.95, 158.466, 158.698, 158.79, 158.228, 158.072, 158.52, 159.726, 158.418, 159.384, 157.768, 159.294, 158.898, 159.058, 158.292, 159.706, 158.526, 157.462, 158.774, 158.454, 158.882, 159.272, 158.72, 158.934, 158.416, 157.214, 160.236, 159.39, 160.188, 158.916, 157.936, 157.544, 158.91, 159.854, 158.476, 158.464, 158.722, 156.88, 159.098, 157.902, 158.532, 159.11, 160.268, 157.862, 156.156, 158.91, 159.424, 159.01, 158.134, 158.168, 157.36, 159.68, 159.15, 158.52, 159.224, 159.352, 156.572, 158.12, 157.704, 158.268, 159.404, 157.992, 157.322, 157.768, 158.536, 158.558, 158.076, 158.854, 159.224, 158.044, 158.362, 157.6, 158.792, 159.254, 157.356, 158.896, 157.69, 160.108, 159.442, 158.458, 157.618, 157.976, 160.158, 156.686, 158.69, 158.366, 158.728, 159.488, 158.752, 157.42, 158.754, 157.204, 159.706, 160.028, 157.764, 157.81, 157.144, 157.928, 158.046, 159.438, 157.704, 158.434, 158.142, 156.878, 157.322, 158.576, 157.674, 159.03, 157.598, 157.006, 156.68, 158.926, 156.708, 157.72, 158.91, 157.346, 158.576, 158.256, 158.598, 158.542, 158.902, 156.598, 159.148, 159.136, 157.932, 158.084, 158.662, 159.34, 159.53, 157.534, 160.406, 158.604, 156.856, 160.328, 158.232, 160.934, 159.234, 157.12, 158.038, 158.968, 158.238, 159.338, 157.206, 159.582, 159.446, 158.44, 159.258, 159.97, 158.912, 159.34, 157.952, 157.812, 159.102, 157.982, 157.978, 158.15, 159.628, 158.114, 158.928, 158.528, 158.4, 156.384, 156.602, 159.144, 159.78, 159.276, 158.968, 158.382, 157.856, 158.802, 159.066, 158.834, 157.956, 158.766, 158.196, 157.434, 158.252, 157.9, 159.438, 160.276, 157.924, 158.704, 158.524, 157.966, 158.876, 159.25, 157.81, 159.206, 158.158, 157.966, 158.02, 160.234, 158.882, 157.598, 157.56, 158.52, 158.06, 159.71, 157.734, 158.364, 158.578, 157.686, 158.216, 158.048, 156.77, 158.664, 158.886, 158.02, 158.74, 158.474, 158.598, 158.766, 159.68, 159.584, 160.02, 157.646, 158.43, 157.984, 157.996, 158.4, 158.29, 158.76, 158.734, 158.262, 157.56, 158.828, 157.814, 158.384, 159.918, 158.62, 160.648, 157.722, 158.338, 159.208, 159.948, 158.88, 160.132, 157.612, 158.888, 157.572, 159.514, 157.512, 157.322, 159.596, 158.814, 158.51, 157.314, 157.008, 158.306, 159.266, 158.33, 158.314, 158.148, 157.262, 157.926, 159.92, 158.562, 158.4, 160.236, 157.74, 157.216, 158.084, 157.122, 158.488, 159.784, 160.128, 157.556, 158.122, 159.214, 158.056, 156.414, 159.776, 158.266, 158.1, 159.066, 157.678, 157.74, 158.616, 157.042, 159.486, 158.086, 158.962, 157.356, 158.098, 156.662, 158.72, 159.578, 158.466, 158.776, 159.294, 160.012, 158.178, 158.302, 158.782, 159.826, 158.542, 157.724, 157.934, 157.994, 156.896, 157.034, 158.26, 160.248, 157.772, 158.216, 158.982, 158.186, 157.482, 159.064, 158.332, 157.638, 157.474, 159.598, 158.574, 159.482, 157.974, 157.118, 158.622, 157.774, 158.1, 159.45, 158.178, 159.076, 158.382, 157.618, 158.52, 158.988, 158.362, 159.804, 158.898, 157.158, 158.528, 157.912, 157.668, 158.372, 158.356, 157.41, 159.776, 158.202, 159.576, 157.236, 158.408, 158.212, 159.384, 157.674, 158.11, 157.848, 157.512, 158.448, 157.64, 159.54, 159.588, 158.44, 159.608, 158.17, 158.924, 158.602, 159.586, 157.844, 158.648, 159.08, 159.22, 157.974, 158.026, 158.72, 158.606, 157.864, 159.616, 159.316, 159.028, 159.054, 158.778, 159.064, 158.132, 157.738, 158.084, 158.742, 158.0, 157.562, 157.752, 159.736, 159.296, 159.03, 158.514, 158.466, 156.74, 158.86, 158.406, 157.75, 158.36, 157.948, 157.806, 158.286, 158.076, 158.242, 158.064, 157.706, 156.33, 158.03, 156.466, 158.79, 157.182, 157.66, 158.398, 158.506, 158.748, 158.598, 159.686, 159.308, 159.484, 159.434, 159.286, 158.214, 159.126, 159.526, 158.948, 158.07, 157.754, 159.608, 158.352, 157.882, 159.22, 158.608, 159.752, 158.126, 157.13, 158.184, 158.66, 157.588, 158.246, 158.144, 158.05, 159.318, 157.36, 160.466, 158.806, 159.038, 158.766, 158.15, 158.854, 158.486, 160.516, 158.292, 159.212, 159.058, 158.116, 156.832, 159.882, 157.97, 159.044, 156.516, 158.068, 159.09, 159.576, 157.92, 157.72, 159.012, 159.382, 157.952, 158.852, 160.49, 159.574, 158.65, 158.708, 158.668, 159.554, 157.158, 159.958, 158.622, 159.646, 158.842, 158.784, 158.974, 158.356, 158.82, 158.802, 157.346, 158.316, 157.68, 159.708, 159.72, 156.67, 158.914, 159.652, 157.688, 160.4, 158.546, 157.428, 157.548, 160.134, 157.61, 158.174, 156.446, 158.222, 160.108, 158.828, 159.066, 158.312, 159.258, 158.99, 158.406, 157.742, 158.244, 158.724, 158.404, 158.748, 158.124, 159.486, 158.74, 158.196, 159.782, 158.18, 159.972, 159.12, 159.166, 158.582, 159.744, 157.372, 159.496, 159.048, 158.738, 158.696, 157.62, 157.46, 158.946, 158.998, 157.792, 158.96, 157.332, 158.44, 159.216, 160.998, 157.526, 158.128, 156.874, 156.756, 158.584, 158.426, 158.774, 157.766, 158.334, 158.298, 159.87, 158.014, 158.144, 159.312, 158.102, 158.698, 159.292, 158.894, 157.776, 160.374, 158.72, 158.246, 158.792, 158.428, 159.028, 159.272, 158.974, 157.45, 157.216, 159.072, 158.942, 159.842, 158.614, 159.054, 159.046, 159.222, 158.186, 158.164, 159.17, 158.626, 158.01, 160.298, 157.932, 158.128, 158.254, 157.91, 158.864, 158.734, 158.368, 158.738, 158.832, 157.968, 158.288, 157.53, 159.394, 157.89, 158.766, 157.174, 157.816, 160.262, 158.528, 157.582, 157.71, 158.806, 157.93, 158.152, 158.388, 160.396, 158.976, 158.23, 158.942, 159.194, 158.644, 158.032, 158.012, 157.296, 158.4, 159.392, 157.876, 157.942, 158.34, 158.17, 157.376, 156.466, 158.74, 158.008, 158.84, 156.818, 158.478, 160.666, 158.238, 158.648, 158.494, 159.756, 158.532, 158.792, 158.974, 159.068, 158.49, 158.722, 158.912, 158.472, 158.86, 157.98, 158.416, 157.008, 159.236, 157.98, 159.138, 158.932, 158.49, 157.308, 158.368, 159.67, 157.842, 158.54, 156.916, 157.89, 158.832, 159.03, 159.262, 158.438, 158.548, 159.892, 158.352, 158.82, 158.27, 159.702, 158.564, 158.852, 158.918, 159.104, 158.92, 158.59, 158.034, 159.144, 158.474, 158.04, 156.994, 159.336, 159.148, 158.086, 157.742, 157.698, 158.944, 158.86, 159.46, 157.858, 156.91, 158.568, 158.444, 158.022, 158.706, 158.776, 160.678, 159.118, 159.08, 159.4, 158.65, 158.874, 159.018, 159.444, 160.256, 159.204, 158.954, 158.284, 159.118, 158.16, 158.78, 158.88, 157.846, 158.084, 159.826, 158.398, 158.104, 157.388, 158.946, 158.996, 158.712, 157.98, 159.764, 158.59, 158.89, 157.372, 158.484, 158.87, 157.1, 158.126, 158.334, 157.466, 157.652, 158.456, 159.06, 157.91, 157.298, 159.142, 159.484, 157.742, 157.464, 158.288, 158.848, 159.036, 158.812, 159.644, 156.51, 157.416, 157.086, 158.61, 159.398, 158.388, 157.81, 157.164, 159.416, 158.022, 156.438, 158.412, 158.822, 157.964, 158.858, 157.948, 156.932, 158.932, 160.32, 159.006, 159.726, 160.154, 158.216, 158.556, 160.184, 158.614, 158.446, 158.166, 159.176, 158.472, 158.972, 157.738, 157.75, 157.674, 159.66, 158.154, 157.972, 158.594, 158.244, 158.062, 157.922, 157.552, 158.206, 158.58, 157.638, 158.462, 157.978, 158.008, 158.34, 158.738, 158.602, 159.018, 158.836, 157.964, 157.678, 157.538, 159.524, 158.49, 159.516, 156.604, 158.456, 156.64, 158.122, 158.128, 158.432, 157.332, 159.248, 158.984, 158.148, 158.02, 158.59, 157.088, 158.19, 158.762, 158.908, 158.77, 157.788, 156.872, 157.584, 158.162, 157.652, 159.126, 158.85, 159.706, 157.944, 157.808, 157.718, 157.764, 158.476, 157.576, 159.496, 159.074, 158.35, 157.93, 159.472, 158.594, 158.098, 158.166, 159.154, 158.146, 160.176, 159.02, 158.486, 158.362, 158.772, 159.29, 158.48, 158.466, 157.532, 159.692, 157.702, 158.4, 156.73, 158.376, 158.268, 158.352, 158.776, 158.26, 159.98, 158.802, 158.73, 157.184, 155.5, 159.756, 158.306, 158.648, 157.714, 156.686, 158.394, 159.622, 158.572, 158.566, 157.636, 157.218, 158.676, 157.25, 158.644, 158.582, 157.794, 158.138, 158.872, 159.104, 157.954, 159.398, 157.908, 158.728, 159.282, 157.576, 159.004, 159.06, 158.966, 158.1, 159.592, 157.978, 159.44, 157.852, 159.61, 159.24, 159.108, 159.06, 159.652, 157.458, 158.868, 159.328, 158.49, 159.01, 158.362, 157.9, 158.736, 158.602, 159.244, 158.532, 159.488, 158.06, 157.34, 159.634, 157.512, 158.706, 159.57, 158.638, 158.722, 159.53, 157.934, 158.592, 157.65, 156.618, 157.992, 157.732, 157.226, 159.358, 157.948, 158.126, 158.49, 159.006, 159.974, 158.404, 157.914, 158.314, 158.83, 157.362, 157.508, 158.3, 157.96, 159.148, 159.468, 159.252, 158.87, 158.236, 158.462, 158.942, 157.666, 157.766, 158.404, 159.146, 157.25, 158.83, 157.72, 158.372, 157.864, 159.04, 159.272, 157.768, 159.212, 159.24, 157.856, 157.406, 158.08, 159.098, 158.428, 158.446, 159.888, 157.596, 157.96, 159.794, 157.212, 158.61, 158.872, 157.404, 159.534, 157.654, 158.814, 158.04, 157.944, 157.518, 159.734, 158.912, 157.268, 158.7, 158.336, 158.1, 159.038, 158.17, 158.714, 157.95, 158.43, 157.734, 159.754, 157.782, 158.354, 158.506, 158.23, 158.264, 158.1, 159.17, 158.848, 158.14, 157.482, 156.604, 158.746, 157.72, 160.364, 157.24, 158.82, 159.434, 158.096, 159.964, 157.468, 159.452, 158.482, 157.402, 158.188, 158.998, 158.098, 160.85, 158.042, 160.006, 157.444, 158.024, 157.882, 158.784, 159.244, 158.224, 157.8, 159.534, 157.476, 158.64, 158.204, 157.254, 158.198, 159.054, 159.706, 158.994, 157.488, 158.55, 158.244, 158.232, 160.772, 157.718, 159.136, 157.67, 157.908, 158.18, 158.042, 157.306, 158.234, 158.286, 157.93, 159.052, 159.134, 158.594, 157.812, 158.51, 158.602, 159.056, 158.904, 158.444, 157.65, 159.16, 156.924, 158.19, 157.54, 158.346, 159.29, 158.108, 159.18, 160.668, 157.708, 158.332, 158.408, 158.224, 158.72, 157.944, 159.048, 158.324, 159.648, 161.544, 157.204, 157.132, 159.03, 158.732, 159.486, 157.888, 159.688, 159.046, 160.14, 157.162, 160.618, 159.096, 157.596, 157.034, 156.826, 157.498, 159.5, 158.66, 159.086, 157.24, 158.99, 159.356, 157.2, 158.344, 158.18, 157.814, 158.528, 158.114, 158.708, 158.806, 158.194, 158.196, 158.11, 159.218, 158.434, 157.364, 158.544, 159.98, 159.184, 158.054, 156.406, 158.3, 158.554, 157.786, 158.212, 159.436, 156.696, 158.458, 158.818, 158.322, 159.31, 158.446, 158.944, 160.03, 160.17, 159.488, 158.214, 158.142, 157.482, 157.52, 159.384, 157.748, 159.008, 158.12, 158.532, 157.15, 158.112, 158.914, 158.878, 157.974, 160.09, 159.248, 157.138, 158.716, 158.714, 157.858, 159.006, 158.236, 158.908, 158.002, 158.266, 156.762, 159.106, 158.204, 158.404, 159.264, 157.95, 156.936, 159.108, 159.272, 157.144, 158.164, 157.532, 158.528, 159.084, 156.932, 158.278, 157.742, 157.946, 158.74, 158.702, 157.612, 157.556, 158.226, 158.05, 157.548, 158.586, 157.618, 157.948, 158.128, 158.054, 160.138, 158.486, 159.746, 158.262, 159.766, 158.128, 158.352, 159.356, 158.348, 157.384, 156.638, 158.118, 158.148, 158.346, 157.002, 157.77, 156.65, 158.818, 157.504, 158.482, 158.672, 156.554, 158.292, 157.244, 159.758, 158.228, 158.222, 159.914, 159.626, 157.94, 158.92, 157.844, 157.932, 158.17, 159.618, 159.314, 159.13, 158.878, 159.712, 158.334, 157.422, 158.912, 158.852, 159.556, 159.02, 157.88, 159.828, 159.046, 158.286, 159.544, 157.454, 157.134, 158.218, 158.178, 158.682, 159.352, 158.748, 158.644, 157.954, 157.972, 158.758, 157.632, 158.702, 158.792, 158.678, 158.374, 158.918, 156.796, 157.992, 159.746, 159.4, 159.028, 158.178, 158.392, 158.098, 157.79, 157.282, 157.898, 158.498, 159.336, 159.328, 157.392, 159.152, 158.604, 159.068, 159.67, 158.72, 158.58, 158.074, 159.69, 159.004, 157.83, 158.754, 157.98, 158.476, 157.89, 159.43, 157.25, 157.538, 158.012, 158.816, 159.05, 160.276, 158.428, 159.854, 157.518, 158.186, 158.62, 158.732, 158.308, 157.852, 159.61, 158.76, 158.754, 159.896, 158.834, 157.254, 157.638, 158.93, 158.592, 158.732, 157.904, 158.194, 158.364, 157.944, 157.592, 157.936, 159.772, 157.586, 157.628, 157.384, 158.64, 159.306, 158.25, 159.124, 158.7, 157.172, 158.596, 158.876, 158.232, 159.766, 158.724, 158.436, 157.43, 156.708, 158.72, 156.994, 158.98, 159.228, 158.468, 159.768, 157.724, 158.446, 156.962, 159.726, 157.754, 158.614, 158.368, 158.684, 157.526, 157.726, 159.468, 159.064, 157.54, 157.724, 158.616, 158.016, 157.192, 158.638, 155.814, 158.1, 157.784, 156.786, 159.05, 158.46, 159.716, 159.384, 158.622, 158.882, 158.558, 158.08, 160.32, 160.49, 157.91, 158.102, 159.46, 157.874, 159.392, 158.588, 158.062, 159.014, 158.614, 157.542, 158.24, 159.77, 157.946, 158.508, 159.302, 159.006, 157.432, 159.076, 158.796, 158.466, 158.996, 158.824, 159.564, 158.782, 158.642, 157.332, 158.482, 160.028, 157.864, 157.586, 159.664, 158.69, 158.304, 157.024, 157.634, 159.152, 159.144, 157.448, 159.074, 158.192, 158.778, 158.89, 157.856, 159.096, 158.698, 157.91, 158.77, 158.224, 156.828, 157.434, 160.212, 157.118, 161.158, 157.446, 158.762, 158.402, 158.322, 158.436, 158.866, 157.938, 156.896, 156.962, 158.176, 158.632, 158.552, 158.154, 157.678, 158.748, 158.978, 159.11, 159.282, 157.382, 159.072, 157.32, 157.244, 158.726, 157.872, 159.924, 158.824, 156.626, 158.916, 159.04, 158.98, 158.23, 158.816, 157.872, 159.402, 157.858, 159.738, 159.718, 158.78, 158.382, 158.072, 158.462, 157.952, 157.978, 157.046, 158.754, 159.764, 158.574, 159.294, 158.438, 160.008, 159.296, 158.596, 159.064, 159.438, 157.284, 158.96, 156.866, 158.094, 159.076, 158.994, 158.102, 158.612, 159.192, 157.666, 158.072, 158.284, 158.452, 158.418, 157.44, 157.862, 159.076, 160.73, 157.572, 158.298, 157.352, 158.038, 158.03, 158.024, 158.19, 158.844, 158.748, 158.086, 159.302, 159.262, 157.112, 159.178, 159.346, 158.37, 158.478, 158.492, 158.662, 158.536, 158.702, 157.798, 157.836, 157.154, 159.166, 158.366, 156.358, 159.802, 157.782, 158.158, 159.156, 158.734, 159.872, 158.932, 159.096, 157.068, 159.14, 160.716, 158.484, 158.286, 157.832, 159.074, 158.506, 157.582, 158.752, 159.296, 160.022, 157.458, 159.052, 158.5, 157.542, 158.422, 159.574, 159.334, 160.05, 157.602, 158.654, 157.644, 158.968, 158.686, 157.766, 157.952, 160.502, 158.09, 157.166, 158.784, 158.272, 159.034, 157.662, 159.408, 157.494, 159.37, 158.108, 159.194, 158.458, 159.472, 158.846, 158.694, 159.596, 157.122, 159.306, 158.242, 158.24, 158.988, 159.012, 159.866, 159.062, 158.112, 157.916, 157.94, 159.08, 157.52, 158.738, 158.674, 156.194, 159.536, 156.448, 157.668, 157.804, 160.75, 158.472, 159.656, 157.692, 158.54, 159.104, 160.564, 158.5, 158.336, 157.416, 158.252, 157.496, 159.292, 157.74, 156.37, 158.434, 157.918, 159.43, 159.78, 158.49, 159.334, 158.42, 158.384, 159.79, 158.382, 158.592, 157.094, 158.984, 158.352, 158.582, 157.176, 158.702, 158.874, 157.788, 159.186, 158.78, 157.188, 158.086, 157.942, 157.898, 158.732, 159.816, 158.062, 158.006, 158.222, 160.012, 158.508, 158.192, 158.488, 159.708, 159.252, 158.132, 159.948, 159.292, 158.852, 159.852, 157.598, 157.994, 159.208, 158.816, 158.82, 158.414, 157.102, 160.068, 158.768, 158.348, 158.878, 158.814, 159.052, 158.166, 159.512, 158.812, 159.542, 159.054, 159.098, 158.172, 158.052, 160.096, 158.268, 157.942, 158.496, 158.092, 159.978, 156.73, 157.824, 159.846, 158.04, 158.446, 157.752, 158.38, 157.072, 157.78, 158.368, 157.428, 159.454, 158.614, 157.97, 157.752, 156.782, 160.29, 157.052, 158.782, 158.462, 158.664, 160.492, 158.848, 160.742, 158.758, 158.442, 158.194, 157.562, 159.106, 158.172, 160.806, 157.882, 158.298, 158.2, 157.886, 158.18, 157.68, 159.302, 157.878, 159.944, 158.268, 157.602, 159.416, 159.328, 158.16, 159.452, 159.238, 158.716, 158.69, 157.96, 157.392, 158.536, 158.078, 157.982, 158.664, 158.69, 159.888, 158.488, 158.82, 159.582, 157.646, 157.678, 158.282, 159.154, 159.402, 157.868, 158.582, 159.774, 157.654, 160.35, 158.87, 160.022, 158.428, 159.936, 158.426, 158.134, 158.954, 157.908, 159.154, 159.136, 159.72, 158.47, 158.732, 157.108, 158.5, 160.126, 159.802, 157.754, 159.384, 159.066, 160.442, 158.92, 158.89, 158.084, 158.032, 159.428, 157.484, 157.908, 158.362, 156.976, 158.912, 157.868, 157.708, 159.526, 159.342, 158.02, 158.644, 159.338, 158.54, 158.514, 158.362, 158.234, 158.138, 158.95, 158.222, 159.702, 157.982, 158.438, 160.114, 158.646, 158.81, 159.1, 158.632, 158.812, 159.27, 158.628, 157.23, 157.548, 156.372, 157.496, 159.158, 160.052, 157.636, 159.914, 158.632, 159.49, 158.1, 159.08, 157.512, 159.064, 160.368, 158.196, 159.332, 158.464, 158.518, 158.738, 158.038, 158.494, 158.416, 159.012, 158.516, 158.612, 158.752, 159.178, 159.066, 158.088, 158.6, 158.884, 158.442, 160.14, 157.91, 157.94, 159.3, 157.722, 158.556, 156.954, 158.552, 158.196, 158.602, 157.988, 158.202, 158.478, 157.848, 157.324, 158.214, 158.836, 158.298, 158.912, 158.094, 158.544, 158.936, 158.99, 159.16, 157.96, 158.476, 157.408, 156.618, 158.634, 158.474, 160.158, 159.034, 158.5, 157.86, 158.456, 157.982, 159.224, 157.038, 159.554, 158.244, 157.64, 158.7, 157.87, 158.99, 158.768, 157.774, 158.692, 159.346, 158.214, 158.696, 157.928, 157.666, 158.862, 159.422, 157.718, 158.664, 159.3, 158.602, 157.662, 157.686, 158.832, 158.938, 158.408, 156.302, 156.942, 158.73, 158.09, 158.618, 158.336, 159.284, 157.94, 158.846, 158.41, 159.55, 160.11, 158.98, 158.704, 159.762, 159.008, 158.456, 157.72, 158.282, 159.52, 158.06, 158.876, 159.32, 157.776, 157.74, 157.94, 158.038, 158.282, 157.928, 157.808, 158.56, 157.402, 158.69, 158.3, 157.444, 158.882, 158.878, 158.172, 158.4, 157.312, 159.834, 159.634, 158.748, 159.226, 159.4, 159.366, 158.742, 160.08, 158.574, 157.602, 159.602, 157.448, 157.68, 158.474, 157.512, 157.83, 159.006, 159.188, 159.638, 158.336, 157.758, 158.366, 157.47, 158.816, 156.952, 159.14, 157.316, 158.29, 157.326, 158.604, 159.07, 159.784, 158.572, 158.242, 159.206, 157.246, 158.326, 158.476, 158.878, 156.864, 158.77, 157.782, 158.396, 159.476, 159.332, 160.02, 158.4, 157.668, 158.684, 159.448, 158.392, 159.076, 159.35, 159.314, 157.568, 158.008, 158.518, 158.476, 157.122, 160.628, 157.308, 158.318, 158.566, 157.46, 158.752, 157.628, 156.738, 158.53, 158.658, 157.932, 159.692, 157.294, 157.78, 156.822, 158.238, 157.974, 158.062, 158.286, 158.97, 157.448, 160.066, 158.898, 157.57, 158.014, 159.116, 159.052, 158.1, 158.94, 158.596, 157.262, 159.056, 158.706, 159.29, 158.276, 158.524, 158.158, 158.92, 158.272, 159.202, 158.066, 158.23, 158.882, 157.502, 158.042, 158.356, 156.94, 158.104, 159.406, 158.262, 156.776, 159.254, 158.348, 158.46, 158.51, 158.714, 159.376, 159.204, 157.518, 159.658, 159.808, 158.15, 158.242, 159.762, 157.136, 157.386, 160.1, 157.542, 157.454, 158.428, 157.198, 157.734, 157.706, 158.17, 159.962, 157.77, 157.356, 157.884, 158.694, 158.092, 157.21, 157.866, 157.704, 158.698, 158.228, 159.312, 157.48, 156.86, 158.952, 158.506, 160.156, 159.4, 158.962, 158.242, 158.216, 158.294, 158.392, 159.022, 158.848, 159.484, 158.054, 157.638, 158.134, 159.612, 158.066, 158.214, 157.278, 158.796, 157.858, 157.916, 159.522, 158.872, 156.862, 158.026, 158.25, 159.022, 157.754, 161.288, 159.024, 157.958, 158.974, 160.242, 158.494, 158.55, 160.188, 159.462, 158.084, 159.774, 157.952, 159.146, 157.536, 158.006, 157.668, 158.278, 158.616, 158.392, 159.874, 158.89, 158.312, 159.318, 158.862, 158.766, 157.808, 159.09, 158.704, 158.278, 157.492, 158.454, 157.762, 158.876, 158.996, 159.752, 156.508, 157.626, 156.486, 157.828, 159.216, 159.422, 159.448, 159.696, 158.322, 158.362, 158.436, 158.53, 157.9, 159.618, 159.202, 159.778, 159.386, 157.27, 156.642, 158.614, 158.608, 158.292, 159.836, 160.322, 157.566, 159.73, 158.62, 159.106, 159.484, 157.78, 159.94, 157.056, 159.448, 159.67, 160.0, 156.754, 158.922, 157.678, 159.304, 158.772, 157.502, 158.588, 159.888, 158.658, 157.976, 157.976, 158.114, 159.388, 159.712, 158.17, 159.068, 159.222, 158.478, 158.252, 158.858, 159.168, 158.276, 157.068, 157.898, 158.514, 158.948, 158.234, 158.652, 159.096, 159.636, 157.93, 158.628, 159.656, 158.816, 158.548, 158.592, 157.616, 159.57, 159.692, 158.484, 159.174, 158.284, 158.148, 159.29, 157.876, 158.996, 159.278, 157.574, 158.788, 159.254, 158.786, 158.152, 158.516, 158.552, 156.666, 158.236, 157.71, 158.506, 158.106, 158.746, 157.544, 157.894, 157.634, 158.636, 158.278, 158.246, 158.498, 157.612, 158.814, 159.248, 158.272, 157.264, 156.706, 160.122, 158.644, 158.824, 160.2, 159.286, 159.544, 159.128, 157.394, 158.916, 158.266, 158.128, 159.836, 161.646, 157.732, 159.446, 158.13, 158.44, 158.526, 159.154, 158.002, 156.534, 162.094, 157.296, 159.1, 158.72, 160.53, 158.156, 158.382, 158.108, 159.016, 159.204, 158.91, 159.796, 159.81, 158.892, 158.976, 158.416, 158.452, 157.64, 159.868, 158.756, 158.048, 158.88, 157.248, 156.202, 158.902, 157.764, 157.144, 160.912, 158.906, 158.292, 158.418, 161.18, 159.9, 158.088, 159.056, 158.33, 158.898, 157.918, 157.274, 157.04, 157.462, 159.236, 159.288, 158.672, 157.952, 158.636, 157.808, 158.704, 158.47, 157.666, 159.63, 159.158, 157.874, 158.232, 159.19, 158.7, 158.66, 159.432, 158.354, 157.564, 158.66, 159.604, 157.684, 158.618, 159.032, 157.936, 158.242, 158.732, 158.332, 156.952, 159.668, 157.04, 159.308, 158.678, 157.604, 158.43, 158.926, 157.964, 157.112, 156.964, 160.13, 157.902, 158.328, 156.436, 158.494, 158.178, 157.676, 157.8, 158.602, 158.478, 157.084, 158.416, 159.366, 158.616, 157.384, 158.86, 158.342, 159.17, 158.658, 159.266, 158.266, 159.154, 160.16, 158.782, 157.364, 156.992, 159.422, 158.244, 158.46, 157.746, 156.906, 158.294, 159.078, 159.354, 158.944, 159.318, 158.384, 157.014, 158.918, 159.182, 158.574, 158.306, 158.308, 157.646, 158.144, 160.91, 158.068, 158.744, 159.32, 157.98, 157.164, 159.326, 159.198, 158.858, 158.954, 158.93, 158.61, 159.522, 158.218, 158.818, 159.056, 158.322, 159.25, 157.594, 159.702, 158.24, 158.196, 157.298, 157.658, 159.536, 160.014, 156.718, 157.964, 159.804, 158.552, 158.398, 159.508, 159.354, 159.428, 157.13, 159.412, 159.374, 158.638, 159.364, 159.228, 159.816, 157.632, 156.824, 158.858, 159.016, 159.708, 158.634, 158.958, 158.132, 156.836, 159.864, 156.748, 158.206, 159.828, 157.628, 158.386, 158.77, 159.118, 159.63, 157.992, 159.078, 158.972, 159.246, 159.23, 159.242, 158.046, 158.86, 158.404, 158.882, 158.088, 157.406, 158.316, 157.798, 161.878, 158.546, 157.606, 159.748, 158.464, 157.428, 159.8, 158.454, 158.514, 158.308, 158.962, 158.808, 158.798, 158.546, 159.928, 159.288, 160.238, 158.748, 159.208, 159.116, 158.506, 158.884, 157.72, 159.766, 158.878, 157.618, 157.518, 158.938, 157.294, 159.896, 157.29, 159.23, 158.946, 159.122, 157.148, 159.39, 159.084, 159.058, 158.612, 158.224, 159.386, 158.92, 159.69, 160.004, 158.998, 158.932, 159.168, 159.656, 159.136, 158.838, 159.028, 159.456, 158.804, 157.728, 159.85, 158.126, 158.504, 158.51, 157.706, 158.568, 156.686, 157.268, 158.546, 156.814, 157.512, 157.78, 158.742, 157.608, 158.84, 158.778, 156.79, 158.518, 158.736, 158.242, 158.942, 160.102, 160.276, 160.144, 158.73, 159.038, 159.188, 158.588, 158.738, 158.386, 158.592, 159.564, 157.588, 157.936, 159.148, 158.35, 156.79, 156.2, 157.814, 159.038, 158.664, 158.264, 159.194, 156.94, 158.75, 158.802, 158.696, 158.926, 159.682, 157.876, 158.582, 159.628, 158.088, 158.472, 159.422, 159.474, 158.13, 158.82, 157.678, 158.468, 159.104, 157.812, 157.826, 159.926, 159.528, 157.476, 158.562, 159.458, 158.146, 160.92, 158.194, 155.964, 159.106, 158.232, 158.346, 157.614, 158.53, 159.404, 159.1, 157.468, 158.716, 158.052, 159.514, 158.246, 159.244, 158.752, 156.966, 158.736, 156.828, 158.372, 158.834, 158.848, 157.914, 159.704, 158.962, 157.442, 158.068, 157.606, 159.14, 158.324, 157.822, 157.386, 156.456, 158.604, 158.032, 159.862, 158.242, 157.898, 157.124, 158.986, 156.842, 159.092, 157.32, 156.798, 158.592, 159.272, 157.852, 158.7, 157.196, 156.944, 155.898, 157.894, 159.258, 158.416, 159.174, 158.272, 158.264, 159.016, 158.094, 159.776, 158.106, 159.452, 158.12, 158.762, 159.142, 156.72, 158.818, 157.884, 159.146, 160.018, 158.572, 159.082, 157.84, 158.936, 160.276, 159.452, 158.87, 158.884, 157.076, 159.888, 158.772, 159.362, 158.374, 158.284, 158.01, 158.99, 158.366, 159.252, 159.038, 158.276, 158.88, 157.528, 158.238, 157.404, 158.994, 156.814, 158.178, 157.426, 157.032, 157.598, 159.498, 157.166, 157.728, 158.076, 159.212, 158.42, 158.388, 157.902, 158.002, 158.566, 158.838, 158.632, 160.364, 157.224, 158.082, 157.45, 159.48, 159.688, 158.716, 158.288, 158.222, 158.554, 159.884, 158.602, 159.974, 157.924, 159.208, 158.558, 158.582, 158.652, 158.968, 157.136, 158.144, 158.826, 159.848, 157.624, 157.706, 158.734, 158.278, 159.708, 157.976, 158.634, 158.3, 159.154, 158.402, 157.746, 158.856, 158.962, 158.614, 158.638, 157.498, 159.024, 159.112, 159.214, 157.51, 158.282, 160.222, 158.168, 157.846, 159.006, 156.792, 157.622, 159.68, 159.552, 159.458, 159.216, 158.908, 158.558, 160.096, 156.972, 157.716, 157.528, 157.156, 158.122, 158.926, 158.336, 158.378, 159.46, 157.922, 158.542, 158.328, 158.182, 158.208, 158.218, 159.326, 158.692, 157.474, 157.744, 157.734, 158.688, 159.306, 159.164, 157.932, 159.638, 158.384, 158.632, 158.798, 159.97, 159.716, 158.476, 158.958, 158.696, 157.544, 158.41, 157.988, 158.728, 156.374, 157.98, 159.946, 157.422, 158.522, 158.138, 159.178, 157.966, 157.348, 159.432, 158.76, 158.238, 156.35, 158.414, 159.48, 158.944, 157.104, 158.526, 157.734, 157.928, 158.09, 157.708, 157.9, 159.55, 157.802, 158.944, 158.432, 159.412, 157.762, 159.302, 159.168, 156.63, 159.126, 159.144, 159.118, 157.534, 158.172, 158.682, 158.646, 158.658, 159.106, 159.262, 157.688, 158.282, 159.038, 157.158, 158.64, 158.188, 158.692, 159.928, 158.422, 158.48, 159.594, 157.53, 157.926, 157.666, 156.654, 157.224, 159.026, 160.404, 157.544, 157.938, 159.322, 158.668, 158.702, 159.086, 159.824, 159.948, 160.268, 158.528, 158.946, 157.162, 158.922, 159.252, 159.878, 157.17, 157.898, 159.218, 158.412, 159.808, 157.362, 157.472, 158.384, 158.908, 159.156, 159.11, 158.45, 159.59, 159.104, 158.54, 158.446, 157.786, 158.3, 159.026, 157.164, 156.294, 157.064, 159.342, 157.626, 158.052, 159.004, 159.558, 158.13, 158.302, 157.376, 158.334, 158.682, 158.822, 159.856, 159.296, 156.474, 158.482, 157.936, 157.996, 159.748, 158.922, 159.408, 157.992, 159.458, 157.748, 158.884, 159.504, 159.236, 158.252, 160.384, 157.362, 159.172, 158.852, 157.534, 159.6, 158.904, 158.176, 158.766, 159.04, 157.986, 157.384, 160.0, 159.108, 158.498, 158.826, 158.824, 157.848, 157.888, 157.694, 160.278, 158.15, 159.91, 159.636, 159.808, 158.902, 157.506, 157.818, 159.836, 156.796, 158.112, 159.798, 158.652, 158.638, 157.652, 157.894, 157.82, 157.302, 160.24, 158.95, 157.812, 158.97, 158.176, 158.196, 158.688, 156.726, 158.166, 160.776, 157.574, 159.69, 158.746, 158.536, 157.646, 158.126, 158.924, 158.96, 157.95, 159.232, 158.424, 157.53, 159.114, 158.482, 158.738, 157.37, 158.326, 158.844, 157.25, 158.442, 156.81, 159.346, 156.592, 158.406, 159.95, 157.898, 159.16, 158.492, 156.882, 157.978, 159.92, 159.294, 158.786, 159.652, 158.442, 158.374, 158.416, 158.612, 159.076, 160.094, 158.062, 158.39, 158.412, 157.92, 159.162, 158.734, 158.406, 159.18, 159.108, 157.648, 156.64, 158.418, 158.664, 159.69, 158.742, 157.608, 158.05, 158.144, 159.082, 157.448, 159.064, 158.67, 160.032, 157.432, 159.186, 157.85, 157.196, 159.052, 158.88, 157.624, 158.776, 157.984, 158.97, 158.42, 157.134, 158.83, 158.18, 158.746, 158.196, 158.102, 159.164, 157.284, 158.346, 157.366, 158.564, 160.064, 159.194, 157.538, 157.736, 158.412, 155.802, 159.204, 158.832, 158.278, 158.22, 159.424, 157.61, 159.726, 158.218, 158.144, 158.74, 159.462, 159.012, 158.106, 157.88, 159.192, 159.158, 158.842, 158.546, 158.948, 158.702, 159.394, 159.55, 158.568, 158.756, 158.366, 158.0, 158.096, 158.488, 158.278, 158.77, 159.826, 158.562, 158.928, 157.728, 157.606, 159.104, 159.804, 158.188, 158.346, 157.884, 158.696, 158.08, 158.21, 159.222, 158.388, 157.658, 157.89, 156.736, 159.746, 158.298, 158.488, 159.546, 158.478, 157.844, 159.988, 157.854, 157.94, 159.36, 158.792, 158.206, 158.678, 160.484, 157.294, 159.824, 158.696, 158.968, 158.596, 158.724, 159.372, 160.114, 156.102, 160.866, 159.526, 158.062, 158.518, 159.568, 158.804, 157.704, 158.022, 160.194, 158.014, 158.054, 159.326, 159.616, 157.778, 157.466, 157.408, 159.458, 158.524, 158.968, 159.052, 159.236, 158.46, 158.252, 159.142, 159.028, 158.336, 158.914, 158.648, 159.178, 157.244, 158.62, 158.572, 158.234, 159.596, 158.88, 158.766, 158.794, 158.314, 157.766, 157.18, 157.086, 158.768, 158.692, 158.154, 157.93, 157.296, 157.194, 157.634, 156.292, 158.546, 156.416, 158.588, 159.402, 158.822, 157.61, 158.46, 159.3, 158.158, 157.218, 159.802, 159.25, 157.636, 159.174, 158.668, 159.052, 157.782, 158.174, 158.972, 157.972, 157.61, 158.146, 159.37, 158.682, 157.884, 158.392, 157.45, 158.06, 158.196, 156.862, 160.01, 158.898, 158.858, 158.554, 158.72, 158.628, 157.198, 157.36, 159.93, 158.61, 157.608, 159.506, 158.318, 157.748, 159.488, 158.632, 157.968, 157.708, 157.616, 157.316, 159.096, 157.166, 157.62, 159.102, 158.22, 158.288, 158.03, 159.252, 158.934, 156.696, 159.774, 158.688, 159.646, 158.476, 159.432, 159.402, 156.518, 157.498, 159.156, 158.768, 158.81, 159.432, 157.78, 158.406, 157.812, 157.44, 158.87, 160.002, 159.296, 158.636, 157.834, 159.964, 158.446, 159.154, 159.04, 157.986, 158.152, 157.528, 158.462, 158.908, 158.944, 157.874, 159.026, 158.164, 159.686, 156.994, 158.15, 158.214, 157.756, 158.534, 159.186, 159.466, 157.278, 157.972, 157.548, 157.642, 159.384, 158.944, 158.71, 159.632, 160.238, 158.822, 158.028, 156.484, 158.932, 158.3, 159.598, 158.386, 159.572, 157.208, 157.928, 160.286, 157.002, 159.148, 160.0, 157.886, 159.396, 159.382, 159.066, 159.622, 159.762, 158.798, 159.58, 158.102, 158.806, 159.58, 159.84, 158.154, 158.676, 158.196, 158.27, 157.928, 156.766, 158.566, 159.628, 158.166, 157.546, 159.792, 159.098, 158.446, 158.602, 158.122, 158.11, 158.584, 157.586, 159.296, 158.184, 158.85, 157.202, 157.688, 158.214, 158.376, 157.434, 158.826, 159.764, 157.978, 159.132, 156.686, 158.02, 157.12, 157.704, 158.06, 159.4, 157.624, 160.008, 157.5, 157.7, 158.968, 158.662, 159.21, 157.632, 158.842, 158.304, 157.614, 159.922, 157.85, 158.008, 158.418, 158.914, 158.09, 159.078, 157.848, 157.796, 159.632, 159.936, 158.382, 158.442, 158.926, 158.294, 159.654, 158.23, 158.638, 158.77, 159.704, 157.548, 157.18, 158.85, 158.344, 158.866, 158.88, 159.028, 159.012, 159.176, 159.132, 159.434, 159.15, 158.762, 157.602, 157.892, 158.112, 158.426, 157.408, 158.628, 157.392, 158.748, 159.002, 158.286, 157.706, 158.47, 156.366, 158.96, 157.724, 157.812, 158.072, 158.594, 158.914, 159.646, 157.292, 159.888, 158.236, 158.35, 160.002, 158.924, 158.446, 158.836, 158.236, 157.984, 158.814, 159.622, 157.388, 158.9, 158.754, 159.106, 158.654, 159.07, 156.886, 157.328, 157.842, 157.104, 159.534, 157.794, 159.438, 158.33, 158.216, 158.412, 157.55, 158.854, 159.168, 158.054, 157.69, 157.99, 157.864, 158.262, 157.444, 157.838, 157.614, 159.736, 159.85, 157.74, 159.514, 159.042, 157.694, 158.384, 157.742, 159.606, 158.254, 158.8, 158.024, 158.72, 158.47, 158.66, 157.144, 157.932, 158.73, 158.272, 158.926, 159.236, 157.33, 158.462, 157.208, 158.442, 158.548, 159.176, 159.006, 158.54, 157.694, 159.064, 157.734, 158.78, 158.84, 158.602, 159.686, 159.344, 157.296, 158.294, 158.744, 157.53, 157.828, 158.558, 158.48, 157.006, 158.032, 158.54, 158.486, 158.628, 160.22, 159.724, 158.612, 157.938, 159.4, 158.168, 159.85, 157.026, 159.22, 159.762, 158.946, 159.178, 158.27, 158.462, 158.908, 157.722, 158.74, 158.546, 158.178, 158.658, 158.39, 157.866, 157.856, 159.102, 158.532, 158.854, 158.6, 157.54, 158.782, 159.456, 159.198, 158.296, 158.754, 159.188, 160.136, 158.994, 157.982, 158.94, 159.512, 158.452, 159.582, 159.112, 159.39, 158.064, 158.232, 157.496, 158.768, 158.066, 158.798, 156.968, 160.168, 159.76, 159.17, 159.6, 158.86, 157.778, 158.416, 160.01, 158.138, 159.726, 156.276, 158.09, 157.884, 158.476, 159.472, 159.584, 157.132, 157.436, 157.446, 159.026, 157.562, 158.884, 159.466, 159.862, 158.806, 159.938, 157.924, 158.064, 158.43, 157.478, 157.578, 157.018, 158.784, 157.91, 158.778, 158.284, 158.566, 159.558, 157.926, 158.36, 160.458, 158.404, 159.762, 158.516, 158.16, 158.094, 157.03, 159.108, 157.504, 158.43, 156.058, 159.446, 158.454, 159.5, 158.234, 159.144, 157.976, 157.576, 158.878, 158.256, 158.338, 156.99, 159.268, 157.852, 158.088, 159.38, 158.412, 159.624, 159.126, 159.194, 156.774, 158.276, 158.552, 157.552, 160.108, 159.526, 158.88, 158.534, 159.944, 160.384, 158.406, 157.126, 158.556, 158.372, 158.442, 159.34, 158.714, 160.422, 159.386, 157.836, 158.056, 158.638, 158.93, 158.972, 157.72, 158.476, 158.472, 158.59, 157.812, 160.172, 157.312, 157.21, 158.708, 157.508, 158.946, 157.59, 159.346, 159.944, 157.174, 158.562, 157.546, 157.728, 158.468, 157.894, 159.06, 159.162, 159.778, 159.384, 159.212, 159.136, 158.488, 157.232, 157.82, 158.986, 160.276, 157.196, 158.876, 158.336, 159.9, 157.5, 158.312, 159.002, 158.738, 158.97, 158.6, 157.85, 157.61, 159.096, 158.628, 157.784, 157.632, 158.688, 158.87, 157.938, 157.802, 157.966, 157.402, 157.986, 158.922, 161.234, 158.632, 158.51, 158.078, 158.89, 157.848, 158.002, 158.634, 158.5, 158.406, 157.602, 157.11, 159.16, 158.096, 158.756, 157.572, 159.28, 158.226, 157.952, 156.464, 157.25, 159.162, 158.876, 157.694, 157.922, 158.808, 159.282, 159.218, 158.91, 159.336, 158.436, 158.848, 160.642, 158.144, 158.214, 157.008, 159.986, 158.316, 157.464, 157.7, 158.482, 158.34, 159.236, 158.56, 157.204, 159.068, 158.104, 157.546, 158.718, 158.832, 159.05, 157.794, 159.692, 157.47, 158.142, 157.07, 157.898, 157.308, 159.064, 158.788, 159.746, 158.376, 160.526, 160.802, 158.184, 156.78, 156.936, 158.676, 156.89, 158.28, 158.146, 158.322, 158.054, 158.598, 157.52, 159.042, 158.594, 159.976, 156.866, 159.466, 156.648, 158.284, 156.732, 158.61, 158.194, 157.806, 159.988, 155.808, 158.474, 159.482, 158.854, 157.318, 158.394, 157.624, 158.94, 157.418, 158.256, 158.714, 159.016, 157.336, 159.364, 158.704, 158.478, 159.214, 158.414, 157.826, 158.75, 156.924, 157.69, 160.182, 157.118, 158.09, 158.9, 158.62, 159.282, 157.414, 158.934, 157.256, 158.858, 158.42, 159.248, 159.212, 159.772, 158.038, 158.186, 158.664, 158.66, 158.108, 160.036, 157.674, 159.34, 159.288, 158.906, 157.986, 157.544, 159.588, 157.474, 159.178, 159.684, 159.8, 156.418, 158.222, 159.612, 159.494, 158.47, 158.386, 158.838, 159.364, 159.402, 159.05, 158.356, 157.99, 159.922, 158.384, 157.192, 158.546, 158.254, 158.964, 158.902, 158.434, 159.92, 157.9, 159.372, 158.554, 158.676, 158.704, 158.058, 158.348, 157.576, 158.528, 157.688, 158.956, 158.116, 158.82, 159.488, 158.02, 156.77, 158.312, 157.098, 158.688, 158.414, 158.64, 159.628, 160.24, 158.248, 157.916, 158.818, 160.172, 157.456, 156.828, 157.016, 158.396, 157.762, 159.21, 158.684, 158.592, 158.662, 158.594, 157.908, 156.674, 158.378, 158.642, 158.534, 158.452, 160.244, 157.206, 158.602, 158.652, 158.186, 158.802, 158.402, 157.718, 159.568, 158.698, 157.924, 158.652, 158.514, 159.144, 157.168, 158.4, 160.374, 159.522, 158.17, 157.114, 157.09, 157.502, 158.608, 158.458, 158.99, 157.678, 158.366, 157.68, 158.328, 158.704, 156.298, 157.892, 158.038, 158.194, 161.0, 158.256, 158.746, 158.048, 159.28, 159.498, 156.582, 158.106, 159.332, 157.808, 158.344, 158.64, 159.44, 157.902, 158.428, 159.884, 158.582, 157.868, 160.244, 157.976, 159.388, 159.178, 159.142, 160.408, 158.082, 157.546, 159.886, 160.054, 157.636, 157.474, 159.276, 158.736, 158.562, 158.994, 157.498, 158.596, 157.38, 157.674, 160.896, 158.398, 158.084, 159.222, 158.46, 158.018, 156.866, 158.322, 157.138, 159.302, 158.914, 156.444, 156.878, 159.078, 158.97, 158.496, 159.166, 156.726, 159.522, 159.412, 157.99, 156.33, 159.216, 158.586, 156.82, 158.502, 159.868, 158.668, 157.396, 159.248, 158.092, 158.078, 159.02, 157.82, 158.176, 159.078, 159.314, 158.408, 158.192, 157.46, 159.23, 158.84, 157.912, 159.262, 158.356, 159.996, 157.056, 159.698, 159.724, 158.012, 160.73, 157.718, 157.782, 160.096, 157.608, 157.246, 159.088, 159.378, 157.458, 159.536, 157.53, 159.08, 158.952, 157.514, 159.416, 159.894, 157.49, 158.51, 156.608, 158.006, 158.958, 159.222, 157.306, 159.604, 159.286, 159.0, 158.914, 157.756, 159.632, 157.286, 159.244, 159.82, 156.874, 158.192, 158.762, 159.364, 159.356, 158.288, 159.224, 158.972, 158.98, 158.578, 156.678, 159.174, 159.18, 158.708, 158.642, 158.086, 156.116, 158.948, 157.69, 157.834, 157.048, 157.22, 158.288, 157.676, 159.198, 159.596, 158.074, 159.128, 157.908, 158.808, 159.382, 157.564, 158.39, 159.046, 158.888, 159.542, 158.746, 159.816, 157.606, 157.526, 158.04, 158.764, 158.34, 158.718, 157.17, 158.584, 159.11, 159.706, 158.598, 156.7, 158.29, 158.26, 159.644, 159.372, 157.404, 157.242, 158.064, 158.372, 159.438, 158.622, 157.632, 158.348, 157.684, 159.17, 159.704, 158.334, 157.642, 158.626, 160.336, 158.102, 157.536, 159.214, 158.044, 157.354, 158.704, 158.852, 157.948, 157.442, 157.834, 158.318, 158.948, 158.744, 158.656, 158.676, 158.228, 159.136, 158.172, 157.174, 159.056, 158.048, 158.2, 158.654, 158.01, 158.958, 157.506, 157.678, 158.936, 158.99, 157.782, 156.9, 159.894, 159.904, 157.028, 158.31, 157.578, 159.012, 157.932, 158.542, 158.004, 159.062, 158.196, 158.068, 158.36, 158.274, 158.172, 158.864, 158.834, 159.18, 158.34, 158.986, 158.062, 159.23, 157.924, 157.964, 156.932, 158.606, 158.824, 157.684, 157.848, 158.222, 159.424, 158.284, 159.568, 158.512, 158.24, 159.088, 158.188, 160.414, 158.738, 158.402, 158.568, 158.83, 157.762, 160.082, 159.186, 158.61, 159.19, 159.46, 160.2, 157.556, 159.76, 158.73, 158.632, 157.81, 160.316, 158.006, 158.97, 157.68, 158.61, 160.164, 158.878, 158.284, 159.078, 157.958, 158.792, 160.288, 157.296, 159.046, 159.108, 159.402, 156.886, 157.538, 158.05, 158.234, 159.116, 158.31, 158.662, 157.824, 158.392, 158.728, 159.468, 158.048, 158.952, 158.178, 157.414, 158.674, 159.384, 159.704, 158.492, 158.948, 158.458, 157.818, 157.612, 157.112, 158.97, 158.644, 160.25, 157.938, 157.552, 158.988, 158.892, 159.38, 157.452, 157.994, 158.754, 158.758, 158.31, 158.446, 158.55, 157.104, 158.042, 158.064, 159.152, 157.41, 158.418, 158.636, 157.06, 156.7, 158.778, 158.088, 158.234, 157.942, 158.648, 159.124, 158.314, 158.654, 158.236, 158.258, 160.658, 157.414, 158.99, 158.38, 160.108, 158.248, 157.896, 160.36, 158.186, 158.72, 158.562, 157.15, 158.736, 159.394, 158.414, 158.594, 158.196, 157.578, 158.3, 157.758, 159.32, 159.54, 157.996, 157.678, 159.918, 158.566, 158.878, 157.524, 157.564, 158.35, 157.208, 159.59, 158.312, 158.81, 158.886, 157.872, 159.326, 158.144, 158.812, 158.932, 159.206, 158.878, 158.614, 158.452, 158.97, 158.658, 158.424, 158.09, 158.268, 160.37, 158.742, 158.342, 158.36, 157.734, 157.944, 157.134, 158.69, 157.412, 158.494, 157.678, 158.716, 159.046, 158.892, 159.62, 157.624, 158.906, 157.878, 158.27, 158.756, 157.474, 157.354, 159.07, 159.908, 157.318, 158.202, 157.206, 156.25, 160.73, 159.068, 157.46, 158.76, 157.288, 159.07, 157.568, 159.242, 159.526, 157.918, 158.764, 157.932, 158.0, 158.608, 157.288, 158.242, 158.938, 157.964, 158.914, 158.338, 157.862, 158.836, 158.702, 161.1, 158.346, 156.778, 158.134, 158.928, 158.792, 158.652, 157.856, 159.122, 158.544, 159.86, 157.642, 158.566, 157.282, 157.984, 158.688, 157.718, 159.406, 159.654, 158.65, 157.034, 159.362, 158.468, 159.418, 158.808, 157.01, 158.376, 158.854, 157.606, 160.226, 158.202, 159.0, 159.0, 157.79, 159.664, 157.302, 157.936, 158.294, 159.742, 157.568, 158.312, 159.186, 159.426, 158.56, 159.356, 159.326, 158.61, 159.642, 158.988, 159.352, 160.886, 158.106, 158.868, 157.946, 158.636, 158.838, 157.232, 159.682, 159.038, 158.326, 158.784, 158.288, 158.412, 158.284, 156.256, 157.874, 157.642, 159.234, 159.74, 158.71, 158.95, 159.606, 156.528, 159.098, 157.53, 158.656, 158.172, 157.682, 158.342, 157.494, 158.942, 158.308, 158.748, 159.834, 158.382, 158.986, 159.824, 159.266, 160.416, 158.248, 158.844, 158.938, 157.384, 158.506, 155.948, 157.36, 159.512, 159.154, 158.952, 158.906, 157.828, 158.022, 159.562, 158.832, 158.232, 159.772, 159.958, 158.224, 158.808, 158.172, 159.112, 159.088, 158.354, 158.252, 157.536, 157.19, 158.238, 158.268, 158.336, 157.21, 158.496, 158.764, 157.85, 158.98, 158.15, 158.65, 158.09, 158.264, 157.888, 158.372, 157.984, 158.58, 159.096, 157.868, 157.564, 158.308, 159.444, 159.748, 159.588, 159.554, 158.986, 158.09, 157.388, 159.884, 158.458, 158.252, 158.134, 158.054, 159.218, 158.996, 158.308, 157.902, 159.474, 156.7, 158.13, 157.61, 159.79, 158.806, 159.768, 158.108, 156.666, 159.904, 158.7, 159.232, 157.692, 159.166, 157.634, 158.242, 158.956, 159.812, 158.864, 160.9, 159.314, 157.698, 157.352, 158.372, 157.726, 159.314, 159.006, 158.21, 158.364, 159.61, 158.296, 159.038, 158.586, 158.058, 159.02, 159.314, 158.052, 157.888, 159.29, 157.778, 157.582, 158.336, 159.21, 158.512, 157.36, 159.998, 157.462, 158.81, 158.894, 157.578, 156.636, 159.014, 157.9, 160.334, 156.82, 158.74, 157.928, 160.174, 159.388, 159.216, 157.886, 158.514, 157.35, 158.99, 158.844, 158.966, 157.814, 156.128, 158.3, 156.99, 158.2, 159.04, 159.34, 158.366, 159.044, 159.11, 158.154, 158.0, 159.316, 157.046, 157.816, 159.826, 157.698, 157.886, 158.846, 157.798, 159.024, 159.732, 158.672, 158.98, 158.17, 158.466, 158.858, 157.002, 157.988, 159.106, 158.738, 158.952, 157.628, 158.128, 157.258, 158.664, 158.306, 159.724, 158.38, 158.438, 157.424, 158.25, 158.858, 159.114, 159.352, 158.682, 158.192, 158.798, 159.406, 158.844, 158.216, 158.686, 157.644, 157.57, 158.364, 158.376, 157.67, 157.774, 157.742, 159.712, 157.894, 158.748, 158.314, 159.184, 159.112, 160.528, 158.014, 157.72, 158.832, 158.51, 159.186, 157.71, 158.158, 158.648, 158.122, 158.99, 158.558, 159.55, 158.438, 158.574, 157.77, 158.354, 159.95, 158.474, 160.326, 157.596, 157.354, 159.06, 158.232, 159.716, 158.364, 158.236, 158.954, 157.618, 157.992, 158.246, 158.768, 158.248, 158.882, 160.188, 158.272, 159.748, 156.854, 159.258, 159.208, 158.412, 158.726, 159.57, 159.36, 157.632, 159.11, 160.28, 157.968, 158.296, 157.9, 157.198, 158.726, 158.528, 157.34, 159.262, 159.034, 158.738, 159.206, 160.012, 158.144, 159.772, 157.894, 157.808, 157.872, 159.406, 158.616, 160.236, 157.706, 157.454, 156.892, 159.428, 158.396, 157.46, 158.578, 157.482, 157.044, 158.618, 159.382, 158.13, 159.068, 158.784, 158.458, 158.372, 158.106, 160.438, 158.798, 158.536, 159.04, 157.706, 158.828, 159.492, 158.316, 159.396, 157.412, 158.806, 158.418, 158.928, 158.546, 159.446, 159.024, 158.926, 156.516, 158.42, 159.08, 157.402, 159.412, 159.556, 159.294, 158.934, 158.804, 160.142, 158.266, 159.724, 160.856, 159.592, 159.558, 158.938, 157.948, 159.326, 160.596, 160.014, 158.876, 157.738, 159.426, 159.01, 159.928, 158.842, 158.752, 159.532, 158.456, 156.96, 158.658, 158.7, 157.31, 157.73, 157.846, 157.888, 157.916, 160.112, 159.06, 158.17, 158.314, 158.99, 157.602, 159.098, 158.586, 157.888, 158.678, 157.738, 158.452, 159.604, 159.342, 158.258, 158.798, 159.792, 158.264, 157.084, 158.608, 159.84, 156.946, 159.422, 157.422, 157.384, 158.666, 159.302, 159.082, 159.508, 156.856, 159.682, 158.538, 158.716, 157.478, 159.076, 159.202, 160.458, 159.244, 158.74, 157.796, 158.504, 158.512, 158.358, 158.204, 157.568, 156.576, 160.88, 158.02, 159.152, 158.876, 158.772, 158.19, 158.078, 157.158, 157.074, 157.948, 159.79, 158.492, 159.468, 158.686, 159.278, 158.178, 158.626, 158.722, 157.734, 157.742, 157.696, 156.632, 159.03, 158.876, 157.948, 158.362, 157.256, 157.51, 158.924, 158.838, 156.666, 158.04, 157.84, 157.862, 158.362, 160.806, 158.664, 158.062, 158.992, 158.122, 157.95, 158.276, 158.79, 159.38, 158.39, 159.368, 158.562, 158.388, 157.276, 159.854, 158.086, 158.896, 158.186, 158.388, 157.79, 159.234, 160.164, 156.55, 158.738, 157.454, 159.174, 157.25, 159.586, 158.53, 158.05, 157.252, 157.548, 158.568, 158.406, 158.126, 159.964, 159.088, 160.394, 159.45, 158.628, 157.866, 158.788, 158.742, 157.93, 158.614, 159.374, 158.712, 158.566, 159.278, 158.922, 159.256, 159.168, 157.71, 160.196, 157.374, 159.658, 156.69, 158.208, 158.222, 157.07, 158.116, 157.91, 157.488, 157.94, 157.998, 157.968, 158.014, 158.988, 159.712, 159.772, 157.444, 158.702, 157.762, 157.334, 158.476, 158.874, 157.762, 158.556, 158.796, 158.992, 158.544, 158.734, 158.144, 159.134, 158.842, 159.85, 158.28, 158.24, 158.006, 156.184, 159.782, 156.518, 157.732, 158.04, 159.976, 157.118, 158.86, 157.932, 158.696, 158.386, 159.422, 159.25, 158.808, 158.268, 156.824, 159.188, 158.806, 155.44, 159.03, 159.216, 159.496, 159.294, 159.504, 156.684, 158.21, 157.356, 157.124, 160.038, 160.308, 159.202, 159.314, 159.416, 158.436, 158.428, 158.17, 158.424, 157.696, 159.686, 159.336, 159.036, 158.476, 159.214, 157.838, 157.416, 158.328, 159.392, 158.396, 159.086, 158.094, 159.484, 158.876, 159.178, 159.118, 160.16, 159.752, 157.726, 158.376, 159.16, 159.192, 159.896, 158.176, 158.696, 157.216, 156.746, 159.296, 158.48, 157.686, 157.338, 159.312, 159.452, 159.114, 157.99, 157.436, 158.164, 158.42, 159.096, 157.506, 157.64, 159.242, 159.074, 158.312, 158.56, 158.97, 159.536, 157.452, 159.008, 158.494, 159.586, 159.178, 160.116, 159.39, 156.982, 156.934, 157.274, 158.568, 157.068, 158.048, 158.494, 159.076, 157.752, 158.244, 159.616, 158.818, 158.504, 158.36, 157.958, 158.316, 159.458, 159.09, 157.902, 159.834, 159.698, 158.77, 158.292, 157.642, 158.816, 158.232, 158.618, 158.074, 158.808, 159.296, 158.506, 158.65, 160.118, 159.208, 158.692, 157.224, 157.28, 159.432, 158.256, 158.056, 157.616, 158.454, 159.716, 158.236, 159.34, 158.214, 158.93, 158.79, 158.736, 158.15, 156.85, 158.332, 159.156, 158.344, 158.384, 158.958, 157.422, 159.396, 157.604, 159.586, 159.232, 158.048, 158.066, 159.392, 159.116, 157.758, 158.74, 159.752, 158.666, 159.13, 157.402, 157.602, 158.174, 157.886, 159.248, 158.59, 159.17, 158.052, 157.654, 157.918, 158.774, 159.742, 159.088, 157.04, 158.582, 158.052, 158.79, 158.658, 157.942, 157.456, 156.576, 159.756, 157.192, 158.484, 158.466, 158.604, 157.816, 158.702, 159.106, 158.234, 158.666, 158.312, 158.428, 158.808, 158.238, 158.59, 159.522, 158.942, 157.236, 159.228, 157.18, 161.3, 156.478, 157.958, 158.91, 158.772, 158.57, 159.92, 159.38, 156.9, 158.62, 158.328, 157.602, 158.508, 158.518, 157.992, 158.234, 158.712, 160.284, 158.144, 158.844, 158.528, 158.386, 158.74, 158.534, 157.452, 157.784, 157.788, 156.21, 158.522, 157.832, 157.546, 159.606, 159.502, 158.442, 158.622, 159.948, 158.504, 160.294, 156.926, 158.188, 158.366, 157.93, 159.432, 158.88, 157.37, 157.97, 158.656, 158.96, 157.68, 158.528, 156.486, 158.864, 158.212, 156.77, 159.016, 158.574, 157.268, 158.282, 158.338, 158.338, 160.62, 157.482, 158.512, 158.934, 158.116, 159.13, 159.118, 158.222, 158.712, 158.326, 158.248, 160.176, 159.154, 157.566, 158.232, 158.618, 159.412, 157.368, 159.266, 158.09, 158.364, 159.662, 158.832, 158.892, 158.5, 159.23, 159.104, 159.99, 157.55, 158.068, 159.05, 157.72, 158.882, 157.546, 157.898, 157.598, 159.074, 159.804, 158.262, 159.15, 157.998, 158.722, 157.4, 158.25, 159.474, 157.93, 158.28, 158.874, 157.01, 158.626, 158.856, 159.61, 159.59, 158.164, 159.386, 159.558, 158.264, 159.074, 157.748, 157.35, 157.688, 157.392, 157.77, 159.054, 159.444, 158.128, 159.198, 159.334, 159.04, 157.814, 160.822, 157.91, 159.248, 157.352, 158.862, 158.664, 157.22, 159.158, 159.094, 157.792, 158.252, 158.66, 158.514, 158.608, 158.16, 160.26, 158.474, 157.616, 157.828, 159.53, 157.818, 159.016, 158.086, 160.452, 158.998, 158.476, 159.984, 157.864, 157.302, 157.898, 158.456, 158.318, 158.892, 157.132, 159.9, 159.758, 157.442, 157.33, 159.424, 158.546, 157.862, 159.612, 159.776, 158.786, 157.64, 158.374, 159.08, 158.838, 157.742, 158.736, 160.612, 159.826, 159.246, 159.948, 159.678, 159.898, 158.558, 156.644, 157.942, 159.386, 159.568, 158.978, 159.11, 159.904, 158.804, 159.25, 159.106, 158.808, 158.814, 158.53, 157.242, 158.47, 157.382, 158.278, 158.564, 159.49, 159.676, 159.268, 158.708, 158.062, 156.886, 158.492, 159.476, 160.316, 157.894, 157.368, 158.798, 158.344, 158.326, 157.394, 159.134, 157.354, 158.396, 157.3, 158.538, 158.258, 159.056, 157.9, 158.482, 156.008, 158.606, 157.496, 158.228, 159.714, 158.954, 159.478, 159.836, 158.226, 159.226, 159.924, 158.456, 157.638, 160.21, 158.14, 159.364, 156.694, 159.434, 158.33, 157.886, 157.832, 157.154, 158.462, 158.194, 157.338, 158.822, 158.144, 158.012, 159.292, 159.292, 158.352, 160.454, 158.582, 158.384, 158.352, 160.812, 159.196, 157.034, 159.182, 157.824, 158.736, 157.902, 160.062, 158.548, 158.864, 159.404, 158.228, 160.49, 156.712, 157.962, 160.222, 158.936, 157.808, 159.042, 159.43, 157.966, 158.162, 158.348, 157.714, 158.904, 158.948, 157.288, 159.504, 158.318, 157.894, 157.622, 157.282, 158.984, 157.31, 157.692, 158.36, 160.072, 159.546, 158.71, 159.616, 157.79, 158.908, 157.402, 159.634, 158.16, 158.146, 157.592, 158.37, 158.3, 158.056, 158.74, 158.304, 159.656, 158.244, 157.682, 157.52, 158.87, 158.476, 158.076, 157.146, 158.818, 158.978, 158.234, 159.542, 156.984, 158.104, 158.728, 158.808, 160.178, 158.528, 159.142, 157.694, 157.218, 158.474, 158.854, 158.588, 158.582, 157.724, 158.796, 158.986, 159.624, 159.324, 158.252, 159.438, 158.288, 158.858, 158.506, 158.83, 159.656, 158.868, 157.95, 154.396, 159.22, 158.036, 158.576, 156.504, 160.24, 158.14, 158.15, 158.026, 159.256, 158.5, 157.87, 159.154, 158.684, 159.636, 158.524, 157.668, 159.184, 158.97, 158.164, 158.606, 157.45, 157.476, 158.876, 159.52, 158.63, 158.644, 157.068, 157.938, 157.326, 158.812, 157.962, 158.106, 158.99, 158.576, 158.408, 160.212, 158.944, 157.152, 158.09, 158.294, 159.828, 159.016, 157.224, 159.42, 158.358, 158.96, 159.476, 158.088, 158.246, 158.178, 158.464, 160.252, 159.85, 158.488, 159.658, 158.466, 158.46, 158.182, 159.89, 158.042, 159.464, 158.414, 157.566, 159.612, 157.784, 158.408, 158.572, 157.312, 157.646, 157.398, 158.638, 157.542, 157.554, 159.028, 156.862, 157.976, 158.976, 157.652, 158.49, 157.99, 158.864, 159.794, 158.746, 157.478, 159.56, 158.31, 158.152, 158.728, 160.262, 157.874, 158.158, 157.472, 157.852, 157.964, 157.57, 157.526, 158.758, 157.94, 159.178, 158.754, 160.104, 158.056, 157.47, 158.226, 159.682, 157.234, 158.742, 159.298, 158.904, 159.22, 158.54, 158.55, 158.156, 158.876, 158.416, 157.45, 157.774, 159.344, 159.258, 160.36, 159.53, 159.304, 157.478, 158.768, 159.718, 157.482, 158.98, 158.624, 157.776, 158.178, 159.076, 157.876, 159.354, 159.36, 158.792, 159.822, 158.684, 158.892, 158.154, 158.432, 158.654, 158.098, 159.088, 158.202, 157.928, 157.562, 159.656, 158.516, 157.776, 158.974, 157.822, 158.324, 159.842, 157.138, 159.248, 156.808, 158.032, 160.306, 157.116, 159.99, 159.89, 159.496, 157.722, 158.878, 158.47, 157.906, 159.238, 157.778, 159.588, 159.422, 157.362, 158.208, 158.526, 159.9, 157.524, 157.516, 160.158, 157.818, 157.874, 158.836, 159.332, 159.148, 158.814, 158.856, 158.77, 159.392, 158.386, 159.384, 158.41, 157.908, 156.946, 158.442, 158.468, 159.26, 157.982, 156.94, 159.414, 158.99, 157.516, 156.41, 158.524, 159.008, 158.72, 158.5, 158.272, 158.378, 158.83, 157.812, 159.472, 157.154, 158.356, 158.732, 158.466, 159.18, 158.754, 158.132, 158.648, 158.06, 159.314, 157.666, 156.576, 158.108, 158.224, 159.204, 159.792, 159.026, 159.49, 159.088, 158.296, 157.612, 158.392, 159.03, 158.962, 158.59, 158.116, 158.166, 157.992, 158.106, 158.344, 159.956, 158.264, 158.184, 158.474, 158.306, 158.83, 158.254, 159.702, 158.33, 156.416, 158.37, 157.966, 159.424, 159.166, 158.77, 159.61, 158.524, 156.838, 157.308, 159.276, 159.784, 159.408, 158.746, 157.986, 159.128, 158.776, 158.972, 156.478, 157.946, 159.868, 158.304, 159.72, 157.788, 158.818, 157.268, 157.444, 159.48, 157.69, 157.916, 158.448, 160.224, 158.044]\n"
     ]
    }
   ],
   "source": [
    "medias = [np.mean(np.random.randint(126,192,500)) for _ in range(10000)] # o for será executado 10000 vezes com 500 posições em cada vetor\n",
    "# gerando a média dos 10mil vetores\n",
    "print(medias)"
   ]
  },
  {
   "cell_type": "code",
   "execution_count": 38,
   "id": "ccdb70b0",
   "metadata": {},
   "outputs": [
    {
     "name": "stderr",
     "output_type": "stream",
     "text": [
      "C:\\Users\\Matheus\\anaconda3\\lib\\site-packages\\seaborn\\distributions.py:2619: FutureWarning: `distplot` is a deprecated function and will be removed in a future version. Please adapt your code to use either `displot` (a figure-level function with similar flexibility) or `histplot` (an axes-level function for histograms).\n",
      "  warnings.warn(msg, FutureWarning)\n"
     ]
    },
    {
     "data": {
      "text/plain": [
       "<AxesSubplot:ylabel='Density'>"
      ]
     },
     "execution_count": 38,
     "metadata": {},
     "output_type": "execute_result"
    },
    {
     "data": {
      "image/png": "[encoded data removed]",
      "text/plain": [
       "<Figure size 432x288 with 1 Axes>"
      ]
     },
     "metadata": {
      "needs_background": "light"
     },
     "output_type": "display_data"
    }
   ],
   "source": [
    "# gerando uma distribuição das médias\n",
    "# porem juntando as medias de todas as distribuições, teremos uma distribuição muito próximo da distribuição normal\n",
    "sns.distplot(medias)"
   ]
  },
  {
   "cell_type": "markdown",
   "id": "9bf24381",
   "metadata": {},
   "source": [
    "### Distribuição Gama\n",
    "1. Valores assimétricos à direita\n",
    "2. Análise tempo de meia vida de produtos\n",
    "3. Modelagem de inadiplência \n",
    "4. Quantidade de chuva em reservatório\n",
    "5. Tempo de reação de motoristas ao passar da idade"
   ]
  },
  {
   "cell_type": "code",
   "execution_count": 39,
   "id": "ae63093a",
   "metadata": {},
   "outputs": [],
   "source": [
    "from scipy.stats import gamma"
   ]
  },
  {
   "cell_type": "code",
   "execution_count": 40,
   "id": "b3a3998f",
   "metadata": {},
   "outputs": [],
   "source": [
    "dados_gama = gamma.rvs(a = 1, size = 1000)"
   ]
  },
  {
   "cell_type": "code",
   "execution_count": 41,
   "id": "98d466bf",
   "metadata": {},
   "outputs": [
    {
     "name": "stderr",
     "output_type": "stream",
     "text": [
      "C:\\Users\\Matheus\\anaconda3\\lib\\site-packages\\seaborn\\distributions.py:2619: FutureWarning: `distplot` is a deprecated function and will be removed in a future version. Please adapt your code to use either `displot` (a figure-level function with similar flexibility) or `histplot` (an axes-level function for histograms).\n",
      "  warnings.warn(msg, FutureWarning)\n"
     ]
    },
    {
     "data": {
      "text/plain": [
       "<AxesSubplot:ylabel='Density'>"
      ]
     },
     "execution_count": 41,
     "metadata": {},
     "output_type": "execute_result"
    },
    {
     "data": {
      "image/png": "[encoded data removed]",
      "text/plain": [
       "<Figure size 432x288 with 1 Axes>"
      ]
     },
     "metadata": {
      "needs_background": "light"
     },
     "output_type": "display_data"
    }
   ],
   "source": [
    "sns.distplot(dados_gama) # concentração dos maiores valores para a esquerda\n",
    "# o valor de a especifica o ponto de decaimento"
   ]
  },
  {
   "cell_type": "code",
   "execution_count": 42,
   "id": "84852ea0",
   "metadata": {},
   "outputs": [
    {
     "data": {
      "text/plain": [
       "(0.0013469654918385164, 8.265261695362792)"
      ]
     },
     "execution_count": 42,
     "metadata": {},
     "output_type": "execute_result"
    }
   ],
   "source": [
    "min(dados_gama), max(dados_gama)"
   ]
  },
  {
   "cell_type": "markdown",
   "id": "0a6895e2",
   "metadata": {},
   "source": [
    "### Distribuição Exponencial (um tipo de Gama)"
   ]
  },
  {
   "cell_type": "code",
   "execution_count": 43,
   "id": "21476d69",
   "metadata": {},
   "outputs": [],
   "source": [
    "from scipy.stats import expon"
   ]
  },
  {
   "cell_type": "code",
   "execution_count": 44,
   "id": "5fc3a3a5",
   "metadata": {},
   "outputs": [
    {
     "data": {
      "text/plain": [
       "array([8.40947232e-01, 8.91529974e-01, 1.80455770e+00, 4.20184677e+00,\n",
       "       1.02114767e+00, 2.90167156e-01, 1.75830001e+00, 1.36347774e+00,\n",
       "       2.30411751e+00, 1.30957859e+00, 4.01090402e+00, 6.48492614e-01,\n",
       "       1.18179674e+00, 1.87298046e+00, 4.08627827e+00, 2.47727832e-01,\n",
       "       4.31020301e-01, 1.81859026e+00, 9.51766413e-01, 1.40003139e-01,\n",
       "       1.52643835e+00, 3.70206782e+00, 5.23297406e-01, 1.89050616e+00,\n",
       "       1.60242593e+00, 1.82024948e+00, 4.09242917e-01, 1.21793481e+00,\n",
       "       2.13876739e+00, 6.66380170e-01, 2.97234710e+00, 1.24506425e+00,\n",
       "       1.08226920e+00, 2.42770368e-02, 1.74783317e+00, 2.02630038e+00,\n",
       "       1.02191610e+00, 5.09846315e-01, 1.72520673e+00, 2.23477684e-01,\n",
       "       1.58716196e+00, 1.09841370e+00, 7.07119178e-03, 6.75867930e-01,\n",
       "       2.25788556e-02, 1.74657582e+00, 1.50936486e-03, 1.12160072e+00,\n",
       "       1.39305982e+00, 8.73080670e-03, 2.25380611e-01, 6.72467467e-01,\n",
       "       1.18344340e+00, 1.00948215e+00, 3.30651447e-01, 2.02665606e-01,\n",
       "       4.04200233e-01, 2.56658748e-01, 1.12892628e+00, 2.17644976e-01,\n",
       "       6.35603771e-01, 1.45375504e-01, 2.72359341e+00, 8.03753874e-01,\n",
       "       1.58520987e-01, 5.21323365e-02, 4.60618790e-01, 2.48480860e+00,\n",
       "       4.43019649e+00, 6.33906705e-01, 6.14873098e-01, 1.80833778e+00,\n",
       "       7.48528361e-03, 3.95839010e+00, 4.89379241e-01, 2.90993777e-02,\n",
       "       6.82484950e-02, 3.82838401e-01, 2.70963507e-01, 9.41676672e-02,\n",
       "       4.48906088e-02, 2.27784473e+00, 3.31758097e-01, 3.22227957e-01,\n",
       "       1.69113808e+00, 6.04793119e-01, 1.75910078e-01, 1.64312147e-02,\n",
       "       7.78430934e-01, 1.31821065e+00, 1.12145341e+00, 7.05966274e-01,\n",
       "       1.63270981e+00, 2.19251510e+00, 1.19543153e+00, 4.00457681e-01,\n",
       "       1.05247622e+00, 2.29098246e+00, 9.16164464e-01, 1.72618947e+00,\n",
       "       6.08221607e-01, 1.94618689e+00, 1.79367862e+00, 1.48105281e+00,\n",
       "       1.93546641e+00, 3.77718300e-01, 4.84461508e-01, 8.86658393e-01,\n",
       "       7.74588969e-01, 5.48714987e-01, 2.23540081e-01, 2.49665003e+00,\n",
       "       5.46469242e-01, 1.06641634e+00, 5.32718936e-01, 2.07441227e-01,\n",
       "       3.23175766e-01, 1.14692956e+00, 9.56546410e-01, 1.08853444e+00,\n",
       "       7.37760440e-02, 1.99092675e-01, 1.02024818e-02, 1.06649316e+00,\n",
       "       1.92120031e-01, 3.83946686e-01, 1.62928232e+00, 7.53721430e-01,\n",
       "       2.90991055e-01, 2.26245434e-01, 4.03823945e-01, 2.18304563e+00,\n",
       "       2.83097421e-01, 4.64487259e-01, 5.57172726e-01, 1.01257909e+00,\n",
       "       6.20678579e-01, 2.31037654e+00, 8.51127506e-01, 3.25054040e-01,\n",
       "       5.17248092e-01, 8.91273025e-01, 1.17277097e+00, 1.46684963e+00,\n",
       "       4.02450858e+00, 7.13314466e-01, 1.19240398e-01, 2.49993867e-01,\n",
       "       1.08152150e+00, 4.19116304e-01, 3.25858919e-01, 3.26323188e-02,\n",
       "       2.03689436e+00, 1.61773532e+00, 1.98644064e+00, 7.03029534e-01,\n",
       "       3.10345369e-01, 2.15208242e+00, 2.24587498e-02, 5.03315843e-02,\n",
       "       2.79499621e-02, 1.12602747e-01, 2.54605143e+00, 2.24723336e-01,\n",
       "       3.84253519e+00, 4.34079230e-01, 1.08275523e+00, 3.40955535e-01,\n",
       "       5.65528097e-01, 4.47685181e-01, 4.21189893e-01, 7.37883015e+00,\n",
       "       1.55948848e+00, 3.82820659e-01, 4.09176704e-02, 2.30421844e-01,\n",
       "       1.48729276e+00, 5.80804508e-01, 9.69294531e-02, 1.55954084e+00,\n",
       "       1.49311367e+00, 8.51034876e-01, 2.45166157e+00, 3.90579622e-01,\n",
       "       1.78824782e+00, 3.16738186e-01, 6.31637360e-01, 1.03057131e+00,\n",
       "       2.14935992e-01, 7.26732726e-01, 3.09537512e+00, 1.29845177e-01,\n",
       "       9.92775608e-02, 6.97098803e-01, 3.34790362e-01, 7.05840106e-01,\n",
       "       1.89184218e-01, 1.18414459e+00, 6.48002627e-01, 4.92123616e-01,\n",
       "       1.78416367e+00, 6.46809340e-01, 9.74565353e-01, 2.60483824e-01,\n",
       "       1.36371536e+00, 1.29223830e+00, 6.87705140e-01, 1.30888480e+00,\n",
       "       1.67394174e+00, 4.70354115e-01, 9.78213539e-02, 3.70837353e+00,\n",
       "       1.04231041e+00, 3.66747404e-02, 6.55851020e-01, 1.21474785e+00,\n",
       "       1.16586742e+00, 1.04546927e-01, 4.86712396e-01, 1.81929841e-01,\n",
       "       5.71197484e-01, 5.93577859e-01, 3.43119049e+00, 8.91192298e-03,\n",
       "       4.09926906e-01, 1.12228209e+00, 4.97788532e+00, 1.08557143e+00,\n",
       "       4.85883245e-01, 7.72081076e-01, 5.62381866e+00, 2.32473806e+00,\n",
       "       1.13841931e-01, 7.73890136e-01, 4.44193549e-01, 3.05795508e+00,\n",
       "       4.06189904e-01, 3.48645670e-02, 1.09003647e+00, 9.20966491e-02,\n",
       "       1.26660415e+00, 3.28969724e-01, 6.67334975e-02, 1.10954632e-01,\n",
       "       2.80767510e-01, 5.14558492e-01, 1.55301545e+00, 1.18487206e+00,\n",
       "       1.02742837e+00, 3.78620795e-02, 8.91755971e-01, 1.37370421e+00,\n",
       "       1.48511366e-01, 1.33253431e-01, 5.73257015e-01, 9.39937739e-02,\n",
       "       7.18675775e-01, 6.31823997e-02, 2.33012482e-01, 1.48984034e-01,\n",
       "       4.54342839e+00, 1.00640175e+00, 2.04292452e+00, 2.37525566e+00,\n",
       "       2.44154488e+00, 8.15278177e-01, 6.23013373e-01, 1.09839931e+00,\n",
       "       3.14253688e-01, 6.36206877e-01, 6.29297525e-01, 2.12712253e+00,\n",
       "       8.70881759e-02, 4.14343645e-01, 2.35284299e-01, 3.81701983e-01,\n",
       "       3.77901605e-01, 1.48286076e+00, 2.93375172e+00, 5.60405652e-01,\n",
       "       1.24631517e-01, 6.44081355e-01, 3.59391532e-01, 8.76919382e-01,\n",
       "       4.20098593e-01, 1.45528152e+00, 2.57523958e+00, 1.52862588e+00,\n",
       "       1.71218925e-01, 6.43957130e-01, 2.57473944e+00, 2.48951469e+00,\n",
       "       1.91794534e-02, 8.13026961e-01, 1.30237932e-01, 1.81452246e-01,\n",
       "       2.41922090e-01, 5.88531401e-01, 1.21095043e-01, 2.02709666e-01,\n",
       "       1.00247158e+00, 1.36382547e+00, 2.89772148e-01, 1.78162929e+00,\n",
       "       3.63046857e+00, 5.82191182e-01, 9.52021495e-01, 7.04894104e-02,\n",
       "       1.28058120e-01, 3.28803182e-01, 2.82073656e+00, 2.25765886e+00,\n",
       "       4.45739266e+00, 1.61303614e+00, 3.29907522e-01, 8.73207308e-01,\n",
       "       6.86101482e-01, 8.57564627e-02, 3.10233570e-01, 2.77785002e-01,\n",
       "       1.17853355e-01, 8.59371702e-02, 6.87162404e-01, 7.52143201e-01,\n",
       "       2.55261267e-01, 7.76330641e-01, 2.79626809e-01, 1.05449665e+00,\n",
       "       5.54241308e-01, 9.88771866e-01, 1.98309130e+00, 3.71560529e-01,\n",
       "       2.06525477e+00, 1.17935486e+00, 2.10127369e-01, 5.48948462e-01,\n",
       "       1.17744711e-01, 2.72251379e+00, 8.13439604e-01, 4.19469188e-01,\n",
       "       3.97931260e-02, 1.02146632e+00, 1.21843022e+00, 4.68454589e-01,\n",
       "       9.47929600e-01, 4.03653021e+00, 6.38670470e-01, 9.21751605e-01,\n",
       "       3.46648133e-01, 8.58238576e-01, 3.67790549e-03, 3.94779929e+00,\n",
       "       2.31870319e+00, 2.44331399e+00, 7.74619846e-01, 3.53346228e+00,\n",
       "       3.36708007e+00, 2.96566503e-01, 2.62508879e-02, 7.50583637e-01,\n",
       "       5.02058195e-01, 2.61910140e+00, 3.08298870e-02, 1.02869401e+00,\n",
       "       3.60561276e+00, 1.15839827e+00, 9.68651156e-01, 2.02280182e+00,\n",
       "       2.71783134e-01, 5.59026614e+00, 1.94898480e-02, 1.45478056e+00,\n",
       "       2.81038146e-01, 3.79282441e+00, 3.91541711e-01, 1.24125355e+00,\n",
       "       6.98327078e-01, 4.87162942e-01, 1.17876920e+00, 6.85890517e-01,\n",
       "       1.97859824e-01, 2.16875137e+00, 2.66476542e-01, 1.38094329e+00,\n",
       "       7.39930821e-01, 1.76424347e+00, 3.28709607e-01, 8.27244049e-01,\n",
       "       7.97951114e-01, 7.07349687e-01, 1.03472556e-01, 2.83467959e+00,\n",
       "       1.18592145e+00, 1.85885259e-01, 1.11323491e+00, 9.34216361e-01,\n",
       "       2.66960884e-01, 1.35203098e+00, 3.24738252e-01, 1.54110664e+00,\n",
       "       7.70450942e-01, 2.39917393e+00, 3.26749628e+00, 4.12215450e-01,\n",
       "       7.98538243e-01, 7.74783188e-02, 8.60257391e-01, 3.85490556e-01,\n",
       "       7.10654085e-02, 4.35061968e-02, 3.89969510e-02, 3.82527331e-01,\n",
       "       8.34791370e-01, 9.62920285e-01, 9.61133274e-01, 6.94693349e-01,\n",
       "       7.78040992e-01, 7.39545173e-01, 2.37554250e-02, 1.83164995e-01,\n",
       "       1.73100248e+00, 1.50859416e+00, 6.14441402e-02, 1.93664361e+00,\n",
       "       1.16390407e+00, 1.50651106e+00, 4.58712043e+00, 4.11462789e-02,\n",
       "       4.16125142e-02, 7.69385053e-02, 4.97472665e-01, 1.23317564e+00,\n",
       "       1.23310287e+00, 1.25485564e+00, 2.04537854e+00, 8.94124320e-01,\n",
       "       1.39314585e+00, 1.44320125e+00, 3.84350662e-02, 4.46708693e-02,\n",
       "       1.33970508e-01, 2.52336246e-01, 4.27670682e-01, 6.91217274e+00,\n",
       "       1.23987221e+00, 6.95436754e-01, 6.12368068e-02, 9.75183882e-01,\n",
       "       1.14126467e+00, 5.70770692e-02, 7.46987002e-01, 5.37280311e-01,\n",
       "       6.69067849e-02, 2.62551865e+00, 2.66677062e+00, 3.18560963e+00,\n",
       "       1.25256778e+00, 7.94766017e-02, 1.72396311e+00, 5.22216350e-02,\n",
       "       1.63517054e-01, 2.65208541e+00, 1.19392338e+00, 1.32945264e-02,\n",
       "       1.38601090e+00, 2.40806978e+00, 9.84202226e-01, 4.69721507e+00,\n",
       "       5.33882486e-01, 2.02254351e+00, 3.40564628e+00, 1.07483862e+00,\n",
       "       4.86774722e-01, 9.98164080e-01, 5.74552091e-01, 1.67858306e-01,\n",
       "       4.12047905e-01, 5.83302362e-01, 5.81935203e-01, 3.54582199e+00,\n",
       "       5.68013863e-01, 1.72339034e+00, 2.88670089e+00, 8.64419336e-01,\n",
       "       6.16959641e-01, 1.84981757e+00, 3.22472015e+00, 5.96905411e-01,\n",
       "       2.74058676e-01, 1.56418732e+00, 1.17454839e+00, 1.40947647e+00,\n",
       "       2.46162674e+00, 7.00842289e-01, 6.73300824e-02, 1.36467401e+00,\n",
       "       1.84463134e-01, 7.17517630e-01, 4.78543011e-01, 1.00264997e+00,\n",
       "       3.82364869e-01, 1.16614250e+00, 1.88098257e+00, 7.90169658e-01,\n",
       "       4.52302967e-01, 1.38444710e+00, 4.43217668e-01, 5.04375854e-02,\n",
       "       1.68307662e+00, 4.19439902e-01, 2.49538103e+00, 3.00759392e-01,\n",
       "       2.26228775e-01, 5.22471687e-01, 1.11924430e+00, 1.74020570e-01,\n",
       "       1.08161954e+00, 3.03052083e-01, 1.01578775e+00, 8.55683003e-01,\n",
       "       2.01449283e-01, 2.11628117e+00, 5.70110240e-01, 8.34277760e-01,\n",
       "       1.56713852e+00, 1.69129608e+00, 7.32784354e-02, 2.24304422e+00,\n",
       "       4.25246751e-01, 7.38718632e-01, 1.40806674e-01, 9.97413280e-01,\n",
       "       8.57273751e-01, 7.01348180e-01, 2.82187871e+00, 6.29601344e-02,\n",
       "       9.98185505e-01, 1.81006639e+00, 3.54508556e-01, 1.51397946e+00,\n",
       "       2.65487013e-01, 1.04059839e+00, 5.04422182e-01, 5.65631612e-01,\n",
       "       1.64150024e-01, 1.54261490e+00, 1.12210222e+00, 9.18650010e-01,\n",
       "       9.40005502e-01, 1.24340005e+00, 1.75215278e-01, 2.79429509e-02,\n",
       "       8.85731556e-01, 3.09050570e-01, 6.00137243e-02, 1.85006909e+00,\n",
       "       1.30044749e-01, 1.36448077e-01, 1.88677982e-01, 7.16939704e-02,\n",
       "       3.13690578e+00, 1.21653936e+00, 4.82627381e-01, 1.07377835e-02,\n",
       "       5.77608828e-01, 8.67922464e-01, 6.66913863e-01, 6.74201606e-01,\n",
       "       3.83640836e-01, 1.01558921e+00, 2.12571968e+00, 2.82440884e+00,\n",
       "       4.34837404e-01, 1.13635079e-01, 2.01647810e-01, 1.54108640e+00,\n",
       "       5.01537427e-01, 5.48829316e-01, 9.60879004e-01, 7.88379653e-02,\n",
       "       1.65958793e+00, 2.47238663e+00, 6.29488527e-01, 4.61112486e-01,\n",
       "       1.02377729e+00, 2.54905552e-01, 1.36740163e-01, 8.29338971e-02,\n",
       "       1.46918717e+00, 5.79160529e-02, 1.04159466e-01, 4.15958384e-01,\n",
       "       4.84624387e+00, 1.41808052e+00, 6.72426949e-01, 1.62699549e+00,\n",
       "       3.21028369e-01, 2.81724736e-01, 1.29875598e+00, 2.02403523e+00,\n",
       "       1.94555157e-01, 2.18274207e-01, 5.70218948e-01, 3.07130708e-01,\n",
       "       2.18840142e+00, 2.62339240e+00, 6.84402724e-01, 8.24077409e-01,\n",
       "       3.52608319e-01, 2.37265425e+00, 3.45691939e-01, 9.56621789e-01,\n",
       "       1.76737540e-01, 2.44579395e-01, 1.70476478e+00, 1.76414190e+00,\n",
       "       2.43169792e+00, 3.23137453e+00, 5.36259150e-01, 3.15747901e+00,\n",
       "       1.10706331e-01, 1.69110391e-01, 4.18862219e+00, 2.77771267e-01,\n",
       "       2.58298531e+00, 2.53331474e-01, 3.26473875e-01, 3.36082080e-01,\n",
       "       2.12309050e-01, 1.08556662e+00, 1.47840960e+00, 1.81969116e+00,\n",
       "       1.16152575e+00, 3.98041671e-01, 6.88668339e-01, 2.00977576e-02,\n",
       "       1.35240159e+00, 1.62987979e+00, 1.97797884e-01, 4.21750341e+00,\n",
       "       1.82463250e+00, 4.46682752e-01, 2.12229564e-02, 5.93576225e-01,\n",
       "       4.54032506e-01, 6.36640767e-01, 3.61144320e-01, 8.55420072e-01,\n",
       "       3.98398510e-01, 1.26650410e+00, 1.46189939e-01, 2.82717530e+00,\n",
       "       1.12836221e-01, 6.94692102e-02, 9.79550388e-01, 2.15772210e-01,\n",
       "       3.33053946e-02, 8.94403148e-01, 3.47209640e-01, 3.37311754e-01,\n",
       "       9.40503273e-01, 4.60766079e-01, 5.86644574e-03, 1.03892146e+00,\n",
       "       8.46565656e-01, 1.27437156e-01, 2.31538069e-01, 4.92606633e+00,\n",
       "       2.69577163e-01, 3.00859015e-01, 9.93857561e-01, 2.06736537e+00,\n",
       "       8.71475782e-01, 3.40052261e+00, 4.49164176e-01, 1.00166961e+00,\n",
       "       6.68431643e-01, 7.91545445e-02, 1.12175768e+00, 1.53803555e-01,\n",
       "       9.97417995e-01, 9.45435265e-02, 1.99482275e+00, 1.31745007e+00,\n",
       "       2.14592522e-01, 1.96728476e+00, 1.54726225e+00, 9.71165748e-01,\n",
       "       1.08122963e-01, 1.03329401e+00, 2.42132420e-02, 6.86567878e-01,\n",
       "       1.17231852e+00, 5.20640745e-01, 2.32076577e+00, 1.56162476e+00,\n",
       "       7.76565568e-02, 1.11029169e+00, 1.08461138e+00, 1.05772132e-01,\n",
       "       3.86154534e-01, 1.05259032e-01, 2.20389955e-01, 5.04164801e-01,\n",
       "       6.15124801e-01, 1.06962903e+00, 8.67750589e-01, 3.23026484e+00,\n",
       "       1.43442609e+00, 5.35040196e-01, 1.35144567e+00, 3.60060837e-01,\n",
       "       6.71484627e-01, 8.39371543e-01, 6.74189217e-01, 5.26689572e-01,\n",
       "       3.34946760e+00, 2.93412164e-01, 5.31534380e-01, 2.01779046e+00,\n",
       "       3.55896072e+00, 2.77802959e-01, 4.28046999e-02, 1.71873503e+00,\n",
       "       1.91170105e-01, 2.02645299e+00, 2.77591983e-01, 1.06783944e+00,\n",
       "       3.21133691e-01, 3.10725494e-01, 1.16352283e+00, 2.60283965e-01,\n",
       "       2.05788067e-01, 1.20340186e-02, 5.60842372e-01, 1.20444941e-01,\n",
       "       4.17850137e-01, 1.30606554e-01, 4.88343499e-01, 1.15562279e+00,\n",
       "       1.19022776e+00, 1.44196422e+00, 2.57980780e-01, 4.03472109e+00,\n",
       "       1.21607186e+00, 5.94977858e-01, 1.20804427e+00, 6.45658144e-01,\n",
       "       1.14230017e+00, 9.32027216e-01, 1.16604408e+00, 8.81904077e-01,\n",
       "       1.82673732e-01, 1.28960578e+00, 1.35879577e-01, 3.08164706e-01,\n",
       "       4.37821476e-01, 4.77553778e-02, 7.99708281e-01, 2.87999551e-01,\n",
       "       3.06505455e-01, 5.60483841e-01, 4.00074832e+00, 2.49700281e+00,\n",
       "       1.24242199e+00, 3.12990541e-01, 8.85139673e-02, 2.31952134e-01,\n",
       "       1.80985756e-01, 3.10652563e+00, 4.91153643e-01, 6.71382064e-01,\n",
       "       7.46056832e-01, 4.64748795e-01, 4.82796735e-02, 6.79519315e-01,\n",
       "       3.04534935e-02, 2.95341612e-01, 1.43107267e-01, 2.29761435e-01,\n",
       "       3.82487760e+00, 5.48165563e-01, 1.95461322e-01, 2.07009526e+00,\n",
       "       5.67403665e-01, 1.73759751e-01, 7.84143914e-02, 1.01465346e+00,\n",
       "       8.31574765e-01, 9.13472508e-01, 1.89924463e-01, 1.95778377e+00,\n",
       "       1.47906676e+00, 9.72717925e-01, 2.13726027e-01, 8.82455605e-01,\n",
       "       1.21840633e+00, 2.02705830e+00, 3.23175676e-01, 1.40594109e-01,\n",
       "       6.53184836e-01, 3.78843839e-01, 6.99962259e-01, 3.21349584e-01,\n",
       "       1.63874426e-01, 2.47914118e+00, 2.26834921e+00, 3.27961351e+00,\n",
       "       5.32370783e-01, 1.28928014e+00, 9.45598880e-01, 1.56993730e-01,\n",
       "       1.27205376e-01, 1.22175540e+00, 1.87623719e-01, 1.56391913e+00,\n",
       "       5.93723027e-02, 7.29383914e-01, 8.37674798e-01, 4.16589082e-01,\n",
       "       5.90739782e-01, 5.05650410e-01, 1.63088876e+00, 5.30211029e-01,\n",
       "       2.20786289e+00, 2.91156703e+00, 1.12915959e-01, 2.54798664e-01,\n",
       "       1.70377143e+00, 2.97065993e-01, 1.63246905e-01, 7.79565800e-01,\n",
       "       4.05933738e-01, 1.53073050e-01, 2.09762236e-01, 1.62826388e+00,\n",
       "       9.66711511e-01, 4.20637884e-02, 1.69367447e-01, 3.09785885e+00,\n",
       "       1.83292719e-01, 2.65452280e+00, 3.82414397e-01, 1.90304870e+00,\n",
       "       8.55832686e-01, 6.93047869e-01, 4.30410750e-01, 7.35170656e-02,\n",
       "       1.19054093e+00, 1.25977153e+00, 2.27598070e+00, 2.62554983e-01,\n",
       "       6.95855875e-01, 1.99406521e+00, 9.56941813e-01, 8.70971549e-01,\n",
       "       1.48015822e+00, 5.58825331e-01, 4.93571401e+00, 9.44456628e+00,\n",
       "       1.82487068e-01, 3.75416761e-01, 6.14988004e-02, 1.45936535e-01,\n",
       "       5.18320125e-01, 1.74457504e+00, 3.81649441e+00, 1.10955808e+00,\n",
       "       6.47538310e-01, 1.42123264e-01, 3.43852001e-01, 1.48265203e+00,\n",
       "       1.22370475e+00, 4.99509283e-01, 3.91715972e-01, 2.68145509e+00,\n",
       "       4.43365699e-04, 8.64408481e-01, 1.75244173e+00, 5.63130962e-01,\n",
       "       3.43979718e+00, 9.75625225e-01, 2.16466738e+00, 9.26633212e-02,\n",
       "       1.23013682e+00, 8.29199916e-01, 1.24873397e+00, 3.87379734e-02,\n",
       "       6.13310635e-01, 1.48694036e+00, 1.14661158e+00, 3.38616726e-01,\n",
       "       2.41312484e-01, 4.34791991e-01, 1.11250363e+00, 5.22865631e-01,\n",
       "       2.43895837e-01, 6.45082445e-01, 7.11955756e-01, 6.48095758e-01,\n",
       "       4.61000702e-01, 9.85230737e-01, 1.35136055e+00, 2.30625530e-01,\n",
       "       8.19404573e-02, 5.51827895e-01, 9.57721911e-01, 2.57698196e+00,\n",
       "       1.87006354e+00, 4.00687520e-01, 6.49732128e-01, 1.03334850e+00,\n",
       "       6.91222196e-02, 2.02929993e+00, 7.06425537e-01, 9.08887877e-01,\n",
       "       1.23048186e-02, 2.85972555e-01, 5.83273587e-01, 7.17195487e-01,\n",
       "       5.30757963e-01, 3.11194046e+00, 6.54377159e-01, 3.11798383e-01,\n",
       "       1.41039910e+00, 7.53967956e-01, 7.80385603e-01, 6.39205095e-01,\n",
       "       1.05775313e+00, 1.51420052e+00, 3.57278143e-01, 5.63429945e-01,\n",
       "       6.46578314e-01, 1.08989417e+00, 6.40093169e-01, 1.90182034e+00,\n",
       "       2.06259566e-01, 8.50805682e-01, 2.15977788e+00, 6.89376079e-01,\n",
       "       5.92096367e-01, 9.60320022e-02, 9.66985504e-01, 1.18520759e-01,\n",
       "       6.65435225e-01, 2.50371165e+00, 1.28187945e-02, 2.70016461e+00,\n",
       "       5.13304483e-01, 1.82206052e-01, 1.24475098e+00, 2.30178336e+00,\n",
       "       1.19010883e-01, 2.05415232e+00, 9.51647432e-01, 5.53310526e-01,\n",
       "       1.88314505e-01, 1.89579466e+00, 1.63830736e-01, 3.25639724e-01,\n",
       "       1.07086250e+00, 4.24379467e-01, 1.57802005e-01, 5.39148788e-01,\n",
       "       1.37124579e+00, 5.56600829e-01, 2.97899207e-01, 6.08412678e-01,\n",
       "       1.96031237e+00, 1.26897646e+00, 1.38552471e+00, 7.82161113e-01,\n",
       "       2.93560031e-03, 1.46977474e+00, 8.14283839e-01, 4.26518082e-01,\n",
       "       1.16867388e+00, 6.17624026e-01, 9.46294700e-01, 7.72748265e-04,\n",
       "       6.40009952e-01, 2.53481019e-01, 1.33781798e-01, 4.95699252e+00,\n",
       "       3.46180360e+00, 2.09661919e-02, 1.36134427e+00, 1.95788360e+00,\n",
       "       6.07710497e-01, 1.21161644e+00, 1.75806105e+00, 1.10544011e+00,\n",
       "       1.97531254e-01, 2.41491513e-01, 2.51467776e-01, 1.82357332e+00,\n",
       "       3.52099331e+00, 2.98570925e+00, 2.84018753e+00, 2.74465317e+00])"
      ]
     },
     "execution_count": 44,
     "metadata": {},
     "output_type": "execute_result"
    }
   ],
   "source": [
    "dados_expo = expon.rvs(size = 1000)\n",
    "dados_expo"
   ]
  },
  {
   "cell_type": "code",
   "execution_count": 45,
   "id": "ed8ac35b",
   "metadata": {},
   "outputs": [
    {
     "name": "stderr",
     "output_type": "stream",
     "text": [
      "C:\\Users\\Matheus\\anaconda3\\lib\\site-packages\\seaborn\\distributions.py:2619: FutureWarning: `distplot` is a deprecated function and will be removed in a future version. Please adapt your code to use either `displot` (a figure-level function with similar flexibility) or `histplot` (an axes-level function for histograms).\n",
      "  warnings.warn(msg, FutureWarning)\n"
     ]
    },
    {
     "data": {
      "image/png": "[encoded data removed]",
      "text/plain": [
       "<Figure size 432x288 with 1 Axes>"
      ]
     },
     "metadata": {
      "needs_background": "light"
     },
     "output_type": "display_data"
    }
   ],
   "source": [
    "sns.distplot(dados_expo);"
   ]
  },
  {
   "cell_type": "code",
   "execution_count": 46,
   "id": "58b42723",
   "metadata": {},
   "outputs": [
    {
     "data": {
      "text/plain": [
       "(0.0004433656988132348, 9.44456628157371)"
      ]
     },
     "execution_count": 46,
     "metadata": {},
     "output_type": "execute_result"
    }
   ],
   "source": [
    "min(dados_expo), max(dados_expo)"
   ]
  },
  {
   "cell_type": "markdown",
   "id": "f11551e4",
   "metadata": {},
   "source": [
    "### Distribuição Uniforme\n",
    "1. Os números da distribuiçaõ possuem a **mesma probabilidade**\n",
    "2. Geração de números aleatórios em linguagem de programação"
   ]
  },
  {
   "cell_type": "code",
   "execution_count": 47,
   "id": "184eaa91",
   "metadata": {},
   "outputs": [],
   "source": [
    "from scipy.stats import uniform"
   ]
  },
  {
   "cell_type": "code",
   "execution_count": 48,
   "id": "127ded85",
   "metadata": {},
   "outputs": [],
   "source": [
    "dados_uniforme = uniform.rvs(size = 1000)"
   ]
  },
  {
   "cell_type": "code",
   "execution_count": 49,
   "id": "acccccda",
   "metadata": {},
   "outputs": [
    {
     "name": "stderr",
     "output_type": "stream",
     "text": [
      "C:\\Users\\Matheus\\anaconda3\\lib\\site-packages\\seaborn\\distributions.py:2619: FutureWarning: `distplot` is a deprecated function and will be removed in a future version. Please adapt your code to use either `displot` (a figure-level function with similar flexibility) or `histplot` (an axes-level function for histograms).\n",
      "  warnings.warn(msg, FutureWarning)\n"
     ]
    },
    {
     "data": {
      "image/png": "[encoded data removed]",
      "text/plain": [
       "<Figure size 432x288 with 1 Axes>"
      ]
     },
     "metadata": {
      "needs_background": "light"
     },
     "output_type": "display_data"
    }
   ],
   "source": [
    "sns.distplot(dados_uniforme);"
   ]
  },
  {
   "cell_type": "code",
   "execution_count": 50,
   "id": "2a5e27ac",
   "metadata": {},
   "outputs": [
    {
     "data": {
      "text/plain": [
       "(0.00043815846717032425, 0.9991453898518021)"
      ]
     },
     "execution_count": 50,
     "metadata": {},
     "output_type": "execute_result"
    }
   ],
   "source": [
    "min(dados_uniforme), max(dados_uniforme)"
   ]
  },
  {
   "cell_type": "code",
   "execution_count": 51,
   "id": "000708e8",
   "metadata": {},
   "outputs": [
    {
     "data": {
      "text/plain": [
       "(array([4.38158467e-04, 2.87324607e-03, 2.97275829e-03, 3.00102454e-03,\n",
       "        5.26784193e-03, 5.79427328e-03, 6.21852901e-03, 6.89428634e-03,\n",
       "        9.53897369e-03, 9.54069084e-03, 1.00282050e-02, 1.57090971e-02,\n",
       "        1.65133383e-02, 1.72561179e-02, 1.99429189e-02, 2.12083855e-02,\n",
       "        2.14069272e-02, 2.18348122e-02, 2.19377178e-02, 2.41220531e-02,\n",
       "        2.72679773e-02, 2.90962663e-02, 3.06446030e-02, 3.23560167e-02,\n",
       "        3.51669863e-02, 3.54952430e-02, 3.58595094e-02, 3.62059135e-02,\n",
       "        3.73007659e-02, 4.08029046e-02, 4.14540928e-02, 4.47395471e-02,\n",
       "        4.55231678e-02, 4.58816225e-02, 4.63247256e-02, 4.64110085e-02,\n",
       "        4.73408833e-02, 4.89439921e-02, 5.13157323e-02, 5.15731643e-02,\n",
       "        5.17659852e-02, 5.19743538e-02, 5.24996713e-02, 5.41194404e-02,\n",
       "        5.73115539e-02, 5.90201144e-02, 5.99472020e-02, 6.00635540e-02,\n",
       "        6.08208061e-02, 6.10375331e-02, 6.12563480e-02, 6.33744854e-02,\n",
       "        6.45275208e-02, 6.49160521e-02, 6.53183063e-02, 6.53747919e-02,\n",
       "        6.58343944e-02, 6.58656370e-02, 6.75981900e-02, 6.79375495e-02,\n",
       "        6.93497852e-02, 6.97999029e-02, 7.01555583e-02, 7.07021503e-02,\n",
       "        7.29487090e-02, 7.39666145e-02, 7.40776569e-02, 7.42930240e-02,\n",
       "        7.54995137e-02, 7.58022100e-02, 7.71228671e-02, 7.72901874e-02,\n",
       "        7.73505871e-02, 7.98896966e-02, 7.99250785e-02, 8.87526772e-02,\n",
       "        9.03021945e-02, 9.07377523e-02, 9.14947469e-02, 9.20051948e-02,\n",
       "        9.34421020e-02, 9.52080708e-02, 9.54842403e-02, 9.75885216e-02,\n",
       "        9.85539761e-02, 9.91501620e-02, 1.03303694e-01, 1.03617302e-01,\n",
       "        1.05288454e-01, 1.05476499e-01, 1.05715475e-01, 1.06218796e-01,\n",
       "        1.06484257e-01, 1.06486359e-01, 1.07895671e-01, 1.08820421e-01,\n",
       "        1.08927053e-01, 1.09027988e-01, 1.11710964e-01, 1.12001037e-01,\n",
       "        1.12013385e-01, 1.13346572e-01, 1.13419846e-01, 1.14610046e-01,\n",
       "        1.15087026e-01, 1.15541818e-01, 1.15564364e-01, 1.15813563e-01,\n",
       "        1.16462395e-01, 1.16702445e-01, 1.18924493e-01, 1.19186758e-01,\n",
       "        1.20432815e-01, 1.20781234e-01, 1.22495634e-01, 1.23437751e-01,\n",
       "        1.24169799e-01, 1.26363684e-01, 1.26745261e-01, 1.26780184e-01,\n",
       "        1.27060512e-01, 1.28798049e-01, 1.29090003e-01, 1.30733951e-01,\n",
       "        1.31479075e-01, 1.31939546e-01, 1.32662683e-01, 1.36669773e-01,\n",
       "        1.36933902e-01, 1.37077271e-01, 1.37387427e-01, 1.38757269e-01,\n",
       "        1.38789134e-01, 1.39434166e-01, 1.40340689e-01, 1.40376906e-01,\n",
       "        1.41095609e-01, 1.42572743e-01, 1.43086385e-01, 1.43107207e-01,\n",
       "        1.43449802e-01, 1.44288164e-01, 1.46088454e-01, 1.47745329e-01,\n",
       "        1.50190189e-01, 1.50291802e-01, 1.50704791e-01, 1.51079587e-01,\n",
       "        1.51503287e-01, 1.52110447e-01, 1.52809989e-01, 1.53173525e-01,\n",
       "        1.53251285e-01, 1.53573458e-01, 1.53667248e-01, 1.55429495e-01,\n",
       "        1.55819566e-01, 1.57657699e-01, 1.59090277e-01, 1.60575961e-01,\n",
       "        1.61119910e-01, 1.61209398e-01, 1.61856008e-01, 1.62283512e-01,\n",
       "        1.62456610e-01, 1.63022544e-01, 1.65548699e-01, 1.69977395e-01,\n",
       "        1.71362263e-01, 1.71601549e-01, 1.73432734e-01, 1.74717366e-01,\n",
       "        1.75234692e-01, 1.76950845e-01, 1.78095670e-01, 1.78989387e-01,\n",
       "        1.79341476e-01, 1.79350025e-01, 1.79753041e-01, 1.79801975e-01,\n",
       "        1.79815333e-01, 1.80722776e-01, 1.81301245e-01, 1.81321265e-01,\n",
       "        1.83354216e-01, 1.84028238e-01, 1.85849319e-01, 1.86595272e-01,\n",
       "        1.88477182e-01, 1.88792577e-01, 1.89256434e-01, 1.89670922e-01,\n",
       "        1.89794691e-01, 1.89893138e-01, 1.90735300e-01, 1.90817155e-01,\n",
       "        1.91788571e-01, 1.91876249e-01, 1.91897584e-01, 1.95166010e-01,\n",
       "        1.96044444e-01, 1.97745011e-01, 1.98089471e-01, 1.98330908e-01,\n",
       "        1.98903391e-01, 1.98955678e-01, 1.99661083e-01, 2.00778090e-01,\n",
       "        2.02584496e-01, 2.02600440e-01, 2.04637679e-01, 2.06444920e-01,\n",
       "        2.06769839e-01, 2.07165420e-01, 2.07214704e-01, 2.07461696e-01,\n",
       "        2.08510247e-01, 2.11080217e-01, 2.11332541e-01, 2.11689909e-01,\n",
       "        2.11713922e-01, 2.12528162e-01, 2.12968138e-01, 2.13218269e-01,\n",
       "        2.14060321e-01, 2.14944394e-01, 2.15397597e-01, 2.15904184e-01,\n",
       "        2.16309629e-01, 2.17555811e-01, 2.17615549e-01, 2.17669033e-01,\n",
       "        2.19062742e-01, 2.19650941e-01, 2.20280230e-01, 2.21095052e-01,\n",
       "        2.22114585e-01, 2.22318444e-01, 2.24478297e-01, 2.24554778e-01,\n",
       "        2.25747523e-01, 2.25912602e-01, 2.28031153e-01, 2.29281228e-01,\n",
       "        2.31619399e-01, 2.31678713e-01, 2.32016777e-01, 2.34099722e-01,\n",
       "        2.34437161e-01, 2.36068601e-01, 2.36430266e-01, 2.37029638e-01,\n",
       "        2.37214807e-01, 2.37388310e-01, 2.38228078e-01, 2.40787524e-01,\n",
       "        2.41864022e-01, 2.42538517e-01, 2.43392287e-01, 2.44381576e-01,\n",
       "        2.45715184e-01, 2.45826155e-01, 2.46293317e-01, 2.46578991e-01,\n",
       "        2.46832935e-01, 2.47344519e-01, 2.47578193e-01, 2.48005305e-01,\n",
       "        2.48275900e-01, 2.48328185e-01, 2.50434511e-01, 2.52672984e-01,\n",
       "        2.53718983e-01, 2.53815324e-01, 2.53999116e-01, 2.54729965e-01,\n",
       "        2.56642388e-01, 2.57292650e-01, 2.57301141e-01, 2.58955257e-01,\n",
       "        2.61231877e-01, 2.61590058e-01, 2.62242143e-01, 2.62974224e-01,\n",
       "        2.64350287e-01, 2.65611133e-01, 2.68733751e-01, 2.70575564e-01,\n",
       "        2.71658832e-01, 2.71758523e-01, 2.73185856e-01, 2.73988943e-01,\n",
       "        2.76750645e-01, 2.77740933e-01, 2.77857123e-01, 2.78885517e-01,\n",
       "        2.79706871e-01, 2.80395604e-01, 2.81735967e-01, 2.83441794e-01,\n",
       "        2.84034685e-01, 2.85575524e-01, 2.86497522e-01, 2.86862194e-01,\n",
       "        2.89529219e-01, 2.89820755e-01, 2.90055372e-01, 2.90650736e-01,\n",
       "        2.91113219e-01, 2.91414593e-01, 2.92098654e-01, 2.97299871e-01,\n",
       "        2.98503352e-01, 2.98514552e-01, 3.00329316e-01, 3.03014890e-01,\n",
       "        3.03741715e-01, 3.04076536e-01, 3.07245783e-01, 3.08731070e-01,\n",
       "        3.11088175e-01, 3.11195119e-01, 3.12145956e-01, 3.13780505e-01,\n",
       "        3.14772405e-01, 3.15617860e-01, 3.16925468e-01, 3.17090338e-01,\n",
       "        3.17254316e-01, 3.17332337e-01, 3.17689858e-01, 3.17757039e-01,\n",
       "        3.18318808e-01, 3.18871466e-01, 3.19160212e-01, 3.19379407e-01,\n",
       "        3.19768729e-01, 3.21833505e-01, 3.21914635e-01, 3.23137041e-01,\n",
       "        3.23431529e-01, 3.23964043e-01, 3.24370728e-01, 3.24759847e-01,\n",
       "        3.25665665e-01, 3.26454718e-01, 3.29001040e-01, 3.30739413e-01,\n",
       "        3.32247083e-01, 3.32321085e-01, 3.33398201e-01, 3.35507648e-01,\n",
       "        3.37981801e-01, 3.40146159e-01, 3.40302757e-01, 3.40967050e-01,\n",
       "        3.40990693e-01, 3.42814716e-01, 3.43457397e-01, 3.46082466e-01,\n",
       "        3.46926478e-01, 3.46952232e-01, 3.47003249e-01, 3.47482039e-01,\n",
       "        3.48286805e-01, 3.48573296e-01, 3.49526900e-01, 3.51377159e-01,\n",
       "        3.51487592e-01, 3.52071361e-01, 3.52961131e-01, 3.53408891e-01,\n",
       "        3.53604587e-01, 3.54860152e-01, 3.55578400e-01, 3.56352496e-01,\n",
       "        3.56420614e-01, 3.56460160e-01, 3.57539370e-01, 3.57682344e-01,\n",
       "        3.58209536e-01, 3.58776353e-01, 3.59204761e-01, 3.59426359e-01,\n",
       "        3.59469120e-01, 3.60309147e-01, 3.60744711e-01, 3.61009183e-01,\n",
       "        3.62056850e-01, 3.62386994e-01, 3.63046613e-01, 3.63441009e-01,\n",
       "        3.64821458e-01, 3.64893683e-01, 3.66293008e-01, 3.66305225e-01,\n",
       "        3.66727578e-01, 3.67051033e-01, 3.67186408e-01, 3.67941269e-01,\n",
       "        3.69229168e-01, 3.70566409e-01, 3.72401125e-01, 3.72805076e-01,\n",
       "        3.75828863e-01, 3.76727676e-01, 3.77804514e-01, 3.77897285e-01,\n",
       "        3.78434548e-01, 3.79953320e-01, 3.79978581e-01, 3.83555012e-01,\n",
       "        3.84841470e-01, 3.86497895e-01, 3.88321952e-01, 3.88814218e-01,\n",
       "        3.89452218e-01, 3.89504725e-01, 3.90113156e-01, 3.90726511e-01,\n",
       "        3.93064891e-01, 3.93502948e-01, 3.95053669e-01, 3.95761608e-01,\n",
       "        3.98139825e-01, 3.98484803e-01, 4.00356784e-01, 4.00484713e-01,\n",
       "        4.01476475e-01, 4.02640972e-01, 4.02759261e-01, 4.02820291e-01,\n",
       "        4.02925431e-01, 4.03748532e-01, 4.04378891e-01, 4.04499062e-01,\n",
       "        4.08206210e-01, 4.11028048e-01, 4.14074277e-01, 4.14482476e-01,\n",
       "        4.15901015e-01, 4.19623138e-01, 4.21472490e-01, 4.21522544e-01,\n",
       "        4.22619786e-01, 4.23559909e-01, 4.23734976e-01, 4.24850439e-01,\n",
       "        4.26491247e-01, 4.26597895e-01, 4.28917410e-01, 4.30065099e-01,\n",
       "        4.31340961e-01, 4.32265552e-01, 4.33694366e-01, 4.33917182e-01,\n",
       "        4.36002383e-01, 4.36704963e-01, 4.39674061e-01, 4.41071243e-01,\n",
       "        4.41102176e-01, 4.41199851e-01, 4.42817811e-01, 4.46450618e-01,\n",
       "        4.47295665e-01, 4.47686005e-01, 4.48037299e-01, 4.49571852e-01,\n",
       "        4.50800592e-01, 4.51982465e-01, 4.52610625e-01, 4.53134210e-01,\n",
       "        4.53698178e-01, 4.55000739e-01, 4.56075386e-01, 4.57652834e-01,\n",
       "        4.58231278e-01, 4.58563829e-01, 4.59669454e-01, 4.60529163e-01,\n",
       "        4.62998962e-01, 4.63703992e-01, 4.64046060e-01, 4.66149134e-01,\n",
       "        4.66470388e-01, 4.67674376e-01, 4.67724225e-01, 4.67864683e-01,\n",
       "        4.68162132e-01, 4.69012031e-01, 4.69087921e-01, 4.69173292e-01,\n",
       "        4.70132433e-01, 4.70394555e-01, 4.71401023e-01, 4.71561763e-01,\n",
       "        4.72996562e-01, 4.73682624e-01, 4.73901581e-01, 4.74023717e-01,\n",
       "        4.74254370e-01, 4.74356242e-01, 4.74490042e-01, 4.75202627e-01,\n",
       "        4.75786960e-01, 4.76309408e-01, 4.76652944e-01, 4.78090240e-01,\n",
       "        4.79097776e-01, 4.80750567e-01, 4.80827840e-01, 4.81105116e-01,\n",
       "        4.81687401e-01, 4.81869345e-01, 4.83488193e-01, 4.84196577e-01,\n",
       "        4.84415786e-01, 4.86989225e-01, 4.88433645e-01, 4.88709850e-01,\n",
       "        4.89188783e-01, 4.89525527e-01, 4.90010182e-01, 4.90384206e-01,\n",
       "        4.93271501e-01, 4.93898385e-01, 4.96159451e-01, 4.98778926e-01,\n",
       "        5.00883891e-01, 5.00894849e-01, 5.01441660e-01, 5.03128166e-01,\n",
       "        5.03362661e-01, 5.03392142e-01, 5.04397380e-01, 5.05049971e-01,\n",
       "        5.05332015e-01, 5.05343289e-01, 5.05535440e-01, 5.06419851e-01,\n",
       "        5.06614547e-01, 5.06956951e-01, 5.07988011e-01, 5.08336985e-01,\n",
       "        5.09125010e-01, 5.09740596e-01, 5.11142831e-01, 5.11695481e-01,\n",
       "        5.11909883e-01, 5.12993967e-01, 5.15174195e-01, 5.16312808e-01,\n",
       "        5.16586605e-01, 5.18558139e-01, 5.18697409e-01, 5.19798130e-01,\n",
       "        5.21686816e-01, 5.22846079e-01, 5.23443911e-01, 5.23925718e-01,\n",
       "        5.24709484e-01, 5.25721808e-01, 5.27370420e-01, 5.28100993e-01,\n",
       "        5.28906048e-01, 5.30946742e-01, 5.32330187e-01, 5.32721718e-01,\n",
       "        5.32839706e-01, 5.33610784e-01, 5.33635923e-01, 5.40184100e-01,\n",
       "        5.40495700e-01, 5.40510210e-01, 5.42151892e-01, 5.42266146e-01,\n",
       "        5.42703198e-01, 5.43241345e-01, 5.44367358e-01, 5.44977026e-01,\n",
       "        5.46083221e-01, 5.46428366e-01, 5.46745025e-01, 5.47272367e-01,\n",
       "        5.49664595e-01, 5.50822781e-01, 5.51827919e-01, 5.52131486e-01,\n",
       "        5.52775939e-01, 5.52803310e-01, 5.53270990e-01, 5.54976379e-01,\n",
       "        5.55296489e-01, 5.57017228e-01, 5.58407438e-01, 5.58913721e-01,\n",
       "        5.59916606e-01, 5.60021531e-01, 5.60051685e-01, 5.63414541e-01,\n",
       "        5.63837995e-01, 5.64255248e-01, 5.64920293e-01, 5.67013217e-01,\n",
       "        5.69474687e-01, 5.72164439e-01, 5.73094022e-01, 5.75538508e-01,\n",
       "        5.75756674e-01, 5.76142097e-01, 5.76658995e-01, 5.77608612e-01,\n",
       "        5.78422485e-01, 5.79617843e-01, 5.80443049e-01, 5.81041924e-01,\n",
       "        5.81122645e-01, 5.82726991e-01, 5.82921872e-01, 5.83156047e-01,\n",
       "        5.83940869e-01, 5.83983911e-01, 5.84527260e-01, 5.84919889e-01,\n",
       "        5.85510881e-01, 5.87382783e-01, 5.90548968e-01, 5.93551423e-01,\n",
       "        5.94095606e-01, 5.94292202e-01, 5.94702576e-01, 5.95975846e-01,\n",
       "        5.96661083e-01, 5.97762881e-01, 5.98709975e-01, 5.99894931e-01,\n",
       "        6.02444334e-01, 6.05709709e-01, 6.05735264e-01, 6.05961944e-01,\n",
       "        6.06363846e-01, 6.06994677e-01, 6.09259699e-01, 6.11863611e-01,\n",
       "        6.14809467e-01, 6.15504955e-01, 6.16036920e-01, 6.16796716e-01,\n",
       "        6.18525056e-01, 6.18588937e-01, 6.19159271e-01, 6.19454912e-01,\n",
       "        6.21338739e-01, 6.21351610e-01, 6.22887690e-01, 6.23287385e-01,\n",
       "        6.23760385e-01, 6.26595789e-01, 6.27902599e-01, 6.28329620e-01,\n",
       "        6.30236242e-01, 6.33258551e-01, 6.33635301e-01, 6.34181377e-01,\n",
       "        6.37093534e-01, 6.38047850e-01, 6.38291404e-01, 6.38298502e-01,\n",
       "        6.40485726e-01, 6.40734134e-01, 6.41379343e-01, 6.43486609e-01,\n",
       "        6.43517901e-01, 6.44729694e-01, 6.45042147e-01, 6.46548439e-01,\n",
       "        6.52749994e-01, 6.53902668e-01, 6.54514120e-01, 6.54924965e-01,\n",
       "        6.58049213e-01, 6.58612304e-01, 6.60628499e-01, 6.61745759e-01,\n",
       "        6.65897609e-01, 6.66559771e-01, 6.68505680e-01, 6.69128517e-01,\n",
       "        6.69350447e-01, 6.70429041e-01, 6.71643100e-01, 6.72133190e-01,\n",
       "        6.74355693e-01, 6.75724967e-01, 6.76517842e-01, 6.78573983e-01,\n",
       "        6.78814438e-01, 6.83157979e-01, 6.83344067e-01, 6.83383414e-01,\n",
       "        6.83965367e-01, 6.84398776e-01, 6.85085325e-01, 6.86016981e-01,\n",
       "        6.89013391e-01, 6.89019189e-01, 6.89110325e-01, 6.89514005e-01,\n",
       "        6.89765838e-01, 6.90351714e-01, 6.91726902e-01, 6.91859044e-01,\n",
       "        6.92960885e-01, 6.93695550e-01, 6.93739740e-01, 6.94361239e-01,\n",
       "        6.95478566e-01, 6.96340482e-01, 7.01972291e-01, 7.01981694e-01,\n",
       "        7.02004275e-01, 7.02287228e-01, 7.05128794e-01, 7.05234039e-01,\n",
       "        7.05581030e-01, 7.05755488e-01, 7.05923029e-01, 7.07497748e-01,\n",
       "        7.09243738e-01, 7.10356021e-01, 7.10467393e-01, 7.11952976e-01,\n",
       "        7.12016191e-01, 7.13286232e-01, 7.14946996e-01, 7.15419087e-01,\n",
       "        7.16030639e-01, 7.17193080e-01, 7.17564531e-01, 7.17907039e-01,\n",
       "        7.20320212e-01, 7.22394319e-01, 7.22715030e-01, 7.23184899e-01,\n",
       "        7.23566190e-01, 7.28600446e-01, 7.30479112e-01, 7.30845686e-01,\n",
       "        7.31038499e-01, 7.31596792e-01, 7.31702879e-01, 7.33123916e-01,\n",
       "        7.33894789e-01, 7.34253755e-01, 7.34553213e-01, 7.35341374e-01,\n",
       "        7.38367344e-01, 7.40242087e-01, 7.40260332e-01, 7.41722826e-01,\n",
       "        7.42683222e-01, 7.44447365e-01, 7.45147688e-01, 7.45427196e-01,\n",
       "        7.45450687e-01, 7.45985107e-01, 7.47919195e-01, 7.50257116e-01,\n",
       "        7.51452279e-01, 7.51535134e-01, 7.51651751e-01, 7.51748284e-01,\n",
       "        7.55559359e-01, 7.56699380e-01, 7.58636623e-01, 7.63006032e-01,\n",
       "        7.64292834e-01, 7.65356334e-01, 7.66567481e-01, 7.67867451e-01,\n",
       "        7.68894320e-01, 7.70232592e-01, 7.73056448e-01, 7.74088302e-01,\n",
       "        7.77126854e-01, 7.77189552e-01, 7.77519405e-01, 7.80634542e-01,\n",
       "        7.82579117e-01, 7.82706152e-01, 7.83023145e-01, 7.84206444e-01,\n",
       "        7.86066282e-01, 7.88329009e-01, 7.90527068e-01, 7.93919088e-01,\n",
       "        7.95116723e-01, 7.95550638e-01, 7.98760272e-01, 7.99759512e-01,\n",
       "        8.00655143e-01, 8.01635231e-01, 8.02763886e-01, 8.06741659e-01,\n",
       "        8.07567686e-01, 8.07994002e-01, 8.09975976e-01, 8.10265505e-01,\n",
       "        8.10356157e-01, 8.11011882e-01, 8.12949896e-01, 8.15224416e-01,\n",
       "        8.17193936e-01, 8.17569646e-01, 8.17950099e-01, 8.18394707e-01,\n",
       "        8.18576497e-01, 8.20473219e-01, 8.20751965e-01, 8.20971542e-01,\n",
       "        8.21362999e-01, 8.22341950e-01, 8.23622679e-01, 8.24195976e-01,\n",
       "        8.26751277e-01, 8.27768442e-01, 8.27809429e-01, 8.28675412e-01,\n",
       "        8.30075191e-01, 8.30666081e-01, 8.31703393e-01, 8.31830407e-01,\n",
       "        8.32909107e-01, 8.34352339e-01, 8.36008425e-01, 8.36792210e-01,\n",
       "        8.37430486e-01, 8.37808667e-01, 8.38280228e-01, 8.38500590e-01,\n",
       "        8.38513177e-01, 8.38641162e-01, 8.39812648e-01, 8.43401607e-01,\n",
       "        8.43771432e-01, 8.44887317e-01, 8.45395504e-01, 8.46241406e-01,\n",
       "        8.46396480e-01, 8.46667021e-01, 8.46678377e-01, 8.47701695e-01,\n",
       "        8.49335071e-01, 8.52678029e-01, 8.53080431e-01, 8.53283653e-01,\n",
       "        8.54157480e-01, 8.54513055e-01, 8.55511299e-01, 8.56610776e-01,\n",
       "        8.57207965e-01, 8.60804403e-01, 8.61758340e-01, 8.62472701e-01,\n",
       "        8.64194198e-01, 8.65256144e-01, 8.65913726e-01, 8.66249709e-01,\n",
       "        8.68301036e-01, 8.69980347e-01, 8.70432740e-01, 8.70595133e-01,\n",
       "        8.71074726e-01, 8.72480656e-01, 8.73386013e-01, 8.75296714e-01,\n",
       "        8.78624828e-01, 8.79356622e-01, 8.79983907e-01, 8.80325580e-01,\n",
       "        8.80467197e-01, 8.80841992e-01, 8.81051367e-01, 8.81767935e-01,\n",
       "        8.82512692e-01, 8.82983494e-01, 8.84355730e-01, 8.85355668e-01,\n",
       "        8.86842376e-01, 8.89083745e-01, 8.89423964e-01, 8.89608761e-01,\n",
       "        8.90327820e-01, 8.90660779e-01, 8.90811977e-01, 8.91333483e-01,\n",
       "        8.93882030e-01, 8.94136600e-01, 8.94200783e-01, 8.94284626e-01,\n",
       "        8.95660786e-01, 8.95684274e-01, 8.96385364e-01, 8.97487184e-01,\n",
       "        8.98270240e-01, 8.99373720e-01, 9.00172414e-01, 9.03204806e-01,\n",
       "        9.03258153e-01, 9.08203729e-01, 9.11509438e-01, 9.12051624e-01,\n",
       "        9.12665236e-01, 9.12766474e-01, 9.13217184e-01, 9.13458986e-01,\n",
       "        9.17322552e-01, 9.18585089e-01, 9.18624712e-01, 9.19077557e-01,\n",
       "        9.19913436e-01, 9.20371341e-01, 9.20482165e-01, 9.21320224e-01,\n",
       "        9.21984138e-01, 9.24265759e-01, 9.25053026e-01, 9.25678481e-01,\n",
       "        9.26013154e-01, 9.28700956e-01, 9.29528209e-01, 9.30206898e-01,\n",
       "        9.30509059e-01, 9.30993170e-01, 9.33672022e-01, 9.33682832e-01,\n",
       "        9.35038647e-01, 9.35047405e-01, 9.35251639e-01, 9.35637612e-01,\n",
       "        9.39147126e-01, 9.40089240e-01, 9.40492276e-01, 9.40773414e-01,\n",
       "        9.41898976e-01, 9.43658900e-01, 9.44471740e-01, 9.44664062e-01,\n",
       "        9.46074715e-01, 9.46873105e-01, 9.47761081e-01, 9.51444148e-01,\n",
       "        9.51658269e-01, 9.53121980e-01, 9.54153555e-01, 9.54433794e-01,\n",
       "        9.54666236e-01, 9.55805739e-01, 9.56412533e-01, 9.57124979e-01,\n",
       "        9.57288354e-01, 9.57637313e-01, 9.60240469e-01, 9.60253275e-01,\n",
       "        9.62614646e-01, 9.64141463e-01, 9.64920569e-01, 9.65490991e-01,\n",
       "        9.66359897e-01, 9.68865292e-01, 9.69475070e-01, 9.70041359e-01,\n",
       "        9.70463604e-01, 9.70937987e-01, 9.71759852e-01, 9.71859576e-01,\n",
       "        9.72919247e-01, 9.73594932e-01, 9.73781879e-01, 9.73996757e-01,\n",
       "        9.77932501e-01, 9.78388318e-01, 9.79656159e-01, 9.80727068e-01,\n",
       "        9.81162671e-01, 9.81191235e-01, 9.81920195e-01, 9.82437715e-01,\n",
       "        9.83752072e-01, 9.86158804e-01, 9.89616110e-01, 9.90435905e-01,\n",
       "        9.90810335e-01, 9.91330197e-01, 9.93132898e-01, 9.94295820e-01,\n",
       "        9.96664349e-01, 9.97075244e-01, 9.98179688e-01, 9.99145390e-01]),\n",
       " array([1, 1, 1, 1, 1, 1, 1, 1, 1, 1, 1, 1, 1, 1, 1, 1, 1, 1, 1, 1, 1, 1,\n",
       "        1, 1, 1, 1, 1, 1, 1, 1, 1, 1, 1, 1, 1, 1, 1, 1, 1, 1, 1, 1, 1, 1,\n",
       "        1, 1, 1, 1, 1, 1, 1, 1, 1, 1, 1, 1, 1, 1, 1, 1, 1, 1, 1, 1, 1, 1,\n",
       "        1, 1, 1, 1, 1, 1, 1, 1, 1, 1, 1, 1, 1, 1, 1, 1, 1, 1, 1, 1, 1, 1,\n",
       "        1, 1, 1, 1, 1, 1, 1, 1, 1, 1, 1, 1, 1, 1, 1, 1, 1, 1, 1, 1, 1, 1,\n",
       "        1, 1, 1, 1, 1, 1, 1, 1, 1, 1, 1, 1, 1, 1, 1, 1, 1, 1, 1, 1, 1, 1,\n",
       "        1, 1, 1, 1, 1, 1, 1, 1, 1, 1, 1, 1, 1, 1, 1, 1, 1, 1, 1, 1, 1, 1,\n",
       "        1, 1, 1, 1, 1, 1, 1, 1, 1, 1, 1, 1, 1, 1, 1, 1, 1, 1, 1, 1, 1, 1,\n",
       "        1, 1, 1, 1, 1, 1, 1, 1, 1, 1, 1, 1, 1, 1, 1, 1, 1, 1, 1, 1, 1, 1,\n",
       "        1, 1, 1, 1, 1, 1, 1, 1, 1, 1, 1, 1, 1, 1, 1, 1, 1, 1, 1, 1, 1, 1,\n",
       "        1, 1, 1, 1, 1, 1, 1, 1, 1, 1, 1, 1, 1, 1, 1, 1, 1, 1, 1, 1, 1, 1,\n",
       "        1, 1, 1, 1, 1, 1, 1, 1, 1, 1, 1, 1, 1, 1, 1, 1, 1, 1, 1, 1, 1, 1,\n",
       "        1, 1, 1, 1, 1, 1, 1, 1, 1, 1, 1, 1, 1, 1, 1, 1, 1, 1, 1, 1, 1, 1,\n",
       "        1, 1, 1, 1, 1, 1, 1, 1, 1, 1, 1, 1, 1, 1, 1, 1, 1, 1, 1, 1, 1, 1,\n",
       "        1, 1, 1, 1, 1, 1, 1, 1, 1, 1, 1, 1, 1, 1, 1, 1, 1, 1, 1, 1, 1, 1,\n",
       "        1, 1, 1, 1, 1, 1, 1, 1, 1, 1, 1, 1, 1, 1, 1, 1, 1, 1, 1, 1, 1, 1,\n",
       "        1, 1, 1, 1, 1, 1, 1, 1, 1, 1, 1, 1, 1, 1, 1, 1, 1, 1, 1, 1, 1, 1,\n",
       "        1, 1, 1, 1, 1, 1, 1, 1, 1, 1, 1, 1, 1, 1, 1, 1, 1, 1, 1, 1, 1, 1,\n",
       "        1, 1, 1, 1, 1, 1, 1, 1, 1, 1, 1, 1, 1, 1, 1, 1, 1, 1, 1, 1, 1, 1,\n",
       "        1, 1, 1, 1, 1, 1, 1, 1, 1, 1, 1, 1, 1, 1, 1, 1, 1, 1, 1, 1, 1, 1,\n",
       "        1, 1, 1, 1, 1, 1, 1, 1, 1, 1, 1, 1, 1, 1, 1, 1, 1, 1, 1, 1, 1, 1,\n",
       "        1, 1, 1, 1, 1, 1, 1, 1, 1, 1, 1, 1, 1, 1, 1, 1, 1, 1, 1, 1, 1, 1,\n",
       "        1, 1, 1, 1, 1, 1, 1, 1, 1, 1, 1, 1, 1, 1, 1, 1, 1, 1, 1, 1, 1, 1,\n",
       "        1, 1, 1, 1, 1, 1, 1, 1, 1, 1, 1, 1, 1, 1, 1, 1, 1, 1, 1, 1, 1, 1,\n",
       "        1, 1, 1, 1, 1, 1, 1, 1, 1, 1, 1, 1, 1, 1, 1, 1, 1, 1, 1, 1, 1, 1,\n",
       "        1, 1, 1, 1, 1, 1, 1, 1, 1, 1, 1, 1, 1, 1, 1, 1, 1, 1, 1, 1, 1, 1,\n",
       "        1, 1, 1, 1, 1, 1, 1, 1, 1, 1, 1, 1, 1, 1, 1, 1, 1, 1, 1, 1, 1, 1,\n",
       "        1, 1, 1, 1, 1, 1, 1, 1, 1, 1, 1, 1, 1, 1, 1, 1, 1, 1, 1, 1, 1, 1,\n",
       "        1, 1, 1, 1, 1, 1, 1, 1, 1, 1, 1, 1, 1, 1, 1, 1, 1, 1, 1, 1, 1, 1,\n",
       "        1, 1, 1, 1, 1, 1, 1, 1, 1, 1, 1, 1, 1, 1, 1, 1, 1, 1, 1, 1, 1, 1,\n",
       "        1, 1, 1, 1, 1, 1, 1, 1, 1, 1, 1, 1, 1, 1, 1, 1, 1, 1, 1, 1, 1, 1,\n",
       "        1, 1, 1, 1, 1, 1, 1, 1, 1, 1, 1, 1, 1, 1, 1, 1, 1, 1, 1, 1, 1, 1,\n",
       "        1, 1, 1, 1, 1, 1, 1, 1, 1, 1, 1, 1, 1, 1, 1, 1, 1, 1, 1, 1, 1, 1,\n",
       "        1, 1, 1, 1, 1, 1, 1, 1, 1, 1, 1, 1, 1, 1, 1, 1, 1, 1, 1, 1, 1, 1,\n",
       "        1, 1, 1, 1, 1, 1, 1, 1, 1, 1, 1, 1, 1, 1, 1, 1, 1, 1, 1, 1, 1, 1,\n",
       "        1, 1, 1, 1, 1, 1, 1, 1, 1, 1, 1, 1, 1, 1, 1, 1, 1, 1, 1, 1, 1, 1,\n",
       "        1, 1, 1, 1, 1, 1, 1, 1, 1, 1, 1, 1, 1, 1, 1, 1, 1, 1, 1, 1, 1, 1,\n",
       "        1, 1, 1, 1, 1, 1, 1, 1, 1, 1, 1, 1, 1, 1, 1, 1, 1, 1, 1, 1, 1, 1,\n",
       "        1, 1, 1, 1, 1, 1, 1, 1, 1, 1, 1, 1, 1, 1, 1, 1, 1, 1, 1, 1, 1, 1,\n",
       "        1, 1, 1, 1, 1, 1, 1, 1, 1, 1, 1, 1, 1, 1, 1, 1, 1, 1, 1, 1, 1, 1,\n",
       "        1, 1, 1, 1, 1, 1, 1, 1, 1, 1, 1, 1, 1, 1, 1, 1, 1, 1, 1, 1, 1, 1,\n",
       "        1, 1, 1, 1, 1, 1, 1, 1, 1, 1, 1, 1, 1, 1, 1, 1, 1, 1, 1, 1, 1, 1,\n",
       "        1, 1, 1, 1, 1, 1, 1, 1, 1, 1, 1, 1, 1, 1, 1, 1, 1, 1, 1, 1, 1, 1,\n",
       "        1, 1, 1, 1, 1, 1, 1, 1, 1, 1, 1, 1, 1, 1, 1, 1, 1, 1, 1, 1, 1, 1,\n",
       "        1, 1, 1, 1, 1, 1, 1, 1, 1, 1, 1, 1, 1, 1, 1, 1, 1, 1, 1, 1, 1, 1,\n",
       "        1, 1, 1, 1, 1, 1, 1, 1, 1, 1], dtype=int64))"
      ]
     },
     "execution_count": 51,
     "metadata": {},
     "output_type": "execute_result"
    }
   ],
   "source": [
    "# devido a uma unica ocorrência dos dados, temos a formação de um gráfico \"em forma de quadrado\"\n",
    "np.unique(dados_uniforme, return_counts=True)"
   ]
  },
  {
   "cell_type": "code",
   "execution_count": 52,
   "id": "cc934174",
   "metadata": {},
   "outputs": [
    {
     "data": {
      "text/plain": [
       "(1997, 5)"
      ]
     },
     "execution_count": 52,
     "metadata": {},
     "output_type": "execute_result"
    }
   ],
   "source": [
    "# Exemplo prático\n",
    "\n",
    "dataset = pd.read_csv('../Bases de dados/credit_data.csv')\n",
    "dataset.dropna(inplace=True)\n",
    "dataset.shape"
   ]
  },
  {
   "cell_type": "code",
   "execution_count": 53,
   "id": "2c077227",
   "metadata": {},
   "outputs": [
    {
     "data": {
      "text/html": [
       "<div>\n",
       "<style scoped>\n",
       "    .dataframe tbody tr th:only-of-type {\n",
       "        vertical-align: middle;\n",
       "    }\n",
       "\n",
       "    .dataframe tbody tr th {\n",
       "        vertical-align: top;\n",
       "    }\n",
       "\n",
       "    .dataframe thead th {\n",
       "        text-align: right;\n",
       "    }\n",
       "</style>\n",
       "<table border=\"1\" class=\"dataframe\">\n",
       "  <thead>\n",
       "    <tr style=\"text-align: right;\">\n",
       "      <th></th>\n",
       "      <th>i#clientid</th>\n",
       "      <th>income</th>\n",
       "      <th>age</th>\n",
       "      <th>loan</th>\n",
       "      <th>c#default</th>\n",
       "    </tr>\n",
       "  </thead>\n",
       "  <tbody>\n",
       "    <tr>\n",
       "      <th>0</th>\n",
       "      <td>1</td>\n",
       "      <td>66155.925095</td>\n",
       "      <td>59.017015</td>\n",
       "      <td>8106.532131</td>\n",
       "      <td>0</td>\n",
       "    </tr>\n",
       "    <tr>\n",
       "      <th>1</th>\n",
       "      <td>2</td>\n",
       "      <td>34415.153966</td>\n",
       "      <td>48.117153</td>\n",
       "      <td>6564.745018</td>\n",
       "      <td>0</td>\n",
       "    </tr>\n",
       "    <tr>\n",
       "      <th>2</th>\n",
       "      <td>3</td>\n",
       "      <td>57317.170063</td>\n",
       "      <td>63.108049</td>\n",
       "      <td>8020.953296</td>\n",
       "      <td>0</td>\n",
       "    </tr>\n",
       "    <tr>\n",
       "      <th>3</th>\n",
       "      <td>4</td>\n",
       "      <td>42709.534201</td>\n",
       "      <td>45.751972</td>\n",
       "      <td>6103.642260</td>\n",
       "      <td>0</td>\n",
       "    </tr>\n",
       "    <tr>\n",
       "      <th>4</th>\n",
       "      <td>5</td>\n",
       "      <td>66952.688845</td>\n",
       "      <td>18.584336</td>\n",
       "      <td>8770.099235</td>\n",
       "      <td>1</td>\n",
       "    </tr>\n",
       "  </tbody>\n",
       "</table>\n",
       "</div>"
      ],
      "text/plain": [
       "   i#clientid        income        age         loan  c#default\n",
       "0           1  66155.925095  59.017015  8106.532131          0\n",
       "1           2  34415.153966  48.117153  6564.745018          0\n",
       "2           3  57317.170063  63.108049  8020.953296          0\n",
       "3           4  42709.534201  45.751972  6103.642260          0\n",
       "4           5  66952.688845  18.584336  8770.099235          1"
      ]
     },
     "execution_count": 53,
     "metadata": {},
     "output_type": "execute_result"
    }
   ],
   "source": [
    "dataset.head()"
   ]
  },
  {
   "cell_type": "code",
   "execution_count": 54,
   "id": "2fe57f52",
   "metadata": {},
   "outputs": [
    {
     "data": {
      "text/plain": [
       "array([[6.61559251e+04, 5.90170151e+01, 8.10653213e+03],\n",
       "       [3.44151540e+04, 4.81171531e+01, 6.56474502e+03],\n",
       "       [5.73171701e+04, 6.31080495e+01, 8.02095330e+03],\n",
       "       ...,\n",
       "       [4.43114493e+04, 2.80171669e+01, 5.52278669e+03],\n",
       "       [4.37560566e+04, 6.39717958e+01, 1.62272260e+03],\n",
       "       [6.94365796e+04, 5.61526170e+01, 7.37883360e+03]])"
      ]
     },
     "execution_count": 54,
     "metadata": {},
     "output_type": "execute_result"
    }
   ],
   "source": [
    "X = dataset.iloc[:, 1:4].values\n",
    "X"
   ]
  },
  {
   "cell_type": "code",
   "execution_count": 55,
   "id": "c3f108b4",
   "metadata": {},
   "outputs": [
    {
     "data": {
      "text/plain": [
       "array([0, 0, 0, ..., 1, 0, 0], dtype=int64)"
      ]
     },
     "execution_count": 55,
     "metadata": {},
     "output_type": "execute_result"
    }
   ],
   "source": [
    "y =  dataset.iloc[:, 4].values\n",
    "y"
   ]
  },
  {
   "cell_type": "code",
   "execution_count": 56,
   "id": "2e39f602",
   "metadata": {},
   "outputs": [],
   "source": [
    "from sklearn.naive_bayes import GaussianNB # distribuição normal\n",
    "from sklearn.metrics import accuracy_score\n",
    "from sklearn.model_selection import train_test_split"
   ]
  },
  {
   "cell_type": "code",
   "execution_count": 57,
   "id": "aace5836",
   "metadata": {},
   "outputs": [],
   "source": [
    "resultados_naive_bayes = []\n",
    "for i in range(30):\n",
    "    X_treinamento, X_teste, y_treinamento, y_teste = train_test_split(X, y, test_size=0.2,\n",
    "                                                                     stratify=y, random_state=i)\n",
    "    naive_bayes = GaussianNB()\n",
    "    naive_bayes.fit(X_treinamento, y_treinamento)\n",
    "    resultados_naive_bayes.append(accuracy_score(y_teste, naive_bayes.predict(X_teste)))"
   ]
  },
  {
   "cell_type": "code",
   "execution_count": 58,
   "id": "4704990f",
   "metadata": {},
   "outputs": [
    {
     "name": "stdout",
     "output_type": "stream",
     "text": [
      "[0.925, 0.925, 0.9325, 0.925, 0.92, 0.905, 0.9175, 0.9175, 0.9125, 0.9325, 0.9225, 0.9125, 0.935, 0.9175, 0.925, 0.9175, 0.9275, 0.92, 0.9325, 0.92, 0.93, 0.905, 0.9175, 0.9325, 0.9425, 0.9375, 0.94, 0.92, 0.935, 0.925]\n"
     ]
    }
   ],
   "source": [
    "print(resultados_naive_bayes)"
   ]
  },
  {
   "cell_type": "code",
   "execution_count": 59,
   "id": "9eb590e4",
   "metadata": {},
   "outputs": [
    {
     "name": "stderr",
     "output_type": "stream",
     "text": [
      "C:\\Users\\Matheus\\anaconda3\\lib\\site-packages\\seaborn\\distributions.py:2619: FutureWarning: `distplot` is a deprecated function and will be removed in a future version. Please adapt your code to use either `displot` (a figure-level function with similar flexibility) or `histplot` (an axes-level function for histograms).\n",
      "  warnings.warn(msg, FutureWarning)\n"
     ]
    },
    {
     "data": {
      "image/png": "[encoded data removed]",
      "text/plain": [
       "<Figure size 432x288 with 1 Axes>"
      ]
     },
     "metadata": {
      "needs_background": "light"
     },
     "output_type": "display_data"
    }
   ],
   "source": [
    "sns.distplot(resultados_naive_bayes, bins=10); \n",
    "# para resultados de modelos de machine learning teremos uma distribuição uniforme"
   ]
  },
  {
   "cell_type": "code",
   "execution_count": 60,
   "id": "4df7a4e8",
   "metadata": {},
   "outputs": [
    {
     "data": {
      "text/plain": [
       "(0.905, 0.9425)"
      ]
     },
     "execution_count": 60,
     "metadata": {},
     "output_type": "execute_result"
    }
   ],
   "source": [
    "min(resultados_naive_bayes), max(resultados_naive_bayes)"
   ]
  },
  {
   "cell_type": "markdown",
   "id": "fd8e531a",
   "metadata": {},
   "source": [
    "### Distribuição de Bernoulli \n",
    "1. Tipo específico de distribuição binomial (categórica: \"sucesso\"/ \"fracasso\")"
   ]
  },
  {
   "cell_type": "code",
   "execution_count": 61,
   "id": "d5f69e0b",
   "metadata": {},
   "outputs": [],
   "source": [
    "from scipy.stats import bernoulli"
   ]
  },
  {
   "cell_type": "code",
   "execution_count": 62,
   "id": "3ef0e312",
   "metadata": {},
   "outputs": [
    {
     "data": {
      "text/plain": [
       "array([0, 0, 0, 1, 1, 1, 0, 0, 1, 1, 0, 0, 0, 0, 1, 1, 1, 0, 1, 1, 0, 0,\n",
       "       0, 0, 0, 1, 0, 0, 1, 1, 0, 1, 1, 1, 1, 0, 0, 0, 1, 1, 0, 1, 0, 0,\n",
       "       0, 1, 1, 0, 0, 0, 0, 0, 0, 0, 0, 0, 0, 0, 1, 1, 1, 0, 0, 1, 0, 1,\n",
       "       0, 1, 1, 0, 1, 0, 0, 0, 1, 0, 1, 0, 0, 1, 0, 0, 0, 0, 0, 0, 1, 1,\n",
       "       1, 1, 1, 1, 1, 1, 0, 0, 0, 1, 1, 1, 1, 0, 1, 1, 0, 1, 1, 1, 1, 0,\n",
       "       1, 0, 0, 1, 0, 0, 1, 1, 0, 1, 0, 1, 1, 0, 1, 0, 0, 0, 1, 1, 1, 1,\n",
       "       1, 1, 1, 1, 0, 1, 1, 1, 1, 1, 1, 1, 0, 1, 0, 1, 0, 1, 1, 1, 1, 0,\n",
       "       1, 1, 1, 1, 1, 0, 0, 1, 1, 1, 1, 0, 0, 1, 0, 1, 0, 1, 0, 0, 1, 0,\n",
       "       0, 1, 1, 0, 1, 1, 1, 0, 0, 0, 0, 0, 1, 0, 0, 0, 0, 0, 0, 0, 1, 0,\n",
       "       1, 0, 1, 1, 1, 0, 1, 1, 0, 1, 1, 0, 0, 0, 1, 0, 0, 0, 1, 1, 1, 0,\n",
       "       1, 1, 0, 0, 1, 1, 0, 1, 0, 0, 0, 0, 0, 0, 0, 0, 1, 1, 0, 0, 0, 1,\n",
       "       1, 0, 0, 1, 1, 1, 0, 1, 0, 0, 0, 0, 1, 1, 1, 0, 1, 1, 1, 0, 1, 1,\n",
       "       1, 0, 0, 1, 1, 0, 1, 1, 0, 1, 0, 1, 0, 0, 1, 1, 0, 0, 1, 0, 1, 0,\n",
       "       1, 0, 1, 1, 1, 1, 1, 1, 0, 0, 0, 1, 1, 0, 1, 1, 1, 0, 1, 1, 0, 1,\n",
       "       1, 1, 0, 0, 1, 0, 0, 0, 1, 1, 0, 0, 0, 1, 1, 1, 0, 0, 0, 0, 1, 0,\n",
       "       0, 1, 0, 1, 0, 0, 1, 1, 0, 0, 1, 0, 1, 0, 0, 0, 1, 1, 1, 1, 0, 0,\n",
       "       0, 1, 0, 1, 0, 1, 0, 1, 1, 0, 1, 0, 0, 1, 0, 0, 1, 0, 0, 0, 0, 0,\n",
       "       0, 0, 1, 0, 0, 0, 1, 1, 0, 1, 0, 1, 1, 1, 0, 0, 0, 1, 1, 0, 0, 1,\n",
       "       0, 0, 0, 1, 1, 0, 0, 1, 1, 1, 0, 1, 1, 1, 0, 1, 1, 1, 0, 1, 1, 1,\n",
       "       0, 1, 0, 0, 1, 1, 1, 1, 1, 1, 0, 1, 1, 1, 1, 0, 0, 0, 1, 0, 0, 0,\n",
       "       1, 0, 0, 1, 1, 1, 1, 0, 1, 0, 0, 1, 1, 0, 0, 1, 1, 1, 1, 0, 0, 0,\n",
       "       1, 1, 0, 0, 0, 0, 0, 0, 0, 1, 1, 1, 0, 0, 0, 1, 0, 0, 0, 0, 0, 0,\n",
       "       1, 0, 0, 0, 0, 0, 0, 1, 0, 0, 1, 1, 1, 0, 0, 1, 1, 0, 0, 1, 0, 1,\n",
       "       0, 1, 1, 1, 1, 0, 0, 0, 0, 1, 1, 1, 0, 0, 1, 1, 0, 0, 0, 1, 1, 1,\n",
       "       0, 0, 1, 0, 1, 0, 1, 1, 1, 1, 1, 1, 1, 1, 0, 0, 1, 1, 0, 1, 1, 0,\n",
       "       0, 1, 1, 1, 1, 0, 1, 1, 0, 1, 1, 0, 1, 1, 1, 1, 1, 0, 1, 1, 1, 1,\n",
       "       0, 0, 1, 0, 0, 1, 1, 0, 1, 1, 1, 0, 0, 0, 0, 0, 0, 1, 0, 0, 0, 0,\n",
       "       0, 0, 1, 1, 0, 1, 0, 1, 0, 0, 0, 0, 1, 0, 1, 1, 1, 1, 1, 1, 0, 0,\n",
       "       0, 1, 0, 0, 1, 1, 0, 0, 0, 0, 1, 1, 1, 1, 0, 0, 0, 1, 1, 0, 0, 1,\n",
       "       0, 0, 1, 0, 0, 1, 0, 1, 0, 0, 0, 1, 1, 0, 0, 1, 0, 0, 1, 1, 0, 1,\n",
       "       1, 0, 0, 1, 1, 0, 1, 1, 1, 1, 1, 1, 1, 0, 0, 1, 0, 0, 0, 0, 1, 0,\n",
       "       0, 0, 1, 1, 1, 1, 0, 1, 1, 0, 0, 0, 1, 1, 0, 0, 0, 0, 0, 1, 0, 0,\n",
       "       1, 1, 0, 0, 1, 1, 0, 0, 1, 1, 1, 0, 0, 1, 1, 0, 0, 1, 1, 0, 1, 1,\n",
       "       1, 0, 0, 1, 0, 1, 0, 1, 1, 1, 0, 0, 1, 1, 0, 0, 1, 0, 1, 1, 1, 0,\n",
       "       1, 1, 0, 1, 0, 0, 1, 0, 0, 0, 0, 0, 0, 0, 0, 0, 0, 0, 0, 0, 1, 1,\n",
       "       1, 0, 1, 0, 1, 1, 1, 1, 1, 0, 1, 1, 0, 0, 1, 0, 0, 0, 0, 0, 0, 1,\n",
       "       1, 1, 0, 1, 1, 0, 1, 1, 0, 0, 1, 1, 0, 1, 0, 1, 1, 0, 1, 0, 1, 0,\n",
       "       1, 0, 1, 1, 0, 0, 0, 0, 0, 0, 1, 1, 0, 0, 0, 0, 1, 1, 0, 1, 0, 0,\n",
       "       1, 1, 1, 1, 1, 0, 1, 0, 1, 0, 0, 0, 0, 0, 0, 0, 0, 0, 1, 0, 0, 1,\n",
       "       1, 0, 1, 1, 1, 1, 0, 0, 1, 1, 1, 1, 1, 1, 1, 0, 0, 1, 1, 0, 1, 1,\n",
       "       1, 0, 1, 0, 1, 0, 0, 1, 1, 0, 1, 0, 0, 0, 1, 0, 0, 1, 1, 0, 0, 0,\n",
       "       0, 1, 1, 0, 1, 1, 0, 0, 1, 1, 1, 0, 1, 1, 1, 0, 1, 1, 1, 1, 1, 0,\n",
       "       0, 1, 1, 1, 1, 0, 1, 1, 1, 0, 0, 0, 0, 1, 1, 0, 0, 0, 1, 1, 0, 1,\n",
       "       0, 1, 0, 1, 0, 0, 1, 0, 1, 0, 1, 1, 0, 1, 1, 1, 1, 1, 1, 0, 1, 0,\n",
       "       1, 0, 0, 0, 1, 1, 1, 0, 0, 0, 1, 1, 1, 1, 1, 1, 1, 0, 0, 0, 1, 1,\n",
       "       0, 0, 0, 0, 1, 0, 1, 0, 0, 1])"
      ]
     },
     "execution_count": 62,
     "metadata": {},
     "output_type": "execute_result"
    }
   ],
   "source": [
    "dados_bernoulli = bernoulli.rvs(size=1000, p = 0.5) # probabilidade de sucesso é 50% e fracasso é 50%\n",
    "dados_bernoulli"
   ]
  },
  {
   "cell_type": "code",
   "execution_count": 63,
   "id": "a434bd20",
   "metadata": {},
   "outputs": [
    {
     "data": {
      "text/plain": [
       "(array([0, 1]), array([497, 503], dtype=int64))"
      ]
     },
     "execution_count": 63,
     "metadata": {},
     "output_type": "execute_result"
    }
   ],
   "source": [
    "np.unique(dados_bernoulli, return_counts=True)"
   ]
  },
  {
   "cell_type": "code",
   "execution_count": 64,
   "id": "30559c4a",
   "metadata": {},
   "outputs": [
    {
     "name": "stderr",
     "output_type": "stream",
     "text": [
      "C:\\Users\\Matheus\\anaconda3\\lib\\site-packages\\seaborn\\distributions.py:2619: FutureWarning: `distplot` is a deprecated function and will be removed in a future version. Please adapt your code to use either `displot` (a figure-level function with similar flexibility) or `histplot` (an axes-level function for histograms).\n",
      "  warnings.warn(msg, FutureWarning)\n"
     ]
    },
    {
     "data": {
      "image/png": "[encoded data removed]",
      "text/plain": [
       "<Figure size 432x288 with 1 Axes>"
      ]
     },
     "metadata": {
      "needs_background": "light"
     },
     "output_type": "display_data"
    }
   ],
   "source": [
    "sns.distplot(dados_bernoulli, kde=False);"
   ]
  },
  {
   "cell_type": "markdown",
   "id": "3364bc5e",
   "metadata": {},
   "source": [
    "#### Distribuição binomial"
   ]
  },
  {
   "cell_type": "code",
   "execution_count": 65,
   "id": "2e968085",
   "metadata": {},
   "outputs": [],
   "source": [
    "from scipy.stats import binom"
   ]
  },
  {
   "cell_type": "code",
   "execution_count": 66,
   "id": "092bd014",
   "metadata": {},
   "outputs": [],
   "source": [
    "dados_binomial = binom.rvs(size=1000, n = 10, p = 0.1)"
   ]
  },
  {
   "cell_type": "code",
   "execution_count": 67,
   "id": "c36c11dc",
   "metadata": {},
   "outputs": [
    {
     "name": "stdout",
     "output_type": "stream",
     "text": [
      "[1 0 0 0 0 1 0 1 3 0 1 0 1 0 3 1 1 0 1 1 0 0 2 3 1 2 1 0 1 0 2 1 0 2 0 2 0\n",
      " 0 1 0 2 2 1 2 0 0 0 0 0 1 1 1 1 0 1 3 1 1 1 0 0 0 3 0 3 0 0 1 0 1 1 1 1 2\n",
      " 0 2 1 1 0 2 0 0 0 1 0 2 1 1 1 0 1 0 2 1 0 2 0 2 1 1 1 0 1 1 1 1 3 1 1 1 1\n",
      " 2 1 0 1 0 3 0 0 1 0 2 3 0 1 1 0 0 0 2 1 2 1 0 0 0 0 1 2 2 0 3 1 0 3 0 1 0\n",
      " 3 2 0 1 1 1 0 1 0 1 2 3 1 0 2 1 3 0 0 0 0 1 0 0 2 0 0 1 1 1 2 0 2 0 1 2 1\n",
      " 1 0 1 1 1 0 0 1 4 1 1 0 0 0 1 0 2 1 2 1 1 0 1 2 2 0 0 2 1 3 3 1 3 1 1 0 1\n",
      " 1 2 1 0 1 0 1 2 1 0 0 1 1 0 2 1 0 1 0 1 0 0 2 1 3 2 2 3 0 2 1 0 1 2 1 1 0\n",
      " 1 0 1 1 1 0 2 1 2 1 1 2 3 0 1 1 1 2 1 1 0 0 1 1 2 2 1 1 0 1 0 0 0 0 0 0 1\n",
      " 0 0 1 1 0 0 0 1 0 2 0 0 0 2 1 1 0 1 2 0 2 1 0 2 2 0 2 0 0 1 2 1 1 1 1 2 0\n",
      " 2 2 1 1 1 2 3 2 0 2 2 0 2 1 1 0 2 1 0 0 0 3 2 1 4 3 1 1 0 2 0 0 1 2 2 3 2\n",
      " 0 1 0 0 2 0 0 0 0 1 0 0 1 2 2 2 0 0 1 2 0 0 1 0 1 0 2 1 2 0 2 0 2 1 0 2 0\n",
      " 3 1 1 1 2 0 2 1 2 4 1 1 2 0 1 4 1 2 1 1 0 1 0 0 2 0 1 2 0 3 1 1 3 1 0 1 1\n",
      " 1 0 3 2 2 0 0 2 0 0 0 1 2 1 1 1 1 0 0 2 1 0 1 1 1 2 1 1 1 2 0 3 1 0 1 4 2\n",
      " 0 1 1 0 0 0 0 1 2 0 2 1 1 1 0 2 1 0 2 1 0 2 1 1 0 1 2 2 0 0 0 1 3 2 1 1 2\n",
      " 0 2 2 0 0 0 1 0 1 1 4 0 1 1 0 2 1 1 0 1 0 0 1 1 0 0 2 2 0 2 2 1 1 1 2 1 1\n",
      " 1 2 1 2 0 1 0 0 0 3 0 1 0 0 0 1 0 0 0 3 1 1 3 3 0 3 1 2 0 1 0 1 0 0 0 1 2\n",
      " 2 1 2 1 1 1 2 2 0 0 2 1 0 2 1 1 0 2 0 1 2 3 0 0 2 0 2 0 0 2 1 0 1 1 0 1 0\n",
      " 2 1 1 1 2 6 4 0 0 1 0 2 0 0 0 0 0 2 1 2 1 0 1 2 2 1 3 1 0 3 1 0 0 1 0 1 2\n",
      " 0 4 0 0 2 0 2 1 3 2 0 3 0 1 2 2 2 0 1 3 2 0 1 0 1 0 0 0 0 1 0 2 0 1 2 0 1\n",
      " 1 0 3 0 0 0 2 0 1 0 3 1 1 0 0 0 2 2 0 2 3 0 1 1 0 1 1 2 0 0 2 2 1 0 1 1 0\n",
      " 0 0 2 2 0 1 0 1 2 0 1 2 1 0 2 1 0 0 1 1 3 2 0 5 1 2 3 1 2 4 1 0 1 1 0 3 2\n",
      " 3 0 1 0 0 0 0 1 0 0 1 1 2 0 0 1 0 0 0 1 0 3 1 1 2 0 2 1 2 0 0 1 3 0 0 3 0\n",
      " 1 1 0 1 2 0 1 0 2 1 1 0 1 1 3 2 0 1 1 0 1 1 1 0 0 0 0 2 0 0 2 0 1 1 1 0 1\n",
      " 2 3 1 0 0 1 1 0 2 2 2 0 0 1 0 2 2 0 0 1 1 1 0 1 0 1 0 2 1 2 1 0 2 0 1 3 0\n",
      " 0 2 1 1 1 1 0 0 1 1 0 0 1 0 1 1 1 0 1 0 2 1 0 0 1 0 0 1 0 3 4 1 3 0 2 2 0\n",
      " 2 2 0 0 0 2 1 1 1 2 3 4 3 0 1 0 0 1 1 1 2 3 1 1 0 0 2 1 0 1 1 0 0 1 0 2 0\n",
      " 3 1 2 2 1 1 3 0 0 2 1 0 2 1 0 0 0 1 1 0 1 0 0 0 0 1 0 0 1 2 2 0 2 2 1 0 1\n",
      " 0]\n"
     ]
    }
   ],
   "source": [
    "print(dados_binomial)"
   ]
  },
  {
   "cell_type": "code",
   "execution_count": 68,
   "id": "00dccd5e",
   "metadata": {},
   "outputs": [
    {
     "data": {
      "text/plain": [
       "(array([0, 1, 2, 3, 4, 5, 6]),\n",
       " array([374, 356, 196,  61,  11,   1,   1], dtype=int64))"
      ]
     },
     "execution_count": 68,
     "metadata": {},
     "output_type": "execute_result"
    }
   ],
   "source": [
    "np.unique(dados_binomial, return_counts=True)"
   ]
  },
  {
   "cell_type": "code",
   "execution_count": 69,
   "id": "49c8db66",
   "metadata": {},
   "outputs": [
    {
     "data": {
      "image/png": "[encoded data removed]",
      "text/plain": [
       "<Figure size 432x288 with 1 Axes>"
      ]
     },
     "metadata": {
      "needs_background": "light"
     },
     "output_type": "display_data"
    }
   ],
   "source": [
    "sns.distplot(dados_binomial);"
   ]
  },
  {
   "cell_type": "markdown",
   "id": "79d568aa",
   "metadata": {},
   "source": [
    "### Distribuição de Poisson\n",
    "1. Número de vezes que um evento ocorreu em um intervalo de tempo"
   ]
  },
  {
   "cell_type": "code",
   "execution_count": 71,
   "id": "0a9453d8",
   "metadata": {},
   "outputs": [],
   "source": [
    "from scipy.stats import poisson"
   ]
  },
  {
   "cell_type": "code",
   "execution_count": null,
   "id": "33f3b12b",
   "metadata": {},
   "outputs": [],
   "source": []
  },
  {
   "cell_type": "code",
   "execution_count": null,
   "id": "d1d7533c",
   "metadata": {},
   "outputs": [],
   "source": []
  },
  {
   "cell_type": "code",
   "execution_count": null,
   "id": "6bf1cfff",
   "metadata": {},
   "outputs": [],
   "source": []
  },
  {
   "cell_type": "code",
   "execution_count": null,
   "id": "c80d9012",
   "metadata": {},
   "outputs": [],
   "source": []
  },
  {
   "cell_type": "code",
   "execution_count": null,
   "id": "99c5db55",
   "metadata": {},
   "outputs": [],
   "source": []
  },
  {
   "cell_type": "code",
   "execution_count": null,
   "id": "807432ed",
   "metadata": {},
   "outputs": [],
   "source": []
  },
  {
   "cell_type": "code",
   "execution_count": null,
   "id": "62a1e577",
   "metadata": {},
   "outputs": [],
   "source": []
  },
  {
   "cell_type": "code",
   "execution_count": null,
   "id": "a3ae8635",
   "metadata": {},
   "outputs": [],
   "source": []
  }
 ],
 "metadata": {
  "kernelspec": {
   "display_name": "Python 3 (ipykernel)",
   "language": "python",
   "name": "python3"
  },
  "language_info": {
   "codemirror_mode": {
    "name": "ipython",
    "version": 3
   },
   "file_extension": ".py",
   "mimetype": "text/x-python",
   "name": "python",
   "nbconvert_exporter": "python",
   "pygments_lexer": "ipython3",
   "version": "3.9.12"
  }
 },
 "nbformat": 4,
 "nbformat_minor": 5
}
