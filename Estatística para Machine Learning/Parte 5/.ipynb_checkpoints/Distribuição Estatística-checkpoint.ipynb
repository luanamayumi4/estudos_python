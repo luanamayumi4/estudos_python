{
 "cells": [
  {
   "cell_type": "markdown",
   "id": "6906f266",
   "metadata": {},
   "source": [
    "### Distribuições Estatísticas\n",
    "1. Vamos focar nas distribuições sem considerar a parte de probabilidade. \n",
    "2. Podemos fazer inferências e observar como os dados estão dispostos.\n",
    "   2.1. Normal\n",
    "   2.2. Gama\n",
    "   2.3. Exponencial\n",
    "   2.4. Uniforme\n",
    "   2.5. Bernoulli\n",
    "   2.6. Binomial\n",
    "   2.7. Poisson"
   ]
  },
  {
   "cell_type": "code",
   "execution_count": 1,
   "id": "adbd7961",
   "metadata": {},
   "outputs": [],
   "source": [
    "### TIPOS DE VARIÁVEIS\n",
    "\n",
    "# Númericas = Números >> Contínuas (números com vírgulas, nº Reais) ou Discretas (nº finitos, inteiro)\n",
    "# Categóricas = \"textos\" >>> Nominal (dados sem ordenação), Ordinais (existe uma ordenação)."
   ]
  },
  {
   "cell_type": "code",
   "execution_count": 2,
   "id": "db8e5801",
   "metadata": {},
   "outputs": [],
   "source": [
    "import numpy as np\n",
    "import seaborn as sns\n",
    "import pandas as pd\n",
    "from scipy import stats"
   ]
  },
  {
   "cell_type": "code",
   "execution_count": 3,
   "id": "099cc777",
   "metadata": {},
   "outputs": [],
   "source": [
    "### Distribuição Normal - Gaussian distribution (bell)\n",
    "dados_normal = stats.norm.rvs(size = 1000, random_state = 1)"
   ]
  },
  {
   "cell_type": "code",
   "execution_count": 4,
   "id": "3d922a7f",
   "metadata": {},
   "outputs": [
    {
     "data": {
      "text/plain": [
       "(-3.053764380426305, 3.9586027040379634)"
      ]
     },
     "execution_count": 4,
     "metadata": {},
     "output_type": "execute_result"
    }
   ],
   "source": [
    "min(dados_normal), max(dados_normal)"
   ]
  },
  {
   "cell_type": "code",
   "execution_count": 5,
   "id": "6ea56042",
   "metadata": {},
   "outputs": [
    {
     "name": "stderr",
     "output_type": "stream",
     "text": [
      "C:\\Users\\Matheus\\anaconda3\\lib\\site-packages\\seaborn\\distributions.py:2619: FutureWarning: `distplot` is a deprecated function and will be removed in a future version. Please adapt your code to use either `displot` (a figure-level function with similar flexibility) or `histplot` (an axes-level function for histograms).\n",
      "  warnings.warn(msg, FutureWarning)\n"
     ]
    },
    {
     "data": {
      "image/png": "[encoded data removed]",
      "text/plain": [
       "<Figure size 432x288 with 1 Axes>"
      ]
     },
     "metadata": {
      "needs_background": "light"
     },
     "output_type": "display_data"
    }
   ],
   "source": [
    "sns.distplot(dados_normal, hist = True, kde = True);"
   ]
  },
  {
   "cell_type": "code",
   "execution_count": 6,
   "id": "c35e07cd",
   "metadata": {},
   "outputs": [
    {
     "data": {
      "text/plain": [
       "(0.03881247615960185,\n",
       " 0.04129258886921605,\n",
       " ModeResult(mode=array([-3.05376438]), count=array([1])),\n",
       " 0.9623691107920885,\n",
       " 0.9810041339322116)"
      ]
     },
     "execution_count": 6,
     "metadata": {},
     "output_type": "execute_result"
    }
   ],
   "source": [
    "dados_normal.mean(), np.median(dados_normal), stats.mode(dados_normal), np.var(dados_normal), np.std(dados_normal)"
   ]
  },
  {
   "cell_type": "code",
   "execution_count": 7,
   "id": "858e642f",
   "metadata": {},
   "outputs": [
    {
     "data": {
      "text/plain": [
       "148"
      ]
     },
     "execution_count": 7,
     "metadata": {},
     "output_type": "execute_result"
    }
   ],
   "source": [
    "np.sum(((dados_normal >= 0.9810041339322116) & (dados_normal <= 0.9810041339322116 + 1)))"
   ]
  },
  {
   "cell_type": "code",
   "execution_count": 8,
   "id": "e362a85d",
   "metadata": {},
   "outputs": [
    {
     "data": {
      "text/plain": [
       "480"
      ]
     },
     "execution_count": 8,
     "metadata": {},
     "output_type": "execute_result"
    }
   ],
   "source": [
    "np.sum(((dados_normal <= 0.9810041339322116) & (dados_normal <= 0.9810041339322116 - 1)))"
   ]
  },
  {
   "cell_type": "code",
   "execution_count": 9,
   "id": "1d151e7b",
   "metadata": {},
   "outputs": [
    {
     "data": {
      "text/plain": [
       "0.628"
      ]
     },
     "execution_count": 9,
     "metadata": {},
     "output_type": "execute_result"
    }
   ],
   "source": [
    "(148 + 480) / 1000"
   ]
  },
  {
   "cell_type": "code",
   "execution_count": 10,
   "id": "c0f101bf",
   "metadata": {},
   "outputs": [],
   "source": [
    "## Utilizando alturas como exemplo\n",
    "\n",
    "dados = np.array([126. , 129.5, 133. , 133. , 136.5, 136.5, 140. , 140. , 140. ,\n",
    "                  140. , 143.5, 143.5, 143.5, 143.5, 143.5, 143.5, 147. , 147. ,\n",
    "                  147. , 147. , 147. , 147. , 147. , 150.5, 150.5, 150.5, 150.5,\n",
    "                  150.5, 150.5, 150.5, 150.5, 154. , 154. , 154. , 154. , 154. ,\n",
    "                  154. , 154. , 154. , 154. , 157.5, 157.5, 157.5, 157.5, 157.5,\n",
    "                  157.5, 157.5, 157.5, 157.5, 157.5, 161. , 161. , 161. , 161. ,\n",
    "                  161. , 161. , 161. , 161. , 161. , 161. , 164.5, 164.5, 164.5,\n",
    "                  164.5, 164.5, 164.5, 164.5, 164.5, 164.5, 168. , 168. , 168. ,\n",
    "                  168. , 168. , 168. , 168. , 168. , 171.5, 171.5, 171.5, 171.5,\n",
    "                  171.5, 171.5, 171.5, 175. , 175. , 175. , 175. , 175. , 175. ,\n",
    "                  178.5, 178.5, 178.5, 178.5, 182. , 182. , 185.5, 185.5, 189., 192.5])"
   ]
  },
  {
   "cell_type": "code",
   "execution_count": 11,
   "id": "e78c4b67",
   "metadata": {},
   "outputs": [
    {
     "data": {
      "text/plain": [
       "100"
      ]
     },
     "execution_count": 11,
     "metadata": {},
     "output_type": "execute_result"
    }
   ],
   "source": [
    "len(dados) # temos dados de 100 pessoas (amostra)"
   ]
  },
  {
   "cell_type": "code",
   "execution_count": 12,
   "id": "67993ea2",
   "metadata": {},
   "outputs": [
    {
     "data": {
      "text/plain": [
       "(126.0, 192.5)"
      ]
     },
     "execution_count": 12,
     "metadata": {},
     "output_type": "execute_result"
    }
   ],
   "source": [
    "min(dados), max(dados)"
   ]
  },
  {
   "cell_type": "code",
   "execution_count": 13,
   "id": "f23543f2",
   "metadata": {},
   "outputs": [
    {
     "data": {
      "text/plain": [
       "66.5"
      ]
     },
     "execution_count": 13,
     "metadata": {},
     "output_type": "execute_result"
    }
   ],
   "source": [
    "# Amplitude dos dados\n",
    "R = max(dados) - min(dados)\n",
    "R"
   ]
  },
  {
   "cell_type": "code",
   "execution_count": 14,
   "id": "af4fae62",
   "metadata": {},
   "outputs": [
    {
     "data": {
      "text/plain": [
       "(159.25,\n",
       " 159.25,\n",
       " ModeResult(mode=array([157.5]), count=array([10])),\n",
       " 186.3225,\n",
       " 13.65)"
      ]
     },
     "execution_count": 14,
     "metadata": {},
     "output_type": "execute_result"
    }
   ],
   "source": [
    "dados.mean(), np.median(dados), stats.mode(dados), np.var(dados), np.std(dados)"
   ]
  },
  {
   "cell_type": "code",
   "execution_count": 15,
   "id": "1a74bedc",
   "metadata": {},
   "outputs": [
    {
     "data": {
      "text/plain": [
       "8.571428571428571"
      ]
     },
     "execution_count": 15,
     "metadata": {},
     "output_type": "execute_result"
    }
   ],
   "source": [
    "CV = (np.std(dados) / dados.mean()) * 100\n",
    "CV"
   ]
  },
  {
   "cell_type": "code",
   "execution_count": 16,
   "id": "a8efcde1",
   "metadata": {},
   "outputs": [
    {
     "data": {
      "text/plain": [
       "8.571428571428571"
      ]
     },
     "execution_count": 16,
     "metadata": {},
     "output_type": "execute_result"
    }
   ],
   "source": [
    "# OU \n",
    "\n",
    "CV2 = stats.variation(dados) * 100\n",
    "CV2"
   ]
  },
  {
   "cell_type": "code",
   "execution_count": 17,
   "id": "59548c9a",
   "metadata": {},
   "outputs": [
    {
     "name": "stderr",
     "output_type": "stream",
     "text": [
      "C:\\Users\\Matheus\\anaconda3\\lib\\site-packages\\seaborn\\distributions.py:2619: FutureWarning: `distplot` is a deprecated function and will be removed in a future version. Please adapt your code to use either `displot` (a figure-level function with similar flexibility) or `histplot` (an axes-level function for histograms).\n",
      "  warnings.warn(msg, FutureWarning)\n"
     ]
    },
    {
     "data": {
      "image/png": "[encoded data removed]",
      "text/plain": [
       "<Figure size 432x288 with 1 Axes>"
      ]
     },
     "metadata": {
      "needs_background": "light"
     },
     "output_type": "display_data"
    }
   ],
   "source": [
    "sns.distplot(dados, hist = True, kde = True);"
   ]
  },
  {
   "cell_type": "markdown",
   "id": "2561f720",
   "metadata": {},
   "source": [
    "### Enviesamento"
   ]
  },
  {
   "cell_type": "code",
   "execution_count": 18,
   "id": "fe70f7eb",
   "metadata": {},
   "outputs": [],
   "source": [
    "from scipy.stats import skewnorm\n",
    "dados_normal = skewnorm.rvs(a = 0, size = 1000)"
   ]
  },
  {
   "cell_type": "code",
   "execution_count": 19,
   "id": "4163f8cb",
   "metadata": {},
   "outputs": [
    {
     "name": "stderr",
     "output_type": "stream",
     "text": [
      "C:\\Users\\Matheus\\anaconda3\\lib\\site-packages\\seaborn\\distributions.py:2619: FutureWarning: `distplot` is a deprecated function and will be removed in a future version. Please adapt your code to use either `displot` (a figure-level function with similar flexibility) or `histplot` (an axes-level function for histograms).\n",
      "  warnings.warn(msg, FutureWarning)\n"
     ]
    },
    {
     "data": {
      "image/png": "[encoded data removed]",
      "text/plain": [
       "<Figure size 432x288 with 1 Axes>"
      ]
     },
     "metadata": {
      "needs_background": "light"
     },
     "output_type": "display_data"
    }
   ],
   "source": [
    "sns.distplot(dados_normal);"
   ]
  },
  {
   "cell_type": "code",
   "execution_count": 20,
   "id": "49075e96",
   "metadata": {},
   "outputs": [
    {
     "data": {
      "text/plain": [
       "(0.0285210353708855,\n",
       " 0.06431435168302176,\n",
       " ModeResult(mode=array([-3.0103754]), count=array([1])))"
      ]
     },
     "execution_count": 20,
     "metadata": {},
     "output_type": "execute_result"
    }
   ],
   "source": [
    "dados_normal.mean(), np.median(dados_normal), stats.mode(dados_normal)"
   ]
  },
  {
   "cell_type": "markdown",
   "id": "1c47008d",
   "metadata": {},
   "source": [
    "#### Não são dados normais apesar da variável conter o nome 'normal'"
   ]
  },
  {
   "cell_type": "code",
   "execution_count": 21,
   "id": "526b2f47",
   "metadata": {},
   "outputs": [
    {
     "name": "stderr",
     "output_type": "stream",
     "text": [
      "C:\\Users\\Matheus\\anaconda3\\lib\\site-packages\\seaborn\\distributions.py:2619: FutureWarning: `distplot` is a deprecated function and will be removed in a future version. Please adapt your code to use either `displot` (a figure-level function with similar flexibility) or `histplot` (an axes-level function for histograms).\n",
      "  warnings.warn(msg, FutureWarning)\n"
     ]
    },
    {
     "data": {
      "image/png": "[encoded data removed]",
      "text/plain": [
       "<Figure size 432x288 with 1 Axes>"
      ]
     },
     "metadata": {
      "needs_background": "light"
     },
     "output_type": "display_data"
    }
   ],
   "source": [
    "dados_normal_positivo = skewnorm.rvs(a = 10, size = 1000)\n",
    "sns.distplot(dados_normal_positivo);"
   ]
  },
  {
   "cell_type": "code",
   "execution_count": 22,
   "id": "439b5e33",
   "metadata": {},
   "outputs": [
    {
     "data": {
      "text/plain": [
       "(0.7998250338914327,\n",
       " 0.6758449961434206,\n",
       " ModeResult(mode=array([-0.17165123]), count=array([1])))"
      ]
     },
     "execution_count": 22,
     "metadata": {},
     "output_type": "execute_result"
    }
   ],
   "source": [
    "dados_normal_positivo.mean(), np.median(dados_normal_positivo), stats.mode(dados_normal_positivo)"
   ]
  },
  {
   "cell_type": "code",
   "execution_count": 23,
   "id": "5b6f5257",
   "metadata": {},
   "outputs": [
    {
     "name": "stderr",
     "output_type": "stream",
     "text": [
      "C:\\Users\\Matheus\\anaconda3\\lib\\site-packages\\seaborn\\distributions.py:2619: FutureWarning: `distplot` is a deprecated function and will be removed in a future version. Please adapt your code to use either `displot` (a figure-level function with similar flexibility) or `histplot` (an axes-level function for histograms).\n",
      "  warnings.warn(msg, FutureWarning)\n"
     ]
    },
    {
     "data": {
      "image/png": "[encoded data removed]",
      "text/plain": [
       "<Figure size 432x288 with 1 Axes>"
      ]
     },
     "metadata": {
      "needs_background": "light"
     },
     "output_type": "display_data"
    }
   ],
   "source": [
    "dados_normal_negativo = skewnorm.rvs(-10, size = 1000)\n",
    "sns.distplot(dados_normal_negativo);"
   ]
  },
  {
   "cell_type": "code",
   "execution_count": 24,
   "id": "e48aa5f3",
   "metadata": {},
   "outputs": [
    {
     "data": {
      "text/plain": [
       "(-0.7710365089511788,\n",
       " -0.6556744822815169,\n",
       " ModeResult(mode=array([-3.17040215]), count=array([1])))"
      ]
     },
     "execution_count": 24,
     "metadata": {},
     "output_type": "execute_result"
    }
   ],
   "source": [
    "dados_normal_negativo.mean(), np.median(dados_normal_negativo), stats.mode(dados_normal_negativo)"
   ]
  },
  {
   "cell_type": "markdown",
   "id": "0fcaee76",
   "metadata": {},
   "source": [
    "1. Distribuição normal padronizada\n",
    "2. Distribuição padronizada --> Média = 0 e DP = 1\n",
    "\n",
    "$Zscore = \\frac {x - média}{DP}$"
   ]
  },
  {
   "cell_type": "code",
   "execution_count": 25,
   "id": "7d89ab69",
   "metadata": {},
   "outputs": [],
   "source": [
    "dados_normal_padronizado = np.random.standard_normal(size = 1000)"
   ]
  },
  {
   "cell_type": "code",
   "execution_count": 26,
   "id": "c3c027f2",
   "metadata": {},
   "outputs": [
    {
     "data": {
      "text/plain": [
       "(-3.5100675356465803, 3.202417740788828)"
      ]
     },
     "execution_count": 26,
     "metadata": {},
     "output_type": "execute_result"
    }
   ],
   "source": [
    "min(dados_normal_padronizado), max(dados_normal_padronizado)"
   ]
  },
  {
   "cell_type": "code",
   "execution_count": 27,
   "id": "5443ead6",
   "metadata": {},
   "outputs": [
    {
     "data": {
      "image/png": "[encoded data removed]",
      "text/plain": [
       "<Figure size 360x360 with 1 Axes>"
      ]
     },
     "metadata": {
      "needs_background": "light"
     },
     "output_type": "display_data"
    }
   ],
   "source": [
    "sns.displot(dados_normal_padronizado);"
   ]
  },
  {
   "cell_type": "code",
   "execution_count": 28,
   "id": "d716d758",
   "metadata": {},
   "outputs": [
    {
     "data": {
      "text/plain": [
       "(-0.03333295308744621, 0.9663700641735814)"
      ]
     },
     "execution_count": 28,
     "metadata": {},
     "output_type": "execute_result"
    }
   ],
   "source": [
    "dados_normal_padronizado.mean(), np.std(dados_normal_padronizado)"
   ]
  },
  {
   "cell_type": "code",
   "execution_count": 29,
   "id": "fb023b78",
   "metadata": {},
   "outputs": [
    {
     "data": {
      "text/plain": [
       "array([126. , 129.5, 133. , 133. , 136.5, 136.5, 140. , 140. , 140. ,\n",
       "       140. , 143.5, 143.5, 143.5, 143.5, 143.5, 143.5, 147. , 147. ,\n",
       "       147. , 147. , 147. , 147. , 147. , 150.5, 150.5, 150.5, 150.5,\n",
       "       150.5, 150.5, 150.5, 150.5, 154. , 154. , 154. , 154. , 154. ,\n",
       "       154. , 154. , 154. , 154. , 157.5, 157.5, 157.5, 157.5, 157.5,\n",
       "       157.5, 157.5, 157.5, 157.5, 157.5, 161. , 161. , 161. , 161. ,\n",
       "       161. , 161. , 161. , 161. , 161. , 161. , 164.5, 164.5, 164.5,\n",
       "       164.5, 164.5, 164.5, 164.5, 164.5, 164.5, 168. , 168. , 168. ,\n",
       "       168. , 168. , 168. , 168. , 168. , 171.5, 171.5, 171.5, 171.5,\n",
       "       171.5, 171.5, 171.5, 175. , 175. , 175. , 175. , 175. , 175. ,\n",
       "       178.5, 178.5, 178.5, 178.5, 182. , 182. , 185.5, 185.5, 189. ,\n",
       "       192.5])"
      ]
     },
     "execution_count": 29,
     "metadata": {},
     "output_type": "execute_result"
    }
   ],
   "source": [
    "### Aplicando a técnica para padronização de dados não padronizados.\n",
    "dados"
   ]
  },
  {
   "cell_type": "code",
   "execution_count": 30,
   "id": "0a23d243",
   "metadata": {},
   "outputs": [
    {
     "data": {
      "text/plain": [
       "159.25"
      ]
     },
     "execution_count": 30,
     "metadata": {},
     "output_type": "execute_result"
    }
   ],
   "source": [
    "media = dados.mean()\n",
    "media"
   ]
  },
  {
   "cell_type": "code",
   "execution_count": 31,
   "id": "b82141d8",
   "metadata": {},
   "outputs": [
    {
     "data": {
      "text/plain": [
       "13.65"
      ]
     },
     "execution_count": 31,
     "metadata": {},
     "output_type": "execute_result"
    }
   ],
   "source": [
    "desvio_padrao = np.std(dados)\n",
    "desvio_padrao"
   ]
  },
  {
   "cell_type": "code",
   "execution_count": 32,
   "id": "bcad0e7c",
   "metadata": {},
   "outputs": [
    {
     "data": {
      "text/plain": [
       "array([-2.43589744, -2.17948718, -1.92307692, -1.92307692, -1.66666667,\n",
       "       -1.66666667, -1.41025641, -1.41025641, -1.41025641, -1.41025641,\n",
       "       -1.15384615, -1.15384615, -1.15384615, -1.15384615, -1.15384615,\n",
       "       -1.15384615, -0.8974359 , -0.8974359 , -0.8974359 , -0.8974359 ,\n",
       "       -0.8974359 , -0.8974359 , -0.8974359 , -0.64102564, -0.64102564,\n",
       "       -0.64102564, -0.64102564, -0.64102564, -0.64102564, -0.64102564,\n",
       "       -0.64102564, -0.38461538, -0.38461538, -0.38461538, -0.38461538,\n",
       "       -0.38461538, -0.38461538, -0.38461538, -0.38461538, -0.38461538,\n",
       "       -0.12820513, -0.12820513, -0.12820513, -0.12820513, -0.12820513,\n",
       "       -0.12820513, -0.12820513, -0.12820513, -0.12820513, -0.12820513,\n",
       "        0.12820513,  0.12820513,  0.12820513,  0.12820513,  0.12820513,\n",
       "        0.12820513,  0.12820513,  0.12820513,  0.12820513,  0.12820513,\n",
       "        0.38461538,  0.38461538,  0.38461538,  0.38461538,  0.38461538,\n",
       "        0.38461538,  0.38461538,  0.38461538,  0.38461538,  0.64102564,\n",
       "        0.64102564,  0.64102564,  0.64102564,  0.64102564,  0.64102564,\n",
       "        0.64102564,  0.64102564,  0.8974359 ,  0.8974359 ,  0.8974359 ,\n",
       "        0.8974359 ,  0.8974359 ,  0.8974359 ,  0.8974359 ,  1.15384615,\n",
       "        1.15384615,  1.15384615,  1.15384615,  1.15384615,  1.15384615,\n",
       "        1.41025641,  1.41025641,  1.41025641,  1.41025641,  1.66666667,\n",
       "        1.66666667,  1.92307692,  1.92307692,  2.17948718,  2.43589744])"
      ]
     },
     "execution_count": 32,
     "metadata": {},
     "output_type": "execute_result"
    }
   ],
   "source": [
    "dados_padronizados = ( dados - media ) / desvio_padrao\n",
    "dados_padronizados"
   ]
  },
  {
   "cell_type": "code",
   "execution_count": 33,
   "id": "01e330f5",
   "metadata": {},
   "outputs": [
    {
     "data": {
      "text/plain": [
       "(0.0, 0.9999999999999999)"
      ]
     },
     "execution_count": 33,
     "metadata": {},
     "output_type": "execute_result"
    }
   ],
   "source": [
    "dados_padronizados.mean(), np.std(dados_padronizados)"
   ]
  },
  {
   "cell_type": "code",
   "execution_count": 34,
   "id": "bcfdd2bb",
   "metadata": {},
   "outputs": [
    {
     "data": {
      "image/png": "[encoded data removed]",
      "text/plain": [
       "<Figure size 360x360 with 1 Axes>"
      ]
     },
     "metadata": {
      "needs_background": "light"
     },
     "output_type": "display_data"
    }
   ],
   "source": [
    "sns.displot(dados_padronizados);"
   ]
  },
  {
   "cell_type": "markdown",
   "id": "3af4d003",
   "metadata": {},
   "source": [
    "### Teorema central do limite\n",
    "1. Quando o tamanho da amostra aumenta a distribuição amostral da sua média aproxima-se cada vez mais de uma distribuição normal"
   ]
  },
  {
   "cell_type": "code",
   "execution_count": 35,
   "id": "7f1e163a",
   "metadata": {},
   "outputs": [
    {
     "data": {
      "text/plain": [
       "(159.738,)"
      ]
     },
     "execution_count": 35,
     "metadata": {},
     "output_type": "execute_result"
    }
   ],
   "source": [
    "alturas = np.random.randint(126, 192, 500)\n",
    "alturas.mean(), "
   ]
  },
  {
   "cell_type": "code",
   "execution_count": 37,
   "id": "5762be98",
   "metadata": {},
   "outputs": [
    {
     "name": "stderr",
     "output_type": "stream",
     "text": [
      "C:\\Users\\Matheus\\anaconda3\\lib\\site-packages\\seaborn\\distributions.py:2619: FutureWarning: `distplot` is a deprecated function and will be removed in a future version. Please adapt your code to use either `displot` (a figure-level function with similar flexibility) or `histplot` (an axes-level function for histograms).\n",
      "  warnings.warn(msg, FutureWarning)\n"
     ]
    },
    {
     "data": {
      "text/plain": [
       "<AxesSubplot:ylabel='Density'>"
      ]
     },
     "execution_count": 37,
     "metadata": {},
     "output_type": "execute_result"
    },
    {
     "data": {
      "image/png": "[encoded data removed]",
      "text/plain": [
       "<Figure size 432x288 with 1 Axes>"
      ]
     },
     "metadata": {
      "needs_background": "light"
     },
     "output_type": "display_data"
    }
   ],
   "source": [
    "sns.distplot(alturas)"
   ]
  },
  {
   "cell_type": "code",
   "execution_count": 39,
   "id": "553a99f8",
   "metadata": {},
   "outputs": [
    {
     "name": "stdout",
     "output_type": "stream",
     "text": [
      "[159.094, 159.458, 157.558, 158.314, 157.374, 157.914, 159.048, 157.708, 159.088, 158.58, 159.24, 158.528, 158.9, 159.432, 158.71, 158.61, 159.556, 158.138, 156.704, 160.504, 158.82, 158.32, 157.814, 158.344, 159.682, 158.93, 158.294, 157.902, 158.632, 159.714, 159.138, 157.88, 158.17, 158.66, 158.086, 157.652, 158.052, 158.728, 158.502, 159.596, 157.192, 159.174, 159.532, 158.206, 158.712, 159.424, 158.862, 158.36, 157.994, 159.954, 157.748, 157.986, 158.61, 158.076, 157.606, 157.704, 157.698, 159.322, 160.372, 156.162, 157.786, 159.034, 157.46, 159.834, 157.176, 158.896, 158.63, 156.458, 158.134, 157.214, 157.868, 158.816, 158.666, 158.956, 158.012, 159.402, 156.626, 159.544, 158.174, 158.862, 158.16, 159.342, 158.428, 160.052, 158.766, 158.304, 158.544, 159.51, 158.316, 158.592, 159.312, 159.73, 158.698, 156.404, 157.484, 157.042, 159.258, 157.722, 158.488, 159.222, 158.086, 157.278, 157.678, 157.466, 157.648, 157.74, 160.09, 159.608, 158.736, 159.398, 159.424, 157.644, 158.436, 158.082, 157.0, 159.37, 158.904, 157.956, 159.506, 157.582, 157.526, 157.512, 158.304, 157.982, 157.622, 158.898, 160.15, 157.786, 156.38, 159.162, 158.232, 157.376, 157.616, 158.524, 158.514, 157.598, 158.986, 159.226, 158.992, 159.134, 157.532, 158.174, 159.36, 157.516, 157.262, 158.676, 159.568, 158.412, 157.892, 158.392, 158.616, 158.234, 159.236, 159.404, 156.418, 158.82, 159.404, 160.352, 159.028, 160.482, 157.884, 159.084, 158.236, 157.47, 160.236, 160.516, 158.642, 157.99, 158.04, 157.76, 158.596, 157.028, 158.036, 159.276, 159.232, 159.588, 157.84, 159.048, 160.992, 158.932, 157.724, 157.24, 158.192, 158.73, 158.378, 159.012, 158.068, 158.69, 158.322, 157.636, 158.936, 159.378, 159.338, 159.96, 157.578, 157.682, 159.858, 159.66, 159.072, 158.902, 156.038, 159.074, 159.04, 159.446, 157.632, 158.382, 158.148, 158.476, 158.782, 159.578, 160.282, 158.278, 159.808, 158.286, 157.164, 158.418, 158.758, 159.86, 158.85, 159.198, 157.226, 157.884, 158.714, 159.598, 159.292, 158.3, 158.276, 157.974, 158.394, 157.904, 158.84, 158.872, 158.596, 156.848, 158.09, 157.838, 157.838, 159.14, 160.932, 158.872, 157.77, 158.53, 156.508, 158.9, 157.984, 158.306, 159.366, 158.716, 158.742, 159.332, 159.772, 159.398, 158.572, 157.478, 158.15, 158.874, 158.398, 157.962, 159.496, 158.994, 158.31, 159.558, 157.896, 159.318, 157.314, 158.86, 158.378, 158.754, 159.138, 158.214, 157.892, 157.822, 158.786, 157.898, 158.372, 158.208, 158.284, 157.06, 158.246, 158.932, 158.748, 161.146, 159.348, 158.558, 157.39, 157.446, 159.21, 157.6, 159.28, 158.372, 157.588, 158.166, 158.024, 159.012, 158.354, 157.836, 159.924, 159.238, 158.79, 158.144, 158.706, 160.136, 158.754, 158.576, 158.794, 159.176, 159.12, 160.064, 158.716, 159.496, 156.72, 159.81, 158.636, 157.536, 158.546, 159.858, 159.9, 159.092, 159.268, 158.256, 157.072, 159.304, 157.664, 157.688, 157.424, 158.672, 160.024, 158.582, 159.134, 160.02, 157.75, 158.576, 157.156, 158.386, 159.52, 157.866, 158.656, 158.28, 159.024, 159.084, 157.984, 158.722, 158.146, 159.296, 159.152, 158.67, 157.426, 157.982, 159.096, 157.594, 157.154, 157.056, 158.708, 159.38, 158.046, 158.356, 157.26, 156.654, 159.964, 158.096, 158.966, 157.244, 157.92, 158.502, 158.0, 156.554, 158.822, 158.362, 158.586, 158.088, 158.89, 157.788, 158.366, 158.08, 157.51, 158.064, 158.044, 158.06, 157.358, 160.2, 159.316, 158.168, 157.622, 158.25, 158.328, 157.732, 158.606, 157.37, 158.36, 158.282, 159.256, 158.04, 158.808, 158.47, 157.886, 157.834, 158.828, 158.268, 159.072, 158.422, 158.308, 159.214, 157.208, 158.758, 160.364, 159.214, 159.09, 157.63, 157.906, 160.082, 158.402, 159.018, 159.95, 157.104, 158.492, 158.516, 159.618, 157.968, 156.966, 157.044, 158.942, 157.656, 158.2, 158.826, 158.234, 157.534, 159.254, 157.264, 158.476, 157.846, 157.03, 158.474, 158.402, 156.992, 158.052, 158.372, 157.05, 159.048, 157.81, 157.988, 158.526, 158.786, 158.392, 160.42, 156.452, 157.126, 158.722, 158.716, 157.988, 159.82, 156.546, 158.894, 158.28, 157.99, 157.364, 159.108, 158.8, 158.736, 158.52, 158.19, 157.922, 158.404, 158.942, 157.77, 158.272, 158.468, 159.776, 159.002, 156.37, 157.202, 156.728, 156.474, 158.956, 159.618, 157.546, 157.968, 156.398, 159.42, 160.274, 158.924, 159.234, 158.572, 160.21, 158.48, 157.946, 158.474, 158.17, 158.122, 157.25, 157.536, 158.126, 158.826, 158.562, 159.906, 158.978, 157.964, 159.156, 158.862, 158.832, 158.092, 157.64, 158.078, 158.226, 158.582, 158.292, 157.38, 158.21, 158.906, 157.854, 158.006, 159.45, 159.596, 159.088, 159.758, 159.094, 159.446, 157.834, 158.484, 158.736, 158.634, 157.218, 157.808, 158.8, 158.078, 158.338, 158.832, 159.442, 158.264, 157.65, 157.774, 157.612, 159.586, 159.288, 159.424, 157.958, 157.214, 159.47, 158.046, 158.316, 159.234, 158.678, 158.474, 158.0, 158.464, 159.026, 157.654, 159.124, 159.02, 158.51, 157.658, 157.528, 157.788, 159.75, 158.55, 158.706, 157.818, 158.754, 156.746, 159.654, 159.454, 159.728, 158.192, 158.818, 158.234, 159.606, 158.574, 160.494, 157.89, 158.64, 158.134, 158.85, 158.778, 159.118, 158.336, 159.258, 158.616, 159.046, 159.32, 158.26, 157.868, 158.934, 158.214, 157.204, 159.458, 158.448, 158.022, 157.888, 158.066, 158.622, 160.246, 158.464, 158.394, 156.07, 159.048, 159.13, 158.098, 158.194, 157.57, 159.46, 157.714, 157.924, 157.844, 159.326, 156.978, 158.968, 158.612, 157.404, 159.826, 158.246, 159.824, 159.938, 157.718, 160.084, 159.106, 158.45, 155.83, 158.694, 159.27, 157.75, 158.816, 158.862, 160.024, 159.426, 158.026, 158.316, 159.432, 159.444, 159.486, 159.054, 157.814, 159.402, 157.798, 159.222, 156.98, 157.308, 159.174, 158.146, 157.258, 158.26, 158.286, 160.588, 161.108, 158.49, 159.418, 158.382, 159.848, 158.77, 158.38, 158.064, 157.944, 158.368, 158.468, 159.942, 159.14, 157.298, 158.04, 158.388, 157.182, 157.916, 158.468, 159.08, 158.892, 158.634, 157.384, 158.536, 159.386, 160.238, 158.092, 158.66, 157.424, 157.8, 158.288, 158.512, 158.188, 158.738, 159.186, 159.602, 158.122, 158.17, 157.998, 159.55, 159.99, 157.796, 158.546, 159.002, 158.334, 159.164, 158.714, 159.486, 159.202, 158.548, 158.704, 156.298, 158.362, 157.74, 159.324, 159.33, 159.8, 160.062, 160.442, 158.75, 158.744, 160.268, 160.064, 159.446, 159.036, 157.968, 158.73, 156.102, 159.19, 157.756, 159.726, 159.03, 158.644, 157.496, 159.856, 156.926, 158.222, 158.702, 159.262, 158.42, 159.292, 158.35, 159.656, 158.568, 157.174, 157.656, 157.448, 158.322, 158.054, 157.234, 159.186, 158.296, 157.892, 159.244, 157.914, 158.124, 159.658, 158.986, 157.03, 157.712, 158.704, 158.416, 157.81, 159.84, 158.132, 158.196, 158.85, 157.656, 159.602, 157.814, 158.226, 159.274, 157.926, 159.244, 159.508, 158.112, 159.23, 157.562, 157.384, 157.446, 158.868, 157.568, 157.948, 158.024, 159.556, 157.064, 157.856, 158.9, 158.91, 158.226, 157.676, 160.57, 159.086, 157.566, 158.728, 159.254, 157.894, 158.978, 158.978, 158.688, 157.75, 159.314, 158.596, 159.36, 157.916, 158.106, 159.066, 158.126, 159.778, 159.91, 158.85, 158.35, 159.546, 158.568, 156.408, 158.35, 158.16, 159.556, 158.28, 158.034, 157.908, 156.846, 157.932, 159.346, 158.304, 158.034, 158.252, 156.124, 157.71, 158.152, 158.886, 157.566, 158.63, 158.542, 159.164, 158.392, 158.408, 159.03, 158.694, 159.166, 159.942, 158.606, 159.086, 158.77, 156.324, 158.564, 157.064, 157.798, 158.036, 158.454, 157.56, 159.01, 159.292, 157.928, 159.508, 158.752, 157.73, 160.464, 158.108, 160.39, 157.404, 159.014, 156.766, 158.388, 159.22, 158.608, 159.576, 158.436, 158.61, 156.73, 159.184, 157.62, 157.918, 159.042, 159.164, 159.486, 159.322, 157.89, 159.548, 158.7, 157.688, 156.096, 157.28, 158.236, 157.398, 159.322, 159.018, 158.258, 159.03, 159.54, 158.742, 157.648, 157.752, 158.298, 157.658, 158.796, 160.838, 158.26, 156.594, 159.736, 158.0, 159.122, 159.04, 157.862, 157.358, 157.082, 158.714, 158.59, 158.868, 157.944, 158.712, 158.504, 156.876, 158.648, 157.296, 158.554, 157.728, 159.382, 158.628, 157.562, 157.734, 158.652, 157.17, 158.928, 157.352, 160.064, 158.362, 158.704, 156.746, 158.858, 159.636, 158.058, 158.172, 159.176, 157.418, 158.76, 159.308, 159.234, 158.612, 160.446, 159.25, 156.452, 160.106, 158.016, 157.336, 159.6, 158.188, 158.87, 157.532, 157.236, 157.052, 158.0, 156.956, 161.058, 157.978, 157.248, 158.438, 159.446, 157.754, 159.674, 158.514, 158.578, 158.836, 159.074, 157.946, 158.834, 160.788, 158.924, 158.732, 159.248, 158.534, 157.682, 158.968, 159.168, 159.434, 157.712, 158.174, 157.85, 158.1, 160.29, 159.278, 159.858, 158.36, 159.054, 158.31, 158.156, 156.836, 158.984, 159.402, 160.174, 157.824, 159.75, 156.72, 158.19, 159.086, 159.542, 159.38, 159.274, 159.306, 157.248, 156.792, 158.216, 157.872, 158.394, 158.864, 157.282, 156.87, 157.224, 158.818, 159.684, 158.866, 158.228, 159.038, 158.082, 158.084, 158.248, 158.258, 157.99, 159.038]\n"
     ]
    }
   ],
   "source": [
    "medias = [np.mean(np.random.randint(126,192,500)) for _ in range(1000)] # o for será executado 1000 vezes com 500 posições em cada vetor\n",
    "# gerando a média dos mil vetores\n",
    "print(medias)"
   ]
  },
  {
   "cell_type": "code",
   "execution_count": 40,
   "id": "63bf5d24",
   "metadata": {},
   "outputs": [
    {
     "name": "stderr",
     "output_type": "stream",
     "text": [
      "C:\\Users\\Matheus\\anaconda3\\lib\\site-packages\\seaborn\\distributions.py:2619: FutureWarning: `distplot` is a deprecated function and will be removed in a future version. Please adapt your code to use either `displot` (a figure-level function with similar flexibility) or `histplot` (an axes-level function for histograms).\n",
      "  warnings.warn(msg, FutureWarning)\n"
     ]
    },
    {
     "data": {
      "text/plain": [
       "<AxesSubplot:ylabel='Density'>"
      ]
     },
     "execution_count": 40,
     "metadata": {},
     "output_type": "execute_result"
    },
    {
     "data": {
      "image/png": "[encoded data removed]",
      "text/plain": [
       "<Figure size 432x288 with 1 Axes>"
      ]
     },
     "metadata": {
      "needs_background": "light"
     },
     "output_type": "display_data"
    }
   ],
   "source": [
    "# gerando uma distribuição das médias\n",
    "# porem juntando as medias de todas as distribuições, teremos uma distribuição muito próximo da distribuição normal\n",
    "sns.distplot(medias)"
   ]
  },
  {
   "cell_type": "code",
   "execution_count": null,
   "id": "3d5b4896",
   "metadata": {},
   "outputs": [],
   "source": []
  },
  {
   "cell_type": "code",
   "execution_count": null,
   "id": "f9d5fb29",
   "metadata": {},
   "outputs": [],
   "source": []
  },
  {
   "cell_type": "code",
   "execution_count": null,
   "id": "58c09523",
   "metadata": {},
   "outputs": [],
   "source": []
  },
  {
   "cell_type": "code",
   "execution_count": null,
   "id": "2e3ea759",
   "metadata": {},
   "outputs": [],
   "source": []
  },
  {
   "cell_type": "code",
   "execution_count": null,
   "id": "805f1544",
   "metadata": {},
   "outputs": [],
   "source": []
  }
 ],
 "metadata": {
  "kernelspec": {
   "display_name": "Python 3 (ipykernel)",
   "language": "python",
   "name": "python3"
  },
  "language_info": {
   "codemirror_mode": {
    "name": "ipython",
    "version": 3
   },
   "file_extension": ".py",
   "mimetype": "text/x-python",
   "name": "python",
   "nbconvert_exporter": "python",
   "pygments_lexer": "ipython3",
   "version": "3.9.12"
  }
 },
 "nbformat": 4,
 "nbformat_minor": 5
}
