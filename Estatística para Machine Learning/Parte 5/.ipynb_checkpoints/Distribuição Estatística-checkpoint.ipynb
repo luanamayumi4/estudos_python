{
 "cells": [
  {
   "cell_type": "markdown",
   "id": "08af35b3",
   "metadata": {},
   "source": [
    "### Distribuições Estatísticas\n",
    "1. Vamos focar nas distribuições sem considerar a parte de probabilidade. \n",
    "2. Podemos fazer inferências e observar como os dados estão dispostos.\n",
    "   2.1. Normal\n",
    "   2.2. Gama\n",
    "   2.3. Exponencial\n",
    "   2.4. Uniforme\n",
    "   2.5. Bernoulli\n",
    "   2.6. Binomial\n",
    "   2.7. Poisson"
   ]
  },
  {
   "cell_type": "code",
   "execution_count": null,
   "id": "0e08ba62",
   "metadata": {},
   "outputs": [],
   "source": [
    "### TIPOS DE VARIÁVEIS\n",
    "\n",
    "# Númericas = Números >> Contínuas (números com vírgulas, nº Reais) ou Discretas\n",
    "# Categóricas = \"textos\""
   ]
  },
  {
   "cell_type": "code",
   "execution_count": null,
   "id": "bca386fe",
   "metadata": {},
   "outputs": [],
   "source": []
  },
  {
   "cell_type": "code",
   "execution_count": null,
   "id": "fa8902c6",
   "metadata": {},
   "outputs": [],
   "source": []
  },
  {
   "cell_type": "code",
   "execution_count": null,
   "id": "7995fd4e",
   "metadata": {},
   "outputs": [],
   "source": []
  },
  {
   "cell_type": "code",
   "execution_count": null,
   "id": "67f05196",
   "metadata": {},
   "outputs": [],
   "source": []
  },
  {
   "cell_type": "code",
   "execution_count": null,
   "id": "a79b5c48",
   "metadata": {},
   "outputs": [],
   "source": []
  },
  {
   "cell_type": "code",
   "execution_count": null,
   "id": "6daad636",
   "metadata": {},
   "outputs": [],
   "source": []
  }
 ],
 "metadata": {
  "kernelspec": {
   "display_name": "Python 3 (ipykernel)",
   "language": "python",
   "name": "python3"
  },
  "language_info": {
   "codemirror_mode": {
    "name": "ipython",
    "version": 3
   },
   "file_extension": ".py",
   "mimetype": "text/x-python",
   "name": "python",
   "nbconvert_exporter": "python",
   "pygments_lexer": "ipython3",
   "version": "3.9.12"
  }
 },
 "nbformat": 4,
 "nbformat_minor": 5
}
