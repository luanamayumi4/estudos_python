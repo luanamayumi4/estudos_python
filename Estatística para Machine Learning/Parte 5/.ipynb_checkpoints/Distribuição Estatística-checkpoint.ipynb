{
 "cells": [
  {
   "cell_type": "markdown",
   "id": "1df50cdb",
   "metadata": {},
   "source": [
    "### Distribuições Estatísticas\n",
    "1. Vamos focar nas distribuições sem considerar a parte de probabilidade. \n",
    "2. Podemos fazer inferências e observar como os dados estão dispostos.\n",
    "   2.1. Normal\n",
    "   2.2. Gama\n",
    "   2.3. Exponencial\n",
    "   2.4. Uniforme\n",
    "   2.5. Bernoulli\n",
    "   2.6. Binomial\n",
    "   2.7. Poisson"
   ]
  },
  {
   "cell_type": "code",
   "execution_count": null,
   "id": "f7cb4011",
   "metadata": {},
   "outputs": [],
   "source": [
    "### TIPOS DE VARIÁVEIS\n",
    "\n",
    "# Númericas = Números >> Contínuas (números com vírgulas, nº Reais) ou Discretas (nº finitos, inteiro)\n",
    "# Categóricas = \"textos\" >>> Nominal (dados sem ordenação), Ordinais (existe uma ordenação)."
   ]
  },
  {
   "cell_type": "code",
   "execution_count": 1,
   "id": "48bc1df0",
   "metadata": {},
   "outputs": [],
   "source": [
    "import numpy as np\n",
    "import seaborn as sns\n",
    "import pandas as pd\n",
    "from scipy import stats"
   ]
  },
  {
   "cell_type": "code",
   "execution_count": 2,
   "id": "09c2dd06",
   "metadata": {},
   "outputs": [],
   "source": [
    "### Distribuição Normal\n",
    "dados_normal = stats.norm.rvs(size = 1000, random_state = 1)"
   ]
  },
  {
   "cell_type": "code",
   "execution_count": 3,
   "id": "bf47510c",
   "metadata": {},
   "outputs": [
    {
     "data": {
      "text/plain": [
       "(-3.053764380426305, 3.9586027040379634)"
      ]
     },
     "execution_count": 3,
     "metadata": {},
     "output_type": "execute_result"
    }
   ],
   "source": [
    "min(dados_normal), max(dados_normal)"
   ]
  },
  {
   "cell_type": "code",
   "execution_count": 4,
   "id": "02648daf",
   "metadata": {},
   "outputs": [
    {
     "name": "stderr",
     "output_type": "stream",
     "text": [
      "C:\\Users\\Matheus\\anaconda3\\lib\\site-packages\\seaborn\\distributions.py:2619: FutureWarning: `distplot` is a deprecated function and will be removed in a future version. Please adapt your code to use either `displot` (a figure-level function with similar flexibility) or `histplot` (an axes-level function for histograms).\n",
      "  warnings.warn(msg, FutureWarning)\n"
     ]
    },
    {
     "data": {
      "image/png": "[encoded data removed]",
      "text/plain": [
       "<Figure size 432x288 with 1 Axes>"
      ]
     },
     "metadata": {
      "needs_background": "light"
     },
     "output_type": "display_data"
    }
   ],
   "source": [
    "sns.distplot(dados_normal, hist = True, kde = True);"
   ]
  },
  {
   "cell_type": "code",
   "execution_count": null,
   "id": "253af439",
   "metadata": {},
   "outputs": [],
   "source": []
  },
  {
   "cell_type": "code",
   "execution_count": null,
   "id": "6add6b55",
   "metadata": {},
   "outputs": [],
   "source": []
  }
 ],
 "metadata": {
  "kernelspec": {
   "display_name": "Python 3 (ipykernel)",
   "language": "python",
   "name": "python3"
  },
  "language_info": {
   "codemirror_mode": {
    "name": "ipython",
    "version": 3
   },
   "file_extension": ".py",
   "mimetype": "text/x-python",
   "name": "python",
   "nbconvert_exporter": "python",
   "pygments_lexer": "ipython3",
   "version": "3.9.12"
  }
 },
 "nbformat": 4,
 "nbformat_minor": 5
}
