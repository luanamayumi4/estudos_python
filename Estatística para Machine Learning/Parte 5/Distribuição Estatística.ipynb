{
 "cells": [
  {
   "cell_type": "markdown",
   "id": "6906f266",
   "metadata": {},
   "source": [
    "### Distribuições Estatísticas\n",
    "1. Vamos focar nas distribuições sem considerar a parte de probabilidade. \n",
    "2. Podemos fazer inferências e observar como os dados estão dispostos.\n",
    "   2.1. Normal\n",
    "   2.2. Gama\n",
    "   2.3. Exponencial\n",
    "   2.4. Uniforme\n",
    "   2.5. Bernoulli\n",
    "   2.6. Binomial\n",
    "   2.7. Poisson"
   ]
  },
  {
   "cell_type": "code",
   "execution_count": 1,
   "id": "adbd7961",
   "metadata": {},
   "outputs": [],
   "source": [
    "### TIPOS DE VARIÁVEIS\n",
    "\n",
    "# Númericas = Números >> Contínuas (números com vírgulas, nº Reais) ou Discretas (nº finitos, inteiro)\n",
    "# Categóricas = \"textos\" >>> Nominal (dados sem ordenação), Ordinais (existe uma ordenação)."
   ]
  },
  {
   "cell_type": "code",
   "execution_count": 2,
   "id": "db8e5801",
   "metadata": {},
   "outputs": [],
   "source": [
    "import numpy as np\n",
    "import seaborn as sns\n",
    "import pandas as pd\n",
    "from scipy import stats"
   ]
  },
  {
   "cell_type": "code",
   "execution_count": 3,
   "id": "099cc777",
   "metadata": {},
   "outputs": [],
   "source": [
    "### Distribuição Normal - Gaussian distribution (bell)\n",
    "dados_normal = stats.norm.rvs(size = 1000, random_state = 1)"
   ]
  },
  {
   "cell_type": "code",
   "execution_count": 4,
   "id": "3d922a7f",
   "metadata": {},
   "outputs": [
    {
     "data": {
      "text/plain": [
       "(-3.053764380426305, 3.9586027040379634)"
      ]
     },
     "execution_count": 4,
     "metadata": {},
     "output_type": "execute_result"
    }
   ],
   "source": [
    "min(dados_normal), max(dados_normal)"
   ]
  },
  {
   "cell_type": "code",
   "execution_count": 5,
   "id": "6ea56042",
   "metadata": {},
   "outputs": [
    {
     "name": "stderr",
     "output_type": "stream",
     "text": [
      "C:\\Users\\Matheus\\anaconda3\\lib\\site-packages\\seaborn\\distributions.py:2619: FutureWarning: `distplot` is a deprecated function and will be removed in a future version. Please adapt your code to use either `displot` (a figure-level function with similar flexibility) or `histplot` (an axes-level function for histograms).\n",
      "  warnings.warn(msg, FutureWarning)\n"
     ]
    },
    {
     "data": {
      "image/png": "[encoded data removed]",
      "text/plain": [
       "<Figure size 432x288 with 1 Axes>"
      ]
     },
     "metadata": {
      "needs_background": "light"
     },
     "output_type": "display_data"
    }
   ],
   "source": [
    "sns.distplot(dados_normal, hist = True, kde = True);"
   ]
  },
  {
   "cell_type": "code",
   "execution_count": 6,
   "id": "c35e07cd",
   "metadata": {},
   "outputs": [
    {
     "data": {
      "text/plain": [
       "(0.03881247615960185,\n",
       " 0.04129258886921605,\n",
       " ModeResult(mode=array([-3.05376438]), count=array([1])),\n",
       " 0.9623691107920885,\n",
       " 0.9810041339322116)"
      ]
     },
     "execution_count": 6,
     "metadata": {},
     "output_type": "execute_result"
    }
   ],
   "source": [
    "dados_normal.mean(), np.median(dados_normal), stats.mode(dados_normal), np.var(dados_normal), np.std(dados_normal)"
   ]
  },
  {
   "cell_type": "code",
   "execution_count": 7,
   "id": "858e642f",
   "metadata": {},
   "outputs": [
    {
     "data": {
      "text/plain": [
       "148"
      ]
     },
     "execution_count": 7,
     "metadata": {},
     "output_type": "execute_result"
    }
   ],
   "source": [
    "np.sum(((dados_normal >= 0.9810041339322116) & (dados_normal <= 0.9810041339322116 + 1)))"
   ]
  },
  {
   "cell_type": "code",
   "execution_count": 8,
   "id": "e362a85d",
   "metadata": {},
   "outputs": [
    {
     "data": {
      "text/plain": [
       "480"
      ]
     },
     "execution_count": 8,
     "metadata": {},
     "output_type": "execute_result"
    }
   ],
   "source": [
    "np.sum(((dados_normal <= 0.9810041339322116) & (dados_normal <= 0.9810041339322116 - 1)))"
   ]
  },
  {
   "cell_type": "code",
   "execution_count": 9,
   "id": "1d151e7b",
   "metadata": {},
   "outputs": [
    {
     "data": {
      "text/plain": [
       "0.628"
      ]
     },
     "execution_count": 9,
     "metadata": {},
     "output_type": "execute_result"
    }
   ],
   "source": [
    "(148 + 480) / 1000"
   ]
  },
  {
   "cell_type": "code",
   "execution_count": 10,
   "id": "c0f101bf",
   "metadata": {},
   "outputs": [],
   "source": [
    "## Utilizando alturas como exemplo\n",
    "\n",
    "dados = np.array([126. , 129.5, 133. , 133. , 136.5, 136.5, 140. , 140. , 140. ,\n",
    "                  140. , 143.5, 143.5, 143.5, 143.5, 143.5, 143.5, 147. , 147. ,\n",
    "                  147. , 147. , 147. , 147. , 147. , 150.5, 150.5, 150.5, 150.5,\n",
    "                  150.5, 150.5, 150.5, 150.5, 154. , 154. , 154. , 154. , 154. ,\n",
    "                  154. , 154. , 154. , 154. , 157.5, 157.5, 157.5, 157.5, 157.5,\n",
    "                  157.5, 157.5, 157.5, 157.5, 157.5, 161. , 161. , 161. , 161. ,\n",
    "                  161. , 161. , 161. , 161. , 161. , 161. , 164.5, 164.5, 164.5,\n",
    "                  164.5, 164.5, 164.5, 164.5, 164.5, 164.5, 168. , 168. , 168. ,\n",
    "                  168. , 168. , 168. , 168. , 168. , 171.5, 171.5, 171.5, 171.5,\n",
    "                  171.5, 171.5, 171.5, 175. , 175. , 175. , 175. , 175. , 175. ,\n",
    "                  178.5, 178.5, 178.5, 178.5, 182. , 182. , 185.5, 185.5, 189., 192.5])"
   ]
  },
  {
   "cell_type": "code",
   "execution_count": 11,
   "id": "e78c4b67",
   "metadata": {},
   "outputs": [
    {
     "data": {
      "text/plain": [
       "100"
      ]
     },
     "execution_count": 11,
     "metadata": {},
     "output_type": "execute_result"
    }
   ],
   "source": [
    "len(dados) # temos dados de 100 pessoas (amostra)"
   ]
  },
  {
   "cell_type": "code",
   "execution_count": 12,
   "id": "67993ea2",
   "metadata": {},
   "outputs": [
    {
     "data": {
      "text/plain": [
       "(126.0, 192.5)"
      ]
     },
     "execution_count": 12,
     "metadata": {},
     "output_type": "execute_result"
    }
   ],
   "source": [
    "min(dados), max(dados)"
   ]
  },
  {
   "cell_type": "code",
   "execution_count": 13,
   "id": "f23543f2",
   "metadata": {},
   "outputs": [
    {
     "data": {
      "text/plain": [
       "66.5"
      ]
     },
     "execution_count": 13,
     "metadata": {},
     "output_type": "execute_result"
    }
   ],
   "source": [
    "# Amplitude dos dados\n",
    "R = max(dados) - min(dados)\n",
    "R"
   ]
  },
  {
   "cell_type": "code",
   "execution_count": 14,
   "id": "af4fae62",
   "metadata": {},
   "outputs": [
    {
     "data": {
      "text/plain": [
       "(159.25,\n",
       " 159.25,\n",
       " ModeResult(mode=array([157.5]), count=array([10])),\n",
       " 186.3225,\n",
       " 13.65)"
      ]
     },
     "execution_count": 14,
     "metadata": {},
     "output_type": "execute_result"
    }
   ],
   "source": [
    "dados.mean(), np.median(dados), stats.mode(dados), np.var(dados), np.std(dados)"
   ]
  },
  {
   "cell_type": "code",
   "execution_count": 15,
   "id": "1a74bedc",
   "metadata": {},
   "outputs": [
    {
     "data": {
      "text/plain": [
       "8.571428571428571"
      ]
     },
     "execution_count": 15,
     "metadata": {},
     "output_type": "execute_result"
    }
   ],
   "source": [
    "CV = (np.std(dados) / dados.mean()) * 100\n",
    "CV"
   ]
  },
  {
   "cell_type": "code",
   "execution_count": 16,
   "id": "a8efcde1",
   "metadata": {},
   "outputs": [
    {
     "data": {
      "text/plain": [
       "8.571428571428571"
      ]
     },
     "execution_count": 16,
     "metadata": {},
     "output_type": "execute_result"
    }
   ],
   "source": [
    "# OU \n",
    "\n",
    "CV2 = stats.variation(dados) * 100\n",
    "CV2"
   ]
  },
  {
   "cell_type": "code",
   "execution_count": 17,
   "id": "59548c9a",
   "metadata": {},
   "outputs": [
    {
     "name": "stderr",
     "output_type": "stream",
     "text": [
      "C:\\Users\\Matheus\\anaconda3\\lib\\site-packages\\seaborn\\distributions.py:2619: FutureWarning: `distplot` is a deprecated function and will be removed in a future version. Please adapt your code to use either `displot` (a figure-level function with similar flexibility) or `histplot` (an axes-level function for histograms).\n",
      "  warnings.warn(msg, FutureWarning)\n"
     ]
    },
    {
     "data": {
      "image/png": "[encoded data removed]",
      "text/plain": [
       "<Figure size 432x288 with 1 Axes>"
      ]
     },
     "metadata": {
      "needs_background": "light"
     },
     "output_type": "display_data"
    }
   ],
   "source": [
    "sns.distplot(dados, hist = True, kde = True);"
   ]
  },
  {
   "cell_type": "markdown",
   "id": "2561f720",
   "metadata": {},
   "source": [
    "### Enviesamento"
   ]
  },
  {
   "cell_type": "code",
   "execution_count": 18,
   "id": "fe70f7eb",
   "metadata": {},
   "outputs": [],
   "source": [
    "from scipy.stats import skewnorm\n",
    "dados_normal = skewnorm.rvs(a = 0, size = 1000)"
   ]
  },
  {
   "cell_type": "code",
   "execution_count": 19,
   "id": "4163f8cb",
   "metadata": {},
   "outputs": [
    {
     "name": "stderr",
     "output_type": "stream",
     "text": [
      "C:\\Users\\Matheus\\anaconda3\\lib\\site-packages\\seaborn\\distributions.py:2619: FutureWarning: `distplot` is a deprecated function and will be removed in a future version. Please adapt your code to use either `displot` (a figure-level function with similar flexibility) or `histplot` (an axes-level function for histograms).\n",
      "  warnings.warn(msg, FutureWarning)\n"
     ]
    },
    {
     "data": {
      "image/png": "[encoded data removed]",
      "text/plain": [
       "<Figure size 432x288 with 1 Axes>"
      ]
     },
     "metadata": {
      "needs_background": "light"
     },
     "output_type": "display_data"
    }
   ],
   "source": [
    "sns.distplot(dados_normal);"
   ]
  },
  {
   "cell_type": "code",
   "execution_count": 20,
   "id": "49075e96",
   "metadata": {},
   "outputs": [
    {
     "data": {
      "text/plain": [
       "(0.0285210353708855,\n",
       " 0.06431435168302176,\n",
       " ModeResult(mode=array([-3.0103754]), count=array([1])))"
      ]
     },
     "execution_count": 20,
     "metadata": {},
     "output_type": "execute_result"
    }
   ],
   "source": [
    "dados_normal.mean(), np.median(dados_normal), stats.mode(dados_normal)"
   ]
  },
  {
   "cell_type": "markdown",
   "id": "1c47008d",
   "metadata": {},
   "source": [
    "#### Não são dados normais apesar da variável conter o nome 'normal'"
   ]
  },
  {
   "cell_type": "code",
   "execution_count": 21,
   "id": "526b2f47",
   "metadata": {},
   "outputs": [
    {
     "name": "stderr",
     "output_type": "stream",
     "text": [
      "C:\\Users\\Matheus\\anaconda3\\lib\\site-packages\\seaborn\\distributions.py:2619: FutureWarning: `distplot` is a deprecated function and will be removed in a future version. Please adapt your code to use either `displot` (a figure-level function with similar flexibility) or `histplot` (an axes-level function for histograms).\n",
      "  warnings.warn(msg, FutureWarning)\n"
     ]
    },
    {
     "data": {
      "image/png": "[encoded data removed]",
      "text/plain": [
       "<Figure size 432x288 with 1 Axes>"
      ]
     },
     "metadata": {
      "needs_background": "light"
     },
     "output_type": "display_data"
    }
   ],
   "source": [
    "dados_normal_positivo = skewnorm.rvs(a = 10, size = 1000)\n",
    "sns.distplot(dados_normal_positivo);"
   ]
  },
  {
   "cell_type": "code",
   "execution_count": 22,
   "id": "439b5e33",
   "metadata": {},
   "outputs": [
    {
     "data": {
      "text/plain": [
       "(0.7998250338914327,\n",
       " 0.6758449961434206,\n",
       " ModeResult(mode=array([-0.17165123]), count=array([1])))"
      ]
     },
     "execution_count": 22,
     "metadata": {},
     "output_type": "execute_result"
    }
   ],
   "source": [
    "dados_normal_positivo.mean(), np.median(dados_normal_positivo), stats.mode(dados_normal_positivo)"
   ]
  },
  {
   "cell_type": "code",
   "execution_count": 23,
   "id": "5b6f5257",
   "metadata": {},
   "outputs": [
    {
     "name": "stderr",
     "output_type": "stream",
     "text": [
      "C:\\Users\\Matheus\\anaconda3\\lib\\site-packages\\seaborn\\distributions.py:2619: FutureWarning: `distplot` is a deprecated function and will be removed in a future version. Please adapt your code to use either `displot` (a figure-level function with similar flexibility) or `histplot` (an axes-level function for histograms).\n",
      "  warnings.warn(msg, FutureWarning)\n"
     ]
    },
    {
     "data": {
      "image/png": "[encoded data removed]",
      "text/plain": [
       "<Figure size 432x288 with 1 Axes>"
      ]
     },
     "metadata": {
      "needs_background": "light"
     },
     "output_type": "display_data"
    }
   ],
   "source": [
    "dados_normal_negativo = skewnorm.rvs(-10, size = 1000)\n",
    "sns.distplot(dados_normal_negativo);"
   ]
  },
  {
   "cell_type": "code",
   "execution_count": 24,
   "id": "e48aa5f3",
   "metadata": {},
   "outputs": [
    {
     "data": {
      "text/plain": [
       "(-0.7710365089511788,\n",
       " -0.6556744822815169,\n",
       " ModeResult(mode=array([-3.17040215]), count=array([1])))"
      ]
     },
     "execution_count": 24,
     "metadata": {},
     "output_type": "execute_result"
    }
   ],
   "source": [
    "dados_normal_negativo.mean(), np.median(dados_normal_negativo), stats.mode(dados_normal_negativo)"
   ]
  },
  {
   "cell_type": "markdown",
   "id": "0fcaee76",
   "metadata": {},
   "source": [
    "1. Distribuição normal padronizada\n",
    "2. Distribuição padronizada --> Média = 0 e DP = 1\n",
    "\n",
    "$Zscore = \\frac {x - média}{DP}$"
   ]
  },
  {
   "cell_type": "code",
   "execution_count": 25,
   "id": "7d89ab69",
   "metadata": {},
   "outputs": [],
   "source": [
    "dados_normal_padronizado = np.random.standard_normal(size = 1000)"
   ]
  },
  {
   "cell_type": "code",
   "execution_count": 26,
   "id": "c3c027f2",
   "metadata": {},
   "outputs": [
    {
     "data": {
      "text/plain": [
       "(-3.5100675356465803, 3.202417740788828)"
      ]
     },
     "execution_count": 26,
     "metadata": {},
     "output_type": "execute_result"
    }
   ],
   "source": [
    "min(dados_normal_padronizado), max(dados_normal_padronizado)"
   ]
  },
  {
   "cell_type": "code",
   "execution_count": 27,
   "id": "5443ead6",
   "metadata": {},
   "outputs": [
    {
     "data": {
      "image/png": "[encoded data removed]",
      "text/plain": [
       "<Figure size 360x360 with 1 Axes>"
      ]
     },
     "metadata": {
      "needs_background": "light"
     },
     "output_type": "display_data"
    }
   ],
   "source": [
    "sns.displot(dados_normal_padronizado);"
   ]
  },
  {
   "cell_type": "code",
   "execution_count": 28,
   "id": "d716d758",
   "metadata": {},
   "outputs": [
    {
     "data": {
      "text/plain": [
       "(-0.03333295308744621, 0.9663700641735814)"
      ]
     },
     "execution_count": 28,
     "metadata": {},
     "output_type": "execute_result"
    }
   ],
   "source": [
    "dados_normal_padronizado.mean(), np.std(dados_normal_padronizado)"
   ]
  },
  {
   "cell_type": "code",
   "execution_count": 29,
   "id": "fb023b78",
   "metadata": {},
   "outputs": [
    {
     "data": {
      "text/plain": [
       "array([126. , 129.5, 133. , 133. , 136.5, 136.5, 140. , 140. , 140. ,\n",
       "       140. , 143.5, 143.5, 143.5, 143.5, 143.5, 143.5, 147. , 147. ,\n",
       "       147. , 147. , 147. , 147. , 147. , 150.5, 150.5, 150.5, 150.5,\n",
       "       150.5, 150.5, 150.5, 150.5, 154. , 154. , 154. , 154. , 154. ,\n",
       "       154. , 154. , 154. , 154. , 157.5, 157.5, 157.5, 157.5, 157.5,\n",
       "       157.5, 157.5, 157.5, 157.5, 157.5, 161. , 161. , 161. , 161. ,\n",
       "       161. , 161. , 161. , 161. , 161. , 161. , 164.5, 164.5, 164.5,\n",
       "       164.5, 164.5, 164.5, 164.5, 164.5, 164.5, 168. , 168. , 168. ,\n",
       "       168. , 168. , 168. , 168. , 168. , 171.5, 171.5, 171.5, 171.5,\n",
       "       171.5, 171.5, 171.5, 175. , 175. , 175. , 175. , 175. , 175. ,\n",
       "       178.5, 178.5, 178.5, 178.5, 182. , 182. , 185.5, 185.5, 189. ,\n",
       "       192.5])"
      ]
     },
     "execution_count": 29,
     "metadata": {},
     "output_type": "execute_result"
    }
   ],
   "source": [
    "### Aplicando a técnica para padronização de dados não padronizados.\n",
    "dados"
   ]
  },
  {
   "cell_type": "code",
   "execution_count": 30,
   "id": "0a23d243",
   "metadata": {},
   "outputs": [
    {
     "data": {
      "text/plain": [
       "159.25"
      ]
     },
     "execution_count": 30,
     "metadata": {},
     "output_type": "execute_result"
    }
   ],
   "source": [
    "media = dados.mean()\n",
    "media"
   ]
  },
  {
   "cell_type": "code",
   "execution_count": 31,
   "id": "b82141d8",
   "metadata": {},
   "outputs": [
    {
     "data": {
      "text/plain": [
       "13.65"
      ]
     },
     "execution_count": 31,
     "metadata": {},
     "output_type": "execute_result"
    }
   ],
   "source": [
    "desvio_padrao = np.std(dados)\n",
    "desvio_padrao"
   ]
  },
  {
   "cell_type": "code",
   "execution_count": 32,
   "id": "bcad0e7c",
   "metadata": {},
   "outputs": [
    {
     "data": {
      "text/plain": [
       "array([-2.43589744, -2.17948718, -1.92307692, -1.92307692, -1.66666667,\n",
       "       -1.66666667, -1.41025641, -1.41025641, -1.41025641, -1.41025641,\n",
       "       -1.15384615, -1.15384615, -1.15384615, -1.15384615, -1.15384615,\n",
       "       -1.15384615, -0.8974359 , -0.8974359 , -0.8974359 , -0.8974359 ,\n",
       "       -0.8974359 , -0.8974359 , -0.8974359 , -0.64102564, -0.64102564,\n",
       "       -0.64102564, -0.64102564, -0.64102564, -0.64102564, -0.64102564,\n",
       "       -0.64102564, -0.38461538, -0.38461538, -0.38461538, -0.38461538,\n",
       "       -0.38461538, -0.38461538, -0.38461538, -0.38461538, -0.38461538,\n",
       "       -0.12820513, -0.12820513, -0.12820513, -0.12820513, -0.12820513,\n",
       "       -0.12820513, -0.12820513, -0.12820513, -0.12820513, -0.12820513,\n",
       "        0.12820513,  0.12820513,  0.12820513,  0.12820513,  0.12820513,\n",
       "        0.12820513,  0.12820513,  0.12820513,  0.12820513,  0.12820513,\n",
       "        0.38461538,  0.38461538,  0.38461538,  0.38461538,  0.38461538,\n",
       "        0.38461538,  0.38461538,  0.38461538,  0.38461538,  0.64102564,\n",
       "        0.64102564,  0.64102564,  0.64102564,  0.64102564,  0.64102564,\n",
       "        0.64102564,  0.64102564,  0.8974359 ,  0.8974359 ,  0.8974359 ,\n",
       "        0.8974359 ,  0.8974359 ,  0.8974359 ,  0.8974359 ,  1.15384615,\n",
       "        1.15384615,  1.15384615,  1.15384615,  1.15384615,  1.15384615,\n",
       "        1.41025641,  1.41025641,  1.41025641,  1.41025641,  1.66666667,\n",
       "        1.66666667,  1.92307692,  1.92307692,  2.17948718,  2.43589744])"
      ]
     },
     "execution_count": 32,
     "metadata": {},
     "output_type": "execute_result"
    }
   ],
   "source": [
    "dados_padronizados = ( dados - media ) / desvio_padrao\n",
    "dados_padronizados"
   ]
  },
  {
   "cell_type": "code",
   "execution_count": 33,
   "id": "01e330f5",
   "metadata": {},
   "outputs": [
    {
     "data": {
      "text/plain": [
       "(0.0, 0.9999999999999999)"
      ]
     },
     "execution_count": 33,
     "metadata": {},
     "output_type": "execute_result"
    }
   ],
   "source": [
    "dados_padronizados.mean(), np.std(dados_padronizados)"
   ]
  },
  {
   "cell_type": "code",
   "execution_count": 34,
   "id": "bcfdd2bb",
   "metadata": {},
   "outputs": [
    {
     "data": {
      "image/png": "[encoded data removed]",
      "text/plain": [
       "<Figure size 360x360 with 1 Axes>"
      ]
     },
     "metadata": {
      "needs_background": "light"
     },
     "output_type": "display_data"
    }
   ],
   "source": [
    "sns.displot(dados_padronizados);"
   ]
  },
  {
   "cell_type": "markdown",
   "id": "b2dbd371",
   "metadata": {},
   "source": [
    "### Teorema central do limite\n",
    "1. Quando o tamanho da amostra aumenta a distribuição amostral da sua média aproxima-se cada vez mais de uma distribuição normal"
   ]
  },
  {
   "cell_type": "code",
   "execution_count": null,
   "id": "7f1e163a",
   "metadata": {},
   "outputs": [],
   "source": []
  },
  {
   "cell_type": "code",
   "execution_count": null,
   "id": "5762be98",
   "metadata": {},
   "outputs": [],
   "source": []
  }
 ],
 "metadata": {
  "kernelspec": {
   "display_name": "Python 3 (ipykernel)",
   "language": "python",
   "name": "python3"
  },
  "language_info": {
   "codemirror_mode": {
    "name": "ipython",
    "version": 3
   },
   "file_extension": ".py",
   "mimetype": "text/x-python",
   "name": "python",
   "nbconvert_exporter": "python",
   "pygments_lexer": "ipython3",
   "version": "3.9.12"
  }
 },
 "nbformat": 4,
 "nbformat_minor": 5
}
