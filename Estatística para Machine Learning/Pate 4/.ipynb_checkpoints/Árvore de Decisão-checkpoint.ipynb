{
 "cells": [
  {
   "cell_type": "markdown",
   "id": "be4f1366",
   "metadata": {},
   "source": [
    "### Árvore de Decisão"
   ]
  },
  {
   "cell_type": "code",
   "execution_count": 2,
   "id": "b9ec9ceb",
   "metadata": {},
   "outputs": [],
   "source": [
    "import pandas as pd\n",
    "dataset = pd.read_csv('../Bases de dados/credit_data.csv')"
   ]
  },
  {
   "cell_type": "code",
   "execution_count": 7,
   "id": "68445f37",
   "metadata": {},
   "outputs": [
    {
     "data": {
      "text/plain": [
       "(   i#clientid        income        age         loan  c#default\n",
       " 0           1  66155.925095  59.017015  8106.532131          0\n",
       " 1           2  34415.153966  48.117153  6564.745018          0\n",
       " 2           3  57317.170063  63.108049  8020.953296          0\n",
       " 3           4  42709.534201  45.751972  6103.642260          0\n",
       " 4           5  66952.688845  18.584336  8770.099235          1,\n",
       " (1997, 5))"
      ]
     },
     "execution_count": 7,
     "metadata": {},
     "output_type": "execute_result"
    }
   ],
   "source": [
    "dataset.head(), dataset.shape"
   ]
  },
  {
   "cell_type": "code",
   "execution_count": 5,
   "id": "cef673dd",
   "metadata": {},
   "outputs": [
    {
     "data": {
      "text/plain": [
       "(1997, 5)"
      ]
     },
     "execution_count": 5,
     "metadata": {},
     "output_type": "execute_result"
    }
   ],
   "source": [
    "dataset.dropna(inplace=True)\n",
    "dataset.shape"
   ]
  },
  {
   "cell_type": "code",
   "execution_count": 6,
   "id": "2377ccbd",
   "metadata": {},
   "outputs": [
    {
     "data": {
      "text/html": [
       "<div>\n",
       "<style scoped>\n",
       "    .dataframe tbody tr th:only-of-type {\n",
       "        vertical-align: middle;\n",
       "    }\n",
       "\n",
       "    .dataframe tbody tr th {\n",
       "        vertical-align: top;\n",
       "    }\n",
       "\n",
       "    .dataframe thead th {\n",
       "        text-align: right;\n",
       "    }\n",
       "</style>\n",
       "<table border=\"1\" class=\"dataframe\">\n",
       "  <thead>\n",
       "    <tr style=\"text-align: right;\">\n",
       "      <th></th>\n",
       "      <th>i#clientid</th>\n",
       "      <th>income</th>\n",
       "      <th>age</th>\n",
       "      <th>loan</th>\n",
       "      <th>c#default</th>\n",
       "    </tr>\n",
       "  </thead>\n",
       "  <tbody>\n",
       "    <tr>\n",
       "      <th>0</th>\n",
       "      <td>1</td>\n",
       "      <td>66155.925095</td>\n",
       "      <td>59.017015</td>\n",
       "      <td>8106.532131</td>\n",
       "      <td>0</td>\n",
       "    </tr>\n",
       "    <tr>\n",
       "      <th>1</th>\n",
       "      <td>2</td>\n",
       "      <td>34415.153966</td>\n",
       "      <td>48.117153</td>\n",
       "      <td>6564.745018</td>\n",
       "      <td>0</td>\n",
       "    </tr>\n",
       "    <tr>\n",
       "      <th>2</th>\n",
       "      <td>3</td>\n",
       "      <td>57317.170063</td>\n",
       "      <td>63.108049</td>\n",
       "      <td>8020.953296</td>\n",
       "      <td>0</td>\n",
       "    </tr>\n",
       "    <tr>\n",
       "      <th>3</th>\n",
       "      <td>4</td>\n",
       "      <td>42709.534201</td>\n",
       "      <td>45.751972</td>\n",
       "      <td>6103.642260</td>\n",
       "      <td>0</td>\n",
       "    </tr>\n",
       "    <tr>\n",
       "      <th>4</th>\n",
       "      <td>5</td>\n",
       "      <td>66952.688845</td>\n",
       "      <td>18.584336</td>\n",
       "      <td>8770.099235</td>\n",
       "      <td>1</td>\n",
       "    </tr>\n",
       "  </tbody>\n",
       "</table>\n",
       "</div>"
      ],
      "text/plain": [
       "   i#clientid        income        age         loan  c#default\n",
       "0           1  66155.925095  59.017015  8106.532131          0\n",
       "1           2  34415.153966  48.117153  6564.745018          0\n",
       "2           3  57317.170063  63.108049  8020.953296          0\n",
       "3           4  42709.534201  45.751972  6103.642260          0\n",
       "4           5  66952.688845  18.584336  8770.099235          1"
      ]
     },
     "execution_count": 6,
     "metadata": {},
     "output_type": "execute_result"
    }
   ],
   "source": [
    "dataset.head()"
   ]
  },
  {
   "cell_type": "code",
   "execution_count": 8,
   "id": "f7d41df1",
   "metadata": {},
   "outputs": [
    {
     "data": {
      "text/plain": [
       "array([[6.61559251e+04, 5.90170151e+01, 8.10653213e+03],\n",
       "       [3.44151540e+04, 4.81171531e+01, 6.56474502e+03],\n",
       "       [5.73171701e+04, 6.31080495e+01, 8.02095330e+03],\n",
       "       ...,\n",
       "       [4.43114493e+04, 2.80171669e+01, 5.52278669e+03],\n",
       "       [4.37560566e+04, 6.39717958e+01, 1.62272260e+03],\n",
       "       [6.94365796e+04, 5.61526170e+01, 7.37883360e+03]])"
      ]
     },
     "execution_count": 8,
     "metadata": {},
     "output_type": "execute_result"
    }
   ],
   "source": [
    "# selecionamos as colunas de 1:4 porém a coluna 4 não entrará nessa variável.\n",
    "X = dataset.iloc[:, 1:4].values\n",
    "X"
   ]
  },
  {
   "cell_type": "code",
   "execution_count": 9,
   "id": "5631f447",
   "metadata": {},
   "outputs": [
    {
     "data": {
      "text/plain": [
       "array([0, 0, 0, ..., 1, 0, 0], dtype=int64)"
      ]
     },
     "execution_count": 9,
     "metadata": {},
     "output_type": "execute_result"
    }
   ],
   "source": [
    "y = dataset.iloc[:, 4].values\n",
    "y"
   ]
  },
  {
   "cell_type": "code",
   "execution_count": 11,
   "id": "fd39a948",
   "metadata": {},
   "outputs": [],
   "source": [
    "from sklearn.model_selection import train_test_split\n",
    "from sklearn.naive_bayes import GaussianNB\n",
    "from sklearn.linear_model import LogisticRegression \n",
    "from sklearn.ensemble import RandomForestClassifier\n",
    "from sklearn.metrics import accuracy_score"
   ]
  },
  {
   "cell_type": "code",
   "execution_count": 12,
   "id": "b3255e1e",
   "metadata": {},
   "outputs": [],
   "source": [
    "resultados_naive_bayes = []\n",
    "resultados_logistica = []\n",
    "resultados_randomForest = []"
   ]
  },
  {
   "cell_type": "code",
   "execution_count": 16,
   "id": "86e10f80",
   "metadata": {},
   "outputs": [],
   "source": [
    "resultados_naive_bayes = []\n",
    "resultados_logistica = []\n",
    "resultados_forest = []\n",
    "for i in range(30):\n",
    "  X_treinamento, X_teste, y_treinamento, y_teste = train_test_split(X, y, test_size = 0.2,\n",
    "                                                                    stratify = y, random_state = i)\n",
    "  naive_bayes = GaussianNB()\n",
    "  naive_bayes.fit(X_treinamento, y_treinamento)\n",
    "  resultados_naive_bayes.append(accuracy_score(y_teste, naive_bayes.predict(X_teste)))\n",
    "\n",
    "  logistica = LogisticRegression()\n",
    "  logistica.fit(X_treinamento, y_treinamento)\n",
    "  resultados_logistica.append(accuracy_score(y_teste, logistica.predict(X_teste)))\n",
    "\n",
    "  random_forest = RandomForestClassifier()\n",
    "  random_forest.fit(X_treinamento, y_treinamento)\n",
    "  resultados_forest.append(accuracy_score(y_teste, random_forest.predict(X_teste)))"
   ]
  },
  {
   "cell_type": "code",
   "execution_count": 27,
   "id": "fe39adb8",
   "metadata": {},
   "outputs": [
    {
     "name": "stdout",
     "output_type": "stream",
     "text": [
      "[0.925  0.925  0.9325 0.925  0.92   0.905  0.9175 0.9175 0.9125 0.9325\n",
      " 0.9225 0.9125 0.935  0.9175 0.925  0.9175 0.9275 0.92   0.9325 0.92\n",
      " 0.93   0.905  0.9175 0.9325 0.9425 0.9375 0.94   0.92   0.935  0.925 ]\n",
      "[0.9325 0.91   0.9125 0.9225 0.9075 0.89   0.91   0.9075 0.8775 0.915\n",
      " 0.9175 0.9    0.925  0.9175 0.9025 0.9125 0.9525 0.91   0.9225 0.9075\n",
      " 0.925  0.905  0.9075 0.945  0.9225 0.9275 0.9225 0.9175 0.91   0.9   ]\n",
      "[0.9725, 0.99, 0.9825, 0.995, 0.9775, 0.985, 0.9875, 0.98, 0.975, 0.99, 0.9825, 0.98, 0.975, 0.9875, 0.98, 0.98, 0.985, 0.9825, 0.99, 0.9875, 0.98, 0.9775, 0.9775, 0.98, 0.9875, 0.995, 0.995, 0.9825, 0.9875, 0.9875]\n"
     ]
    }
   ],
   "source": [
    "print(resultados_naive_bayes)\n",
    "print(resultados_logistica)\n",
    "print(resultados_forest)"
   ]
  },
  {
   "cell_type": "code",
   "execution_count": 22,
   "id": "01f65499",
   "metadata": {},
   "outputs": [],
   "source": [
    "import numpy as np"
   ]
  },
  {
   "cell_type": "code",
   "execution_count": 30,
   "id": "e87a19e0",
   "metadata": {},
   "outputs": [],
   "source": [
    "resultados_naive_bayes = np.array(resultados_naive_bayes)\n",
    "resultados_logistica = np.array(resultados_logistica)\n",
    "resultados_forest = np.array(resultados_forest)"
   ]
  },
  {
   "cell_type": "code",
   "execution_count": 31,
   "id": "8abbde67",
   "metadata": {},
   "outputs": [
    {
     "data": {
      "text/plain": [
       "(0.92425, 0.9145, 0.9838333333333334)"
      ]
     },
     "execution_count": 31,
     "metadata": {},
     "output_type": "execute_result"
    }
   ],
   "source": [
    "resultados_naive_bayes.mean(), resultados_logistica.mean(), resultados_forest.mean()"
   ]
  },
  {
   "cell_type": "code",
   "execution_count": 36,
   "id": "08653a21",
   "metadata": {},
   "outputs": [],
   "source": [
    "import statistics\n",
    "from scipy import stats\n",
    "import math"
   ]
  },
  {
   "cell_type": "code",
   "execution_count": 38,
   "id": "c2511576",
   "metadata": {},
   "outputs": [
    {
     "data": {
      "text/plain": [
       "(ModeResult(mode=array([0.9175]), count=array([5])),\n",
       " ModeResult(mode=array([0.9075]), count=array([4])),\n",
       " ModeResult(mode=array([0.98]), count=array([6])))"
      ]
     },
     "execution_count": 38,
     "metadata": {},
     "output_type": "execute_result"
    }
   ],
   "source": [
    "# Moda\n",
    "stats.mode(resultados_naive_bayes), stats.mode(resultados_logistica), stats.mode(resultados_forest)"
   ]
  },
  {
   "cell_type": "code",
   "execution_count": 39,
   "id": "fa53c1b0",
   "metadata": {},
   "outputs": [
    {
     "data": {
      "text/plain": [
       "(0.925, 0.9125, 0.9825)"
      ]
     },
     "execution_count": 39,
     "metadata": {},
     "output_type": "execute_result"
    }
   ],
   "source": [
    "# Média\n",
    "np.median(resultados_naive_bayes), np.median(resultados_logistica), np.median(resultados_forest)"
   ]
  },
  {
   "cell_type": "code",
   "execution_count": 42,
   "id": "a09ef2b6",
   "metadata": {},
   "outputs": [
    {
     "data": {
      "text/plain": [
       "(8.756250000000001e-05, 0.00020933333333333337, 3.572222222222224e-05)"
      ]
     },
     "execution_count": 42,
     "metadata": {},
     "output_type": "execute_result"
    }
   ],
   "source": [
    "# Variância\n",
    "np.set_printoptions(suppress=True)\n",
    "np.var(resultados_naive_bayes), np.var(resultados_logistica), np.var(resultados_forest)"
   ]
  },
  {
   "cell_type": "code",
   "execution_count": 43,
   "id": "109a63a2",
   "metadata": {},
   "outputs": [
    {
     "data": {
      "text/plain": [
       "3.572222222222224e-05"
      ]
     },
     "execution_count": 43,
     "metadata": {},
     "output_type": "execute_result"
    }
   ],
   "source": [
    "np.min([(8.756250000000001e-05, 0.00020933333333333337, 3.572222222222224e-05)])"
   ]
  },
  {
   "cell_type": "code",
   "execution_count": 44,
   "id": "c21bf142",
   "metadata": {},
   "outputs": [
    {
     "data": {
      "text/plain": [
       "0.00020933333333333337"
      ]
     },
     "execution_count": 44,
     "metadata": {},
     "output_type": "execute_result"
    }
   ],
   "source": [
    "np.max([(8.756250000000001e-05, 0.00020933333333333337, 3.572222222222224e-05)])"
   ]
  },
  {
   "cell_type": "code",
   "execution_count": 45,
   "id": "80212d6b",
   "metadata": {},
   "outputs": [
    {
     "data": {
      "text/plain": [
       "(0.00935748363610645, 0.014468356276140472, 0.005976807025680371)"
      ]
     },
     "execution_count": 45,
     "metadata": {},
     "output_type": "execute_result"
    }
   ],
   "source": [
    "# Desvio Padrão\n",
    "np.std(resultados_naive_bayes), np.std(resultados_logistica), np.std(resultados_forest)"
   ]
  },
  {
   "cell_type": "code",
   "execution_count": 46,
   "id": "a8cc59e5",
   "metadata": {},
   "outputs": [
    {
     "data": {
      "text/plain": [
       "(1.0124407504578252, 1.5821056616884057, 0.6075019846532648)"
      ]
     },
     "execution_count": 46,
     "metadata": {},
     "output_type": "execute_result"
    }
   ],
   "source": [
    "# Coeficiente de Variação\n",
    "\n",
    "stats.variation(resultados_naive_bayes) *100, stats.variation(resultados_logistica) * 100, stats.variation(resultados_forest) * 100"
   ]
  },
  {
   "cell_type": "markdown",
   "id": "8807f7c9",
   "metadata": {},
   "source": [
    "### K-FOLD CROS VALIDATION (VALIDAÇÃO CRUZADA)\n",
    "1. Realiza uma divisão melhor da base de dados para avaliar qual seria o melhor modelo para realização das análises"
   ]
  },
  {
   "cell_type": "code",
   "execution_count": 47,
   "id": "14dff42b",
   "metadata": {},
   "outputs": [],
   "source": [
    "from sklearn.model_selection import cross_val_score, KFold"
   ]
  },
  {
   "cell_type": "code",
   "execution_count": 48,
   "id": "d913ec57",
   "metadata": {},
   "outputs": [],
   "source": [
    "resultados_naive_bayes_cv = []\n",
    "resultados_logistica_cv = []\n",
    "resultados_forest_cv = []\n",
    "for i in range(30):\n",
    "  kfold = KFold(n_splits = 10, shuffle = True, random_state = i)\n",
    "  \n",
    "  naive_bayes = GaussianNB()\n",
    "  scores = cross_val_score(naive_bayes, X, y, cv = kfold)\n",
    "  resultados_naive_bayes_cv.append(scores.mean())\n",
    "\n",
    "  logistica = LogisticRegression()\n",
    "  scores = cross_val_score(logistica, X, y, cv = kfold)\n",
    "  resultados_logistica_cv.append(scores.mean())\n",
    "  \n",
    "  random_forest = RandomForestClassifier()\n",
    "  scores = cross_val_score(random_forest, X, y, cv = kfold)\n",
    "  resultados_forest_cv.append(scores.mean())"
   ]
  },
  {
   "cell_type": "code",
   "execution_count": null,
   "id": "bea4fb6e",
   "metadata": {},
   "outputs": [],
   "source": [
    "##Comparando a técnica de validação cruzada com os testes separados"
   ]
  },
  {
   "cell_type": "code",
   "execution_count": 49,
   "id": "395eb7d1",
   "metadata": {},
   "outputs": [
    {
     "data": {
      "text/plain": [
       "(1.0124407504578252, 1.5821056616884057, 0.6075019846532648)"
      ]
     },
     "execution_count": 49,
     "metadata": {},
     "output_type": "execute_result"
    }
   ],
   "source": [
    "stats.variation(resultados_naive_bayes) *100, stats.variation(resultados_logistica) * 100, stats.variation(resultados_forest) * 100"
   ]
  },
  {
   "cell_type": "code",
   "execution_count": 50,
   "id": "1d476dcb",
   "metadata": {},
   "outputs": [
    {
     "data": {
      "text/plain": [
       "(0.08641071566366061, 0.38801026116292653, 0.1621406443177699)"
      ]
     },
     "execution_count": 50,
     "metadata": {},
     "output_type": "execute_result"
    }
   ],
   "source": [
    "stats.variation(resultados_naive_bayes_cv) * 100 , stats.variation(resultados_logistica_cv) * 100 , stats.variation(resultados_forest_cv) * 100"
   ]
  },
  {
   "cell_type": "code",
   "execution_count": null,
   "id": "92c4ccc8",
   "metadata": {},
   "outputs": [],
   "source": []
  },
  {
   "cell_type": "code",
   "execution_count": null,
   "id": "8f88bb0c",
   "metadata": {},
   "outputs": [],
   "source": []
  },
  {
   "cell_type": "code",
   "execution_count": null,
   "id": "9388c898",
   "metadata": {},
   "outputs": [],
   "source": []
  },
  {
   "cell_type": "code",
   "execution_count": null,
   "id": "71154142",
   "metadata": {},
   "outputs": [],
   "source": []
  },
  {
   "cell_type": "code",
   "execution_count": null,
   "id": "97f84716",
   "metadata": {},
   "outputs": [],
   "source": []
  },
  {
   "cell_type": "code",
   "execution_count": null,
   "id": "aac7e68d",
   "metadata": {},
   "outputs": [],
   "source": []
  },
  {
   "cell_type": "code",
   "execution_count": null,
   "id": "5a3f5592",
   "metadata": {},
   "outputs": [],
   "source": []
  },
  {
   "cell_type": "code",
   "execution_count": null,
   "id": "0f6c2797",
   "metadata": {},
   "outputs": [],
   "source": []
  },
  {
   "cell_type": "code",
   "execution_count": null,
   "id": "c3fca3a3",
   "metadata": {},
   "outputs": [],
   "source": []
  }
 ],
 "metadata": {
  "kernelspec": {
   "display_name": "Python 3 (ipykernel)",
   "language": "python",
   "name": "python3"
  },
  "language_info": {
   "codemirror_mode": {
    "name": "ipython",
    "version": 3
   },
   "file_extension": ".py",
   "mimetype": "text/x-python",
   "name": "python",
   "nbconvert_exporter": "python",
   "pygments_lexer": "ipython3",
   "version": "3.9.12"
  }
 },
 "nbformat": 4,
 "nbformat_minor": 5
}
