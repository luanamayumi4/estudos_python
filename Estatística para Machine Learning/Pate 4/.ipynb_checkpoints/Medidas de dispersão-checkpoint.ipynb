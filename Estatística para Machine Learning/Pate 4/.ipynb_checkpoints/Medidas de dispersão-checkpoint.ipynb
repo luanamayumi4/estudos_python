{
 "cells": [
  {
   "cell_type": "markdown",
   "id": "a876dc8b",
   "metadata": {},
   "source": [
    "### Medidas de Dirpersão"
   ]
  },
  {
   "cell_type": "code",
   "execution_count": 1,
   "id": "32f0390d",
   "metadata": {},
   "outputs": [],
   "source": [
    "import pandas as pd\n",
    "import numpy as np\n",
    "import statistics\n",
    "from scipy import stats\n",
    "import math\n",
    "import IPython.display as display\n",
    "from PIL import Image"
   ]
  },
  {
   "cell_type": "code",
   "execution_count": 2,
   "id": "18d0802b",
   "metadata": {},
   "outputs": [],
   "source": [
    "dados = np.arange(41)"
   ]
  },
  {
   "cell_type": "code",
   "execution_count": 3,
   "id": "3a3a978b",
   "metadata": {},
   "outputs": [
    {
     "data": {
      "text/plain": [
       "array([ 0,  1,  2,  3,  4,  5,  6,  7,  8,  9, 10, 11, 12, 13, 14, 15, 16,\n",
       "       17, 18, 19, 20, 21, 22, 23, 24, 25, 26, 27, 28, 29, 30, 31, 32, 33,\n",
       "       34, 35, 36, 37, 38, 39, 40])"
      ]
     },
     "execution_count": 3,
     "metadata": {},
     "output_type": "execute_result"
    }
   ],
   "source": [
    "dados"
   ]
  },
  {
   "cell_type": "code",
   "execution_count": 4,
   "id": "5b455e0b",
   "metadata": {},
   "outputs": [
    {
     "data": {
      "text/plain": [
       "41"
      ]
     },
     "execution_count": 4,
     "metadata": {},
     "output_type": "execute_result"
    }
   ],
   "source": [
    "len(dados)"
   ]
  },
  {
   "cell_type": "code",
   "execution_count": 5,
   "id": "0cb7a4f3",
   "metadata": {},
   "outputs": [
    {
     "data": {
      "text/plain": [
       "20.0"
      ]
     },
     "execution_count": 5,
     "metadata": {},
     "output_type": "execute_result"
    }
   ],
   "source": [
    "# média aritmetica simples\n",
    "\n",
    "dados.sum() / len(dados)"
   ]
  },
  {
   "cell_type": "code",
   "execution_count": 6,
   "id": "dd4c4560",
   "metadata": {},
   "outputs": [
    {
     "data": {
      "text/plain": [
       "20.0"
      ]
     },
     "execution_count": 6,
     "metadata": {},
     "output_type": "execute_result"
    }
   ],
   "source": [
    "dados.mean()"
   ]
  },
  {
   "cell_type": "code",
   "execution_count": 7,
   "id": "4f162335",
   "metadata": {},
   "outputs": [
    {
     "data": {
      "text/plain": [
       "20"
      ]
     },
     "execution_count": 7,
     "metadata": {},
     "output_type": "execute_result"
    }
   ],
   "source": [
    "statistics.mean(dados)"
   ]
  },
  {
   "cell_type": "code",
   "execution_count": 8,
   "id": "21419961",
   "metadata": {},
   "outputs": [
    {
     "data": {
      "text/plain": [
       "0"
      ]
     },
     "execution_count": 8,
     "metadata": {},
     "output_type": "execute_result"
    }
   ],
   "source": [
    "# moda\n",
    "\n",
    "statistics.mode(dados)"
   ]
  },
  {
   "cell_type": "code",
   "execution_count": 9,
   "id": "ecdec48b",
   "metadata": {},
   "outputs": [
    {
     "data": {
      "text/plain": [
       "ModeResult(mode=array([0]), count=array([1]))"
      ]
     },
     "execution_count": 9,
     "metadata": {},
     "output_type": "execute_result"
    }
   ],
   "source": [
    "stats.mode(dados)"
   ]
  },
  {
   "cell_type": "code",
   "execution_count": 10,
   "id": "0dc30ce8",
   "metadata": {},
   "outputs": [],
   "source": [
    "# mediana\n",
    "\n",
    "dados_impar = [150, 144, 145, 156, 155]"
   ]
  },
  {
   "cell_type": "code",
   "execution_count": 11,
   "id": "2b1a629e",
   "metadata": {},
   "outputs": [
    {
     "data": {
      "text/plain": [
       "3.0"
      ]
     },
     "execution_count": 11,
     "metadata": {},
     "output_type": "execute_result"
    }
   ],
   "source": [
    "(len(dados_impar) + 1 ) / 2"
   ]
  },
  {
   "cell_type": "code",
   "execution_count": 12,
   "id": "8ff2e47b",
   "metadata": {},
   "outputs": [
    {
     "data": {
      "text/plain": [
       "145"
      ]
     },
     "execution_count": 12,
     "metadata": {},
     "output_type": "execute_result"
    }
   ],
   "source": [
    "dados_impar[3 - 1]"
   ]
  },
  {
   "cell_type": "code",
   "execution_count": 13,
   "id": "16d0c9ae",
   "metadata": {},
   "outputs": [],
   "source": [
    "dados_par = [155, 156, 157, 166, 168, 170]"
   ]
  },
  {
   "cell_type": "code",
   "execution_count": 14,
   "id": "464c5278",
   "metadata": {},
   "outputs": [
    {
     "data": {
      "text/plain": [
       "3.0"
      ]
     },
     "execution_count": 14,
     "metadata": {},
     "output_type": "execute_result"
    }
   ],
   "source": [
    "(len(dados_par) / 2)"
   ]
  },
  {
   "cell_type": "markdown",
   "id": "3af696f1",
   "metadata": {},
   "source": [
    "### Média Ponderada"
   ]
  },
  {
   "cell_type": "code",
   "execution_count": 15,
   "id": "0e4d5d22",
   "metadata": {},
   "outputs": [
    {
     "data": {
      "text/plain": [
       "{'bimestre': ['primeiro', 'segundo', 'terceiro', 'quarto'],\n",
       " 'notas': [9, 8, 7, 3],\n",
       " 'peso': [1, 2, 3, 4]}"
      ]
     },
     "execution_count": 15,
     "metadata": {},
     "output_type": "execute_result"
    }
   ],
   "source": [
    "notas = {'bimestre':['primeiro', 'segundo', 'terceiro', 'quarto'],\n",
    "        'notas':[9, 8, 7, 3],\n",
    "        'peso':[1, 2, 3, 4]}\n",
    "notas"
   ]
  },
  {
   "cell_type": "code",
   "execution_count": 16,
   "id": "75a16099",
   "metadata": {},
   "outputs": [
    {
     "data": {
      "text/html": [
       "<div>\n",
       "<style scoped>\n",
       "    .dataframe tbody tr th:only-of-type {\n",
       "        vertical-align: middle;\n",
       "    }\n",
       "\n",
       "    .dataframe tbody tr th {\n",
       "        vertical-align: top;\n",
       "    }\n",
       "\n",
       "    .dataframe thead th {\n",
       "        text-align: right;\n",
       "    }\n",
       "</style>\n",
       "<table border=\"1\" class=\"dataframe\">\n",
       "  <thead>\n",
       "    <tr style=\"text-align: right;\">\n",
       "      <th></th>\n",
       "      <th>bimestre</th>\n",
       "      <th>notas</th>\n",
       "      <th>peso</th>\n",
       "    </tr>\n",
       "  </thead>\n",
       "  <tbody>\n",
       "    <tr>\n",
       "      <th>0</th>\n",
       "      <td>primeiro</td>\n",
       "      <td>9</td>\n",
       "      <td>1</td>\n",
       "    </tr>\n",
       "    <tr>\n",
       "      <th>1</th>\n",
       "      <td>segundo</td>\n",
       "      <td>8</td>\n",
       "      <td>2</td>\n",
       "    </tr>\n",
       "    <tr>\n",
       "      <th>2</th>\n",
       "      <td>terceiro</td>\n",
       "      <td>7</td>\n",
       "      <td>3</td>\n",
       "    </tr>\n",
       "    <tr>\n",
       "      <th>3</th>\n",
       "      <td>quarto</td>\n",
       "      <td>3</td>\n",
       "      <td>4</td>\n",
       "    </tr>\n",
       "  </tbody>\n",
       "</table>\n",
       "</div>"
      ],
      "text/plain": [
       "   bimestre  notas  peso\n",
       "0  primeiro      9     1\n",
       "1   segundo      8     2\n",
       "2  terceiro      7     3\n",
       "3    quarto      3     4"
      ]
     },
     "execution_count": 16,
     "metadata": {},
     "output_type": "execute_result"
    }
   ],
   "source": [
    "notas = pd.DataFrame(notas)\n",
    "notas"
   ]
  },
  {
   "cell_type": "code",
   "execution_count": 17,
   "id": "bf051a8f",
   "metadata": {},
   "outputs": [
    {
     "data": {
      "text/plain": [
       "array([9, 8, 7, 3])"
      ]
     },
     "execution_count": 17,
     "metadata": {},
     "output_type": "execute_result"
    }
   ],
   "source": [
    "notas = np.array([9, 8, 7,3])\n",
    "notas"
   ]
  },
  {
   "cell_type": "code",
   "execution_count": 18,
   "id": "d7e51602",
   "metadata": {},
   "outputs": [
    {
     "data": {
      "text/plain": [
       "array([1, 2, 3, 4])"
      ]
     },
     "execution_count": 18,
     "metadata": {},
     "output_type": "execute_result"
    }
   ],
   "source": [
    "pesos = np.array([1, 2, 3, 4])\n",
    "pesos"
   ]
  },
  {
   "cell_type": "code",
   "execution_count": 19,
   "id": "c01f8646",
   "metadata": {},
   "outputs": [
    {
     "data": {
      "text/plain": [
       "5.8"
      ]
     },
     "execution_count": 19,
     "metadata": {},
     "output_type": "execute_result"
    }
   ],
   "source": [
    "(9*1 + 8*2 + 7*3 + 3*4) / (1+2+3+4)"
   ]
  },
  {
   "cell_type": "code",
   "execution_count": 20,
   "id": "8b4bafd1",
   "metadata": {},
   "outputs": [
    {
     "data": {
      "text/plain": [
       "5.8"
      ]
     },
     "execution_count": 20,
     "metadata": {},
     "output_type": "execute_result"
    }
   ],
   "source": [
    "media_ponderada = (notas * pesos).sum() / pesos.sum()\n",
    "media_ponderada"
   ]
  },
  {
   "cell_type": "code",
   "execution_count": 21,
   "id": "0a597e27",
   "metadata": {},
   "outputs": [
    {
     "data": {
      "text/plain": [
       "5.8"
      ]
     },
     "execution_count": 21,
     "metadata": {},
     "output_type": "execute_result"
    }
   ],
   "source": [
    "np.average(notas, weights=pesos) # usamos o wigths como parametro, com os valores de pesos"
   ]
  },
  {
   "cell_type": "markdown",
   "id": "e52d1fc4",
   "metadata": {},
   "source": [
    "### Média aritmética, Mode e Mediana"
   ]
  },
  {
   "cell_type": "code",
   "execution_count": 22,
   "id": "ee576623",
   "metadata": {},
   "outputs": [],
   "source": [
    "altura = [160, 155, 165, 167, 169, 171, 182, 155, 159, 167,\n",
    "         164, 157, 177, 187, 199, 147, 167, 150, 149, 160,\n",
    "         144, 155, 178, 199, 190, 156, 146, 178, 177, 158,\n",
    "         177, 187, 157, 145, 167, 176, 167, 177, 155, 167]"
   ]
  },
  {
   "cell_type": "code",
   "execution_count": 23,
   "id": "ff7dfb60",
   "metadata": {},
   "outputs": [],
   "source": [
    "altura = np.array([[160, 155, 165, 167, 169, 171, 182, 155, 159, 167,\n",
    "         164, 157, 177, 187, 199, 147, 167, 150, 149, 160,\n",
    "         144, 155, 178, 199, 190, 156, 146, 178, 177, 158,\n",
    "         177, 187, 157, 145, 167, 176, 167, 177, 155, 167], [5, 6, 8, 1, 2, 3, 4, 6, 7, 8, 10, 182, 43, 43, 21,\n",
    "                                                            12, 45, 3, 2, 4, 3, 6, 4, 3, 2, 5, 7, 1, 3, 6, 3, 6,\n",
    "                                                            3, 6, 2, 4, 5, 6, 3, 2]])"
   ]
  },
  {
   "cell_type": "code",
   "execution_count": 24,
   "id": "e665c5bd",
   "metadata": {},
   "outputs": [
    {
     "data": {
      "text/html": [
       "<div>\n",
       "<style scoped>\n",
       "    .dataframe tbody tr th:only-of-type {\n",
       "        vertical-align: middle;\n",
       "    }\n",
       "\n",
       "    .dataframe tbody tr th {\n",
       "        vertical-align: top;\n",
       "    }\n",
       "\n",
       "    .dataframe thead th {\n",
       "        text-align: right;\n",
       "    }\n",
       "</style>\n",
       "<table border=\"1\" class=\"dataframe\">\n",
       "  <thead>\n",
       "    <tr style=\"text-align: right;\">\n",
       "      <th></th>\n",
       "      <th>0</th>\n",
       "      <th>1</th>\n",
       "      <th>2</th>\n",
       "      <th>3</th>\n",
       "      <th>4</th>\n",
       "      <th>5</th>\n",
       "      <th>6</th>\n",
       "      <th>7</th>\n",
       "      <th>8</th>\n",
       "      <th>9</th>\n",
       "      <th>...</th>\n",
       "      <th>30</th>\n",
       "      <th>31</th>\n",
       "      <th>32</th>\n",
       "      <th>33</th>\n",
       "      <th>34</th>\n",
       "      <th>35</th>\n",
       "      <th>36</th>\n",
       "      <th>37</th>\n",
       "      <th>38</th>\n",
       "      <th>39</th>\n",
       "    </tr>\n",
       "  </thead>\n",
       "  <tbody>\n",
       "    <tr>\n",
       "      <th>0</th>\n",
       "      <td>160</td>\n",
       "      <td>155</td>\n",
       "      <td>165</td>\n",
       "      <td>167</td>\n",
       "      <td>169</td>\n",
       "      <td>171</td>\n",
       "      <td>182</td>\n",
       "      <td>155</td>\n",
       "      <td>159</td>\n",
       "      <td>167</td>\n",
       "      <td>...</td>\n",
       "      <td>177</td>\n",
       "      <td>187</td>\n",
       "      <td>157</td>\n",
       "      <td>145</td>\n",
       "      <td>167</td>\n",
       "      <td>176</td>\n",
       "      <td>167</td>\n",
       "      <td>177</td>\n",
       "      <td>155</td>\n",
       "      <td>167</td>\n",
       "    </tr>\n",
       "    <tr>\n",
       "      <th>1</th>\n",
       "      <td>5</td>\n",
       "      <td>6</td>\n",
       "      <td>8</td>\n",
       "      <td>1</td>\n",
       "      <td>2</td>\n",
       "      <td>3</td>\n",
       "      <td>4</td>\n",
       "      <td>6</td>\n",
       "      <td>7</td>\n",
       "      <td>8</td>\n",
       "      <td>...</td>\n",
       "      <td>3</td>\n",
       "      <td>6</td>\n",
       "      <td>3</td>\n",
       "      <td>6</td>\n",
       "      <td>2</td>\n",
       "      <td>4</td>\n",
       "      <td>5</td>\n",
       "      <td>6</td>\n",
       "      <td>3</td>\n",
       "      <td>2</td>\n",
       "    </tr>\n",
       "  </tbody>\n",
       "</table>\n",
       "<p>2 rows × 40 columns</p>\n",
       "</div>"
      ],
      "text/plain": [
       "    0    1    2    3    4    5    6    7    8    9   ...   30   31   32   33  \\\n",
       "0  160  155  165  167  169  171  182  155  159  167  ...  177  187  157  145   \n",
       "1    5    6    8    1    2    3    4    6    7    8  ...    3    6    3    6   \n",
       "\n",
       "    34   35   36   37   38   39  \n",
       "0  167  176  167  177  155  167  \n",
       "1    2    4    5    6    3    2  \n",
       "\n",
       "[2 rows x 40 columns]"
      ]
     },
     "execution_count": 24,
     "metadata": {},
     "output_type": "execute_result"
    }
   ],
   "source": [
    "altura = pd.DataFrame(altura)\n",
    "altura"
   ]
  },
  {
   "cell_type": "code",
   "execution_count": 25,
   "id": "d2e66552",
   "metadata": {},
   "outputs": [],
   "source": [
    "# Distribuição de Frequência\n",
    "\n",
    "dicionario = {'inferior':[150, 154, 158, 162, 166, 170],\n",
    "             'superior':[154, 158, 162, 166, 170, 174],\n",
    "             'fi':[5, 9, 11, 7, 5, 3]}"
   ]
  },
  {
   "cell_type": "code",
   "execution_count": 26,
   "id": "6e8beba0",
   "metadata": {},
   "outputs": [],
   "source": [
    "import pandas as pd"
   ]
  },
  {
   "cell_type": "code",
   "execution_count": 27,
   "id": "8ec60f9d",
   "metadata": {},
   "outputs": [
    {
     "data": {
      "text/html": [
       "<div>\n",
       "<style scoped>\n",
       "    .dataframe tbody tr th:only-of-type {\n",
       "        vertical-align: middle;\n",
       "    }\n",
       "\n",
       "    .dataframe tbody tr th {\n",
       "        vertical-align: top;\n",
       "    }\n",
       "\n",
       "    .dataframe thead th {\n",
       "        text-align: right;\n",
       "    }\n",
       "</style>\n",
       "<table border=\"1\" class=\"dataframe\">\n",
       "  <thead>\n",
       "    <tr style=\"text-align: right;\">\n",
       "      <th></th>\n",
       "      <th>inferior</th>\n",
       "      <th>superior</th>\n",
       "      <th>fi</th>\n",
       "    </tr>\n",
       "  </thead>\n",
       "  <tbody>\n",
       "    <tr>\n",
       "      <th>0</th>\n",
       "      <td>150</td>\n",
       "      <td>154</td>\n",
       "      <td>5</td>\n",
       "    </tr>\n",
       "    <tr>\n",
       "      <th>1</th>\n",
       "      <td>154</td>\n",
       "      <td>158</td>\n",
       "      <td>9</td>\n",
       "    </tr>\n",
       "    <tr>\n",
       "      <th>2</th>\n",
       "      <td>158</td>\n",
       "      <td>162</td>\n",
       "      <td>11</td>\n",
       "    </tr>\n",
       "    <tr>\n",
       "      <th>3</th>\n",
       "      <td>162</td>\n",
       "      <td>166</td>\n",
       "      <td>7</td>\n",
       "    </tr>\n",
       "    <tr>\n",
       "      <th>4</th>\n",
       "      <td>166</td>\n",
       "      <td>170</td>\n",
       "      <td>5</td>\n",
       "    </tr>\n",
       "    <tr>\n",
       "      <th>5</th>\n",
       "      <td>170</td>\n",
       "      <td>174</td>\n",
       "      <td>3</td>\n",
       "    </tr>\n",
       "  </tbody>\n",
       "</table>\n",
       "</div>"
      ],
      "text/plain": [
       "   inferior  superior  fi\n",
       "0       150       154   5\n",
       "1       154       158   9\n",
       "2       158       162  11\n",
       "3       162       166   7\n",
       "4       166       170   5\n",
       "5       170       174   3"
      ]
     },
     "execution_count": 27,
     "metadata": {},
     "output_type": "execute_result"
    }
   ],
   "source": [
    "dataset = pd.DataFrame(dicionario)\n",
    "dataset"
   ]
  },
  {
   "cell_type": "code",
   "execution_count": 28,
   "id": "1ff48a15",
   "metadata": {},
   "outputs": [
    {
     "data": {
      "text/html": [
       "<div>\n",
       "<style scoped>\n",
       "    .dataframe tbody tr th:only-of-type {\n",
       "        vertical-align: middle;\n",
       "    }\n",
       "\n",
       "    .dataframe tbody tr th {\n",
       "        vertical-align: top;\n",
       "    }\n",
       "\n",
       "    .dataframe thead th {\n",
       "        text-align: right;\n",
       "    }\n",
       "</style>\n",
       "<table border=\"1\" class=\"dataframe\">\n",
       "  <thead>\n",
       "    <tr style=\"text-align: right;\">\n",
       "      <th></th>\n",
       "      <th>inferior</th>\n",
       "      <th>superior</th>\n",
       "      <th>fi</th>\n",
       "      <th>xi</th>\n",
       "    </tr>\n",
       "  </thead>\n",
       "  <tbody>\n",
       "    <tr>\n",
       "      <th>0</th>\n",
       "      <td>150</td>\n",
       "      <td>154</td>\n",
       "      <td>5</td>\n",
       "      <td>152.0</td>\n",
       "    </tr>\n",
       "    <tr>\n",
       "      <th>1</th>\n",
       "      <td>154</td>\n",
       "      <td>158</td>\n",
       "      <td>9</td>\n",
       "      <td>156.0</td>\n",
       "    </tr>\n",
       "    <tr>\n",
       "      <th>2</th>\n",
       "      <td>158</td>\n",
       "      <td>162</td>\n",
       "      <td>11</td>\n",
       "      <td>160.0</td>\n",
       "    </tr>\n",
       "    <tr>\n",
       "      <th>3</th>\n",
       "      <td>162</td>\n",
       "      <td>166</td>\n",
       "      <td>7</td>\n",
       "      <td>164.0</td>\n",
       "    </tr>\n",
       "    <tr>\n",
       "      <th>4</th>\n",
       "      <td>166</td>\n",
       "      <td>170</td>\n",
       "      <td>5</td>\n",
       "      <td>168.0</td>\n",
       "    </tr>\n",
       "    <tr>\n",
       "      <th>5</th>\n",
       "      <td>170</td>\n",
       "      <td>174</td>\n",
       "      <td>3</td>\n",
       "      <td>172.0</td>\n",
       "    </tr>\n",
       "  </tbody>\n",
       "</table>\n",
       "</div>"
      ],
      "text/plain": [
       "   inferior  superior  fi     xi\n",
       "0       150       154   5  152.0\n",
       "1       154       158   9  156.0\n",
       "2       158       162  11  160.0\n",
       "3       162       166   7  164.0\n",
       "4       166       170   5  168.0\n",
       "5       170       174   3  172.0"
      ]
     },
     "execution_count": 28,
     "metadata": {},
     "output_type": "execute_result"
    }
   ],
   "source": [
    "dataset['xi'] = (dataset['superior'] + dataset['inferior']) / 2\n",
    "dataset"
   ]
  },
  {
   "cell_type": "code",
   "execution_count": 29,
   "id": "dc567b4b",
   "metadata": {},
   "outputs": [
    {
     "data": {
      "text/html": [
       "<div>\n",
       "<style scoped>\n",
       "    .dataframe tbody tr th:only-of-type {\n",
       "        vertical-align: middle;\n",
       "    }\n",
       "\n",
       "    .dataframe tbody tr th {\n",
       "        vertical-align: top;\n",
       "    }\n",
       "\n",
       "    .dataframe thead th {\n",
       "        text-align: right;\n",
       "    }\n",
       "</style>\n",
       "<table border=\"1\" class=\"dataframe\">\n",
       "  <thead>\n",
       "    <tr style=\"text-align: right;\">\n",
       "      <th></th>\n",
       "      <th>inferior</th>\n",
       "      <th>superior</th>\n",
       "      <th>fi</th>\n",
       "      <th>xi</th>\n",
       "      <th>fi.xi</th>\n",
       "    </tr>\n",
       "  </thead>\n",
       "  <tbody>\n",
       "    <tr>\n",
       "      <th>0</th>\n",
       "      <td>150</td>\n",
       "      <td>154</td>\n",
       "      <td>5</td>\n",
       "      <td>152.0</td>\n",
       "      <td>760.0</td>\n",
       "    </tr>\n",
       "    <tr>\n",
       "      <th>1</th>\n",
       "      <td>154</td>\n",
       "      <td>158</td>\n",
       "      <td>9</td>\n",
       "      <td>156.0</td>\n",
       "      <td>1404.0</td>\n",
       "    </tr>\n",
       "    <tr>\n",
       "      <th>2</th>\n",
       "      <td>158</td>\n",
       "      <td>162</td>\n",
       "      <td>11</td>\n",
       "      <td>160.0</td>\n",
       "      <td>1760.0</td>\n",
       "    </tr>\n",
       "    <tr>\n",
       "      <th>3</th>\n",
       "      <td>162</td>\n",
       "      <td>166</td>\n",
       "      <td>7</td>\n",
       "      <td>164.0</td>\n",
       "      <td>1148.0</td>\n",
       "    </tr>\n",
       "    <tr>\n",
       "      <th>4</th>\n",
       "      <td>166</td>\n",
       "      <td>170</td>\n",
       "      <td>5</td>\n",
       "      <td>168.0</td>\n",
       "      <td>840.0</td>\n",
       "    </tr>\n",
       "    <tr>\n",
       "      <th>5</th>\n",
       "      <td>170</td>\n",
       "      <td>174</td>\n",
       "      <td>3</td>\n",
       "      <td>172.0</td>\n",
       "      <td>516.0</td>\n",
       "    </tr>\n",
       "  </tbody>\n",
       "</table>\n",
       "</div>"
      ],
      "text/plain": [
       "   inferior  superior  fi     xi   fi.xi\n",
       "0       150       154   5  152.0   760.0\n",
       "1       154       158   9  156.0  1404.0\n",
       "2       158       162  11  160.0  1760.0\n",
       "3       162       166   7  164.0  1148.0\n",
       "4       166       170   5  168.0   840.0\n",
       "5       170       174   3  172.0   516.0"
      ]
     },
     "execution_count": 29,
     "metadata": {},
     "output_type": "execute_result"
    }
   ],
   "source": [
    "dataset['fi.xi'] = (dataset['fi'] * dataset['xi'])\n",
    "dataset"
   ]
  },
  {
   "cell_type": "code",
   "execution_count": 30,
   "id": "27ce892b",
   "metadata": {},
   "outputs": [
    {
     "data": {
      "text/html": [
       "<div>\n",
       "<style scoped>\n",
       "    .dataframe tbody tr th:only-of-type {\n",
       "        vertical-align: middle;\n",
       "    }\n",
       "\n",
       "    .dataframe tbody tr th {\n",
       "        vertical-align: top;\n",
       "    }\n",
       "\n",
       "    .dataframe thead th {\n",
       "        text-align: right;\n",
       "    }\n",
       "</style>\n",
       "<table border=\"1\" class=\"dataframe\">\n",
       "  <thead>\n",
       "    <tr style=\"text-align: right;\">\n",
       "      <th></th>\n",
       "      <th>inferior</th>\n",
       "      <th>superior</th>\n",
       "      <th>fi</th>\n",
       "      <th>xi</th>\n",
       "      <th>fi.xi</th>\n",
       "      <th>Fi</th>\n",
       "    </tr>\n",
       "  </thead>\n",
       "  <tbody>\n",
       "    <tr>\n",
       "      <th>0</th>\n",
       "      <td>150</td>\n",
       "      <td>154</td>\n",
       "      <td>5</td>\n",
       "      <td>152.0</td>\n",
       "      <td>760.0</td>\n",
       "      <td>0</td>\n",
       "    </tr>\n",
       "    <tr>\n",
       "      <th>1</th>\n",
       "      <td>154</td>\n",
       "      <td>158</td>\n",
       "      <td>9</td>\n",
       "      <td>156.0</td>\n",
       "      <td>1404.0</td>\n",
       "      <td>0</td>\n",
       "    </tr>\n",
       "    <tr>\n",
       "      <th>2</th>\n",
       "      <td>158</td>\n",
       "      <td>162</td>\n",
       "      <td>11</td>\n",
       "      <td>160.0</td>\n",
       "      <td>1760.0</td>\n",
       "      <td>0</td>\n",
       "    </tr>\n",
       "    <tr>\n",
       "      <th>3</th>\n",
       "      <td>162</td>\n",
       "      <td>166</td>\n",
       "      <td>7</td>\n",
       "      <td>164.0</td>\n",
       "      <td>1148.0</td>\n",
       "      <td>0</td>\n",
       "    </tr>\n",
       "    <tr>\n",
       "      <th>4</th>\n",
       "      <td>166</td>\n",
       "      <td>170</td>\n",
       "      <td>5</td>\n",
       "      <td>168.0</td>\n",
       "      <td>840.0</td>\n",
       "      <td>0</td>\n",
       "    </tr>\n",
       "    <tr>\n",
       "      <th>5</th>\n",
       "      <td>170</td>\n",
       "      <td>174</td>\n",
       "      <td>3</td>\n",
       "      <td>172.0</td>\n",
       "      <td>516.0</td>\n",
       "      <td>0</td>\n",
       "    </tr>\n",
       "  </tbody>\n",
       "</table>\n",
       "</div>"
      ],
      "text/plain": [
       "   inferior  superior  fi     xi   fi.xi  Fi\n",
       "0       150       154   5  152.0   760.0   0\n",
       "1       154       158   9  156.0  1404.0   0\n",
       "2       158       162  11  160.0  1760.0   0\n",
       "3       162       166   7  164.0  1148.0   0\n",
       "4       166       170   5  168.0   840.0   0\n",
       "5       170       174   3  172.0   516.0   0"
      ]
     },
     "execution_count": 30,
     "metadata": {},
     "output_type": "execute_result"
    }
   ],
   "source": [
    "dataset['Fi'] = 0\n",
    "dataset"
   ]
  },
  {
   "cell_type": "code",
   "execution_count": 31,
   "id": "64e3393b",
   "metadata": {},
   "outputs": [],
   "source": [
    "freq_acumulada = [ ]\n",
    "somatorio = 0\n",
    "for linha in dataset.iterrows():\n",
    "    # print(linha[1][2]) # realizado para fazer o somatório\n",
    "    somatorio += linha[1][2]\n",
    "    freq_acumulada.append(somatorio)"
   ]
  },
  {
   "cell_type": "code",
   "execution_count": 32,
   "id": "93ec665d",
   "metadata": {},
   "outputs": [
    {
     "data": {
      "text/plain": [
       "[5.0, 14.0, 25.0, 32.0, 37.0, 40.0]"
      ]
     },
     "execution_count": 32,
     "metadata": {},
     "output_type": "execute_result"
    }
   ],
   "source": [
    "freq_acumulada"
   ]
  },
  {
   "cell_type": "code",
   "execution_count": 33,
   "id": "45d0ec6c",
   "metadata": {},
   "outputs": [
    {
     "data": {
      "text/html": [
       "<div>\n",
       "<style scoped>\n",
       "    .dataframe tbody tr th:only-of-type {\n",
       "        vertical-align: middle;\n",
       "    }\n",
       "\n",
       "    .dataframe tbody tr th {\n",
       "        vertical-align: top;\n",
       "    }\n",
       "\n",
       "    .dataframe thead th {\n",
       "        text-align: right;\n",
       "    }\n",
       "</style>\n",
       "<table border=\"1\" class=\"dataframe\">\n",
       "  <thead>\n",
       "    <tr style=\"text-align: right;\">\n",
       "      <th></th>\n",
       "      <th>inferior</th>\n",
       "      <th>superior</th>\n",
       "      <th>fi</th>\n",
       "      <th>xi</th>\n",
       "      <th>fi.xi</th>\n",
       "      <th>Fi</th>\n",
       "    </tr>\n",
       "  </thead>\n",
       "  <tbody>\n",
       "    <tr>\n",
       "      <th>0</th>\n",
       "      <td>150</td>\n",
       "      <td>154</td>\n",
       "      <td>5</td>\n",
       "      <td>152.0</td>\n",
       "      <td>760.0</td>\n",
       "      <td>5.0</td>\n",
       "    </tr>\n",
       "    <tr>\n",
       "      <th>1</th>\n",
       "      <td>154</td>\n",
       "      <td>158</td>\n",
       "      <td>9</td>\n",
       "      <td>156.0</td>\n",
       "      <td>1404.0</td>\n",
       "      <td>14.0</td>\n",
       "    </tr>\n",
       "    <tr>\n",
       "      <th>2</th>\n",
       "      <td>158</td>\n",
       "      <td>162</td>\n",
       "      <td>11</td>\n",
       "      <td>160.0</td>\n",
       "      <td>1760.0</td>\n",
       "      <td>25.0</td>\n",
       "    </tr>\n",
       "    <tr>\n",
       "      <th>3</th>\n",
       "      <td>162</td>\n",
       "      <td>166</td>\n",
       "      <td>7</td>\n",
       "      <td>164.0</td>\n",
       "      <td>1148.0</td>\n",
       "      <td>32.0</td>\n",
       "    </tr>\n",
       "    <tr>\n",
       "      <th>4</th>\n",
       "      <td>166</td>\n",
       "      <td>170</td>\n",
       "      <td>5</td>\n",
       "      <td>168.0</td>\n",
       "      <td>840.0</td>\n",
       "      <td>37.0</td>\n",
       "    </tr>\n",
       "    <tr>\n",
       "      <th>5</th>\n",
       "      <td>170</td>\n",
       "      <td>174</td>\n",
       "      <td>3</td>\n",
       "      <td>172.0</td>\n",
       "      <td>516.0</td>\n",
       "      <td>40.0</td>\n",
       "    </tr>\n",
       "  </tbody>\n",
       "</table>\n",
       "</div>"
      ],
      "text/plain": [
       "   inferior  superior  fi     xi   fi.xi    Fi\n",
       "0       150       154   5  152.0   760.0   5.0\n",
       "1       154       158   9  156.0  1404.0  14.0\n",
       "2       158       162  11  160.0  1760.0  25.0\n",
       "3       162       166   7  164.0  1148.0  32.0\n",
       "4       166       170   5  168.0   840.0  37.0\n",
       "5       170       174   3  172.0   516.0  40.0"
      ]
     },
     "execution_count": 33,
     "metadata": {},
     "output_type": "execute_result"
    }
   ],
   "source": [
    "dataset['Fi'] = freq_acumulada\n",
    "dataset"
   ]
  },
  {
   "cell_type": "code",
   "execution_count": 34,
   "id": "3b781908",
   "metadata": {},
   "outputs": [
    {
     "data": {
      "text/plain": [
       "(40, 6428.0)"
      ]
     },
     "execution_count": 34,
     "metadata": {},
     "output_type": "execute_result"
    }
   ],
   "source": [
    "dataset['fi'].sum(), dataset['fi.xi'].sum()"
   ]
  },
  {
   "cell_type": "code",
   "execution_count": 35,
   "id": "5f35216f",
   "metadata": {},
   "outputs": [
    {
     "data": {
      "text/plain": [
       "160.7"
      ]
     },
     "execution_count": 35,
     "metadata": {},
     "output_type": "execute_result"
    }
   ],
   "source": [
    "media = (dataset['fi.xi'].sum() / dataset['fi'].sum())\n",
    "media"
   ]
  },
  {
   "cell_type": "code",
   "execution_count": 36,
   "id": "929639a8",
   "metadata": {},
   "outputs": [
    {
     "data": {
      "text/plain": [
       "11"
      ]
     },
     "execution_count": 36,
     "metadata": {},
     "output_type": "execute_result"
    }
   ],
   "source": [
    "### Moda\n",
    "\n",
    "dataset['fi'].max()"
   ]
  },
  {
   "cell_type": "code",
   "execution_count": 37,
   "id": "a5e0a327",
   "metadata": {},
   "outputs": [
    {
     "data": {
      "text/html": [
       "<div>\n",
       "<style scoped>\n",
       "    .dataframe tbody tr th:only-of-type {\n",
       "        vertical-align: middle;\n",
       "    }\n",
       "\n",
       "    .dataframe tbody tr th {\n",
       "        vertical-align: top;\n",
       "    }\n",
       "\n",
       "    .dataframe thead th {\n",
       "        text-align: right;\n",
       "    }\n",
       "</style>\n",
       "<table border=\"1\" class=\"dataframe\">\n",
       "  <thead>\n",
       "    <tr style=\"text-align: right;\">\n",
       "      <th></th>\n",
       "      <th>inferior</th>\n",
       "      <th>superior</th>\n",
       "      <th>fi</th>\n",
       "      <th>xi</th>\n",
       "      <th>fi.xi</th>\n",
       "      <th>Fi</th>\n",
       "    </tr>\n",
       "  </thead>\n",
       "  <tbody>\n",
       "    <tr>\n",
       "      <th>2</th>\n",
       "      <td>158</td>\n",
       "      <td>162</td>\n",
       "      <td>11</td>\n",
       "      <td>160.0</td>\n",
       "      <td>1760.0</td>\n",
       "      <td>25.0</td>\n",
       "    </tr>\n",
       "  </tbody>\n",
       "</table>\n",
       "</div>"
      ],
      "text/plain": [
       "   inferior  superior  fi     xi   fi.xi    Fi\n",
       "2       158       162  11  160.0  1760.0  25.0"
      ]
     },
     "execution_count": 37,
     "metadata": {},
     "output_type": "execute_result"
    }
   ],
   "source": [
    "dataset[dataset['fi'] == dataset['fi'].max()]"
   ]
  },
  {
   "cell_type": "code",
   "execution_count": 38,
   "id": "2c30d099",
   "metadata": {},
   "outputs": [
    {
     "data": {
      "text/plain": [
       "2    160.0\n",
       "Name: xi, dtype: float64"
      ]
     },
     "execution_count": 38,
     "metadata": {},
     "output_type": "execute_result"
    }
   ],
   "source": [
    "dataset[dataset['fi'] == dataset['fi'].max()]['xi']"
   ]
  },
  {
   "cell_type": "code",
   "execution_count": 39,
   "id": "ff827508",
   "metadata": {},
   "outputs": [
    {
     "data": {
      "text/plain": [
       "array([160.])"
      ]
     },
     "execution_count": 39,
     "metadata": {},
     "output_type": "execute_result"
    }
   ],
   "source": [
    "dataset[dataset['fi'] == dataset['fi'].max()]['xi'].values"
   ]
  },
  {
   "cell_type": "code",
   "execution_count": 40,
   "id": "37a70502",
   "metadata": {},
   "outputs": [
    {
     "data": {
      "text/plain": [
       "160.0"
      ]
     },
     "execution_count": 40,
     "metadata": {},
     "output_type": "execute_result"
    }
   ],
   "source": [
    "dataset[dataset['fi'] == dataset['fi'].max()]['xi'].values[0]"
   ]
  },
  {
   "cell_type": "code",
   "execution_count": 41,
   "id": "335b4e7c",
   "metadata": {},
   "outputs": [
    {
     "data": {
      "text/html": [
       "<div>\n",
       "<style scoped>\n",
       "    .dataframe tbody tr th:only-of-type {\n",
       "        vertical-align: middle;\n",
       "    }\n",
       "\n",
       "    .dataframe tbody tr th {\n",
       "        vertical-align: top;\n",
       "    }\n",
       "\n",
       "    .dataframe thead th {\n",
       "        text-align: right;\n",
       "    }\n",
       "</style>\n",
       "<table border=\"1\" class=\"dataframe\">\n",
       "  <thead>\n",
       "    <tr style=\"text-align: right;\">\n",
       "      <th></th>\n",
       "      <th>inferior</th>\n",
       "      <th>superior</th>\n",
       "      <th>fi</th>\n",
       "      <th>xi</th>\n",
       "      <th>fi.xi</th>\n",
       "      <th>Fi</th>\n",
       "    </tr>\n",
       "  </thead>\n",
       "  <tbody>\n",
       "    <tr>\n",
       "      <th>0</th>\n",
       "      <td>150</td>\n",
       "      <td>154</td>\n",
       "      <td>5</td>\n",
       "      <td>152.0</td>\n",
       "      <td>760.0</td>\n",
       "      <td>5.0</td>\n",
       "    </tr>\n",
       "    <tr>\n",
       "      <th>1</th>\n",
       "      <td>154</td>\n",
       "      <td>158</td>\n",
       "      <td>9</td>\n",
       "      <td>156.0</td>\n",
       "      <td>1404.0</td>\n",
       "      <td>14.0</td>\n",
       "    </tr>\n",
       "    <tr>\n",
       "      <th>2</th>\n",
       "      <td>158</td>\n",
       "      <td>162</td>\n",
       "      <td>11</td>\n",
       "      <td>160.0</td>\n",
       "      <td>1760.0</td>\n",
       "      <td>25.0</td>\n",
       "    </tr>\n",
       "    <tr>\n",
       "      <th>3</th>\n",
       "      <td>162</td>\n",
       "      <td>166</td>\n",
       "      <td>7</td>\n",
       "      <td>164.0</td>\n",
       "      <td>1148.0</td>\n",
       "      <td>32.0</td>\n",
       "    </tr>\n",
       "    <tr>\n",
       "      <th>4</th>\n",
       "      <td>166</td>\n",
       "      <td>170</td>\n",
       "      <td>5</td>\n",
       "      <td>168.0</td>\n",
       "      <td>840.0</td>\n",
       "      <td>37.0</td>\n",
       "    </tr>\n",
       "    <tr>\n",
       "      <th>5</th>\n",
       "      <td>170</td>\n",
       "      <td>174</td>\n",
       "      <td>3</td>\n",
       "      <td>172.0</td>\n",
       "      <td>516.0</td>\n",
       "      <td>40.0</td>\n",
       "    </tr>\n",
       "  </tbody>\n",
       "</table>\n",
       "</div>"
      ],
      "text/plain": [
       "   inferior  superior  fi     xi   fi.xi    Fi\n",
       "0       150       154   5  152.0   760.0   5.0\n",
       "1       154       158   9  156.0  1404.0  14.0\n",
       "2       158       162  11  160.0  1760.0  25.0\n",
       "3       162       166   7  164.0  1148.0  32.0\n",
       "4       166       170   5  168.0   840.0  37.0\n",
       "5       170       174   3  172.0   516.0  40.0"
      ]
     },
     "execution_count": 41,
     "metadata": {},
     "output_type": "execute_result"
    }
   ],
   "source": [
    "# Mediana\n",
    "\n",
    "dataset"
   ]
  },
  {
   "cell_type": "code",
   "execution_count": 42,
   "id": "dd93a03f",
   "metadata": {},
   "outputs": [
    {
     "data": {
      "text/plain": [
       "20.0"
      ]
     },
     "execution_count": 42,
     "metadata": {},
     "output_type": "execute_result"
    }
   ],
   "source": [
    "fi_2 = dataset['fi'].sum() / 2\n",
    "fi_2"
   ]
  },
  {
   "cell_type": "markdown",
   "id": "90b022d7",
   "metadata": {},
   "source": [
    "### Média geométrica, média harmônica e média quadrática"
   ]
  },
  {
   "cell_type": "code",
   "execution_count": 43,
   "id": "860bf7a7",
   "metadata": {},
   "outputs": [
    {
     "data": {
      "text/html": [
       "<div>\n",
       "<style scoped>\n",
       "    .dataframe tbody tr th:only-of-type {\n",
       "        vertical-align: middle;\n",
       "    }\n",
       "\n",
       "    .dataframe tbody tr th {\n",
       "        vertical-align: top;\n",
       "    }\n",
       "\n",
       "    .dataframe thead th {\n",
       "        text-align: right;\n",
       "    }\n",
       "</style>\n",
       "<table border=\"1\" class=\"dataframe\">\n",
       "  <thead>\n",
       "    <tr style=\"text-align: right;\">\n",
       "      <th></th>\n",
       "      <th>inferior</th>\n",
       "      <th>superior</th>\n",
       "      <th>fi</th>\n",
       "      <th>xi</th>\n",
       "      <th>fi.xi</th>\n",
       "      <th>Fi</th>\n",
       "    </tr>\n",
       "  </thead>\n",
       "  <tbody>\n",
       "    <tr>\n",
       "      <th>0</th>\n",
       "      <td>150</td>\n",
       "      <td>154</td>\n",
       "      <td>5</td>\n",
       "      <td>152.0</td>\n",
       "      <td>760.0</td>\n",
       "      <td>5.0</td>\n",
       "    </tr>\n",
       "    <tr>\n",
       "      <th>1</th>\n",
       "      <td>154</td>\n",
       "      <td>158</td>\n",
       "      <td>9</td>\n",
       "      <td>156.0</td>\n",
       "      <td>1404.0</td>\n",
       "      <td>14.0</td>\n",
       "    </tr>\n",
       "    <tr>\n",
       "      <th>2</th>\n",
       "      <td>158</td>\n",
       "      <td>162</td>\n",
       "      <td>11</td>\n",
       "      <td>160.0</td>\n",
       "      <td>1760.0</td>\n",
       "      <td>25.0</td>\n",
       "    </tr>\n",
       "    <tr>\n",
       "      <th>3</th>\n",
       "      <td>162</td>\n",
       "      <td>166</td>\n",
       "      <td>7</td>\n",
       "      <td>164.0</td>\n",
       "      <td>1148.0</td>\n",
       "      <td>32.0</td>\n",
       "    </tr>\n",
       "    <tr>\n",
       "      <th>4</th>\n",
       "      <td>166</td>\n",
       "      <td>170</td>\n",
       "      <td>5</td>\n",
       "      <td>168.0</td>\n",
       "      <td>840.0</td>\n",
       "      <td>37.0</td>\n",
       "    </tr>\n",
       "    <tr>\n",
       "      <th>5</th>\n",
       "      <td>170</td>\n",
       "      <td>174</td>\n",
       "      <td>3</td>\n",
       "      <td>172.0</td>\n",
       "      <td>516.0</td>\n",
       "      <td>40.0</td>\n",
       "    </tr>\n",
       "  </tbody>\n",
       "</table>\n",
       "</div>"
      ],
      "text/plain": [
       "   inferior  superior  fi     xi   fi.xi    Fi\n",
       "0       150       154   5  152.0   760.0   5.0\n",
       "1       154       158   9  156.0  1404.0  14.0\n",
       "2       158       162  11  160.0  1760.0  25.0\n",
       "3       162       166   7  164.0  1148.0  32.0\n",
       "4       166       170   5  168.0   840.0  37.0\n",
       "5       170       174   3  172.0   516.0  40.0"
      ]
     },
     "execution_count": 43,
     "metadata": {},
     "output_type": "execute_result"
    }
   ],
   "source": [
    "dataset"
   ]
  },
  {
   "cell_type": "code",
   "execution_count": 44,
   "id": "84b3c111",
   "metadata": {},
   "outputs": [],
   "source": [
    "from scipy.stats.mstats import gmean"
   ]
  },
  {
   "cell_type": "code",
   "execution_count": 45,
   "id": "cdd638c8",
   "metadata": {},
   "outputs": [],
   "source": [
    "dados = [160, 155, 165, 167, 169, 171, 182, 155, 159, 167,\n",
    "         164, 157, 177, 187, 199, 147, 167, 150, 149, 160,\n",
    "         144, 155, 178, 199, 190, 156, 146, 178, 177, 158,\n",
    "         177, 187, 157, 145, 167, 176, 167, 177, 155, 167]"
   ]
  },
  {
   "cell_type": "code",
   "execution_count": 46,
   "id": "595f08cc",
   "metadata": {},
   "outputs": [
    {
     "data": {
      "text/plain": [
       "165.9891936835495"
      ]
     },
     "execution_count": 46,
     "metadata": {},
     "output_type": "execute_result"
    }
   ],
   "source": [
    "gmean(dados)"
   ]
  },
  {
   "cell_type": "code",
   "execution_count": 47,
   "id": "a02afb6f",
   "metadata": {},
   "outputs": [],
   "source": [
    "from scipy.stats.mstats import hmean"
   ]
  },
  {
   "cell_type": "code",
   "execution_count": 48,
   "id": "2bb2c9f5",
   "metadata": {},
   "outputs": [
    {
     "data": {
      "text/plain": [
       "165.4148478666247"
      ]
     },
     "execution_count": 48,
     "metadata": {},
     "output_type": "execute_result"
    }
   ],
   "source": [
    "hmean(dados)"
   ]
  },
  {
   "cell_type": "code",
   "execution_count": 49,
   "id": "41938702",
   "metadata": {},
   "outputs": [],
   "source": [
    "def quadraticmean(dados):\n",
    "    return math.sqrt(sum(n * n for n in dados) / len(dados))"
   ]
  },
  {
   "cell_type": "code",
   "execution_count": 50,
   "id": "29825f51",
   "metadata": {},
   "outputs": [
    {
     "data": {
      "text/plain": [
       "167.1710949895346"
      ]
     },
     "execution_count": 50,
     "metadata": {},
     "output_type": "execute_result"
    }
   ],
   "source": [
    "quadraticmean(dados)"
   ]
  },
  {
   "cell_type": "markdown",
   "id": "c729d259",
   "metadata": {},
   "source": [
    "# Quartis"
   ]
  },
  {
   "cell_type": "code",
   "execution_count": 51,
   "id": "93255a22",
   "metadata": {},
   "outputs": [
    {
     "data": {
      "image/png": "[encoded data removed]",
      "text/plain": [
       "<PIL.PngImagePlugin.PngImageFile image mode=P size=389x129 at 0x263901AD280>"
      ]
     },
     "metadata": {},
     "output_type": "display_data"
    }
   ],
   "source": [
    "display.display(Image.open('../recursos/quartis.png'))\n",
    "# Com os Quartis podemos criar subvertores quando sabemos as posições dos itens encontrados dentro dos objetos"
   ]
  },
  {
   "cell_type": "code",
   "execution_count": 52,
   "id": "734457fe",
   "metadata": {},
   "outputs": [],
   "source": [
    "dados_impar = [150, 151, 152, 152, 153, 154, 155, 155, 155]"
   ]
  },
  {
   "cell_type": "code",
   "execution_count": 53,
   "id": "21aa144e",
   "metadata": {},
   "outputs": [
    {
     "data": {
      "text/plain": [
       "153.0"
      ]
     },
     "execution_count": 53,
     "metadata": {},
     "output_type": "execute_result"
    }
   ],
   "source": [
    "np.median(dados_impar) # Q2"
   ]
  },
  {
   "cell_type": "code",
   "execution_count": 54,
   "id": "974faaf7",
   "metadata": {},
   "outputs": [
    {
     "data": {
      "text/plain": [
       "4"
      ]
     },
     "execution_count": 54,
     "metadata": {},
     "output_type": "execute_result"
    }
   ],
   "source": [
    "# a q2 encontra-se na posição 4 (no índice 4)\n",
    "posicao_mediana = math.floor(len(dados_impar) / 2) \n",
    "posicao_mediana"
   ]
  },
  {
   "cell_type": "code",
   "execution_count": 55,
   "id": "2089d06e",
   "metadata": {},
   "outputs": [
    {
     "data": {
      "text/plain": [
       "[150, 151, 152, 152]"
      ]
     },
     "execution_count": 55,
     "metadata": {},
     "output_type": "execute_result"
    }
   ],
   "source": [
    "# selecionando os valores menores que Q2\n",
    "esquerda = dados_impar[0:posicao_mediana]\n",
    "esquerda"
   ]
  },
  {
   "cell_type": "code",
   "execution_count": 56,
   "id": "7e497066",
   "metadata": {},
   "outputs": [
    {
     "data": {
      "text/plain": [
       "151.5"
      ]
     },
     "execution_count": 56,
     "metadata": {},
     "output_type": "execute_result"
    }
   ],
   "source": [
    "# Primeiro Q1\n",
    "np.median(esquerda)\n"
   ]
  },
  {
   "cell_type": "code",
   "execution_count": 57,
   "id": "86decb40",
   "metadata": {},
   "outputs": [
    {
     "data": {
      "text/plain": [
       "[154, 155, 155, 155]"
      ]
     },
     "execution_count": 57,
     "metadata": {},
     "output_type": "execute_result"
    }
   ],
   "source": [
    "# Selecionando os valores do Q3\n",
    "direita = dados_impar[posicao_mediana + 1:]\n",
    "direita"
   ]
  },
  {
   "cell_type": "code",
   "execution_count": 58,
   "id": "d84bc683",
   "metadata": {},
   "outputs": [
    {
     "data": {
      "text/plain": [
       "153.0"
      ]
     },
     "execution_count": 58,
     "metadata": {},
     "output_type": "execute_result"
    }
   ],
   "source": [
    "# Utilizando o numpy podemos extrair o segundo quartil da base de dados\n",
    "\n",
    "np.quantile(dados_impar, 0.5)"
   ]
  },
  {
   "cell_type": "code",
   "execution_count": 59,
   "id": "29c42982",
   "metadata": {},
   "outputs": [
    {
     "data": {
      "text/plain": [
       "155.0"
      ]
     },
     "execution_count": 59,
     "metadata": {},
     "output_type": "execute_result"
    }
   ],
   "source": [
    "# Encontrando o terceiro quantile\n",
    "np.quantile(dados_impar, 0.75)"
   ]
  },
  {
   "cell_type": "code",
   "execution_count": 60,
   "id": "5b53c2dc",
   "metadata": {},
   "outputs": [
    {
     "data": {
      "text/plain": [
       "152.0"
      ]
     },
     "execution_count": 60,
     "metadata": {},
     "output_type": "execute_result"
    }
   ],
   "source": [
    "# Encontrando o primeiro quantile\n",
    "np.quantile(dados_impar, 0.25)"
   ]
  },
  {
   "cell_type": "code",
   "execution_count": 61,
   "id": "f004a31d",
   "metadata": {},
   "outputs": [
    {
     "data": {
      "text/plain": [
       "(155.75, 167.0, 177.0)"
      ]
     },
     "execution_count": 61,
     "metadata": {},
     "output_type": "execute_result"
    }
   ],
   "source": [
    "# Utilizando a base de dados completa\n",
    "np.quantile(dados, 0.25), np.quantile(dados, 0.5), np.quantile(dados, 0.75)"
   ]
  },
  {
   "cell_type": "code",
   "execution_count": 62,
   "id": "00532f51",
   "metadata": {},
   "outputs": [
    {
     "data": {
      "text/plain": [
       "(155.75, 167.0, 177.0)"
      ]
     },
     "execution_count": 62,
     "metadata": {},
     "output_type": "execute_result"
    }
   ],
   "source": [
    "# Utilizando o Scipy\n",
    "\n",
    "stats.scoreatpercentile(dados, 25), stats.scoreatpercentile(dados, 50), stats.scoreatpercentile(dados, 75)"
   ]
  },
  {
   "cell_type": "code",
   "execution_count": 63,
   "id": "d0946cdc",
   "metadata": {},
   "outputs": [],
   "source": [
    "# Utilizando o Pandas"
   ]
  },
  {
   "cell_type": "code",
   "execution_count": 64,
   "id": "0710de21",
   "metadata": {},
   "outputs": [
    {
     "data": {
      "text/html": [
       "<div>\n",
       "<style scoped>\n",
       "    .dataframe tbody tr th:only-of-type {\n",
       "        vertical-align: middle;\n",
       "    }\n",
       "\n",
       "    .dataframe tbody tr th {\n",
       "        vertical-align: top;\n",
       "    }\n",
       "\n",
       "    .dataframe thead th {\n",
       "        text-align: right;\n",
       "    }\n",
       "</style>\n",
       "<table border=\"1\" class=\"dataframe\">\n",
       "  <thead>\n",
       "    <tr style=\"text-align: right;\">\n",
       "      <th></th>\n",
       "      <th>0</th>\n",
       "    </tr>\n",
       "  </thead>\n",
       "  <tbody>\n",
       "    <tr>\n",
       "      <th>0</th>\n",
       "      <td>150</td>\n",
       "    </tr>\n",
       "    <tr>\n",
       "      <th>1</th>\n",
       "      <td>151</td>\n",
       "    </tr>\n",
       "    <tr>\n",
       "      <th>2</th>\n",
       "      <td>152</td>\n",
       "    </tr>\n",
       "    <tr>\n",
       "      <th>3</th>\n",
       "      <td>152</td>\n",
       "    </tr>\n",
       "    <tr>\n",
       "      <th>4</th>\n",
       "      <td>153</td>\n",
       "    </tr>\n",
       "    <tr>\n",
       "      <th>5</th>\n",
       "      <td>154</td>\n",
       "    </tr>\n",
       "    <tr>\n",
       "      <th>6</th>\n",
       "      <td>155</td>\n",
       "    </tr>\n",
       "    <tr>\n",
       "      <th>7</th>\n",
       "      <td>155</td>\n",
       "    </tr>\n",
       "    <tr>\n",
       "      <th>8</th>\n",
       "      <td>155</td>\n",
       "    </tr>\n",
       "  </tbody>\n",
       "</table>\n",
       "</div>"
      ],
      "text/plain": [
       "     0\n",
       "0  150\n",
       "1  151\n",
       "2  152\n",
       "3  152\n",
       "4  153\n",
       "5  154\n",
       "6  155\n",
       "7  155\n",
       "8  155"
      ]
     },
     "execution_count": 64,
     "metadata": {},
     "output_type": "execute_result"
    }
   ],
   "source": [
    "dados = pd.DataFrame(dados_impar)\n",
    "dados"
   ]
  },
  {
   "cell_type": "code",
   "execution_count": 65,
   "id": "538ef44a",
   "metadata": {},
   "outputs": [
    {
     "data": {
      "text/html": [
       "<div>\n",
       "<style scoped>\n",
       "    .dataframe tbody tr th:only-of-type {\n",
       "        vertical-align: middle;\n",
       "    }\n",
       "\n",
       "    .dataframe tbody tr th {\n",
       "        vertical-align: top;\n",
       "    }\n",
       "\n",
       "    .dataframe thead th {\n",
       "        text-align: right;\n",
       "    }\n",
       "</style>\n",
       "<table border=\"1\" class=\"dataframe\">\n",
       "  <thead>\n",
       "    <tr style=\"text-align: right;\">\n",
       "      <th></th>\n",
       "      <th>0</th>\n",
       "    </tr>\n",
       "  </thead>\n",
       "  <tbody>\n",
       "    <tr>\n",
       "      <th>0</th>\n",
       "      <td>150</td>\n",
       "    </tr>\n",
       "    <tr>\n",
       "      <th>1</th>\n",
       "      <td>151</td>\n",
       "    </tr>\n",
       "    <tr>\n",
       "      <th>2</th>\n",
       "      <td>152</td>\n",
       "    </tr>\n",
       "    <tr>\n",
       "      <th>3</th>\n",
       "      <td>152</td>\n",
       "    </tr>\n",
       "    <tr>\n",
       "      <th>4</th>\n",
       "      <td>153</td>\n",
       "    </tr>\n",
       "  </tbody>\n",
       "</table>\n",
       "</div>"
      ],
      "text/plain": [
       "     0\n",
       "0  150\n",
       "1  151\n",
       "2  152\n",
       "3  152\n",
       "4  153"
      ]
     },
     "execution_count": 65,
     "metadata": {},
     "output_type": "execute_result"
    }
   ],
   "source": [
    "dados.head()"
   ]
  },
  {
   "cell_type": "code",
   "execution_count": 66,
   "id": "96734655",
   "metadata": {},
   "outputs": [
    {
     "data": {
      "text/html": [
       "<div>\n",
       "<style scoped>\n",
       "    .dataframe tbody tr th:only-of-type {\n",
       "        vertical-align: middle;\n",
       "    }\n",
       "\n",
       "    .dataframe tbody tr th {\n",
       "        vertical-align: top;\n",
       "    }\n",
       "\n",
       "    .dataframe thead th {\n",
       "        text-align: right;\n",
       "    }\n",
       "</style>\n",
       "<table border=\"1\" class=\"dataframe\">\n",
       "  <thead>\n",
       "    <tr style=\"text-align: right;\">\n",
       "      <th></th>\n",
       "      <th>0</th>\n",
       "    </tr>\n",
       "  </thead>\n",
       "  <tbody>\n",
       "    <tr>\n",
       "      <th>0.25</th>\n",
       "      <td>152.0</td>\n",
       "    </tr>\n",
       "    <tr>\n",
       "      <th>0.50</th>\n",
       "      <td>153.0</td>\n",
       "    </tr>\n",
       "    <tr>\n",
       "      <th>0.75</th>\n",
       "      <td>155.0</td>\n",
       "    </tr>\n",
       "  </tbody>\n",
       "</table>\n",
       "</div>"
      ],
      "text/plain": [
       "          0\n",
       "0.25  152.0\n",
       "0.50  153.0\n",
       "0.75  155.0"
      ]
     },
     "execution_count": 66,
     "metadata": {},
     "output_type": "execute_result"
    }
   ],
   "source": [
    "dados.quantile([0.25, 0.5, 0.75])"
   ]
  },
  {
   "cell_type": "code",
   "execution_count": 67,
   "id": "6718f662",
   "metadata": {},
   "outputs": [
    {
     "data": {
      "text/html": [
       "<div>\n",
       "<style scoped>\n",
       "    .dataframe tbody tr th:only-of-type {\n",
       "        vertical-align: middle;\n",
       "    }\n",
       "\n",
       "    .dataframe tbody tr th {\n",
       "        vertical-align: top;\n",
       "    }\n",
       "\n",
       "    .dataframe thead th {\n",
       "        text-align: right;\n",
       "    }\n",
       "</style>\n",
       "<table border=\"1\" class=\"dataframe\">\n",
       "  <thead>\n",
       "    <tr style=\"text-align: right;\">\n",
       "      <th></th>\n",
       "      <th>0</th>\n",
       "    </tr>\n",
       "  </thead>\n",
       "  <tbody>\n",
       "    <tr>\n",
       "      <th>count</th>\n",
       "      <td>9.000000</td>\n",
       "    </tr>\n",
       "    <tr>\n",
       "      <th>mean</th>\n",
       "      <td>153.000000</td>\n",
       "    </tr>\n",
       "    <tr>\n",
       "      <th>std</th>\n",
       "      <td>1.870829</td>\n",
       "    </tr>\n",
       "    <tr>\n",
       "      <th>min</th>\n",
       "      <td>150.000000</td>\n",
       "    </tr>\n",
       "    <tr>\n",
       "      <th>25%</th>\n",
       "      <td>152.000000</td>\n",
       "    </tr>\n",
       "    <tr>\n",
       "      <th>50%</th>\n",
       "      <td>153.000000</td>\n",
       "    </tr>\n",
       "    <tr>\n",
       "      <th>75%</th>\n",
       "      <td>155.000000</td>\n",
       "    </tr>\n",
       "    <tr>\n",
       "      <th>max</th>\n",
       "      <td>155.000000</td>\n",
       "    </tr>\n",
       "  </tbody>\n",
       "</table>\n",
       "</div>"
      ],
      "text/plain": [
       "                0\n",
       "count    9.000000\n",
       "mean   153.000000\n",
       "std      1.870829\n",
       "min    150.000000\n",
       "25%    152.000000\n",
       "50%    153.000000\n",
       "75%    155.000000\n",
       "max    155.000000"
      ]
     },
     "execution_count": 67,
     "metadata": {},
     "output_type": "execute_result"
    }
   ],
   "source": [
    "dados.describe()"
   ]
  },
  {
   "cell_type": "code",
   "execution_count": 68,
   "id": "46ce3d66",
   "metadata": {},
   "outputs": [
    {
     "data": {
      "text/html": [
       "<div>\n",
       "<style scoped>\n",
       "    .dataframe tbody tr th:only-of-type {\n",
       "        vertical-align: middle;\n",
       "    }\n",
       "\n",
       "    .dataframe tbody tr th {\n",
       "        vertical-align: top;\n",
       "    }\n",
       "\n",
       "    .dataframe thead th {\n",
       "        text-align: right;\n",
       "    }\n",
       "</style>\n",
       "<table border=\"1\" class=\"dataframe\">\n",
       "  <thead>\n",
       "    <tr style=\"text-align: right;\">\n",
       "      <th></th>\n",
       "      <th>inferior</th>\n",
       "      <th>superior</th>\n",
       "      <th>fi</th>\n",
       "      <th>xi</th>\n",
       "      <th>fi.xi</th>\n",
       "      <th>Fi</th>\n",
       "    </tr>\n",
       "  </thead>\n",
       "  <tbody>\n",
       "    <tr>\n",
       "      <th>0</th>\n",
       "      <td>150</td>\n",
       "      <td>154</td>\n",
       "      <td>5</td>\n",
       "      <td>152.0</td>\n",
       "      <td>760.0</td>\n",
       "      <td>5.0</td>\n",
       "    </tr>\n",
       "    <tr>\n",
       "      <th>1</th>\n",
       "      <td>154</td>\n",
       "      <td>158</td>\n",
       "      <td>9</td>\n",
       "      <td>156.0</td>\n",
       "      <td>1404.0</td>\n",
       "      <td>14.0</td>\n",
       "    </tr>\n",
       "    <tr>\n",
       "      <th>2</th>\n",
       "      <td>158</td>\n",
       "      <td>162</td>\n",
       "      <td>11</td>\n",
       "      <td>160.0</td>\n",
       "      <td>1760.0</td>\n",
       "      <td>25.0</td>\n",
       "    </tr>\n",
       "    <tr>\n",
       "      <th>3</th>\n",
       "      <td>162</td>\n",
       "      <td>166</td>\n",
       "      <td>7</td>\n",
       "      <td>164.0</td>\n",
       "      <td>1148.0</td>\n",
       "      <td>32.0</td>\n",
       "    </tr>\n",
       "    <tr>\n",
       "      <th>4</th>\n",
       "      <td>166</td>\n",
       "      <td>170</td>\n",
       "      <td>5</td>\n",
       "      <td>168.0</td>\n",
       "      <td>840.0</td>\n",
       "      <td>37.0</td>\n",
       "    </tr>\n",
       "    <tr>\n",
       "      <th>5</th>\n",
       "      <td>170</td>\n",
       "      <td>174</td>\n",
       "      <td>3</td>\n",
       "      <td>172.0</td>\n",
       "      <td>516.0</td>\n",
       "      <td>40.0</td>\n",
       "    </tr>\n",
       "  </tbody>\n",
       "</table>\n",
       "</div>"
      ],
      "text/plain": [
       "   inferior  superior  fi     xi   fi.xi    Fi\n",
       "0       150       154   5  152.0   760.0   5.0\n",
       "1       154       158   9  156.0  1404.0  14.0\n",
       "2       158       162  11  160.0  1760.0  25.0\n",
       "3       162       166   7  164.0  1148.0  32.0\n",
       "4       166       170   5  168.0   840.0  37.0\n",
       "5       170       174   3  172.0   516.0  40.0"
      ]
     },
     "execution_count": 68,
     "metadata": {},
     "output_type": "execute_result"
    }
   ],
   "source": [
    "dataset"
   ]
  },
  {
   "cell_type": "code",
   "execution_count": 69,
   "id": "9307d3c6",
   "metadata": {},
   "outputs": [],
   "source": [
    "def get_quartil(dataframe, q1 = True):\n",
    "  if q1 == True:\n",
    "    fi_4 = dataset['fi'].sum() / 4\n",
    "  else:\n",
    "    fi_4 = (3 * dataset['fi'].sum()) / 4\n",
    "  \n",
    "  limite_inferior, frequencia_classe, id_frequencia_anterior = 0, 0, 0\n",
    "  for linha in dataset.iterrows():\n",
    "    limite_inferior = linha[1][0]\n",
    "    frequencia_classe = linha[1][2]\n",
    "    id_frequencia_anterior = linha[0]\n",
    "    if linha[1][5] >= fi_4:\n",
    "      id_frequencia_anterior -= 1\n",
    "      break\n",
    "  Fi_anterior = dataset.iloc[[id_frequencia_anterior]]['Fi'].values[0]\n",
    "  q = limite_inferior + ((fi_4 - Fi_anterior) * 4) / frequencia_classe\n",
    "\n",
    "  return q"
   ]
  },
  {
   "cell_type": "code",
   "execution_count": 70,
   "id": "3991e469",
   "metadata": {},
   "outputs": [
    {
     "data": {
      "text/plain": [
       "(156.22222222222223, 164.85714285714286)"
      ]
     },
     "execution_count": 70,
     "metadata": {},
     "output_type": "execute_result"
    }
   ],
   "source": [
    "get_quartil(dataset), get_quartil(dataset, q1 = False)"
   ]
  },
  {
   "cell_type": "markdown",
   "id": "c9c4666c",
   "metadata": {},
   "source": [
    "### Percentis"
   ]
  },
  {
   "cell_type": "code",
   "execution_count": 71,
   "id": "982fa281",
   "metadata": {},
   "outputs": [
    {
     "data": {
      "text/plain": [
       "153.0"
      ]
     },
     "execution_count": 71,
     "metadata": {},
     "output_type": "execute_result"
    }
   ],
   "source": [
    "np.median(dados)"
   ]
  },
  {
   "cell_type": "code",
   "execution_count": 72,
   "id": "23f0066f",
   "metadata": {},
   "outputs": [
    {
     "data": {
      "text/plain": [
       "153.0"
      ]
     },
     "execution_count": 72,
     "metadata": {},
     "output_type": "execute_result"
    }
   ],
   "source": [
    "np.percentile(dados, 50)"
   ]
  },
  {
   "cell_type": "code",
   "execution_count": 73,
   "id": "88d85f1d",
   "metadata": {},
   "outputs": [
    {
     "data": {
      "text/plain": [
       "(150.4, 151.2, 154.2)"
      ]
     },
     "execution_count": 73,
     "metadata": {},
     "output_type": "execute_result"
    }
   ],
   "source": [
    "np.percentile(dados, 5), np.percentile(dados, 15), np.percentile(dados, 65)"
   ]
  },
  {
   "cell_type": "markdown",
   "id": "644bd7de",
   "metadata": {},
   "source": [
    "# EXERCICIO\n",
    "\n",
    "O objetivo desta tarefa é gerar as estatísticas para o atributo age da base de dados do censo\n",
    "\n",
    "Calcule a: \n",
    "- média aritmética, OK \n",
    "- média harmônica, OK \n",
    "- média geométrica, OK \n",
    "- média quadrática, OK\n",
    "- a mediana, OK\n",
    "- a moda OK\n",
    "\n",
    "*Compare os resultados*"
   ]
  },
  {
   "cell_type": "code",
   "execution_count": 74,
   "id": "dd257bcf",
   "metadata": {},
   "outputs": [
    {
     "data": {
      "text/html": [
       "<div>\n",
       "<style scoped>\n",
       "    .dataframe tbody tr th:only-of-type {\n",
       "        vertical-align: middle;\n",
       "    }\n",
       "\n",
       "    .dataframe tbody tr th {\n",
       "        vertical-align: top;\n",
       "    }\n",
       "\n",
       "    .dataframe thead th {\n",
       "        text-align: right;\n",
       "    }\n",
       "</style>\n",
       "<table border=\"1\" class=\"dataframe\">\n",
       "  <thead>\n",
       "    <tr style=\"text-align: right;\">\n",
       "      <th></th>\n",
       "      <th>age</th>\n",
       "      <th>workclass</th>\n",
       "      <th>final-weight</th>\n",
       "      <th>education</th>\n",
       "      <th>education-num</th>\n",
       "      <th>marital-status</th>\n",
       "      <th>occupation</th>\n",
       "      <th>relationship</th>\n",
       "      <th>race</th>\n",
       "      <th>sex</th>\n",
       "      <th>capital-gain</th>\n",
       "      <th>capital-loos</th>\n",
       "      <th>hour-per-week</th>\n",
       "      <th>native-country</th>\n",
       "      <th>income</th>\n",
       "    </tr>\n",
       "  </thead>\n",
       "  <tbody>\n",
       "    <tr>\n",
       "      <th>0</th>\n",
       "      <td>39</td>\n",
       "      <td>State-gov</td>\n",
       "      <td>77516</td>\n",
       "      <td>Bachelors</td>\n",
       "      <td>13</td>\n",
       "      <td>Never-married</td>\n",
       "      <td>Adm-clerical</td>\n",
       "      <td>Not-in-family</td>\n",
       "      <td>White</td>\n",
       "      <td>Male</td>\n",
       "      <td>2174</td>\n",
       "      <td>0</td>\n",
       "      <td>40</td>\n",
       "      <td>United-States</td>\n",
       "      <td>&lt;=50K</td>\n",
       "    </tr>\n",
       "    <tr>\n",
       "      <th>1</th>\n",
       "      <td>50</td>\n",
       "      <td>Self-emp-not-inc</td>\n",
       "      <td>83311</td>\n",
       "      <td>Bachelors</td>\n",
       "      <td>13</td>\n",
       "      <td>Married-civ-spouse</td>\n",
       "      <td>Exec-managerial</td>\n",
       "      <td>Husband</td>\n",
       "      <td>White</td>\n",
       "      <td>Male</td>\n",
       "      <td>0</td>\n",
       "      <td>0</td>\n",
       "      <td>13</td>\n",
       "      <td>United-States</td>\n",
       "      <td>&lt;=50K</td>\n",
       "    </tr>\n",
       "    <tr>\n",
       "      <th>2</th>\n",
       "      <td>38</td>\n",
       "      <td>Private</td>\n",
       "      <td>215646</td>\n",
       "      <td>HS-grad</td>\n",
       "      <td>9</td>\n",
       "      <td>Divorced</td>\n",
       "      <td>Handlers-cleaners</td>\n",
       "      <td>Not-in-family</td>\n",
       "      <td>White</td>\n",
       "      <td>Male</td>\n",
       "      <td>0</td>\n",
       "      <td>0</td>\n",
       "      <td>40</td>\n",
       "      <td>United-States</td>\n",
       "      <td>&lt;=50K</td>\n",
       "    </tr>\n",
       "    <tr>\n",
       "      <th>3</th>\n",
       "      <td>53</td>\n",
       "      <td>Private</td>\n",
       "      <td>234721</td>\n",
       "      <td>11th</td>\n",
       "      <td>7</td>\n",
       "      <td>Married-civ-spouse</td>\n",
       "      <td>Handlers-cleaners</td>\n",
       "      <td>Husband</td>\n",
       "      <td>Black</td>\n",
       "      <td>Male</td>\n",
       "      <td>0</td>\n",
       "      <td>0</td>\n",
       "      <td>40</td>\n",
       "      <td>United-States</td>\n",
       "      <td>&lt;=50K</td>\n",
       "    </tr>\n",
       "    <tr>\n",
       "      <th>4</th>\n",
       "      <td>28</td>\n",
       "      <td>Private</td>\n",
       "      <td>338409</td>\n",
       "      <td>Bachelors</td>\n",
       "      <td>13</td>\n",
       "      <td>Married-civ-spouse</td>\n",
       "      <td>Prof-specialty</td>\n",
       "      <td>Wife</td>\n",
       "      <td>Black</td>\n",
       "      <td>Female</td>\n",
       "      <td>0</td>\n",
       "      <td>0</td>\n",
       "      <td>40</td>\n",
       "      <td>Cuba</td>\n",
       "      <td>&lt;=50K</td>\n",
       "    </tr>\n",
       "  </tbody>\n",
       "</table>\n",
       "</div>"
      ],
      "text/plain": [
       "   age          workclass  final-weight   education  education-num  \\\n",
       "0   39          State-gov         77516   Bachelors             13   \n",
       "1   50   Self-emp-not-inc         83311   Bachelors             13   \n",
       "2   38            Private        215646     HS-grad              9   \n",
       "3   53            Private        234721        11th              7   \n",
       "4   28            Private        338409   Bachelors             13   \n",
       "\n",
       "        marital-status          occupation    relationship    race      sex  \\\n",
       "0        Never-married        Adm-clerical   Not-in-family   White     Male   \n",
       "1   Married-civ-spouse     Exec-managerial         Husband   White     Male   \n",
       "2             Divorced   Handlers-cleaners   Not-in-family   White     Male   \n",
       "3   Married-civ-spouse   Handlers-cleaners         Husband   Black     Male   \n",
       "4   Married-civ-spouse      Prof-specialty            Wife   Black   Female   \n",
       "\n",
       "   capital-gain  capital-loos  hour-per-week  native-country  income  \n",
       "0          2174             0             40   United-States   <=50K  \n",
       "1             0             0             13   United-States   <=50K  \n",
       "2             0             0             40   United-States   <=50K  \n",
       "3             0             0             40   United-States   <=50K  \n",
       "4             0             0             40            Cuba   <=50K  "
      ]
     },
     "execution_count": 74,
     "metadata": {},
     "output_type": "execute_result"
    }
   ],
   "source": [
    "censo = pd.read_csv('../Bases de dados/census.csv')\n",
    "censo.head()"
   ]
  },
  {
   "cell_type": "code",
   "execution_count": 75,
   "id": "67eb8b96",
   "metadata": {},
   "outputs": [
    {
     "data": {
      "text/plain": [
       "36    898\n",
       "31    888\n",
       "34    886\n",
       "23    877\n",
       "35    876\n",
       "     ... \n",
       "83      6\n",
       "88      3\n",
       "85      3\n",
       "86      1\n",
       "87      1\n",
       "Name: age, Length: 73, dtype: int64"
      ]
     },
     "execution_count": 75,
     "metadata": {},
     "output_type": "execute_result"
    }
   ],
   "source": [
    "censo['age'].value_counts()"
   ]
  },
  {
   "cell_type": "code",
   "execution_count": 76,
   "id": "766a8541",
   "metadata": {},
   "outputs": [
    {
     "data": {
      "text/plain": [
       "38.58164675532078"
      ]
     },
     "execution_count": 76,
     "metadata": {},
     "output_type": "execute_result"
    }
   ],
   "source": [
    "censo['age'].mean()"
   ]
  },
  {
   "cell_type": "code",
   "execution_count": 77,
   "id": "73d78ce5",
   "metadata": {},
   "outputs": [
    {
     "data": {
      "text/plain": [
       "33.91874139089839"
      ]
     },
     "execution_count": 77,
     "metadata": {},
     "output_type": "execute_result"
    }
   ],
   "source": [
    "hmean(censo['age'])"
   ]
  },
  {
   "cell_type": "code",
   "execution_count": 78,
   "id": "8af9ab3b",
   "metadata": {},
   "outputs": [
    {
     "data": {
      "text/plain": [
       "36.210879158177256"
      ]
     },
     "execution_count": 78,
     "metadata": {},
     "output_type": "execute_result"
    }
   ],
   "source": [
    "gmean(censo['age'])"
   ]
  },
  {
   "cell_type": "code",
   "execution_count": 79,
   "id": "08d3af1c",
   "metadata": {},
   "outputs": [
    {
     "data": {
      "text/plain": [
       "40.9218664329987"
      ]
     },
     "execution_count": 79,
     "metadata": {},
     "output_type": "execute_result"
    }
   ],
   "source": [
    "quadraticmean(censo['age'])"
   ]
  },
  {
   "cell_type": "code",
   "execution_count": 80,
   "id": "7c6c03ba",
   "metadata": {},
   "outputs": [
    {
     "data": {
      "text/plain": [
       "37.0"
      ]
     },
     "execution_count": 80,
     "metadata": {},
     "output_type": "execute_result"
    }
   ],
   "source": [
    "np.median(censo['age'])"
   ]
  },
  {
   "cell_type": "code",
   "execution_count": 81,
   "id": "83067211",
   "metadata": {},
   "outputs": [
    {
     "data": {
      "text/plain": [
       "36"
      ]
     },
     "execution_count": 81,
     "metadata": {},
     "output_type": "execute_result"
    }
   ],
   "source": [
    "statistics.mode(censo['age'])"
   ]
  },
  {
   "cell_type": "code",
   "execution_count": 82,
   "id": "b697795f",
   "metadata": {},
   "outputs": [
    {
     "data": {
      "text/plain": [
       "count    32561.000000\n",
       "mean        38.581647\n",
       "std         13.640433\n",
       "min         17.000000\n",
       "25%         28.000000\n",
       "50%         37.000000\n",
       "75%         48.000000\n",
       "max         90.000000\n",
       "Name: age, dtype: float64"
      ]
     },
     "execution_count": 82,
     "metadata": {},
     "output_type": "execute_result"
    }
   ],
   "source": [
    "censo['age'].describe()"
   ]
  },
  {
   "cell_type": "code",
   "execution_count": 83,
   "id": "1d48d604",
   "metadata": {},
   "outputs": [
    {
     "data": {
      "text/plain": [
       "0.25    28.0\n",
       "0.50    37.0\n",
       "0.75    48.0\n",
       "Name: age, dtype: float64"
      ]
     },
     "execution_count": 83,
     "metadata": {},
     "output_type": "execute_result"
    }
   ],
   "source": [
    "censo['age'].quantile([0.25, 0.5, 0.75])"
   ]
  },
  {
   "cell_type": "code",
   "execution_count": 84,
   "id": "5eb878d7",
   "metadata": {},
   "outputs": [],
   "source": [
    "import matplotlib.pyplot as plt\n",
    "import seaborn as sns"
   ]
  },
  {
   "cell_type": "code",
   "execution_count": 85,
   "id": "def9cf99",
   "metadata": {},
   "outputs": [
    {
     "data": {
      "text/plain": [
       "<AxesSubplot:>"
      ]
     },
     "execution_count": 85,
     "metadata": {},
     "output_type": "execute_result"
    },
    {
     "data": {
      "image/png": "[encoded data removed]",
      "text/plain": [
       "<Figure size 432x288 with 1 Axes>"
      ]
     },
     "metadata": {
      "needs_background": "light"
     },
     "output_type": "display_data"
    }
   ],
   "source": [
    "censo['age'].hist()"
   ]
  },
  {
   "cell_type": "code",
   "execution_count": 86,
   "id": "4fedd321",
   "metadata": {},
   "outputs": [
    {
     "name": "stderr",
     "output_type": "stream",
     "text": [
      "C:\\Users\\Matheus\\anaconda3\\lib\\site-packages\\seaborn\\distributions.py:2619: FutureWarning: `distplot` is a deprecated function and will be removed in a future version. Please adapt your code to use either `displot` (a figure-level function with similar flexibility) or `histplot` (an axes-level function for histograms).\n",
      "  warnings.warn(msg, FutureWarning)\n"
     ]
    },
    {
     "data": {
      "image/png": "[encoded data removed]",
      "text/plain": [
       "<Figure size 432x288 with 1 Axes>"
      ]
     },
     "metadata": {
      "needs_background": "light"
     },
     "output_type": "display_data"
    }
   ],
   "source": [
    "sns.distplot(censo['age'], hist=True);"
   ]
  },
  {
   "cell_type": "code",
   "execution_count": 87,
   "id": "15d70ed6",
   "metadata": {},
   "outputs": [
    {
     "data": {
      "image/png": "[encoded data removed]",
      "text/plain": [
       "<Figure size 360x360 with 1 Axes>"
      ]
     },
     "metadata": {
      "needs_background": "light"
     },
     "output_type": "display_data"
    }
   ],
   "source": [
    "sns.displot(censo['age'], element=\"step\");"
   ]
  },
  {
   "cell_type": "markdown",
   "id": "e6cfcd3e",
   "metadata": {},
   "source": [
    "### Medidas de Dispersão"
   ]
  },
  {
   "cell_type": "code",
   "execution_count": 88,
   "id": "bcf0694f",
   "metadata": {},
   "outputs": [],
   "source": [
    "# Medidas de Dispersão\n",
    "# Amplitude Total\n",
    "# Diferença Interquartil"
   ]
  },
  {
   "cell_type": "code",
   "execution_count": 89,
   "id": "dfac6500",
   "metadata": {},
   "outputs": [
    {
     "data": {
      "text/html": [
       "<div>\n",
       "<style scoped>\n",
       "    .dataframe tbody tr th:only-of-type {\n",
       "        vertical-align: middle;\n",
       "    }\n",
       "\n",
       "    .dataframe tbody tr th {\n",
       "        vertical-align: top;\n",
       "    }\n",
       "\n",
       "    .dataframe thead th {\n",
       "        text-align: right;\n",
       "    }\n",
       "</style>\n",
       "<table border=\"1\" class=\"dataframe\">\n",
       "  <thead>\n",
       "    <tr style=\"text-align: right;\">\n",
       "      <th></th>\n",
       "      <th>0</th>\n",
       "    </tr>\n",
       "  </thead>\n",
       "  <tbody>\n",
       "    <tr>\n",
       "      <th>0</th>\n",
       "      <td>150</td>\n",
       "    </tr>\n",
       "    <tr>\n",
       "      <th>1</th>\n",
       "      <td>151</td>\n",
       "    </tr>\n",
       "    <tr>\n",
       "      <th>2</th>\n",
       "      <td>152</td>\n",
       "    </tr>\n",
       "    <tr>\n",
       "      <th>3</th>\n",
       "      <td>152</td>\n",
       "    </tr>\n",
       "    <tr>\n",
       "      <th>4</th>\n",
       "      <td>153</td>\n",
       "    </tr>\n",
       "    <tr>\n",
       "      <th>5</th>\n",
       "      <td>154</td>\n",
       "    </tr>\n",
       "    <tr>\n",
       "      <th>6</th>\n",
       "      <td>155</td>\n",
       "    </tr>\n",
       "    <tr>\n",
       "      <th>7</th>\n",
       "      <td>155</td>\n",
       "    </tr>\n",
       "    <tr>\n",
       "      <th>8</th>\n",
       "      <td>155</td>\n",
       "    </tr>\n",
       "  </tbody>\n",
       "</table>\n",
       "</div>"
      ],
      "text/plain": [
       "     0\n",
       "0  150\n",
       "1  151\n",
       "2  152\n",
       "3  152\n",
       "4  153\n",
       "5  154\n",
       "6  155\n",
       "7  155\n",
       "8  155"
      ]
     },
     "execution_count": 89,
     "metadata": {},
     "output_type": "execute_result"
    }
   ],
   "source": [
    "dados"
   ]
  },
  {
   "cell_type": "code",
   "execution_count": 92,
   "id": "853be579",
   "metadata": {},
   "outputs": [
    {
     "data": {
      "text/plain": [
       "0    5\n",
       "dtype: int64"
      ]
     },
     "execution_count": 92,
     "metadata": {},
     "output_type": "execute_result"
    }
   ],
   "source": [
    "amplitude = dados.max() - dados.min()\n",
    "amplitude"
   ]
  },
  {
   "cell_type": "code",
   "execution_count": 94,
   "id": "612c7712",
   "metadata": {},
   "outputs": [
    {
     "data": {
      "text/plain": [
       "3.0"
      ]
     },
     "execution_count": 94,
     "metadata": {},
     "output_type": "execute_result"
    }
   ],
   "source": [
    "dif_interquartil = np.quantile(dados, 0.75) - np.quantile(dados, 0.25)\n",
    "dif_interquartil"
   ]
  },
  {
   "cell_type": "code",
   "execution_count": null,
   "id": "02eac241",
   "metadata": {},
   "outputs": [],
   "source": []
  },
  {
   "cell_type": "code",
   "execution_count": null,
   "id": "ed1d53c2",
   "metadata": {},
   "outputs": [],
   "source": []
  },
  {
   "cell_type": "code",
   "execution_count": null,
   "id": "cb631f10",
   "metadata": {},
   "outputs": [],
   "source": []
  },
  {
   "cell_type": "code",
   "execution_count": null,
   "id": "00048575",
   "metadata": {},
   "outputs": [],
   "source": []
  },
  {
   "cell_type": "code",
   "execution_count": null,
   "id": "01764d9f",
   "metadata": {},
   "outputs": [],
   "source": []
  }
 ],
 "metadata": {
  "kernelspec": {
   "display_name": "Python 3 (ipykernel)",
   "language": "python",
   "name": "python3"
  },
  "language_info": {
   "codemirror_mode": {
    "name": "ipython",
    "version": 3
   },
   "file_extension": ".py",
   "mimetype": "text/x-python",
   "name": "python",
   "nbconvert_exporter": "python",
   "pygments_lexer": "ipython3",
   "version": "3.9.12"
  }
 },
 "nbformat": 4,
 "nbformat_minor": 5
}
