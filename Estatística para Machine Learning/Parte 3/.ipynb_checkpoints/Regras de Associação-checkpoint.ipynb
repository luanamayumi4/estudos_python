{
 "cells": [
  {
   "cell_type": "markdown",
   "id": "6a4743d5",
   "metadata": {},
   "source": [
    "### Introdução a regras de associação"
   ]
  },
  {
   "cell_type": "code",
   "execution_count": null,
   "id": "f2bfc461",
   "metadata": {},
   "outputs": [],
   "source": [
    "# Algoritmo Apriori\n",
    "\n",
    "import pandas as pd\n",
    "\n",
    "censo = pd.read_csv('../Bases de dados/census.')"
   ]
  },
  {
   "cell_type": "code",
   "execution_count": null,
   "id": "eeb59dce",
   "metadata": {},
   "outputs": [],
   "source": []
  },
  {
   "cell_type": "code",
   "execution_count": null,
   "id": "9695e0eb",
   "metadata": {},
   "outputs": [],
   "source": []
  },
  {
   "cell_type": "code",
   "execution_count": null,
   "id": "314539ed",
   "metadata": {},
   "outputs": [],
   "source": []
  },
  {
   "cell_type": "code",
   "execution_count": null,
   "id": "fca8b659",
   "metadata": {},
   "outputs": [],
   "source": []
  },
  {
   "cell_type": "code",
   "execution_count": null,
   "id": "96eff505",
   "metadata": {},
   "outputs": [],
   "source": []
  }
 ],
 "metadata": {
  "kernelspec": {
   "display_name": "Python 3 (ipykernel)",
   "language": "python",
   "name": "python3"
  },
  "language_info": {
   "codemirror_mode": {
    "name": "ipython",
    "version": 3
   },
   "file_extension": ".py",
   "mimetype": "text/x-python",
   "name": "python",
   "nbconvert_exporter": "python",
   "pygments_lexer": "ipython3",
   "version": "3.9.12"
  }
 },
 "nbformat": 4,
 "nbformat_minor": 5
}
