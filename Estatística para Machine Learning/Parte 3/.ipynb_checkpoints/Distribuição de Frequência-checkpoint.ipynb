{
 "cells": [
  {
   "cell_type": "markdown",
   "id": "caed0165",
   "metadata": {},
   "source": [
    "### Como transformar variáveis numéricas em categorias"
   ]
  },
  {
   "cell_type": "markdown",
   "id": "4896650e",
   "metadata": {},
   "source": [
    "### Tabela Primitiva"
   ]
  },
  {
   "cell_type": "code",
   "execution_count": 1,
   "id": "31898f3c",
   "metadata": {},
   "outputs": [],
   "source": [
    "altura = [160, 155, 165, 167, 169, 171, 182, 155, 159, 167,\n",
    "         164, 157, 177, 187, 199, 147, 167, 150, 149, 160,\n",
    "         144, 155, 178, 199, 190, 156, 146, 178, 177, 158,\n",
    "         177, 187, 157, 145, 167, 176, 167, 177, 155, 167]"
   ]
  },
  {
   "cell_type": "code",
   "execution_count": 6,
   "id": "165dbde1",
   "metadata": {},
   "outputs": [],
   "source": [
    "altura.sort()"
   ]
  },
  {
   "cell_type": "code",
   "execution_count": 7,
   "id": "678c1e04",
   "metadata": {},
   "outputs": [
    {
     "name": "stdout",
     "output_type": "stream",
     "text": [
      "[144, 145, 146, 147, 149, 150, 155, 155, 155, 155, 156, 157, 157, 158, 159, 160, 160, 164, 165, 167, 167, 167, 167, 167, 167, 169, 171, 176, 177, 177, 177, 177, 178, 178, 182, 187, 187, 190, 199, 199]\n"
     ]
    }
   ],
   "source": [
    "print(altura)"
   ]
  },
  {
   "cell_type": "code",
   "execution_count": 8,
   "id": "227a8cbb",
   "metadata": {},
   "outputs": [],
   "source": [
    "# Fórmula de Sturges (i = 1 + 3.3Log n), onde n é a quantidade total de elementos"
   ]
  },
  {
   "cell_type": "code",
   "execution_count": 9,
   "id": "f3dd6645",
   "metadata": {},
   "outputs": [],
   "source": [
    "import numpy as np\n",
    "import matplotlib.pyplot as plt\n",
    "import pandas as pd\n",
    "import seaborn as sns"
   ]
  },
  {
   "cell_type": "code",
   "execution_count": 11,
   "id": "c8533751",
   "metadata": {},
   "outputs": [
    {
     "data": {
      "text/plain": [
       "array([160, 155, 165, 167, 169, 171, 182, 155, 159, 167, 164, 157, 177,\n",
       "       187, 199, 147, 167, 150, 149, 160, 144, 155, 178, 199, 190, 156,\n",
       "       146, 178, 177, 158, 177, 187, 157, 145, 167, 176, 167, 177, 155,\n",
       "       167])"
      ]
     },
     "execution_count": 11,
     "metadata": {},
     "output_type": "execute_result"
    }
   ],
   "source": [
    "dados = np.array([160, 155, 165, 167, 169, 171, 182, 155, 159, 167,\n",
    "         164, 157, 177, 187, 199, 147, 167, 150, 149, 160,\n",
    "         144, 155, 178, 199, 190, 156, 146, 178, 177, 158,\n",
    "         177, 187, 157, 145, 167, 176, 167, 177, 155, 167])\n",
    "dados # dados não ordenados"
   ]
  },
  {
   "cell_type": "code",
   "execution_count": 13,
   "id": "49d5bae2",
   "metadata": {},
   "outputs": [
    {
     "data": {
      "text/plain": [
       "array([144, 145, 146, 147, 149, 150, 155, 155, 155, 155, 156, 157, 157,\n",
       "       158, 159, 160, 160, 164, 165, 167, 167, 167, 167, 167, 167, 169,\n",
       "       171, 176, 177, 177, 177, 177, 178, 178, 182, 187, 187, 190, 199,\n",
       "       199])"
      ]
     },
     "execution_count": 13,
     "metadata": {},
     "output_type": "execute_result"
    }
   ],
   "source": [
    "dados = np.sort(dados)\n",
    "dados # dados ordenados"
   ]
  },
  {
   "cell_type": "code",
   "execution_count": 15,
   "id": "0a98f23f",
   "metadata": {},
   "outputs": [
    {
     "data": {
      "text/plain": [
       "144"
      ]
     },
     "execution_count": 15,
     "metadata": {},
     "output_type": "execute_result"
    }
   ],
   "source": [
    "minimo = dados.min()\n",
    "minimo"
   ]
  },
  {
   "cell_type": "code",
   "execution_count": 16,
   "id": "3211e455",
   "metadata": {},
   "outputs": [
    {
     "data": {
      "text/plain": [
       "199"
      ]
     },
     "execution_count": 16,
     "metadata": {},
     "output_type": "execute_result"
    }
   ],
   "source": [
    "maximo = dados.max()\n",
    "maximo"
   ]
  },
  {
   "cell_type": "code",
   "execution_count": 18,
   "id": "23d57671",
   "metadata": {},
   "outputs": [
    {
     "data": {
      "text/plain": [
       "(array([144, 145, 146, 147, 149, 150, 155, 156, 157, 158, 159, 160, 164,\n",
       "        165, 167, 169, 171, 176, 177, 178, 182, 187, 190, 199]),\n",
       " array([1, 1, 1, 1, 1, 1, 4, 1, 2, 1, 1, 2, 1, 1, 6, 1, 1, 1, 4, 2, 1, 2,\n",
       "        1, 2], dtype=int64))"
      ]
     },
     "execution_count": 18,
     "metadata": {},
     "output_type": "execute_result"
    }
   ],
   "source": [
    "np.unique(dados, return_counts=True) # mostrando a frequência dos dados"
   ]
  },
  {
   "cell_type": "code",
   "execution_count": 19,
   "id": "2e5fdcb3",
   "metadata": {},
   "outputs": [
    {
     "data": {
      "text/plain": [
       "<BarContainer object of 40 artists>"
      ]
     },
     "execution_count": 19,
     "metadata": {},
     "output_type": "execute_result"
    },
    {
     "data": {
      "image/png": "[encoded data removed]",
      "text/plain": [
       "<Figure size 432x288 with 1 Axes>"
      ]
     },
     "metadata": {
      "needs_background": "light"
     },
     "output_type": "display_data"
    }
   ],
   "source": [
    "plt.bar(dados, dados)"
   ]
  },
  {
   "cell_type": "code",
   "execution_count": 20,
   "id": "fae30356",
   "metadata": {},
   "outputs": [
    {
     "data": {
      "text/plain": [
       "40"
      ]
     },
     "execution_count": 20,
     "metadata": {},
     "output_type": "execute_result"
    }
   ],
   "source": [
    "# Para o número de clases\n",
    "# Fórmula de Sturges\n",
    "n = len(dados)\n",
    "n"
   ]
  },
  {
   "cell_type": "code",
   "execution_count": 21,
   "id": "2e791c03",
   "metadata": {},
   "outputs": [],
   "source": [
    "i = 1 + 3.3 * np.log10(n)"
   ]
  },
  {
   "cell_type": "code",
   "execution_count": 22,
   "id": "95edf989",
   "metadata": {},
   "outputs": [
    {
     "data": {
      "text/plain": [
       "6.286797971382275"
      ]
     },
     "execution_count": 22,
     "metadata": {},
     "output_type": "execute_result"
    }
   ],
   "source": [
    "i"
   ]
  },
  {
   "cell_type": "code",
   "execution_count": 23,
   "id": "229eac81",
   "metadata": {},
   "outputs": [],
   "source": [
    "i = round(i)"
   ]
  },
  {
   "cell_type": "code",
   "execution_count": 24,
   "id": "3ed3bc52",
   "metadata": {},
   "outputs": [
    {
     "data": {
      "text/plain": [
       "6"
      ]
     },
     "execution_count": 24,
     "metadata": {},
     "output_type": "execute_result"
    }
   ],
   "source": [
    "i"
   ]
  },
  {
   "cell_type": "code",
   "execution_count": 25,
   "id": "d87b1fbf",
   "metadata": {},
   "outputs": [
    {
     "data": {
      "text/plain": [
       "55"
      ]
     },
     "execution_count": 25,
     "metadata": {},
     "output_type": "execute_result"
    }
   ],
   "source": [
    "AA = maximo - minimo\n",
    "AA"
   ]
  },
  {
   "cell_type": "code",
   "execution_count": 27,
   "id": "7e659676",
   "metadata": {},
   "outputs": [
    {
     "data": {
      "text/plain": [
       "9.166666666666666"
      ]
     },
     "execution_count": 27,
     "metadata": {},
     "output_type": "execute_result"
    }
   ],
   "source": [
    "h = AA / i\n",
    "h"
   ]
  },
  {
   "cell_type": "code",
   "execution_count": 28,
   "id": "2650b811",
   "metadata": {},
   "outputs": [
    {
     "data": {
      "text/plain": [
       "10"
      ]
     },
     "execution_count": 28,
     "metadata": {},
     "output_type": "execute_result"
    }
   ],
   "source": [
    "import math \n",
    "h = math.ceil(h)\n",
    "h"
   ]
  },
  {
   "cell_type": "markdown",
   "id": "e4a51756",
   "metadata": {},
   "source": [
    "### Construção de frequência"
   ]
  },
  {
   "cell_type": "code",
   "execution_count": 34,
   "id": "71601ef3",
   "metadata": {},
   "outputs": [
    {
     "data": {
      "text/plain": [
       "array([144, 154, 164, 174, 184, 194, 204])"
      ]
     },
     "execution_count": 34,
     "metadata": {},
     "output_type": "execute_result"
    }
   ],
   "source": [
    "intervalos = np.arange(minimo, maximo + 6, step = h) # maximo + 6 é para incluir o valor máximo\n",
    "intervalos"
   ]
  },
  {
   "cell_type": "code",
   "execution_count": 38,
   "id": "5a34aa0a",
   "metadata": {},
   "outputs": [],
   "source": [
    "intervalo1, intervalo2, intervalo3, intervalo4, intervalo5, intervalo6 = 0,0,0,0,0,0\n",
    "\n",
    "for i in range(n):\n",
    "    if dados[i] >= intervalos[0] and dados[i] < intervalos[1]:\n",
    "        intervalo1 += 1\n",
    "    elif dados[i] >= intervalos[1] and dados[i] < intervalos[2]:\n",
    "        intervalo2 += 1\n",
    "    elif dados[i] >= intervalos[2] and dados[i] < intervalos[3]:\n",
    "        intervalo3 += 1\n",
    "    elif dados[i] >= intervalos[3] and dados[i] < intervalos[4]:\n",
    "        intervalo3 += 1\n",
    "    elif dados[i] >= intervalos[4] and dados[i] < intervalos[5]:\n",
    "        intervalo4 += 1\n",
    "    elif dados[i] >= intervalos[5] and dados[i] < intervalos[6]:\n",
    "        intervalo5 += 1\n",
    "    elif dados[i] >= intervalos[6] and dados[i] < intervalos[7]:\n",
    "        intervalo6 += 1"
   ]
  },
  {
   "cell_type": "code",
   "execution_count": 39,
   "id": "050d2d96",
   "metadata": {},
   "outputs": [
    {
     "data": {
      "text/plain": [
       "[6, 11, 18, 3, 2, 0]"
      ]
     },
     "execution_count": 39,
     "metadata": {},
     "output_type": "execute_result"
    }
   ],
   "source": [
    "l_inter = []\n",
    "l_inter.append(intervalo1)\n",
    "l_inter.append(intervalo2)\n",
    "l_inter.append(intervalo3)\n",
    "l_inter.append(intervalo4)\n",
    "l_inter.append(intervalo5)\n",
    "l_inter.append(intervalo6)\n",
    "l_inter\n"
   ]
  },
  {
   "cell_type": "code",
   "execution_count": 40,
   "id": "85d282ec",
   "metadata": {},
   "outputs": [],
   "source": [
    "l_classes = []\n",
    "\n",
    "for i in range(len(l_inter)):\n",
    "    l_classes.append(str(intervalos[i]) + '-' + str(intervalos[i + 1]))"
   ]
  },
  {
   "cell_type": "code",
   "execution_count": 41,
   "id": "a8dc5d0d",
   "metadata": {},
   "outputs": [
    {
     "data": {
      "text/plain": [
       "['144-154', '154-164', '164-174', '174-184', '184-194', '194-204']"
      ]
     },
     "execution_count": 41,
     "metadata": {},
     "output_type": "execute_result"
    }
   ],
   "source": [
    "l_classes"
   ]
  },
  {
   "cell_type": "code",
   "execution_count": 42,
   "id": "e089a979",
   "metadata": {},
   "outputs": [
    {
     "data": {
      "image/png": "[encoded data removed]",
      "text/plain": [
       "<Figure size 432x288 with 1 Axes>"
      ]
     },
     "metadata": {
      "needs_background": "light"
     },
     "output_type": "display_data"
    }
   ],
   "source": [
    "plt.bar(l_classes, l_inter)\n",
    "plt.title('Distribuição de Frequência - histograma')\n",
    "plt.xlabel('intervalos')\n",
    "plt.ylabel('valores');"
   ]
  },
  {
   "cell_type": "code",
   "execution_count": 43,
   "id": "36f52e6d",
   "metadata": {},
   "outputs": [
    {
     "data": {
      "text/plain": [
       "array([160, 155, 165, 167, 169, 171, 182, 155, 159, 167, 164, 157, 177,\n",
       "       187, 199, 147, 167, 150, 149, 160, 144, 155, 178, 199, 190, 156,\n",
       "       146, 178, 177, 158, 177, 187, 157, 145, 167, 176, 167, 177, 155,\n",
       "       167])"
      ]
     },
     "execution_count": 43,
     "metadata": {},
     "output_type": "execute_result"
    }
   ],
   "source": [
    "dados = np.array([160, 155, 165, 167, 169, 171, 182, 155, 159, 167,\n",
    "         164, 157, 177, 187, 199, 147, 167, 150, 149, 160,\n",
    "         144, 155, 178, 199, 190, 156, 146, 178, 177, 158,\n",
    "         177, 187, 157, 145, 167, 176, 167, 177, 155, 167])\n",
    "dados # dados não ordenados"
   ]
  },
  {
   "cell_type": "code",
   "execution_count": 44,
   "id": "ed085998",
   "metadata": {},
   "outputs": [],
   "source": [
    "frequencia, classes = np.histogram(dados)"
   ]
  },
  {
   "cell_type": "code",
   "execution_count": 46,
   "id": "d8ca95dd",
   "metadata": {},
   "outputs": [
    {
     "data": {
      "text/plain": [
       "(array([ 5,  1, 11,  2,  8,  1,  7,  2,  1,  2], dtype=int64),\n",
       " array([144. , 149.5, 155. , 160.5, 166. , 171.5, 177. , 182.5, 188. ,\n",
       "        193.5, 199. ]),\n",
       " 11)"
      ]
     },
     "execution_count": 46,
     "metadata": {},
     "output_type": "execute_result"
    }
   ],
   "source": [
    "frequencia, classes, len(classes)"
   ]
  },
  {
   "cell_type": "code",
   "execution_count": 47,
   "id": "c41f5bbc",
   "metadata": {},
   "outputs": [
    {
     "data": {
      "text/plain": [
       "(array([ 5.,  1., 11.,  2.,  8.,  1.,  7.,  2.,  1.,  2.]),\n",
       " array([144. , 149.5, 155. , 160.5, 166. , 171.5, 177. , 182.5, 188. ,\n",
       "        193.5, 199. ]),\n",
       " <BarContainer object of 10 artists>)"
      ]
     },
     "execution_count": 47,
     "metadata": {},
     "output_type": "execute_result"
    },
    {
     "data": {
      "image/png": "[encoded data removed]",
      "text/plain": [
       "<Figure size 432x288 with 1 Axes>"
      ]
     },
     "metadata": {
      "needs_background": "light"
     },
     "output_type": "display_data"
    }
   ],
   "source": [
    "plt.hist(dados, bins = classes)"
   ]
  },
  {
   "cell_type": "code",
   "execution_count": 48,
   "id": "5ea7bfd1",
   "metadata": {},
   "outputs": [],
   "source": [
    "frequencia, classes = np.histogram(dados, bins = 5)"
   ]
  },
  {
   "cell_type": "code",
   "execution_count": 49,
   "id": "0cf72635",
   "metadata": {},
   "outputs": [
    {
     "data": {
      "text/plain": [
       "(array([ 6, 13,  9,  9,  3], dtype=int64),\n",
       " array([144., 155., 166., 177., 188., 199.]))"
      ]
     },
     "execution_count": 49,
     "metadata": {},
     "output_type": "execute_result"
    }
   ],
   "source": [
    "frequencia, classes"
   ]
  },
  {
   "cell_type": "code",
   "execution_count": 50,
   "id": "79b32827",
   "metadata": {},
   "outputs": [
    {
     "data": {
      "text/plain": [
       "(array([ 6., 13.,  9.,  9.,  3.]),\n",
       " array([144., 155., 166., 177., 188., 199.]),\n",
       " <BarContainer object of 5 artists>)"
      ]
     },
     "execution_count": 50,
     "metadata": {},
     "output_type": "execute_result"
    },
    {
     "data": {
      "image/png": "[encoded data removed]",
      "text/plain": [
       "<Figure size 432x288 with 1 Axes>"
      ]
     },
     "metadata": {
      "needs_background": "light"
     },
     "output_type": "display_data"
    }
   ],
   "source": [
    "plt.hist(dados, bins = classes)"
   ]
  },
  {
   "cell_type": "code",
   "execution_count": 51,
   "id": "b5303049",
   "metadata": {},
   "outputs": [
    {
     "data": {
      "text/plain": [
       "(array([ 6,  9, 10,  2,  8,  3,  2], dtype=int64),\n",
       " array([144.        , 151.85714286, 159.71428571, 167.57142857,\n",
       "        175.42857143, 183.28571429, 191.14285714, 199.        ]))"
      ]
     },
     "execution_count": 51,
     "metadata": {},
     "output_type": "execute_result"
    }
   ],
   "source": [
    "frequencia, classes = np.histogram(dados, bins = 'sturges')\n",
    "frequencia, classes"
   ]
  },
  {
   "cell_type": "code",
   "execution_count": null,
   "id": "f254405d",
   "metadata": {},
   "outputs": [],
   "source": []
  },
  {
   "cell_type": "code",
   "execution_count": null,
   "id": "b769049b",
   "metadata": {},
   "outputs": [],
   "source": []
  },
  {
   "cell_type": "code",
   "execution_count": null,
   "id": "7cd81146",
   "metadata": {},
   "outputs": [],
   "source": []
  },
  {
   "cell_type": "code",
   "execution_count": null,
   "id": "68aaae59",
   "metadata": {},
   "outputs": [],
   "source": []
  },
  {
   "cell_type": "code",
   "execution_count": null,
   "id": "28f424b8",
   "metadata": {},
   "outputs": [],
   "source": []
  }
 ],
 "metadata": {
  "kernelspec": {
   "display_name": "Python 3 (ipykernel)",
   "language": "python",
   "name": "python3"
  },
  "language_info": {
   "codemirror_mode": {
    "name": "ipython",
    "version": 3
   },
   "file_extension": ".py",
   "mimetype": "text/x-python",
   "name": "python",
   "nbconvert_exporter": "python",
   "pygments_lexer": "ipython3",
   "version": "3.9.12"
  }
 },
 "nbformat": 4,
 "nbformat_minor": 5
}
