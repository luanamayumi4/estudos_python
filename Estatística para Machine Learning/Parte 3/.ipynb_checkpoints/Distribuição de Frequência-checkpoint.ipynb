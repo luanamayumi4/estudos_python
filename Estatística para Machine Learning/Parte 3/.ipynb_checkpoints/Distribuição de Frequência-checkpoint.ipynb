{
 "cells": [
  {
   "cell_type": "markdown",
   "id": "4bc73a67",
   "metadata": {},
   "source": [
    "### Como transformar variáveis numéricas em categorias"
   ]
  },
  {
   "cell_type": "markdown",
   "id": "2b01495e",
   "metadata": {},
   "source": [
    "### Tabela Primitiva"
   ]
  },
  {
   "cell_type": "code",
   "execution_count": 1,
   "id": "3e90d7ee",
   "metadata": {},
   "outputs": [],
   "source": [
    "altura = [160, 155, 165, 167, 169, 171, 182, 155, 159, 167,\n",
    "         164, 157, 177, 187, 199, 147, 167, 150, 149, 160,\n",
    "         144, 155, 178, 199, 190, 156, 146, 178, 177, 158,\n",
    "         177, 187, 157, 145, 167, 176, 167, 177, 155, 167]"
   ]
  },
  {
   "cell_type": "code",
   "execution_count": 6,
   "id": "02cca64b",
   "metadata": {},
   "outputs": [],
   "source": [
    "altura.sort()"
   ]
  },
  {
   "cell_type": "code",
   "execution_count": 7,
   "id": "05e58d30",
   "metadata": {},
   "outputs": [
    {
     "name": "stdout",
     "output_type": "stream",
     "text": [
      "[144, 145, 146, 147, 149, 150, 155, 155, 155, 155, 156, 157, 157, 158, 159, 160, 160, 164, 165, 167, 167, 167, 167, 167, 167, 169, 171, 176, 177, 177, 177, 177, 178, 178, 182, 187, 187, 190, 199, 199]\n"
     ]
    }
   ],
   "source": [
    "print(altura)"
   ]
  },
  {
   "cell_type": "code",
   "execution_count": 8,
   "id": "5a025d45",
   "metadata": {},
   "outputs": [],
   "source": [
    "# Fórmula de Sturges (i = 1 + 3.3Log n), onde n é a quantidade total de elementos"
   ]
  },
  {
   "cell_type": "code",
   "execution_count": 9,
   "id": "6da7a02a",
   "metadata": {},
   "outputs": [],
   "source": [
    "import numpy as np\n",
    "import matplotlib.pyplot as plt\n",
    "import pandas as pd\n",
    "import seaborn as sns"
   ]
  },
  {
   "cell_type": "code",
   "execution_count": 11,
   "id": "9149d49f",
   "metadata": {},
   "outputs": [
    {
     "data": {
      "text/plain": [
       "array([160, 155, 165, 167, 169, 171, 182, 155, 159, 167, 164, 157, 177,\n",
       "       187, 199, 147, 167, 150, 149, 160, 144, 155, 178, 199, 190, 156,\n",
       "       146, 178, 177, 158, 177, 187, 157, 145, 167, 176, 167, 177, 155,\n",
       "       167])"
      ]
     },
     "execution_count": 11,
     "metadata": {},
     "output_type": "execute_result"
    }
   ],
   "source": [
    "dados = np.array([160, 155, 165, 167, 169, 171, 182, 155, 159, 167,\n",
    "         164, 157, 177, 187, 199, 147, 167, 150, 149, 160,\n",
    "         144, 155, 178, 199, 190, 156, 146, 178, 177, 158,\n",
    "         177, 187, 157, 145, 167, 176, 167, 177, 155, 167])\n",
    "dados # dados não ordenados"
   ]
  },
  {
   "cell_type": "code",
   "execution_count": 13,
   "id": "4d3e75b5",
   "metadata": {},
   "outputs": [
    {
     "data": {
      "text/plain": [
       "array([144, 145, 146, 147, 149, 150, 155, 155, 155, 155, 156, 157, 157,\n",
       "       158, 159, 160, 160, 164, 165, 167, 167, 167, 167, 167, 167, 169,\n",
       "       171, 176, 177, 177, 177, 177, 178, 178, 182, 187, 187, 190, 199,\n",
       "       199])"
      ]
     },
     "execution_count": 13,
     "metadata": {},
     "output_type": "execute_result"
    }
   ],
   "source": [
    "dados = np.sort(dados)\n",
    "dados # dados ordenados"
   ]
  },
  {
   "cell_type": "code",
   "execution_count": 15,
   "id": "244a0f8e",
   "metadata": {},
   "outputs": [
    {
     "data": {
      "text/plain": [
       "144"
      ]
     },
     "execution_count": 15,
     "metadata": {},
     "output_type": "execute_result"
    }
   ],
   "source": [
    "minimo = dados.min()\n",
    "minimo"
   ]
  },
  {
   "cell_type": "code",
   "execution_count": 16,
   "id": "443c7f37",
   "metadata": {},
   "outputs": [
    {
     "data": {
      "text/plain": [
       "199"
      ]
     },
     "execution_count": 16,
     "metadata": {},
     "output_type": "execute_result"
    }
   ],
   "source": [
    "maximo = dados.max()\n",
    "maximo"
   ]
  },
  {
   "cell_type": "code",
   "execution_count": 18,
   "id": "88a964ff",
   "metadata": {},
   "outputs": [
    {
     "data": {
      "text/plain": [
       "(array([144, 145, 146, 147, 149, 150, 155, 156, 157, 158, 159, 160, 164,\n",
       "        165, 167, 169, 171, 176, 177, 178, 182, 187, 190, 199]),\n",
       " array([1, 1, 1, 1, 1, 1, 4, 1, 2, 1, 1, 2, 1, 1, 6, 1, 1, 1, 4, 2, 1, 2,\n",
       "        1, 2], dtype=int64))"
      ]
     },
     "execution_count": 18,
     "metadata": {},
     "output_type": "execute_result"
    }
   ],
   "source": [
    "np.unique(dados, return_counts=True) # mostrando a frequência dos dados"
   ]
  },
  {
   "cell_type": "code",
   "execution_count": 19,
   "id": "2786bb69",
   "metadata": {},
   "outputs": [
    {
     "data": {
      "text/plain": [
       "<BarContainer object of 40 artists>"
      ]
     },
     "execution_count": 19,
     "metadata": {},
     "output_type": "execute_result"
    },
    {
     "data": {
      "image/png": "[encoded data removed]",
      "text/plain": [
       "<Figure size 432x288 with 1 Axes>"
      ]
     },
     "metadata": {
      "needs_background": "light"
     },
     "output_type": "display_data"
    }
   ],
   "source": [
    "plt.bar(dados, dados)"
   ]
  },
  {
   "cell_type": "code",
   "execution_count": 20,
   "id": "cfa5e912",
   "metadata": {},
   "outputs": [
    {
     "data": {
      "text/plain": [
       "40"
      ]
     },
     "execution_count": 20,
     "metadata": {},
     "output_type": "execute_result"
    }
   ],
   "source": [
    "# Para o número de clases\n",
    "# Fórmula de Sturges\n",
    "n = len(dados)\n",
    "n"
   ]
  },
  {
   "cell_type": "code",
   "execution_count": 21,
   "id": "c3966a98",
   "metadata": {},
   "outputs": [],
   "source": [
    "i = 1 + 3.3 * np.log10(n)"
   ]
  },
  {
   "cell_type": "code",
   "execution_count": 22,
   "id": "bbcfd603",
   "metadata": {},
   "outputs": [
    {
     "data": {
      "text/plain": [
       "6.286797971382275"
      ]
     },
     "execution_count": 22,
     "metadata": {},
     "output_type": "execute_result"
    }
   ],
   "source": [
    "i"
   ]
  },
  {
   "cell_type": "code",
   "execution_count": 23,
   "id": "01fef635",
   "metadata": {},
   "outputs": [],
   "source": [
    "i = round(i)"
   ]
  },
  {
   "cell_type": "code",
   "execution_count": 24,
   "id": "455331df",
   "metadata": {},
   "outputs": [
    {
     "data": {
      "text/plain": [
       "6"
      ]
     },
     "execution_count": 24,
     "metadata": {},
     "output_type": "execute_result"
    }
   ],
   "source": [
    "i"
   ]
  },
  {
   "cell_type": "code",
   "execution_count": 25,
   "id": "7998aeec",
   "metadata": {},
   "outputs": [
    {
     "data": {
      "text/plain": [
       "55"
      ]
     },
     "execution_count": 25,
     "metadata": {},
     "output_type": "execute_result"
    }
   ],
   "source": [
    "AA = maximo - minimo\n",
    "AA"
   ]
  },
  {
   "cell_type": "code",
   "execution_count": 27,
   "id": "ee373e91",
   "metadata": {},
   "outputs": [
    {
     "data": {
      "text/plain": [
       "9.166666666666666"
      ]
     },
     "execution_count": 27,
     "metadata": {},
     "output_type": "execute_result"
    }
   ],
   "source": [
    "h = AA / i\n",
    "h"
   ]
  },
  {
   "cell_type": "code",
   "execution_count": 28,
   "id": "94a4689b",
   "metadata": {},
   "outputs": [
    {
     "data": {
      "text/plain": [
       "10"
      ]
     },
     "execution_count": 28,
     "metadata": {},
     "output_type": "execute_result"
    }
   ],
   "source": [
    "import math \n",
    "h = math.ceil(h)\n",
    "h"
   ]
  },
  {
   "cell_type": "markdown",
   "id": "52c162bc",
   "metadata": {},
   "source": [
    "### Construção de frequência"
   ]
  },
  {
   "cell_type": "code",
   "execution_count": 34,
   "id": "e0c28926",
   "metadata": {},
   "outputs": [
    {
     "data": {
      "text/plain": [
       "array([144, 154, 164, 174, 184, 194, 204])"
      ]
     },
     "execution_count": 34,
     "metadata": {},
     "output_type": "execute_result"
    }
   ],
   "source": [
    "intervalos = np.arange(minimo, maximo + 6, step = h) # maximo + 6 é para incluir o valor máximo\n",
    "intervalos"
   ]
  },
  {
   "cell_type": "code",
   "execution_count": null,
   "id": "2d8fc07f",
   "metadata": {},
   "outputs": [],
   "source": []
  },
  {
   "cell_type": "code",
   "execution_count": null,
   "id": "f7c8b73d",
   "metadata": {},
   "outputs": [],
   "source": []
  },
  {
   "cell_type": "code",
   "execution_count": null,
   "id": "a588f9c8",
   "metadata": {},
   "outputs": [],
   "source": []
  },
  {
   "cell_type": "code",
   "execution_count": null,
   "id": "87fac32e",
   "metadata": {},
   "outputs": [],
   "source": []
  },
  {
   "cell_type": "code",
   "execution_count": null,
   "id": "31d334b2",
   "metadata": {},
   "outputs": [],
   "source": []
  },
  {
   "cell_type": "code",
   "execution_count": null,
   "id": "7ffe3013",
   "metadata": {},
   "outputs": [],
   "source": []
  },
  {
   "cell_type": "code",
   "execution_count": null,
   "id": "5e8f4a78",
   "metadata": {},
   "outputs": [],
   "source": []
  }
 ],
 "metadata": {
  "kernelspec": {
   "display_name": "Python 3 (ipykernel)",
   "language": "python",
   "name": "python3"
  },
  "language_info": {
   "codemirror_mode": {
    "name": "ipython",
    "version": 3
   },
   "file_extension": ".py",
   "mimetype": "text/x-python",
   "name": "python",
   "nbconvert_exporter": "python",
   "pygments_lexer": "ipython3",
   "version": "3.9.12"
  }
 },
 "nbformat": 4,
 "nbformat_minor": 5
}
