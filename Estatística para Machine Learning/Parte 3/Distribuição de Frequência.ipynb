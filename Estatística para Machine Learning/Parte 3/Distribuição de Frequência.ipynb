{
 "cells": [
  {
   "cell_type": "markdown",
   "id": "e803dd87",
   "metadata": {},
   "source": [
    "### Como transformar variáveis numéricas em categorias"
   ]
  },
  {
   "cell_type": "markdown",
   "id": "153cb6c6",
   "metadata": {},
   "source": [
    "### Tabela Primitiva"
   ]
  },
  {
   "cell_type": "code",
   "execution_count": 1,
   "id": "bf3b0b5f",
   "metadata": {},
   "outputs": [],
   "source": [
    "altura = [160, 155, 165, 167, 169, 171, 182, 155, 159, 167,\n",
    "         164, 157, 177, 187, 199, 147, 167, 150, 149, 160,\n",
    "         144, 155, 178, 199, 190, 156, 146, 178, 177, 158,\n",
    "         177, 187, 157, 145, 167, 176, 167, 177, 155, 167]"
   ]
  },
  {
   "cell_type": "code",
   "execution_count": 6,
   "id": "fe990b0b",
   "metadata": {},
   "outputs": [],
   "source": [
    "altura.sort()"
   ]
  },
  {
   "cell_type": "code",
   "execution_count": 7,
   "id": "852384b9",
   "metadata": {},
   "outputs": [
    {
     "name": "stdout",
     "output_type": "stream",
     "text": [
      "[144, 145, 146, 147, 149, 150, 155, 155, 155, 155, 156, 157, 157, 158, 159, 160, 160, 164, 165, 167, 167, 167, 167, 167, 167, 169, 171, 176, 177, 177, 177, 177, 178, 178, 182, 187, 187, 190, 199, 199]\n"
     ]
    }
   ],
   "source": [
    "print(altura)"
   ]
  },
  {
   "cell_type": "code",
   "execution_count": 8,
   "id": "67acacc2",
   "metadata": {},
   "outputs": [],
   "source": [
    "# Fórmula de Sturges (i = 1 + 3.3Log n), onde n é a quantidade total de elementos"
   ]
  },
  {
   "cell_type": "code",
   "execution_count": 9,
   "id": "b81263aa",
   "metadata": {},
   "outputs": [],
   "source": [
    "import numpy as np\n",
    "import matplotlib.pyplot as plt\n",
    "import pandas as pd\n",
    "import seaborn as sns"
   ]
  },
  {
   "cell_type": "code",
   "execution_count": 11,
   "id": "57c9d5e1",
   "metadata": {},
   "outputs": [
    {
     "data": {
      "text/plain": [
       "array([160, 155, 165, 167, 169, 171, 182, 155, 159, 167, 164, 157, 177,\n",
       "       187, 199, 147, 167, 150, 149, 160, 144, 155, 178, 199, 190, 156,\n",
       "       146, 178, 177, 158, 177, 187, 157, 145, 167, 176, 167, 177, 155,\n",
       "       167])"
      ]
     },
     "execution_count": 11,
     "metadata": {},
     "output_type": "execute_result"
    }
   ],
   "source": [
    "dados = np.array([160, 155, 165, 167, 169, 171, 182, 155, 159, 167,\n",
    "         164, 157, 177, 187, 199, 147, 167, 150, 149, 160,\n",
    "         144, 155, 178, 199, 190, 156, 146, 178, 177, 158,\n",
    "         177, 187, 157, 145, 167, 176, 167, 177, 155, 167])\n",
    "dados # dados não ordenados"
   ]
  },
  {
   "cell_type": "code",
   "execution_count": 13,
   "id": "c66ad7c9",
   "metadata": {},
   "outputs": [
    {
     "data": {
      "text/plain": [
       "array([144, 145, 146, 147, 149, 150, 155, 155, 155, 155, 156, 157, 157,\n",
       "       158, 159, 160, 160, 164, 165, 167, 167, 167, 167, 167, 167, 169,\n",
       "       171, 176, 177, 177, 177, 177, 178, 178, 182, 187, 187, 190, 199,\n",
       "       199])"
      ]
     },
     "execution_count": 13,
     "metadata": {},
     "output_type": "execute_result"
    }
   ],
   "source": [
    "dados = np.sort(dados)\n",
    "dados # dados ordenados"
   ]
  },
  {
   "cell_type": "code",
   "execution_count": 15,
   "id": "926e3e29",
   "metadata": {},
   "outputs": [
    {
     "data": {
      "text/plain": [
       "144"
      ]
     },
     "execution_count": 15,
     "metadata": {},
     "output_type": "execute_result"
    }
   ],
   "source": [
    "minimo = dados.min()\n",
    "minimo"
   ]
  },
  {
   "cell_type": "code",
   "execution_count": 16,
   "id": "ce7b0d24",
   "metadata": {},
   "outputs": [
    {
     "data": {
      "text/plain": [
       "199"
      ]
     },
     "execution_count": 16,
     "metadata": {},
     "output_type": "execute_result"
    }
   ],
   "source": [
    "maximo = dados.max()\n",
    "maximo"
   ]
  },
  {
   "cell_type": "code",
   "execution_count": 18,
   "id": "a3b9de4c",
   "metadata": {},
   "outputs": [
    {
     "data": {
      "text/plain": [
       "(array([144, 145, 146, 147, 149, 150, 155, 156, 157, 158, 159, 160, 164,\n",
       "        165, 167, 169, 171, 176, 177, 178, 182, 187, 190, 199]),\n",
       " array([1, 1, 1, 1, 1, 1, 4, 1, 2, 1, 1, 2, 1, 1, 6, 1, 1, 1, 4, 2, 1, 2,\n",
       "        1, 2], dtype=int64))"
      ]
     },
     "execution_count": 18,
     "metadata": {},
     "output_type": "execute_result"
    }
   ],
   "source": [
    "np.unique(dados, return_counts=True) # mostrando a frequência dos dados"
   ]
  },
  {
   "cell_type": "code",
   "execution_count": 19,
   "id": "99429178",
   "metadata": {},
   "outputs": [
    {
     "data": {
      "text/plain": [
       "<BarContainer object of 40 artists>"
      ]
     },
     "execution_count": 19,
     "metadata": {},
     "output_type": "execute_result"
    },
    {
     "data": {
      "image/png": "[encoded data removed]",
      "text/plain": [
       "<Figure size 432x288 with 1 Axes>"
      ]
     },
     "metadata": {
      "needs_background": "light"
     },
     "output_type": "display_data"
    }
   ],
   "source": [
    "plt.bar(dados, dados)"
   ]
  },
  {
   "cell_type": "code",
   "execution_count": 20,
   "id": "50c4c7e1",
   "metadata": {},
   "outputs": [
    {
     "data": {
      "text/plain": [
       "40"
      ]
     },
     "execution_count": 20,
     "metadata": {},
     "output_type": "execute_result"
    }
   ],
   "source": [
    "# Para o número de clases\n",
    "# Fórmula de Sturges\n",
    "n = len(dados)\n",
    "n"
   ]
  },
  {
   "cell_type": "code",
   "execution_count": 21,
   "id": "15260e3c",
   "metadata": {},
   "outputs": [],
   "source": [
    "i = 1 + 3.3 * np.log10(n)"
   ]
  },
  {
   "cell_type": "code",
   "execution_count": 22,
   "id": "ce28f4e4",
   "metadata": {},
   "outputs": [
    {
     "data": {
      "text/plain": [
       "6.286797971382275"
      ]
     },
     "execution_count": 22,
     "metadata": {},
     "output_type": "execute_result"
    }
   ],
   "source": [
    "i"
   ]
  },
  {
   "cell_type": "code",
   "execution_count": 23,
   "id": "91612bdc",
   "metadata": {},
   "outputs": [],
   "source": [
    "i = round(i)"
   ]
  },
  {
   "cell_type": "code",
   "execution_count": 24,
   "id": "dc2053b4",
   "metadata": {},
   "outputs": [
    {
     "data": {
      "text/plain": [
       "6"
      ]
     },
     "execution_count": 24,
     "metadata": {},
     "output_type": "execute_result"
    }
   ],
   "source": [
    "i"
   ]
  },
  {
   "cell_type": "code",
   "execution_count": 25,
   "id": "0ab42a7d",
   "metadata": {},
   "outputs": [
    {
     "data": {
      "text/plain": [
       "55"
      ]
     },
     "execution_count": 25,
     "metadata": {},
     "output_type": "execute_result"
    }
   ],
   "source": [
    "AA = maximo - minimo\n",
    "AA"
   ]
  },
  {
   "cell_type": "code",
   "execution_count": 27,
   "id": "67a9ef74",
   "metadata": {},
   "outputs": [
    {
     "data": {
      "text/plain": [
       "9.166666666666666"
      ]
     },
     "execution_count": 27,
     "metadata": {},
     "output_type": "execute_result"
    }
   ],
   "source": [
    "h = AA / i\n",
    "h"
   ]
  },
  {
   "cell_type": "code",
   "execution_count": 28,
   "id": "807b6c3c",
   "metadata": {},
   "outputs": [
    {
     "data": {
      "text/plain": [
       "10"
      ]
     },
     "execution_count": 28,
     "metadata": {},
     "output_type": "execute_result"
    }
   ],
   "source": [
    "import math \n",
    "h = math.ceil(h)\n",
    "h"
   ]
  },
  {
   "cell_type": "markdown",
   "id": "22ad8004",
   "metadata": {},
   "source": [
    "### Construção de frequência"
   ]
  },
  {
   "cell_type": "code",
   "execution_count": 34,
   "id": "65744b51",
   "metadata": {},
   "outputs": [
    {
     "data": {
      "text/plain": [
       "array([144, 154, 164, 174, 184, 194, 204])"
      ]
     },
     "execution_count": 34,
     "metadata": {},
     "output_type": "execute_result"
    }
   ],
   "source": [
    "intervalos = np.arange(minimo, maximo + 6, step = h) # maximo + 6 é para incluir o valor máximo\n",
    "intervalos"
   ]
  },
  {
   "cell_type": "code",
   "execution_count": 38,
   "id": "dec49190",
   "metadata": {},
   "outputs": [],
   "source": [
    "intervalo1, intervalo2, intervalo3, intervalo4, intervalo5, intervalo6 = 0,0,0,0,0,0\n",
    "\n",
    "for i in range(n):\n",
    "    if dados[i] >= intervalos[0] and dados[i] < intervalos[1]:\n",
    "        intervalo1 += 1\n",
    "    elif dados[i] >= intervalos[1] and dados[i] < intervalos[2]:\n",
    "        intervalo2 += 1\n",
    "    elif dados[i] >= intervalos[2] and dados[i] < intervalos[3]:\n",
    "        intervalo3 += 1\n",
    "    elif dados[i] >= intervalos[3] and dados[i] < intervalos[4]:\n",
    "        intervalo3 += 1\n",
    "    elif dados[i] >= intervalos[4] and dados[i] < intervalos[5]:\n",
    "        intervalo4 += 1\n",
    "    elif dados[i] >= intervalos[5] and dados[i] < intervalos[6]:\n",
    "        intervalo5 += 1\n",
    "    elif dados[i] >= intervalos[6] and dados[i] < intervalos[7]:\n",
    "        intervalo6 += 1"
   ]
  },
  {
   "cell_type": "code",
   "execution_count": 39,
   "id": "376bb180",
   "metadata": {},
   "outputs": [
    {
     "data": {
      "text/plain": [
       "[6, 11, 18, 3, 2, 0]"
      ]
     },
     "execution_count": 39,
     "metadata": {},
     "output_type": "execute_result"
    }
   ],
   "source": [
    "l_inter = []\n",
    "l_inter.append(intervalo1)\n",
    "l_inter.append(intervalo2)\n",
    "l_inter.append(intervalo3)\n",
    "l_inter.append(intervalo4)\n",
    "l_inter.append(intervalo5)\n",
    "l_inter.append(intervalo6)\n",
    "l_inter\n"
   ]
  },
  {
   "cell_type": "code",
   "execution_count": 40,
   "id": "1b97880c",
   "metadata": {},
   "outputs": [],
   "source": [
    "l_classes = []\n",
    "\n",
    "for i in range(len(l_inter)):\n",
    "    l_classes.append(str(intervalos[i]) + '-' + str(intervalos[i + 1]))"
   ]
  },
  {
   "cell_type": "code",
   "execution_count": 41,
   "id": "edd05dd4",
   "metadata": {},
   "outputs": [
    {
     "data": {
      "text/plain": [
       "['144-154', '154-164', '164-174', '174-184', '184-194', '194-204']"
      ]
     },
     "execution_count": 41,
     "metadata": {},
     "output_type": "execute_result"
    }
   ],
   "source": [
    "l_classes"
   ]
  },
  {
   "cell_type": "code",
   "execution_count": 42,
   "id": "40869ab1",
   "metadata": {},
   "outputs": [
    {
     "data": {
      "image/png": "[encoded data removed]",
      "text/plain": [
       "<Figure size 432x288 with 1 Axes>"
      ]
     },
     "metadata": {
      "needs_background": "light"
     },
     "output_type": "display_data"
    }
   ],
   "source": [
    "plt.bar(l_classes, l_inter)\n",
    "plt.title('Distribuição de Frequência - histograma')\n",
    "plt.xlabel('intervalos')\n",
    "plt.ylabel('valores');"
   ]
  },
  {
   "cell_type": "code",
   "execution_count": 43,
   "id": "41cf3f62",
   "metadata": {},
   "outputs": [
    {
     "data": {
      "text/plain": [
       "array([160, 155, 165, 167, 169, 171, 182, 155, 159, 167, 164, 157, 177,\n",
       "       187, 199, 147, 167, 150, 149, 160, 144, 155, 178, 199, 190, 156,\n",
       "       146, 178, 177, 158, 177, 187, 157, 145, 167, 176, 167, 177, 155,\n",
       "       167])"
      ]
     },
     "execution_count": 43,
     "metadata": {},
     "output_type": "execute_result"
    }
   ],
   "source": [
    "dados = np.array([160, 155, 165, 167, 169, 171, 182, 155, 159, 167,\n",
    "         164, 157, 177, 187, 199, 147, 167, 150, 149, 160,\n",
    "         144, 155, 178, 199, 190, 156, 146, 178, 177, 158,\n",
    "         177, 187, 157, 145, 167, 176, 167, 177, 155, 167])\n",
    "dados # dados não ordenados"
   ]
  },
  {
   "cell_type": "code",
   "execution_count": 44,
   "id": "0cef5d48",
   "metadata": {},
   "outputs": [],
   "source": [
    "frequencia, classes = np.histogram(dados)"
   ]
  },
  {
   "cell_type": "code",
   "execution_count": 46,
   "id": "9826f36f",
   "metadata": {},
   "outputs": [
    {
     "data": {
      "text/plain": [
       "(array([ 5,  1, 11,  2,  8,  1,  7,  2,  1,  2], dtype=int64),\n",
       " array([144. , 149.5, 155. , 160.5, 166. , 171.5, 177. , 182.5, 188. ,\n",
       "        193.5, 199. ]),\n",
       " 11)"
      ]
     },
     "execution_count": 46,
     "metadata": {},
     "output_type": "execute_result"
    }
   ],
   "source": [
    "frequencia, classes, len(classes)"
   ]
  },
  {
   "cell_type": "code",
   "execution_count": 47,
   "id": "ea048ef8",
   "metadata": {},
   "outputs": [
    {
     "data": {
      "text/plain": [
       "(array([ 5.,  1., 11.,  2.,  8.,  1.,  7.,  2.,  1.,  2.]),\n",
       " array([144. , 149.5, 155. , 160.5, 166. , 171.5, 177. , 182.5, 188. ,\n",
       "        193.5, 199. ]),\n",
       " <BarContainer object of 10 artists>)"
      ]
     },
     "execution_count": 47,
     "metadata": {},
     "output_type": "execute_result"
    },
    {
     "data": {
      "image/png": "[encoded data removed]",
      "text/plain": [
       "<Figure size 432x288 with 1 Axes>"
      ]
     },
     "metadata": {
      "needs_background": "light"
     },
     "output_type": "display_data"
    }
   ],
   "source": [
    "plt.hist(dados, bins = classes)"
   ]
  },
  {
   "cell_type": "code",
   "execution_count": 48,
   "id": "1d9c8287",
   "metadata": {},
   "outputs": [],
   "source": [
    "frequencia, classes = np.histogram(dados, bins = 5)"
   ]
  },
  {
   "cell_type": "code",
   "execution_count": 49,
   "id": "182cd81c",
   "metadata": {},
   "outputs": [
    {
     "data": {
      "text/plain": [
       "(array([ 6, 13,  9,  9,  3], dtype=int64),\n",
       " array([144., 155., 166., 177., 188., 199.]))"
      ]
     },
     "execution_count": 49,
     "metadata": {},
     "output_type": "execute_result"
    }
   ],
   "source": [
    "frequencia, classes"
   ]
  },
  {
   "cell_type": "code",
   "execution_count": 50,
   "id": "e93b38bb",
   "metadata": {},
   "outputs": [
    {
     "data": {
      "text/plain": [
       "(array([ 6., 13.,  9.,  9.,  3.]),\n",
       " array([144., 155., 166., 177., 188., 199.]),\n",
       " <BarContainer object of 5 artists>)"
      ]
     },
     "execution_count": 50,
     "metadata": {},
     "output_type": "execute_result"
    },
    {
     "data": {
      "image/png": "[encoded data removed]",
      "text/plain": [
       "<Figure size 432x288 with 1 Axes>"
      ]
     },
     "metadata": {
      "needs_background": "light"
     },
     "output_type": "display_data"
    }
   ],
   "source": [
    "plt.hist(dados, bins = classes)"
   ]
  },
  {
   "cell_type": "code",
   "execution_count": 51,
   "id": "a0581360",
   "metadata": {},
   "outputs": [
    {
     "data": {
      "text/plain": [
       "(array([ 6,  9, 10,  2,  8,  3,  2], dtype=int64),\n",
       " array([144.        , 151.85714286, 159.71428571, 167.57142857,\n",
       "        175.42857143, 183.28571429, 191.14285714, 199.        ]))"
      ]
     },
     "execution_count": 51,
     "metadata": {},
     "output_type": "execute_result"
    }
   ],
   "source": [
    "frequencia, classes = np.histogram(dados, bins = 'sturges')\n",
    "frequencia, classes"
   ]
  },
  {
   "cell_type": "code",
   "execution_count": 52,
   "id": "b86e24aa",
   "metadata": {},
   "outputs": [
    {
     "data": {
      "text/plain": [
       "(array([ 6.,  9., 10.,  2.,  8.,  3.,  2.]),\n",
       " array([144.        , 151.85714286, 159.71428571, 167.57142857,\n",
       "        175.42857143, 183.28571429, 191.14285714, 199.        ]),\n",
       " <BarContainer object of 7 artists>)"
      ]
     },
     "execution_count": 52,
     "metadata": {},
     "output_type": "execute_result"
    },
    {
     "data": {
      "image/png": "[encoded data removed]",
      "text/plain": [
       "<Figure size 432x288 with 1 Axes>"
      ]
     },
     "metadata": {
      "needs_background": "light"
     },
     "output_type": "display_data"
    }
   ],
   "source": [
    "plt.hist(dados, classes)"
   ]
  },
  {
   "cell_type": "markdown",
   "id": "8d4f5a15",
   "metadata": {},
   "source": [
    "### Utilizando o pandas e o seaborn"
   ]
  },
  {
   "cell_type": "code",
   "execution_count": 53,
   "id": "a5bcb459",
   "metadata": {},
   "outputs": [
    {
     "data": {
      "text/plain": [
       "numpy.ndarray"
      ]
     },
     "execution_count": 53,
     "metadata": {},
     "output_type": "execute_result"
    }
   ],
   "source": [
    "type(dados)"
   ]
  },
  {
   "cell_type": "code",
   "execution_count": 56,
   "id": "067ba6d8",
   "metadata": {},
   "outputs": [
    {
     "data": {
      "text/html": [
       "<div>\n",
       "<style scoped>\n",
       "    .dataframe tbody tr th:only-of-type {\n",
       "        vertical-align: middle;\n",
       "    }\n",
       "\n",
       "    .dataframe tbody tr th {\n",
       "        vertical-align: top;\n",
       "    }\n",
       "\n",
       "    .dataframe thead th {\n",
       "        text-align: right;\n",
       "    }\n",
       "</style>\n",
       "<table border=\"1\" class=\"dataframe\">\n",
       "  <thead>\n",
       "    <tr style=\"text-align: right;\">\n",
       "      <th></th>\n",
       "      <th>dados</th>\n",
       "    </tr>\n",
       "  </thead>\n",
       "  <tbody>\n",
       "    <tr>\n",
       "      <th>0</th>\n",
       "      <td>160</td>\n",
       "    </tr>\n",
       "    <tr>\n",
       "      <th>1</th>\n",
       "      <td>155</td>\n",
       "    </tr>\n",
       "    <tr>\n",
       "      <th>2</th>\n",
       "      <td>165</td>\n",
       "    </tr>\n",
       "    <tr>\n",
       "      <th>3</th>\n",
       "      <td>167</td>\n",
       "    </tr>\n",
       "    <tr>\n",
       "      <th>4</th>\n",
       "      <td>169</td>\n",
       "    </tr>\n",
       "    <tr>\n",
       "      <th>5</th>\n",
       "      <td>171</td>\n",
       "    </tr>\n",
       "    <tr>\n",
       "      <th>6</th>\n",
       "      <td>182</td>\n",
       "    </tr>\n",
       "    <tr>\n",
       "      <th>7</th>\n",
       "      <td>155</td>\n",
       "    </tr>\n",
       "    <tr>\n",
       "      <th>8</th>\n",
       "      <td>159</td>\n",
       "    </tr>\n",
       "    <tr>\n",
       "      <th>9</th>\n",
       "      <td>167</td>\n",
       "    </tr>\n",
       "    <tr>\n",
       "      <th>10</th>\n",
       "      <td>164</td>\n",
       "    </tr>\n",
       "    <tr>\n",
       "      <th>11</th>\n",
       "      <td>157</td>\n",
       "    </tr>\n",
       "    <tr>\n",
       "      <th>12</th>\n",
       "      <td>177</td>\n",
       "    </tr>\n",
       "    <tr>\n",
       "      <th>13</th>\n",
       "      <td>187</td>\n",
       "    </tr>\n",
       "    <tr>\n",
       "      <th>14</th>\n",
       "      <td>199</td>\n",
       "    </tr>\n",
       "    <tr>\n",
       "      <th>15</th>\n",
       "      <td>147</td>\n",
       "    </tr>\n",
       "    <tr>\n",
       "      <th>16</th>\n",
       "      <td>167</td>\n",
       "    </tr>\n",
       "    <tr>\n",
       "      <th>17</th>\n",
       "      <td>150</td>\n",
       "    </tr>\n",
       "    <tr>\n",
       "      <th>18</th>\n",
       "      <td>149</td>\n",
       "    </tr>\n",
       "    <tr>\n",
       "      <th>19</th>\n",
       "      <td>160</td>\n",
       "    </tr>\n",
       "    <tr>\n",
       "      <th>20</th>\n",
       "      <td>144</td>\n",
       "    </tr>\n",
       "    <tr>\n",
       "      <th>21</th>\n",
       "      <td>155</td>\n",
       "    </tr>\n",
       "    <tr>\n",
       "      <th>22</th>\n",
       "      <td>178</td>\n",
       "    </tr>\n",
       "    <tr>\n",
       "      <th>23</th>\n",
       "      <td>199</td>\n",
       "    </tr>\n",
       "    <tr>\n",
       "      <th>24</th>\n",
       "      <td>190</td>\n",
       "    </tr>\n",
       "    <tr>\n",
       "      <th>25</th>\n",
       "      <td>156</td>\n",
       "    </tr>\n",
       "    <tr>\n",
       "      <th>26</th>\n",
       "      <td>146</td>\n",
       "    </tr>\n",
       "    <tr>\n",
       "      <th>27</th>\n",
       "      <td>178</td>\n",
       "    </tr>\n",
       "    <tr>\n",
       "      <th>28</th>\n",
       "      <td>177</td>\n",
       "    </tr>\n",
       "    <tr>\n",
       "      <th>29</th>\n",
       "      <td>158</td>\n",
       "    </tr>\n",
       "    <tr>\n",
       "      <th>30</th>\n",
       "      <td>177</td>\n",
       "    </tr>\n",
       "    <tr>\n",
       "      <th>31</th>\n",
       "      <td>187</td>\n",
       "    </tr>\n",
       "    <tr>\n",
       "      <th>32</th>\n",
       "      <td>157</td>\n",
       "    </tr>\n",
       "    <tr>\n",
       "      <th>33</th>\n",
       "      <td>145</td>\n",
       "    </tr>\n",
       "    <tr>\n",
       "      <th>34</th>\n",
       "      <td>167</td>\n",
       "    </tr>\n",
       "    <tr>\n",
       "      <th>35</th>\n",
       "      <td>176</td>\n",
       "    </tr>\n",
       "    <tr>\n",
       "      <th>36</th>\n",
       "      <td>167</td>\n",
       "    </tr>\n",
       "    <tr>\n",
       "      <th>37</th>\n",
       "      <td>177</td>\n",
       "    </tr>\n",
       "    <tr>\n",
       "      <th>38</th>\n",
       "      <td>155</td>\n",
       "    </tr>\n",
       "    <tr>\n",
       "      <th>39</th>\n",
       "      <td>167</td>\n",
       "    </tr>\n",
       "  </tbody>\n",
       "</table>\n",
       "</div>"
      ],
      "text/plain": [
       "    dados\n",
       "0     160\n",
       "1     155\n",
       "2     165\n",
       "3     167\n",
       "4     169\n",
       "5     171\n",
       "6     182\n",
       "7     155\n",
       "8     159\n",
       "9     167\n",
       "10    164\n",
       "11    157\n",
       "12    177\n",
       "13    187\n",
       "14    199\n",
       "15    147\n",
       "16    167\n",
       "17    150\n",
       "18    149\n",
       "19    160\n",
       "20    144\n",
       "21    155\n",
       "22    178\n",
       "23    199\n",
       "24    190\n",
       "25    156\n",
       "26    146\n",
       "27    178\n",
       "28    177\n",
       "29    158\n",
       "30    177\n",
       "31    187\n",
       "32    157\n",
       "33    145\n",
       "34    167\n",
       "35    176\n",
       "36    167\n",
       "37    177\n",
       "38    155\n",
       "39    167"
      ]
     },
     "execution_count": 56,
     "metadata": {},
     "output_type": "execute_result"
    }
   ],
   "source": [
    "dataset = pd.DataFrame({'dados':dados})\n",
    "dataset"
   ]
  },
  {
   "cell_type": "code",
   "execution_count": 57,
   "id": "d630662b",
   "metadata": {},
   "outputs": [
    {
     "data": {
      "text/html": [
       "<div>\n",
       "<style scoped>\n",
       "    .dataframe tbody tr th:only-of-type {\n",
       "        vertical-align: middle;\n",
       "    }\n",
       "\n",
       "    .dataframe tbody tr th {\n",
       "        vertical-align: top;\n",
       "    }\n",
       "\n",
       "    .dataframe thead th {\n",
       "        text-align: right;\n",
       "    }\n",
       "</style>\n",
       "<table border=\"1\" class=\"dataframe\">\n",
       "  <thead>\n",
       "    <tr style=\"text-align: right;\">\n",
       "      <th></th>\n",
       "      <th>dados</th>\n",
       "    </tr>\n",
       "  </thead>\n",
       "  <tbody>\n",
       "    <tr>\n",
       "      <th>0</th>\n",
       "      <td>160</td>\n",
       "    </tr>\n",
       "    <tr>\n",
       "      <th>1</th>\n",
       "      <td>155</td>\n",
       "    </tr>\n",
       "    <tr>\n",
       "      <th>2</th>\n",
       "      <td>165</td>\n",
       "    </tr>\n",
       "    <tr>\n",
       "      <th>3</th>\n",
       "      <td>167</td>\n",
       "    </tr>\n",
       "    <tr>\n",
       "      <th>4</th>\n",
       "      <td>169</td>\n",
       "    </tr>\n",
       "  </tbody>\n",
       "</table>\n",
       "</div>"
      ],
      "text/plain": [
       "   dados\n",
       "0    160\n",
       "1    155\n",
       "2    165\n",
       "3    167\n",
       "4    169"
      ]
     },
     "execution_count": 57,
     "metadata": {},
     "output_type": "execute_result"
    }
   ],
   "source": [
    "dataset.head()"
   ]
  },
  {
   "cell_type": "code",
   "execution_count": 60,
   "id": "7964d164",
   "metadata": {},
   "outputs": [
    {
     "data": {
      "image/png": "[encoded data removed]",
      "text/plain": [
       "<Figure size 432x288 with 1 Axes>"
      ]
     },
     "metadata": {
      "needs_background": "light"
     },
     "output_type": "display_data"
    }
   ],
   "source": [
    "dataset.plot.hist();"
   ]
  },
  {
   "cell_type": "code",
   "execution_count": 64,
   "id": "9041d071",
   "metadata": {},
   "outputs": [
    {
     "name": "stderr",
     "output_type": "stream",
     "text": [
      "C:\\Users\\Matheus\\anaconda3\\lib\\site-packages\\seaborn\\distributions.py:2619: FutureWarning: `distplot` is a deprecated function and will be removed in a future version. Please adapt your code to use either `displot` (a figure-level function with similar flexibility) or `histplot` (an axes-level function for histograms).\n",
      "  warnings.warn(msg, FutureWarning)\n"
     ]
    },
    {
     "data": {
      "image/png": "[encoded data removed]",
      "text/plain": [
       "<Figure size 432x288 with 1 Axes>"
      ]
     },
     "metadata": {
      "needs_background": "light"
     },
     "output_type": "display_data"
    }
   ],
   "source": [
    "sns.distplot(dados, hist=True);"
   ]
  },
  {
   "cell_type": "code",
   "execution_count": 65,
   "id": "390a2b33",
   "metadata": {},
   "outputs": [
    {
     "data": {
      "text/html": [
       "<div>\n",
       "<style scoped>\n",
       "    .dataframe tbody tr th:only-of-type {\n",
       "        vertical-align: middle;\n",
       "    }\n",
       "\n",
       "    .dataframe tbody tr th {\n",
       "        vertical-align: top;\n",
       "    }\n",
       "\n",
       "    .dataframe thead th {\n",
       "        text-align: right;\n",
       "    }\n",
       "</style>\n",
       "<table border=\"1\" class=\"dataframe\">\n",
       "  <thead>\n",
       "    <tr style=\"text-align: right;\">\n",
       "      <th></th>\n",
       "      <th>age</th>\n",
       "      <th>workclass</th>\n",
       "      <th>final-weight</th>\n",
       "      <th>education</th>\n",
       "      <th>education-num</th>\n",
       "      <th>marital-status</th>\n",
       "      <th>occupation</th>\n",
       "      <th>relationship</th>\n",
       "      <th>race</th>\n",
       "      <th>sex</th>\n",
       "      <th>capital-gain</th>\n",
       "      <th>capital-loos</th>\n",
       "      <th>hour-per-week</th>\n",
       "      <th>native-country</th>\n",
       "      <th>income</th>\n",
       "    </tr>\n",
       "  </thead>\n",
       "  <tbody>\n",
       "    <tr>\n",
       "      <th>0</th>\n",
       "      <td>39</td>\n",
       "      <td>State-gov</td>\n",
       "      <td>77516</td>\n",
       "      <td>Bachelors</td>\n",
       "      <td>13</td>\n",
       "      <td>Never-married</td>\n",
       "      <td>Adm-clerical</td>\n",
       "      <td>Not-in-family</td>\n",
       "      <td>White</td>\n",
       "      <td>Male</td>\n",
       "      <td>2174</td>\n",
       "      <td>0</td>\n",
       "      <td>40</td>\n",
       "      <td>United-States</td>\n",
       "      <td>&lt;=50K</td>\n",
       "    </tr>\n",
       "    <tr>\n",
       "      <th>1</th>\n",
       "      <td>50</td>\n",
       "      <td>Self-emp-not-inc</td>\n",
       "      <td>83311</td>\n",
       "      <td>Bachelors</td>\n",
       "      <td>13</td>\n",
       "      <td>Married-civ-spouse</td>\n",
       "      <td>Exec-managerial</td>\n",
       "      <td>Husband</td>\n",
       "      <td>White</td>\n",
       "      <td>Male</td>\n",
       "      <td>0</td>\n",
       "      <td>0</td>\n",
       "      <td>13</td>\n",
       "      <td>United-States</td>\n",
       "      <td>&lt;=50K</td>\n",
       "    </tr>\n",
       "    <tr>\n",
       "      <th>2</th>\n",
       "      <td>38</td>\n",
       "      <td>Private</td>\n",
       "      <td>215646</td>\n",
       "      <td>HS-grad</td>\n",
       "      <td>9</td>\n",
       "      <td>Divorced</td>\n",
       "      <td>Handlers-cleaners</td>\n",
       "      <td>Not-in-family</td>\n",
       "      <td>White</td>\n",
       "      <td>Male</td>\n",
       "      <td>0</td>\n",
       "      <td>0</td>\n",
       "      <td>40</td>\n",
       "      <td>United-States</td>\n",
       "      <td>&lt;=50K</td>\n",
       "    </tr>\n",
       "    <tr>\n",
       "      <th>3</th>\n",
       "      <td>53</td>\n",
       "      <td>Private</td>\n",
       "      <td>234721</td>\n",
       "      <td>11th</td>\n",
       "      <td>7</td>\n",
       "      <td>Married-civ-spouse</td>\n",
       "      <td>Handlers-cleaners</td>\n",
       "      <td>Husband</td>\n",
       "      <td>Black</td>\n",
       "      <td>Male</td>\n",
       "      <td>0</td>\n",
       "      <td>0</td>\n",
       "      <td>40</td>\n",
       "      <td>United-States</td>\n",
       "      <td>&lt;=50K</td>\n",
       "    </tr>\n",
       "    <tr>\n",
       "      <th>4</th>\n",
       "      <td>28</td>\n",
       "      <td>Private</td>\n",
       "      <td>338409</td>\n",
       "      <td>Bachelors</td>\n",
       "      <td>13</td>\n",
       "      <td>Married-civ-spouse</td>\n",
       "      <td>Prof-specialty</td>\n",
       "      <td>Wife</td>\n",
       "      <td>Black</td>\n",
       "      <td>Female</td>\n",
       "      <td>0</td>\n",
       "      <td>0</td>\n",
       "      <td>40</td>\n",
       "      <td>Cuba</td>\n",
       "      <td>&lt;=50K</td>\n",
       "    </tr>\n",
       "  </tbody>\n",
       "</table>\n",
       "</div>"
      ],
      "text/plain": [
       "   age          workclass  final-weight   education  education-num  \\\n",
       "0   39          State-gov         77516   Bachelors             13   \n",
       "1   50   Self-emp-not-inc         83311   Bachelors             13   \n",
       "2   38            Private        215646     HS-grad              9   \n",
       "3   53            Private        234721        11th              7   \n",
       "4   28            Private        338409   Bachelors             13   \n",
       "\n",
       "        marital-status          occupation    relationship    race      sex  \\\n",
       "0        Never-married        Adm-clerical   Not-in-family   White     Male   \n",
       "1   Married-civ-spouse     Exec-managerial         Husband   White     Male   \n",
       "2             Divorced   Handlers-cleaners   Not-in-family   White     Male   \n",
       "3   Married-civ-spouse   Handlers-cleaners         Husband   Black     Male   \n",
       "4   Married-civ-spouse      Prof-specialty            Wife   Black   Female   \n",
       "\n",
       "   capital-gain  capital-loos  hour-per-week  native-country  income  \n",
       "0          2174             0             40   United-States   <=50K  \n",
       "1             0             0             13   United-States   <=50K  \n",
       "2             0             0             40   United-States   <=50K  \n",
       "3             0             0             40   United-States   <=50K  \n",
       "4             0             0             40            Cuba   <=50K  "
      ]
     },
     "execution_count": 65,
     "metadata": {},
     "output_type": "execute_result"
    }
   ],
   "source": [
    "censo = pd.read_csv('../Bases de dados/census.csv')\n",
    "censo.head()"
   ]
  },
  {
   "cell_type": "code",
   "execution_count": 66,
   "id": "96a80485",
   "metadata": {},
   "outputs": [
    {
     "data": {
      "text/plain": [
       "32561"
      ]
     },
     "execution_count": 66,
     "metadata": {},
     "output_type": "execute_result"
    }
   ],
   "source": [
    "censo['age'].count() # total da somatória das idades"
   ]
  },
  {
   "cell_type": "code",
   "execution_count": 68,
   "id": "8876d009",
   "metadata": {},
   "outputs": [
    {
     "data": {
      "text/plain": [
       "36    898\n",
       "31    888\n",
       "34    886\n",
       "23    877\n",
       "35    876\n",
       "     ... \n",
       "83      6\n",
       "88      3\n",
       "85      3\n",
       "86      1\n",
       "87      1\n",
       "Name: age, Length: 73, dtype: int64"
      ]
     },
     "execution_count": 68,
     "metadata": {},
     "output_type": "execute_result"
    }
   ],
   "source": [
    "censo['age'].value_counts() # contamos a frequência de cada idade"
   ]
  },
  {
   "cell_type": "code",
   "execution_count": 76,
   "id": "4427632f",
   "metadata": {},
   "outputs": [
    {
     "data": {
      "text/plain": [
       "(90, 17)"
      ]
     },
     "execution_count": 76,
     "metadata": {},
     "output_type": "execute_result"
    }
   ],
   "source": [
    "censo['age'].max(), censo['age'].min()"
   ]
  },
  {
   "cell_type": "code",
   "execution_count": 77,
   "id": "558eed91",
   "metadata": {},
   "outputs": [
    {
     "data": {
      "text/plain": [
       "<AxesSubplot:ylabel='Frequency'>"
      ]
     },
     "execution_count": 77,
     "metadata": {},
     "output_type": "execute_result"
    },
    {
     "data": {
      "image/png": "[encoded data removed]",
      "text/plain": [
       "<Figure size 432x288 with 1 Axes>"
      ]
     },
     "metadata": {
      "needs_background": "light"
     },
     "output_type": "display_data"
    }
   ],
   "source": [
    "censo['age'].plot.hist()"
   ]
  },
  {
   "cell_type": "code",
   "execution_count": 91,
   "id": "8d313e6e",
   "metadata": {},
   "outputs": [],
   "source": [
    "censo['age'] = pd.cut(censo['age'], \n",
    "                      bins=[0, 17, 25, 40, 60, 90], \n",
    "                      labels=['Faixa1', 'Faixa2', 'Faixa3', 'Faixa4', 'Faixa5'])"
   ]
  },
  {
   "cell_type": "code",
   "execution_count": 92,
   "id": "88bc70d5",
   "metadata": {},
   "outputs": [
    {
     "data": {
      "text/plain": [
       "['Faixa3', 'Faixa4', 'Faixa2', 'Faixa5', 'Faixa1']\n",
       "Categories (5, object): ['Faixa1' < 'Faixa2' < 'Faixa3' < 'Faixa4' < 'Faixa5']"
      ]
     },
     "execution_count": 92,
     "metadata": {},
     "output_type": "execute_result"
    }
   ],
   "source": [
    "censo['age'].unique()"
   ]
  },
  {
   "cell_type": "code",
   "execution_count": 70,
   "id": "d51df4c5",
   "metadata": {},
   "outputs": [
    {
     "data": {
      "image/png": "[encoded data removed]",
      "text/plain": [
       "<Figure size 432x288 with 1 Axes>"
      ]
     },
     "metadata": {
      "needs_background": "light"
     },
     "output_type": "display_data"
    }
   ],
   "source": [
    "sns.distplot(censo['age'], hist=True); # usando o seaborn"
   ]
  },
  {
   "cell_type": "code",
   "execution_count": 73,
   "id": "8e098131",
   "metadata": {},
   "outputs": [
    {
     "data": {
      "text/plain": [
       "(array([3130., 4066., 3376., 4353., 3399., 3876., 2722., 2716., 1924.,\n",
       "        1225.,  917.,  389.,  273.,   96.,   51.,   48.]),\n",
       " array([17.    , 21.5625, 26.125 , 30.6875, 35.25  , 39.8125, 44.375 ,\n",
       "        48.9375, 53.5   , 58.0625, 62.625 , 67.1875, 71.75  , 76.3125,\n",
       "        80.875 , 85.4375, 90.    ]),\n",
       " <BarContainer object of 16 artists>)"
      ]
     },
     "execution_count": 73,
     "metadata": {},
     "output_type": "execute_result"
    },
    {
     "data": {
      "image/png": "[encoded data removed]",
      "text/plain": [
       "<Figure size 432x288 with 1 Axes>"
      ]
     },
     "metadata": {
      "needs_background": "light"
     },
     "output_type": "display_data"
    }
   ],
   "source": [
    "frequencia, classes = np.histogram(censo['age'], bins = 'sturges')\n",
    "plt.hist(censo['age'], classes)"
   ]
  },
  {
   "cell_type": "markdown",
   "id": "658d4ce4",
   "metadata": {},
   "source": [
    "### Regras de Associação"
   ]
  },
  {
   "cell_type": "code",
   "execution_count": 86,
   "id": "59cbe9dc",
   "metadata": {},
   "outputs": [
    {
     "data": {
      "text/html": [
       "<div>\n",
       "<style scoped>\n",
       "    .dataframe tbody tr th:only-of-type {\n",
       "        vertical-align: middle;\n",
       "    }\n",
       "\n",
       "    .dataframe tbody tr th {\n",
       "        vertical-align: top;\n",
       "    }\n",
       "\n",
       "    .dataframe thead th {\n",
       "        text-align: right;\n",
       "    }\n",
       "</style>\n",
       "<table border=\"1\" class=\"dataframe\">\n",
       "  <thead>\n",
       "    <tr style=\"text-align: right;\">\n",
       "      <th></th>\n",
       "      <th>age</th>\n",
       "      <th>workclass</th>\n",
       "      <th>final-weight</th>\n",
       "      <th>education</th>\n",
       "      <th>education-num</th>\n",
       "      <th>marital-status</th>\n",
       "      <th>occupation</th>\n",
       "      <th>relationship</th>\n",
       "      <th>race</th>\n",
       "      <th>sex</th>\n",
       "      <th>capital-gain</th>\n",
       "      <th>capital-loos</th>\n",
       "      <th>hour-per-week</th>\n",
       "      <th>native-country</th>\n",
       "      <th>income</th>\n",
       "    </tr>\n",
       "  </thead>\n",
       "  <tbody>\n",
       "    <tr>\n",
       "      <th>0</th>\n",
       "      <td>39</td>\n",
       "      <td>State-gov</td>\n",
       "      <td>77516</td>\n",
       "      <td>Bachelors</td>\n",
       "      <td>13</td>\n",
       "      <td>Never-married</td>\n",
       "      <td>Adm-clerical</td>\n",
       "      <td>Not-in-family</td>\n",
       "      <td>White</td>\n",
       "      <td>Male</td>\n",
       "      <td>2174</td>\n",
       "      <td>0</td>\n",
       "      <td>40</td>\n",
       "      <td>United-States</td>\n",
       "      <td>&lt;=50K</td>\n",
       "    </tr>\n",
       "    <tr>\n",
       "      <th>1</th>\n",
       "      <td>50</td>\n",
       "      <td>Self-emp-not-inc</td>\n",
       "      <td>83311</td>\n",
       "      <td>Bachelors</td>\n",
       "      <td>13</td>\n",
       "      <td>Married-civ-spouse</td>\n",
       "      <td>Exec-managerial</td>\n",
       "      <td>Husband</td>\n",
       "      <td>White</td>\n",
       "      <td>Male</td>\n",
       "      <td>0</td>\n",
       "      <td>0</td>\n",
       "      <td>13</td>\n",
       "      <td>United-States</td>\n",
       "      <td>&lt;=50K</td>\n",
       "    </tr>\n",
       "    <tr>\n",
       "      <th>2</th>\n",
       "      <td>38</td>\n",
       "      <td>Private</td>\n",
       "      <td>215646</td>\n",
       "      <td>HS-grad</td>\n",
       "      <td>9</td>\n",
       "      <td>Divorced</td>\n",
       "      <td>Handlers-cleaners</td>\n",
       "      <td>Not-in-family</td>\n",
       "      <td>White</td>\n",
       "      <td>Male</td>\n",
       "      <td>0</td>\n",
       "      <td>0</td>\n",
       "      <td>40</td>\n",
       "      <td>United-States</td>\n",
       "      <td>&lt;=50K</td>\n",
       "    </tr>\n",
       "    <tr>\n",
       "      <th>3</th>\n",
       "      <td>53</td>\n",
       "      <td>Private</td>\n",
       "      <td>234721</td>\n",
       "      <td>11th</td>\n",
       "      <td>7</td>\n",
       "      <td>Married-civ-spouse</td>\n",
       "      <td>Handlers-cleaners</td>\n",
       "      <td>Husband</td>\n",
       "      <td>Black</td>\n",
       "      <td>Male</td>\n",
       "      <td>0</td>\n",
       "      <td>0</td>\n",
       "      <td>40</td>\n",
       "      <td>United-States</td>\n",
       "      <td>&lt;=50K</td>\n",
       "    </tr>\n",
       "    <tr>\n",
       "      <th>4</th>\n",
       "      <td>28</td>\n",
       "      <td>Private</td>\n",
       "      <td>338409</td>\n",
       "      <td>Bachelors</td>\n",
       "      <td>13</td>\n",
       "      <td>Married-civ-spouse</td>\n",
       "      <td>Prof-specialty</td>\n",
       "      <td>Wife</td>\n",
       "      <td>Black</td>\n",
       "      <td>Female</td>\n",
       "      <td>0</td>\n",
       "      <td>0</td>\n",
       "      <td>40</td>\n",
       "      <td>Cuba</td>\n",
       "      <td>&lt;=50K</td>\n",
       "    </tr>\n",
       "  </tbody>\n",
       "</table>\n",
       "</div>"
      ],
      "text/plain": [
       "   age          workclass  final-weight   education  education-num  \\\n",
       "0   39          State-gov         77516   Bachelors             13   \n",
       "1   50   Self-emp-not-inc         83311   Bachelors             13   \n",
       "2   38            Private        215646     HS-grad              9   \n",
       "3   53            Private        234721        11th              7   \n",
       "4   28            Private        338409   Bachelors             13   \n",
       "\n",
       "        marital-status          occupation    relationship    race      sex  \\\n",
       "0        Never-married        Adm-clerical   Not-in-family   White     Male   \n",
       "1   Married-civ-spouse     Exec-managerial         Husband   White     Male   \n",
       "2             Divorced   Handlers-cleaners   Not-in-family   White     Male   \n",
       "3   Married-civ-spouse   Handlers-cleaners         Husband   Black     Male   \n",
       "4   Married-civ-spouse      Prof-specialty            Wife   Black   Female   \n",
       "\n",
       "   capital-gain  capital-loos  hour-per-week  native-country  income  \n",
       "0          2174             0             40   United-States   <=50K  \n",
       "1             0             0             13   United-States   <=50K  \n",
       "2             0             0             40   United-States   <=50K  \n",
       "3             0             0             40   United-States   <=50K  \n",
       "4             0             0             40            Cuba   <=50K  "
      ]
     },
     "execution_count": 86,
     "metadata": {},
     "output_type": "execute_result"
    }
   ],
   "source": [
    "censo = pd.read_csv('../Bases de dados/census.csv')\n",
    "censo.head()"
   ]
  },
  {
   "cell_type": "code",
   "execution_count": 93,
   "id": "d1576ed8",
   "metadata": {},
   "outputs": [
    {
     "data": {
      "text/html": [
       "<div>\n",
       "<style scoped>\n",
       "    .dataframe tbody tr th:only-of-type {\n",
       "        vertical-align: middle;\n",
       "    }\n",
       "\n",
       "    .dataframe tbody tr th {\n",
       "        vertical-align: top;\n",
       "    }\n",
       "\n",
       "    .dataframe thead th {\n",
       "        text-align: right;\n",
       "    }\n",
       "</style>\n",
       "<table border=\"1\" class=\"dataframe\">\n",
       "  <thead>\n",
       "    <tr style=\"text-align: right;\">\n",
       "      <th></th>\n",
       "      <th>age</th>\n",
       "      <th>workclass</th>\n",
       "      <th>education</th>\n",
       "      <th>marital-status</th>\n",
       "      <th>relationship</th>\n",
       "      <th>occupation</th>\n",
       "      <th>sex</th>\n",
       "      <th>native-country</th>\n",
       "      <th>income</th>\n",
       "    </tr>\n",
       "  </thead>\n",
       "  <tbody>\n",
       "    <tr>\n",
       "      <th>0</th>\n",
       "      <td>Faixa3</td>\n",
       "      <td>State-gov</td>\n",
       "      <td>Bachelors</td>\n",
       "      <td>Never-married</td>\n",
       "      <td>Not-in-family</td>\n",
       "      <td>Adm-clerical</td>\n",
       "      <td>Male</td>\n",
       "      <td>United-States</td>\n",
       "      <td>&lt;=50K</td>\n",
       "    </tr>\n",
       "    <tr>\n",
       "      <th>1</th>\n",
       "      <td>Faixa4</td>\n",
       "      <td>Self-emp-not-inc</td>\n",
       "      <td>Bachelors</td>\n",
       "      <td>Married-civ-spouse</td>\n",
       "      <td>Husband</td>\n",
       "      <td>Exec-managerial</td>\n",
       "      <td>Male</td>\n",
       "      <td>United-States</td>\n",
       "      <td>&lt;=50K</td>\n",
       "    </tr>\n",
       "    <tr>\n",
       "      <th>2</th>\n",
       "      <td>Faixa3</td>\n",
       "      <td>Private</td>\n",
       "      <td>HS-grad</td>\n",
       "      <td>Divorced</td>\n",
       "      <td>Not-in-family</td>\n",
       "      <td>Handlers-cleaners</td>\n",
       "      <td>Male</td>\n",
       "      <td>United-States</td>\n",
       "      <td>&lt;=50K</td>\n",
       "    </tr>\n",
       "    <tr>\n",
       "      <th>3</th>\n",
       "      <td>Faixa4</td>\n",
       "      <td>Private</td>\n",
       "      <td>11th</td>\n",
       "      <td>Married-civ-spouse</td>\n",
       "      <td>Husband</td>\n",
       "      <td>Handlers-cleaners</td>\n",
       "      <td>Male</td>\n",
       "      <td>United-States</td>\n",
       "      <td>&lt;=50K</td>\n",
       "    </tr>\n",
       "    <tr>\n",
       "      <th>4</th>\n",
       "      <td>Faixa3</td>\n",
       "      <td>Private</td>\n",
       "      <td>Bachelors</td>\n",
       "      <td>Married-civ-spouse</td>\n",
       "      <td>Wife</td>\n",
       "      <td>Prof-specialty</td>\n",
       "      <td>Female</td>\n",
       "      <td>Cuba</td>\n",
       "      <td>&lt;=50K</td>\n",
       "    </tr>\n",
       "  </tbody>\n",
       "</table>\n",
       "</div>"
      ],
      "text/plain": [
       "      age          workclass   education       marital-status    relationship  \\\n",
       "0  Faixa3          State-gov   Bachelors        Never-married   Not-in-family   \n",
       "1  Faixa4   Self-emp-not-inc   Bachelors   Married-civ-spouse         Husband   \n",
       "2  Faixa3            Private     HS-grad             Divorced   Not-in-family   \n",
       "3  Faixa4            Private        11th   Married-civ-spouse         Husband   \n",
       "4  Faixa3            Private   Bachelors   Married-civ-spouse            Wife   \n",
       "\n",
       "           occupation      sex  native-country  income  \n",
       "0        Adm-clerical     Male   United-States   <=50K  \n",
       "1     Exec-managerial     Male   United-States   <=50K  \n",
       "2   Handlers-cleaners     Male   United-States   <=50K  \n",
       "3   Handlers-cleaners     Male   United-States   <=50K  \n",
       "4      Prof-specialty   Female            Cuba   <=50K  "
      ]
     },
     "execution_count": 93,
     "metadata": {},
     "output_type": "execute_result"
    }
   ],
   "source": [
    "dataset_apriori = censo[['age', 'workclass', 'education', 'marital-status', 'relationship', 'occupation',\n",
    "                        'sex', 'native-country', 'income']]\n",
    "dataset_apriori.head()"
   ]
  },
  {
   "cell_type": "code",
   "execution_count": 94,
   "id": "efd4c7b2",
   "metadata": {},
   "outputs": [
    {
     "data": {
      "text/plain": [
       "(32561, 9)"
      ]
     },
     "execution_count": 94,
     "metadata": {},
     "output_type": "execute_result"
    }
   ],
   "source": [
    "dataset_apriori.shape"
   ]
  },
  {
   "cell_type": "code",
   "execution_count": 95,
   "id": "a3b77c37",
   "metadata": {},
   "outputs": [
    {
     "data": {
      "text/plain": [
       "(1000, 9)"
      ]
     },
     "execution_count": 95,
     "metadata": {},
     "output_type": "execute_result"
    }
   ],
   "source": [
    "dataset_apriori = dataset_apriori.sample(n = 1000) # selecionando 1000 registros\n",
    "dataset_apriori.shape"
   ]
  },
  {
   "cell_type": "code",
   "execution_count": 96,
   "id": "0308f80d",
   "metadata": {},
   "outputs": [],
   "source": [
    "transacoes = []\n",
    "for i in range(dataset_apriori.shape[0]):\n",
    "    transacoes.append([str(dataset_apriori.values[i, j]) for j in range(dataset_apriori.shape[1]) ])"
   ]
  },
  {
   "cell_type": "code",
   "execution_count": 97,
   "id": "e5c1ab96",
   "metadata": {},
   "outputs": [
    {
     "data": {
      "text/plain": [
       "1000"
      ]
     },
     "execution_count": 97,
     "metadata": {},
     "output_type": "execute_result"
    }
   ],
   "source": [
    "len(transacoes)"
   ]
  },
  {
   "cell_type": "code",
   "execution_count": 99,
   "id": "df815a41",
   "metadata": {},
   "outputs": [
    {
     "data": {
      "text/plain": [
       "[['Faixa4',\n",
       "  ' State-gov',\n",
       "  ' Some-college',\n",
       "  ' Married-civ-spouse',\n",
       "  ' Husband',\n",
       "  ' Prof-specialty',\n",
       "  ' Male',\n",
       "  ' United-States',\n",
       "  ' >50K'],\n",
       " ['Faixa2',\n",
       "  ' Private',\n",
       "  ' Some-college',\n",
       "  ' Never-married',\n",
       "  ' Own-child',\n",
       "  ' Sales',\n",
       "  ' Female',\n",
       "  ' United-States',\n",
       "  ' <=50K']]"
      ]
     },
     "execution_count": 99,
     "metadata": {},
     "output_type": "execute_result"
    }
   ],
   "source": [
    "transacoes[:2]"
   ]
  },
  {
   "cell_type": "code",
   "execution_count": 100,
   "id": "6a280758",
   "metadata": {},
   "outputs": [
    {
     "name": "stdout",
     "output_type": "stream",
     "text": [
      "Collecting apyori\n",
      "  Downloading apyori-1.1.2.tar.gz (8.6 kB)\n",
      "Building wheels for collected packages: apyori\n",
      "  Building wheel for apyori (setup.py): started\n",
      "  Building wheel for apyori (setup.py): finished with status 'done'\n",
      "  Created wheel for apyori: filename=apyori-1.1.2-py3-none-any.whl size=5974 sha256=b26cbbc5a18ac3b322077dbe800fdac3bde16e9aa77a802a07445557873bb19b\n",
      "  Stored in directory: c:\\users\\matheus\\appdata\\local\\pip\\cache\\wheels\\32\\2a\\54\\10c595515f385f3726642b10c60bf788029e8f3a1323e3913a\n",
      "Successfully built apyori\n",
      "Installing collected packages: apyori\n",
      "Successfully installed apyori-1.1.2\n"
     ]
    }
   ],
   "source": [
    "!pip install apyori"
   ]
  },
  {
   "cell_type": "code",
   "execution_count": 101,
   "id": "def8e0ea",
   "metadata": {},
   "outputs": [],
   "source": [
    "from apyori import apriori"
   ]
  },
  {
   "cell_type": "code",
   "execution_count": 102,
   "id": "af3e1f73",
   "metadata": {},
   "outputs": [],
   "source": [
    "regras = apriori(transacoes, min_support = 0.3, min_confidence = 0.2)\n",
    "resultados = list(regras)\n"
   ]
  },
  {
   "cell_type": "code",
   "execution_count": 103,
   "id": "b6a69dc2",
   "metadata": {},
   "outputs": [
    {
     "data": {
      "text/plain": [
       "37"
      ]
     },
     "execution_count": 103,
     "metadata": {},
     "output_type": "execute_result"
    }
   ],
   "source": [
    "len(resultados)"
   ]
  },
  {
   "cell_type": "code",
   "execution_count": 104,
   "id": "c98f1441",
   "metadata": {},
   "outputs": [
    {
     "data": {
      "text/plain": [
       "[RelationRecord(items=frozenset({' <=50K'}), support=0.775, ordered_statistics=[OrderedStatistic(items_base=frozenset(), items_add=frozenset({' <=50K'}), confidence=0.775, lift=1.0)]),\n",
       " RelationRecord(items=frozenset({' Female'}), support=0.325, ordered_statistics=[OrderedStatistic(items_base=frozenset(), items_add=frozenset({' Female'}), confidence=0.325, lift=1.0)]),\n",
       " RelationRecord(items=frozenset({' HS-grad'}), support=0.338, ordered_statistics=[OrderedStatistic(items_base=frozenset(), items_add=frozenset({' HS-grad'}), confidence=0.338, lift=1.0)]),\n",
       " RelationRecord(items=frozenset({' Husband'}), support=0.408, ordered_statistics=[OrderedStatistic(items_base=frozenset(), items_add=frozenset({' Husband'}), confidence=0.408, lift=1.0)]),\n",
       " RelationRecord(items=frozenset({' Male'}), support=0.675, ordered_statistics=[OrderedStatistic(items_base=frozenset(), items_add=frozenset({' Male'}), confidence=0.675, lift=1.0)]),\n",
       " RelationRecord(items=frozenset({' Married-civ-spouse'}), support=0.466, ordered_statistics=[OrderedStatistic(items_base=frozenset(), items_add=frozenset({' Married-civ-spouse'}), confidence=0.466, lift=1.0)]),\n",
       " RelationRecord(items=frozenset({' Never-married'}), support=0.317, ordered_statistics=[OrderedStatistic(items_base=frozenset(), items_add=frozenset({' Never-married'}), confidence=0.317, lift=1.0)]),\n",
       " RelationRecord(items=frozenset({' Private'}), support=0.673, ordered_statistics=[OrderedStatistic(items_base=frozenset(), items_add=frozenset({' Private'}), confidence=0.673, lift=1.0)]),\n",
       " RelationRecord(items=frozenset({' United-States'}), support=0.899, ordered_statistics=[OrderedStatistic(items_base=frozenset(), items_add=frozenset({' United-States'}), confidence=0.899, lift=1.0)]),\n",
       " RelationRecord(items=frozenset({'Faixa3'}), support=0.423, ordered_statistics=[OrderedStatistic(items_base=frozenset(), items_add=frozenset({'Faixa3'}), confidence=0.423, lift=1.0)]),\n",
       " RelationRecord(items=frozenset({'Faixa4'}), support=0.308, ordered_statistics=[OrderedStatistic(items_base=frozenset(), items_add=frozenset({'Faixa4'}), confidence=0.308, lift=1.0)]),\n",
       " RelationRecord(items=frozenset({' Male', ' <=50K'}), support=0.496, ordered_statistics=[OrderedStatistic(items_base=frozenset(), items_add=frozenset({' Male', ' <=50K'}), confidence=0.496, lift=1.0), OrderedStatistic(items_base=frozenset({' <=50K'}), items_add=frozenset({' Male'}), confidence=0.64, lift=0.9481481481481481), OrderedStatistic(items_base=frozenset({' Male'}), items_add=frozenset({' <=50K'}), confidence=0.7348148148148148, lift=0.9481481481481481)]),\n",
       " RelationRecord(items=frozenset({' Never-married', ' <=50K'}), support=0.304, ordered_statistics=[OrderedStatistic(items_base=frozenset(), items_add=frozenset({' Never-married', ' <=50K'}), confidence=0.304, lift=1.0), OrderedStatistic(items_base=frozenset({' <=50K'}), items_add=frozenset({' Never-married'}), confidence=0.392258064516129, lift=1.237407143584003), OrderedStatistic(items_base=frozenset({' Never-married'}), items_add=frozenset({' <=50K'}), confidence=0.9589905362776024, lift=1.237407143584003)]),\n",
       " RelationRecord(items=frozenset({' Private', ' <=50K'}), support=0.537, ordered_statistics=[OrderedStatistic(items_base=frozenset(), items_add=frozenset({' Private', ' <=50K'}), confidence=0.537, lift=1.0), OrderedStatistic(items_base=frozenset({' <=50K'}), items_add=frozenset({' Private'}), confidence=0.6929032258064516, lift=1.0295738867852178), OrderedStatistic(items_base=frozenset({' Private'}), items_add=frozenset({' <=50K'}), confidence=0.7979197622585439, lift=1.029573886785218)]),\n",
       " RelationRecord(items=frozenset({' United-States', ' <=50K'}), support=0.69, ordered_statistics=[OrderedStatistic(items_base=frozenset(), items_add=frozenset({' United-States', ' <=50K'}), confidence=0.69, lift=1.0), OrderedStatistic(items_base=frozenset({' <=50K'}), items_add=frozenset({' United-States'}), confidence=0.8903225806451612, lift=0.990347698159245), OrderedStatistic(items_base=frozenset({' United-States'}), items_add=frozenset({' <=50K'}), confidence=0.7675194660734148, lift=0.9903476981592448)]),\n",
       " RelationRecord(items=frozenset({' <=50K', 'Faixa3'}), support=0.33, ordered_statistics=[OrderedStatistic(items_base=frozenset(), items_add=frozenset({' <=50K', 'Faixa3'}), confidence=0.33, lift=1.0), OrderedStatistic(items_base=frozenset({' <=50K'}), items_add=frozenset({'Faixa3'}), confidence=0.42580645161290326, lift=1.00663463738275), OrderedStatistic(items_base=frozenset({'Faixa3'}), items_add=frozenset({' <=50K'}), confidence=0.7801418439716312, lift=1.00663463738275)]),\n",
       " RelationRecord(items=frozenset({' HS-grad', ' United-States'}), support=0.306, ordered_statistics=[OrderedStatistic(items_base=frozenset(), items_add=frozenset({' HS-grad', ' United-States'}), confidence=0.306, lift=1.0), OrderedStatistic(items_base=frozenset({' HS-grad'}), items_add=frozenset({' United-States'}), confidence=0.9053254437869822, lift=1.0070360887508145), OrderedStatistic(items_base=frozenset({' United-States'}), items_add=frozenset({' HS-grad'}), confidence=0.3403781979977753, lift=1.0070360887508145)]),\n",
       " RelationRecord(items=frozenset({' Husband', ' Male'}), support=0.408, ordered_statistics=[OrderedStatistic(items_base=frozenset(), items_add=frozenset({' Husband', ' Male'}), confidence=0.408, lift=1.0), OrderedStatistic(items_base=frozenset({' Husband'}), items_add=frozenset({' Male'}), confidence=1.0, lift=1.4814814814814814), OrderedStatistic(items_base=frozenset({' Male'}), items_add=frozenset({' Husband'}), confidence=0.6044444444444443, lift=1.4814814814814814)]),\n",
       " RelationRecord(items=frozenset({' Husband', ' Married-civ-spouse'}), support=0.408, ordered_statistics=[OrderedStatistic(items_base=frozenset(), items_add=frozenset({' Husband', ' Married-civ-spouse'}), confidence=0.408, lift=1.0), OrderedStatistic(items_base=frozenset({' Husband'}), items_add=frozenset({' Married-civ-spouse'}), confidence=1.0, lift=2.1459227467811157), OrderedStatistic(items_base=frozenset({' Married-civ-spouse'}), items_add=frozenset({' Husband'}), confidence=0.8755364806866952, lift=2.1459227467811157)]),\n",
       " RelationRecord(items=frozenset({' Husband', ' United-States'}), support=0.371, ordered_statistics=[OrderedStatistic(items_base=frozenset(), items_add=frozenset({' Husband', ' United-States'}), confidence=0.371, lift=1.0), OrderedStatistic(items_base=frozenset({' Husband'}), items_add=frozenset({' United-States'}), confidence=0.9093137254901962, lift=1.011472442147048), OrderedStatistic(items_base=frozenset({' United-States'}), items_add=frozenset({' Husband'}), confidence=0.41268075639599555, lift=1.011472442147048)]),\n",
       " RelationRecord(items=frozenset({' Male', ' Married-civ-spouse'}), support=0.411, ordered_statistics=[OrderedStatistic(items_base=frozenset(), items_add=frozenset({' Male', ' Married-civ-spouse'}), confidence=0.411, lift=1.0), OrderedStatistic(items_base=frozenset({' Male'}), items_add=frozenset({' Married-civ-spouse'}), confidence=0.6088888888888888, lift=1.3066285169289458), OrderedStatistic(items_base=frozenset({' Married-civ-spouse'}), items_add=frozenset({' Male'}), confidence=0.8819742489270386, lift=1.306628516928946)]),\n",
       " RelationRecord(items=frozenset({' Male', ' Private'}), support=0.444, ordered_statistics=[OrderedStatistic(items_base=frozenset(), items_add=frozenset({' Male', ' Private'}), confidence=0.444, lift=1.0), OrderedStatistic(items_base=frozenset({' Male'}), items_add=frozenset({' Private'}), confidence=0.6577777777777778, lift=0.9773815420175004), OrderedStatistic(items_base=frozenset({' Private'}), items_add=frozenset({' Male'}), confidence=0.6597325408618128, lift=0.9773815420175004)]),\n",
       " RelationRecord(items=frozenset({' Male', ' United-States'}), support=0.6, ordered_statistics=[OrderedStatistic(items_base=frozenset(), items_add=frozenset({' Male', ' United-States'}), confidence=0.6, lift=1.0), OrderedStatistic(items_base=frozenset({' Male'}), items_add=frozenset({' United-States'}), confidence=0.8888888888888888, lift=0.9887529353602768), OrderedStatistic(items_base=frozenset({' United-States'}), items_add=frozenset({' Male'}), confidence=0.6674082313681868, lift=0.9887529353602768)]),\n",
       " RelationRecord(items=frozenset({' Male', 'Faixa3'}), support=0.304, ordered_statistics=[OrderedStatistic(items_base=frozenset(), items_add=frozenset({' Male', 'Faixa3'}), confidence=0.304, lift=1.0), OrderedStatistic(items_base=frozenset({' Male'}), items_add=frozenset({'Faixa3'}), confidence=0.4503703703703703, lift=1.06470536730584), OrderedStatistic(items_base=frozenset({'Faixa3'}), items_add=frozenset({' Male'}), confidence=0.7186761229314421, lift=1.0647053673058402)]),\n",
       " RelationRecord(items=frozenset({' United-States', ' Married-civ-spouse'}), support=0.419, ordered_statistics=[OrderedStatistic(items_base=frozenset(), items_add=frozenset({' United-States', ' Married-civ-spouse'}), confidence=0.419, lift=1.0), OrderedStatistic(items_base=frozenset({' Married-civ-spouse'}), items_add=frozenset({' United-States'}), confidence=0.8991416309012875, lift=1.000157542715559), OrderedStatistic(items_base=frozenset({' United-States'}), items_add=frozenset({' Married-civ-spouse'}), confidence=0.46607341490545046, lift=1.000157542715559)]),\n",
       " RelationRecord(items=frozenset({' United-States', ' Private'}), support=0.595, ordered_statistics=[OrderedStatistic(items_base=frozenset(), items_add=frozenset({' United-States', ' Private'}), confidence=0.595, lift=1.0), OrderedStatistic(items_base=frozenset({' Private'}), items_add=frozenset({' United-States'}), confidence=0.8841010401188706, lift=0.9834271858941831), OrderedStatistic(items_base=frozenset({' United-States'}), items_add=frozenset({' Private'}), confidence=0.6618464961067853, lift=0.9834271858941831)]),\n",
       " RelationRecord(items=frozenset({' Private', 'Faixa3'}), support=0.311, ordered_statistics=[OrderedStatistic(items_base=frozenset(), items_add=frozenset({' Private', 'Faixa3'}), confidence=0.311, lift=1.0), OrderedStatistic(items_base=frozenset({' Private'}), items_add=frozenset({'Faixa3'}), confidence=0.46210995542347694, lift=1.0924585234597564), OrderedStatistic(items_base=frozenset({'Faixa3'}), items_add=frozenset({' Private'}), confidence=0.7352245862884161, lift=1.0924585234597564)]),\n",
       " RelationRecord(items=frozenset({' United-States', 'Faixa3'}), support=0.373, ordered_statistics=[OrderedStatistic(items_base=frozenset(), items_add=frozenset({' United-States', 'Faixa3'}), confidence=0.373, lift=1.0), OrderedStatistic(items_base=frozenset({' United-States'}), items_add=frozenset({'Faixa3'}), confidence=0.41490545050055616, lift=0.9808639491738916), OrderedStatistic(items_base=frozenset({'Faixa3'}), items_add=frozenset({' United-States'}), confidence=0.8817966903073287, lift=0.9808639491738917)]),\n",
       " RelationRecord(items=frozenset({' Male', ' Private', ' <=50K'}), support=0.337, ordered_statistics=[OrderedStatistic(items_base=frozenset(), items_add=frozenset({' Male', ' Private', ' <=50K'}), confidence=0.337, lift=1.0), OrderedStatistic(items_base=frozenset({' <=50K'}), items_add=frozenset({' Male', ' Private'}), confidence=0.4348387096774194, lift=0.979366463237431), OrderedStatistic(items_base=frozenset({' Male'}), items_add=frozenset({' Private', ' <=50K'}), confidence=0.49925925925925924, lift=0.9297192909855851), OrderedStatistic(items_base=frozenset({' Private'}), items_add=frozenset({' Male', ' <=50K'}), confidence=0.5007429420505201, lift=1.0095623831663711), OrderedStatistic(items_base=frozenset({' Male', ' <=50K'}), items_add=frozenset({' Private'}), confidence=0.6794354838709677, lift=1.009562383166371), OrderedStatistic(items_base=frozenset({' Private', ' <=50K'}), items_add=frozenset({' Male'}), confidence=0.62756052141527, lift=0.929719290985585), OrderedStatistic(items_base=frozenset({' Male', ' Private'}), items_add=frozenset({' <=50K'}), confidence=0.759009009009009, lift=0.9793664632374309)]),\n",
       " RelationRecord(items=frozenset({' Male', ' <=50K', ' United-States'}), support=0.433, ordered_statistics=[OrderedStatistic(items_base=frozenset(), items_add=frozenset({' Male', ' <=50K', ' United-States'}), confidence=0.433, lift=1.0), OrderedStatistic(items_base=frozenset({' <=50K'}), items_add=frozenset({' Male', ' United-States'}), confidence=0.5587096774193548, lift=0.9311827956989248), OrderedStatistic(items_base=frozenset({' Male'}), items_add=frozenset({' United-States', ' <=50K'}), confidence=0.6414814814814814, lift=0.9296833064949007), OrderedStatistic(items_base=frozenset({' United-States'}), items_add=frozenset({' Male', ' <=50K'}), confidence=0.48164627363737483, lift=0.9710610355592234), OrderedStatistic(items_base=frozenset({' Male', ' <=50K'}), items_add=frozenset({' United-States'}), confidence=0.8729838709677419, lift=0.9710610355592234), OrderedStatistic(items_base=frozenset({' United-States', ' <=50K'}), items_add=frozenset({' Male'}), confidence=0.627536231884058, lift=0.9296833064949007), OrderedStatistic(items_base=frozenset({' Male', ' United-States'}), items_add=frozenset({' <=50K'}), confidence=0.7216666666666667, lift=0.9311827956989247)]),\n",
       " RelationRecord(items=frozenset({' United-States', ' Private', ' <=50K'}), support=0.47, ordered_statistics=[OrderedStatistic(items_base=frozenset(), items_add=frozenset({' United-States', ' Private', ' <=50K'}), confidence=0.47, lift=1.0), OrderedStatistic(items_base=frozenset({' <=50K'}), items_add=frozenset({' United-States', ' Private'}), confidence=0.6064516129032258, lift=1.0192464082407158), OrderedStatistic(items_base=frozenset({' Private'}), items_add=frozenset({' United-States', ' <=50K'}), confidence=0.6983655274888558, lift=1.0121239528823998), OrderedStatistic(items_base=frozenset({' United-States'}), items_add=frozenset({' Private', ' <=50K'}), confidence=0.5228031145717463, lift=0.9735625969678702), OrderedStatistic(items_base=frozenset({' Private', ' <=50K'}), items_add=frozenset({' United-States'}), confidence=0.8752327746741153, lift=0.9735625969678702), OrderedStatistic(items_base=frozenset({' United-States', ' <=50K'}), items_add=frozenset({' Private'}), confidence=0.6811594202898551, lift=1.0121239528823998), OrderedStatistic(items_base=frozenset({' United-States', ' Private'}), items_add=frozenset({' <=50K'}), confidence=0.7899159663865546, lift=1.0192464082407156)]),\n",
       " RelationRecord(items=frozenset({' Husband', ' Married-civ-spouse', ' Male'}), support=0.408, ordered_statistics=[OrderedStatistic(items_base=frozenset(), items_add=frozenset({' Husband', ' Married-civ-spouse', ' Male'}), confidence=0.408, lift=1.0), OrderedStatistic(items_base=frozenset({' Husband'}), items_add=frozenset({' Male', ' Married-civ-spouse'}), confidence=1.0, lift=2.4330900243309004), OrderedStatistic(items_base=frozenset({' Male'}), items_add=frozenset({' Husband', ' Married-civ-spouse'}), confidence=0.6044444444444443, lift=1.4814814814814814), OrderedStatistic(items_base=frozenset({' Married-civ-spouse'}), items_add=frozenset({' Husband', ' Male'}), confidence=0.8755364806866952, lift=2.1459227467811157), OrderedStatistic(items_base=frozenset({' Husband', ' Male'}), items_add=frozenset({' Married-civ-spouse'}), confidence=1.0, lift=2.1459227467811157), OrderedStatistic(items_base=frozenset({' Husband', ' Married-civ-spouse'}), items_add=frozenset({' Male'}), confidence=1.0, lift=1.4814814814814814), OrderedStatistic(items_base=frozenset({' Male', ' Married-civ-spouse'}), items_add=frozenset({' Husband'}), confidence=0.9927007299270073, lift=2.4330900243309004)]),\n",
       " RelationRecord(items=frozenset({' Husband', ' Male', ' United-States'}), support=0.371, ordered_statistics=[OrderedStatistic(items_base=frozenset(), items_add=frozenset({' Husband', ' Male', ' United-States'}), confidence=0.371, lift=1.0), OrderedStatistic(items_base=frozenset({' Husband'}), items_add=frozenset({' Male', ' United-States'}), confidence=0.9093137254901962, lift=1.5155228758169936), OrderedStatistic(items_base=frozenset({' Male'}), items_add=frozenset({' Husband', ' United-States'}), confidence=0.5496296296296296, lift=1.4814814814814814), OrderedStatistic(items_base=frozenset({' United-States'}), items_add=frozenset({' Husband', ' Male'}), confidence=0.41268075639599555, lift=1.011472442147048), OrderedStatistic(items_base=frozenset({' Husband', ' Male'}), items_add=frozenset({' United-States'}), confidence=0.9093137254901962, lift=1.011472442147048), OrderedStatistic(items_base=frozenset({' Husband', ' United-States'}), items_add=frozenset({' Male'}), confidence=1.0, lift=1.4814814814814814), OrderedStatistic(items_base=frozenset({' Male', ' United-States'}), items_add=frozenset({' Husband'}), confidence=0.6183333333333334, lift=1.5155228758169936)]),\n",
       " RelationRecord(items=frozenset({' Husband', ' Married-civ-spouse', ' United-States'}), support=0.371, ordered_statistics=[OrderedStatistic(items_base=frozenset(), items_add=frozenset({' Husband', ' Married-civ-spouse', ' United-States'}), confidence=0.371, lift=1.0), OrderedStatistic(items_base=frozenset({' Husband'}), items_add=frozenset({' United-States', ' Married-civ-spouse'}), confidence=0.9093137254901962, lift=2.170199822172306), OrderedStatistic(items_base=frozenset({' Married-civ-spouse'}), items_add=frozenset({' Husband', ' United-States'}), confidence=0.796137339055794, lift=2.1459227467811157), OrderedStatistic(items_base=frozenset({' United-States'}), items_add=frozenset({' Husband', ' Married-civ-spouse'}), confidence=0.41268075639599555, lift=1.011472442147048), OrderedStatistic(items_base=frozenset({' Husband', ' Married-civ-spouse'}), items_add=frozenset({' United-States'}), confidence=0.9093137254901962, lift=1.011472442147048), OrderedStatistic(items_base=frozenset({' Husband', ' United-States'}), items_add=frozenset({' Married-civ-spouse'}), confidence=1.0, lift=2.1459227467811157), OrderedStatistic(items_base=frozenset({' United-States', ' Married-civ-spouse'}), items_add=frozenset({' Husband'}), confidence=0.8854415274463008, lift=2.170199822172306)]),\n",
       " RelationRecord(items=frozenset({' Male', ' Married-civ-spouse', ' United-States'}), support=0.372, ordered_statistics=[OrderedStatistic(items_base=frozenset(), items_add=frozenset({' Male', ' Married-civ-spouse', ' United-States'}), confidence=0.372, lift=1.0), OrderedStatistic(items_base=frozenset({' Male'}), items_add=frozenset({' United-States', ' Married-civ-spouse'}), confidence=0.5511111111111111, lift=1.315300981172103), OrderedStatistic(items_base=frozenset({' Married-civ-spouse'}), items_add=frozenset({' Male', ' United-States'}), confidence=0.798283261802575, lift=1.3304721030042919), OrderedStatistic(items_base=frozenset({' United-States'}), items_add=frozenset({' Male', ' Married-civ-spouse'}), confidence=0.41379310344827586, lift=1.0067958721369243), OrderedStatistic(items_base=frozenset({' Male', ' Married-civ-spouse'}), items_add=frozenset({' United-States'}), confidence=0.9051094890510949, lift=1.0067958721369241), OrderedStatistic(items_base=frozenset({' Male', ' United-States'}), items_add=frozenset({' Married-civ-spouse'}), confidence=0.62, lift=1.3304721030042919), OrderedStatistic(items_base=frozenset({' United-States', ' Married-civ-spouse'}), items_add=frozenset({' Male'}), confidence=0.8878281622911695, lift=1.3153009811721028)]),\n",
       " RelationRecord(items=frozenset({' Male', ' Private', ' United-States'}), support=0.383, ordered_statistics=[OrderedStatistic(items_base=frozenset(), items_add=frozenset({' Male', ' Private', ' United-States'}), confidence=0.383, lift=1.0), OrderedStatistic(items_base=frozenset({' Male'}), items_add=frozenset({' United-States', ' Private'}), confidence=0.5674074074074074, lift=0.9536258948023654), OrderedStatistic(items_base=frozenset({' Private'}), items_add=frozenset({' Male', ' United-States'}), confidence=0.5690936106983655, lift=0.9484893511639425), OrderedStatistic(items_base=frozenset({' United-States'}), items_add=frozenset({' Male', ' Private'}), confidence=0.42602892102335926, lift=0.9595245968994578), OrderedStatistic(items_base=frozenset({' Male', ' Private'}), items_add=frozenset({' United-States'}), confidence=0.8626126126126126, lift=0.9595245968994578), OrderedStatistic(items_base=frozenset({' Male', ' United-States'}), items_add=frozenset({' Private'}), confidence=0.6383333333333334, lift=0.9484893511639426), OrderedStatistic(items_base=frozenset({' United-States', ' Private'}), items_add=frozenset({' Male'}), confidence=0.6436974789915967, lift=0.9536258948023654)]),\n",
       " RelationRecord(items=frozenset({' Husband', ' Married-civ-spouse', ' Male', ' United-States'}), support=0.371, ordered_statistics=[OrderedStatistic(items_base=frozenset(), items_add=frozenset({' Husband', ' Married-civ-spouse', ' Male', ' United-States'}), confidence=0.371, lift=1.0), OrderedStatistic(items_base=frozenset({' Husband'}), items_add=frozenset({' Male', ' Married-civ-spouse', ' United-States'}), confidence=0.9093137254901962, lift=2.4443917351886992), OrderedStatistic(items_base=frozenset({' Male'}), items_add=frozenset({' Husband', ' Married-civ-spouse', ' United-States'}), confidence=0.5496296296296296, lift=1.4814814814814814), OrderedStatistic(items_base=frozenset({' Married-civ-spouse'}), items_add=frozenset({' Husband', ' Male', ' United-States'}), confidence=0.796137339055794, lift=2.1459227467811157), OrderedStatistic(items_base=frozenset({' United-States'}), items_add=frozenset({' Husband', ' Married-civ-spouse', ' Male'}), confidence=0.41268075639599555, lift=1.011472442147048), OrderedStatistic(items_base=frozenset({' Husband', ' Male'}), items_add=frozenset({' United-States', ' Married-civ-spouse'}), confidence=0.9093137254901962, lift=2.170199822172306), OrderedStatistic(items_base=frozenset({' Husband', ' Married-civ-spouse'}), items_add=frozenset({' Male', ' United-States'}), confidence=0.9093137254901962, lift=1.5155228758169936), OrderedStatistic(items_base=frozenset({' Husband', ' United-States'}), items_add=frozenset({' Male', ' Married-civ-spouse'}), confidence=1.0, lift=2.4330900243309004), OrderedStatistic(items_base=frozenset({' Male', ' Married-civ-spouse'}), items_add=frozenset({' Husband', ' United-States'}), confidence=0.902676399026764, lift=2.4330900243309004), OrderedStatistic(items_base=frozenset({' Male', ' United-States'}), items_add=frozenset({' Husband', ' Married-civ-spouse'}), confidence=0.6183333333333334, lift=1.5155228758169936), OrderedStatistic(items_base=frozenset({' United-States', ' Married-civ-spouse'}), items_add=frozenset({' Husband', ' Male'}), confidence=0.8854415274463008, lift=2.170199822172306), OrderedStatistic(items_base=frozenset({' Husband', ' Married-civ-spouse', ' Male'}), items_add=frozenset({' United-States'}), confidence=0.9093137254901962, lift=1.011472442147048), OrderedStatistic(items_base=frozenset({' Husband', ' Male', ' United-States'}), items_add=frozenset({' Married-civ-spouse'}), confidence=1.0, lift=2.1459227467811157), OrderedStatistic(items_base=frozenset({' Husband', ' Married-civ-spouse', ' United-States'}), items_add=frozenset({' Male'}), confidence=1.0, lift=1.4814814814814814), OrderedStatistic(items_base=frozenset({' Male', ' Married-civ-spouse', ' United-States'}), items_add=frozenset({' Husband'}), confidence=0.9973118279569892, lift=2.4443917351886992)])]"
      ]
     },
     "execution_count": 104,
     "metadata": {},
     "output_type": "execute_result"
    }
   ],
   "source": [
    "resultados"
   ]
  },
  {
   "cell_type": "code",
   "execution_count": 105,
   "id": "394206ed",
   "metadata": {},
   "outputs": [
    {
     "data": {
      "text/plain": [
       "RelationRecord(items=frozenset({' Never-married', ' <=50K'}), support=0.304, ordered_statistics=[OrderedStatistic(items_base=frozenset(), items_add=frozenset({' Never-married', ' <=50K'}), confidence=0.304, lift=1.0), OrderedStatistic(items_base=frozenset({' <=50K'}), items_add=frozenset({' Never-married'}), confidence=0.392258064516129, lift=1.237407143584003), OrderedStatistic(items_base=frozenset({' Never-married'}), items_add=frozenset({' <=50K'}), confidence=0.9589905362776024, lift=1.237407143584003)])"
      ]
     },
     "execution_count": 105,
     "metadata": {},
     "output_type": "execute_result"
    }
   ],
   "source": [
    "resultados[12]"
   ]
  }
 ],
 "metadata": {
  "kernelspec": {
   "display_name": "Python 3 (ipykernel)",
   "language": "python",
   "name": "python3"
  },
  "language_info": {
   "codemirror_mode": {
    "name": "ipython",
    "version": 3
   },
   "file_extension": ".py",
   "mimetype": "text/x-python",
   "name": "python",
   "nbconvert_exporter": "python",
   "pygments_lexer": "ipython3",
   "version": "3.9.12"
  }
 },
 "nbformat": 4,
 "nbformat_minor": 5
}
