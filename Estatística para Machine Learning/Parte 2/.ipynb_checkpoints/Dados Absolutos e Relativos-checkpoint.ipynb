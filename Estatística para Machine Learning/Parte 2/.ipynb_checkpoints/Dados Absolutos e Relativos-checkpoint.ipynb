{
 "cells": [
  {
   "cell_type": "markdown",
   "id": "59eee298",
   "metadata": {},
   "source": [
    "### Dados absolutos e Relativos"
   ]
  },
  {
   "cell_type": "markdown",
   "id": "acbfe934",
   "metadata": {},
   "source": [
    "#### Dado absoluto: Contagem, sem qualquer tipo de manipulação\n",
    "\n",
    "#### Dado relativo: Ajudam nas comparações entre as quantidades\n",
    "##### 1 podemos usar porcentagem\n",
    "##### 2 indices\n",
    "##### 3 coeficientes\n",
    "##### 4 taxas"
   ]
  },
  {
   "cell_type": "code",
   "execution_count": 1,
   "id": "08fbdec6",
   "metadata": {},
   "outputs": [],
   "source": [
    "import pandas as pd"
   ]
  },
  {
   "cell_type": "code",
   "execution_count": 2,
   "id": "96c1852e",
   "metadata": {},
   "outputs": [],
   "source": [
    "dados = {'emprego':['Administrador de Banco de Dados', 'Programador', 'Arquiteto de Redes'],\n",
    "        'nova_jersey':[97350, 82080, 112840],\n",
    "        'florida':[77140, 71540, 62310]}"
   ]
  },
  {
   "cell_type": "code",
   "execution_count": 4,
   "id": "27e3b056",
   "metadata": {},
   "outputs": [
    {
     "data": {
      "text/html": [
       "<div>\n",
       "<style scoped>\n",
       "    .dataframe tbody tr th:only-of-type {\n",
       "        vertical-align: middle;\n",
       "    }\n",
       "\n",
       "    .dataframe tbody tr th {\n",
       "        vertical-align: top;\n",
       "    }\n",
       "\n",
       "    .dataframe thead th {\n",
       "        text-align: right;\n",
       "    }\n",
       "</style>\n",
       "<table border=\"1\" class=\"dataframe\">\n",
       "  <thead>\n",
       "    <tr style=\"text-align: right;\">\n",
       "      <th></th>\n",
       "      <th>emprego</th>\n",
       "      <th>nova_jersey</th>\n",
       "      <th>florida</th>\n",
       "    </tr>\n",
       "  </thead>\n",
       "  <tbody>\n",
       "    <tr>\n",
       "      <th>0</th>\n",
       "      <td>Administrador de Banco de Dados</td>\n",
       "      <td>97350</td>\n",
       "      <td>77140</td>\n",
       "    </tr>\n",
       "    <tr>\n",
       "      <th>1</th>\n",
       "      <td>Programador</td>\n",
       "      <td>82080</td>\n",
       "      <td>71540</td>\n",
       "    </tr>\n",
       "    <tr>\n",
       "      <th>2</th>\n",
       "      <td>Arquiteto de Redes</td>\n",
       "      <td>112840</td>\n",
       "      <td>62310</td>\n",
       "    </tr>\n",
       "  </tbody>\n",
       "</table>\n",
       "</div>"
      ],
      "text/plain": [
       "                           emprego  nova_jersey  florida\n",
       "0  Administrador de Banco de Dados        97350    77140\n",
       "1                      Programador        82080    71540\n",
       "2               Arquiteto de Redes       112840    62310"
      ]
     },
     "metadata": {},
     "output_type": "display_data"
    }
   ],
   "source": [
    "dados = pd.DataFrame(dados)\n",
    "display(dados)"
   ]
  },
  {
   "cell_type": "code",
   "execution_count": null,
   "id": "c47901e3",
   "metadata": {},
   "outputs": [],
   "source": []
  },
  {
   "cell_type": "code",
   "execution_count": null,
   "id": "db06883c",
   "metadata": {},
   "outputs": [],
   "source": []
  },
  {
   "cell_type": "code",
   "execution_count": null,
   "id": "d9373310",
   "metadata": {},
   "outputs": [],
   "source": []
  },
  {
   "cell_type": "code",
   "execution_count": null,
   "id": "374f9079",
   "metadata": {},
   "outputs": [],
   "source": []
  }
 ],
 "metadata": {
  "kernelspec": {
   "display_name": "Python 3 (ipykernel)",
   "language": "python",
   "name": "python3"
  },
  "language_info": {
   "codemirror_mode": {
    "name": "ipython",
    "version": 3
   },
   "file_extension": ".py",
   "mimetype": "text/x-python",
   "name": "python",
   "nbconvert_exporter": "python",
   "pygments_lexer": "ipython3",
   "version": "3.9.12"
  }
 },
 "nbformat": 4,
 "nbformat_minor": 5
}
