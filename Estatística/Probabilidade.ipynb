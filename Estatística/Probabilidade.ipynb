{
 "cells": [
  {
   "cell_type": "markdown",
   "id": "982aeaa6",
   "metadata": {},
   "source": [
    "### Probabilidade \n",
    "\n",
    "A _probabilidade_ de um evento (n(E)) ocorrer dentro de um Espaço Amostral (n(S)) <br>\n",
    "$P = \\frac{n(E)}{n(S)} * 100 $"
   ]
  },
  {
   "cell_type": "code",
   "execution_count": 1,
   "id": "f04e5ea9",
   "metadata": {},
   "outputs": [
    {
     "data": {
      "text/plain": [
       "50.0"
      ]
     },
     "execution_count": 1,
     "metadata": {},
     "output_type": "execute_result"
    }
   ],
   "source": [
    "# Exemplo: Qual a probabilidade de tirar número par em um dado de 6 faces? \n",
    "P = ( 3 / 6 ) * 100\n",
    "P"
   ]
  },
  {
   "cell_type": "code",
   "execution_count": null,
   "id": "e7913997",
   "metadata": {},
   "outputs": [],
   "source": []
  },
  {
   "cell_type": "code",
   "execution_count": null,
   "id": "58cb1547",
   "metadata": {},
   "outputs": [],
   "source": []
  },
  {
   "cell_type": "code",
   "execution_count": null,
   "id": "f31fff67",
   "metadata": {},
   "outputs": [],
   "source": []
  },
  {
   "cell_type": "code",
   "execution_count": null,
   "id": "88c33ec7",
   "metadata": {},
   "outputs": [],
   "source": []
  }
 ],
 "metadata": {
  "kernelspec": {
   "display_name": "Python 3 (ipykernel)",
   "language": "python",
   "name": "python3"
  },
  "language_info": {
   "codemirror_mode": {
    "name": "ipython",
    "version": 3
   },
   "file_extension": ".py",
   "mimetype": "text/x-python",
   "name": "python",
   "nbconvert_exporter": "python",
   "pygments_lexer": "ipython3",
   "version": "3.9.12"
  }
 },
 "nbformat": 4,
 "nbformat_minor": 5
}
