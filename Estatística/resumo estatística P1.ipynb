{
 "cells": [
  {
   "cell_type": "markdown",
   "id": "44c4cbda",
   "metadata": {},
   "source": [
    "### Resumo estatística"
   ]
  },
  {
   "cell_type": "code",
   "execution_count": 1,
   "id": "8c90b6c8",
   "metadata": {},
   "outputs": [],
   "source": [
    "import pandas as pd\n",
    "import numpy as np"
   ]
  },
  {
   "cell_type": "code",
   "execution_count": 7,
   "id": "9005aaa7",
   "metadata": {},
   "outputs": [],
   "source": [
    "alturas = np.array([150, 151, 150, 158, 165, 172, 165, 167, 168, 169,\n",
    "                    188, 187, 206, 155, 150, 147, 158, 164, 168, 172,\n",
    "                    155, 188, 165, 167, 188, 198, 172, 188, 163, 162,\n",
    "                    148, 175, 165, 164, 188, 170, 169, 200, 198, 195])"
   ]
  },
  {
   "cell_type": "code",
   "execution_count": 8,
   "id": "93d8f763",
   "metadata": {},
   "outputs": [
    {
     "data": {
      "text/plain": [
       "(array([147, 148, 150, 151, 155, 158, 162, 163, 164, 165, 167, 168, 169,\n",
       "        170, 172, 175, 187, 188, 195, 198, 200, 206]),\n",
       " array([1, 1, 3, 1, 2, 2, 1, 1, 2, 4, 2, 2, 2, 1, 3, 1, 1, 5, 1, 2, 1, 1],\n",
       "       dtype=int64))"
      ]
     },
     "execution_count": 8,
     "metadata": {},
     "output_type": "execute_result"
    }
   ],
   "source": [
    "# mostrando a frequência absoluta dos valores inseridos dentro do array\n",
    "np.unique(alturas, return_counts=True)"
   ]
  },
  {
   "cell_type": "code",
   "execution_count": 11,
   "id": "af6eeceb",
   "metadata": {},
   "outputs": [],
   "source": [
    "# Distribuição de Frequência\n",
    "\n",
    "dicionario = {'inferior':[150, 154, 158, 162, 166, 170],\n",
    "             'superior':[154, 158, 162, 166, 170, 174],\n",
    "             'fi':[5, 9, 11, 7, 5, 3]}"
   ]
  },
  {
   "cell_type": "code",
   "execution_count": 17,
   "id": "5f0d85b8",
   "metadata": {},
   "outputs": [
    {
     "data": {
      "text/html": [
       "<div>\n",
       "<style scoped>\n",
       "    .dataframe tbody tr th:only-of-type {\n",
       "        vertical-align: middle;\n",
       "    }\n",
       "\n",
       "    .dataframe tbody tr th {\n",
       "        vertical-align: top;\n",
       "    }\n",
       "\n",
       "    .dataframe thead th {\n",
       "        text-align: right;\n",
       "    }\n",
       "</style>\n",
       "<table border=\"1\" class=\"dataframe\">\n",
       "  <thead>\n",
       "    <tr style=\"text-align: right;\">\n",
       "      <th></th>\n",
       "      <th>inferior</th>\n",
       "      <th>superior</th>\n",
       "      <th>fi</th>\n",
       "      <th>xi</th>\n",
       "      <th>fi.xi</th>\n",
       "      <th>Fi</th>\n",
       "    </tr>\n",
       "  </thead>\n",
       "  <tbody>\n",
       "    <tr>\n",
       "      <th>0</th>\n",
       "      <td>150</td>\n",
       "      <td>154</td>\n",
       "      <td>5</td>\n",
       "      <td>152.0</td>\n",
       "      <td>760.0</td>\n",
       "      <td>5.0</td>\n",
       "    </tr>\n",
       "    <tr>\n",
       "      <th>1</th>\n",
       "      <td>154</td>\n",
       "      <td>158</td>\n",
       "      <td>9</td>\n",
       "      <td>156.0</td>\n",
       "      <td>1404.0</td>\n",
       "      <td>14.0</td>\n",
       "    </tr>\n",
       "    <tr>\n",
       "      <th>2</th>\n",
       "      <td>158</td>\n",
       "      <td>162</td>\n",
       "      <td>11</td>\n",
       "      <td>160.0</td>\n",
       "      <td>1760.0</td>\n",
       "      <td>25.0</td>\n",
       "    </tr>\n",
       "    <tr>\n",
       "      <th>3</th>\n",
       "      <td>162</td>\n",
       "      <td>166</td>\n",
       "      <td>7</td>\n",
       "      <td>164.0</td>\n",
       "      <td>1148.0</td>\n",
       "      <td>32.0</td>\n",
       "    </tr>\n",
       "    <tr>\n",
       "      <th>4</th>\n",
       "      <td>166</td>\n",
       "      <td>170</td>\n",
       "      <td>5</td>\n",
       "      <td>168.0</td>\n",
       "      <td>840.0</td>\n",
       "      <td>37.0</td>\n",
       "    </tr>\n",
       "    <tr>\n",
       "      <th>5</th>\n",
       "      <td>170</td>\n",
       "      <td>174</td>\n",
       "      <td>3</td>\n",
       "      <td>172.0</td>\n",
       "      <td>516.0</td>\n",
       "      <td>40.0</td>\n",
       "    </tr>\n",
       "  </tbody>\n",
       "</table>\n",
       "</div>"
      ],
      "text/plain": [
       "   inferior  superior  fi     xi   fi.xi    Fi\n",
       "0       150       154   5  152.0   760.0   5.0\n",
       "1       154       158   9  156.0  1404.0  14.0\n",
       "2       158       162  11  160.0  1760.0  25.0\n",
       "3       162       166   7  164.0  1148.0  32.0\n",
       "4       166       170   5  168.0   840.0  37.0\n",
       "5       170       174   3  172.0   516.0  40.0"
      ]
     },
     "execution_count": 17,
     "metadata": {},
     "output_type": "execute_result"
    }
   ],
   "source": [
    "alturas2 = pd.DataFrame(dicionario)\n",
    "alturas2\n",
    "\n",
    "# achando o valor médio dos intervalos\n",
    "alturas2['xi'] = (alturas2['superior'] + alturas2['inferior']) / 2\n",
    "\n",
    "# calculando o valor total de pessoas por intervalo\n",
    "alturas2['fi.xi'] = (alturas2['fi'] * alturas2['xi'])\n",
    "\n",
    "# Calculando a Fi (Frequência Acumulada)\n",
    "alturas2['Fi'] = 0\n",
    "\n",
    "freq_acumulada = [ ]\n",
    "somatorio = 0\n",
    "for linha in alturas2.iterrows():\n",
    "    # print(linha[1][2]) # realizado para fazer o somatório\n",
    "    somatorio += linha[1][2]\n",
    "    freq_acumulada.append(somatorio)\n",
    "    \n",
    "alturas2['Fi'] = freq_acumulada\n",
    "alturas2"
   ]
  },
  {
   "cell_type": "code",
   "execution_count": 18,
   "id": "995e2b88",
   "metadata": {},
   "outputs": [
    {
     "data": {
      "text/plain": [
       "(40, 6428.0)"
      ]
     },
     "execution_count": 18,
     "metadata": {},
     "output_type": "execute_result"
    }
   ],
   "source": [
    "# somando os valores das colunas Fi e fi.xi\n",
    "alturas2['fi'].sum(), alturas2['fi.xi'].sum()"
   ]
  },
  {
   "cell_type": "code",
   "execution_count": 22,
   "id": "beab4747",
   "metadata": {},
   "outputs": [
    {
     "data": {
      "text/plain": [
       "160.7"
      ]
     },
     "execution_count": 22,
     "metadata": {},
     "output_type": "execute_result"
    }
   ],
   "source": [
    "media = (alturas2['fi.xi'].sum() / alturas2['fi'].sum())\n",
    "media"
   ]
  },
  {
   "cell_type": "code",
   "execution_count": 24,
   "id": "6ba5dbe6",
   "metadata": {},
   "outputs": [
    {
     "data": {
      "text/plain": [
       "11"
      ]
     },
     "execution_count": 24,
     "metadata": {},
     "output_type": "execute_result"
    }
   ],
   "source": [
    "# A moda é calculada sabendo-se o valor que mais se repete\n",
    "alturas2['fi'].max() # portando este intervalo 158 |- 162 é o que mais se repete"
   ]
  },
  {
   "cell_type": "markdown",
   "id": "f6cec18f",
   "metadata": {},
   "source": [
    "#### Medidas de Tendência Central"
   ]
  },
  {
   "cell_type": "code",
   "execution_count": null,
   "id": "2d06f0e7",
   "metadata": {},
   "outputs": [],
   "source": []
  },
  {
   "cell_type": "code",
   "execution_count": null,
   "id": "8bee9217",
   "metadata": {},
   "outputs": [],
   "source": []
  },
  {
   "cell_type": "code",
   "execution_count": null,
   "id": "30860d18",
   "metadata": {},
   "outputs": [],
   "source": []
  },
  {
   "cell_type": "code",
   "execution_count": null,
   "id": "dcb29070",
   "metadata": {},
   "outputs": [],
   "source": []
  },
  {
   "cell_type": "markdown",
   "id": "3f6629dd",
   "metadata": {},
   "source": [
    "#### Medidas de Dispersão"
   ]
  },
  {
   "cell_type": "code",
   "execution_count": null,
   "id": "733a4a82",
   "metadata": {},
   "outputs": [],
   "source": []
  },
  {
   "cell_type": "code",
   "execution_count": null,
   "id": "a04d43fc",
   "metadata": {},
   "outputs": [],
   "source": []
  },
  {
   "cell_type": "code",
   "execution_count": null,
   "id": "a7edb107",
   "metadata": {},
   "outputs": [],
   "source": []
  },
  {
   "cell_type": "code",
   "execution_count": null,
   "id": "0a392dd3",
   "metadata": {},
   "outputs": [],
   "source": []
  },
  {
   "cell_type": "code",
   "execution_count": null,
   "id": "2144d131",
   "metadata": {},
   "outputs": [],
   "source": []
  },
  {
   "cell_type": "code",
   "execution_count": null,
   "id": "84ad8710",
   "metadata": {},
   "outputs": [],
   "source": []
  }
 ],
 "metadata": {
  "kernelspec": {
   "display_name": "Python 3 (ipykernel)",
   "language": "python",
   "name": "python3"
  },
  "language_info": {
   "codemirror_mode": {
    "name": "ipython",
    "version": 3
   },
   "file_extension": ".py",
   "mimetype": "text/x-python",
   "name": "python",
   "nbconvert_exporter": "python",
   "pygments_lexer": "ipython3",
   "version": "3.9.12"
  }
 },
 "nbformat": 4,
 "nbformat_minor": 5
}
